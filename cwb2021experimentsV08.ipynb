{
  "nbformat": 4,
  "nbformat_minor": 0,
  "metadata": {
    "colab": {
      "provenance": [],
      "collapsed_sections": [],
      "include_colab_link": true
    },
    "kernelspec": {
      "name": "python3",
      "display_name": "Python 3"
    },
    "language_info": {
      "name": "python"
    }
  },
  "cells": [
    {
      "cell_type": "markdown",
      "metadata": {
        "id": "view-in-github",
        "colab_type": "text"
      },
      "source": [
        "<a href=\"https://colab.research.google.com/github/iued-uni-heidelberg/corpustools/blob/main/cwb2021experimentsV08.ipynb\" target=\"_parent\"><img src=\"https://colab.research.google.com/assets/colab-badge.svg\" alt=\"Open In Colab\"/></a>"
      ]
    },
    {
      "cell_type": "markdown",
      "source": [
        "# Working with CWB on Colab\n",
        "Author: Bogdan Babych, IÜD, Heidelberg University\n",
        "\n",
        "Modifying CWB installations and packages to work with colab environment\n",
        "\n",
        "### Downloading packages and data"
      ],
      "metadata": {
        "id": "3KsREtgj4KGB"
      }
    },
    {
      "cell_type": "code",
      "execution_count": null,
      "metadata": {
        "id": "zAn_DUV0xv3Y"
      },
      "outputs": [],
      "source": [
        "!wget https://heibox.uni-heidelberg.de/f/7f1e8929352b4cf4b13a/?dl=1"
      ]
    },
    {
      "cell_type": "code",
      "source": [
        "!mv index.html?dl=1 cwb-3.4.22-source.tar.gz"
      ],
      "metadata": {
        "id": "RISPCuS9ywar"
      },
      "execution_count": null,
      "outputs": []
    },
    {
      "cell_type": "code",
      "source": [
        "!tar xvfz cwb-3.4.22-source.tar.gz"
      ],
      "metadata": {
        "id": "-9q2g4tHy526"
      },
      "execution_count": null,
      "outputs": []
    },
    {
      "cell_type": "markdown",
      "source": [
        "### Installing the parser generator 'bison'"
      ],
      "metadata": {
        "id": "LTjz5aJb_Kxs"
      }
    },
    {
      "cell_type": "code",
      "source": [
        "!apt-get install flex bison"
      ],
      "metadata": {
        "id": "xMCPjvHC2e0_"
      },
      "execution_count": null,
      "outputs": []
    },
    {
      "cell_type": "markdown",
      "source": [
        "### Replacing the configuration file\n",
        "Using correct environment and 'standard' location for installation (otherwise python bindings do not work)"
      ],
      "metadata": {
        "id": "JtRYAaTI_QVJ"
      }
    },
    {
      "cell_type": "code",
      "source": [
        "!wget https://heibox.uni-heidelberg.de/f/67bb38a210064bc5961e/?dl=1\n",
        "!mv /content/cwb-3.4.22/config.mk /content/cwb-3.4.22/config.mk.old.01\n",
        "!mv index.html?dl=1 /content/cwb-3.4.22/config.mk"
      ],
      "metadata": {
        "id": "YF7LROot_cOr"
      },
      "execution_count": null,
      "outputs": []
    },
    {
      "cell_type": "code",
      "source": [
        "# alternative: editing the file at the line numbers\n",
        "!awk '{ if (NR == 42) print \"PLATFORM=linux-64\"; else print $0}' /content/cwb-3.4.22/config.mk > /content/cwb-3.4.22/config.mk.TMP\n",
        "!awk '{ if (NR == 63) print \"SITE=standard\"; else print $0}' /content/cwb-3.4.22/config.mk.TMP > /content/cwb-3.4.22/config.mk"
      ],
      "metadata": {
        "id": "1b-ylUzM_gTc"
      },
      "execution_count": null,
      "outputs": []
    },
    {
      "cell_type": "markdown",
      "source": [
        "### Changing into installation directory and running installation scripts"
      ],
      "metadata": {
        "id": "6iM4NBfQBdyw"
      }
    },
    {
      "cell_type": "code",
      "source": [
        "%cd /content/cwb-3.4.22/"
      ],
      "metadata": {
        "id": "ppn0btNhzB1O"
      },
      "execution_count": null,
      "outputs": []
    },
    {
      "cell_type": "code",
      "source": [
        "!pwd"
      ],
      "metadata": {
        "id": "7zyvBPLDzFT8"
      },
      "execution_count": null,
      "outputs": []
    },
    {
      "cell_type": "markdown",
      "source": [
        "(this will be the default register directory for the 'standard' CWB installation):"
      ],
      "metadata": {
        "id": "TJljSy_20JSX"
      }
    },
    {
      "cell_type": "code",
      "source": [
        "!mkdir -p /usr/local/share/cwb/registry/"
      ],
      "metadata": {
        "id": "voZ90vnn7WTi"
      },
      "execution_count": null,
      "outputs": []
    },
    {
      "cell_type": "code",
      "source": [
        "!sudo ./install-scripts/config-basic\n",
        "!sudo ./install-scripts/install-linux"
      ],
      "metadata": {
        "id": "8kt7QWlDzK7M"
      },
      "execution_count": null,
      "outputs": []
    },
    {
      "cell_type": "code",
      "source": [
        "%cd /content/"
      ],
      "metadata": {
        "id": "CVuSe3hQ_BDj",
        "colab": {
          "base_uri": "https://localhost:8080/"
        },
        "outputId": "e31ed426-c3ad-44e4-8d4e-cd9e9f8b97ac"
      },
      "execution_count": null,
      "outputs": [
        {
          "output_type": "stream",
          "name": "stdout",
          "text": [
            "/content\n"
          ]
        }
      ]
    },
    {
      "cell_type": "markdown",
      "source": [
        "### Downloading and relocating the register of a sample corpus\n",
        "The register is placed into the standard cwb location"
      ],
      "metadata": {
        "id": "rNjdhnI0By8g"
      }
    },
    {
      "cell_type": "code",
      "source": [
        "!wget https://heibox.uni-heidelberg.de/f/dd3538603aa84dd09a76/?dl=1\n",
        "!mv index.html?dl=1 Dickens-1.0.tar.gz\n",
        "!tar xvzf Dickens-1.0.tar.gz"
      ],
      "metadata": {
        "id": "oGgO8XnS8mp1"
      },
      "execution_count": null,
      "outputs": []
    },
    {
      "cell_type": "code",
      "source": [
        "!cp /content/Dickens-1.0/registry/dickens /content/Dickens-1.0/registry/dickens.old.01\n",
        "!awk '{ if (NR == 10) print \"HOME /content/Dickens-1.0/data\"; else print $0}' /content/Dickens-1.0/registry/dickens > /content/Dickens-1.0/registry/dickens.TMP\n",
        "!awk '{ if (NR == 12) print \"INFO /content/Dickens-1.0/data/.info\"; else print $0}' /content/Dickens-1.0/registry/dickens.TMP > /content/Dickens-1.0/registry/dickens"
      ],
      "metadata": {
        "id": "0UkrOMJw8ubE"
      },
      "execution_count": null,
      "outputs": []
    },
    {
      "cell_type": "code",
      "source": [
        "!mv /content/Dickens-1.0/registry/dickens /usr/local/share/cwb/registry"
      ],
      "metadata": {
        "id": "1zXK1Z9v8zob"
      },
      "execution_count": null,
      "outputs": []
    },
    {
      "cell_type": "markdown",
      "source": [
        "### Updating path (only needed if installing into a non-standard location\n"
      ],
      "metadata": {
        "id": "6RlHVMGcCJFk"
      }
    },
    {
      "cell_type": "code",
      "source": [
        "# !echo $PATH"
      ],
      "metadata": {
        "id": "Zlu6uAee9eJ1"
      },
      "execution_count": null,
      "outputs": []
    },
    {
      "cell_type": "code",
      "source": [
        "# %env PATH=/usr/local/cwb-3.4.22/bin:/usr/local/nvidia/bin:/usr/local/cuda/bin:/usr/local/sbin:/usr/local/bin:/usr/sbin:/usr/bin:/sbin:/bin:/tools/node/bin:/tools/google-cloud-sdk/bin:/opt/bin"
      ],
      "metadata": {
        "id": "nsUAyqA79-PO"
      },
      "execution_count": null,
      "outputs": []
    },
    {
      "cell_type": "code",
      "source": [
        "# !echo $PATH"
      ],
      "metadata": {
        "id": "XwVe-fIX_BCO"
      },
      "execution_count": null,
      "outputs": []
    },
    {
      "cell_type": "code",
      "source": [
        "# %env PATH=/usr/local/nvidia/bin:/usr/local/cuda/bin:/usr/local/sbin:/usr/local/bin:/usr/sbin:/usr/bin:/sbin:/bin:/tools/node/bin:/tools/google-cloud-sdk/bin:/opt/bin"
      ],
      "metadata": {
        "id": "6TBYYIgvkcVc"
      },
      "execution_count": null,
      "outputs": []
    },
    {
      "cell_type": "code",
      "source": [
        "!pwd"
      ],
      "metadata": {
        "id": "-SegqQOf_a4H",
        "colab": {
          "base_uri": "https://localhost:8080/"
        },
        "outputId": "b559bd4e-9845-4085-ff65-aedad2da548a"
      },
      "execution_count": null,
      "outputs": [
        {
          "output_type": "stream",
          "name": "stdout",
          "text": [
            "/content\n"
          ]
        }
      ]
    },
    {
      "cell_type": "markdown",
      "source": [
        "### Testing interactive Corpus Query Processor (CQP)\n"
      ],
      "metadata": {
        "id": "E4GIzdN_Di-v"
      }
    },
    {
      "cell_type": "code",
      "source": [
        "# try these commands in the interactive prompt (just copy and paste them):\n",
        "# DICKENS;\n",
        "# \"question\";\n",
        "# q\n",
        "# exit;\n",
        "!cqp -e"
      ],
      "metadata": {
        "id": "OmUjHSSfz41T"
      },
      "execution_count": null,
      "outputs": []
    },
    {
      "cell_type": "code",
      "source": [
        "!cwb-describe-corpus -h"
      ],
      "metadata": {
        "id": "Wbbdaxst_020"
      },
      "execution_count": null,
      "outputs": []
    },
    {
      "cell_type": "code",
      "source": [
        "!cwb-describe-corpus -s dickens"
      ],
      "metadata": {
        "id": "iCmNuT3A0XPn"
      },
      "execution_count": null,
      "outputs": []
    },
    {
      "cell_type": "code",
      "source": [
        "# !cwb-describe-corpus -s -r registry dickens"
      ],
      "metadata": {
        "id": "L27_yMizBI_k"
      },
      "execution_count": null,
      "outputs": []
    },
    {
      "cell_type": "code",
      "source": [
        "%cd /content/"
      ],
      "metadata": {
        "id": "HGZpuvwZFLVf",
        "colab": {
          "base_uri": "https://localhost:8080/"
        },
        "outputId": "6bdb43c4-df97-4358-ab04-80d00fa08e6e"
      },
      "execution_count": null,
      "outputs": [
        {
          "output_type": "stream",
          "name": "stdout",
          "text": [
            "/content\n"
          ]
        }
      ]
    },
    {
      "cell_type": "markdown",
      "source": [
        "## Installing python interface to CWB \n",
        "cwb-ccc"
      ],
      "metadata": {
        "id": "f6nQadtzEgp8"
      }
    },
    {
      "cell_type": "code",
      "source": [
        "# !python -m pip install cwb-ccc\n",
        "!python -m pip install cwb-ccc"
      ],
      "metadata": {
        "id": "56JFOM66E1Kt"
      },
      "execution_count": null,
      "outputs": []
    },
    {
      "cell_type": "markdown",
      "source": [
        "## pandas versions are incompatible\n",
        "ERROR: pip's dependency resolver does not currently take into account all the packages that are installed. This behaviour is the source of the following dependency conflicts.\n",
        "\n",
        "google-colab 1.0.0 requires pandas~=1.1.0; python_version >= \"3.0\", but you have pandas 1.3.5 which is incompatible.\n",
        "\n",
        "Successfully installed association-measures-0.2.0 cwb-ccc-0.10.1 pandas-1.3.5 pyyaml-6.0 unidecode-1.3.2\n",
        "\n",
        "- we go for a compromise, which works for both so far..."
      ],
      "metadata": {
        "id": "cUBCq5DtEtu_"
      }
    },
    {
      "cell_type": "code",
      "source": [
        "!pip show pandas"
      ],
      "metadata": {
        "id": "_GKMon8G9xSo"
      },
      "execution_count": null,
      "outputs": []
    },
    {
      "cell_type": "code",
      "source": [
        "!pip install pandas==1.1.5\n",
        "# click [restart runtime] button!"
      ],
      "metadata": {
        "id": "UI2vEM5OCI4r",
        "colab": {
          "base_uri": "https://localhost:8080/",
          "height": 370
        },
        "outputId": "9b1a6ec9-99e6-4676-d970-fb8e297d6462"
      },
      "execution_count": null,
      "outputs": [
        {
          "output_type": "stream",
          "name": "stdout",
          "text": [
            "Collecting pandas==1.1.5\n",
            "  Downloading pandas-1.1.5-cp37-cp37m-manylinux1_x86_64.whl (9.5 MB)\n",
            "\u001b[K     |████████████████████████████████| 9.5 MB 6.4 MB/s \n",
            "\u001b[?25hRequirement already satisfied: numpy>=1.15.4 in /usr/local/lib/python3.7/dist-packages (from pandas==1.1.5) (1.19.5)\n",
            "Requirement already satisfied: python-dateutil>=2.7.3 in /usr/local/lib/python3.7/dist-packages (from pandas==1.1.5) (2.8.2)\n",
            "Requirement already satisfied: pytz>=2017.2 in /usr/local/lib/python3.7/dist-packages (from pandas==1.1.5) (2018.9)\n",
            "Requirement already satisfied: six>=1.5 in /usr/local/lib/python3.7/dist-packages (from python-dateutil>=2.7.3->pandas==1.1.5) (1.15.0)\n",
            "Installing collected packages: pandas\n",
            "  Attempting uninstall: pandas\n",
            "    Found existing installation: pandas 1.3.5\n",
            "    Uninstalling pandas-1.3.5:\n",
            "      Successfully uninstalled pandas-1.3.5\n",
            "\u001b[31mERROR: pip's dependency resolver does not currently take into account all the packages that are installed. This behaviour is the source of the following dependency conflicts.\n",
            "cwb-ccc 0.10.1 requires pandas>=1.2.0, but you have pandas 1.1.5 which is incompatible.\u001b[0m\n",
            "Successfully installed pandas-1.1.5\n"
          ]
        },
        {
          "output_type": "display_data",
          "data": {
            "application/vnd.colab-display-data+json": {
              "pip_warning": {
                "packages": [
                  "pandas"
                ]
              }
            }
          },
          "metadata": {}
        }
      ]
    },
    {
      "cell_type": "markdown",
      "source": [
        "### Experiments with cwb-ccc \n",
        "From the webpage \n"
      ],
      "metadata": {
        "id": "6lulNEGl9zlR"
      }
    },
    {
      "cell_type": "code",
      "source": [
        "from ccc import Corpora\n",
        "corpora = Corpora(registry_path=\"/usr/local/share/cwb/registry/\")\n",
        "# corpora = Corpora(\"/content/Dickens-1.0/registry\")\n",
        "print(corpora)\n",
        "corpora.show()  # returns a DataFrame"
      ],
      "metadata": {
        "id": "_ls1FlVLl-U9"
      },
      "execution_count": null,
      "outputs": []
    },
    {
      "cell_type": "code",
      "source": [
        "corpus = corpora.activate(corpus_name=\"DICKENS\")"
      ],
      "metadata": {
        "id": "CE4ETsZY05pa"
      },
      "execution_count": null,
      "outputs": []
    },
    {
      "cell_type": "code",
      "source": [
        "from ccc import Corpus\n",
        "corpus = Corpus(\n",
        "  corpus_name=\"DICKENS\",\n",
        "  registry_path=\"/usr/local/share/cwb/registry/\"\n",
        ")"
      ],
      "metadata": {
        "id": "5SvuTHWO2biQ"
      },
      "execution_count": null,
      "outputs": []
    },
    {
      "cell_type": "code",
      "source": [
        "query = r'[word=\"[A-Z0-9][A-Z0-9][A-Z0-9]+\"]'\n",
        "dump = corpus.query(query)"
      ],
      "metadata": {
        "id": "bG0YV4eJ2nxd"
      },
      "execution_count": null,
      "outputs": []
    },
    {
      "cell_type": "code",
      "source": [
        "dump.df"
      ],
      "metadata": {
        "id": "SEduaqw7HJop"
      },
      "execution_count": null,
      "outputs": []
    },
    {
      "cell_type": "code",
      "source": [
        "corpus.attributes_available"
      ],
      "metadata": {
        "id": "Huvnn6YNCnJK"
      },
      "execution_count": null,
      "outputs": []
    },
    {
      "cell_type": "code",
      "source": [
        "query = r'\"question\"'\n",
        "dump = corpus.query(query)"
      ],
      "metadata": {
        "id": "aXdYciaqDRZU"
      },
      "execution_count": null,
      "outputs": []
    },
    {
      "cell_type": "code",
      "source": [
        "dump.df"
      ],
      "metadata": {
        "id": "TdAvtzWAEBJG"
      },
      "execution_count": null,
      "outputs": []
    },
    {
      "cell_type": "code",
      "source": [
        "dump = corpus.query(\n",
        "  cqp_query=query,\n",
        "  context=20,\n",
        "  context_break='s'\n",
        ")"
      ],
      "metadata": {
        "id": "eEP_kTV5Elik"
      },
      "execution_count": null,
      "outputs": []
    },
    {
      "cell_type": "code",
      "source": [
        "dump.df"
      ],
      "metadata": {
        "id": "aXiyEK_wFrIe"
      },
      "execution_count": null,
      "outputs": []
    },
    {
      "cell_type": "code",
      "source": [
        "dump.set_context(\n",
        "    context_left=5,\n",
        "    context_right=10,\n",
        "    context_break='s'\n",
        ")"
      ],
      "metadata": {
        "id": "vnRPzZXwGtxb"
      },
      "execution_count": null,
      "outputs": []
    },
    {
      "cell_type": "code",
      "source": [
        "dump.df"
      ],
      "metadata": {
        "id": "wav8P_RPGwZ2"
      },
      "execution_count": null,
      "outputs": []
    },
    {
      "cell_type": "code",
      "source": [
        "dump.breakdown()"
      ],
      "metadata": {
        "id": "9y-q9SdRGz05"
      },
      "execution_count": null,
      "outputs": []
    },
    {
      "cell_type": "code",
      "source": [
        "dump.concordance()"
      ],
      "metadata": {
        "id": "Ds3ZK761L3iY"
      },
      "execution_count": null,
      "outputs": []
    },
    {
      "cell_type": "code",
      "source": [
        "dump.concordance(p_show=[\"word\", \"lemma\"], s_show=[\"text_id\"])"
      ],
      "metadata": {
        "id": "ikj5RzFeMqWt"
      },
      "execution_count": null,
      "outputs": []
    },
    {
      "cell_type": "code",
      "source": [
        "dump.concordance(form=\"kwic\")"
      ],
      "metadata": {
        "id": "fESAxu9uM792"
      },
      "execution_count": null,
      "outputs": []
    },
    {
      "cell_type": "code",
      "source": [
        "lines = dump.concordance(\n",
        "    p_show=['word', 'pos', 'lemma'],\n",
        "    form='dataframe'\n",
        ")"
      ],
      "metadata": {
        "id": "BG0UltJXNFLD"
      },
      "execution_count": null,
      "outputs": []
    },
    {
      "cell_type": "code",
      "source": [
        "lines.iloc[0]['dataframe']"
      ],
      "metadata": {
        "id": "sCI08tY8T94n"
      },
      "execution_count": null,
      "outputs": []
    },
    {
      "cell_type": "code",
      "source": [
        "type(lines.iloc[2]['dataframe'])"
      ],
      "metadata": {
        "id": "kShVkg2CfgiB"
      },
      "execution_count": null,
      "outputs": []
    },
    {
      "cell_type": "code",
      "source": [
        "lines = dump.concordance(\n",
        "    p_show=['word', 'pos', 'lemma'],\n",
        "    form='dict'\n",
        ")"
      ],
      "metadata": {
        "id": "Btv0RCr-iMq-"
      },
      "execution_count": null,
      "outputs": []
    },
    {
      "cell_type": "code",
      "source": [
        "lines.iloc[0]['dict']"
      ],
      "metadata": {
        "id": "mqjx_VY1qsms"
      },
      "execution_count": null,
      "outputs": []
    },
    {
      "cell_type": "code",
      "source": [
        "lines = dump.concordance(\n",
        "    p_show=['word', 'pos', 'lemma'],\n",
        "    form='slots'\n",
        ")"
      ],
      "metadata": {
        "id": "A0CF_QFyrCoh"
      },
      "execution_count": null,
      "outputs": []
    },
    {
      "cell_type": "code",
      "source": [
        "lines.iloc[0]"
      ],
      "metadata": {
        "id": "h9RjA-pGHuZF",
        "colab": {
          "base_uri": "https://localhost:8080/"
        },
        "outputId": "922439dd-dab9-4a86-da20-ff15b8e2c7df"
      },
      "execution_count": null,
      "outputs": [
        {
          "output_type": "execute_result",
          "data": {
            "text/plain": [
              "word                     Scrooge asked the question , because he did n'...\n",
              "pos                             NN VBD DT NN , IN PP VBD RB VB IN DT NN RB\n",
              "lemma                    Scrooge ask the question , because he do not k...\n",
              "match..matchend_word                                              question\n",
              "match..matchend_pos                                                     NN\n",
              "match..matchend_lemma                                             question\n",
              "Name: (5614, 5614), dtype: object"
            ]
          },
          "metadata": {},
          "execution_count": 22
        }
      ]
    },
    {
      "cell_type": "code",
      "source": [
        "lines.iloc[0]['lemma']"
      ],
      "metadata": {
        "id": "pWWpjMrnrNdj",
        "colab": {
          "base_uri": "https://localhost:8080/",
          "height": 37
        },
        "outputId": "c3867db9-e7af-45ef-c052-4c3230555846"
      },
      "execution_count": null,
      "outputs": [
        {
          "output_type": "execute_result",
          "data": {
            "application/vnd.google.colaboratory.intrinsic+json": {
              "type": "string"
            },
            "text/plain": [
              "'Scrooge ask the question , because he do not know whether a ghost so'"
            ]
          },
          "metadata": {},
          "execution_count": 23
        }
      ]
    },
    {
      "cell_type": "code",
      "source": [
        "dump = corpus.query(\n",
        "  cqp_query=r'@1[pos=\"D.*\"] @2[pos=\"NN\"] @3[word=\"question\"]',\n",
        "  context=None, \n",
        "  context_break='s', \n",
        "  match_strategy='longest'\n",
        ")\n",
        "lines = dump.concordance(form='dataframe')"
      ],
      "metadata": {
        "id": "aRnleZo6rvgN"
      },
      "execution_count": null,
      "outputs": []
    },
    {
      "cell_type": "code",
      "source": [
        "lines.iloc[1]['dataframe']"
      ],
      "metadata": {
        "id": "MnqLwcSHtIvK"
      },
      "execution_count": null,
      "outputs": []
    },
    {
      "cell_type": "code",
      "source": [
        "lines = dump.concordance(form='dict')"
      ],
      "metadata": {
        "id": "7zLLZRAGts3t"
      },
      "execution_count": null,
      "outputs": []
    },
    {
      "cell_type": "code",
      "source": [
        "lines.iloc[1]['dict']"
      ],
      "metadata": {
        "id": "J--lQCDktzDR"
      },
      "execution_count": null,
      "outputs": []
    },
    {
      "cell_type": "code",
      "source": [
        "lines = dump.concordance(\n",
        "  form='slots', \n",
        "  p_show=['word', 'lemma'],\n",
        "  slots={\"article\": [1], \"np\": [2, 3]}\n",
        ")"
      ],
      "metadata": {
        "id": "TEqoBL7KuA0Q"
      },
      "execution_count": null,
      "outputs": []
    },
    {
      "cell_type": "code",
      "source": [
        "lines"
      ],
      "metadata": {
        "id": "K6agGHvkupFa"
      },
      "execution_count": null,
      "outputs": []
    },
    {
      "cell_type": "code",
      "source": [
        "dump.correct_anchors({2: -2, 3: +1})\n",
        "lines = dump.concordance(\n",
        "  form='slots',\n",
        "  slots={\"art\": [1],\n",
        "  \"np\": [2, 3]}\n",
        ")"
      ],
      "metadata": {
        "id": "GxMthnEXu4RS"
      },
      "execution_count": null,
      "outputs": []
    },
    {
      "cell_type": "code",
      "source": [
        "lines"
      ],
      "metadata": {
        "id": "n5Hky4vSvZ6E"
      },
      "execution_count": null,
      "outputs": []
    },
    {
      "cell_type": "code",
      "source": [
        "dump = corpus.query(\n",
        "    '[lemma=\"question\"]', \n",
        "    context=10, \n",
        "    context_break='s'\n",
        ")"
      ],
      "metadata": {
        "id": "L_cz5_mny4XZ"
      },
      "execution_count": null,
      "outputs": []
    },
    {
      "cell_type": "code",
      "source": [
        "dump.collocates(order='log_likelihood')"
      ],
      "metadata": {
        "id": "RLk9NlIrzS1m"
      },
      "execution_count": null,
      "outputs": []
    },
    {
      "cell_type": "code",
      "source": [
        "dump = corpus.query(\n",
        "    '[lemma=\"answer\"]', \n",
        "    context=10, \n",
        "    context_break='s'\n",
        ")"
      ],
      "metadata": {
        "id": "Mx5JnkG40YfS"
      },
      "execution_count": null,
      "outputs": []
    },
    {
      "cell_type": "code",
      "source": [
        "dump.collocates(p_query=['lemma'], order='conservative_log_ratio')\n",
        "# ['lemma', 'pos']"
      ],
      "metadata": {
        "id": "ZvbF3NMgz-ma"
      },
      "execution_count": null,
      "outputs": []
    },
    {
      "cell_type": "code",
      "source": [
        "corpus.query('[lemma=\"question\" & pos=\"N.*\"]').breakdown()"
      ],
      "metadata": {
        "id": "DSj0WaM6zhmp"
      },
      "execution_count": null,
      "outputs": []
    },
    {
      "cell_type": "code",
      "source": [
        "# https://pypi.org/project/cwb-ccc/#anchored-queries"
      ],
      "metadata": {
        "id": "d3vWtAL-v0Y4"
      },
      "execution_count": null,
      "outputs": []
    },
    {
      "cell_type": "code",
      "source": [
        "%tb"
      ],
      "metadata": {
        "colab": {
          "base_uri": "https://localhost:8080/"
        },
        "id": "u9c1bxAHseaX",
        "outputId": "9c6a639d-33a2-4f67-f4e9-c27f67db491c"
      },
      "execution_count": null,
      "outputs": [
        {
          "output_type": "stream",
          "name": "stderr",
          "text": [
            "No traceback available to show.\n"
          ]
        }
      ]
    },
    {
      "cell_type": "code",
      "source": [
        "# !export CWB_DIR=/usr/local/cwb-3.4.10\n",
        "# /usr/local/cwb-3.4.22/bin"
      ],
      "metadata": {
        "id": "KqxsSReWsTnd"
      },
      "execution_count": null,
      "outputs": []
    },
    {
      "cell_type": "code",
      "source": [
        "# !python --version"
      ],
      "metadata": {
        "id": "GdqTG_2BvkTq"
      },
      "execution_count": null,
      "outputs": []
    },
    {
      "cell_type": "markdown",
      "source": [
        "### todo:\n",
        "1. to add corpus lemmatization & encoding parts\n",
        "2. to add generation of interesting collocations, exporting them as lists\n",
        "3. to add parallel corpus functionality\n"
      ],
      "metadata": {
        "id": "Ou8wY0JrIvmK"
      }
    },
    {
      "cell_type": "markdown",
      "source": [
        "## Building own corpus\n",
        "Europarl 8M EN (DE):\n",
        "https://heibox.uni-heidelberg.de/f/0e1fcda2b7bc494d83b8/?dl=1\n",
        "ep_en_de.txt\n",
        "\n",
        "- Create a data directory where files in the binary CWB format will be stored. Here, we assume that this directory is called /corpora/data/example. If this directory already exists and contains corpus data (from a previous version), you should delete all files in the directory. NB: You need a separate data directory for each corpus you want to encode.\n",
        "- Choose a registry directory, where all encoded corpora have to be registered to make them accessible to the CWB tools. It is recommended that you use the default registry directory /usr/local/share/cwb/registry. Otherwise,youwillhavetospecifythepathtoyourregistry directory with a -r flag whenever you invoke one of the CWB tools (or set an appropriate environment variable, see below). In the example commands in this manual, we assume that you use the standard registry directory.\n",
        "- The next step is to encode the corpus, i.e. convert the verticalized text to CWB binary format with the cwb-encode tool. Note that the command below has to be entered on a single line.\n",
        "\n",
        "\n",
        "```\n",
        "$ cwb-encode -d /corpora/data/example\n",
        "                      -xsBC9 -c ascii -f example.vrt\n",
        "                      -R /usr/local/share/cwb/registry/example\n",
        "                      -P pos -P lemma -S s\n",
        "```\n",
        "from: https://cwb.sourceforge.io/files/CWB_Encoding_Tutorial.pdf\n"
      ],
      "metadata": {
        "id": "EgegHjE4yUIl"
      }
    },
    {
      "cell_type": "markdown",
      "source": [
        "Cleanup ... (if needed to reinstall)"
      ],
      "metadata": {
        "id": "6ZxWvnWk1GSN"
      }
    },
    {
      "cell_type": "code",
      "source": [
        "rm -r EP"
      ],
      "metadata": {
        "id": "IYrY62pj00Pb"
      },
      "execution_count": null,
      "outputs": []
    },
    {
      "cell_type": "code",
      "source": [
        "rm -r corpepen/"
      ],
      "metadata": {
        "id": "spizUeMo061P"
      },
      "execution_count": null,
      "outputs": []
    },
    {
      "cell_type": "code",
      "source": [
        "rm /usr/local/share/cwb/registry/corpepen"
      ],
      "metadata": {
        "id": "gjhTIwnI09R2"
      },
      "execution_count": null,
      "outputs": []
    },
    {
      "cell_type": "markdown",
      "source": [
        "downloading EP data"
      ],
      "metadata": {
        "id": "_jc0IzD51LQy"
      }
    },
    {
      "cell_type": "code",
      "source": [
        "# !wget https://heibox.uni-heidelberg.de/f/0e1fcda2b7bc494d83b8/?dl=1\n",
        "!wget https://heibox.uni-heidelberg.de/f/0e1fcda2b7bc494d83b8/?dl=1"
      ],
      "metadata": {
        "id": "eF3ueOXszN6-"
      },
      "execution_count": null,
      "outputs": []
    },
    {
      "cell_type": "code",
      "source": [
        "!mkdir EP"
      ],
      "metadata": {
        "id": "VgAnBc6gbG1k"
      },
      "execution_count": null,
      "outputs": []
    },
    {
      "cell_type": "code",
      "source": [
        "!mv index.html?dl=1 EP/ep_en_de1.txt"
      ],
      "metadata": {
        "id": "l4DF9yPo2R5b"
      },
      "execution_count": null,
      "outputs": []
    },
    {
      "cell_type": "code",
      "source": [
        "FIn = open('EP/ep_en_de1.txt', 'r')\n",
        "FOut = open('EP/ep_en_de.txt', 'w')\n",
        "for SLine in FIn:\n",
        "    SLine = SLine.strip()\n",
        "    SLine = SLine.lower()\n",
        "    FOut.write(SLine + '\\n')\n",
        "\n",
        "FOut.flush()\n"
      ],
      "metadata": {
        "id": "0LbouwOr2U_d"
      },
      "execution_count": null,
      "outputs": []
    },
    {
      "cell_type": "code",
      "source": [
        "!head --lines=100 EP/ep_en_de.txt >ep_en_de_100.txt"
      ],
      "metadata": {
        "id": "25sz42kN11EG"
      },
      "execution_count": null,
      "outputs": []
    },
    {
      "cell_type": "code",
      "source": [
        "!mkdir corpepen"
      ],
      "metadata": {
        "id": "cAfy1VX_2cJB"
      },
      "execution_count": null,
      "outputs": []
    },
    {
      "cell_type": "markdown",
      "source": [
        "encoding corpus"
      ],
      "metadata": {
        "id": "FijWQJxB3H5R"
      }
    },
    {
      "cell_type": "code",
      "source": [
        "!cwb-encode -d /content/corpepen -xsBC9 -c utf8 -f /content/EP/ep_en_de.txt -R /usr/local/share/cwb/registry/corpepen 2>&1"
      ],
      "metadata": {
        "id": "dwDPFUJI24HZ"
      },
      "execution_count": null,
      "outputs": []
    },
    {
      "cell_type": "code",
      "source": [
        "!cwb-makeall --help"
      ],
      "metadata": {
        "id": "q7RC85VF8l8b"
      },
      "execution_count": null,
      "outputs": []
    },
    {
      "cell_type": "code",
      "source": [
        "!cwb-makeall -V CORPEPEN"
      ],
      "metadata": {
        "id": "XI4jNDzw8kNg"
      },
      "execution_count": null,
      "outputs": []
    },
    {
      "cell_type": "code",
      "source": [
        "%tb"
      ],
      "metadata": {
        "id": "6SbEUjOr589I",
        "colab": {
          "base_uri": "https://localhost:8080/"
        },
        "outputId": "96c1b942-ae22-4466-8722-9f140e61a1a7"
      },
      "execution_count": null,
      "outputs": [
        {
          "output_type": "stream",
          "name": "stderr",
          "text": [
            "No traceback available to show.\n"
          ]
        }
      ]
    },
    {
      "cell_type": "code",
      "source": [
        "!cwb-describe-corpus corpepen"
      ],
      "metadata": {
        "id": "5T6-wewX6z9p"
      },
      "execution_count": null,
      "outputs": []
    },
    {
      "cell_type": "code",
      "source": [
        "# try these commands in the interactive prompt (just copy and paste them):\n",
        "# CORPEPEN;\n",
        "# \"question\";\n",
        "# \"of\";\n",
        "# q\n",
        "# exit;\n",
        "!cqp -e"
      ],
      "metadata": {
        "colab": {
          "base_uri": "https://localhost:8080/"
        },
        "id": "kvKd9btj5UVi",
        "outputId": "f2ec50ca-0f7d-4293-f79e-e645377784b4"
      },
      "execution_count": null,
      "outputs": [
        {
          "output_type": "stream",
          "name": "stdout",
          "text": [
            "\u001b[m[no corpus]> CORPEPEN;\n",
            "\u001b[mCORPEPEN> \"question\";\n",
            "      122: oncern inadmissibility my <\u001b[m\u001b[7mquestion\u001b[m> relate to something that\u001b[m\u001b[m\n",
            "      513: ing on this matter on the <\u001b[m\u001b[7mquestion\u001b[m> of the strategic plan of\u001b[m\u001b[m\n",
            "     4825: st the european union the <\u001b[m\u001b[7mquestion\u001b[m> be who prosecute that be\u001b[m\u001b[m\n",
            "     5003: e at the moment the whole <\u001b[m\u001b[7mquestion\u001b[m> as to whether we have th\u001b[m\u001b[m\n",
            "     5046: ission should tackle this <\u001b[m\u001b[7mquestion\u001b[m> we be aware that it be a\u001b[m\u001b[m\n",
            "     7039: say in her remark but the <\u001b[m\u001b[7mquestion\u001b[m> be how long will it take\u001b[m\u001b[m\n",
            "    10935: ue relate to and surround <\u001b[m\u001b[7mquestion\u001b[m> of liability despite my \u001b[m\u001b[m\n",
            "    11144: behrendt have ask me this <\u001b[m\u001b[7mquestion\u001b[m> before and i say i think\u001b[m\u001b[m\n",
            "    11184:  next time you ask me the <\u001b[m\u001b[7mquestion\u001b[m> i will be in a position \u001b[m\u001b[m\n",
            "    11717: mr florenz also raise the <\u001b[m\u001b[7mquestion\u001b[m> of anonymity i be happy \u001b[m\u001b[m\n",
            "    11899:  tooth i suspect that the <\u001b[m\u001b[7mquestion\u001b[m> be focus on the issue of\u001b[m\u001b[m\n",
            "    12266:  address over time be the <\u001b[m\u001b[7mquestion\u001b[m> of the speed of response\u001b[m\u001b[m\n",
            "    12351:  in relation to mrs lynne <\u001b[m\u001b[7mquestion\u001b[m> on interim payment that \u001b[m\u001b[m\n",
            "    12748:  be cut back the time for <\u001b[m\u001b[7mquestion\u001b[m> time it be one of the fe\u001b[m\u001b[m\n",
            "    13461: hank you mr bowe for your <\u001b[m\u001b[7mquestion\u001b[m> the european commission \u001b[m\u001b[m\n",
            "    13934: hank you mr bowe for that <\u001b[m\u001b[7mquestion\u001b[m> we have to state again t\u001b[m\u001b[m\n",
            "    14325: he area i can answer that <\u001b[m\u001b[7mquestion\u001b[m> when it come to medical \u001b[m\u001b[m\n",
            "    15352:  the ombudsman there be a <\u001b[m\u001b[7mquestion\u001b[m> about the legislative ba\u001b[m\u001b[m\n",
            "    15388: urable member who ask the <\u001b[m\u001b[7mquestion\u001b[m> who take a particular in\u001b[m\u001b[m\n",
            "    15480: ound the only substantial <\u001b[m\u001b[7mquestion\u001b[m> that have arise be the l\u001b[m\u001b[m\n",
            "    15548: n about these development <\u001b[m\u001b[7mquestion\u001b[m> will know how important \u001b[m\u001b[m\n",
            "    19942: tion to that there be the <\u001b[m\u001b[7mquestion\u001b[m> of duty free that be a s\u001b[m\u001b[m\n",
            "    24561: oncession on the security <\u001b[m\u001b[7mquestion\u001b[m> then the prospect of a s\u001b[m\u001b[m\n",
            "\u001b[K\u001b[?1l\u001b>\u001b[mCORPEPEN> \n",
            "\u001b[mCORPEPEN> exit;\n",
            "\n",
            "Done. Share and enjoy!\n"
          ]
        }
      ]
    },
    {
      "cell_type": "code",
      "source": [
        "from ccc import Corpora\n",
        "corpora = Corpora(registry_path=\"/usr/local/share/cwb/registry/\")\n",
        "# corpora = Corpora(\"/content/Dickens-1.0/registry\")\n",
        "print(corpora)\n",
        "corpora.show()  # returns a DataFrame"
      ],
      "metadata": {
        "colab": {
          "base_uri": "https://localhost:8080/",
          "height": 246
        },
        "id": "3qHfCbt37DO3",
        "outputId": "1338ba94-f34d-40d7-af54-928538556ddd"
      },
      "execution_count": null,
      "outputs": [
        {
          "output_type": "stream",
          "name": "stdout",
          "text": [
            "\n",
            "registry path: \"/usr/local/share/cwb/registry/\"\n",
            "cqp binary   : \"cqp\"\n",
            "found 1 corpora:\n",
            "             size\n",
            "corpus           \n",
            "CORPEPEN  7281561\n"
          ]
        },
        {
          "output_type": "execute_result",
          "data": {
            "text/html": [
              "\n",
              "  <div id=\"df-ea983a05-120b-4e59-899f-258836ee1ad6\">\n",
              "    <div class=\"colab-df-container\">\n",
              "      <div>\n",
              "<style scoped>\n",
              "    .dataframe tbody tr th:only-of-type {\n",
              "        vertical-align: middle;\n",
              "    }\n",
              "\n",
              "    .dataframe tbody tr th {\n",
              "        vertical-align: top;\n",
              "    }\n",
              "\n",
              "    .dataframe thead th {\n",
              "        text-align: right;\n",
              "    }\n",
              "</style>\n",
              "<table border=\"1\" class=\"dataframe\">\n",
              "  <thead>\n",
              "    <tr style=\"text-align: right;\">\n",
              "      <th></th>\n",
              "      <th>size</th>\n",
              "    </tr>\n",
              "    <tr>\n",
              "      <th>corpus</th>\n",
              "      <th></th>\n",
              "    </tr>\n",
              "  </thead>\n",
              "  <tbody>\n",
              "    <tr>\n",
              "      <th>CORPEPEN</th>\n",
              "      <td>7281561</td>\n",
              "    </tr>\n",
              "  </tbody>\n",
              "</table>\n",
              "</div>\n",
              "      <button class=\"colab-df-convert\" onclick=\"convertToInteractive('df-ea983a05-120b-4e59-899f-258836ee1ad6')\"\n",
              "              title=\"Convert this dataframe to an interactive table.\"\n",
              "              style=\"display:none;\">\n",
              "        \n",
              "  <svg xmlns=\"http://www.w3.org/2000/svg\" height=\"24px\"viewBox=\"0 0 24 24\"\n",
              "       width=\"24px\">\n",
              "    <path d=\"M0 0h24v24H0V0z\" fill=\"none\"/>\n",
              "    <path d=\"M18.56 5.44l.94 2.06.94-2.06 2.06-.94-2.06-.94-.94-2.06-.94 2.06-2.06.94zm-11 1L8.5 8.5l.94-2.06 2.06-.94-2.06-.94L8.5 2.5l-.94 2.06-2.06.94zm10 10l.94 2.06.94-2.06 2.06-.94-2.06-.94-.94-2.06-.94 2.06-2.06.94z\"/><path d=\"M17.41 7.96l-1.37-1.37c-.4-.4-.92-.59-1.43-.59-.52 0-1.04.2-1.43.59L10.3 9.45l-7.72 7.72c-.78.78-.78 2.05 0 2.83L4 21.41c.39.39.9.59 1.41.59.51 0 1.02-.2 1.41-.59l7.78-7.78 2.81-2.81c.8-.78.8-2.07 0-2.86zM5.41 20L4 18.59l7.72-7.72 1.47 1.35L5.41 20z\"/>\n",
              "  </svg>\n",
              "      </button>\n",
              "      \n",
              "  <style>\n",
              "    .colab-df-container {\n",
              "      display:flex;\n",
              "      flex-wrap:wrap;\n",
              "      gap: 12px;\n",
              "    }\n",
              "\n",
              "    .colab-df-convert {\n",
              "      background-color: #E8F0FE;\n",
              "      border: none;\n",
              "      border-radius: 50%;\n",
              "      cursor: pointer;\n",
              "      display: none;\n",
              "      fill: #1967D2;\n",
              "      height: 32px;\n",
              "      padding: 0 0 0 0;\n",
              "      width: 32px;\n",
              "    }\n",
              "\n",
              "    .colab-df-convert:hover {\n",
              "      background-color: #E2EBFA;\n",
              "      box-shadow: 0px 1px 2px rgba(60, 64, 67, 0.3), 0px 1px 3px 1px rgba(60, 64, 67, 0.15);\n",
              "      fill: #174EA6;\n",
              "    }\n",
              "\n",
              "    [theme=dark] .colab-df-convert {\n",
              "      background-color: #3B4455;\n",
              "      fill: #D2E3FC;\n",
              "    }\n",
              "\n",
              "    [theme=dark] .colab-df-convert:hover {\n",
              "      background-color: #434B5C;\n",
              "      box-shadow: 0px 1px 3px 1px rgba(0, 0, 0, 0.15);\n",
              "      filter: drop-shadow(0px 1px 2px rgba(0, 0, 0, 0.3));\n",
              "      fill: #FFFFFF;\n",
              "    }\n",
              "  </style>\n",
              "\n",
              "      <script>\n",
              "        const buttonEl =\n",
              "          document.querySelector('#df-ea983a05-120b-4e59-899f-258836ee1ad6 button.colab-df-convert');\n",
              "        buttonEl.style.display =\n",
              "          google.colab.kernel.accessAllowed ? 'block' : 'none';\n",
              "\n",
              "        async function convertToInteractive(key) {\n",
              "          const element = document.querySelector('#df-ea983a05-120b-4e59-899f-258836ee1ad6');\n",
              "          const dataTable =\n",
              "            await google.colab.kernel.invokeFunction('convertToInteractive',\n",
              "                                                     [key], {});\n",
              "          if (!dataTable) return;\n",
              "\n",
              "          const docLinkHtml = 'Like what you see? Visit the ' +\n",
              "            '<a target=\"_blank\" href=https://colab.research.google.com/notebooks/data_table.ipynb>data table notebook</a>'\n",
              "            + ' to learn more about interactive tables.';\n",
              "          element.innerHTML = '';\n",
              "          dataTable['output_type'] = 'display_data';\n",
              "          await google.colab.output.renderOutput(dataTable, element);\n",
              "          const docLink = document.createElement('div');\n",
              "          docLink.innerHTML = docLinkHtml;\n",
              "          element.appendChild(docLink);\n",
              "        }\n",
              "      </script>\n",
              "    </div>\n",
              "  </div>\n",
              "  "
            ],
            "text/plain": [
              "             size\n",
              "corpus           \n",
              "CORPEPEN  7281561"
            ]
          },
          "metadata": {},
          "execution_count": 14
        }
      ]
    },
    {
      "cell_type": "code",
      "source": [
        "corpus = corpora.activate(corpus_name=\"CORPEPEN\")"
      ],
      "metadata": {
        "id": "lYlpsI_S8jxh"
      },
      "execution_count": null,
      "outputs": []
    },
    {
      "cell_type": "code",
      "source": [
        "from ccc import Corpus\n",
        "corpus = Corpus(\n",
        "  corpus_name=\"CORPEPEN\",\n",
        "  registry_path=\"/usr/local/share/cwb/registry/\"\n",
        ")"
      ],
      "metadata": {
        "id": "uOfw-7u84r0X"
      },
      "execution_count": null,
      "outputs": []
    },
    {
      "cell_type": "code",
      "source": [],
      "metadata": {
        "id": "vc86l2Hk5ndI"
      },
      "execution_count": null,
      "outputs": []
    },
    {
      "cell_type": "code",
      "source": [
        "query = r'\"value\"'"
      ],
      "metadata": {
        "id": "sa0WlSYs5Yxm"
      },
      "execution_count": null,
      "outputs": []
    },
    {
      "cell_type": "code",
      "source": [
        "query = '[word=\"the\"]'"
      ],
      "metadata": {
        "id": "stCqdDpb6m6O"
      },
      "execution_count": null,
      "outputs": []
    },
    {
      "cell_type": "code",
      "source": [
        "dump = corpus.query(query)"
      ],
      "metadata": {
        "id": "z72hIb4e6GJZ"
      },
      "execution_count": null,
      "outputs": []
    },
    {
      "cell_type": "code",
      "source": [
        "dump = corpus.query(\n",
        "    '[word=\"quest.*\"]', \n",
        "    context=10\n",
        ")"
      ],
      "metadata": {
        "id": "pymIfw9v4phW"
      },
      "execution_count": null,
      "outputs": []
    },
    {
      "cell_type": "code",
      "source": [
        "lines = dump.concordance(\n",
        "    form='dict'\n",
        ")"
      ],
      "metadata": {
        "id": "NW8wN5g49_-l"
      },
      "execution_count": null,
      "outputs": []
    },
    {
      "cell_type": "code",
      "source": [
        "lines"
      ],
      "metadata": {
        "colab": {
          "base_uri": "https://localhost:8080/",
          "height": 450
        },
        "id": "k0auuXdA-Gja",
        "outputId": "bce5f170-637e-4717-c2bc-dba5bab7d695"
      },
      "execution_count": null,
      "outputs": [
        {
          "output_type": "execute_result",
          "data": {
            "text/html": [
              "\n",
              "  <div id=\"df-f87adf83-53ee-47ff-b67e-be0ec7ffe3cf\">\n",
              "    <div class=\"colab-df-container\">\n",
              "      <div>\n",
              "<style scoped>\n",
              "    .dataframe tbody tr th:only-of-type {\n",
              "        vertical-align: middle;\n",
              "    }\n",
              "\n",
              "    .dataframe tbody tr th {\n",
              "        vertical-align: top;\n",
              "    }\n",
              "\n",
              "    .dataframe thead th {\n",
              "        text-align: right;\n",
              "    }\n",
              "</style>\n",
              "<table border=\"1\" class=\"dataframe\">\n",
              "  <thead>\n",
              "    <tr style=\"text-align: right;\">\n",
              "      <th></th>\n",
              "      <th></th>\n",
              "      <th>context</th>\n",
              "      <th>contextend</th>\n",
              "      <th>dict</th>\n",
              "    </tr>\n",
              "    <tr>\n",
              "      <th>match</th>\n",
              "      <th>matchend</th>\n",
              "      <th></th>\n",
              "      <th></th>\n",
              "      <th></th>\n",
              "    </tr>\n",
              "  </thead>\n",
              "  <tbody>\n",
              "    <tr>\n",
              "      <th>2819</th>\n",
              "      <th>2819</th>\n",
              "      <td>2799</td>\n",
              "      <td>2839</td>\n",
              "      <td>{'cpos': [2799, 2800, 2801, 2802, 2803, 2804, ...</td>\n",
              "    </tr>\n",
              "    <tr>\n",
              "      <th>4589</th>\n",
              "      <th>4589</th>\n",
              "      <td>4569</td>\n",
              "      <td>4609</td>\n",
              "      <td>{'cpos': [4569, 4570, 4571, 4572, 4573, 4574, ...</td>\n",
              "    </tr>\n",
              "    <tr>\n",
              "      <th>15705</th>\n",
              "      <th>15705</th>\n",
              "      <td>15685</td>\n",
              "      <td>15725</td>\n",
              "      <td>{'cpos': [15685, 15686, 15687, 15688, 15689, 1...</td>\n",
              "    </tr>\n",
              "    <tr>\n",
              "      <th>22098</th>\n",
              "      <th>22098</th>\n",
              "      <td>22078</td>\n",
              "      <td>22118</td>\n",
              "      <td>{'cpos': [22078, 22079, 22080, 22081, 22082, 2...</td>\n",
              "    </tr>\n",
              "    <tr>\n",
              "      <th>23642</th>\n",
              "      <th>23642</th>\n",
              "      <td>23622</td>\n",
              "      <td>23662</td>\n",
              "      <td>{'cpos': [23622, 23623, 23624, 23625, 23626, 2...</td>\n",
              "    </tr>\n",
              "    <tr>\n",
              "      <th>...</th>\n",
              "      <th>...</th>\n",
              "      <td>...</td>\n",
              "      <td>...</td>\n",
              "      <td>...</td>\n",
              "    </tr>\n",
              "    <tr>\n",
              "      <th>372781</th>\n",
              "      <th>372781</th>\n",
              "      <td>372761</td>\n",
              "      <td>372801</td>\n",
              "      <td>{'cpos': [372761, 372762, 372763, 372764, 3727...</td>\n",
              "    </tr>\n",
              "    <tr>\n",
              "      <th>385062</th>\n",
              "      <th>385062</th>\n",
              "      <td>385042</td>\n",
              "      <td>385082</td>\n",
              "      <td>{'cpos': [385042, 385043, 385044, 385045, 3850...</td>\n",
              "    </tr>\n",
              "    <tr>\n",
              "      <th>386601</th>\n",
              "      <th>386601</th>\n",
              "      <td>386581</td>\n",
              "      <td>386621</td>\n",
              "      <td>{'cpos': [386581, 386582, 386583, 386584, 3865...</td>\n",
              "    </tr>\n",
              "    <tr>\n",
              "      <th>386658</th>\n",
              "      <th>386658</th>\n",
              "      <td>386638</td>\n",
              "      <td>386678</td>\n",
              "      <td>{'cpos': [386638, 386639, 386640, 386641, 3866...</td>\n",
              "    </tr>\n",
              "    <tr>\n",
              "      <th>391180</th>\n",
              "      <th>391180</th>\n",
              "      <td>391160</td>\n",
              "      <td>391200</td>\n",
              "      <td>{'cpos': [391160, 391161, 391162, 391163, 3911...</td>\n",
              "    </tr>\n",
              "  </tbody>\n",
              "</table>\n",
              "<p>100 rows × 3 columns</p>\n",
              "</div>\n",
              "      <button class=\"colab-df-convert\" onclick=\"convertToInteractive('df-f87adf83-53ee-47ff-b67e-be0ec7ffe3cf')\"\n",
              "              title=\"Convert this dataframe to an interactive table.\"\n",
              "              style=\"display:none;\">\n",
              "        \n",
              "  <svg xmlns=\"http://www.w3.org/2000/svg\" height=\"24px\"viewBox=\"0 0 24 24\"\n",
              "       width=\"24px\">\n",
              "    <path d=\"M0 0h24v24H0V0z\" fill=\"none\"/>\n",
              "    <path d=\"M18.56 5.44l.94 2.06.94-2.06 2.06-.94-2.06-.94-.94-2.06-.94 2.06-2.06.94zm-11 1L8.5 8.5l.94-2.06 2.06-.94-2.06-.94L8.5 2.5l-.94 2.06-2.06.94zm10 10l.94 2.06.94-2.06 2.06-.94-2.06-.94-.94-2.06-.94 2.06-2.06.94z\"/><path d=\"M17.41 7.96l-1.37-1.37c-.4-.4-.92-.59-1.43-.59-.52 0-1.04.2-1.43.59L10.3 9.45l-7.72 7.72c-.78.78-.78 2.05 0 2.83L4 21.41c.39.39.9.59 1.41.59.51 0 1.02-.2 1.41-.59l7.78-7.78 2.81-2.81c.8-.78.8-2.07 0-2.86zM5.41 20L4 18.59l7.72-7.72 1.47 1.35L5.41 20z\"/>\n",
              "  </svg>\n",
              "      </button>\n",
              "      \n",
              "  <style>\n",
              "    .colab-df-container {\n",
              "      display:flex;\n",
              "      flex-wrap:wrap;\n",
              "      gap: 12px;\n",
              "    }\n",
              "\n",
              "    .colab-df-convert {\n",
              "      background-color: #E8F0FE;\n",
              "      border: none;\n",
              "      border-radius: 50%;\n",
              "      cursor: pointer;\n",
              "      display: none;\n",
              "      fill: #1967D2;\n",
              "      height: 32px;\n",
              "      padding: 0 0 0 0;\n",
              "      width: 32px;\n",
              "    }\n",
              "\n",
              "    .colab-df-convert:hover {\n",
              "      background-color: #E2EBFA;\n",
              "      box-shadow: 0px 1px 2px rgba(60, 64, 67, 0.3), 0px 1px 3px 1px rgba(60, 64, 67, 0.15);\n",
              "      fill: #174EA6;\n",
              "    }\n",
              "\n",
              "    [theme=dark] .colab-df-convert {\n",
              "      background-color: #3B4455;\n",
              "      fill: #D2E3FC;\n",
              "    }\n",
              "\n",
              "    [theme=dark] .colab-df-convert:hover {\n",
              "      background-color: #434B5C;\n",
              "      box-shadow: 0px 1px 3px 1px rgba(0, 0, 0, 0.15);\n",
              "      filter: drop-shadow(0px 1px 2px rgba(0, 0, 0, 0.3));\n",
              "      fill: #FFFFFF;\n",
              "    }\n",
              "  </style>\n",
              "\n",
              "      <script>\n",
              "        const buttonEl =\n",
              "          document.querySelector('#df-f87adf83-53ee-47ff-b67e-be0ec7ffe3cf button.colab-df-convert');\n",
              "        buttonEl.style.display =\n",
              "          google.colab.kernel.accessAllowed ? 'block' : 'none';\n",
              "\n",
              "        async function convertToInteractive(key) {\n",
              "          const element = document.querySelector('#df-f87adf83-53ee-47ff-b67e-be0ec7ffe3cf');\n",
              "          const dataTable =\n",
              "            await google.colab.kernel.invokeFunction('convertToInteractive',\n",
              "                                                     [key], {});\n",
              "          if (!dataTable) return;\n",
              "\n",
              "          const docLinkHtml = 'Like what you see? Visit the ' +\n",
              "            '<a target=\"_blank\" href=https://colab.research.google.com/notebooks/data_table.ipynb>data table notebook</a>'\n",
              "            + ' to learn more about interactive tables.';\n",
              "          element.innerHTML = '';\n",
              "          dataTable['output_type'] = 'display_data';\n",
              "          await google.colab.output.renderOutput(dataTable, element);\n",
              "          const docLink = document.createElement('div');\n",
              "          docLink.innerHTML = docLinkHtml;\n",
              "          element.appendChild(docLink);\n",
              "        }\n",
              "      </script>\n",
              "    </div>\n",
              "  </div>\n",
              "  "
            ],
            "text/plain": [
              "                 context  ...                                               dict\n",
              "match  matchend           ...                                                   \n",
              "2819   2819         2799  ...  {'cpos': [2799, 2800, 2801, 2802, 2803, 2804, ...\n",
              "4589   4589         4569  ...  {'cpos': [4569, 4570, 4571, 4572, 4573, 4574, ...\n",
              "15705  15705       15685  ...  {'cpos': [15685, 15686, 15687, 15688, 15689, 1...\n",
              "22098  22098       22078  ...  {'cpos': [22078, 22079, 22080, 22081, 22082, 2...\n",
              "23642  23642       23622  ...  {'cpos': [23622, 23623, 23624, 23625, 23626, 2...\n",
              "...                  ...  ...                                                ...\n",
              "372781 372781     372761  ...  {'cpos': [372761, 372762, 372763, 372764, 3727...\n",
              "385062 385062     385042  ...  {'cpos': [385042, 385043, 385044, 385045, 3850...\n",
              "386601 386601     386581  ...  {'cpos': [386581, 386582, 386583, 386584, 3865...\n",
              "386658 386658     386638  ...  {'cpos': [386638, 386639, 386640, 386641, 3866...\n",
              "391180 391180     391160  ...  {'cpos': [391160, 391161, 391162, 391163, 3911...\n",
              "\n",
              "[100 rows x 3 columns]"
            ]
          },
          "metadata": {},
          "execution_count": 121
        }
      ]
    },
    {
      "cell_type": "code",
      "source": [
        "dump = corpus.query(\n",
        "  cqp_query=query,\n",
        "  context=5\n",
        ")"
      ],
      "metadata": {
        "id": "Lj8Lbyc5-v3J"
      },
      "execution_count": null,
      "outputs": []
    },
    {
      "cell_type": "code",
      "source": [
        "dump.df"
      ],
      "metadata": {
        "colab": {
          "base_uri": "https://localhost:8080/",
          "height": 450
        },
        "id": "-y3z0khj_OSD",
        "outputId": "cd3227dc-dcc6-43d7-cbd4-0ef789a59ffa"
      },
      "execution_count": null,
      "outputs": [
        {
          "output_type": "execute_result",
          "data": {
            "text/html": [
              "\n",
              "  <div id=\"df-be8ec7a5-6188-4288-8b3c-6eeb575235b4\">\n",
              "    <div class=\"colab-df-container\">\n",
              "      <div>\n",
              "<style scoped>\n",
              "    .dataframe tbody tr th:only-of-type {\n",
              "        vertical-align: middle;\n",
              "    }\n",
              "\n",
              "    .dataframe tbody tr th {\n",
              "        vertical-align: top;\n",
              "    }\n",
              "\n",
              "    .dataframe thead th {\n",
              "        text-align: right;\n",
              "    }\n",
              "</style>\n",
              "<table border=\"1\" class=\"dataframe\">\n",
              "  <thead>\n",
              "    <tr style=\"text-align: right;\">\n",
              "      <th></th>\n",
              "      <th></th>\n",
              "      <th>context</th>\n",
              "      <th>contextend</th>\n",
              "    </tr>\n",
              "    <tr>\n",
              "      <th>match</th>\n",
              "      <th>matchend</th>\n",
              "      <th></th>\n",
              "      <th></th>\n",
              "    </tr>\n",
              "  </thead>\n",
              "  <tbody>\n",
              "    <tr>\n",
              "      <th>2819</th>\n",
              "      <th>2819</th>\n",
              "      <td>2809</td>\n",
              "      <td>2829</td>\n",
              "    </tr>\n",
              "    <tr>\n",
              "      <th>4589</th>\n",
              "      <th>4589</th>\n",
              "      <td>4579</td>\n",
              "      <td>4599</td>\n",
              "    </tr>\n",
              "    <tr>\n",
              "      <th>15705</th>\n",
              "      <th>15705</th>\n",
              "      <td>15695</td>\n",
              "      <td>15715</td>\n",
              "    </tr>\n",
              "    <tr>\n",
              "      <th>22098</th>\n",
              "      <th>22098</th>\n",
              "      <td>22088</td>\n",
              "      <td>22108</td>\n",
              "    </tr>\n",
              "    <tr>\n",
              "      <th>23642</th>\n",
              "      <th>23642</th>\n",
              "      <td>23632</td>\n",
              "      <td>23652</td>\n",
              "    </tr>\n",
              "    <tr>\n",
              "      <th>...</th>\n",
              "      <th>...</th>\n",
              "      <td>...</td>\n",
              "      <td>...</td>\n",
              "    </tr>\n",
              "    <tr>\n",
              "      <th>7932213</th>\n",
              "      <th>7932213</th>\n",
              "      <td>7932203</td>\n",
              "      <td>7932223</td>\n",
              "    </tr>\n",
              "    <tr>\n",
              "      <th>7932223</th>\n",
              "      <th>7932223</th>\n",
              "      <td>7932213</td>\n",
              "      <td>7932233</td>\n",
              "    </tr>\n",
              "    <tr>\n",
              "      <th>7949447</th>\n",
              "      <th>7949447</th>\n",
              "      <td>7949437</td>\n",
              "      <td>7949457</td>\n",
              "    </tr>\n",
              "    <tr>\n",
              "      <th>7951869</th>\n",
              "      <th>7951869</th>\n",
              "      <td>7951859</td>\n",
              "      <td>7951879</td>\n",
              "    </tr>\n",
              "    <tr>\n",
              "      <th>7953543</th>\n",
              "      <th>7953543</th>\n",
              "      <td>7953533</td>\n",
              "      <td>7953553</td>\n",
              "    </tr>\n",
              "  </tbody>\n",
              "</table>\n",
              "<p>2140 rows × 2 columns</p>\n",
              "</div>\n",
              "      <button class=\"colab-df-convert\" onclick=\"convertToInteractive('df-be8ec7a5-6188-4288-8b3c-6eeb575235b4')\"\n",
              "              title=\"Convert this dataframe to an interactive table.\"\n",
              "              style=\"display:none;\">\n",
              "        \n",
              "  <svg xmlns=\"http://www.w3.org/2000/svg\" height=\"24px\"viewBox=\"0 0 24 24\"\n",
              "       width=\"24px\">\n",
              "    <path d=\"M0 0h24v24H0V0z\" fill=\"none\"/>\n",
              "    <path d=\"M18.56 5.44l.94 2.06.94-2.06 2.06-.94-2.06-.94-.94-2.06-.94 2.06-2.06.94zm-11 1L8.5 8.5l.94-2.06 2.06-.94-2.06-.94L8.5 2.5l-.94 2.06-2.06.94zm10 10l.94 2.06.94-2.06 2.06-.94-2.06-.94-.94-2.06-.94 2.06-2.06.94z\"/><path d=\"M17.41 7.96l-1.37-1.37c-.4-.4-.92-.59-1.43-.59-.52 0-1.04.2-1.43.59L10.3 9.45l-7.72 7.72c-.78.78-.78 2.05 0 2.83L4 21.41c.39.39.9.59 1.41.59.51 0 1.02-.2 1.41-.59l7.78-7.78 2.81-2.81c.8-.78.8-2.07 0-2.86zM5.41 20L4 18.59l7.72-7.72 1.47 1.35L5.41 20z\"/>\n",
              "  </svg>\n",
              "      </button>\n",
              "      \n",
              "  <style>\n",
              "    .colab-df-container {\n",
              "      display:flex;\n",
              "      flex-wrap:wrap;\n",
              "      gap: 12px;\n",
              "    }\n",
              "\n",
              "    .colab-df-convert {\n",
              "      background-color: #E8F0FE;\n",
              "      border: none;\n",
              "      border-radius: 50%;\n",
              "      cursor: pointer;\n",
              "      display: none;\n",
              "      fill: #1967D2;\n",
              "      height: 32px;\n",
              "      padding: 0 0 0 0;\n",
              "      width: 32px;\n",
              "    }\n",
              "\n",
              "    .colab-df-convert:hover {\n",
              "      background-color: #E2EBFA;\n",
              "      box-shadow: 0px 1px 2px rgba(60, 64, 67, 0.3), 0px 1px 3px 1px rgba(60, 64, 67, 0.15);\n",
              "      fill: #174EA6;\n",
              "    }\n",
              "\n",
              "    [theme=dark] .colab-df-convert {\n",
              "      background-color: #3B4455;\n",
              "      fill: #D2E3FC;\n",
              "    }\n",
              "\n",
              "    [theme=dark] .colab-df-convert:hover {\n",
              "      background-color: #434B5C;\n",
              "      box-shadow: 0px 1px 3px 1px rgba(0, 0, 0, 0.15);\n",
              "      filter: drop-shadow(0px 1px 2px rgba(0, 0, 0, 0.3));\n",
              "      fill: #FFFFFF;\n",
              "    }\n",
              "  </style>\n",
              "\n",
              "      <script>\n",
              "        const buttonEl =\n",
              "          document.querySelector('#df-be8ec7a5-6188-4288-8b3c-6eeb575235b4 button.colab-df-convert');\n",
              "        buttonEl.style.display =\n",
              "          google.colab.kernel.accessAllowed ? 'block' : 'none';\n",
              "\n",
              "        async function convertToInteractive(key) {\n",
              "          const element = document.querySelector('#df-be8ec7a5-6188-4288-8b3c-6eeb575235b4');\n",
              "          const dataTable =\n",
              "            await google.colab.kernel.invokeFunction('convertToInteractive',\n",
              "                                                     [key], {});\n",
              "          if (!dataTable) return;\n",
              "\n",
              "          const docLinkHtml = 'Like what you see? Visit the ' +\n",
              "            '<a target=\"_blank\" href=https://colab.research.google.com/notebooks/data_table.ipynb>data table notebook</a>'\n",
              "            + ' to learn more about interactive tables.';\n",
              "          element.innerHTML = '';\n",
              "          dataTable['output_type'] = 'display_data';\n",
              "          await google.colab.output.renderOutput(dataTable, element);\n",
              "          const docLink = document.createElement('div');\n",
              "          docLink.innerHTML = docLinkHtml;\n",
              "          element.appendChild(docLink);\n",
              "        }\n",
              "      </script>\n",
              "    </div>\n",
              "  </div>\n",
              "  "
            ],
            "text/plain": [
              "                  context  contextend\n",
              "match   matchend                     \n",
              "2819    2819         2809        2829\n",
              "4589    4589         4579        4599\n",
              "15705   15705       15695       15715\n",
              "22098   22098       22088       22108\n",
              "23642   23642       23632       23652\n",
              "...                   ...         ...\n",
              "7932213 7932213   7932203     7932223\n",
              "7932223 7932223   7932213     7932233\n",
              "7949447 7949447   7949437     7949457\n",
              "7951869 7951869   7951859     7951879\n",
              "7953543 7953543   7953533     7953553\n",
              "\n",
              "[2140 rows x 2 columns]"
            ]
          },
          "metadata": {},
          "execution_count": 124
        }
      ]
    },
    {
      "cell_type": "code",
      "source": [
        "dump.concordance(form=\"kwic\", cut_off=None)"
      ],
      "metadata": {
        "colab": {
          "base_uri": "https://localhost:8080/",
          "height": 450
        },
        "id": "Pc_8FJ6L-4KO",
        "outputId": "3a81c1cd-d82c-4a49-d064-7894d2ccff91"
      },
      "execution_count": null,
      "outputs": [
        {
          "output_type": "execute_result",
          "data": {
            "text/html": [
              "\n",
              "  <div id=\"df-daebbcd9-8b79-4588-97d4-cad52b8f5d68\">\n",
              "    <div class=\"colab-df-container\">\n",
              "      <div>\n",
              "<style scoped>\n",
              "    .dataframe tbody tr th:only-of-type {\n",
              "        vertical-align: middle;\n",
              "    }\n",
              "\n",
              "    .dataframe tbody tr th {\n",
              "        vertical-align: top;\n",
              "    }\n",
              "\n",
              "    .dataframe thead th {\n",
              "        text-align: right;\n",
              "    }\n",
              "</style>\n",
              "<table border=\"1\" class=\"dataframe\">\n",
              "  <thead>\n",
              "    <tr style=\"text-align: right;\">\n",
              "      <th></th>\n",
              "      <th></th>\n",
              "      <th>left_word</th>\n",
              "      <th>node_word</th>\n",
              "      <th>right_word</th>\n",
              "    </tr>\n",
              "    <tr>\n",
              "      <th>match</th>\n",
              "      <th>matchend</th>\n",
              "      <th></th>\n",
              "      <th></th>\n",
              "      <th></th>\n",
              "    </tr>\n",
              "  </thead>\n",
              "  <tbody>\n",
              "    <tr>\n",
              "      <th>2819</th>\n",
              "      <th>2819</th>\n",
              "      <td>and addition relate to achieve what be know as \"</td>\n",
              "      <td>value</td>\n",
              "      <td>for money \" indicator in the grant-giving proc...</td>\n",
              "    </tr>\n",
              "    <tr>\n",
              "      <th>4589</th>\n",
              "      <th>4589</th>\n",
              "      <td>the figure for last year now show that the total</td>\n",
              "      <td>value</td>\n",
              "      <td>of merger in the European area be EUR @card@ t...</td>\n",
              "    </tr>\n",
              "    <tr>\n",
              "      <th>15705</th>\n",
              "      <th>15705</th>\n",
              "      <td>I be not sure that it would add much practical</td>\n",
              "      <td>value</td>\n",
              "      <td>to our effort . it would be unlikely to have</td>\n",
              "    </tr>\n",
              "    <tr>\n",
              "      <th>22098</th>\n",
              "      <th>22098</th>\n",
              "      <td>as a former official - and I think that the</td>\n",
              "      <td>value</td>\n",
              "      <td>of that be show by his ability to tackle the</td>\n",
              "    </tr>\n",
              "    <tr>\n",
              "      <th>23642</th>\n",
              "      <th>23642</th>\n",
              "      <td>we be at one in the belief that there be</td>\n",
              "      <td>value</td>\n",
              "      <td>in define the well possible mechanism for this...</td>\n",
              "    </tr>\n",
              "    <tr>\n",
              "      <th>...</th>\n",
              "      <th>...</th>\n",
              "      <td>...</td>\n",
              "      <td>...</td>\n",
              "      <td>...</td>\n",
              "    </tr>\n",
              "    <tr>\n",
              "      <th>7932213</th>\n",
              "      <th>7932213</th>\n",
              "      <td>Kong , we would not be true to our own</td>\n",
              "      <td>value</td>\n",
              "      <td>, if we do not speak out when those value</td>\n",
              "    </tr>\n",
              "    <tr>\n",
              "      <th>7932223</th>\n",
              "      <th>7932223</th>\n",
              "      <td>value , if we do not speak out when those</td>\n",
              "      <td>value</td>\n",
              "      <td>appear to us to be under threat . What sensible</td>\n",
              "    </tr>\n",
              "    <tr>\n",
              "      <th>7949447</th>\n",
              "      <th>7949447</th>\n",
              "      <td>to sell that beef into our market , at good</td>\n",
              "      <td>value</td>\n",
              "      <td>to our consumer , and if we be to put</td>\n",
              "    </tr>\n",
              "    <tr>\n",
              "      <th>7951869</th>\n",
              "      <th>7951869</th>\n",
              "      <td>Kingdom , we have a long political debate over...</td>\n",
              "      <td>value</td>\n",
              "      <td>of resale price maintenance apply to book . th...</td>\n",
              "    </tr>\n",
              "    <tr>\n",
              "      <th>7953543</th>\n",
              "      <th>7953543</th>\n",
              "      <td>money . but the poor respect both education an...</td>\n",
              "      <td>value</td>\n",
              "      <td>and they respect democracy . soon there will b...</td>\n",
              "    </tr>\n",
              "  </tbody>\n",
              "</table>\n",
              "<p>2140 rows × 3 columns</p>\n",
              "</div>\n",
              "      <button class=\"colab-df-convert\" onclick=\"convertToInteractive('df-daebbcd9-8b79-4588-97d4-cad52b8f5d68')\"\n",
              "              title=\"Convert this dataframe to an interactive table.\"\n",
              "              style=\"display:none;\">\n",
              "        \n",
              "  <svg xmlns=\"http://www.w3.org/2000/svg\" height=\"24px\"viewBox=\"0 0 24 24\"\n",
              "       width=\"24px\">\n",
              "    <path d=\"M0 0h24v24H0V0z\" fill=\"none\"/>\n",
              "    <path d=\"M18.56 5.44l.94 2.06.94-2.06 2.06-.94-2.06-.94-.94-2.06-.94 2.06-2.06.94zm-11 1L8.5 8.5l.94-2.06 2.06-.94-2.06-.94L8.5 2.5l-.94 2.06-2.06.94zm10 10l.94 2.06.94-2.06 2.06-.94-2.06-.94-.94-2.06-.94 2.06-2.06.94z\"/><path d=\"M17.41 7.96l-1.37-1.37c-.4-.4-.92-.59-1.43-.59-.52 0-1.04.2-1.43.59L10.3 9.45l-7.72 7.72c-.78.78-.78 2.05 0 2.83L4 21.41c.39.39.9.59 1.41.59.51 0 1.02-.2 1.41-.59l7.78-7.78 2.81-2.81c.8-.78.8-2.07 0-2.86zM5.41 20L4 18.59l7.72-7.72 1.47 1.35L5.41 20z\"/>\n",
              "  </svg>\n",
              "      </button>\n",
              "      \n",
              "  <style>\n",
              "    .colab-df-container {\n",
              "      display:flex;\n",
              "      flex-wrap:wrap;\n",
              "      gap: 12px;\n",
              "    }\n",
              "\n",
              "    .colab-df-convert {\n",
              "      background-color: #E8F0FE;\n",
              "      border: none;\n",
              "      border-radius: 50%;\n",
              "      cursor: pointer;\n",
              "      display: none;\n",
              "      fill: #1967D2;\n",
              "      height: 32px;\n",
              "      padding: 0 0 0 0;\n",
              "      width: 32px;\n",
              "    }\n",
              "\n",
              "    .colab-df-convert:hover {\n",
              "      background-color: #E2EBFA;\n",
              "      box-shadow: 0px 1px 2px rgba(60, 64, 67, 0.3), 0px 1px 3px 1px rgba(60, 64, 67, 0.15);\n",
              "      fill: #174EA6;\n",
              "    }\n",
              "\n",
              "    [theme=dark] .colab-df-convert {\n",
              "      background-color: #3B4455;\n",
              "      fill: #D2E3FC;\n",
              "    }\n",
              "\n",
              "    [theme=dark] .colab-df-convert:hover {\n",
              "      background-color: #434B5C;\n",
              "      box-shadow: 0px 1px 3px 1px rgba(0, 0, 0, 0.15);\n",
              "      filter: drop-shadow(0px 1px 2px rgba(0, 0, 0, 0.3));\n",
              "      fill: #FFFFFF;\n",
              "    }\n",
              "  </style>\n",
              "\n",
              "      <script>\n",
              "        const buttonEl =\n",
              "          document.querySelector('#df-daebbcd9-8b79-4588-97d4-cad52b8f5d68 button.colab-df-convert');\n",
              "        buttonEl.style.display =\n",
              "          google.colab.kernel.accessAllowed ? 'block' : 'none';\n",
              "\n",
              "        async function convertToInteractive(key) {\n",
              "          const element = document.querySelector('#df-daebbcd9-8b79-4588-97d4-cad52b8f5d68');\n",
              "          const dataTable =\n",
              "            await google.colab.kernel.invokeFunction('convertToInteractive',\n",
              "                                                     [key], {});\n",
              "          if (!dataTable) return;\n",
              "\n",
              "          const docLinkHtml = 'Like what you see? Visit the ' +\n",
              "            '<a target=\"_blank\" href=https://colab.research.google.com/notebooks/data_table.ipynb>data table notebook</a>'\n",
              "            + ' to learn more about interactive tables.';\n",
              "          element.innerHTML = '';\n",
              "          dataTable['output_type'] = 'display_data';\n",
              "          await google.colab.output.renderOutput(dataTable, element);\n",
              "          const docLink = document.createElement('div');\n",
              "          docLink.innerHTML = docLinkHtml;\n",
              "          element.appendChild(docLink);\n",
              "        }\n",
              "      </script>\n",
              "    </div>\n",
              "  </div>\n",
              "  "
            ],
            "text/plain": [
              "                                                          left_word  ...                                         right_word\n",
              "match   matchend                                                     ...                                                   \n",
              "2819    2819       and addition relate to achieve what be know as \"  ...  for money \" indicator in the grant-giving proc...\n",
              "4589    4589       the figure for last year now show that the total  ...  of merger in the European area be EUR @card@ t...\n",
              "15705   15705        I be not sure that it would add much practical  ...       to our effort . it would be unlikely to have\n",
              "22098   22098           as a former official - and I think that the  ...       of that be show by his ability to tackle the\n",
              "23642   23642              we be at one in the belief that there be  ...  in define the well possible mechanism for this...\n",
              "...                                                             ...  ...                                                ...\n",
              "7932213 7932213              Kong , we would not be true to our own  ...          , if we do not speak out when those value\n",
              "7932223 7932223           value , if we do not speak out when those  ...    appear to us to be under threat . What sensible\n",
              "7949447 7949447         to sell that beef into our market , at good  ...              to our consumer , and if we be to put\n",
              "7951869 7951869   Kingdom , we have a long political debate over...  ...  of resale price maintenance apply to book . th...\n",
              "7953543 7953543   money . but the poor respect both education an...  ...  and they respect democracy . soon there will b...\n",
              "\n",
              "[2140 rows x 3 columns]"
            ]
          },
          "metadata": {},
          "execution_count": 131
        }
      ]
    },
    {
      "cell_type": "code",
      "source": [
        "# dump.collocates\n",
        "# dump.collocates(order='log_likelihood', cut_off=None)\n",
        "# \n",
        "dfColl = dump.collocates(order='mutual_information', cut_off=None)\n",
        "dump.collocates(order='mutual_information', cut_off=None)\n"
      ],
      "metadata": {
        "colab": {
          "base_uri": "https://localhost:8080/",
          "height": 582
        },
        "id": "M2Tv74j2_7ZD",
        "outputId": "60c4a6a1-f25a-456d-cb04-d6ec887f5ee6"
      },
      "execution_count": null,
      "outputs": [
        {
          "output_type": "stream",
          "name": "stderr",
          "text": [
            "specfied p-attribute(s) (\"lemma\") not available\n",
            "falling back to primary layer\n",
            "specfied p-attribute(s) (\"lemma\") not available\n",
            "falling back to primary layer\n"
          ]
        },
        {
          "output_type": "execute_result",
          "data": {
            "text/html": [
              "\n",
              "  <div id=\"df-7d1cf595-bf34-4d0b-8d05-66a8a89fa83a\">\n",
              "    <div class=\"colab-df-container\">\n",
              "      <div>\n",
              "<style scoped>\n",
              "    .dataframe tbody tr th:only-of-type {\n",
              "        vertical-align: middle;\n",
              "    }\n",
              "\n",
              "    .dataframe tbody tr th {\n",
              "        vertical-align: top;\n",
              "    }\n",
              "\n",
              "    .dataframe thead th {\n",
              "        text-align: right;\n",
              "    }\n",
              "</style>\n",
              "<table border=\"1\" class=\"dataframe\">\n",
              "  <thead>\n",
              "    <tr style=\"text-align: right;\">\n",
              "      <th></th>\n",
              "      <th>O11</th>\n",
              "      <th>O12</th>\n",
              "      <th>O21</th>\n",
              "      <th>O22</th>\n",
              "      <th>E11</th>\n",
              "      <th>E12</th>\n",
              "      <th>E21</th>\n",
              "      <th>E22</th>\n",
              "      <th>z_score</th>\n",
              "      <th>t_score</th>\n",
              "      <th>log_likelihood</th>\n",
              "      <th>simple_ll</th>\n",
              "      <th>dice</th>\n",
              "      <th>log_ratio</th>\n",
              "      <th>mutual_information</th>\n",
              "      <th>local_mutual_information</th>\n",
              "      <th>conservative_log_ratio</th>\n",
              "      <th>ipm</th>\n",
              "      <th>ipm_reference</th>\n",
              "      <th>ipm_expected</th>\n",
              "      <th>ipm_reference_expected</th>\n",
              "      <th>in_nodes</th>\n",
              "      <th>marginal</th>\n",
              "    </tr>\n",
              "    <tr>\n",
              "      <th>item</th>\n",
              "      <th></th>\n",
              "      <th></th>\n",
              "      <th></th>\n",
              "      <th></th>\n",
              "      <th></th>\n",
              "      <th></th>\n",
              "      <th></th>\n",
              "      <th></th>\n",
              "      <th></th>\n",
              "      <th></th>\n",
              "      <th></th>\n",
              "      <th></th>\n",
              "      <th></th>\n",
              "      <th></th>\n",
              "      <th></th>\n",
              "      <th></th>\n",
              "      <th></th>\n",
              "      <th></th>\n",
              "      <th></th>\n",
              "      <th></th>\n",
              "      <th></th>\n",
              "      <th></th>\n",
              "      <th></th>\n",
              "    </tr>\n",
              "  </thead>\n",
              "  <tbody>\n",
              "    <tr>\n",
              "      <th>parametric</th>\n",
              "      <td>2</td>\n",
              "      <td>21110</td>\n",
              "      <td>0</td>\n",
              "      <td>7934225</td>\n",
              "      <td>0.005308</td>\n",
              "      <td>21111.994692</td>\n",
              "      <td>1.994692</td>\n",
              "      <td>7.934223e+06</td>\n",
              "      <td>27.379501</td>\n",
              "      <td>1.410460</td>\n",
              "      <td>23.727216</td>\n",
              "      <td>19.737642</td>\n",
              "      <td>0.000189</td>\n",
              "      <td>10.553882</td>\n",
              "      <td>2.576129</td>\n",
              "      <td>5.152258</td>\n",
              "      <td>0.398702</td>\n",
              "      <td>94.732853</td>\n",
              "      <td>0.000000</td>\n",
              "      <td>0.251404</td>\n",
              "      <td>0.251404</td>\n",
              "      <td>0</td>\n",
              "      <td>2</td>\n",
              "    </tr>\n",
              "    <tr>\n",
              "      <th>mg/litre</th>\n",
              "      <td>2</td>\n",
              "      <td>21110</td>\n",
              "      <td>0</td>\n",
              "      <td>7934225</td>\n",
              "      <td>0.005308</td>\n",
              "      <td>21111.994692</td>\n",
              "      <td>1.994692</td>\n",
              "      <td>7.934223e+06</td>\n",
              "      <td>27.379501</td>\n",
              "      <td>1.410460</td>\n",
              "      <td>23.727216</td>\n",
              "      <td>19.737642</td>\n",
              "      <td>0.000189</td>\n",
              "      <td>10.553882</td>\n",
              "      <td>2.576129</td>\n",
              "      <td>5.152258</td>\n",
              "      <td>0.398702</td>\n",
              "      <td>94.732853</td>\n",
              "      <td>0.000000</td>\n",
              "      <td>0.251404</td>\n",
              "      <td>0.251404</td>\n",
              "      <td>0</td>\n",
              "      <td>2</td>\n",
              "    </tr>\n",
              "    <tr>\n",
              "      <th>calorific</th>\n",
              "      <td>2</td>\n",
              "      <td>21110</td>\n",
              "      <td>0</td>\n",
              "      <td>7934225</td>\n",
              "      <td>0.005308</td>\n",
              "      <td>21111.994692</td>\n",
              "      <td>1.994692</td>\n",
              "      <td>7.934223e+06</td>\n",
              "      <td>27.379501</td>\n",
              "      <td>1.410460</td>\n",
              "      <td>23.727216</td>\n",
              "      <td>19.737642</td>\n",
              "      <td>0.000189</td>\n",
              "      <td>10.553882</td>\n",
              "      <td>2.576129</td>\n",
              "      <td>5.152258</td>\n",
              "      <td>0.398702</td>\n",
              "      <td>94.732853</td>\n",
              "      <td>0.000000</td>\n",
              "      <td>0.251404</td>\n",
              "      <td>0.251404</td>\n",
              "      <td>0</td>\n",
              "      <td>2</td>\n",
              "    </tr>\n",
              "    <tr>\n",
              "      <th>added</th>\n",
              "      <td>202</td>\n",
              "      <td>20910</td>\n",
              "      <td>52</td>\n",
              "      <td>7934173</td>\n",
              "      <td>0.674069</td>\n",
              "      <td>21111.325931</td>\n",
              "      <td>253.325931</td>\n",
              "      <td>7.933972e+06</td>\n",
              "      <td>245.215241</td>\n",
              "      <td>14.165243</td>\n",
              "      <td>2141.140925</td>\n",
              "      <td>1901.234953</td>\n",
              "      <td>0.018909</td>\n",
              "      <td>10.511654</td>\n",
              "      <td>2.476647</td>\n",
              "      <td>500.282665</td>\n",
              "      <td>9.513875</td>\n",
              "      <td>9568.018189</td>\n",
              "      <td>6.553885</td>\n",
              "      <td>31.928251</td>\n",
              "      <td>31.928251</td>\n",
              "      <td>0</td>\n",
              "      <td>254</td>\n",
              "    </tr>\n",
              "    <tr>\n",
              "      <th>tax-based</th>\n",
              "      <td>2</td>\n",
              "      <td>21110</td>\n",
              "      <td>1</td>\n",
              "      <td>7934224</td>\n",
              "      <td>0.007961</td>\n",
              "      <td>21111.992039</td>\n",
              "      <td>2.992039</td>\n",
              "      <td>7.934222e+06</td>\n",
              "      <td>22.325527</td>\n",
              "      <td>1.408584</td>\n",
              "      <td>19.913445</td>\n",
              "      <td>18.121089</td>\n",
              "      <td>0.000189</td>\n",
              "      <td>9.553882</td>\n",
              "      <td>2.400038</td>\n",
              "      <td>4.800076</td>\n",
              "      <td>1.687763</td>\n",
              "      <td>94.732853</td>\n",
              "      <td>0.126036</td>\n",
              "      <td>0.377105</td>\n",
              "      <td>0.377105</td>\n",
              "      <td>0</td>\n",
              "      <td>3</td>\n",
              "    </tr>\n",
              "    <tr>\n",
              "      <th>...</th>\n",
              "      <td>...</td>\n",
              "      <td>...</td>\n",
              "      <td>...</td>\n",
              "      <td>...</td>\n",
              "      <td>...</td>\n",
              "      <td>...</td>\n",
              "      <td>...</td>\n",
              "      <td>...</td>\n",
              "      <td>...</td>\n",
              "      <td>...</td>\n",
              "      <td>...</td>\n",
              "      <td>...</td>\n",
              "      <td>...</td>\n",
              "      <td>...</td>\n",
              "      <td>...</td>\n",
              "      <td>...</td>\n",
              "      <td>...</td>\n",
              "      <td>...</td>\n",
              "      <td>...</td>\n",
              "      <td>...</td>\n",
              "      <td>...</td>\n",
              "      <td>...</td>\n",
              "      <td>...</td>\n",
              "    </tr>\n",
              "    <tr>\n",
              "      <th>purpose</th>\n",
              "      <td>3</td>\n",
              "      <td>21109</td>\n",
              "      <td>1121</td>\n",
              "      <td>7933104</td>\n",
              "      <td>2.982889</td>\n",
              "      <td>21109.017111</td>\n",
              "      <td>1121.017111</td>\n",
              "      <td>7.933104e+06</td>\n",
              "      <td>0.009907</td>\n",
              "      <td>0.009879</td>\n",
              "      <td>0.000098</td>\n",
              "      <td>0.000098</td>\n",
              "      <td>0.000270</td>\n",
              "      <td>0.008274</td>\n",
              "      <td>0.002484</td>\n",
              "      <td>0.007452</td>\n",
              "      <td>0.000000</td>\n",
              "      <td>142.099280</td>\n",
              "      <td>141.286641</td>\n",
              "      <td>141.288798</td>\n",
              "      <td>141.288798</td>\n",
              "      <td>0</td>\n",
              "      <td>1124</td>\n",
              "    </tr>\n",
              "    <tr>\n",
              "      <th>among</th>\n",
              "      <td>3</td>\n",
              "      <td>21109</td>\n",
              "      <td>1121</td>\n",
              "      <td>7933104</td>\n",
              "      <td>2.982889</td>\n",
              "      <td>21109.017111</td>\n",
              "      <td>1121.017111</td>\n",
              "      <td>7.933104e+06</td>\n",
              "      <td>0.009907</td>\n",
              "      <td>0.009879</td>\n",
              "      <td>0.000098</td>\n",
              "      <td>0.000098</td>\n",
              "      <td>0.000270</td>\n",
              "      <td>0.008274</td>\n",
              "      <td>0.002484</td>\n",
              "      <td>0.007452</td>\n",
              "      <td>0.000000</td>\n",
              "      <td>142.099280</td>\n",
              "      <td>141.286641</td>\n",
              "      <td>141.288798</td>\n",
              "      <td>141.288798</td>\n",
              "      <td>0</td>\n",
              "      <td>1124</td>\n",
              "    </tr>\n",
              "    <tr>\n",
              "      <th>that</th>\n",
              "      <td>374</td>\n",
              "      <td>20738</td>\n",
              "      <td>139828</td>\n",
              "      <td>7794397</td>\n",
              "      <td>372.070300</td>\n",
              "      <td>20739.929700</td>\n",
              "      <td>139829.929700</td>\n",
              "      <td>7.794395e+06</td>\n",
              "      <td>0.100041</td>\n",
              "      <td>0.099782</td>\n",
              "      <td>0.010198</td>\n",
              "      <td>0.009991</td>\n",
              "      <td>0.004637</td>\n",
              "      <td>0.007483</td>\n",
              "      <td>0.002247</td>\n",
              "      <td>0.840228</td>\n",
              "      <td>0.000000</td>\n",
              "      <td>17715.043577</td>\n",
              "      <td>17623.397370</td>\n",
              "      <td>17623.640582</td>\n",
              "      <td>17623.640582</td>\n",
              "      <td>0</td>\n",
              "      <td>140202</td>\n",
              "    </tr>\n",
              "    <tr>\n",
              "      <th>yes</th>\n",
              "      <td>2</td>\n",
              "      <td>21110</td>\n",
              "      <td>749</td>\n",
              "      <td>7933476</td>\n",
              "      <td>1.993016</td>\n",
              "      <td>21110.006984</td>\n",
              "      <td>749.006984</td>\n",
              "      <td>7.933476e+06</td>\n",
              "      <td>0.004947</td>\n",
              "      <td>0.004939</td>\n",
              "      <td>0.000025</td>\n",
              "      <td>0.000024</td>\n",
              "      <td>0.000183</td>\n",
              "      <td>0.005060</td>\n",
              "      <td>0.001519</td>\n",
              "      <td>0.003039</td>\n",
              "      <td>0.000000</td>\n",
              "      <td>94.732853</td>\n",
              "      <td>94.401154</td>\n",
              "      <td>94.402035</td>\n",
              "      <td>94.402035</td>\n",
              "      <td>0</td>\n",
              "      <td>751</td>\n",
              "    </tr>\n",
              "    <tr>\n",
              "      <th>examine</th>\n",
              "      <td>2</td>\n",
              "      <td>21110</td>\n",
              "      <td>750</td>\n",
              "      <td>7933475</td>\n",
              "      <td>1.995670</td>\n",
              "      <td>21110.004330</td>\n",
              "      <td>750.004330</td>\n",
              "      <td>7.933475e+06</td>\n",
              "      <td>0.003065</td>\n",
              "      <td>0.003062</td>\n",
              "      <td>0.000009</td>\n",
              "      <td>0.000009</td>\n",
              "      <td>0.000183</td>\n",
              "      <td>0.003135</td>\n",
              "      <td>0.000941</td>\n",
              "      <td>0.001883</td>\n",
              "      <td>0.000000</td>\n",
              "      <td>94.732853</td>\n",
              "      <td>94.527191</td>\n",
              "      <td>94.527737</td>\n",
              "      <td>94.527737</td>\n",
              "      <td>0</td>\n",
              "      <td>752</td>\n",
              "    </tr>\n",
              "  </tbody>\n",
              "</table>\n",
              "<p>710 rows × 23 columns</p>\n",
              "</div>\n",
              "      <button class=\"colab-df-convert\" onclick=\"convertToInteractive('df-7d1cf595-bf34-4d0b-8d05-66a8a89fa83a')\"\n",
              "              title=\"Convert this dataframe to an interactive table.\"\n",
              "              style=\"display:none;\">\n",
              "        \n",
              "  <svg xmlns=\"http://www.w3.org/2000/svg\" height=\"24px\"viewBox=\"0 0 24 24\"\n",
              "       width=\"24px\">\n",
              "    <path d=\"M0 0h24v24H0V0z\" fill=\"none\"/>\n",
              "    <path d=\"M18.56 5.44l.94 2.06.94-2.06 2.06-.94-2.06-.94-.94-2.06-.94 2.06-2.06.94zm-11 1L8.5 8.5l.94-2.06 2.06-.94-2.06-.94L8.5 2.5l-.94 2.06-2.06.94zm10 10l.94 2.06.94-2.06 2.06-.94-2.06-.94-.94-2.06-.94 2.06-2.06.94z\"/><path d=\"M17.41 7.96l-1.37-1.37c-.4-.4-.92-.59-1.43-.59-.52 0-1.04.2-1.43.59L10.3 9.45l-7.72 7.72c-.78.78-.78 2.05 0 2.83L4 21.41c.39.39.9.59 1.41.59.51 0 1.02-.2 1.41-.59l7.78-7.78 2.81-2.81c.8-.78.8-2.07 0-2.86zM5.41 20L4 18.59l7.72-7.72 1.47 1.35L5.41 20z\"/>\n",
              "  </svg>\n",
              "      </button>\n",
              "      \n",
              "  <style>\n",
              "    .colab-df-container {\n",
              "      display:flex;\n",
              "      flex-wrap:wrap;\n",
              "      gap: 12px;\n",
              "    }\n",
              "\n",
              "    .colab-df-convert {\n",
              "      background-color: #E8F0FE;\n",
              "      border: none;\n",
              "      border-radius: 50%;\n",
              "      cursor: pointer;\n",
              "      display: none;\n",
              "      fill: #1967D2;\n",
              "      height: 32px;\n",
              "      padding: 0 0 0 0;\n",
              "      width: 32px;\n",
              "    }\n",
              "\n",
              "    .colab-df-convert:hover {\n",
              "      background-color: #E2EBFA;\n",
              "      box-shadow: 0px 1px 2px rgba(60, 64, 67, 0.3), 0px 1px 3px 1px rgba(60, 64, 67, 0.15);\n",
              "      fill: #174EA6;\n",
              "    }\n",
              "\n",
              "    [theme=dark] .colab-df-convert {\n",
              "      background-color: #3B4455;\n",
              "      fill: #D2E3FC;\n",
              "    }\n",
              "\n",
              "    [theme=dark] .colab-df-convert:hover {\n",
              "      background-color: #434B5C;\n",
              "      box-shadow: 0px 1px 3px 1px rgba(0, 0, 0, 0.15);\n",
              "      filter: drop-shadow(0px 1px 2px rgba(0, 0, 0, 0.3));\n",
              "      fill: #FFFFFF;\n",
              "    }\n",
              "  </style>\n",
              "\n",
              "      <script>\n",
              "        const buttonEl =\n",
              "          document.querySelector('#df-7d1cf595-bf34-4d0b-8d05-66a8a89fa83a button.colab-df-convert');\n",
              "        buttonEl.style.display =\n",
              "          google.colab.kernel.accessAllowed ? 'block' : 'none';\n",
              "\n",
              "        async function convertToInteractive(key) {\n",
              "          const element = document.querySelector('#df-7d1cf595-bf34-4d0b-8d05-66a8a89fa83a');\n",
              "          const dataTable =\n",
              "            await google.colab.kernel.invokeFunction('convertToInteractive',\n",
              "                                                     [key], {});\n",
              "          if (!dataTable) return;\n",
              "\n",
              "          const docLinkHtml = 'Like what you see? Visit the ' +\n",
              "            '<a target=\"_blank\" href=https://colab.research.google.com/notebooks/data_table.ipynb>data table notebook</a>'\n",
              "            + ' to learn more about interactive tables.';\n",
              "          element.innerHTML = '';\n",
              "          dataTable['output_type'] = 'display_data';\n",
              "          await google.colab.output.renderOutput(dataTable, element);\n",
              "          const docLink = document.createElement('div');\n",
              "          docLink.innerHTML = docLinkHtml;\n",
              "          element.appendChild(docLink);\n",
              "        }\n",
              "      </script>\n",
              "    </div>\n",
              "  </div>\n",
              "  "
            ],
            "text/plain": [
              "            O11    O12     O21  ...  ipm_reference_expected  in_nodes  marginal\n",
              "item                            ...                                            \n",
              "parametric    2  21110       0  ...                0.251404         0         2\n",
              "mg/litre      2  21110       0  ...                0.251404         0         2\n",
              "calorific     2  21110       0  ...                0.251404         0         2\n",
              "added       202  20910      52  ...               31.928251         0       254\n",
              "tax-based     2  21110       1  ...                0.377105         0         3\n",
              "...         ...    ...     ...  ...                     ...       ...       ...\n",
              "purpose       3  21109    1121  ...              141.288798         0      1124\n",
              "among         3  21109    1121  ...              141.288798         0      1124\n",
              "that        374  20738  139828  ...            17623.640582         0    140202\n",
              "yes           2  21110     749  ...               94.402035         0       751\n",
              "examine       2  21110     750  ...               94.527737         0       752\n",
              "\n",
              "[710 rows x 23 columns]"
            ]
          },
          "metadata": {},
          "execution_count": 134
        }
      ]
    },
    {
      "cell_type": "code",
      "source": [
        "dfColl.to_excel(r'value_collstat.xlsx', index = True)"
      ],
      "metadata": {
        "id": "B1khxWZPRSg9"
      },
      "execution_count": null,
      "outputs": []
    },
    {
      "cell_type": "code",
      "source": [
        "def query2colist(qry, ord='mutual_information', cut=100, minFrq = 5, file=None, values = None):\n",
        "    query=None\n",
        "    dump = None\n",
        "    dfColl = None\n",
        "    LAll = None\n",
        "    retList = []\n",
        "\n",
        "    query = r'{}'.format(qry)\n",
        "    print(query)\n",
        "    dump = corpus.query(cqp_query=query, context=5)\n",
        "    dfColl = dump.collocates(order=ord, cut_off=None)\n",
        "    LIndex = dfColl.index.to_numpy().tolist()\n",
        "    LValues = dfColl[['O11','O21','mutual_information']].to_numpy().tolist()\n",
        "    LAll = list(zip(LIndex, LValues))\n",
        "    \n",
        "    i=0\n",
        "    for word, (o11, o21, mutual_information) in LAll:\n",
        "        oAll = o11+o21\n",
        "        if oAll >= minFrq:\n",
        "            i+=1\n",
        "            if values:\n",
        "                retList.append((word, int(o11), int(o21), int(oAll), mutual_information))\n",
        "            else:\n",
        "                retList.append(word)\n",
        "            if i>= cut:\n",
        "                break\n",
        "    if file:\n",
        "        FOut = open(file, 'w')\n",
        "        for el in retList:\n",
        "            FOut.write(str(el) + '\\n')\n",
        "        FOut.flush()\n",
        "    return retList\n"
      ],
      "metadata": {
        "id": "EA76ny8wtAHW"
      },
      "execution_count": null,
      "outputs": []
    },
    {
      "cell_type": "code",
      "source": [
        "rList = query2colist(\"'however'\", file='however_mi100_minFrq5.txt', values=True) "
      ],
      "metadata": {
        "colab": {
          "base_uri": "https://localhost:8080/"
        },
        "id": "0O2nshvX6ubZ",
        "outputId": "4f217b95-f1b9-4b34-b13e-084026b7aaf2"
      },
      "execution_count": null,
      "outputs": [
        {
          "output_type": "stream",
          "name": "stderr",
          "text": [
            "specfied p-attribute(s) (\"lemma\") not available\n",
            "falling back to primary layer\n"
          ]
        },
        {
          "output_type": "stream",
          "name": "stdout",
          "text": [
            "'however'\n"
          ]
        }
      ]
    },
    {
      "cell_type": "code",
      "source": [
        "rList"
      ],
      "metadata": {
        "id": "iUOjkhDm7LAN"
      },
      "execution_count": null,
      "outputs": []
    },
    {
      "cell_type": "code",
      "source": [
        "query = r'\"value\"'\n",
        "dump = corpus.query(\n",
        "  cqp_query=query,\n",
        "  context=5\n",
        ")\n",
        "dfColl = dump.collocates(order='mutual_information', cut_off=100)\n",
        "LIndex = dfColl.index.to_numpy().tolist()\n",
        "FOut = open('value_mi100_collstat.txt', 'w')\n",
        "for el in LIndex:\n",
        "    FOut.write(el + '\\n')\n",
        "FOut.flush()\n",
        "# dfColl.to_excel(r'value_collstat.xlsx', index = True)\n"
      ],
      "metadata": {
        "id": "qZYM2zqwWMcK",
        "colab": {
          "base_uri": "https://localhost:8080/"
        },
        "outputId": "d6dc0f47-3b27-4ea1-db14-f57b91a57b93"
      },
      "execution_count": null,
      "outputs": [
        {
          "output_type": "stream",
          "name": "stderr",
          "text": [
            "specfied p-attribute(s) (\"lemma\") not available\n",
            "falling back to primary layer\n"
          ]
        }
      ]
    },
    {
      "cell_type": "code",
      "source": [
        "query = r'\"however\"'\n",
        "dump = corpus.query(\n",
        "  cqp_query=query,\n",
        "  context=5\n",
        ")\n",
        "dfColl = dump.collocates(order='mutual_information', cut_off=None)\n",
        "dfColl.to_excel(r'however_collstat.xlsx', index = True)"
      ],
      "metadata": {
        "colab": {
          "base_uri": "https://localhost:8080/"
        },
        "id": "tEVNhV0PSicz",
        "outputId": "02d4f195-cdc2-416b-defb-57074fa0f0fb"
      },
      "execution_count": null,
      "outputs": [
        {
          "output_type": "stream",
          "name": "stderr",
          "text": [
            "specfied p-attribute(s) (\"lemma\") not available\n",
            "falling back to primary layer\n"
          ]
        }
      ]
    },
    {
      "cell_type": "code",
      "source": [
        "query = r'\"commission\"'\n",
        "dump = corpus.query(\n",
        "  cqp_query=query,\n",
        "  context=5\n",
        ")\n",
        "dfColl = dump.collocates(order='mutual_information', cut_off=None)\n",
        "dfColl.to_excel(r'commission_collstat.xlsx', index = True)"
      ],
      "metadata": {
        "colab": {
          "base_uri": "https://localhost:8080/"
        },
        "id": "_xEs--0aS-n4",
        "outputId": "587e706e-dcf0-4145-cdbe-1a6988ce5f36"
      },
      "execution_count": null,
      "outputs": [
        {
          "output_type": "stream",
          "name": "stderr",
          "text": [
            "specfied p-attribute(s) (\"lemma\") not available\n",
            "falling back to primary layer\n"
          ]
        }
      ]
    },
    {
      "cell_type": "code",
      "source": [
        "query = r'\"conclusion\"'\n",
        "dump = corpus.query(\n",
        "  cqp_query=query,\n",
        "  context=5\n",
        ")\n",
        "dfColl = dump.collocates(order='mutual_information', cut_off=None)\n",
        "dfColl.to_excel(r'conclusion_collstat.xlsx', index = True)"
      ],
      "metadata": {
        "colab": {
          "base_uri": "https://localhost:8080/"
        },
        "id": "lpOyweGSUAgs",
        "outputId": "15c923c1-96cd-4fbd-941a-7f062ccb3baa"
      },
      "execution_count": null,
      "outputs": [
        {
          "output_type": "stream",
          "name": "stderr",
          "text": [
            "specfied p-attribute(s) (\"lemma\") not available\n",
            "falling back to primary layer\n"
          ]
        }
      ]
    },
    {
      "cell_type": "code",
      "source": [
        "# lst = dfColl[['mutual_information', 'log_likelihood']].items()\n",
        "LIndex = dfColl.index.to_numpy().tolist()"
      ],
      "metadata": {
        "id": "36kNv1XTGCcB"
      },
      "execution_count": null,
      "outputs": []
    },
    {
      "cell_type": "code",
      "source": [
        "# z_score\tt_score\tlog_likelihood\tsimple_ll\tdice\tlog_ratio\tmutual_information\tlocal_mutual_information\tconservative_log_ratio\n",
        "# z_score, t_score, log_likelihood, simple_ll, dice, log_ratio, mutual_information, local_mutual_information, conservative_log_ratio\n",
        "# 'z_score', 't_score', 'log_likelihood', 'simple_ll', 'dice', 'log_ratio', 'mutual_information', 'local_mutual_information', 'conservative_log_ratio'\n",
        "# O11\tO12\tO21\tO22\tE11\tE12\tE21\tE22\n",
        "# 'O11', 'O12', 'O21', 'O22', 'E11', 'E12', 'E21', 'E22'\n",
        "LValues = dfColl[['O11', 'O12', 'O21', 'O22', 'E11', 'E12', 'E21', 'E22', 'z_score', 't_score', 'log_likelihood', 'simple_ll', 'dice', 'log_ratio', 'mutual_information', 'local_mutual_information', 'conservative_log_ratio']].to_numpy().tolist()"
      ],
      "metadata": {
        "id": "N8NQI4FnK4Hn"
      },
      "execution_count": null,
      "outputs": []
    },
    {
      "cell_type": "code",
      "source": [
        "print(len(LIndex), len(LValues))"
      ],
      "metadata": {
        "colab": {
          "base_uri": "https://localhost:8080/"
        },
        "id": "HtmFUSzFLpyf",
        "outputId": "f5796f7f-0055-4059-f3d3-f222192482a1"
      },
      "execution_count": null,
      "outputs": [
        {
          "output_type": "stream",
          "name": "stdout",
          "text": [
            "710 710\n"
          ]
        }
      ]
    },
    {
      "cell_type": "code",
      "source": [
        "LAll = list(zip(LIndex, LValues))"
      ],
      "metadata": {
        "id": "_NB9VoyLL_U0"
      },
      "execution_count": null,
      "outputs": []
    },
    {
      "cell_type": "code",
      "source": [
        "LAll"
      ],
      "metadata": {
        "id": "hRj-F81sMGqM"
      },
      "execution_count": null,
      "outputs": []
    },
    {
      "cell_type": "code",
      "source": [
        "lex = 'value'"
      ],
      "metadata": {
        "id": "fWiLC_MzPiqJ"
      },
      "execution_count": null,
      "outputs": []
    },
    {
      "cell_type": "code",
      "source": [
        "FOut = open(lex + '_collstat.txt', 'w')\n",
        "FOut.write(\"'Collocation','O11','O12','O21','O22','E11','E12','E21','E22','z_score','t_score','log_likelihood','simple_ll','dice','log_ratio','mutual_information','local_mutual_information','conservative_log_ratio'\\n\")\n",
        "for Word, LVals in LAll:\n",
        "    FOut.write(\"'\" + Word + \"'\" + ',')\n",
        "    LSVal = [str(IVal) for IVal in LVals]\n",
        "    SVal = ','.join(LSVal)\n",
        "    FOut.write(SVal + '\\n')"
      ],
      "metadata": {
        "id": "uSAiJafjNge5"
      },
      "execution_count": null,
      "outputs": []
    },
    {
      "cell_type": "code",
      "source": [],
      "metadata": {
        "id": "IvnLTG7LRO__"
      },
      "execution_count": null,
      "outputs": []
    },
    {
      "cell_type": "code",
      "source": [
        "for key, value in lst:\n",
        "  print(key, value)"
      ],
      "metadata": {
        "colab": {
          "base_uri": "https://localhost:8080/"
        },
        "id": "I0vLsuacHIQ7",
        "outputId": "5203f401-15a6-4fb4-d749-a4b316256d6e"
      },
      "execution_count": null,
      "outputs": [
        {
          "output_type": "stream",
          "name": "stdout",
          "text": [
            "mutual_information item\n",
            "parametric    2.576129\n",
            "mg/litre      2.576129\n",
            "calorific     2.576129\n",
            "added         2.476647\n",
            "tax-based     2.400038\n",
            "                ...   \n",
            "purpose       0.002484\n",
            "among         0.002484\n",
            "that          0.002247\n",
            "yes           0.001519\n",
            "examine       0.000941\n",
            "Name: mutual_information, Length: 710, dtype: float64\n",
            "log_likelihood item\n",
            "parametric      23.727216\n",
            "mg/litre        23.727216\n",
            "calorific       23.727216\n",
            "added         2141.140925\n",
            "tax-based       19.913445\n",
            "                 ...     \n",
            "purpose          0.000098\n",
            "among            0.000098\n",
            "that             0.010198\n",
            "yes              0.000025\n",
            "examine          0.000009\n",
            "Name: log_likelihood, Length: 710, dtype: float64\n"
          ]
        }
      ]
    }
  ]
}