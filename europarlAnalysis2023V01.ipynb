{
  "nbformat": 4,
  "nbformat_minor": 0,
  "metadata": {
    "colab": {
      "provenance": [],
      "authorship_tag": "ABX9TyN6Yh2Wire6ELgR/NYBw2Zt",
      "include_colab_link": true
    },
    "kernelspec": {
      "name": "python3",
      "display_name": "Python 3"
    },
    "language_info": {
      "name": "python"
    }
  },
  "cells": [
    {
      "cell_type": "markdown",
      "metadata": {
        "id": "view-in-github",
        "colab_type": "text"
      },
      "source": [
        "<a href=\"https://colab.research.google.com/github/iued-uni-heidelberg/corpustools/blob/main/europarlAnalysis2023V01.ipynb\" target=\"_parent\"><img src=\"https://colab.research.google.com/assets/colab-badge.svg\" alt=\"Open In Colab\"/></a>"
      ]
    },
    {
      "cell_type": "markdown",
      "source": [
        "# Analysing Europarl corpora: directionality in translation\n",
        "## Discovering translation parameter in original vs. translated corpora"
      ],
      "metadata": {
        "id": "_fAptxiKWpvH"
      }
    },
    {
      "cell_type": "code",
      "execution_count": null,
      "metadata": {
        "id": "PkEzhCUxWdA0"
      },
      "outputs": [],
      "source": [
        "%%bash\n",
        "# dowloading datasets\n",
        "wget https://heibox.uni-heidelberg.de/f/a1cb95b59a404c1998ab/?dl=1\n",
        "mv index.html?dl=1 ep_org_de.tgz\n",
        "wget https://heibox.uni-heidelberg.de/f/ad00fed92da841198943/?dl=1\n",
        "mv index.html?dl=1 ep_org_en.tgz\n",
        "wget https://heibox.uni-heidelberg.de/f/b4913557be5b44dba797/?dl=1\n",
        "mv index.html?dl=1 ep_trans_de_en.tgz\n",
        "wget https://heibox.uni-heidelberg.de/f/7d1f642beb434d4a8878/?dl=1\n",
        "mv index.html?dl=1 ep_trans_en_de.tgz"
      ]
    },
    {
      "cell_type": "markdown",
      "source": [
        "## Original and translation corpora"
      ],
      "metadata": {
        "id": "yL48o6qzWoYH"
      }
    },
    {
      "cell_type": "code",
      "source": [
        "%%bash\n",
        "ls ./"
      ],
      "metadata": {
        "id": "tCUDcKFuYTno"
      },
      "execution_count": null,
      "outputs": []
    },
    {
      "cell_type": "code",
      "source": [
        "%%bash\n",
        "tar xvzf ep_org_de.tgz\n",
        "tar xvzf ep_org_en.tgz\n",
        "tar xvzf ep_trans_de_en.tgz\n",
        "tar xvzf ep_trans_en_de.tgz"
      ],
      "metadata": {
        "id": "68rHSjARYb0m"
      },
      "execution_count": null,
      "outputs": []
    },
    {
      "cell_type": "code",
      "source": [
        "%%bash\n",
        "cat ep_org_de/* >ep_org_de.vert\n",
        "cat ep_org_en/* >ep_org_en.vert\n",
        "cat ep_trans_de_en/* >ep_trans_de_en.vert\n",
        "cat ep_trans_en_de/* >ep_trans_en_de.vert\n"
      ],
      "metadata": {
        "id": "Xfv2dI98chao"
      },
      "execution_count": 4,
      "outputs": []
    },
    {
      "cell_type": "code",
      "source": [
        "%%bash\n",
        "wc ep_org_de.vert\n",
        "wc ep_org_en.vert\n",
        "wc ep_trans_de_en.vert\n",
        "wc ep_trans_en_de.vert\n"
      ],
      "metadata": {
        "colab": {
          "base_uri": "https://localhost:8080/"
        },
        "id": "5pcdihnWdACx",
        "outputId": "6fa8ef07-1704-4dd8-d2d8-78a09751e2b8"
      },
      "execution_count": 5,
      "outputs": [
        {
          "output_type": "stream",
          "name": "stdout",
          "text": [
            " 4616795 13890492 83988042 ep_org_de.vert\n",
            " 4657686 14017453 71587447 ep_org_en.vert\n",
            " 5161989 15526775 78117513 ep_trans_de_en.vert\n",
            " 4568156 13747601 84879715 ep_trans_en_de.vert\n"
          ]
        }
      ]
    },
    {
      "cell_type": "code",
      "source": [
        "%%bash\n",
        "wc *.vert\n"
      ],
      "metadata": {
        "id": "HJX4scWMdliN"
      },
      "execution_count": null,
      "outputs": []
    },
    {
      "cell_type": "code",
      "source": [
        "!head -n 40 ep_org_de.vert"
      ],
      "metadata": {
        "id": "HsPcfGZkgXuw"
      },
      "execution_count": null,
      "outputs": []
    },
    {
      "cell_type": "code",
      "source": [
        "# selecting column 1 (for lemmatization with the TreeTagger)\n",
        "!awk -F '\\t' '{if($0 ~ /^</){printf \"\\n%s\\n\", $0}else if(NF==3){j++; printf \"%s \", $1}} END{print j+0  > \"/dev/stderr\" }' <ep_org_de.vert >ep_org_de.txt\n",
        "!awk -F '\\t' '{if($0 ~ /^</){printf \"\\n%s\\n\", $0}else if(NF==3){j++; printf \"%s \", $1}} END{print j+0  > \"/dev/stderr\" }' <ep_org_en.vert >ep_org_en.txt\n",
        "!awk -F '\\t' '{if($0 ~ /^</){printf \"\\n%s\\n\", $0}else if(NF==3){j++; printf \"%s \", $1}} END{print j+0  > \"/dev/stderr\" }' <ep_trans_de_en.vert >ep_trans_de_en.txt\n",
        "!awk -F '\\t' '{if($0 ~ /^</){printf \"\\n%s\\n\", $0}else if(NF==3){j++; printf \"%s \", $1}} END{print j+0  > \"/dev/stderr\" }' <ep_trans_en_de.vert >ep_trans_en_de.txt"
      ],
      "metadata": {
        "colab": {
          "base_uri": "https://localhost:8080/"
        },
        "id": "n29I3WNUueJ8",
        "outputId": "2e96470d-0a46-4f01-f3fe-e0eb285cd341"
      },
      "execution_count": 11,
      "outputs": [
        {
          "output_type": "stream",
          "name": "stdout",
          "text": [
            "4450075\n",
            "4474780\n",
            "4995111\n",
            "4385848\n"
          ]
        }
      ]
    },
    {
      "cell_type": "code",
      "source": [
        "!head -n 40 ep_trans_en_de.txt"
      ],
      "metadata": {
        "id": "RFePq87exbSe"
      },
      "execution_count": null,
      "outputs": []
    },
    {
      "cell_type": "code",
      "source": [
        "# selecting column 3 (for using original lemmatization)\n",
        "# !awk -F '\\t' '{if($0 ~ /^</){printf \"%s\\n\", $0}else if(NF==3){j++; printf \"%s \", $3}} END{print j+0  > \"/dev/stderr\" }' <ep_org_de.vert >ep_org_de_lem.txt\n",
        "!awk -F '\\t' '{if($0 ~ /^</){printf \"%s\\n\", $0}else if(NF==3){j++; printf \"%s \", $3}} END{print j+0  > \"/dev/stderr\" }' <ep_org_de.vert >ep_org_de_lem0.txt\n",
        "!awk -F '\\t' '{if($0 ~ /^</){printf \"%s\\n\", $0}else if(NF==3){j++; printf \"%s \", $3}} END{print j+0  > \"/dev/stderr\" }' <ep_org_en.vert >ep_org_en_lem0.txt\n",
        "!awk -F '\\t' '{if($0 ~ /^</){printf \"%s\\n\", $0}else if(NF==3){j++; printf \"%s \", $3}} END{print j+0  > \"/dev/stderr\" }' <ep_trans_de_en.vert >ep_trans_de_en_lem0.txt\n",
        "!awk -F '\\t' '{if($0 ~ /^</){printf \"%s\\n\", $0}else if(NF==3){j++; printf \"%s \", $3}} END{print j+0  > \"/dev/stderr\" }' <ep_trans_en_de.vert >ep_trans_en_de_lem0.txt"
      ],
      "metadata": {
        "colab": {
          "base_uri": "https://localhost:8080/"
        },
        "id": "k1-oIEZTeO6S",
        "outputId": "8ec528d7-dafe-43e0-9126-78e5b8b6c38c"
      },
      "execution_count": null,
      "outputs": [
        {
          "output_type": "stream",
          "name": "stdout",
          "text": [
            "4450075\n"
          ]
        }
      ]
    },
    {
      "cell_type": "code",
      "source": [
        "!head -n 40 /content/ep_org_de_lem.txt\n",
        "!wc /content/ep_org_de_lem.txt"
      ],
      "metadata": {
        "id": "N3iEXABBip1w"
      },
      "execution_count": null,
      "outputs": []
    },
    {
      "cell_type": "markdown",
      "source": [
        "## Lemmatization with TreeTagger (English, German)"
      ],
      "metadata": {
        "id": "KMxEDKwYv9P6"
      }
    },
    {
      "cell_type": "code",
      "source": [
        "%%bash\n",
        "mkdir treetagger\n",
        "cd treetagger\n",
        "# Download the tagger package for your system (PC-Linux, Mac OS-X, ARM64, ARMHF, ARM-Android, PPC64le-Linux).\n",
        "wget https://cis.lmu.de/~schmid/tools/TreeTagger/data/tree-tagger-linux-3.2.4.tar.gz\n",
        "tar -xzvf tree-tagger-linux-3.2.4.tar.gz\n",
        "# Download the tagging scripts into the same directory.\n",
        "wget https://cis.lmu.de/~schmid/tools/TreeTagger/data/tagger-scripts.tar.gz\n",
        "gunzip tagger-scripts.tar.gz\n",
        "# Download the installation script install-tagger.sh.\n",
        "wget https://cis.lmu.de/~schmid/tools/TreeTagger/data/install-tagger.sh\n",
        "# Download the parameter files for the languages you want to process.\n",
        "# list of all files (parameter files) https://cis.lmu.de/~schmid/tools/TreeTagger/#parfiles\n",
        "wget https://cis.lmu.de/~schmid/tools/TreeTagger/data/english.par.gz\n",
        "sh install-tagger.sh\n",
        "cd ..\n",
        "sudo pip install treetaggerwrapper\n",
        "# changing options: no-unknown, sgml, lemma\n",
        "mv /content/treetagger/cmd/tree-tagger-english /content/tree-tagger-english0\n",
        "awk '{ if (NR == 9) print \"OPTIONS=\\\"-token -lemma -sgml -no-unknown\\\"\"; else print $0}' /content/tree-tagger-english0 > /content/treetagger/cmd/tree-tagger-english\n",
        "chmod a+x ./treetagger/cmd/tree-tagger-english\n",
        "\n",
        "# downloading German\n",
        "wget https://heibox.uni-heidelberg.de/f/ec8226edebb64a359407/?dl=1\n",
        "mv index.html?dl=1 /content/treetagger/lib/german-utf8.par\n",
        "\n",
        "# German2 = -no-unknown \n",
        "# note: the default \"tree-tagger-german\" command file will not work, as parameter files have not been downloaded, only use tree-tagger-german2\n",
        "wget https://heibox.uni-heidelberg.de/f/acb9b8a2fa4f40e08f8a/?dl=1\n",
        "mv index.html?dl=1 /content/treetagger/cmd/tree-tagger-german2\n",
        "\n",
        "chmod a+x /content/treetagger/cmd/tree-tagger-german2\n"
      ],
      "metadata": {
        "id": "Rep2Egliv8py"
      },
      "execution_count": null,
      "outputs": []
    },
    {
      "cell_type": "code",
      "source": [
        "!./treetagger/cmd/tree-tagger-english <ep_org_en.txt >ep_org_en_lem1TT.txt\n",
        "!./treetagger/cmd/tree-tagger-english <ep_trans_de_en.txt >ep_trans_de_en_lem1TT.txt\n",
        "\n",
        "!./treetagger/cmd/tree-tagger-german2 <ep_org_de.txt >ep_org_de_lem1TT.txt\n",
        "!./treetagger/cmd/tree-tagger-german2 <ep_trans_en_de.txt >ep_trans_en_de_lem1TT.txt\n"
      ],
      "metadata": {
        "id": "J8BorZyTwlXm"
      },
      "execution_count": null,
      "outputs": []
    }
  ]
}