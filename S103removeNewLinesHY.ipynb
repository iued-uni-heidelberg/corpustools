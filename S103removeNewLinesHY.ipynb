{
  "nbformat": 4,
  "nbformat_minor": 0,
  "metadata": {
    "colab": {
      "provenance": [],
      "authorship_tag": "ABX9TyNqNKotGfET4ZmqYco57yeR",
      "include_colab_link": true
    },
    "kernelspec": {
      "name": "python3",
      "display_name": "Python 3"
    },
    "language_info": {
      "name": "python"
    }
  },
  "cells": [
    {
      "cell_type": "markdown",
      "metadata": {
        "id": "view-in-github",
        "colab_type": "text"
      },
      "source": [
        "<a href=\"https://colab.research.google.com/github/iued-uni-heidelberg/corpustools/blob/main/S103removeNewLinesHY.ipynb\" target=\"_parent\"><img src=\"https://colab.research.google.com/assets/colab-badge.svg\" alt=\"Open In Colab\"/></a>"
      ]
    },
    {
      "cell_type": "markdown",
      "source": [
        "# Post-processing OCR files: \n",
        "## removing new lines"
      ],
      "metadata": {
        "id": "v_xzHY3htXo2"
      }
    },
    {
      "cell_type": "code",
      "source": [
        "!wget https://heibox.uni-heidelberg.de/f/5b253268b2d943e0ae5d/?dl=1\n",
        "!mv index.html?dl=1 Parfum_Arm_200.txt"
      ],
      "metadata": {
        "id": "30E8TSgxNORg"
      },
      "execution_count": null,
      "outputs": []
    },
    {
      "cell_type": "code",
      "source": [
        "# VA: dealing with Armenian Tesseract output\n",
        "## please first download the file Parfum_Arm_200.txt\n",
        "\n",
        "# FName = 'ocrOutHY.txt'\n",
        "# FNameOut = 'ocrLinesHY.txt'\n",
        "\n",
        "FName = '/content/Parfum_Arm_200.txt'\n",
        "FNameOut = '/content/Parfum_Arm_200.p.txt'\n",
        "\n",
        "\n",
        "FIn = open(FName, 'r')\n",
        "FOut = open(FNameOut, 'w')\n",
        "\n",
        "for SLine in FIn:\n",
        "    SLine = SLine.strip()\n",
        "    if SLine == '': \n",
        "        FOut.write('\\n\\n')\n",
        "        continue\n",
        "    if SLine[-1] != '-':\n",
        "        SLine2write = SLine+\"\\n\" +\"\\n\"\n",
        "        FOut.write(SLine2write)\n",
        "        continue\n",
        "    if SLine[-1] == '-':\n",
        "        SLine2write = SLine[-1]\n",
        "        FOut.write(SLine2write + ' ')\n",
        "FOut.flush()\n"
      ],
      "metadata": {
        "id": "BtgiYazNMI6l"
      },
      "execution_count": 2,
      "outputs": []
    },
    {
      "cell_type": "code",
      "execution_count": null,
      "metadata": {
        "id": "aEYquDx1tH2H"
      },
      "outputs": [],
      "source": [
        "# original upload or download your files, .eg.\n",
        "\n",
        "# armenian\n",
        "!wget https://heibox.uni-heidelberg.de/f/cae0071a34a34d4eb2d8/?dl=1\n",
        "!mv index.html?dl=1 ocrOutHY.txt\n",
        "\n",
        "!wget https://heibox.uni-heidelberg.de/f/0c8371f5ee234cbd8d5f/?dl=1\n",
        "!mv index.html?dl=1 ocrOutKA.txt"
      ]
    },
    {
      "cell_type": "code",
      "source": [
        "## original version\n",
        "# FName = 'ocrOutHY.txt'\n",
        "# FNameOut = 'ocrLinesHY.txt'\n",
        "\n",
        "FName = 'ocrOutKA.txt'\n",
        "FNameOut = 'ocrLinesKA.txt'\n",
        "\n",
        "\n",
        "FIn = open(FName, 'r')\n",
        "FOut = open(FNameOut, 'w')\n",
        "\n",
        "for SLine in FIn:\n",
        "    SLine = SLine.strip()\n",
        "    if SLine == '': \n",
        "        FOut.write('\\n\\n')\n",
        "        continue\n",
        "    if SLine[-1] == '-':\n",
        "        SLine2write = SLine[:-1]\n",
        "        FOut.write(SLine2write)\n",
        "        continue\n",
        "\n",
        "    FOut.write(SLine + ' ')\n",
        "FOut.flush()\n",
        "\n"
      ],
      "metadata": {
        "id": "qaf1QpK8uN-1"
      },
      "execution_count": null,
      "outputs": []
    }
  ]
}