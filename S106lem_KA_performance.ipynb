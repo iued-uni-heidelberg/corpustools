{
  "nbformat": 4,
  "nbformat_minor": 0,
  "metadata": {
    "colab": {
      "provenance": [],
      "authorship_tag": "ABX9TyO3l/HEDbDrgeBPBGo503TR",
      "include_colab_link": true
    },
    "kernelspec": {
      "name": "python3",
      "display_name": "Python 3"
    },
    "language_info": {
      "name": "python"
    }
  },
  "cells": [
    {
      "cell_type": "markdown",
      "metadata": {
        "id": "view-in-github",
        "colab_type": "text"
      },
      "source": [
        "<a href=\"https://colab.research.google.com/github/iued-uni-heidelberg/corpustools/blob/main/S106lem_KA_performance.ipynb\" target=\"_parent\"><img src=\"https://colab.research.google.com/assets/colab-badge.svg\" alt=\"Open In Colab\"/></a>"
      ]
    },
    {
      "cell_type": "code",
      "execution_count": 1,
      "metadata": {
        "colab": {
          "base_uri": "https://localhost:8080/"
        },
        "id": "MpH5r4vxDGQJ",
        "outputId": "f871cfb7-bf4c-4a8e-988a-dacafaa6c022"
      },
      "outputs": [
        {
          "output_type": "stream",
          "name": "stdout",
          "text": [
            "--2023-07-31 08:26:01--  https://heibox.uni-heidelberg.de/f/0b25b8ae9581461dbb75/?dl=1\n",
            "Resolving heibox.uni-heidelberg.de (heibox.uni-heidelberg.de)... 129.206.7.113\n",
            "Connecting to heibox.uni-heidelberg.de (heibox.uni-heidelberg.de)|129.206.7.113|:443... connected.\n",
            "HTTP request sent, awaiting response... 302 Found\n",
            "Location: https://heibox.uni-heidelberg.de/seafhttp/files/da2039c1-5c4a-42da-bbee-2aa58d3b948f/corrected2023-07.zip [following]\n",
            "--2023-07-31 08:26:01--  https://heibox.uni-heidelberg.de/seafhttp/files/da2039c1-5c4a-42da-bbee-2aa58d3b948f/corrected2023-07.zip\n",
            "Reusing existing connection to heibox.uni-heidelberg.de:443.\n",
            "HTTP request sent, awaiting response... 200 OK\n",
            "Length: 30793606 (29M) [application/zip]\n",
            "Saving to: ‘index.html?dl=1’\n",
            "\n",
            "index.html?dl=1     100%[===================>]  29.37M  17.0MB/s    in 1.7s    \n",
            "\n",
            "2023-07-31 08:26:03 (17.0 MB/s) - ‘index.html?dl=1’ saved [30793606/30793606]\n",
            "\n"
          ]
        }
      ],
      "source": [
        "!wget https://heibox.uni-heidelberg.de/f/0b25b8ae9581461dbb75/?dl=1"
      ]
    },
    {
      "cell_type": "code",
      "source": [
        "!mv index.html?dl=1 corrected2023-07.zip"
      ],
      "metadata": {
        "id": "zqXqac4oDgBO"
      },
      "execution_count": 2,
      "outputs": []
    },
    {
      "cell_type": "code",
      "source": [
        "!unzip corrected2023-07.zip"
      ],
      "metadata": {
        "id": "dO0JYnnVDnh0"
      },
      "execution_count": null,
      "outputs": []
    }
  ]
}