{
  "nbformat": 4,
  "nbformat_minor": 0,
  "metadata": {
    "colab": {
      "provenance": [],
      "authorship_tag": "ABX9TyMpVlmN5iXk9tLOamLRcuO+",
      "include_colab_link": true
    },
    "kernelspec": {
      "name": "python3",
      "display_name": "Python 3"
    },
    "language_info": {
      "name": "python"
    }
  },
  "cells": [
    {
      "cell_type": "markdown",
      "metadata": {
        "id": "view-in-github",
        "colab_type": "text"
      },
      "source": [
        "<a href=\"https://colab.research.google.com/github/iued-uni-heidelberg/corpustools/blob/main/test_awk.ipynb\" target=\"_parent\"><img src=\"https://colab.research.google.com/assets/colab-badge.svg\" alt=\"Open In Colab\"/></a>"
      ]
    },
    {
      "cell_type": "code",
      "execution_count": 1,
      "metadata": {
        "id": "OMRTtNdoS_Nt"
      },
      "outputs": [],
      "source": [
        "!awk -F '\\t' '(NF==3){printf \"%s \", $3; if(FNR % 10000 == 0){printf \"\\n\"}}' < cord19_1k.vert >cord19_1k.lem"
      ]
    },
    {
      "cell_type": "code",
      "source": [
        "!awk -F '\\t' '{if($1 ~ /</) printf \"%s\\n\", $0; else if(NF==3) printf \"%s \", $3; else printf \"%s\\n\", $1}' < cord19_1k.vert >cord19_1k02.lem"
      ],
      "metadata": {
        "id": "art9wYd3Taff"
      },
      "execution_count": 8,
      "outputs": []
    },
    {
      "cell_type": "code",
      "source": [
        "!awk -F '\\t' '{if(NF==3) printf \"%s \", $3; else printf \"\\n%s\\n\", $0}' < cord19_1k.vert >cord19_1k02.lem"
      ],
      "metadata": {
        "id": "aGhCYWauWuJs"
      },
      "execution_count": 11,
      "outputs": []
    }
  ]
}