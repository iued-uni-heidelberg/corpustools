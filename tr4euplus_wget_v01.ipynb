{
  "nbformat": 4,
  "nbformat_minor": 0,
  "metadata": {
    "colab": {
      "provenance": [],
      "authorship_tag": "ABX9TyO+AQC5G4GEeZkIBgrlMVlz",
      "include_colab_link": true
    },
    "kernelspec": {
      "name": "python3",
      "display_name": "Python 3"
    },
    "language_info": {
      "name": "python"
    }
  },
  "cells": [
    {
      "cell_type": "markdown",
      "metadata": {
        "id": "view-in-github",
        "colab_type": "text"
      },
      "source": [
        "<a href=\"https://colab.research.google.com/github/iued-uni-heidelberg/corpustools/blob/main/tr4euplus_wget_v01.ipynb\" target=\"_parent\"><img src=\"https://colab.research.google.com/assets/colab-badge.svg\" alt=\"Open In Colab\"/></a>"
      ]
    },
    {
      "cell_type": "code",
      "execution_count": null,
      "metadata": {
        "id": "p-JET9nLf_0a"
      },
      "outputs": [],
      "source": [
        "!wget --recursive https://4euplus.eu/"
      ]
    },
    {
      "cell_type": "code",
      "source": [
        "!tar -cvzf 4euplus-eu.tgz 4euplus.eu"
      ],
      "metadata": {
        "id": "5AeI_FQ3pkOA"
      },
      "execution_count": null,
      "outputs": []
    },
    {
      "cell_type": "code",
      "source": [
        "!wget https://heibox.uni-heidelberg.de/f/97e2ca8def1f43ccbb51/?dl=1"
      ],
      "metadata": {
        "id": "qsMonq7AsOLT"
      },
      "execution_count": null,
      "outputs": []
    },
    {
      "cell_type": "code",
      "source": [
        "!mv index.html?dl=1 4euplus-eu.tgz"
      ],
      "metadata": {
        "id": "YvY-_Gyst0bb"
      },
      "execution_count": 4,
      "outputs": []
    },
    {
      "cell_type": "code",
      "source": [
        "!tar xvzf 4euplus-eu.tgz"
      ],
      "metadata": {
        "id": "UKIx_Nx2t9xu"
      },
      "execution_count": null,
      "outputs": []
    },
    {
      "cell_type": "code",
      "source": [
        "!apt-get install lynx"
      ],
      "metadata": {
        "id": "JWDeOMW2uD7W"
      },
      "execution_count": null,
      "outputs": []
    },
    {
      "cell_type": "code",
      "source": [
        "!lynx --dump /content/4euplus.eu/4EU-150.html? > /content/4EU-150_.txt"
      ],
      "metadata": {
        "id": "UrX8U94ovT9r"
      },
      "execution_count": 9,
      "outputs": []
    },
    {
      "cell_type": "code",
      "source": [
        "!lynx --dump /content/4euplus.eu/4EU-150.html > /content/4EU-150.txt"
      ],
      "metadata": {
        "id": "-vJx4fpquaWY"
      },
      "execution_count": 8,
      "outputs": []
    },
    {
      "cell_type": "code",
      "source": [
        "!diff 4EU-150.txt 4EU-150_.txt"
      ],
      "metadata": {
        "id": "-YTTTo3ovcdE"
      },
      "execution_count": null,
      "outputs": []
    },
    {
      "cell_type": "code",
      "source": [
        "!lynx --dump '/content/4euplus.eu/4EU-12.html?news=11343&amp;locale=en&page=2' >4EU-12-news-11343.txt"
      ],
      "metadata": {
        "id": "MVyDRWzxv2pK"
      },
      "execution_count": 13,
      "outputs": []
    },
    {
      "cell_type": "code",
      "source": [
        "# -*- coding: utf-8 -*-\n",
        "# Python script to open each file, read json input and copy to one text file for subsequent processing\n",
        "import os, re, sys\n",
        "\n",
        "class clHtmlDir2txt(object):\n",
        "    '''\n",
        "    @author Bogdan Babych, IÜD, Heidelberg University, 2021\n",
        "    @email bogdan [dot] babych [at] iued [dot] uni-heidelberg [dot] de\n",
        "    '''\n",
        "    def __init__(self, SDirName, output_file = 'corpus_text.txt', tag='doc', id=1000000): # initialising by openning the directories\n",
        "        self.SOutput_file = output_file\n",
        "        self.STag = tag\n",
        "        self.ID = id\n",
        "        self.openDir(SDirName)\n",
        "        return\n",
        "\n",
        "    def openDir(self, path): # implementation of recursively openning directories from a given rule directory and reading each file recursively into a string\n",
        "        i = 0\n",
        "        FOut = open(self.SOutput_file, 'w')\n",
        "\n",
        "        for root,d_names,f_names in os.walk(path):\n",
        "            for f in f_names:\n",
        "                # if not re.match('^[0-9]+$', f):\n",
        "                if not re.search('html', f):\n",
        "                    print(f'Skipped: {f}')\n",
        "                    continue\n",
        "\n",
        "                i+=1\n",
        "                iid = self.ID + i\n",
        "                siid = str(iid)\n",
        "                f2 = siid + '.html'\n",
        "                fullpath = os.path.join(root, f)\n",
        "\n",
        "                fullpath2 = os.path.join('/content/4euplus2eu', f2)\n",
        "\n",
        "                SCommandCP = 'cp ' + fullpath + ' ' + fullpath2\n",
        "                os.system(SCommandCP)\n",
        "\n",
        "\n",
        "                if i%1==0:\n",
        "                    print(str(i) + '. Processing: ' + f)\n",
        "                    print(fullpath)\n",
        "\n",
        "                    # FIn = open(fullpath,'r')\n",
        "                    # SIn = FIn.read()\n",
        "                    # apply text filter, if not None\n",
        "                    # if self.STextFilter and (re.search(self.RFilter, SIn) == None): continue\n",
        "                    # SText2Write = self.procFile(SIn,f,i)\n",
        "\n",
        "\n",
        "\n",
        "                SText2Write = self.procFile(fullpath2, f2, i) # returns converted string + tags\n",
        "                if SText2Write: FOut.write(SText2Write) # if the string is not empty then write to file\n",
        "                    # FIn.close()\n",
        "                try:\n",
        "                    pass\n",
        "                except:\n",
        "                    print(f'file {f} cannot be read or processed')\n",
        "                finally:\n",
        "                    pass\n",
        "\n",
        "        FOut.flush()\n",
        "        FOut.close()\n",
        "\n",
        "        return\n",
        "\n",
        "\n",
        "    def procFile(self, fullpath, SFNameIn, i): # sending each json string for extraction of text and attaching an correct tags to each output string output string\n",
        "        STagOpen = '<' + self.STag + ' id=\"' + self.STag + str(self.ID + i)  + '\">\\n'\n",
        "        STagClose = '\\n' + self.STag + '>\\n\\n'\n",
        "        SText4Corpus = self.getString(fullpath, SFNameIn)\n",
        "        if SText4Corpus:\n",
        "            return STagOpen + SText4Corpus + STagClose\n",
        "        else:\n",
        "            print('\\tNo data read from: ' + SFNameIn)\n",
        "            return None\n",
        "\n",
        "\n",
        "    def getString(self, fullpath, SFNameIn):\n",
        "        '''\n",
        "        the function uses system commands to copy, open and extract content of needed files\n",
        "        '''\n",
        "        # iconv -c -t UTF-8 < input.txt > output.txt\n",
        "        # iconv -f UTF-8 -t UTF-8//IGNORE 219624.txt > 219624_V2.txt\n",
        "        # last works!\n",
        "\n",
        "        SFNameHTML = SFNameIn + '_1.html'\n",
        "        SFNameTXT2 = SFNameIn + '_2.txt'\n",
        "        SFNameTXT3 = SFNameIn + '_3.txt'\n",
        "\n",
        "        SCommand = 'cp ' + fullpath + ' ./' + SFNameHTML\n",
        "        os.system(SCommand)\n",
        "\n",
        "        SCommand2 = 'lynx --dump ./' + SFNameHTML + ' > ' + SFNameTXT2\n",
        "        os.system(SCommand2)\n",
        "\n",
        "        # SCommand2 = 'iconv -c -t UTF-8 < ' + SFNameHTML + ' > ' + SFNameHTML2\n",
        "        SCommand3 = 'iconv -f UTF-8 -t UTF-8//IGNORE ' + SFNameTXT2 + ' > ' + SFNameTXT3\n",
        "        os.system(SCommand3)\n",
        "\n",
        "        # stream = os.popen('lynx --dump ./' + SFNameHTML2)\n",
        "        # SFileContent = stream.read()\n",
        "\n",
        "        F2Read = open('./' + SFNameTXT3, 'r', encoding=\"utf8\", errors=\"surrogateescape\")\n",
        "        SFileContent = F2Read.read()\n",
        "\n",
        "        LFileContent = re.split('\\n\\n+', SFileContent, flags=re.MULTILINE|re.DOTALL)\n",
        "        print(len(LFileContent))\n",
        "        print(LFileContent[0])\n",
        "\n",
        "        LFileContent0 = []\n",
        "        for el in LFileContent:\n",
        "            el = re.sub('\\n', ' ', el)\n",
        "            el = re.sub(' +', ' ', el)\n",
        "            LFileContent0.append(el)\n",
        "\n",
        "        SFileContent2 = '\\n\\n'.join(LFileContent0)\n",
        "\n",
        "\n",
        "        return SFileContent2\n",
        "\n",
        ""
      ],
      "metadata": {
        "id": "_xuDhaGjwldZ"
      },
      "execution_count": 28,
      "outputs": []
    },
    {
      "cell_type": "code",
      "source": [
        "!mkdir 4euplus2eu"
      ],
      "metadata": {
        "id": "TGXZix0wz6_v"
      },
      "execution_count": 20,
      "outputs": []
    },
    {
      "cell_type": "code",
      "source": [
        "OHtmlDir2txt = clHtmlDir2txt('/content/4euplus.eu')"
      ],
      "metadata": {
        "colab": {
          "base_uri": "https://localhost:8080/",
          "height": 1000
        },
        "id": "oDZEN4PAxrxr",
        "outputId": "f024359d-e364-4abd-c267-4d7c26023c23"
      },
      "execution_count": 27,
      "outputs": [
        {
          "output_type": "stream",
          "name": "stdout",
          "text": [
            "Skipped: 4EU-604-version1-giulio_vistoli.jpg\n",
            "Skipped: 4EU-708-version1-tileimage.png\n",
            "Skipped: 4EU-643-version1-tileimage.jpg\n",
            "1. Processing: 4EU-734.html\n",
            "/content/4euplus.eu/4EU-734.html\n",
            "36\n",
            "   [1]logo logo (BUTTON)\n",
            "   [2]×\n",
            "     *\n",
            "     * [3]Alliance\n",
            "          + [4]Mission and vision\n",
            "            Mission and vision\n",
            "          + [5]Member universities\n",
            "            Member universities\n",
            "          + [6]Organisational structure\n",
            "            Organisational structure\n",
            "          + [7]Who we are\n",
            "            Who we are\n",
            "          + [8]Our projects\n",
            "            Our projects\n",
            "          + [9]Our partners\n",
            "            Our partners\n",
            "     * [10]Flagships\n",
            "          + [11]About Flagships\n",
            "            About Flagships\n",
            "          + [12]Flagship 1: Urban Health and Demographic Change\n",
            "            Flagship 1: Urban Health and Demographic Change\n",
            "          + [13]Flagship 2: Europeanness: multilingualism, pluralities,\n",
            "            citizenship\n",
            "            Flagship 2: Europeanness: multilingualism, pluralities,\n",
            "            citizenship\n",
            "          + [14]Flagship 3: Digitisation - Modelling - Transformation\n",
            "            Flagship 3: Digitisation - Modelling - Transformation\n",
            "          + [15]Flagship 4: Environmental transitions\n",
            "            Flagship 4: Environmental transitions\n",
            "     * [16]4EU+ Campus\n",
            "          + [17]Academic calendar\n",
            "            Academic calendar\n",
            "          + [18]4EU+ educational framework\n",
            "            4EU+ educational framework\n",
            "          + [19]Student Portal\n",
            "            Student Portal\n",
            "     * [20]Get involved\n",
            "          + [21]Opportunities, calls & events\n",
            "            Opportunities, calls & events\n",
            "          + [22]Students\n",
            "            Students\n",
            "          + [23]Doctoral candidates\n",
            "            Doctoral candidates\n",
            "          + [24]Academic staff\n",
            "            Academic staff\n",
            "          + [25]Administrative staff\n",
            "            Administrative staff\n",
            "          + [26]Lifelong learners & public\n",
            "            Lifelong learners & public\n",
            "     * [27]Newsroom\n",
            "          + [28]News\n",
            "            News\n",
            "          + [29]Newsletter\n",
            "            Newsletter\n",
            "     * [30]Contacts\n",
            "          + [31]General Secretariat\n",
            "            General Secretariat\n",
            "          + [32]Charles University\n",
            "            Charles University\n",
            "          + [33]Heidelberg University\n",
            "            Heidelberg University\n",
            "          + [34]Paris-Panthéon-Assas University\n",
            "            Paris-Panthéon-Assas University\n",
            "          + [35]Sorbonne University\n",
            "            Sorbonne University\n",
            "          + [36]University of Copenhagen\n",
            "            University of Copenhagen\n",
            "          + [37]University of Geneva\n",
            "            University of Geneva\n",
            "          + [38]University of Milan\n",
            "            University of Milan\n",
            "          + [39]University of Warsaw\n",
            "            University of Warsaw\n",
            "2. Processing: 4EU-12.html?news=14343&amp;locale=en&page=2\n",
            "/content/4euplus.eu/4EU-12.html?news=14343&amp;locale=en&page=2\n"
          ]
        },
        {
          "output_type": "error",
          "ename": "FileNotFoundError",
          "evalue": "ignored",
          "traceback": [
            "\u001b[0;31m---------------------------------------------------------------------------\u001b[0m",
            "\u001b[0;31mFileNotFoundError\u001b[0m                         Traceback (most recent call last)",
            "\u001b[0;32m<ipython-input-27-7565bf1bf868>\u001b[0m in \u001b[0;36m<cell line: 1>\u001b[0;34m()\u001b[0m\n\u001b[0;32m----> 1\u001b[0;31m \u001b[0mOHtmlDir2txt\u001b[0m \u001b[0;34m=\u001b[0m \u001b[0mclHtmlDir2txt\u001b[0m\u001b[0;34m(\u001b[0m\u001b[0;34m'/content/4euplus.eu'\u001b[0m\u001b[0;34m)\u001b[0m\u001b[0;34m\u001b[0m\u001b[0;34m\u001b[0m\u001b[0m\n\u001b[0m",
            "\u001b[0;32m<ipython-input-26-177afe9752ae>\u001b[0m in \u001b[0;36m__init__\u001b[0;34m(self, SDirName, output_file, tag, id)\u001b[0m\n\u001b[1;32m     12\u001b[0m         \u001b[0mself\u001b[0m\u001b[0;34m.\u001b[0m\u001b[0mSTag\u001b[0m \u001b[0;34m=\u001b[0m \u001b[0mtag\u001b[0m\u001b[0;34m\u001b[0m\u001b[0;34m\u001b[0m\u001b[0m\n\u001b[1;32m     13\u001b[0m         \u001b[0mself\u001b[0m\u001b[0;34m.\u001b[0m\u001b[0mID\u001b[0m \u001b[0;34m=\u001b[0m \u001b[0mid\u001b[0m\u001b[0;34m\u001b[0m\u001b[0;34m\u001b[0m\u001b[0m\n\u001b[0;32m---> 14\u001b[0;31m         \u001b[0mself\u001b[0m\u001b[0;34m.\u001b[0m\u001b[0mopenDir\u001b[0m\u001b[0;34m(\u001b[0m\u001b[0mSDirName\u001b[0m\u001b[0;34m)\u001b[0m\u001b[0;34m\u001b[0m\u001b[0;34m\u001b[0m\u001b[0m\n\u001b[0m\u001b[1;32m     15\u001b[0m         \u001b[0;32mreturn\u001b[0m\u001b[0;34m\u001b[0m\u001b[0;34m\u001b[0m\u001b[0m\n\u001b[1;32m     16\u001b[0m \u001b[0;34m\u001b[0m\u001b[0m\n",
            "\u001b[0;32m<ipython-input-26-177afe9752ae>\u001b[0m in \u001b[0;36mopenDir\u001b[0;34m(self, path)\u001b[0m\n\u001b[1;32m     50\u001b[0m \u001b[0;34m\u001b[0m\u001b[0m\n\u001b[1;32m     51\u001b[0m \u001b[0;34m\u001b[0m\u001b[0m\n\u001b[0;32m---> 52\u001b[0;31m                 \u001b[0mSText2Write\u001b[0m \u001b[0;34m=\u001b[0m \u001b[0mself\u001b[0m\u001b[0;34m.\u001b[0m\u001b[0mprocFile\u001b[0m\u001b[0;34m(\u001b[0m\u001b[0mfullpath2\u001b[0m\u001b[0;34m,\u001b[0m \u001b[0mf\u001b[0m\u001b[0;34m,\u001b[0m \u001b[0mi\u001b[0m\u001b[0;34m)\u001b[0m \u001b[0;31m# returns converted string + tags\u001b[0m\u001b[0;34m\u001b[0m\u001b[0;34m\u001b[0m\u001b[0m\n\u001b[0m\u001b[1;32m     53\u001b[0m                 \u001b[0;32mif\u001b[0m \u001b[0mSText2Write\u001b[0m\u001b[0;34m:\u001b[0m \u001b[0mFOut\u001b[0m\u001b[0;34m.\u001b[0m\u001b[0mwrite\u001b[0m\u001b[0;34m(\u001b[0m\u001b[0mSText2Write\u001b[0m\u001b[0;34m)\u001b[0m \u001b[0;31m# if the string is not empty then write to file\u001b[0m\u001b[0;34m\u001b[0m\u001b[0;34m\u001b[0m\u001b[0m\n\u001b[1;32m     54\u001b[0m                     \u001b[0;31m# FIn.close()\u001b[0m\u001b[0;34m\u001b[0m\u001b[0;34m\u001b[0m\u001b[0m\n",
            "\u001b[0;32m<ipython-input-26-177afe9752ae>\u001b[0m in \u001b[0;36mprocFile\u001b[0;34m(self, fullpath, SFNameIn, i)\u001b[0m\n\u001b[1;32m     69\u001b[0m         \u001b[0mSTagOpen\u001b[0m \u001b[0;34m=\u001b[0m \u001b[0;34m'<'\u001b[0m \u001b[0;34m+\u001b[0m \u001b[0mself\u001b[0m\u001b[0;34m.\u001b[0m\u001b[0mSTag\u001b[0m \u001b[0;34m+\u001b[0m \u001b[0;34m' id=\"'\u001b[0m \u001b[0;34m+\u001b[0m \u001b[0mself\u001b[0m\u001b[0;34m.\u001b[0m\u001b[0mSTag\u001b[0m \u001b[0;34m+\u001b[0m \u001b[0mstr\u001b[0m\u001b[0;34m(\u001b[0m\u001b[0mself\u001b[0m\u001b[0;34m.\u001b[0m\u001b[0mID\u001b[0m \u001b[0;34m+\u001b[0m \u001b[0mi\u001b[0m\u001b[0;34m)\u001b[0m  \u001b[0;34m+\u001b[0m \u001b[0;34m'\">\\n'\u001b[0m\u001b[0;34m\u001b[0m\u001b[0;34m\u001b[0m\u001b[0m\n\u001b[1;32m     70\u001b[0m         \u001b[0mSTagClose\u001b[0m \u001b[0;34m=\u001b[0m \u001b[0;34m'\\n'\u001b[0m \u001b[0;34m+\u001b[0m \u001b[0mself\u001b[0m\u001b[0;34m.\u001b[0m\u001b[0mSTag\u001b[0m \u001b[0;34m+\u001b[0m \u001b[0;34m'>\\n\\n'\u001b[0m\u001b[0;34m\u001b[0m\u001b[0;34m\u001b[0m\u001b[0m\n\u001b[0;32m---> 71\u001b[0;31m         \u001b[0mSText4Corpus\u001b[0m \u001b[0;34m=\u001b[0m \u001b[0mself\u001b[0m\u001b[0;34m.\u001b[0m\u001b[0mgetString\u001b[0m\u001b[0;34m(\u001b[0m\u001b[0mfullpath\u001b[0m\u001b[0;34m,\u001b[0m \u001b[0mSFNameIn\u001b[0m\u001b[0;34m)\u001b[0m\u001b[0;34m\u001b[0m\u001b[0;34m\u001b[0m\u001b[0m\n\u001b[0m\u001b[1;32m     72\u001b[0m         \u001b[0;32mif\u001b[0m \u001b[0mSText4Corpus\u001b[0m\u001b[0;34m:\u001b[0m\u001b[0;34m\u001b[0m\u001b[0;34m\u001b[0m\u001b[0m\n\u001b[1;32m     73\u001b[0m             \u001b[0;32mreturn\u001b[0m \u001b[0mSTagOpen\u001b[0m \u001b[0;34m+\u001b[0m \u001b[0mSText4Corpus\u001b[0m \u001b[0;34m+\u001b[0m \u001b[0mSTagClose\u001b[0m\u001b[0;34m\u001b[0m\u001b[0;34m\u001b[0m\u001b[0m\n",
            "\u001b[0;32m<ipython-input-26-177afe9752ae>\u001b[0m in \u001b[0;36mgetString\u001b[0;34m(self, fullpath, SFNameIn)\u001b[0m\n\u001b[1;32m    102\u001b[0m         \u001b[0;31m# SFileContent = stream.read()\u001b[0m\u001b[0;34m\u001b[0m\u001b[0;34m\u001b[0m\u001b[0m\n\u001b[1;32m    103\u001b[0m \u001b[0;34m\u001b[0m\u001b[0m\n\u001b[0;32m--> 104\u001b[0;31m         \u001b[0mF2Read\u001b[0m \u001b[0;34m=\u001b[0m \u001b[0mopen\u001b[0m\u001b[0;34m(\u001b[0m\u001b[0;34m'./'\u001b[0m \u001b[0;34m+\u001b[0m \u001b[0mSFNameTXT3\u001b[0m\u001b[0;34m,\u001b[0m \u001b[0;34m'r'\u001b[0m\u001b[0;34m,\u001b[0m \u001b[0mencoding\u001b[0m\u001b[0;34m=\u001b[0m\u001b[0;34m\"utf8\"\u001b[0m\u001b[0;34m,\u001b[0m \u001b[0merrors\u001b[0m\u001b[0;34m=\u001b[0m\u001b[0;34m\"surrogateescape\"\u001b[0m\u001b[0;34m)\u001b[0m\u001b[0;34m\u001b[0m\u001b[0;34m\u001b[0m\u001b[0m\n\u001b[0m\u001b[1;32m    105\u001b[0m         \u001b[0mSFileContent\u001b[0m \u001b[0;34m=\u001b[0m \u001b[0mF2Read\u001b[0m\u001b[0;34m.\u001b[0m\u001b[0mread\u001b[0m\u001b[0;34m(\u001b[0m\u001b[0;34m)\u001b[0m\u001b[0;34m\u001b[0m\u001b[0;34m\u001b[0m\u001b[0m\n\u001b[1;32m    106\u001b[0m \u001b[0;34m\u001b[0m\u001b[0m\n",
            "\u001b[0;31mFileNotFoundError\u001b[0m: [Errno 2] No such file or directory: './4EU-12.html?news=14343&amp;locale=en&page=2_3.txt'"
          ]
        }
      ]
    }
  ]
}