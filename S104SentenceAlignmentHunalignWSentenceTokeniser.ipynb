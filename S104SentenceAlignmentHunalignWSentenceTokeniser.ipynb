{
  "nbformat": 4,
  "nbformat_minor": 0,
  "metadata": {
    "colab": {
      "provenance": [],
      "include_colab_link": true
    },
    "kernelspec": {
      "name": "python3",
      "display_name": "Python 3"
    },
    "language_info": {
      "name": "python"
    }
  },
  "cells": [
    {
      "cell_type": "markdown",
      "metadata": {
        "id": "view-in-github",
        "colab_type": "text"
      },
      "source": [
        "<a href=\"https://colab.research.google.com/github/iued-uni-heidelberg/corpustools/blob/main/S104SentenceAlignmentHunalignWSentenceTokeniser.ipynb\" target=\"_parent\"><img src=\"https://colab.research.google.com/assets/colab-badge.svg\" alt=\"Open In Colab\"/></a>"
      ]
    },
    {
      "cell_type": "markdown",
      "source": [
        "# Experiments with alignment tools"
      ],
      "metadata": {
        "id": "hhDdKnVbT6Aa"
      }
    },
    {
      "cell_type": "markdown",
      "source": [
        "resources / corpora:\n",
        "https://heibox.uni-heidelberg.de/d/d65daff8341e467c82b1/\n",
        "\n",
        "\n",
        "Instructions are here:\n",
        "https://github.com/danielvarga/hunalign\n"
      ],
      "metadata": {
        "id": "iM-SQNgcjh6t"
      }
    },
    {
      "cell_type": "code",
      "execution_count": null,
      "metadata": {
        "id": "5wTTt2yCTo7U"
      },
      "outputs": [],
      "source": [
        "!git clone https://github.com/danielvarga/hunalign.git"
      ]
    },
    {
      "cell_type": "code",
      "source": [
        "%cd hunalign/src/hunalign\n",
        "!pwd"
      ],
      "metadata": {
        "id": "ZddMwgW9T5Rj",
        "outputId": "870644bf-7a10-4367-e75c-3e1d75df47ca",
        "colab": {
          "base_uri": "https://localhost:8080/"
        }
      },
      "execution_count": null,
      "outputs": [
        {
          "output_type": "stream",
          "name": "stdout",
          "text": [
            "/content/hunalign/src/hunalign\n",
            "/content/hunalign/src/hunalign\n"
          ]
        }
      ]
    },
    {
      "cell_type": "code",
      "source": [
        "!make"
      ],
      "metadata": {
        "id": "hJbwoRqGVK_O"
      },
      "execution_count": null,
      "outputs": []
    },
    {
      "cell_type": "code",
      "source": [
        "%cd /content/hunalign/\n",
        "!pwd\n",
        "!src/hunalign/hunalign data/hu-en.stem.dic examples/demo.hu.stem examples/demo.en.stem -hand=examples/demo.manual.ladder -text > /tmp/align.txt\n",
        "# !less /tmp/align.txt"
      ],
      "metadata": {
        "id": "fVz4B9KoVW7T"
      },
      "execution_count": null,
      "outputs": []
    },
    {
      "cell_type": "code",
      "source": [
        "!head --lines=20 /tmp/align.txt"
      ],
      "metadata": {
        "id": "aSfCT3TzeYfl"
      },
      "execution_count": null,
      "outputs": []
    },
    {
      "cell_type": "code",
      "source": [
        "%cd /content/\n",
        "!pwd"
      ],
      "metadata": {
        "colab": {
          "base_uri": "https://localhost:8080/"
        },
        "id": "OtZIH64gfTO6",
        "outputId": "29c36549-341c-40ea-fc3a-dcd72f212159"
      },
      "execution_count": null,
      "outputs": [
        {
          "output_type": "stream",
          "name": "stdout",
          "text": [
            "/content\n",
            "/content\n"
          ]
        }
      ]
    },
    {
      "cell_type": "code",
      "source": [
        "# downloading files - en es\n",
        "!wget https://heibox.uni-heidelberg.de/f/dc01904f8f9040a69610/?dl=1\n",
        "!mv index.html?dl=1 solar-t01-en-RE01.txt\n",
        "!wget https://heibox.uni-heidelberg.de/f/646957ccb3d24f359ed7/?dl=1\n",
        "!mv index.html?dl=1 solar-t01-es-RE01.txt"
      ],
      "metadata": {
        "id": "4C3Lu_yijc-2"
      },
      "execution_count": null,
      "outputs": []
    },
    {
      "cell_type": "code",
      "source": [
        "# downloading files - en de\n",
        "!wget https://heibox.uni-heidelberg.de/f/dc489828a2d642bfba82/?dl=1\n",
        "!mv index.html?dl=1 ab-t01-en.txt\n",
        "# English file\n",
        "!wget https://heibox.uni-heidelberg.de/f/e7e542d75d7644d1857d/?dl=1\n",
        "!mv index.html?dl=1 ab-t01-de.txt\n",
        "# Other language files"
      ],
      "metadata": {
        "id": "-irmCMkDjfjK"
      },
      "execution_count": null,
      "outputs": []
    },
    {
      "cell_type": "code",
      "source": [
        "!head --lines=20 ab-t01-en.txt"
      ],
      "metadata": {
        "id": "S7VB7wPmes6C"
      },
      "execution_count": null,
      "outputs": []
    },
    {
      "cell_type": "code",
      "source": [
        "!head --lines=20 ab-t01-de.txt"
      ],
      "metadata": {
        "id": "84YR_aNtfmz6"
      },
      "execution_count": null,
      "outputs": []
    },
    {
      "cell_type": "code",
      "source": [
        "# detecting sentence boundaries\n",
        "import nltk\n",
        "nltk.download('punkt')\n",
        "from nltk.tokenize import sent_tokenize"
      ],
      "metadata": {
        "id": "00Y7g2qXXhSz"
      },
      "execution_count": null,
      "outputs": []
    },
    {
      "cell_type": "code",
      "source": [
        "# example for Armenian / Georgian sentence splitting if errors\n",
        "# LSent = re.split('([:;]+)')\n",
        "# ."
      ],
      "metadata": {
        "id": "h6m9gShu8OCR"
      },
      "execution_count": null,
      "outputs": []
    },
    {
      "cell_type": "code",
      "source": [
        "import re, os, sys\n",
        "def sentTokenizer(FIn, FOut):\n",
        "    for SPara in FIn:\n",
        "        SPara = SPara.strip()\n",
        "        if SPara == '': FOut.write('\\n')\n",
        "        all_sent = sent_tokenize(SPara)\n",
        "        for SSent in all_sent:\n",
        "            FOut.write(SSent + '\\n')\n",
        "    FOut.flush()\n",
        "\n",
        "def sentTokenizer_hy(FIn, FOut):\n",
        "    for SPara in FIn:\n",
        "        SPara = SPara.strip()\n",
        "        if SPara == '': FOut.write('\\n')\n",
        "        all_sent = sent_tokenize_hy(SPara)\n",
        "        for SSent in all_sent:\n",
        "            FOut.write(SSent + '\\n')\n",
        "    FOut.flush()\n",
        "\n",
        "\n",
        "def sent_tokenize_hy(SPara):\n",
        "    all_sent_hy = re.split('[:;\\.]', SPara)\n"
      ],
      "metadata": {
        "id": "OHH5cAjcYG_F"
      },
      "execution_count": 2,
      "outputs": []
    },
    {
      "cell_type": "code",
      "source": [],
      "metadata": {
        "id": "gQ6PbrcbBx1m"
      },
      "execution_count": 2,
      "outputs": []
    },
    {
      "cell_type": "code",
      "source": [
        "FIn = open('ab-t01-en.txt', 'r')\n",
        "FOut = open('ab-t01s-en.txt', 'w')\n",
        "\n",
        "# FIn = open('ab-t01-de.txt', 'r')\n",
        "# FOut = open('ab-t01s-de.txt', 'w')"
      ],
      "metadata": {
        "id": "OYDn_STYYa1w"
      },
      "execution_count": null,
      "outputs": []
    },
    {
      "cell_type": "code",
      "source": [
        "sentTokenizer(FIn, FOut)"
      ],
      "metadata": {
        "id": "goOnKdidZzHr"
      },
      "execution_count": null,
      "outputs": []
    },
    {
      "cell_type": "code",
      "source": [
        "FIn = open('ab-t01-de.txt', 'r')\n",
        "FOut = open('ab-t01s-de.txt', 'w')"
      ],
      "metadata": {
        "id": "zKlJVfDpZcMR"
      },
      "execution_count": null,
      "outputs": []
    },
    {
      "cell_type": "code",
      "source": [
        "sentTokenizer(FIn, FOut)"
      ],
      "metadata": {
        "id": "I0VdL17UZ6tm"
      },
      "execution_count": null,
      "outputs": []
    },
    {
      "cell_type": "code",
      "source": [],
      "metadata": {
        "id": "i35YQ9WTZilz"
      },
      "execution_count": null,
      "outputs": []
    },
    {
      "cell_type": "code",
      "source": [
        "!./hunalign/src/hunalign/hunalign -text -realign -autodict=es2enAutodict.txt ./hunalign/data/null.dic solar-t01-en-RE01.txt solar-t01-es-RE01.txt > solar-t01-en2esAlignment.tsv"
      ],
      "metadata": {
        "id": "YbI3WH-WccuO"
      },
      "execution_count": null,
      "outputs": []
    },
    {
      "cell_type": "code",
      "source": [
        "# !./hunalign/src/hunalign/hunalign -text -realign -autodict=de2enAutodict.txt ./hunalign/data/null.dic ab-t01-en.txt ab-t01-de.txt > ab-t01-en2de.tsv\n",
        "!./hunalign/src/hunalign/hunalign -text -realign -autodict=de2enAutodict.txt ./hunalign/data/null.dic ab-t01s-en.txt ab-t01s-de.txt > ab-t01s-en2de.tsv\n"
      ],
      "metadata": {
        "id": "JBo3h8SMdZfv"
      },
      "execution_count": null,
      "outputs": []
    },
    {
      "cell_type": "code",
      "source": [
        "# copy dictionaries for editing\n",
        "!cp es2enAutodict.txt es2enAutodict.dic\n",
        "!cp de2enAutodict.txt de2enAutodict.dic"
      ],
      "metadata": {
        "id": "V_gxwlekhkZW"
      },
      "execution_count": null,
      "outputs": []
    },
    {
      "cell_type": "code",
      "source": [
        "# you can edit dictionaries and try realigning tests if results are not good, like in this example:\n",
        "!./hunalign/src/hunalign/hunalign -text -realign -autodict=es2enAutodict2.txt es2enAutodict.txt solar-t01-en-RE01.txt solar-t01-es-RE01.txt > solar-t01-en2esAlignment2.txt"
      ],
      "metadata": {
        "id": "yh_I8HhHivWJ"
      },
      "execution_count": null,
      "outputs": []
    },
    {
      "cell_type": "code",
      "source": [
        "%cd /content/"
      ],
      "metadata": {
        "id": "4uqIFYZHlaTo",
        "colab": {
          "base_uri": "https://localhost:8080/"
        },
        "outputId": "66d58bc2-cce4-4e57-b1d2-7f62bfe44a49"
      },
      "execution_count": null,
      "outputs": [
        {
          "output_type": "stream",
          "name": "stdout",
          "text": [
            "/content\n"
          ]
        }
      ]
    },
    {
      "cell_type": "markdown",
      "source": [
        "# Converting tsv to tmx"
      ],
      "metadata": {
        "id": "vYPVNJE9naFM"
      }
    },
    {
      "cell_type": "code",
      "source": [
        "# change names of files accordingly (input and output)\n",
        "import re, os, sys\n",
        "# FIn = open('ab-t01-en2de.tsv', 'r')\n",
        "# FOut = open('ab-t01-en2de.tmx', 'w')\n",
        "\n",
        "FIn = open('ab-t01s-en2de.tsv', 'r')\n",
        "FOut = open('ab-t01s-en2de.tmx', 'w')\n",
        "\n",
        "SrcLang = 'en'\n",
        "TgtLang = 'de'\n",
        "\n",
        "SLineHead = '''<?xml version=\"1.0\" encoding=\"UTF-8\"?>\n",
        "<!DOCTYPE tmx SYSTEM \"tmx14.dtd\">\n",
        "<tmx version=\"1.4\">\n",
        "  <header creationtool=\"OmegaT\" o-tmf=\"OmegaT TMX\" adminlang=\"EN-US\" datatype=\"plaintext\" creationtoolversion=\"5.7.0_0_8ae1ecfb\" segtype=\"sentence\" srclang=\"en\"/>\n",
        "  <body>\n",
        "'''\n",
        "SLineEnd = '''\n",
        "  </body>\n",
        "</tmx>\n",
        "'''\n",
        "\n",
        "FOut.write(SLineHead)\n",
        "for SLine in FIn:\n",
        "    SLine = SLine.strip()\n",
        "    LLine = re.split('\\t', SLine)\n",
        "    try:\n",
        "        SSrcLang = LLine[0]\n",
        "        STgtLang = LLine[1]\n",
        "\n",
        "        STuvSLTag = f'      <tuv xml:lang=\"{SrcLang}\">'\n",
        "        STuvTLTag = f'      <tuv xml:lang=\"{TgtLang}\">'\n",
        "\n",
        "        STuvSL = STuvSLTag + '''\\n        <seg>''' + SSrcLang + '''</seg>\\n''' + '''      </tuv>\\n'''\n",
        "        STuvTL = STuvTLTag + '''\\n        <seg>''' + STgtLang + '''</seg>\\n''' + '''      </tuv>\\n'''\n",
        "\n",
        "        STuv = '''    <tu>\\n''' + STuvSL + STuvTL + '''    </tu>\\n'''\n",
        "        FOut.write(STuv)\n",
        "    except:\n",
        "        continue\n",
        "FOut.write(SLineEnd)\n",
        "FOut.flush()"
      ],
      "metadata": {
        "id": "ZzYUz9XineGH"
      },
      "execution_count": null,
      "outputs": []
    }
  ]
}