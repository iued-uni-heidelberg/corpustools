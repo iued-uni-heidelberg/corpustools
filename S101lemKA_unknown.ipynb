{
  "nbformat": 4,
  "nbformat_minor": 0,
  "metadata": {
    "colab": {
      "provenance": [],
      "authorship_tag": "ABX9TyMzLmLepCJHBPTXfD+zYJnE",
      "include_colab_link": true
    },
    "kernelspec": {
      "name": "python3",
      "display_name": "Python 3"
    },
    "language_info": {
      "name": "python"
    }
  },
  "cells": [
    {
      "cell_type": "markdown",
      "metadata": {
        "id": "view-in-github",
        "colab_type": "text"
      },
      "source": [
        "<a href=\"https://colab.research.google.com/github/iued-uni-heidelberg/corpustools/blob/main/S101lemKA_unknown.ipynb\" target=\"_parent\"><img src=\"https://colab.research.google.com/assets/colab-badge.svg\" alt=\"Open In Colab\"/></a>"
      ]
    },
    {
      "cell_type": "markdown",
      "source": [
        "# Processing pipeline for DAAD project\n",
        "## Stage 1: Lemmatization (Georgian)\n",
        "\n",
        "# Georgian 'random' corpus \n",
        "- (collected in SketchEngine using non-topical high-frequent keywords from the top 1000 of the wikipedia list)"
      ],
      "metadata": {
        "id": "lrpJStiMQ578"
      }
    },
    {
      "cell_type": "code",
      "source": [
        "!wget https://heibox.uni-heidelberg.de/f/362c24e311104c9aa35b/?dl=1\n",
        "!mv index.html?dl=1 georgianrandom02.txt"
      ],
      "metadata": {
        "id": "BLNxex2OPqH0"
      },
      "execution_count": null,
      "outputs": []
    },
    {
      "cell_type": "code",
      "source": [
        "%%bash\n",
        "# installing TreeTagger (en, de, ka)\n",
        "mkdir treetagger\n",
        "cd treetagger\n",
        "# Download the tagger package for your system (PC-Linux, Mac OS-X, ARM64, ARMHF, ARM-Android, PPC64le-Linux).\n",
        "wget https://cis.lmu.de/~schmid/tools/TreeTagger/data/tree-tagger-linux-3.2.4.tar.gz\n",
        "tar -xzvf tree-tagger-linux-3.2.4.tar.gz\n",
        "# Download the tagging scripts into the same directory.\n",
        "wget https://cis.lmu.de/~schmid/tools/TreeTagger/data/tagger-scripts.tar.gz\n",
        "gunzip tagger-scripts.tar.gz\n",
        "# Download the installation script install-tagger.sh.\n",
        "wget https://cis.lmu.de/~schmid/tools/TreeTagger/data/install-tagger.sh\n",
        "# Download the parameter files for the languages you want to process.\n",
        "# list of all files (parameter files) https://cis.lmu.de/~schmid/tools/TreeTagger/#parfiles\n",
        "wget https://cis.lmu.de/~schmid/tools/TreeTagger/data/english.par.gz\n",
        "sh install-tagger.sh\n",
        "cd ..\n",
        "sudo pip install treetaggerwrapper\n",
        "# changing options: no-unknown, sgml, lemma\n",
        "mv /content/treetagger/cmd/tree-tagger-english /content/tree-tagger-english0\n",
        "awk '{ if (NR == 9) print \"OPTIONS=\\\"-token -lemma -sgml -no-unknown\\\"\"; else print $0}' /content/tree-tagger-english0 > /content/treetagger/cmd/tree-tagger-english\n",
        "chmod a+x ./treetagger/cmd/tree-tagger-english\n",
        "# downloading German and Georgian \n",
        "wget https://heibox.uni-heidelberg.de/f/ec8226edebb64a359407/?dl=1\n",
        "mv index.html?dl=1 /content/treetagger/lib/german-utf8.par\n",
        "wget https://heibox.uni-heidelberg.de/f/9183090d2bdb41e09055/?dl=1\n",
        "mv index.html?dl=1 /content/treetagger/lib/georgian.par\n",
        "wget https://heibox.uni-heidelberg.de/f/9cafab0509d64ed1ac4b/?dl=1\n",
        "mv index.html?dl=1 /content/treetagger/cmd/tree-tagger-georgian2\n",
        "cp /content/treetagger/cmd/tree-tagger-georgian2 /content/treetagger/cmd/tree-tagger-georgian\n",
        "# German2 = -no-unknown \n",
        "# note: tree-tagger-german will not work, as parameter files have not been downloaded, only use tree-tagger-german2 with utf8 encoding\n",
        "wget https://heibox.uni-heidelberg.de/f/acb9b8a2fa4f40e08f8a/?dl=1\n",
        "mv index.html?dl=1 /content/treetagger/cmd/tree-tagger-german2\n",
        "chmod a+x /content/treetagger/cmd/tree-tagger-georgian2\n",
        "chmod a+x /content/treetagger/cmd/tree-tagger-german2"
      ],
      "metadata": {
        "id": "yb3aAeAWuaBG"
      },
      "execution_count": null,
      "outputs": []
    },
    {
      "cell_type": "code",
      "source": [
        "%%bash\n",
        "wget https://heibox.uni-heidelberg.de/f/a6f7f36f175942ccad0a/?dl=1\n",
        "mv index.html?dl=1 /content/treetagger/cmd/tree-tagger-georgian\n",
        "chmod a+x /content/treetagger/cmd/tree-tagger-georgian\n",
        "\n",
        "# cp /content/treetagger/cmd/tree-tagger-georgian2 /content/treetagger/cmd/tree-tagger-georgian\n"
      ],
      "metadata": {
        "id": "7K6L_kLwUFIn"
      },
      "execution_count": null,
      "outputs": []
    },
    {
      "cell_type": "code",
      "source": [
        "# analysing German file \n",
        "# !./treetagger/cmd/tree-tagger-german2 /content/udhr/udhr_kat_v02.txt >/content/udhrTT/udhr_kat_vert.txt\n",
        "!./treetagger/cmd/tree-tagger-georgian georgianrandom02.txt >georgianrandom02.vert"
      ],
      "metadata": {
        "id": "5vhmEZNmvOZJ",
        "colab": {
          "base_uri": "https://localhost:8080/"
        },
        "outputId": "27b57d27-9965-4d96-cb0a-ad29e17d27f2"
      },
      "execution_count": 4,
      "outputs": [
        {
          "output_type": "stream",
          "name": "stdout",
          "text": [
            "\treading parameters ...\n",
            "\ttagging ...\n",
            "11301000\t finished.\n"
          ]
        }
      ]
    },
    {
      "cell_type": "code",
      "source": [
        "!head -n 50 georgianrandom02.vert\n"
      ],
      "metadata": {
        "id": "ZYgAy5yYUuZg"
      },
      "execution_count": null,
      "outputs": []
    },
    {
      "cell_type": "code",
      "source": [
        "!wc georgianrandom02.vert"
      ],
      "metadata": {
        "colab": {
          "base_uri": "https://localhost:8080/"
        },
        "id": "MZGt71hqoAAP",
        "outputId": "9c74b2e8-fb80-454d-cec9-54a0ad975caa"
      },
      "execution_count": 6,
      "outputs": [
        {
          "output_type": "stream",
          "name": "stdout",
          "text": [
            " 11301824  33112275 394150707 georgianrandom02.vert\n"
          ]
        }
      ]
    },
    {
      "cell_type": "code",
      "source": [
        "## how to print counter in AWK:\n",
        "## https://stackoverflow.com/questions/67901330/awk-how-to-print-the-last-value-of-a-counter\n",
        "\n",
        "# !awk -F '\\t' '(NF==3){printf \"%s \", $3; if(FNR % 10000 == 0){printf \"\\n\"}}' < /content/udhrTT/udhr_deu_1996_vert.txt >/content/udhrTT/udhr_deu_1996_lem.txt\n",
        "\n",
        "# if we need <p> tags for paragraphs:\n",
        "# !awk -F '\\t' '(NF==3){printf \"%s \", $3}(NF!=3){printf \"\\n%s\\n\", $0}' < /content/udhrTT/udhr_deu_1996_vert.txt >/content/udhrTT/udhr_deu_1996_lem.txt\n",
        "# if we do not need paragraph tags\n",
        "# !awk -F '\\t' '(NF==3){printf \"%s \", $3}(NF!=3){printf \"\\n\"}' < /content/udhrTT/udhr_kat_vert.txt >/content/udhrTT/udhr_kat_lem.txt\n",
        "!awk -F '\\t' '($3==\"<unknown>\"){j++; printf \"%s\\n\", $0} END{print j+0  > \"/dev/stderr\" }' <georgianrandom02.vert >georgianrandom02-unknown.txt"
      ],
      "metadata": {
        "id": "bkTmYh27whZx",
        "colab": {
          "base_uri": "https://localhost:8080/"
        },
        "outputId": "94217c32-6a9b-4493-e78c-f839e153e30d"
      },
      "execution_count": 7,
      "outputs": [
        {
          "output_type": "stream",
          "name": "stdout",
          "text": [
            "2123093\n"
          ]
        }
      ]
    },
    {
      "cell_type": "code",
      "source": [
        "!head -n 50 georgianrandom02-unknown.txt\n"
      ],
      "metadata": {
        "id": "BCI07VWFzfFl"
      },
      "execution_count": null,
      "outputs": []
    },
    {
      "cell_type": "code",
      "source": [
        "!tail -n 20 georgianrandom02-unknown.txt"
      ],
      "metadata": {
        "id": "aMchEKhFpDnp"
      },
      "execution_count": null,
      "outputs": []
    },
    {
      "cell_type": "code",
      "source": [
        "D = {}\n",
        "with open(\"georgianrandom02-unknown.txt\", 'r') as f:\n",
        "    for line in f:\n",
        "        line = line.rstrip()\n",
        "        try:\n",
        "            D[line] +=1\n",
        "        except:\n",
        "            D[line] = 1\n",
        "\n",
        "fo = open(\"georgianrandom02-unknown-frq.txt\", 'w')\n",
        "ICorpusLen = 11301824\n",
        "IUnknown = 2123093\n",
        "FCoverage = IUnknown/ICorpusLen\n",
        "print('percent Unknown TT: ', FCoverage)\n",
        "IRestUnknown = IUnknown\n",
        "c = 0\n",
        "for key, val in sorted(D.items(), key=lambda item: item[1], reverse=True):\n",
        "    c+=1\n",
        "    IRestUnknown = IRestUnknown - val\n",
        "    FRestCoverage = IRestUnknown/ICorpusLen\n",
        "    fo.write(str(c) + '\\t' + key + '\\t' + str(val) + '\\t' + str(FRestCoverage) + '\\n')\n",
        "    "
      ],
      "metadata": {
        "id": "B9wEuRC_VqnA",
        "colab": {
          "base_uri": "https://localhost:8080/"
        },
        "outputId": "7a22c504-7b24-44e7-b4d3-872e7b08dc7c"
      },
      "execution_count": 10,
      "outputs": [
        {
          "output_type": "stream",
          "name": "stdout",
          "text": [
            "percent Unknown TT:  0.18785401365301743\n"
          ]
        }
      ]
    },
    {
      "cell_type": "code",
      "source": [
        "!head -n 50 georgianrandom02-unknown-frq.txt"
      ],
      "metadata": {
        "id": "Xg0XvzqhnAk8"
      },
      "execution_count": null,
      "outputs": []
    },
    {
      "cell_type": "markdown",
      "source": [
        "## GIP DAAD corpus\n",
        "### checking coverage"
      ],
      "metadata": {
        "id": "KVkaCpu7Q_80"
      }
    },
    {
      "cell_type": "code",
      "source": [
        "!wget https://heibox.uni-heidelberg.de/f/1981a35452db40c583c0/?dl=1\n",
        "!mv index.html?dl=1 select-kat.tgz"
      ],
      "metadata": {
        "id": "gxsa46aHRHKp"
      },
      "execution_count": null,
      "outputs": []
    },
    {
      "cell_type": "code",
      "source": [
        "!tar xvzf select-kat.tgz"
      ],
      "metadata": {
        "id": "dIwHfbwYS2jF"
      },
      "execution_count": null,
      "outputs": []
    },
    {
      "cell_type": "code",
      "source": [
        "import os\n",
        "FOut = open('georgian-corp-gip-v01.txt', 'w')\n",
        "for root, dirs, files in os.walk(\"./select-kat\"):\n",
        "    path = root.split(os.sep)\n",
        "    print((len(path) - 1) * '---', os.path.basename(root))\n",
        "    for file in files:\n",
        "        print(len(path) * '---', file)\n",
        "        FOut.write('<doc filename=\"' + file + '\">\\n')\n",
        "        SFilePath = os.path.join(root,file)\n",
        "        FIn = open(SFilePath, 'r')\n",
        "        SIn = FIn.read()\n",
        "        FOut.write(SIn)\n",
        "        FOut.write('</doc>\\n\\n')\n",
        "\n",
        "FOut.flush()\n",
        "FOut.close()\n",
        "\n"
      ],
      "metadata": {
        "id": "d4FnEqEdTNpA"
      },
      "execution_count": null,
      "outputs": []
    },
    {
      "cell_type": "code",
      "source": [
        "!wc georgian-corp-gip-v01.txt"
      ],
      "metadata": {
        "colab": {
          "base_uri": "https://localhost:8080/"
        },
        "id": "ENo0vAecc5tp",
        "outputId": "5196db4d-8714-4dc1-d6d4-7311bf92ae8a"
      },
      "execution_count": 27,
      "outputs": [
        {
          "output_type": "stream",
          "name": "stdout",
          "text": [
            "   44448   892632 19802190 georgian-corp-gip-v01.txt\n"
          ]
        }
      ]
    },
    {
      "cell_type": "code",
      "source": [
        "!./treetagger/cmd/tree-tagger-georgian georgian-corp-gip-v01.txt >georgian-corp-gip-v01.vert"
      ],
      "metadata": {
        "colab": {
          "base_uri": "https://localhost:8080/"
        },
        "id": "rsIotAd-Xcj0",
        "outputId": "f80866d4-607e-4eac-d6ec-02178bfcb7a0"
      },
      "execution_count": 23,
      "outputs": [
        {
          "output_type": "stream",
          "name": "stdout",
          "text": [
            "\treading parameters ...\n",
            "\ttagging ...\n",
            "1086000\t finished.\n"
          ]
        }
      ]
    },
    {
      "cell_type": "code",
      "source": [
        "!wc georgian-corp-gip-v01.vert"
      ],
      "metadata": {
        "colab": {
          "base_uri": "https://localhost:8080/"
        },
        "id": "-eQMPjpfcRE0",
        "outputId": "d02c02a7-22e0-4656-c9a9-5be596d9e25d"
      },
      "execution_count": 26,
      "outputs": [
        {
          "output_type": "stream",
          "name": "stdout",
          "text": [
            " 1086727  3260172 40704147 georgian-corp-gip-v01.vert\n"
          ]
        }
      ]
    },
    {
      "cell_type": "code",
      "source": [
        "!awk -F '\\t' '($3==\"<unknown>\"){j++; printf \"%s\\n\", $0} END{print j+0  > \"/dev/stderr\" }' <georgian-corp-gip-v01.vert >georgian-corp-gip-v01-unknown.txt"
      ],
      "metadata": {
        "colab": {
          "base_uri": "https://localhost:8080/"
        },
        "id": "GvZBzFWoYEmB",
        "outputId": "d1d1bf68-5ec8-4670-ad17-d4328778e03c"
      },
      "execution_count": 24,
      "outputs": [
        {
          "output_type": "stream",
          "name": "stdout",
          "text": [
            "222297\n"
          ]
        }
      ]
    },
    {
      "cell_type": "code",
      "source": [
        "ICorpusLen = 1086727\n",
        "IUnknown = 222297\n",
        "FCoverage = IUnknown/ICorpusLen\n",
        "print('percent Unknown TT: ', FCoverage)"
      ],
      "metadata": {
        "colab": {
          "base_uri": "https://localhost:8080/"
        },
        "id": "JBCb8V-jcwJn",
        "outputId": "c8f79775-84d4-445f-efe6-1947fab53f82"
      },
      "execution_count": 28,
      "outputs": [
        {
          "output_type": "stream",
          "name": "stdout",
          "text": [
            "percent Unknown TT:  0.2045564341366323\n"
          ]
        }
      ]
    },
    {
      "cell_type": "code",
      "source": [
        "E = {}\n",
        "with open(\"georgian-corp-gip-v01-unknown.txt\", 'r') as f:\n",
        "    for line in f:\n",
        "        line = line.rstrip()\n",
        "        try:\n",
        "            E[line] +=1\n",
        "        except:\n",
        "            E[line] = 1"
      ],
      "metadata": {
        "id": "JMxJWk_0bYdR"
      },
      "execution_count": 25,
      "outputs": []
    },
    {
      "cell_type": "code",
      "source": [
        "## checking coverage on georgianrandom02 corpus\n",
        "IRestUnknown = IUnknown\n",
        "c = 0\n",
        "CFound = 0\n",
        "fo = open(\"georgian-corp-gip-v01-unknown-from-georgianrandom02-frq.txt\", 'w')\n",
        "for key, val in sorted(D.items(), key=lambda item: item[1], reverse=True):\n",
        "    c+=1\n",
        "    BFound = False\n",
        "    try: \n",
        "        val2 = E[key]\n",
        "        BFount = True\n",
        "        CFound += 1\n",
        "    except:\n",
        "        val2 = 0\n",
        "\n",
        "    IRestUnknown = IRestUnknown - val2\n",
        "    FRestCoverage = IRestUnknown/ICorpusLen\n",
        "    fo.write(str(c) + '\\t' + key + '\\t' + str(val) + '\\t' + str(BFound) + '\\t' + str(CFound) + '\\t' + str(FRestCoverage) + '\\n')\n"
      ],
      "metadata": {
        "id": "bR6f-KCKb2yC"
      },
      "execution_count": 32,
      "outputs": []
    },
    {
      "cell_type": "markdown",
      "source": [
        "\n",
        "# Optional dataset (not used)\n",
        "## Example: Universal declaration of human rights ("
      ],
      "metadata": {
        "id": "frfVA5xCqVyL"
      }
    },
    {
      "cell_type": "code",
      "execution_count": null,
      "metadata": {
        "id": "bVq5Aeajp-LR"
      },
      "outputs": [],
      "source": [
        "# Downloading UDHR\n",
        "!wget https://unicode.org/udhr/assemblies/udhr_txt.zip\n"
      ]
    },
    {
      "cell_type": "code",
      "source": [
        "%%bash\n",
        "mkdir udhr\n",
        "mv udhr_txt.zip udhr\n",
        "cd udhr/\n",
        "unzip udhr_txt.zip"
      ],
      "metadata": {
        "id": "CoPrEtv3q56L"
      },
      "execution_count": null,
      "outputs": []
    },
    {
      "cell_type": "code",
      "source": [
        "%%bash\n",
        "# put paragraph tags\n",
        "awk '{print \"<p>\\n\"$0 ; print \"</p>\"}' /content/udhr/udhr_kat.txt >/content/udhr/udhr_kat_v02.txt"
      ],
      "metadata": {
        "id": "bH9cbpC6xUSB"
      },
      "execution_count": null,
      "outputs": []
    }
  ]
}