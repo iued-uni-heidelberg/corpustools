{
  "nbformat": 4,
  "nbformat_minor": 0,
  "metadata": {
    "colab": {
      "provenance": [],
      "authorship_tag": "ABX9TyPdpyVy9XaM3heTpL+luQBK",
      "include_colab_link": true
    },
    "kernelspec": {
      "name": "python3",
      "display_name": "Python 3"
    },
    "language_info": {
      "name": "python"
    }
  },
  "cells": [
    {
      "cell_type": "markdown",
      "metadata": {
        "id": "view-in-github",
        "colab_type": "text"
      },
      "source": [
        "<a href=\"https://colab.research.google.com/github/iued-uni-heidelberg/corpustools/blob/main/tr4euplus_wget_v01.ipynb\" target=\"_parent\"><img src=\"https://colab.research.google.com/assets/colab-badge.svg\" alt=\"Open In Colab\"/></a>"
      ]
    },
    {
      "cell_type": "code",
      "execution_count": null,
      "metadata": {
        "id": "p-JET9nLf_0a"
      },
      "outputs": [],
      "source": [
        "!wget --recursive https://4euplus.eu/"
      ]
    },
    {
      "cell_type": "code",
      "source": [
        "!tar -cvzf 4euplus-eu.tgz 4euplus.eu"
      ],
      "metadata": {
        "id": "5AeI_FQ3pkOA"
      },
      "execution_count": null,
      "outputs": []
    },
    {
      "cell_type": "code",
      "source": [
        "!wget https://heibox.uni-heidelberg.de/f/97e2ca8def1f43ccbb51/?dl=1"
      ],
      "metadata": {
        "id": "qsMonq7AsOLT"
      },
      "execution_count": null,
      "outputs": []
    },
    {
      "cell_type": "code",
      "source": [
        "!mv index.html?dl=1 4euplus-eu.tgz"
      ],
      "metadata": {
        "id": "YvY-_Gyst0bb"
      },
      "execution_count": 4,
      "outputs": []
    },
    {
      "cell_type": "code",
      "source": [
        "!tar xvzf 4euplus-eu.tgz"
      ],
      "metadata": {
        "id": "UKIx_Nx2t9xu"
      },
      "execution_count": null,
      "outputs": []
    },
    {
      "cell_type": "code",
      "source": [
        "!apt-get install lynx"
      ],
      "metadata": {
        "id": "JWDeOMW2uD7W"
      },
      "execution_count": null,
      "outputs": []
    },
    {
      "cell_type": "code",
      "source": [
        "!lynx --dump /content/4euplus.eu/4EU-150.html? > /content/4EU-150_.txt"
      ],
      "metadata": {
        "id": "UrX8U94ovT9r"
      },
      "execution_count": 9,
      "outputs": []
    },
    {
      "cell_type": "code",
      "source": [
        "!lynx --dump /content/4euplus.eu/4EU-150.html > /content/4EU-150.txt"
      ],
      "metadata": {
        "id": "-vJx4fpquaWY"
      },
      "execution_count": 8,
      "outputs": []
    },
    {
      "cell_type": "code",
      "source": [
        "!diff 4EU-150.txt 4EU-150_.txt"
      ],
      "metadata": {
        "id": "-YTTTo3ovcdE"
      },
      "execution_count": null,
      "outputs": []
    },
    {
      "cell_type": "code",
      "source": [
        "!lynx --dump '/content/4euplus.eu/4EU-12.html?news=11343&amp;locale=en&page=2' >4EU-12-news-11343.txt"
      ],
      "metadata": {
        "id": "MVyDRWzxv2pK"
      },
      "execution_count": 13,
      "outputs": []
    },
    {
      "cell_type": "code",
      "source": [
        "# -*- coding: utf-8 -*-\n",
        "# Python script to open each file, read json input and copy to one text file for subsequent processing\n",
        "import os, re, sys\n",
        "\n",
        "class clHtmlDir2txt(object):\n",
        "    '''\n",
        "    @author Bogdan Babych, IÜD, Heidelberg University, 2021\n",
        "    @email bogdan [dot] babych [at] iued [dot] uni-heidelberg [dot] de\n",
        "    '''\n",
        "    def __init__(self, SDirName, output_file = 'corpus_text.txt', tag='doc', id=1000000): # initialising by openning the directories\n",
        "        self.SOutput_file = output_file\n",
        "        self.STag = tag\n",
        "        self.ID = id\n",
        "        self.openDir(SDirName)\n",
        "        return\n",
        "\n",
        "    def openDir(self, path): # implementation of recursively openning directories from a given rule directory and reading each file recursively into a string\n",
        "        i = 0\n",
        "        FOut = open(self.SOutput_file, 'w')\n",
        "\n",
        "        for root,d_names,f_names in os.walk(path):\n",
        "            for f in f_names:\n",
        "                # if not re.match('^[0-9]+$', f):\n",
        "                if not re.search('html', f):\n",
        "                    print(f'Skipped: {f}')\n",
        "                    continue\n",
        "\n",
        "                i+=1\n",
        "                iid = self.ID + i\n",
        "                siid = str(iid)\n",
        "                f2 = siid + '.html'\n",
        "                fullpath = os.path.join(root, f)\n",
        "\n",
        "                fullpath2 = os.path.join('/content/4euplus2eu', f2)\n",
        "\n",
        "                SCommandCP = 'cp ' + fullpath + ' ' + fullpath2\n",
        "                os.system(SCommandCP)\n",
        "\n",
        "\n",
        "                if i%1==0:\n",
        "                    print(str(i) + '. Processing: ' + f)\n",
        "                    print(fullpath)\n",
        "\n",
        "                    # FIn = open(fullpath,'r')\n",
        "                    # SIn = FIn.read()\n",
        "                    # apply text filter, if not None\n",
        "                    # if self.STextFilter and (re.search(self.RFilter, SIn) == None): continue\n",
        "                    # SText2Write = self.procFile(SIn,f,i)\n",
        "\n",
        "\n",
        "\n",
        "                SText2Write = self.procFile(fullpath2, f2, i) # returns converted string + tags\n",
        "                if SText2Write: FOut.write(SText2Write) # if the string is not empty then write to file\n",
        "                    # FIn.close()\n",
        "                try:\n",
        "                    pass\n",
        "                except:\n",
        "                    print(f'file {f} cannot be read or processed')\n",
        "                finally:\n",
        "                    pass\n",
        "\n",
        "        FOut.flush()\n",
        "        FOut.close()\n",
        "\n",
        "        return\n",
        "\n",
        "\n",
        "    def procFile(self, fullpath, SFNameIn, i): # sending each json string for extraction of text and attaching an correct tags to each output string output string\n",
        "        STagOpen = '<' + self.STag + ' id=\"' + self.STag + str(self.ID + i)  + '\">\\n'\n",
        "        STagClose = '\\n</' + self.STag + '>\\n\\n'\n",
        "        SText4Corpus = self.getString(fullpath, SFNameIn)\n",
        "        if SText4Corpus:\n",
        "            return STagOpen + SText4Corpus + STagClose\n",
        "        else:\n",
        "            print('\\tNo data read from: ' + SFNameIn)\n",
        "            return None\n",
        "\n",
        "\n",
        "    def getString(self, fullpath, SFNameIn):\n",
        "        '''\n",
        "        the function uses system commands to copy, open and extract content of needed files\n",
        "        '''\n",
        "        # iconv -c -t UTF-8 < input.txt > output.txt\n",
        "        # iconv -f UTF-8 -t UTF-8//IGNORE 219624.txt > 219624_V2.txt\n",
        "        # last works!\n",
        "\n",
        "        SFNameHTML = SFNameIn + '_1.html'\n",
        "        SFNameTXT2 = SFNameIn + '_2.txt'\n",
        "        SFNameTXT3 = SFNameIn + '_3.txt'\n",
        "\n",
        "        SCommand = 'cp ' + fullpath + ' ./' + SFNameHTML\n",
        "        os.system(SCommand)\n",
        "\n",
        "        SCommand2 = 'lynx --dump ./' + SFNameHTML + ' > ' + SFNameTXT2\n",
        "        os.system(SCommand2)\n",
        "\n",
        "        # SCommand2 = 'iconv -c -t UTF-8 < ' + SFNameHTML + ' > ' + SFNameHTML2\n",
        "        SCommand3 = 'iconv -f UTF-8 -t UTF-8//IGNORE ' + SFNameTXT2 + ' > ' + SFNameTXT3\n",
        "        os.system(SCommand3)\n",
        "\n",
        "        # stream = os.popen('lynx --dump ./' + SFNameHTML2)\n",
        "        # SFileContent = stream.read()\n",
        "\n",
        "        F2Read = open('./' + SFNameTXT3, 'r', encoding=\"utf8\", errors=\"surrogateescape\")\n",
        "        SFileContent = F2Read.read()\n",
        "\n",
        "        LFileContent = re.split('\\n\\n+', SFileContent, flags=re.MULTILINE|re.DOTALL)\n",
        "        print(len(LFileContent))\n",
        "        print(LFileContent[0])\n",
        "\n",
        "        LFileContent0 = []\n",
        "        for el in LFileContent:\n",
        "            el = re.sub('\\n', ' ', el)\n",
        "            el = re.sub(' +', ' ', el)\n",
        "            LFileContent0.append(el)\n",
        "\n",
        "        SFileContent2 = '\\n\\n'.join(LFileContent0)\n",
        "\n",
        "\n",
        "        return SFileContent2\n",
        "\n",
        ""
      ],
      "metadata": {
        "id": "_xuDhaGjwldZ"
      },
      "execution_count": 32,
      "outputs": []
    },
    {
      "cell_type": "code",
      "source": [
        "!mkdir 4euplus2eu"
      ],
      "metadata": {
        "id": "TGXZix0wz6_v"
      },
      "execution_count": 20,
      "outputs": []
    },
    {
      "cell_type": "code",
      "source": [
        "OHtmlDir2txt = clHtmlDir2txt('/content/4euplus.eu')"
      ],
      "metadata": {
        "id": "oDZEN4PAxrxr"
      },
      "execution_count": null,
      "outputs": []
    },
    {
      "cell_type": "code",
      "source": [
        "!wc /content/corpus_text.txt"
      ],
      "metadata": {
        "colab": {
          "base_uri": "https://localhost:8080/"
        },
        "id": "JcQBm_FZ3Uuj",
        "outputId": "f987f2e3-d161-4089-f7c1-a464edc4f8a1"
      },
      "execution_count": 34,
      "outputs": [
        {
          "output_type": "stream",
          "name": "stdout",
          "text": [
            "  17216  234751 2143172 /content/corpus_text.txt\n"
          ]
        }
      ]
    },
    {
      "cell_type": "code",
      "source": [
        "!wget https://heibox.uni-heidelberg.de/f/e7af0a4dc1af4f659bd1/?dl=1"
      ],
      "metadata": {
        "id": "-lOyagfJ4y3B"
      },
      "execution_count": null,
      "outputs": []
    },
    {
      "cell_type": "code",
      "source": [
        "!mv index.html?dl=1 corpus2text.txt"
      ],
      "metadata": {
        "id": "_1i9KEPQ5BVl"
      },
      "execution_count": 36,
      "outputs": []
    }
  ]
}