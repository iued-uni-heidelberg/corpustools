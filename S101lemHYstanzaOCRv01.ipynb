{
  "nbformat": 4,
  "nbformat_minor": 0,
  "metadata": {
    "colab": {
      "provenance": [],
      "authorship_tag": "ABX9TyOc8tM92ktcWM77Tr4O/orM",
      "include_colab_link": true
    },
    "kernelspec": {
      "name": "python3",
      "display_name": "Python 3"
    },
    "language_info": {
      "name": "python"
    },
    "widgets": {
      "application/vnd.jupyter.widget-state+json": {
        "b99774a88e5441c19585fa4803de8100": {
          "model_module": "@jupyter-widgets/controls",
          "model_name": "HBoxModel",
          "model_module_version": "1.5.0",
          "state": {
            "_dom_classes": [],
            "_model_module": "@jupyter-widgets/controls",
            "_model_module_version": "1.5.0",
            "_model_name": "HBoxModel",
            "_view_count": null,
            "_view_module": "@jupyter-widgets/controls",
            "_view_module_version": "1.5.0",
            "_view_name": "HBoxView",
            "box_style": "",
            "children": [
              "IPY_MODEL_3470db8228f246d3915fc98250ee0150",
              "IPY_MODEL_e0c38aeec5014cd29b42eff31afb79fc",
              "IPY_MODEL_132706eda5ba4006b0346a8122fa8666"
            ],
            "layout": "IPY_MODEL_766fb4209b684945a866099b7a1d27fa"
          }
        },
        "3470db8228f246d3915fc98250ee0150": {
          "model_module": "@jupyter-widgets/controls",
          "model_name": "HTMLModel",
          "model_module_version": "1.5.0",
          "state": {
            "_dom_classes": [],
            "_model_module": "@jupyter-widgets/controls",
            "_model_module_version": "1.5.0",
            "_model_name": "HTMLModel",
            "_view_count": null,
            "_view_module": "@jupyter-widgets/controls",
            "_view_module_version": "1.5.0",
            "_view_name": "HTMLView",
            "description": "",
            "description_tooltip": null,
            "layout": "IPY_MODEL_e6ba1f947e4542ccb4d157ec7b4383b1",
            "placeholder": "​",
            "style": "IPY_MODEL_521d3faaa5cd4c32aaf320cd8cdf9549",
            "value": "Downloading https://raw.githubusercontent.com/stanfordnlp/stanza-resources/main/resources_1.4.1.json: "
          }
        },
        "e0c38aeec5014cd29b42eff31afb79fc": {
          "model_module": "@jupyter-widgets/controls",
          "model_name": "FloatProgressModel",
          "model_module_version": "1.5.0",
          "state": {
            "_dom_classes": [],
            "_model_module": "@jupyter-widgets/controls",
            "_model_module_version": "1.5.0",
            "_model_name": "FloatProgressModel",
            "_view_count": null,
            "_view_module": "@jupyter-widgets/controls",
            "_view_module_version": "1.5.0",
            "_view_name": "ProgressView",
            "bar_style": "success",
            "description": "",
            "description_tooltip": null,
            "layout": "IPY_MODEL_03f9d3430cae4e2b8b272ce45ff65ace",
            "max": 28918,
            "min": 0,
            "orientation": "horizontal",
            "style": "IPY_MODEL_18e726da804749738a20d4dfc15f59f4",
            "value": 28918
          }
        },
        "132706eda5ba4006b0346a8122fa8666": {
          "model_module": "@jupyter-widgets/controls",
          "model_name": "HTMLModel",
          "model_module_version": "1.5.0",
          "state": {
            "_dom_classes": [],
            "_model_module": "@jupyter-widgets/controls",
            "_model_module_version": "1.5.0",
            "_model_name": "HTMLModel",
            "_view_count": null,
            "_view_module": "@jupyter-widgets/controls",
            "_view_module_version": "1.5.0",
            "_view_name": "HTMLView",
            "description": "",
            "description_tooltip": null,
            "layout": "IPY_MODEL_2e7f9a6a54994c6ea24313c7b75eb14e",
            "placeholder": "​",
            "style": "IPY_MODEL_d0cfa66dce904cbd86520c45ad8904eb",
            "value": " 193k/? [00:00&lt;00:00, 5.10MB/s]"
          }
        },
        "766fb4209b684945a866099b7a1d27fa": {
          "model_module": "@jupyter-widgets/base",
          "model_name": "LayoutModel",
          "model_module_version": "1.2.0",
          "state": {
            "_model_module": "@jupyter-widgets/base",
            "_model_module_version": "1.2.0",
            "_model_name": "LayoutModel",
            "_view_count": null,
            "_view_module": "@jupyter-widgets/base",
            "_view_module_version": "1.2.0",
            "_view_name": "LayoutView",
            "align_content": null,
            "align_items": null,
            "align_self": null,
            "border": null,
            "bottom": null,
            "display": null,
            "flex": null,
            "flex_flow": null,
            "grid_area": null,
            "grid_auto_columns": null,
            "grid_auto_flow": null,
            "grid_auto_rows": null,
            "grid_column": null,
            "grid_gap": null,
            "grid_row": null,
            "grid_template_areas": null,
            "grid_template_columns": null,
            "grid_template_rows": null,
            "height": null,
            "justify_content": null,
            "justify_items": null,
            "left": null,
            "margin": null,
            "max_height": null,
            "max_width": null,
            "min_height": null,
            "min_width": null,
            "object_fit": null,
            "object_position": null,
            "order": null,
            "overflow": null,
            "overflow_x": null,
            "overflow_y": null,
            "padding": null,
            "right": null,
            "top": null,
            "visibility": null,
            "width": null
          }
        },
        "e6ba1f947e4542ccb4d157ec7b4383b1": {
          "model_module": "@jupyter-widgets/base",
          "model_name": "LayoutModel",
          "model_module_version": "1.2.0",
          "state": {
            "_model_module": "@jupyter-widgets/base",
            "_model_module_version": "1.2.0",
            "_model_name": "LayoutModel",
            "_view_count": null,
            "_view_module": "@jupyter-widgets/base",
            "_view_module_version": "1.2.0",
            "_view_name": "LayoutView",
            "align_content": null,
            "align_items": null,
            "align_self": null,
            "border": null,
            "bottom": null,
            "display": null,
            "flex": null,
            "flex_flow": null,
            "grid_area": null,
            "grid_auto_columns": null,
            "grid_auto_flow": null,
            "grid_auto_rows": null,
            "grid_column": null,
            "grid_gap": null,
            "grid_row": null,
            "grid_template_areas": null,
            "grid_template_columns": null,
            "grid_template_rows": null,
            "height": null,
            "justify_content": null,
            "justify_items": null,
            "left": null,
            "margin": null,
            "max_height": null,
            "max_width": null,
            "min_height": null,
            "min_width": null,
            "object_fit": null,
            "object_position": null,
            "order": null,
            "overflow": null,
            "overflow_x": null,
            "overflow_y": null,
            "padding": null,
            "right": null,
            "top": null,
            "visibility": null,
            "width": null
          }
        },
        "521d3faaa5cd4c32aaf320cd8cdf9549": {
          "model_module": "@jupyter-widgets/controls",
          "model_name": "DescriptionStyleModel",
          "model_module_version": "1.5.0",
          "state": {
            "_model_module": "@jupyter-widgets/controls",
            "_model_module_version": "1.5.0",
            "_model_name": "DescriptionStyleModel",
            "_view_count": null,
            "_view_module": "@jupyter-widgets/base",
            "_view_module_version": "1.2.0",
            "_view_name": "StyleView",
            "description_width": ""
          }
        },
        "03f9d3430cae4e2b8b272ce45ff65ace": {
          "model_module": "@jupyter-widgets/base",
          "model_name": "LayoutModel",
          "model_module_version": "1.2.0",
          "state": {
            "_model_module": "@jupyter-widgets/base",
            "_model_module_version": "1.2.0",
            "_model_name": "LayoutModel",
            "_view_count": null,
            "_view_module": "@jupyter-widgets/base",
            "_view_module_version": "1.2.0",
            "_view_name": "LayoutView",
            "align_content": null,
            "align_items": null,
            "align_self": null,
            "border": null,
            "bottom": null,
            "display": null,
            "flex": null,
            "flex_flow": null,
            "grid_area": null,
            "grid_auto_columns": null,
            "grid_auto_flow": null,
            "grid_auto_rows": null,
            "grid_column": null,
            "grid_gap": null,
            "grid_row": null,
            "grid_template_areas": null,
            "grid_template_columns": null,
            "grid_template_rows": null,
            "height": null,
            "justify_content": null,
            "justify_items": null,
            "left": null,
            "margin": null,
            "max_height": null,
            "max_width": null,
            "min_height": null,
            "min_width": null,
            "object_fit": null,
            "object_position": null,
            "order": null,
            "overflow": null,
            "overflow_x": null,
            "overflow_y": null,
            "padding": null,
            "right": null,
            "top": null,
            "visibility": null,
            "width": null
          }
        },
        "18e726da804749738a20d4dfc15f59f4": {
          "model_module": "@jupyter-widgets/controls",
          "model_name": "ProgressStyleModel",
          "model_module_version": "1.5.0",
          "state": {
            "_model_module": "@jupyter-widgets/controls",
            "_model_module_version": "1.5.0",
            "_model_name": "ProgressStyleModel",
            "_view_count": null,
            "_view_module": "@jupyter-widgets/base",
            "_view_module_version": "1.2.0",
            "_view_name": "StyleView",
            "bar_color": null,
            "description_width": ""
          }
        },
        "2e7f9a6a54994c6ea24313c7b75eb14e": {
          "model_module": "@jupyter-widgets/base",
          "model_name": "LayoutModel",
          "model_module_version": "1.2.0",
          "state": {
            "_model_module": "@jupyter-widgets/base",
            "_model_module_version": "1.2.0",
            "_model_name": "LayoutModel",
            "_view_count": null,
            "_view_module": "@jupyter-widgets/base",
            "_view_module_version": "1.2.0",
            "_view_name": "LayoutView",
            "align_content": null,
            "align_items": null,
            "align_self": null,
            "border": null,
            "bottom": null,
            "display": null,
            "flex": null,
            "flex_flow": null,
            "grid_area": null,
            "grid_auto_columns": null,
            "grid_auto_flow": null,
            "grid_auto_rows": null,
            "grid_column": null,
            "grid_gap": null,
            "grid_row": null,
            "grid_template_areas": null,
            "grid_template_columns": null,
            "grid_template_rows": null,
            "height": null,
            "justify_content": null,
            "justify_items": null,
            "left": null,
            "margin": null,
            "max_height": null,
            "max_width": null,
            "min_height": null,
            "min_width": null,
            "object_fit": null,
            "object_position": null,
            "order": null,
            "overflow": null,
            "overflow_x": null,
            "overflow_y": null,
            "padding": null,
            "right": null,
            "top": null,
            "visibility": null,
            "width": null
          }
        },
        "d0cfa66dce904cbd86520c45ad8904eb": {
          "model_module": "@jupyter-widgets/controls",
          "model_name": "DescriptionStyleModel",
          "model_module_version": "1.5.0",
          "state": {
            "_model_module": "@jupyter-widgets/controls",
            "_model_module_version": "1.5.0",
            "_model_name": "DescriptionStyleModel",
            "_view_count": null,
            "_view_module": "@jupyter-widgets/base",
            "_view_module_version": "1.2.0",
            "_view_name": "StyleView",
            "description_width": ""
          }
        },
        "6f7c63e105654c3aa2cd07dd0ca6ac99": {
          "model_module": "@jupyter-widgets/controls",
          "model_name": "HBoxModel",
          "model_module_version": "1.5.0",
          "state": {
            "_dom_classes": [],
            "_model_module": "@jupyter-widgets/controls",
            "_model_module_version": "1.5.0",
            "_model_name": "HBoxModel",
            "_view_count": null,
            "_view_module": "@jupyter-widgets/controls",
            "_view_module_version": "1.5.0",
            "_view_name": "HBoxView",
            "box_style": "",
            "children": [
              "IPY_MODEL_b377d839d2ac4e8d841f11e49f197d8b",
              "IPY_MODEL_dc16aca49f264031830bf6af96d36bd5",
              "IPY_MODEL_28f3094a94124033bd5d0d1d5d7bf06b"
            ],
            "layout": "IPY_MODEL_57de96f1687c47098b815382110393da"
          }
        },
        "b377d839d2ac4e8d841f11e49f197d8b": {
          "model_module": "@jupyter-widgets/controls",
          "model_name": "HTMLModel",
          "model_module_version": "1.5.0",
          "state": {
            "_dom_classes": [],
            "_model_module": "@jupyter-widgets/controls",
            "_model_module_version": "1.5.0",
            "_model_name": "HTMLModel",
            "_view_count": null,
            "_view_module": "@jupyter-widgets/controls",
            "_view_module_version": "1.5.0",
            "_view_name": "HTMLView",
            "description": "",
            "description_tooltip": null,
            "layout": "IPY_MODEL_d5a35c02372147a58fbb0015bc1fd380",
            "placeholder": "​",
            "style": "IPY_MODEL_854b301b8a2b4911af9706fb6be90ffd",
            "value": "Downloading https://huggingface.co/stanfordnlp/stanza-hy/resolve/v1.4.1/models/default.zip: 100%"
          }
        },
        "dc16aca49f264031830bf6af96d36bd5": {
          "model_module": "@jupyter-widgets/controls",
          "model_name": "FloatProgressModel",
          "model_module_version": "1.5.0",
          "state": {
            "_dom_classes": [],
            "_model_module": "@jupyter-widgets/controls",
            "_model_module_version": "1.5.0",
            "_model_name": "FloatProgressModel",
            "_view_count": null,
            "_view_module": "@jupyter-widgets/controls",
            "_view_module_version": "1.5.0",
            "_view_name": "ProgressView",
            "bar_style": "success",
            "description": "",
            "description_tooltip": null,
            "layout": "IPY_MODEL_30e2bcd5c25f461780041254e61df481",
            "max": 454395920,
            "min": 0,
            "orientation": "horizontal",
            "style": "IPY_MODEL_54e2cf2267a348988e3d86b943717748",
            "value": 454395920
          }
        },
        "28f3094a94124033bd5d0d1d5d7bf06b": {
          "model_module": "@jupyter-widgets/controls",
          "model_name": "HTMLModel",
          "model_module_version": "1.5.0",
          "state": {
            "_dom_classes": [],
            "_model_module": "@jupyter-widgets/controls",
            "_model_module_version": "1.5.0",
            "_model_name": "HTMLModel",
            "_view_count": null,
            "_view_module": "@jupyter-widgets/controls",
            "_view_module_version": "1.5.0",
            "_view_name": "HTMLView",
            "description": "",
            "description_tooltip": null,
            "layout": "IPY_MODEL_763e338a8ddc4ec8b9a4915a0ee06a01",
            "placeholder": "​",
            "style": "IPY_MODEL_15be3022a14c4a708ca4fcc854dc1a7c",
            "value": " 454M/454M [00:13&lt;00:00, 33.8MB/s]"
          }
        },
        "57de96f1687c47098b815382110393da": {
          "model_module": "@jupyter-widgets/base",
          "model_name": "LayoutModel",
          "model_module_version": "1.2.0",
          "state": {
            "_model_module": "@jupyter-widgets/base",
            "_model_module_version": "1.2.0",
            "_model_name": "LayoutModel",
            "_view_count": null,
            "_view_module": "@jupyter-widgets/base",
            "_view_module_version": "1.2.0",
            "_view_name": "LayoutView",
            "align_content": null,
            "align_items": null,
            "align_self": null,
            "border": null,
            "bottom": null,
            "display": null,
            "flex": null,
            "flex_flow": null,
            "grid_area": null,
            "grid_auto_columns": null,
            "grid_auto_flow": null,
            "grid_auto_rows": null,
            "grid_column": null,
            "grid_gap": null,
            "grid_row": null,
            "grid_template_areas": null,
            "grid_template_columns": null,
            "grid_template_rows": null,
            "height": null,
            "justify_content": null,
            "justify_items": null,
            "left": null,
            "margin": null,
            "max_height": null,
            "max_width": null,
            "min_height": null,
            "min_width": null,
            "object_fit": null,
            "object_position": null,
            "order": null,
            "overflow": null,
            "overflow_x": null,
            "overflow_y": null,
            "padding": null,
            "right": null,
            "top": null,
            "visibility": null,
            "width": null
          }
        },
        "d5a35c02372147a58fbb0015bc1fd380": {
          "model_module": "@jupyter-widgets/base",
          "model_name": "LayoutModel",
          "model_module_version": "1.2.0",
          "state": {
            "_model_module": "@jupyter-widgets/base",
            "_model_module_version": "1.2.0",
            "_model_name": "LayoutModel",
            "_view_count": null,
            "_view_module": "@jupyter-widgets/base",
            "_view_module_version": "1.2.0",
            "_view_name": "LayoutView",
            "align_content": null,
            "align_items": null,
            "align_self": null,
            "border": null,
            "bottom": null,
            "display": null,
            "flex": null,
            "flex_flow": null,
            "grid_area": null,
            "grid_auto_columns": null,
            "grid_auto_flow": null,
            "grid_auto_rows": null,
            "grid_column": null,
            "grid_gap": null,
            "grid_row": null,
            "grid_template_areas": null,
            "grid_template_columns": null,
            "grid_template_rows": null,
            "height": null,
            "justify_content": null,
            "justify_items": null,
            "left": null,
            "margin": null,
            "max_height": null,
            "max_width": null,
            "min_height": null,
            "min_width": null,
            "object_fit": null,
            "object_position": null,
            "order": null,
            "overflow": null,
            "overflow_x": null,
            "overflow_y": null,
            "padding": null,
            "right": null,
            "top": null,
            "visibility": null,
            "width": null
          }
        },
        "854b301b8a2b4911af9706fb6be90ffd": {
          "model_module": "@jupyter-widgets/controls",
          "model_name": "DescriptionStyleModel",
          "model_module_version": "1.5.0",
          "state": {
            "_model_module": "@jupyter-widgets/controls",
            "_model_module_version": "1.5.0",
            "_model_name": "DescriptionStyleModel",
            "_view_count": null,
            "_view_module": "@jupyter-widgets/base",
            "_view_module_version": "1.2.0",
            "_view_name": "StyleView",
            "description_width": ""
          }
        },
        "30e2bcd5c25f461780041254e61df481": {
          "model_module": "@jupyter-widgets/base",
          "model_name": "LayoutModel",
          "model_module_version": "1.2.0",
          "state": {
            "_model_module": "@jupyter-widgets/base",
            "_model_module_version": "1.2.0",
            "_model_name": "LayoutModel",
            "_view_count": null,
            "_view_module": "@jupyter-widgets/base",
            "_view_module_version": "1.2.0",
            "_view_name": "LayoutView",
            "align_content": null,
            "align_items": null,
            "align_self": null,
            "border": null,
            "bottom": null,
            "display": null,
            "flex": null,
            "flex_flow": null,
            "grid_area": null,
            "grid_auto_columns": null,
            "grid_auto_flow": null,
            "grid_auto_rows": null,
            "grid_column": null,
            "grid_gap": null,
            "grid_row": null,
            "grid_template_areas": null,
            "grid_template_columns": null,
            "grid_template_rows": null,
            "height": null,
            "justify_content": null,
            "justify_items": null,
            "left": null,
            "margin": null,
            "max_height": null,
            "max_width": null,
            "min_height": null,
            "min_width": null,
            "object_fit": null,
            "object_position": null,
            "order": null,
            "overflow": null,
            "overflow_x": null,
            "overflow_y": null,
            "padding": null,
            "right": null,
            "top": null,
            "visibility": null,
            "width": null
          }
        },
        "54e2cf2267a348988e3d86b943717748": {
          "model_module": "@jupyter-widgets/controls",
          "model_name": "ProgressStyleModel",
          "model_module_version": "1.5.0",
          "state": {
            "_model_module": "@jupyter-widgets/controls",
            "_model_module_version": "1.5.0",
            "_model_name": "ProgressStyleModel",
            "_view_count": null,
            "_view_module": "@jupyter-widgets/base",
            "_view_module_version": "1.2.0",
            "_view_name": "StyleView",
            "bar_color": null,
            "description_width": ""
          }
        },
        "763e338a8ddc4ec8b9a4915a0ee06a01": {
          "model_module": "@jupyter-widgets/base",
          "model_name": "LayoutModel",
          "model_module_version": "1.2.0",
          "state": {
            "_model_module": "@jupyter-widgets/base",
            "_model_module_version": "1.2.0",
            "_model_name": "LayoutModel",
            "_view_count": null,
            "_view_module": "@jupyter-widgets/base",
            "_view_module_version": "1.2.0",
            "_view_name": "LayoutView",
            "align_content": null,
            "align_items": null,
            "align_self": null,
            "border": null,
            "bottom": null,
            "display": null,
            "flex": null,
            "flex_flow": null,
            "grid_area": null,
            "grid_auto_columns": null,
            "grid_auto_flow": null,
            "grid_auto_rows": null,
            "grid_column": null,
            "grid_gap": null,
            "grid_row": null,
            "grid_template_areas": null,
            "grid_template_columns": null,
            "grid_template_rows": null,
            "height": null,
            "justify_content": null,
            "justify_items": null,
            "left": null,
            "margin": null,
            "max_height": null,
            "max_width": null,
            "min_height": null,
            "min_width": null,
            "object_fit": null,
            "object_position": null,
            "order": null,
            "overflow": null,
            "overflow_x": null,
            "overflow_y": null,
            "padding": null,
            "right": null,
            "top": null,
            "visibility": null,
            "width": null
          }
        },
        "15be3022a14c4a708ca4fcc854dc1a7c": {
          "model_module": "@jupyter-widgets/controls",
          "model_name": "DescriptionStyleModel",
          "model_module_version": "1.5.0",
          "state": {
            "_model_module": "@jupyter-widgets/controls",
            "_model_module_version": "1.5.0",
            "_model_name": "DescriptionStyleModel",
            "_view_count": null,
            "_view_module": "@jupyter-widgets/base",
            "_view_module_version": "1.2.0",
            "_view_name": "StyleView",
            "description_width": ""
          }
        }
      }
    }
  },
  "cells": [
    {
      "cell_type": "markdown",
      "metadata": {
        "id": "view-in-github",
        "colab_type": "text"
      },
      "source": [
        "<a href=\"https://colab.research.google.com/github/iued-uni-heidelberg/corpustools/blob/main/S101lemHYstanzaOCRv01.ipynb\" target=\"_parent\"><img src=\"https://colab.research.google.com/assets/colab-badge.svg\" alt=\"Open In Colab\"/></a>"
      ]
    },
    {
      "cell_type": "markdown",
      "source": [
        "## Armenian lemmatization with Stanza\n",
        "https://github.com/iued-uni-heidelberg/corpustools/blob/main/S101lemHYstanzaOCRv01.ipynb\n"
      ],
      "metadata": {
        "id": "skix7t6sFaZB"
      }
    },
    {
      "cell_type": "code",
      "source": [
        "import os, sys, re\n"
      ],
      "metadata": {
        "id": "aEQcXSC6gMwf"
      },
      "execution_count": 95,
      "outputs": []
    },
    {
      "cell_type": "markdown",
      "source": [
        "## downloading evaluation sets\n",
        "- 420 words: test with about 420 words of Armenian text\n",
        "- Armenian \"Brown-type\" corpus b"
      ],
      "metadata": {
        "id": "fFBRX6lTFfcA"
      }
    },
    {
      "cell_type": "code",
      "source": [
        "### optional\n",
        "!wget https://heibox.uni-heidelberg.de/f/ce6096da570f47b99500/?dl=1\n",
        "### optional\n",
        "!mv index.html?dl=1 evaluation-set-v01.txt"
      ],
      "metadata": {
        "id": "m549clSLFHs_"
      },
      "execution_count": null,
      "outputs": []
    },
    {
      "cell_type": "code",
      "source": [
        "!wget https://heibox.uni-heidelberg.de/f/a847a12bffd4491f9070/?dl=1\n",
        "!mv index.html?dl=1 TED2020-dehy-hy-aa"
      ],
      "metadata": {
        "id": "IWwqNLkxPMfB"
      },
      "execution_count": null,
      "outputs": []
    },
    {
      "cell_type": "code",
      "source": [
        "### downloading Armenian Wikipedia\n",
        "!wget https://heibox.uni-heidelberg.de/f/d1f866a61bd545318213/?dl=1\n",
        "!mv index.html?dl=1 hywiki-20221101-pages-articles.txt.gz\n",
        "!gunzip hywiki-20221101-pages-articles.txt.gz"
      ],
      "metadata": {
        "id": "j_-b-YYGq8bw",
        "colab": {
          "base_uri": "https://localhost:8080/"
        },
        "outputId": "0ed93496-ebe5-4c59-c31e-5ec8ac1caffe"
      },
      "execution_count": 1,
      "outputs": [
        {
          "output_type": "stream",
          "name": "stdout",
          "text": [
            "--2023-03-07 07:12:46--  https://heibox.uni-heidelberg.de/f/d1f866a61bd545318213/?dl=1\n",
            "Resolving heibox.uni-heidelberg.de (heibox.uni-heidelberg.de)... 129.206.7.113\n",
            "Connecting to heibox.uni-heidelberg.de (heibox.uni-heidelberg.de)|129.206.7.113|:443... connected.\n",
            "HTTP request sent, awaiting response... 302 Found\n",
            "Location: https://heibox.uni-heidelberg.de/seafhttp/files/d0b45358-3168-4c43-b8e6-08c1ed55475e/hywiki-20221101-pages-articles.txt.gz [following]\n",
            "--2023-03-07 07:12:47--  https://heibox.uni-heidelberg.de/seafhttp/files/d0b45358-3168-4c43-b8e6-08c1ed55475e/hywiki-20221101-pages-articles.txt.gz\n",
            "Reusing existing connection to heibox.uni-heidelberg.de:443.\n",
            "HTTP request sent, awaiting response... 200 OK\n",
            "Length: 193021637 (184M) [application/octet-stream]\n",
            "Saving to: ‘index.html?dl=1’\n",
            "\n",
            "index.html?dl=1     100%[===================>] 184.08M  14.9MB/s    in 12s     \n",
            "\n",
            "2023-03-07 07:12:59 (15.6 MB/s) - ‘index.html?dl=1’ saved [193021637/193021637]\n",
            "\n"
          ]
        }
      ]
    },
    {
      "cell_type": "code",
      "source": [
        "!wc hywiki-20221101-pages-articles.txt"
      ],
      "metadata": {
        "id": "SQMJimofsTMd",
        "colab": {
          "base_uri": "https://localhost:8080/"
        },
        "outputId": "4b7a22cd-0e1b-403f-c40f-2615785966e4"
      },
      "execution_count": 2,
      "outputs": [
        {
          "output_type": "stream",
          "name": "stdout",
          "text": [
            "  2446411  56341171 803098410 hywiki-20221101-pages-articles.txt\n"
          ]
        }
      ]
    },
    {
      "cell_type": "markdown",
      "source": [
        "## Installing stanza"
      ],
      "metadata": {
        "id": "i__aUXulFkw2"
      }
    },
    {
      "cell_type": "code",
      "execution_count": null,
      "metadata": {
        "id": "GdzVArLUF3cb"
      },
      "outputs": [],
      "source": [
        "!pip install spacy-stanza"
      ]
    },
    {
      "cell_type": "code",
      "source": [
        "import stanza\n",
        "import spacy_stanza\n"
      ],
      "metadata": {
        "id": "-VN9g4N4GAR2",
        "colab": {
          "base_uri": "https://localhost:8080/"
        },
        "outputId": "1a7733d2-a878-448a-e2c4-d65c45ea0350"
      },
      "execution_count": 4,
      "outputs": [
        {
          "output_type": "stream",
          "name": "stderr",
          "text": [
            "/usr/local/lib/python3.8/dist-packages/torch/cuda/__init__.py:497: UserWarning: Can't initialize NVML\n",
            "  warnings.warn(\"Can't initialize NVML\")\n"
          ]
        }
      ]
    },
    {
      "cell_type": "markdown",
      "source": [
        "### testing English stanza (optional)"
      ],
      "metadata": {
        "id": "w6Kfwj63FzYM"
      }
    },
    {
      "cell_type": "code",
      "source": [
        "# optional\n",
        "# Download the stanza model if necessary\n",
        "stanza.download(\"en\")\n",
        "\n",
        "# Initialize the pipeline\n",
        "nlp = spacy_stanza.load_pipeline(\"en\")\n",
        "\n",
        "doc = nlp(\"Barack Obama was born in Hawaii. He was elected president in 2008.\")\n",
        "for token in doc:\n",
        "    print(token.text, token.lemma_, token.pos_, token.dep_, token.ent_type_)\n",
        "print(doc.ents)"
      ],
      "metadata": {
        "id": "dEA7KJdZPrWV"
      },
      "execution_count": null,
      "outputs": []
    },
    {
      "cell_type": "markdown",
      "source": [
        "### downloading and testing Armenian stanza"
      ],
      "metadata": {
        "id": "HGyKxEJNGG8q"
      }
    },
    {
      "cell_type": "code",
      "source": [
        "stanza.download(\"hy\")\n"
      ],
      "metadata": {
        "id": "xq53mDsUGumV",
        "colab": {
          "base_uri": "https://localhost:8080/",
          "height": 117,
          "referenced_widgets": [
            "b99774a88e5441c19585fa4803de8100",
            "3470db8228f246d3915fc98250ee0150",
            "e0c38aeec5014cd29b42eff31afb79fc",
            "132706eda5ba4006b0346a8122fa8666",
            "766fb4209b684945a866099b7a1d27fa",
            "e6ba1f947e4542ccb4d157ec7b4383b1",
            "521d3faaa5cd4c32aaf320cd8cdf9549",
            "03f9d3430cae4e2b8b272ce45ff65ace",
            "18e726da804749738a20d4dfc15f59f4",
            "2e7f9a6a54994c6ea24313c7b75eb14e",
            "d0cfa66dce904cbd86520c45ad8904eb",
            "6f7c63e105654c3aa2cd07dd0ca6ac99",
            "b377d839d2ac4e8d841f11e49f197d8b",
            "dc16aca49f264031830bf6af96d36bd5",
            "28f3094a94124033bd5d0d1d5d7bf06b",
            "57de96f1687c47098b815382110393da",
            "d5a35c02372147a58fbb0015bc1fd380",
            "854b301b8a2b4911af9706fb6be90ffd",
            "30e2bcd5c25f461780041254e61df481",
            "54e2cf2267a348988e3d86b943717748",
            "763e338a8ddc4ec8b9a4915a0ee06a01",
            "15be3022a14c4a708ca4fcc854dc1a7c"
          ]
        },
        "outputId": "2bba39c1-6078-4d99-9b1d-02e409e2911c"
      },
      "execution_count": 6,
      "outputs": [
        {
          "output_type": "display_data",
          "data": {
            "text/plain": [
              "Downloading https://raw.githubusercontent.com/stanfordnlp/stanza-resources/main/resources_1.4.1.json:   0%|   …"
            ],
            "application/vnd.jupyter.widget-view+json": {
              "version_major": 2,
              "version_minor": 0,
              "model_id": "b99774a88e5441c19585fa4803de8100"
            }
          },
          "metadata": {}
        },
        {
          "output_type": "stream",
          "name": "stderr",
          "text": [
            "INFO:stanza:Downloading default packages for language: hy (Armenian) ...\n"
          ]
        },
        {
          "output_type": "display_data",
          "data": {
            "text/plain": [
              "Downloading https://huggingface.co/stanfordnlp/stanza-hy/resolve/v1.4.1/models/default.zip:   0%|          | 0…"
            ],
            "application/vnd.jupyter.widget-view+json": {
              "version_major": 2,
              "version_minor": 0,
              "model_id": "6f7c63e105654c3aa2cd07dd0ca6ac99"
            }
          },
          "metadata": {}
        },
        {
          "output_type": "stream",
          "name": "stderr",
          "text": [
            "INFO:stanza:Finished downloading models and saved to /root/stanza_resources.\n"
          ]
        }
      ]
    },
    {
      "cell_type": "code",
      "source": [
        "nlp_hy = spacy_stanza.load_pipeline(\"hy\")"
      ],
      "metadata": {
        "id": "KZKOs0aVG8Kl"
      },
      "execution_count": null,
      "outputs": []
    },
    {
      "cell_type": "code",
      "source": [
        "### optional\n",
        "doc = nlp_hy(\"ՄԱՐԴՈՒ ԻՐԱՎՈՒՆՔՆԵՐԻ ՀԱՄԸՆԴՀԱՆՈՒՐ ՀՌՉԱԿԱԳԻՐ. ՆԵՐԱԾԱԿԱՆ. Քանզի մարդկային ընտանիքի բոլոր անդամներին ներհատուկ արժանապատվությունըև հավասար ու անօտարելի իրավունքները աշխարհի ազատության, արդարության ու խաղաղության հիմքն են.\")"
      ],
      "metadata": {
        "id": "m022wp2JHvOO"
      },
      "execution_count": 8,
      "outputs": []
    },
    {
      "cell_type": "code",
      "source": [
        "### optional\n",
        "for token in doc:\n",
        "    print(token.text, token.lemma_, token.pos_, token.dep_, token.ent_type_)\n"
      ],
      "metadata": {
        "id": "LPhSOX15ICmG"
      },
      "execution_count": null,
      "outputs": []
    },
    {
      "cell_type": "markdown",
      "source": [
        "### full analysis of the file (optional)\n",
        "- includes dependency parsing"
      ],
      "metadata": {
        "id": "NVyvpuMDQXYA"
      }
    },
    {
      "cell_type": "code",
      "source": [
        "### optional\n",
        "with open('/content/TED2020-dehy-hy-aa', 'r', encoding='utf-8') as infile, open('/content/TED2020-dehy-hy-aa-ANALYSIS-full-v01.txt', 'w') as outfile:\n",
        "    # read sample.txt an and write its content into sample2.txt\n",
        "    outfile.write(\"{token.text}\\t{token.lemma_}\\t{token.pos_}\\t{token.dep_}\\t{parentLem}\\t{LAncestors}\\n\")\n",
        "    for line in infile:\n",
        "        line = line.strip()\n",
        "        doc = nlp_hy(line)\n",
        "        # outfile.write(line + '\\n')\n",
        "        for token in doc:\n",
        "            LAncestors = list(token.ancestors)\n",
        "            print(str(LAncestors))\n",
        "            try:\n",
        "                SLAncestors = str(list(token.ancestors))\n",
        "                parent = LAncestors[0]\n",
        "                parentLem = parent.lemma_\n",
        "            except:\n",
        "                parentLem = \"NONE\"\n",
        "            outfile.write(f\"{token.text}\\t{token.lemma_}\\t{token.pos_}\\t{token.dep_}\\t{parentLem}\\t{SLAncestors}\\n\")\n",
        " \n",
        "\n",
        " "
      ],
      "metadata": {
        "id": "HJdW66EmJI2d"
      },
      "execution_count": null,
      "outputs": []
    },
    {
      "cell_type": "code",
      "source": [
        "### optional : check output \n",
        "!head -n 50 TED2020-dehy-hy-aa-ANALYSIS-full-v01.txt"
      ],
      "metadata": {
        "colab": {
          "base_uri": "https://localhost:8080/"
        },
        "id": "DqQteJEKwmd9",
        "outputId": "a9b85102-2a65-4663-d6ac-85f18721b2c5"
      },
      "execution_count": null,
      "outputs": [
        {
          "output_type": "stream",
          "name": "stdout",
          "text": [
            "head: cannot open 'TED2020-dehy-hy-aa-ANALYSIS-full-v01.txt' for reading: No such file or directory\n"
          ]
        }
      ]
    },
    {
      "cell_type": "markdown",
      "source": [
        "### function for lemmatization"
      ],
      "metadata": {
        "id": "_w7MrFvNQqxq"
      }
    },
    {
      "cell_type": "code",
      "source": [
        "def parseFile(iFileName, oFileName, nlp_model = nlp_hy):\n",
        "    with open(iFileName, 'r', encoding='utf-8') as infile, open(oFileName, 'w') as outfile:\n",
        "        # read sample.txt an and write its content into sample2.txt\n",
        "        outfile.write(\"{token.text}\\t{token.pos_}\\t{token.lemma_}\\n\")\n",
        "        c = 0\n",
        "        for line in infile:\n",
        "            c+=1\n",
        "            if c%10 == 0: print(str(c))\n",
        "            line = line.strip()\n",
        "            doc = nlp_model(line)\n",
        "            # outfile.write(line + '\\n')\n",
        "            for token in doc:\n",
        "                LAncestors = list(token.ancestors)\n",
        "                # print(str(LAncestors))\n",
        "                try:\n",
        "                    SLAncestors = str(list(token.ancestors))\n",
        "                    parent = LAncestors[0]\n",
        "                    parentLem = parent.lemma_\n",
        "                except:\n",
        "                    parentLem = \"NONE\"\n",
        "                outfile.write(f\"{token.text}\\t{token.pos_}\\t{token.lemma_}\\n\")\n",
        "        outfile.flush()\n",
        "    return\n"
      ],
      "metadata": {
        "id": "QT0tpHwjY4O5"
      },
      "execution_count": 10,
      "outputs": []
    },
    {
      "cell_type": "markdown",
      "source": [
        "### command to lemmatize the file"
      ],
      "metadata": {
        "id": "FJoxNaZ7vfVe"
      }
    },
    {
      "cell_type": "code",
      "source": [
        "# 1000 lines, runs in 2 minutes...\n",
        "parseFile('/content/TED2020-dehy-hy-aa', '/content/TED2020-dehy-hy-aa--lemmatization-v01.txt', nlp_hy)"
      ],
      "metadata": {
        "id": "rgdb1fl3a6F4"
      },
      "execution_count": null,
      "outputs": []
    },
    {
      "cell_type": "code",
      "source": [
        "# takes a lot of time, do not run it, just use as a template, split the file first and run several processes...\n",
        "parseFile('hywiki-20221101-pages-articles.txt', 'hywiki-20221101-pages-articles.vert', nlp_hy)"
      ],
      "metadata": {
        "id": "lrSvU_NbsZ9z"
      },
      "execution_count": null,
      "outputs": []
    },
    {
      "cell_type": "markdown",
      "source": [
        "## Checking OCR errors\n",
        "### wikipedia lemmatized --> frequency dictionary "
      ],
      "metadata": {
        "id": "Disi8bxMhOD1"
      }
    },
    {
      "cell_type": "code",
      "source": [
        "!wget https://heibox.uni-heidelberg.de/f/5b3213f991f84ca496ba/?dl=1\n",
        "!mv index.html?dl=1 hywiki-20221101-pages-articles-v03.vert"
      ],
      "metadata": {
        "id": "lhs5GwRihMxr"
      },
      "execution_count": null,
      "outputs": []
    },
    {
      "cell_type": "code",
      "source": [
        "!wc hywiki-20221101-pages-articles-v03.vert"
      ],
      "metadata": {
        "id": "xJlX-J5ij72h",
        "colab": {
          "base_uri": "https://localhost:8080/"
        },
        "outputId": "4041be25-eebf-4da5-fb67-c02d8ff1c3cb"
      },
      "execution_count": 12,
      "outputs": [
        {
          "output_type": "stream",
          "name": "stdout",
          "text": [
            " 2735467  8206467 75483279 hywiki-20221101-pages-articles-v03.vert\n"
          ]
        }
      ]
    },
    {
      "cell_type": "code",
      "source": [
        "!wget https://heibox.uni-heidelberg.de/f/350790e66ca24efdab1a/?dl=1\n",
        "!mv index.html?dl=1 hy-texts-vert.tgz \n",
        "!tar xvzf hy-texts-vert.tgz"
      ],
      "metadata": {
        "id": "dtxtpTo_mTSw"
      },
      "execution_count": null,
      "outputs": []
    },
    {
      "cell_type": "code",
      "source": [
        "!wget https://heibox.uni-heidelberg.de/f/d601ceb0af5a4671a8e7/?dl=1\n",
        "!mv index.html?dl=1 Parfum_Arm_ABBY.txt"
      ],
      "metadata": {
        "id": "2LPlwmpYsSt-"
      },
      "execution_count": null,
      "outputs": []
    },
    {
      "cell_type": "code",
      "source": [
        "!wc Parfum_Arm_ABBY.txt"
      ],
      "metadata": {
        "id": "i4AFw5r9zD4-"
      },
      "execution_count": null,
      "outputs": []
    },
    {
      "cell_type": "code",
      "source": [
        "parseFile('Parfum_Arm_ABBY.txt', 'Parfum_Arm_ABBY.vert.txt', nlp_hy)"
      ],
      "metadata": {
        "id": "ZnrYlLB_uRsH"
      },
      "execution_count": null,
      "outputs": []
    },
    {
      "cell_type": "code",
      "source": [
        "!wc Parfum_Arm_ABBY.vert.txt"
      ],
      "metadata": {
        "id": "kyjvWWMuy-e3",
        "colab": {
          "base_uri": "https://localhost:8080/"
        },
        "outputId": "031bce48-8303-443b-fa3d-edd6289b15b7"
      },
      "execution_count": null,
      "outputs": [
        {
          "output_type": "stream",
          "name": "stdout",
          "text": [
            "  83890  251594 2098541 Parfum_Arm_ABBY.vert.txt\n"
          ]
        }
      ]
    },
    {
      "cell_type": "code",
      "source": [
        "!wget https://heibox.uni-heidelberg.de/f/743a1a57a37c42d8b585/?dl=1\n",
        "!mv index.html?dl=1 Parfum_Armenian_uncorrected.txt\n"
      ],
      "metadata": {
        "id": "D-Qu1FP8mbO6"
      },
      "execution_count": null,
      "outputs": []
    },
    {
      "cell_type": "code",
      "source": [
        "!wc Parfum_Armenian_uncorrected.txt"
      ],
      "metadata": {
        "colab": {
          "base_uri": "https://localhost:8080/"
        },
        "id": "8xUHdJzezYry",
        "outputId": "4ea1bf44-3fca-4465-90ef-608a0c8e6c83"
      },
      "execution_count": 16,
      "outputs": [
        {
          "output_type": "stream",
          "name": "stdout",
          "text": [
            " 13592  72207 854251 Parfum_Armenian_uncorrected.txt\n"
          ]
        }
      ]
    },
    {
      "cell_type": "code",
      "source": [
        "# dealing with Armenian OCR output with line breaks (is it correct?)\n",
        "\n",
        "FName = 'Parfum_Armenian_uncorrected.txt'\n",
        "FNameOut = 'Parfum_Armenian.txt'\n",
        "\n",
        "FIn = open(FName, 'r')\n",
        "FOut = open(FNameOut, 'w')\n",
        "\n",
        "for SLine in FIn:\n",
        "    SLine = SLine.strip()\n",
        "    if SLine == '': \n",
        "        FOut.write('\\n\\n')\n",
        "        continue\n",
        "    if SLine[-1] == '-':\n",
        "        SLine2write = SLine[:-1]\n",
        "        FOut.write(SLine2write)\n",
        "        continue\n",
        "\n",
        "    FOut.write(SLine + ' ')\n",
        "FOut.flush()\n",
        "\n"
      ],
      "metadata": {
        "id": "tstyqM_cph11"
      },
      "execution_count": 17,
      "outputs": []
    },
    {
      "cell_type": "code",
      "source": [
        "!wc Parfum_Armenian.txt"
      ],
      "metadata": {
        "colab": {
          "base_uri": "https://localhost:8080/"
        },
        "id": "WRgXoAx_zOka",
        "outputId": "020c8c2a-258b-4103-c4a6-1272724d53b5"
      },
      "execution_count": 18,
      "outputs": [
        {
          "output_type": "stream",
          "name": "stdout",
          "text": [
            "  6126  69006 849250 Parfum_Armenian.txt\n"
          ]
        }
      ]
    },
    {
      "cell_type": "code",
      "source": [
        "# runs for approximately 10 minutes, 6126 lines, 83828 words\n",
        "parseFile('Parfum_Armenian.txt', 'Parfum_Armenian.vert.txt', nlp_hy)"
      ],
      "metadata": {
        "id": "Gf-OW1n_rbue"
      },
      "execution_count": null,
      "outputs": []
    },
    {
      "cell_type": "code",
      "source": [
        "!wc Parfum_Armenian.vert.txt"
      ],
      "metadata": {
        "colab": {
          "base_uri": "https://localhost:8080/"
        },
        "id": "Mpr4kEppuIj_",
        "outputId": "7ce6ca21-c24b-4c8c-ac54-fae7df47bde3"
      },
      "execution_count": 20,
      "outputs": [
        {
          "output_type": "stream",
          "name": "stdout",
          "text": [
            "  83828  251460 2055080 Parfum_Armenian.vert.txt\n"
          ]
        }
      ]
    },
    {
      "cell_type": "markdown",
      "source": [
        "## Downloading full Armenian corpus"
      ],
      "metadata": {
        "id": "xaX5H9ej21t2"
      }
    },
    {
      "cell_type": "code",
      "source": [
        "!wget https://heibox.uni-heidelberg.de/f/c977e87cf2b244e6801b/?dl=1\n",
        "!mv index.html?dl=1 KorpusARM.tgz"
      ],
      "metadata": {
        "id": "OsQXUICO26Yb"
      },
      "execution_count": null,
      "outputs": []
    },
    {
      "cell_type": "code",
      "source": [
        "!tar xvzf KorpusARM.tgz"
      ],
      "metadata": {
        "id": "ddJf6m-p3DEc"
      },
      "execution_count": null,
      "outputs": []
    },
    {
      "cell_type": "code",
      "source": [
        "!mkdir KorpusARM1"
      ],
      "metadata": {
        "id": "mdc3wgvv3kDr"
      },
      "execution_count": 23,
      "outputs": []
    },
    {
      "cell_type": "code",
      "source": [
        "mkdir KorpusARM1/stage01"
      ],
      "metadata": {
        "id": "fkZ8hFCA4H-o"
      },
      "execution_count": 24,
      "outputs": []
    },
    {
      "cell_type": "code",
      "source": [
        "# concatenating files\n",
        "!cat korpusARM/hyFiktion/* >KorpusARM1/stage01/hyFiktion.txt\n",
        "!cat korpusARM/hyNatur/* >KorpusARM1/stage01/hyNatur.txt\n",
        "!cat korpusARM/hyRecht/* >KorpusARM1/stage01/hyRecht.txt"
      ],
      "metadata": {
        "id": "ERWhoFyb3PE2"
      },
      "execution_count": 25,
      "outputs": []
    },
    {
      "cell_type": "code",
      "source": [
        "!mkdir KorpusARM1/stage02"
      ],
      "metadata": {
        "id": "rNGX_hTh46NC"
      },
      "execution_count": 26,
      "outputs": []
    },
    {
      "cell_type": "code",
      "source": [
        "# function for Armenian line breaks:\n",
        "\n",
        "def correctLineBreaksHY(FName, FNameOut):\n",
        "    FIn = open(FName, 'r')\n",
        "    FOut = open(FNameOut, 'w')\n",
        "    countHyphens = 0\n",
        "    for SLine in FIn:\n",
        "        SLine = SLine.strip()\n",
        "        if SLine == '': \n",
        "            FOut.write('\\n\\n')\n",
        "            continue\n",
        "        if SLine[-1] == '-':\n",
        "            SLine2write = SLine[:-1]\n",
        "            FOut.write(SLine2write)\n",
        "            countHyphens +=1\n",
        "            continue\n",
        "        FOut.write(SLine + ' ')\n",
        "    FOut.flush()\n",
        "    print(str(countHyphens) + ' hyphens corrected')\n",
        "    return\n",
        "\n"
      ],
      "metadata": {
        "id": "ga2FEpuM5LGf"
      },
      "execution_count": 27,
      "outputs": []
    },
    {
      "cell_type": "code",
      "source": [
        "correctLineBreaksHY('KorpusARM1/stage01/hyFiktion.txt', 'KorpusARM1/stage02/hyFiktion.txt')\n",
        "correctLineBreaksHY('KorpusARM1/stage01/hyNatur.txt', 'KorpusARM1/stage02/hyNatur.txt')\n",
        "correctLineBreaksHY('KorpusARM1/stage01/hyRecht.txt', 'KorpusARM1/stage02/hyRecht.txt')"
      ],
      "metadata": {
        "id": "tDpxejA75wvp"
      },
      "execution_count": null,
      "outputs": []
    },
    {
      "cell_type": "code",
      "source": [
        "!wc KorpusARM1/stage02/hyFiktion.txt\n",
        "!wc KorpusARM1/stage02/hyNatur.txt\n",
        "!wc KorpusARM1/stage02/hyRecht.txt"
      ],
      "metadata": {
        "id": "qAUyLQOp8BUg"
      },
      "execution_count": null,
      "outputs": []
    },
    {
      "cell_type": "code",
      "source": [
        "!mkdir KorpusARM1/stage03"
      ],
      "metadata": {
        "id": "BbS0SBh983GD"
      },
      "execution_count": 30,
      "outputs": []
    },
    {
      "cell_type": "code",
      "source": [
        "# runs for about 47 minutes; alternatively, excecute one of the following cells to download parsed archived corpus\n",
        "parseFile('KorpusARM1/stage02/hyFiktion.txt', 'KorpusARM1/stage03/hyFiktion.vert.txt', nlp_hy)\n",
        "parseFile('KorpusARM1/stage02/hyNatur.txt', 'KorpusARM1/stage03/hyNatur.vert.txt', nlp_hy)\n",
        "parseFile('KorpusARM1/stage02/hyRecht.txt', 'KorpusARM1/stage03/hyRecht.vert.txt', nlp_hy)"
      ],
      "metadata": {
        "id": "n-FibDWT8NuR"
      },
      "execution_count": null,
      "outputs": []
    },
    {
      "cell_type": "code",
      "source": [
        "!tar cvzf KorpusARM1_stage03.tgz KorpusARM1/stage03/"
      ],
      "metadata": {
        "colab": {
          "base_uri": "https://localhost:8080/"
        },
        "id": "iODGwbWoJ-qC",
        "outputId": "70b0568b-6a10-4fd6-957b-8eca122d1b6e"
      },
      "execution_count": 34,
      "outputs": [
        {
          "output_type": "stream",
          "name": "stdout",
          "text": [
            "KorpusARM1/stage03/\n",
            "KorpusARM1/stage03/hyNatur.vert.txt\n",
            "KorpusARM1/stage03/hyRecht.vert.txt\n",
            "KorpusARM1/stage03/hyFiktion.vert.txt\n"
          ]
        }
      ]
    },
    {
      "cell_type": "code",
      "source": [
        "# alternative: download Lemmatized corpus\n",
        "!wget https://heibox.uni-heidelberg.de/f/095d2385bad74f2b8ffd/?dl=1\n",
        "!mv index.html?dl=1 KorpusARM1_stage03.tgz\n",
        "!tar xvzf KorpusARM1_stage03.tgz"
      ],
      "metadata": {
        "id": "JtE2W_f8Kz-l"
      },
      "execution_count": null,
      "outputs": []
    },
    {
      "cell_type": "code",
      "source": [
        "!wc /content/KorpusARM1/stage03/hyFiktion.vert.txt\n",
        "!wc /content/KorpusARM1/stage03/hyNatur.vert.txt\n",
        "!wc /content/KorpusARM1/stage03/hyRecht.vert.txt\n",
        "\n"
      ],
      "metadata": {
        "colab": {
          "base_uri": "https://localhost:8080/"
        },
        "id": "Fv7S99QGGg10",
        "outputId": "7a608bc5-8fde-4467-d0dd-9e0233fdabb3"
      },
      "execution_count": 37,
      "outputs": [
        {
          "output_type": "stream",
          "name": "stdout",
          "text": [
            " 115616  346846 2690663 /content/KorpusARM1/stage03/hyFiktion.vert.txt\n",
            "  83271  249801 2110874 /content/KorpusARM1/stage03/hyNatur.vert.txt\n",
            " 102399  307197 2970463 /content/KorpusARM1/stage03/hyRecht.vert.txt\n"
          ]
        }
      ]
    },
    {
      "cell_type": "code",
      "source": [
        "!cat /content/KorpusARM1/stage03/* >/content/KorpusARM1/stage03all.vert.txt"
      ],
      "metadata": {
        "id": "4cVxtrERLep6"
      },
      "execution_count": 38,
      "outputs": []
    },
    {
      "cell_type": "code",
      "source": [
        "!wc /content/KorpusARM1/stage03all.vert.txt"
      ],
      "metadata": {
        "colab": {
          "base_uri": "https://localhost:8080/"
        },
        "id": "wCrZyRohLnIC",
        "outputId": "79e5ae31-7299-45b5-bb59-13e92e648367"
      },
      "execution_count": 39,
      "outputs": [
        {
          "output_type": "stream",
          "name": "stdout",
          "text": [
            " 301286  903844 7772000 /content/KorpusARM1/stage03all.vert.txt\n"
          ]
        }
      ]
    },
    {
      "cell_type": "markdown",
      "source": [
        "## Creating dictionaries from parsed files"
      ],
      "metadata": {
        "id": "91nnXhNB2uIi"
      }
    },
    {
      "cell_type": "code",
      "source": [
        "DWiki = {}\n",
        "with open(\"hywiki-20221101-pages-articles-v03.vert\", 'r') as f:\n",
        "    for line in f:\n",
        "        line = line.rstrip()\n",
        "        try:\n",
        "            DWiki[line] +=1\n",
        "        except:\n",
        "            DWiki[line] = 1\n"
      ],
      "metadata": {
        "id": "5TJS8qstj_5I"
      },
      "execution_count": null,
      "outputs": []
    },
    {
      "cell_type": "code",
      "source": [
        "DText = {}\n",
        "with open(\"Parfum_Armenian.vert.txt\", 'r') as f:\n",
        "    for line in f:\n",
        "        line = line.rstrip()\n",
        "        try:\n",
        "            DText[line] +=1\n",
        "        except:\n",
        "            DText[line] = 1\n"
      ],
      "metadata": {
        "id": "exBjjf9rkMxJ"
      },
      "execution_count": null,
      "outputs": []
    },
    {
      "cell_type": "markdown",
      "source": [
        "## Functions for comaring texts with Wiki corpus"
      ],
      "metadata": {
        "id": "fmnrESykItMy"
      }
    },
    {
      "cell_type": "code",
      "source": [
        "def lines2dict(SFIn):\n",
        "    DText = {}\n",
        "    with open(SFIn, 'r') as f:\n",
        "        for line in f:\n",
        "            line = line.rstrip()\n",
        "            try:\n",
        "                DText[line] +=1\n",
        "            except:\n",
        "                DText[line] = 1\n",
        "    print(len(DText))\n",
        "    return DText"
      ],
      "metadata": {
        "id": "tPHwN_60G2Y-"
      },
      "execution_count": 40,
      "outputs": []
    },
    {
      "cell_type": "code",
      "source": [
        "def compareDicts(DText, DWiki, lenText, lenWiki):\n",
        "    DFreqDiff = {} # dictionary of frequency differences\n",
        "    # lenWiki = 2735468\n",
        "    # lenText = 83829\n",
        "    c = 0\n",
        "    for key, val in sorted(DText.items(), key=lambda item: item[1], reverse=True):\n",
        "        c+=1\n",
        "        valText = val + 1\n",
        "        relText = valText / lenText\n",
        "        try:\n",
        "            valWiki = DWiki[key] + 1\n",
        "        except:\n",
        "            valWiki = 1\n",
        "        relWiki = valWiki / lenWiki\n",
        "\n",
        "        diffValue = relText / relWiki\n",
        "        DFreqDiff[key] = diffValue\n",
        "    \n",
        "    print(len(DFreqDiff))\n",
        "    return DFreqDiff"
      ],
      "metadata": {
        "id": "pw5PHpHJIFTx"
      },
      "execution_count": 41,
      "outputs": []
    },
    {
      "cell_type": "code",
      "source": [
        "def printCompareDict(DFreqDiff, DText, DWiki, SFOut):\n",
        "    fOut = open(SFOut, 'w')\n",
        "    countEntries = 0\n",
        "    for key, val in sorted(DFreqDiff.items(), key=lambda item: item[1], reverse=True):\n",
        "        countEntries += 1\n",
        "        try:\n",
        "            frqText = DText[key] + 1\n",
        "        except:\n",
        "            frqText = 1\n",
        "\n",
        "        try:\n",
        "            frqWiki = DWiki[key] + 1\n",
        "        except:\n",
        "            frqWiki = 1\n",
        "        fOut.write(f'{key}\\t{val}\\t{frqText}\\t{frqWiki}\\n')\n",
        "    fOut.flush()\n",
        "    print(countEntries)\n",
        "    return\n"
      ],
      "metadata": {
        "id": "dbuUkpU8He04"
      },
      "execution_count": 42,
      "outputs": []
    },
    {
      "cell_type": "code",
      "source": [
        "DWikiX = lines2dict('/content/hywiki-20221101-pages-articles-v03.vert')"
      ],
      "metadata": {
        "colab": {
          "base_uri": "https://localhost:8080/"
        },
        "id": "yuf3Q498JEpd",
        "outputId": "31af3613-cf3e-4d0d-aab1-861af6a4dbb5"
      },
      "execution_count": 43,
      "outputs": [
        {
          "output_type": "stream",
          "name": "stdout",
          "text": [
            "227720\n"
          ]
        }
      ]
    },
    {
      "cell_type": "code",
      "source": [
        "DhyFiktion = lines2dict('/content/KorpusARM1/stage03/hyFiktion.vert.txt')\n",
        "DhyNatur = lines2dict('/content/KorpusARM1/stage03/hyNatur.vert.txt')\n",
        "DhyRecht = lines2dict('/content/KorpusARM1/stage03/hyRecht.vert.txt')\n",
        "DhyAll = lines2dict('/content/KorpusARM1/stage03all.vert.txt')"
      ],
      "metadata": {
        "colab": {
          "base_uri": "https://localhost:8080/"
        },
        "id": "Tx54vc-YJiNV",
        "outputId": "be406c1c-6513-47a4-9687-33f1965cb7eb"
      },
      "execution_count": 44,
      "outputs": [
        {
          "output_type": "stream",
          "name": "stdout",
          "text": [
            "20969\n",
            "21806\n",
            "11064\n",
            "43675\n"
          ]
        }
      ]
    },
    {
      "cell_type": "code",
      "source": [
        "DFreqDiffWikiFiktion = compareDicts(DhyFiktion, DWikiX, 115616, 2735468)\n",
        "DFreqDiffWikiNatur = compareDicts(DhyNatur, DWikiX, 83271, 2735468)\n",
        "DFreqDiffWikiRecht = compareDicts(DhyRecht, DWikiX, 102399, 2735468)\n",
        "DFreqDiffWikiAll = compareDicts(DhyAll, DWikiX, 301286, 2735468)"
      ],
      "metadata": {
        "colab": {
          "base_uri": "https://localhost:8080/"
        },
        "id": "n-qp5OppL7pi",
        "outputId": "46c5421e-a097-4e97-be0c-31d032f7e19f"
      },
      "execution_count": 45,
      "outputs": [
        {
          "output_type": "stream",
          "name": "stdout",
          "text": [
            "20969\n",
            "21806\n",
            "11064\n",
            "43675\n"
          ]
        }
      ]
    },
    {
      "cell_type": "code",
      "source": [
        "!mkdir KorpusARM1/stage04"
      ],
      "metadata": {
        "id": "-ArMjxLHNHwd"
      },
      "execution_count": 46,
      "outputs": []
    },
    {
      "cell_type": "code",
      "source": [
        "printCompareDict(DFreqDiffWikiFiktion, DhyFiktion, DWikiX, '/content/KorpusARM1/stage04/hyFiktion.tsv.txt')\n",
        "printCompareDict(DFreqDiffWikiNatur, DhyNatur, DWikiX, '/content/KorpusARM1/stage04/hyNatur.tsv.txt')\n",
        "printCompareDict(DFreqDiffWikiRecht, DhyRecht, DWikiX, '/content/KorpusARM1/stage04/hyRecht.tsv.txt')\n",
        "printCompareDict(DFreqDiffWikiAll, DhyAll, DWikiX, '/content/KorpusARM1/stage04all.tsv.txt')"
      ],
      "metadata": {
        "id": "cgx1MPviM8Jw"
      },
      "execution_count": null,
      "outputs": []
    },
    {
      "cell_type": "code",
      "source": [
        "# Dowloading the file with corrections\n",
        "!wget https://heibox.uni-heidelberg.de/f/14706c04a4024b2f937d/?dl=1\n",
        "!mv index.html?dl=1 Pilot-Corrections-all.tsv\n",
        "!wc Pilot-Corrections-all.tsv\n"
      ],
      "metadata": {
        "id": "usd9A_y_RSk_"
      },
      "execution_count": null,
      "outputs": []
    },
    {
      "cell_type": "code",
      "source": [
        "def readCorrections(colNumberOri, colNumberCorrect, SFIn, SFOut = None):\n",
        "    LTWrongCorrect = []\n",
        "    DWrongCorrect = {}\n",
        "    FOut = open(SFOut, 'w')\n",
        "    with open(SFIn, 'r') as FIn:\n",
        "        count = 0\n",
        "        for SLine in FIn:\n",
        "            count += 1\n",
        "            if count == 1: continue\n",
        "            SLine = SLine.strip()\n",
        "            LLine = SLine.split('\\t')\n",
        "            SWrong = LLine[colNumberOri]\n",
        "            SCorrect = LLine[colNumberCorrect]\n",
        "            if SWrong != '' and SCorrect != '' and SWrong != SCorrect:\n",
        "                TWrongCorrect = (f'[{SWrong}]', f'[{SCorrect}]')\n",
        "                LTWrongCorrect.append(TWrongCorrect)\n",
        "                if SWrong in DWrongCorrect.keys():\n",
        "                    SCorrect1 = DWrongCorrect[SWrong]\n",
        "                    if SCorrect1 != SCorrect:\n",
        "                        print(SWrong + '\\t' + SCorrect1 + '\\t' + SCorrect)\n",
        "                DWrongCorrect[SWrong] = SCorrect\n",
        "    if SFOut:\n",
        "        for SWrong, SCorrect in LTWrongCorrect:\n",
        "            FOut.write(f'{SWrong}\\t{SCorrect}\\n')    \n",
        "        FOut.flush()\n",
        "    print(len(DWrongCorrect))\n",
        "\n",
        "    return LTWrongCorrect, DWrongCorrect"
      ],
      "metadata": {
        "id": "VlBmzm25qlbC"
      },
      "execution_count": 50,
      "outputs": []
    },
    {
      "cell_type": "code",
      "source": [
        "def readCorrectionsFrq(colNumberOri, colNumberCorrect, colNumberFrq, SFIn, SFOut = None):\n",
        "    LTWrongCorrect = []\n",
        "    DWrongCorrect = {}\n",
        "    FOut = open(SFOut, 'w')\n",
        "    with open(SFIn, 'r') as FIn:\n",
        "        count = 0\n",
        "        for SLine in FIn:\n",
        "            count += 1\n",
        "            if count == 1: continue\n",
        "            SLine = SLine.strip()\n",
        "            LLine = SLine.split('\\t')\n",
        "            SWrong = LLine[colNumberOri]\n",
        "            SCorrect = LLine[colNumberCorrect]\n",
        "            SFrq = LLine[colNumberFrq]\n",
        "            if SWrong != '' and SCorrect != '' and SWrong != SCorrect:\n",
        "                TWrongCorrect = (f'[{SWrong}]', f'[{SCorrect}]', f'{SFrq}')\n",
        "                LTWrongCorrect.append(TWrongCorrect)\n",
        "                if SWrong in DWrongCorrect.keys():\n",
        "                    SCorrect1 = DWrongCorrect[SWrong]\n",
        "                    if SCorrect1 != SCorrect:\n",
        "                        print(SWrong + '\\t' + SCorrect1 + '\\t' + SCorrect)\n",
        "                DWrongCorrect[SWrong] = SCorrect\n",
        "    if SFOut:\n",
        "        for SWrong, SCorrect, SFrq in LTWrongCorrect:\n",
        "            FOut.write(f'{SWrong}\\t{SCorrect}\\t{SFrq}\\n')    \n",
        "        FOut.flush()\n",
        "    print(len(DWrongCorrect))\n",
        "\n",
        "    return LTWrongCorrect, DWrongCorrect"
      ],
      "metadata": {
        "id": "rTU8YEX4Nkcd"
      },
      "execution_count": 56,
      "outputs": []
    },
    {
      "cell_type": "code",
      "source": [
        "LTWrongCorrectWord, DWrongCorrectWord = readCorrections(1, 4, '/content/Pilot-Corrections-all.tsv', SFOut = 'Pilot-Corrections-all-WordForm.tsv')\n",
        "LTWrongCorrectLemma, DWrongCorrectLemma = readCorrections(3, 6, '/content/Pilot-Corrections-all.tsv', SFOut = 'Pilot-Corrections-all-Lemma.tsv')\n"
      ],
      "metadata": {
        "id": "780DBoamRmlg"
      },
      "execution_count": null,
      "outputs": []
    },
    {
      "cell_type": "code",
      "source": [
        "print(LTWrongCorrectWord)\n",
        "print(LTWrongCorrectLemma)"
      ],
      "metadata": {
        "colab": {
          "base_uri": "https://localhost:8080/"
        },
        "id": "AjWbaA_2Sq0R",
        "outputId": "04f11065-0b7f-4b26-ed35-766e22218dd6"
      },
      "execution_count": 58,
      "outputs": [
        {
          "output_type": "stream",
          "name": "stdout",
          "text": [
            "[('[մերճակա]', '[մերձակա]'), ('[առջն]', '[առջև]'), ('[թեթնություն]', '[թեթևություն]'), ('[Եթենա]', '[եթե նա]'), ('[ննա]', '[նա]'), ('[ճեռքերն]', '[ձեռքից]'), ('[ճայն]', '[ձայն]'), ('[ճեռքով]', '[ձեռքով]'), ('[այլնս]', '[այլևս]'), ('[ետնի]', '[ետևի]'), ('[կեղնները]', '[կեղևները]'), ('[ճկան]', '[ձկան]'), ('[ննա]', '[նա]'), ('[բանաձնի]', '[բանաձևի]'), ('[ճեր]', '[ձեր]'), ('[առնտրական]', '[առևտրական]'), ('[արնելյան]', '[արևելյան]'), ('[կուղնորվի]', '[կուղևորվի]'), ('[նս]', '[ևս]'), ('[հետնեց]', '[հետևել]'), ('[նուխիսկ]', '[նույնիսկ]'), ('[երնույթ]', '[երևույթ]'), ('[քրտնքով]', '[քրտինքով]'), ('[արվարճանում]', '[արվարձանում]'), ('[անճամբ]', '[անձամբ]'), ('[ճայնը]', '[ձայնը]'), ('[ճգվում]', '[ձգվում]'), ('[ճիու]', '[ձիու]'), ('[դարճնում]', '[դարձնում]'), ('[ուղնորվում]', '[ուղևորվում ]'), ('[իջնանատան]', '[իջևանատան]'), ('[ճգտում]', '[ձգտում]'), ('[դրսնորում]', '[դրսևորում]'), ('[արվարճանի]', '[արվարձանի]'), ('[ետնում]', '[ետևում]'), ('[ճնավորված]', '[ձևավորված]'), ('[Հետնաբար]', '[հետևաբար]'), ('[այլնս]', '[այլևս]'), ('[Շավանաբար]', '[հավանաբար]'), ('[սկզբիցնեթ]', '[սկզբիցևեթ]'), ('[միջն]', '[միջև]'), ('[համաճայնության]', '[համաձայնություն]'), ('[Թերնս]', '[թերևս]'), ('[տերնի]', '[տերև]'), ('[թնատակերի]', '[թևատակ]'), ('[դոււս]', '[դուրս]'), ('[բարճրացավ]', '[բարձրանալ]'), ('[երկարատն]', '[երկարատև]'), ('[նախնառաջ]', '[նախևառաջ]'), ('[ներքնից]', '[ներքև]'), ('[առջնից]', '[առջև]'), ('[ճեռնոցագործական]', '[ձեռնոցագործական]'), ('[հարնան]', '[գարնան]'), ('[ճգտումը]', '[ձգտումը]'), ('[առջնում]', '[առջևում]'), ('[ճմռանը]', '[ձմռանը]'), ('[սնահեր]', '[սևահեր]'), ('[ծանրութեթն]', '[ծանրութեթև]'), ('[ճագի]', '[ձագի]'), ('[Այլնս]', '[այլևս]'), ('[ինճ]', '[ինձ]'), ('[ճեռքն]', '[ձեռքն]'), ('[արճագանք]', '[արձագանք]'), ('[ճմեռ]', '[ձմեռ]'), ('[պառկածէրգերեզմանատանվրա]', '[պառկած էր գերեզմանատան վրա]'), ('[ճմերուկների]', '[ձմերուկների]'), ('[ունողկալի]', '[ու նողկալի]'), ('[գլխապտույտնե]', '[գլխապտույտներ]'), ('[ճայնի]', '[ձայնի]'), ('[ճկների]', '[ձկների]'), ('[այլնայլ]', '[այլևայլ]'), ('[ճնականություններից]', '[ձևականություններից]'), ('[չուննորներին]', '[չունևորներին]'), ('[արճակվող]', '[արձակվել]'), ('[խամարդ]', '[տղամարդ]'), ('[Միգուցենա]', '[միգուցե նա]'), ('[ջղաճգութու]', '[Ջղաձգություն]'), ('[Դետեսնում]', '[դե տեսնում ]'), ('[բարճրաց]', '[բարձրացնել]'), ('[ինճ]', '[ինձ]'), ('[Որովհետն]', '[որովհետև]'), ('[ննույնիսկ]', '[նույնիսկ]'), ('[հուսահատեգնում]', '[հեւսահատեցնել]'), ('[որնրան]', '[որ նրան]'), ('[Ջգազմունքներից]', '[Զգացմունք]'), ('[մնահավատությոն]', '[սնահավատություն]'), ('[հեթանոսա]', '[հեթանոսացում]'), ('[խարույկՄ]', '[խարույկ]'), ('[տուցում]', '[մատուցում]'), ('[նականռթյան]', '[բանականություն]'), ('[անձր]', '[անձ, անձրև]'), ('[տարօրի]', '[տարօրինակ]'), ('[թնիկները]', '[թևիկ]'), ('[աստվածավախու]', '[աստվածավախություն]'), ('[բարճր]', '[բարձր]'), ('[լավէ]', '[լավ է]'), ('[Թռենել]', '[թռնել]'), ('[հանճնեց]', '[հանձնել]'), ('[Դհյոյում]', '[Դյո]'), ('[տակիզ]', '[տակից]'), ('[առջն]', '[առջև]'), ('[ետնից]', '[ետևից]'), ('[միջն]', '[միջև]'), ('[այնուհետն]', '[այնուհետև]'), ('[բացարճակապես]', '[բացարձակապես]'), ('[որնէ]', '[որևէ]'), ('[այլնս]', '[այլևս]'), ('[թեթն]', '[թեթև]'), ('[թեթնակի]', '[թեթևակի]'), ('[որնէ]', '[որևէ]'), ('[ետնում]', '[ետևում]'), ('[արնի]', '[արևի]'), ('[միննույն]', '[միևնույն]'), ('[վերնում]', '[վերևում]'), ('[ինճ]', '[ինչ]'), ('[արճակում]', '[արձակում]'), ('[թերնս]', '[թերևս]'), ('[երբնիցե]', '[երբևիցե]'), ('[ճեռքը]', '[ձեռքը]'), ('[երնակայության]', '[երևակայության]'), ('[արնմուտք]', '[արևմուտք]'), ('[ճեռք]', '[ձեռք]'), ('[ճեռքի]', '[ձեռքի]'), ('[ճայնով]', '[ձայնով]'), ('[նան]', '[նաև]'), ('[դեռնս]', '[դեռևս]'), ('[ճեռքերը]', '[ձեռքերը]'), ('[հետնում]', '[հետևում]'), ('[արճակող]', '[արձակող]'), ('[որնիցե]', '[որևիցե]'), ('[դեռնս]', '[դեռևս]'), ('[այլնս]', '[այլևս]'), ('[ճեռքին]', '[ձեռքին]'), ('[արնմտյան]', '[արևմտյան]'), ('[այլես]', '[այլևս]'), ('[Նախնառաջ]', '[նախևառաջ]'), ('[հոգնոր]', '[հոգևոր]'), ('[ճեռքերով]', '[ձեռքերով]'), ('[ներքնում]', '[ներքևում]'), ('[համարճակվում]', '[համարձակվում]'), ('[արնելք]', '[արևելք]'), ('[առանճին]', '[առանձին]'), ('[արնմուտքից]', '[արևմուտքից]'), ('[երնակայական]', '[երևակայական]'), ('[թնածում]', '[թևածում]'), ('[բանաճնի]', '[բանաձևի]'), ('[դարճավ]', '[դարձավ]'), ('[բանաճնը]', '[բանաձևը]'), ('[թեթնացած]', '[թեթևացած]'), ('[հետնելով]', '[հետևելով]'), ('[հետնել]', '[հետևել]'), ('[կարնոր]', '[կարևոր]'), ('[ճիու]', '[ձիու]'), ('[հեղճուցիչ]', '[հեղձուցիչ]'), ('[անճնական]', '[անձնական]'), ('[առջնից]', '[առջևից]'), ('[երնում]', '[երևում]'), ('[ինճ]', '[ինձ]'), ('[փորճ]', '[փորձ]'), ('[բանաձնը]', '[բանաձևը]'), ('[եթենա]', '[եթե]'), ('[ինճ]', '[ինձ]'), ('[փորճն]', '[փորձն]'), ('[բանաձն]', '[բանաձևն]'), ('[բանաճն]', '[բանաձևն]'), ('[բարճրացնել]', '[բարձրացնել]'), ('[Այլնս]', '[այլևս]'), ('[սնահեր]', '[սևահեր]'), ('[բացարճակ]', '[բացարձակ]'), ('[ճգտելով]', '[ձգտելով]'), ('[բանաճներ]', '[բանաձևեր]'), ('[թեն]', '[թեև]'), ('[տերնները]', '[տերևերը]'), ('[բարճունքներում]', '[բարձունքներում]'), ('[առնտուրը]', '[առևտուրը]'), ('[անճամբ]', '[անձամբ]'), ('[օթնան]', '[օթևան]'), ('[բանաճներով]', '[բանաձներով]'), ('[արճակել]', '[արձակել]'), ('[բնեռը]', '[բևեռը]'), ('[օճեր]', '[օձեր]'), ('[ոջ]', '[ոչ]'), ('[անձրնը]', '[անձրևը]'), ('[թեթն]', '[թեթև]'), ('[ճգում]', '[ձգում]'), ('[տաքագնում]', '[տաքացնում]'), ('[Հնայած]', '[Չնայած]'), ('[ճեռքերի]', '[Ձեռքերի]'), ('[այխքան]', '[այդքան]'), ('[ճնացրեց]', '[ձևացրեց]'), ('[երնակայությունների]', '[երևակայությունների]'), ('[առջն]', '[առջև]'), ('[բարճր]', '[բարձր]')]\n",
            "[('[գաղտագող]', '[գաղտագողի]'), ('[լաուրա]', '[Լաուրա]'), ('[տաններոն]', '[Տաններոն]'), ('[մերճակա]', '[մերձակա]'), ('[ռանալել]', '[կռանալ]'), ('[Տերն]', '[Տեր]'), ('[ճեռք]', '[ձեռք]'), ('[կարագից]', '[կարագ]'), ('[ճայն]', '[ձայն]'), ('[ճեռք]', '[ձեռք]'), ('[այլնս]', '[այլևս]'), ('[ետուն]', '[ետև]'), ('[կեղն]', '[կեղև]'), ('[լուսաբացի]', '[լուսաբաց]'), ('[շուրջբոլոր]', '[շուրջբոլորը]'), ('[ճիկ]', '[ձուկ]'), ('[դիմափոշու]', '[դիմափոշի]'), ('[ննա]', '[նա]'), ('[բանաձին]', '[բանաձև]'), ('[ճեր]', '[դուք]'), ('[առնտրական]', '[առևտրական]'), ('[արնելյան]', '[արևելյան]'), ('[կուղնոր]', '[ուղևորվել]'), ('[փափկենալ]', '[փափկել]'), ('[իս]', '[ևս]'), ('[հետնել]', '[հետևել]'), ('[փնթփնթել]', '[փնթփնթալ]'), ('[մեսինա]', '[Մեսինա]'), ('[նուխիսկ]', '[նույնիսկ]'), ('[քացնել]', '[չքանալ]'), ('[երնույթ]', '[երևույթ]'), ('[քրտնք]', '[քրտինք]'), ('[արվարճան]', '[արվարձան]'), ('[անճամբ]', '[անձամբ]'), ('[ճայն]', '[ձայն]'), ('[ճգվել]', '[ձգվել]'), ('[թունելի]', '[թունել]'), ('[բատիստ]', '[Բատիստ]'), ('[ճիու]', '[ձի]'), ('[դարճնել]', '[դարձնել]'), ('[ուղնորվել]', '[ուղևորվել]'), ('[ռահել]', '[կռահել]'), ('[Ռիշին]', '[Ռիշի]'), ('[լաուրային]', '[Լաուրա]'), ('[իջնանատան]', '[իջևանատուն]'), ('[Գրասյան]', '[գրասյուն]'), ('[ճգտել]', '[ձգտել]'), ('[դրսնոր]', '[դրսևորել]'), ('[արվարճան]', '[արվարձան]'), ('[նվիրակար]', '[ամենագարշահոտ]'), ('[ետնել]', '[ետև]'), ('[ծծմոր]', '[ծծմայր]'), ('[ծծմոր]', '[ծծմայր]'), ('[ճնավորվել]', '[ձևավորվել]'), ('[հետնաբար]', '[հետևաբար]'), ('[ծծմոր]', '[ծծմայր]'), ('[կարամելի]', '[կարամել]'), ('[ակար]', '[ամենատանջալի]'), ('[ռալ]', '[չռել]'), ('[կոցել]', '[կկոցել]'), ('[ոռնել]', '[ոռնալ]'), ('[ոռնանալ]', '[ոռնացող]'), ('[որպիսիք]', '[որպիսին]'), ('[միակին]', '[միակ]'), ('[վերապրի]', '[վերապրել]'), ('[գոլորշին]', '[գոլորշի]'), ('[կարճ]', '[ամենաբարակ]'), ('[սանդալի]', '[սանդալ]'), ('[վերոն]', '[վերև]'), ('[ազդիր]', '[ազդր]'), ('[մաշկան]', '[մաշկ]'), ('[գիտել]', '[գիտենալ]'), ('[ավականանալ]', '[բավականացնել]'), ('[ծաղկեփին]', '[ծազկեփունջ]'), ('[հագել]', '[հագնել]'), ('[հարնան]', '[գարուն]'), ('[ճգտում]', '[ձգտում]'), ('[առջին]', '[առջև]'), ('[ճմիռ]', '[ձմեռ]'), ('[սնահ]', '[սևահեր]'), ('[սեփականանալ]', '[սեփականացնել]'), ('[նկուղի]', '[նկուղ]'), ('[ծանրութեթ]', '[ծանրութեթև]'), ('[արկիղ]', '[արկղ]'), ('[շրթ]', '[շրթներկ]'), ('[ճագ]', '[ձագ]'), ('[դողանալ]', '[դողալ]'), ('[պատկերանալ]', '[պատկերացնել]'), ('[այլնս]', '[այլևս]'), ('[վախել]', '[վախեցնել]'), ('[լինել]', '[ես]'), ('[կառափնատեղ]', '[կառափնատեղի]'), ('[կառափնատեղիղ]', '[կառափնատեղի]'), ('[ճեռք]', '[ձեռք]'), ('[արճագանք]', '[արձագանք]'), ('[ըյուսքին]', '[Ջյուսքինդ]'), ('[նվիրական]', '[ամենահանճարեղ]'), ('[ակտիր]', '[ամենագարշելի]'), ('[չօդափոխել]', '[օդափոխել]'), ('[չլվացնել]', '[լվանա]'), ('[ճմեռ]', '[ձմեռ]'), ('[ճմերուկ]', '[ձմերուկ]'), ('[ուշաթափեցնել]', '[ուշաթափել]'), ('[լվացնել]', '[լվանալ]'), ('[ճայն]', '[ձայն]'), ('[ճիկ]', '[ձուկ]'), ('[ծծումոր]', '[ծծմայր]'), ('[քրծեն]', '[քրծենի]'), ('[արկիղ]', '[արկղ]'), ('[այլնայլ]', '[այլևայլ]'), ('[ճնականություն]', '[ձևականություն]'), ('[չուննոր]', '[չունևոր]'), ('[կխնդրել]', '[խնդրել]'), ('[երակրել]', '[կերակրել]'), ('[պիս]', '[պես]'), ('[փինջ]', '[փունջ]'), ('[խկացնել]', '[չխկացնել]'), ('[խեցամաննե]', '[խեցաման]'), ('[գանգրան]', '[գանգրանալ]'), ('[օտարին]', '[օտար]'), ('[կարամելից]', '[կարամել]'), ('[նվիրար]', '[ամենապարզունակ]'), ('[ունեմ]', '[ունենալ]'), ('[քիթր]', '[քիթ]'), ('[աշխարհր]', '[աշխարհ]'), ('[ոստրամոխրագույնի]', '[ոստրամոխրագույն]'), ('[անկշտել]', '[անկշտում]'), ('[ոռինոց]', '[ոռնոց]'), ('[ճղճիղան]', '[ճղճղան]'), ('[դյո]', '[Դյո]'), ('[ժանտախտիգ]', '[ժանտախտից]'), ('[առուն]', '[առջև]'), ('[ետ]', '[ետև]'), ('[միջն]', '[միջև]'), ('[այնուհետ]', '[այնուհետև]'), ('[բացարճակապես]', '[բացարձակապես]'), ('[որ]', '[որևէ]'), ('[այլնս]', '[այլևս]'), ('[թեթ]', '[թեթև]'), ('[թեթնակ]', '[թեթևակի]'), ('[որ]', '[որևէ]'), ('[ետին]', '[ետև]'), ('[արն]', '[արև]'), ('[միննույն]', '[միևնույն]'), ('[վերն]', '[վերև]'), ('[ինճ]', '[ինչ]'), ('[արճակ]', '[արձակել]'), ('[թերուն]', '[թերևս]'), ('[մուշկի]', '[մուշկ]'), ('[երբնիցե]', '[երբևիցե]'), ('[ճեռք]', '[ձեռք]'), ('[տեզ]', '[տիզ]'), ('[երնակայություն]', '[երևակայություն]'), ('[արնմուտք]', '[արևմուտք]'), ('[ճեռք]', '[ձեռք]'), ('[ճեռք]', '[ձեռք]'), ('[ճայն]', '[ձայն]'), ('[նան]', '[նաև]'), ('[դեռին]', '[դեռևս]'), ('[ճեռք]', '[ձեռք]'), ('[հետնել]', '[հետևել]'), ('[արճակել]', '[արձակել]'), ('[որնիցե]', '[որևիցե]'), ('[դեռնս]', '[դեռևս]'), ('[այլնս]', '[այլևս]'), ('[շրթ]', '[շրթներկ]'), ('[ճեռք]', '[ձեռք]'), ('[արնմտյան]', '[արևմտյան]'), ('[այլես]', '[այլևս]'), ('[Նախնառաջ]', '[նախևառաջ]'), ('[հոգնոր]', '[հոգևոր]'), ('[խունկի]', '[խունկ]'), ('[ճեռք]', '[ձեռք]'), ('[ներք]', '[ներքև]'), ('[կաշին]', '[կաշի]'), ('[ազդիր]', '[ազդր]'), ('[դահճ]', '[դահիճ]'), ('[համարճակվել]', '[համարձակվել]'), ('[արնելք]', '[արևելք]'), ('[լցրել]', '[լցնել]'), ('[առանճ]', '[առանձին]'), ('[արնմուտք]', '[արևմուտք]'), ('[երնակայական]', '[երևակայական]'), ('[թնածել]', '[թևածել]'), ('[բանաճին]', '[բանաձև]'), ('[բանաճին]', '[բանաձև]'), ('[թեթնանալ]', '[թեթևանալ]'), ('[հետնել]', '[հետևել]'), ('[հետնել]', '[հետևել]'), ('[կարնոր]', '[կարևոր]'), ('[ճի]', '[ձի]'), ('[հեղճուցիչ]', '[հեղձուցիչ]'), ('[անճնական]', '[անձնական]'), ('[անորսալ]', '[անորսալի]'), ('[գաղտագող]', '[գաղտագողի]'), ('[առուջ]', '[առջև]'), ('[երնել]', '[երևալ]'), ('[ինճ]', '[ես]'), ('[փնթփնթաց]', '[փնթփնթալ]'), ('[փորճ]', '[փորձ]'), ('[բանաձին]', '[բանաձև]'), ('[եթենա]', '[եթե]'), ('[ինճ]', '[ես]'), ('[փորճ]', '[փորձ]'), ('[ալուֆ]', '[ալֆա]'), ('[բանաձ]', '[բանաձև]'), ('[բանաճ]', '[բանաձև]'), ('[թքած]', '[թքել]'), ('[բարճրանալ]', '[բարձրացնել]'), ('[Այլիս]', '[այլևս]'), ('[կավինավեհ]', '[ամենավեհ]'), ('[սնահեր]', '[սևահեր]'), ('[պոռթում]', '[պոռթկում]'), ('[բացարճակ]', '[բացարձակ]'), ('[բանաճ]', '[բանաձև]'), ('[թեն]', '[թեև]'), ('[տերն]', '[տերև]'), ('[շրթ]', '[շրթներկ]'), ('[բարճունք]', '[բարձունք]'), ('[ջրալ]', '[ջրալի]'), ('[թորվել]', '[թորել]'), ('[խլթխլթել]', '[խլթխլթալ]'), ('[առնտուր]', '[առևտուր]'), ('[անճամ]', '[անձամբ]'), ('[օթին]', '[օթևան]'), ('[բանաճ]', '[բանաձև]'), ('[արճակել]', '[արձակել]'), ('[բնեռ]', '[բևեռ]'), ('[օճ]', '[օձ]'), ('[ոջ]', '[ոչ]'), ('[անձր]', '[անձրև]'), ('[թեթն]', '[թեթև]'), ('[ճգալ]', '[ձգել]'), ('[լերել]', '[ուտել]'), ('[տաքագնել]', '[տաքացնել]'), ('[Հնայած]', '[Չնայած]'), ('[ճեռք]', '[ձեռք]'), ('[շրթ]', '[շրթներկ]'), ('[այխքան]', '[այդքան]'), ('[նարնջենու]', '[նարնջենի]'), ('[թաքչել]', '[թաքցնել]'), ('[ճնալ]', '[ձևացնել]'), ('[զնգզնգել]', '[զնգզնգալ]'), ('[գիտել]', '[իմանալ]'), ('[բարճր]', '[բարձր]')]\n"
          ]
        }
      ]
    },
    {
      "cell_type": "code",
      "source": [
        "LTWrongCorrectWordF, DWrongCorrectWordF = readCorrectionsFrq(1, 4, 9, '/content/Pilot-Corrections-all.tsv', SFOut = 'Pilot-Corrections-all-WordForm.tsv')\n",
        "LTWrongCorrectLemmaF, DWrongCorrectLemmaF = readCorrectionsFrq(3, 6, 9, '/content/Pilot-Corrections-all.tsv', SFOut = 'Pilot-Corrections-all-Lemma.tsv')"
      ],
      "metadata": {
        "colab": {
          "base_uri": "https://localhost:8080/"
        },
        "id": "BGYJhWPEO_yl",
        "outputId": "f9b3a5ec-2a40-4b38-cea1-134cc25652f6"
      },
      "execution_count": 59,
      "outputs": [
        {
          "output_type": "stream",
          "name": "stdout",
          "text": [
            "ինճ\tինձ\tինչ\n",
            "առջնից\tառջև\tառջևից\n",
            "ինճ\tինչ\tինձ\n",
            "172\n",
            "ինճ\tինչ\tես\n",
            "գիտել\tգիտենալ\tիմանալ\n",
            "206\n"
          ]
        }
      ]
    },
    {
      "cell_type": "code",
      "source": [
        "print(LTWrongCorrectWordF)\n",
        "print(LTWrongCorrectLemmaF)"
      ],
      "metadata": {
        "colab": {
          "base_uri": "https://localhost:8080/"
        },
        "id": "If9vlUT_QQdh",
        "outputId": "153199b8-0d1f-49b4-f85d-6b4ccf83f1a4"
      },
      "execution_count": 60,
      "outputs": [
        {
          "output_type": "stream",
          "name": "stdout",
          "text": [
            "[('[մերճակա]', '[մերձակա]', '4'), ('[առջն]', '[առջև]', '4'), ('[թեթնություն]', '[թեթևություն]', '4'), ('[Եթենա]', '[եթե նա]', '4'), ('[ննա]', '[նա]', '4'), ('[ճեռքերն]', '[ձեռքից]', '4'), ('[ճայն]', '[ձայն]', '4'), ('[ճեռքով]', '[ձեռքով]', '4'), ('[այլնս]', '[այլևս]', '4'), ('[ետնի]', '[ետևի]', '4'), ('[կեղնները]', '[կեղևները]', '4'), ('[ճկան]', '[ձկան]', '4'), ('[ննա]', '[նա]', '4'), ('[բանաձնի]', '[բանաձևի]', '4'), ('[ճեր]', '[ձեր]', '4'), ('[առնտրական]', '[առևտրական]', '4'), ('[արնելյան]', '[արևելյան]', '4'), ('[կուղնորվի]', '[կուղևորվի]', '4'), ('[նս]', '[ևս]', '4'), ('[հետնեց]', '[հետևել]', '4'), ('[նուխիսկ]', '[նույնիսկ]', '4'), ('[երնույթ]', '[երևույթ]', '4'), ('[քրտնքով]', '[քրտինքով]', '4'), ('[արվարճանում]', '[արվարձանում]', '4'), ('[անճամբ]', '[անձամբ]', '4'), ('[ճայնը]', '[ձայնը]', '4'), ('[ճգվում]', '[ձգվում]', '4'), ('[ճիու]', '[ձիու]', '4'), ('[դարճնում]', '[դարձնում]', '4'), ('[ուղնորվում]', '[ուղևորվում ]', '4'), ('[իջնանատան]', '[իջևանատան]', '4'), ('[ճգտում]', '[ձգտում]', '4'), ('[դրսնորում]', '[դրսևորում]', '3'), ('[արվարճանի]', '[արվարձանի]', '3'), ('[ետնում]', '[ետևում]', '3'), ('[ճնավորված]', '[ձևավորված]', '3'), ('[Հետնաբար]', '[հետևաբար]', '3'), ('[այլնս]', '[այլևս]', '3'), ('[Շավանաբար]', '[հավանաբար]', '3'), ('[սկզբիցնեթ]', '[սկզբիցևեթ]', '3'), ('[միջն]', '[միջև]', '3'), ('[համաճայնության]', '[համաձայնություն]', '3'), ('[Թերնս]', '[թերևս]', '3'), ('[տերնի]', '[տերև]', '3'), ('[թնատակերի]', '[թևատակ]', '3'), ('[դոււս]', '[դուրս]', '3'), ('[բարճրացավ]', '[բարձրանալ]', '3'), ('[երկարատն]', '[երկարատև]', '3'), ('[նախնառաջ]', '[նախևառաջ]', '3'), ('[ներքնից]', '[ներքև]', '3'), ('[առջնից]', '[առջև]', '3'), ('[ճեռնոցագործական]', '[ձեռնոցագործական]', '3'), ('[հարնան]', '[գարնան]', '3'), ('[ճգտումը]', '[ձգտումը]', '3'), ('[առջնում]', '[առջևում]', '3'), ('[ճմռանը]', '[ձմռանը]', '3'), ('[սնահեր]', '[սևահեր]', '3'), ('[ծանրութեթն]', '[ծանրութեթև]', '3'), ('[ճագի]', '[ձագի]', '3'), ('[Այլնս]', '[այլևս]', '3'), ('[ինճ]', '[ինձ]', '3'), ('[ճեռքն]', '[ձեռքն]', '3'), ('[արճագանք]', '[արձագանք]', '3'), ('[ճմեռ]', '[ձմեռ]', '2'), ('[պառկածէրգերեզմանատանվրա]', '[պառկած էր գերեզմանատան վրա]', '2'), ('[ճմերուկների]', '[ձմերուկների]', '2'), ('[ունողկալի]', '[ու նողկալի]', '2'), ('[գլխապտույտնե]', '[գլխապտույտներ]', '2'), ('[ճայնի]', '[ձայնի]', '2'), ('[ճկների]', '[ձկների]', '2'), ('[այլնայլ]', '[այլևայլ]', '2'), ('[ճնականություններից]', '[ձևականություններից]', '2'), ('[չուննորներին]', '[չունևորներին]', '2'), ('[արճակվող]', '[արձակվել]', '2'), ('[խամարդ]', '[տղամարդ]', '2'), ('[Միգուցենա]', '[միգուցե նա]', '2'), ('[ջղաճգութու]', '[Ջղաձգություն]', '2'), ('[Դետեսնում]', '[դե տեսնում ]', '2'), ('[բարճրաց]', '[բարձրացնել]', '2'), ('[ինճ]', '[ինձ]', '2'), ('[Որովհետն]', '[որովհետև]', '2'), ('[ննույնիսկ]', '[նույնիսկ]', '2'), ('[հուսահատեգնում]', '[հեւսահատեցնել]', '2'), ('[որնրան]', '[որ նրան]', '2'), ('[Ջգազմունքներից]', '[Զգացմունք]', '2'), ('[մնահավատությոն]', '[սնահավատություն]', '2'), ('[հեթանոսա]', '[հեթանոսացում]', '2'), ('[խարույկՄ]', '[խարույկ]', '2'), ('[տուցում]', '[մատուցում]', '2'), ('[նականռթյան]', '[բանականություն]', '2'), ('[անձր]', '[անձ, անձրև]', '2'), ('[տարօրի]', '[տարօրինակ]', '2'), ('[թնիկները]', '[թևիկ]', '2'), ('[աստվածավախու]', '[աստվածավախություն]', '2'), ('[բարճր]', '[բարձր]', '2'), ('[լավէ]', '[լավ է]', '2'), ('[Թռենել]', '[թռնել]', '2'), ('[հանճնեց]', '[հանձնել]', '2'), ('[Դհյոյում]', '[Դյո]', '2'), ('[տակիզ]', '[տակից]', '2'), ('[առջն]', '[առջև]', '36'), ('[ետնից]', '[ետևից]', '30'), ('[միջն]', '[միջև]', '22'), ('[այնուհետն]', '[այնուհետև]', '22'), ('[բացարճակապես]', '[բացարձակապես]', '21'), ('[որնէ]', '[որևէ]', '20'), ('[այլնս]', '[այլևս]', '19'), ('[թեթն]', '[թեթև]', '18'), ('[թեթնակի]', '[թեթևակի]', '17'), ('[որնէ]', '[որևէ]', '16'), ('[ետնում]', '[ետևում]', '16'), ('[արնի]', '[արևի]', '14'), ('[միննույն]', '[միևնույն]', '13'), ('[վերնում]', '[վերևում]', '13'), ('[ինճ]', '[ինչ]', '13'), ('[արճակում]', '[արձակում]', '12'), ('[թերնս]', '[թերևս]', '12'), ('[երբնիցե]', '[երբևիցե]', '11'), ('[ճեռքը]', '[ձեռքը]', '10'), ('[երնակայության]', '[երևակայության]', '10'), ('[արնմուտք]', '[արևմուտք]', '10'), ('[ճեռք]', '[ձեռք]', '10'), ('[ճեռքի]', '[ձեռքի]', '9'), ('[ճայնով]', '[ձայնով]', '9'), ('[նան]', '[նաև]', '8'), ('[դեռնս]', '[դեռևս]', '8'), ('[ճեռքերը]', '[ձեռքերը]', '8'), ('[հետնում]', '[հետևում]', '8'), ('[արճակող]', '[արձակող]', '8'), ('[որնիցե]', '[որևիցե]', '8'), ('[դեռնս]', '[դեռևս]', '8'), ('[այլնս]', '[այլևս]', '8'), ('[ճեռքին]', '[ձեռքին]', '7'), ('[արնմտյան]', '[արևմտյան]', '7'), ('[այլես]', '[այլևս]', '7'), ('[Նախնառաջ]', '[նախևառաջ]', '7'), ('[հոգնոր]', '[հոգևոր]', '6'), ('[ճեռքերով]', '[ձեռքերով]', '6'), ('[ներքնում]', '[ներքևում]', '6'), ('[համարճակվում]', '[համարձակվում]', '5'), ('[արնելք]', '[արևելք]', '5'), ('[առանճին]', '[առանձին]', '5'), ('[արնմուտքից]', '[արևմուտքից]', '5'), ('[երնակայական]', '[երևակայական]', '5'), ('[թնածում]', '[թևածում]', '5'), ('[բանաճնի]', '[բանաձևի]', '5'), ('[դարճավ]', '[դարձավ]', '5'), ('[բանաճնը]', '[բանաձևը]', '5'), ('[թեթնացած]', '[թեթևացած]', '5'), ('[հետնելով]', '[հետևելով]', '5'), ('[հետնել]', '[հետևել]', '5'), ('[կարնոր]', '[կարևոր]', '5'), ('[ճիու]', '[ձիու]', '5'), ('[հեղճուցիչ]', '[հեղձուցիչ]', '5'), ('[անճնական]', '[անձնական]', '5'), ('[առջնից]', '[առջևից]', '3'), ('[երնում]', '[երևում]', '3'), ('[ինճ]', '[ինձ]', '3'), ('[փորճ]', '[փորձ]', '3'), ('[բանաձնը]', '[բանաձևը]', '3'), ('[եթենա]', '[եթե]', '3'), ('[ինճ]', '[ինձ]', '3'), ('[փորճն]', '[փորձն]', '3'), ('[բանաձն]', '[բանաձևն]', '3'), ('[բանաճն]', '[բանաձևն]', '3'), ('[բարճրացնել]', '[բարձրացնել]', '3'), ('[Այլնս]', '[այլևս]', '3'), ('[սնահեր]', '[սևահեր]', '3'), ('[բացարճակ]', '[բացարձակ]', '3'), ('[ճգտելով]', '[ձգտելով]', '3'), ('[բանաճներ]', '[բանաձևեր]', '3'), ('[թեն]', '[թեև]', '3'), ('[տերնները]', '[տերևերը]', '3'), ('[բարճունքներում]', '[բարձունքներում]', '3'), ('[առնտուրը]', '[առևտուրը]', '3'), ('[անճամբ]', '[անձամբ]', '3'), ('[օթնան]', '[օթևան]', '3'), ('[բանաճներով]', '[բանաձներով]', '3'), ('[արճակել]', '[արձակել]', '3'), ('[բնեռը]', '[բևեռը]', '3'), ('[օճեր]', '[օձեր]', '3'), ('[ոջ]', '[ոչ]', '3'), ('[անձրնը]', '[անձրևը]', '3'), ('[թեթն]', '[թեթև]', '3'), ('[ճգում]', '[ձգում]', '3'), ('[տաքագնում]', '[տաքացնում]', '3'), ('[Հնայած]', '[Չնայած]', '3'), ('[ճեռքերի]', '[Ձեռքերի]', '3'), ('[այխքան]', '[այդքան]', '3'), ('[ճնացրեց]', '[ձևացրեց]', '3'), ('[երնակայությունների]', '[երևակայությունների]', '3'), ('[առջն]', '[առջև]', '3'), ('[բարճր]', '[բարձր]', '3')]\n",
            "[('[գաղտագող]', '[գաղտագողի]', '5'), ('[լաուրա]', '[Լաուրա]', '5'), ('[տաններոն]', '[Տաններոն]', '5'), ('[մերճակա]', '[մերձակա]', '4'), ('[ռանալել]', '[կռանալ]', '4'), ('[Տերն]', '[Տեր]', '4'), ('[ճեռք]', '[ձեռք]', '4'), ('[կարագից]', '[կարագ]', '4'), ('[ճայն]', '[ձայն]', '4'), ('[ճեռք]', '[ձեռք]', '4'), ('[այլնս]', '[այլևս]', '4'), ('[ետուն]', '[ետև]', '4'), ('[կեղն]', '[կեղև]', '4'), ('[լուսաբացի]', '[լուսաբաց]', '4'), ('[շուրջբոլոր]', '[շուրջբոլորը]', '4'), ('[ճիկ]', '[ձուկ]', '4'), ('[դիմափոշու]', '[դիմափոշի]', '4'), ('[ննա]', '[նա]', '4'), ('[բանաձին]', '[բանաձև]', '4'), ('[ճեր]', '[դուք]', '4'), ('[առնտրական]', '[առևտրական]', '4'), ('[արնելյան]', '[արևելյան]', '4'), ('[կուղնոր]', '[ուղևորվել]', '4'), ('[փափկենալ]', '[փափկել]', '4'), ('[իս]', '[ևս]', '4'), ('[հետնել]', '[հետևել]', '4'), ('[փնթփնթել]', '[փնթփնթալ]', '4'), ('[մեսինա]', '[Մեսինա]', '4'), ('[նուխիսկ]', '[նույնիսկ]', '4'), ('[քացնել]', '[չքանալ]', '4'), ('[երնույթ]', '[երևույթ]', '4'), ('[քրտնք]', '[քրտինք]', '4'), ('[արվարճան]', '[արվարձան]', '4'), ('[անճամբ]', '[անձամբ]', '4'), ('[ճայն]', '[ձայն]', '4'), ('[ճգվել]', '[ձգվել]', '4'), ('[թունելի]', '[թունել]', '4'), ('[բատիստ]', '[Բատիստ]', '4'), ('[ճիու]', '[ձի]', '4'), ('[դարճնել]', '[դարձնել]', '4'), ('[ուղնորվել]', '[ուղևորվել]', '4'), ('[ռահել]', '[կռահել]', '4'), ('[Ռիշին]', '[Ռիշի]', '4'), ('[լաուրային]', '[Լաուրա]', '4'), ('[իջնանատան]', '[իջևանատուն]', '4'), ('[Գրասյան]', '[գրասյուն]', '4'), ('[ճգտել]', '[ձգտել]', '4'), ('[դրսնոր]', '[դրսևորել]', '3'), ('[արվարճան]', '[արվարձան]', '3'), ('[նվիրակար]', '[ամենագարշահոտ]', '3'), ('[ետնել]', '[ետև]', '3'), ('[ծծմոր]', '[ծծմայր]', '3'), ('[ծծմոր]', '[ծծմայր]', '3'), ('[ճնավորվել]', '[ձևավորվել]', '3'), ('[հետնաբար]', '[հետևաբար]', '3'), ('[ծծմոր]', '[ծծմայր]', '3'), ('[կարամելի]', '[կարամել]', '3'), ('[ակար]', '[ամենատանջալի]', '3'), ('[ռալ]', '[չռել]', '3'), ('[կոցել]', '[կկոցել]', '3'), ('[ոռնել]', '[ոռնալ]', '3'), ('[ոռնանալ]', '[ոռնացող]', '3'), ('[որպիսիք]', '[որպիսին]', '3'), ('[միակին]', '[միակ]', '3'), ('[վերապրի]', '[վերապրել]', '3'), ('[գոլորշին]', '[գոլորշի]', '3'), ('[կարճ]', '[ամենաբարակ]', '3'), ('[սանդալի]', '[սանդալ]', '3'), ('[վերոն]', '[վերև]', '3'), ('[ազդիր]', '[ազդր]', '3'), ('[մաշկան]', '[մաշկ]', '3'), ('[գիտել]', '[գիտենալ]', '3'), ('[ավականանալ]', '[բավականացնել]', '3'), ('[ծաղկեփին]', '[ծազկեփունջ]', '3'), ('[հագել]', '[հագնել]', '3'), ('[հարնան]', '[գարուն]', '3'), ('[ճգտում]', '[ձգտում]', '3'), ('[առջին]', '[առջև]', '3'), ('[ճմիռ]', '[ձմեռ]', '3'), ('[սնահ]', '[սևահեր]', '3'), ('[սեփականանալ]', '[սեփականացնել]', '3'), ('[նկուղի]', '[նկուղ]', '3'), ('[ծանրութեթ]', '[ծանրութեթև]', '3'), ('[արկիղ]', '[արկղ]', '3'), ('[շրթ]', '[շրթներկ]', '3'), ('[ճագ]', '[ձագ]', '3'), ('[դողանալ]', '[դողալ]', '3'), ('[պատկերանալ]', '[պատկերացնել]', '3'), ('[այլնս]', '[այլևս]', '3'), ('[վախել]', '[վախեցնել]', '3'), ('[լինել]', '[ես]', '3'), ('[կառափնատեղ]', '[կառափնատեղի]', '3'), ('[կառափնատեղիղ]', '[կառափնատեղի]', '3'), ('[ճեռք]', '[ձեռք]', '3'), ('[արճագանք]', '[արձագանք]', '3'), ('[ըյուսքին]', '[Ջյուսքինդ]', '2'), ('[նվիրական]', '[ամենահանճարեղ]', '2'), ('[ակտիր]', '[ամենագարշելի]', '2'), ('[չօդափոխել]', '[օդափոխել]', '2'), ('[չլվացնել]', '[լվանա]', '2'), ('[ճմեռ]', '[ձմեռ]', '2'), ('[ճմերուկ]', '[ձմերուկ]', '2'), ('[ուշաթափեցնել]', '[ուշաթափել]', '2'), ('[լվացնել]', '[լվանալ]', '2'), ('[ճայն]', '[ձայն]', '2'), ('[ճիկ]', '[ձուկ]', '2'), ('[ծծումոր]', '[ծծմայր]', '2'), ('[քրծեն]', '[քրծենի]', '2'), ('[արկիղ]', '[արկղ]', '2'), ('[այլնայլ]', '[այլևայլ]', '2'), ('[ճնականություն]', '[ձևականություն]', '2'), ('[չուննոր]', '[չունևոր]', '2'), ('[կխնդրել]', '[խնդրել]', '2'), ('[երակրել]', '[կերակրել]', '2'), ('[պիս]', '[պես]', '2'), ('[փինջ]', '[փունջ]', '2'), ('[խկացնել]', '[չխկացնել]', '2'), ('[խեցամաննե]', '[խեցաման]', '2'), ('[գանգրան]', '[գանգրանալ]', '2'), ('[օտարին]', '[օտար]', '2'), ('[կարամելից]', '[կարամել]', '2'), ('[նվիրար]', '[ամենապարզունակ]', '2'), ('[ունեմ]', '[ունենալ]', '2'), ('[քիթր]', '[քիթ]', '2'), ('[աշխարհր]', '[աշխարհ]', '2'), ('[ոստրամոխրագույնի]', '[ոստրամոխրագույն]', '2'), ('[անկշտել]', '[անկշտում]', '2'), ('[ոռինոց]', '[ոռնոց]', '2'), ('[ճղճիղան]', '[ճղճղան]', '2'), ('[դյո]', '[Դյո]', '2'), ('[ժանտախտիգ]', '[ժանտախտից]', '2'), ('[առուն]', '[առջև]', '36'), ('[ետ]', '[ետև]', '30'), ('[միջն]', '[միջև]', '22'), ('[այնուհետ]', '[այնուհետև]', '22'), ('[բացարճակապես]', '[բացարձակապես]', '21'), ('[որ]', '[որևէ]', '20'), ('[այլնս]', '[այլևս]', '19'), ('[թեթ]', '[թեթև]', '18'), ('[թեթնակ]', '[թեթևակի]', '17'), ('[որ]', '[որևէ]', '16'), ('[ետին]', '[ետև]', '16'), ('[արն]', '[արև]', '14'), ('[միննույն]', '[միևնույն]', '13'), ('[վերն]', '[վերև]', '13'), ('[ինճ]', '[ինչ]', '13'), ('[արճակ]', '[արձակել]', '12'), ('[թերուն]', '[թերևս]', '12'), ('[մուշկի]', '[մուշկ]', '12'), ('[երբնիցե]', '[երբևիցե]', '11'), ('[ճեռք]', '[ձեռք]', '10'), ('[տեզ]', '[տիզ]', '10'), ('[երնակայություն]', '[երևակայություն]', '10'), ('[արնմուտք]', '[արևմուտք]', '10'), ('[ճեռք]', '[ձեռք]', '10'), ('[ճեռք]', '[ձեռք]', '9'), ('[ճայն]', '[ձայն]', '9'), ('[նան]', '[նաև]', '8'), ('[դեռին]', '[դեռևս]', '8'), ('[ճեռք]', '[ձեռք]', '8'), ('[հետնել]', '[հետևել]', '8'), ('[արճակել]', '[արձակել]', '8'), ('[որնիցե]', '[որևիցե]', '8'), ('[դեռնս]', '[դեռևս]', '8'), ('[այլնս]', '[այլևս]', '8'), ('[շրթ]', '[շրթներկ]', '8'), ('[ճեռք]', '[ձեռք]', '7'), ('[արնմտյան]', '[արևմտյան]', '7'), ('[այլես]', '[այլևս]', '7'), ('[Նախնառաջ]', '[նախևառաջ]', '7'), ('[հոգնոր]', '[հոգևոր]', '6'), ('[խունկի]', '[խունկ]', '6'), ('[ճեռք]', '[ձեռք]', '6'), ('[ներք]', '[ներքև]', '6'), ('[կաշին]', '[կաշի]', '6'), ('[ազդիր]', '[ազդր]', '6'), ('[դահճ]', '[դահիճ]', '6'), ('[համարճակվել]', '[համարձակվել]', '5'), ('[արնելք]', '[արևելք]', '5'), ('[լցրել]', '[լցնել]', '5'), ('[առանճ]', '[առանձին]', '5'), ('[արնմուտք]', '[արևմուտք]', '5'), ('[երնակայական]', '[երևակայական]', '5'), ('[թնածել]', '[թևածել]', '5'), ('[բանաճին]', '[բանաձև]', '5'), ('[բանաճին]', '[բանաձև]', '5'), ('[թեթնանալ]', '[թեթևանալ]', '5'), ('[հետնել]', '[հետևել]', '5'), ('[հետնել]', '[հետևել]', '5'), ('[կարնոր]', '[կարևոր]', '5'), ('[ճի]', '[ձի]', '5'), ('[հեղճուցիչ]', '[հեղձուցիչ]', '5'), ('[անճնական]', '[անձնական]', '5'), ('[անորսալ]', '[անորսալի]', '5'), ('[գաղտագող]', '[գաղտագողի]', '5'), ('[առուջ]', '[առջև]', '3'), ('[երնել]', '[երևալ]', '3'), ('[ինճ]', '[ես]', '3'), ('[փնթփնթաց]', '[փնթփնթալ]', '3'), ('[փորճ]', '[փորձ]', '3'), ('[բանաձին]', '[բանաձև]', '3'), ('[եթենա]', '[եթե]', '3'), ('[ինճ]', '[ես]', '3'), ('[փորճ]', '[փորձ]', '3'), ('[ալուֆ]', '[ալֆա]', '3'), ('[բանաձ]', '[բանաձև]', '3'), ('[բանաճ]', '[բանաձև]', '3'), ('[թքած]', '[թքել]', '3'), ('[բարճրանալ]', '[բարձրացնել]', '3'), ('[Այլիս]', '[այլևս]', '3'), ('[կավինավեհ]', '[ամենավեհ]', '3'), ('[սնահեր]', '[սևահեր]', '3'), ('[պոռթում]', '[պոռթկում]', '3'), ('[բացարճակ]', '[բացարձակ]', '3'), ('[բանաճ]', '[բանաձև]', '3'), ('[թեն]', '[թեև]', '3'), ('[տերն]', '[տերև]', '3'), ('[շրթ]', '[շրթներկ]', '3'), ('[բարճունք]', '[բարձունք]', '3'), ('[ջրալ]', '[ջրալի]', '3'), ('[թորվել]', '[թորել]', '3'), ('[խլթխլթել]', '[խլթխլթալ]', '3'), ('[առնտուր]', '[առևտուր]', '3'), ('[անճամ]', '[անձամբ]', '3'), ('[օթին]', '[օթևան]', '3'), ('[բանաճ]', '[բանաձև]', '3'), ('[արճակել]', '[արձակել]', '3'), ('[բնեռ]', '[բևեռ]', '3'), ('[օճ]', '[օձ]', '3'), ('[ոջ]', '[ոչ]', '3'), ('[անձր]', '[անձրև]', '3'), ('[թեթն]', '[թեթև]', '3'), ('[ճգալ]', '[ձգել]', '3'), ('[լերել]', '[ուտել]', '3'), ('[տաքագնել]', '[տաքացնել]', '3'), ('[Հնայած]', '[Չնայած]', '3'), ('[ճեռք]', '[ձեռք]', '3'), ('[շրթ]', '[շրթներկ]', '3'), ('[այխքան]', '[այդքան]', '3'), ('[նարնջենու]', '[նարնջենի]', '3'), ('[թաքչել]', '[թաքցնել]', '3'), ('[ճնալ]', '[ձևացնել]', '3'), ('[զնգզնգել]', '[զնգզնգալ]', '3'), ('[գիտել]', '[իմանալ]', '3'), ('[բարճր]', '[բարձր]', '3')]\n"
          ]
        }
      ]
    },
    {
      "cell_type": "code",
      "source": [
        "printCompareDict(DFreqDiffWikiFiktion, DhyFiktion, DWikiX, '/content/KorpusARM1/stage04/hyFiktion.tsv.txt')\n",
        "printCompareDict(DFreqDiffWikiNatur, DhyNatur, DWikiX, '/content/KorpusARM1/stage04/hyNatur.tsv.txt')\n",
        "printCompareDict(DFreqDiffWikiRecht, DhyRecht, DWikiX, '/content/KorpusARM1/stage04/hyRecht.tsv.txt')\n",
        "printCompareDict(DFreqDiffWikiAll, DhyAll, DWikiX, '/content/KorpusARM1/stage04all.tsv.txt')"
      ],
      "metadata": {
        "id": "MzRUl4EiWPy6",
        "colab": {
          "base_uri": "https://localhost:8080/"
        },
        "outputId": "0ebdfd58-eac0-476b-eaad-657c9c8ef07f"
      },
      "execution_count": 61,
      "outputs": [
        {
          "output_type": "stream",
          "name": "stdout",
          "text": [
            "20969\n",
            "21806\n",
            "11064\n",
            "43675\n"
          ]
        }
      ]
    },
    {
      "cell_type": "code",
      "source": [
        "!mkdir /content/KorpusARM1/stage05"
      ],
      "metadata": {
        "id": "9h6OCvyEZZ-N"
      },
      "execution_count": 62,
      "outputs": []
    },
    {
      "cell_type": "code",
      "source": [
        "def printCompareDictWCorrections(DFreqDiff, DText, DWiki, DWrongCorrectWord, DWrongCorrectLemma, SFOut):\n",
        "    fOut = open(SFOut, 'w')\n",
        "    countEntries = 0\n",
        "    countCorrLem = 0\n",
        "    countCorrWord = 0\n",
        "    for key, val in sorted(DFreqDiff.items(), key=lambda item: item[1], reverse=True):\n",
        "        countEntries += 1\n",
        "        try:\n",
        "            frqText = DText[key] + 1\n",
        "        except:\n",
        "            frqText = 1\n",
        "\n",
        "        try:\n",
        "            frqWiki = DWiki[key] + 1\n",
        "        except:\n",
        "            frqWiki = 1\n",
        "        \n",
        "        SWordCorr = ''\n",
        "        SLemCorr = ''\n",
        "        SPoSCorr = ''\n",
        "        try:\n",
        "            LFieldsKey = key.split('\\t')\n",
        "            if len(LFieldsKey) == 3:\n",
        "                SWord = LFieldsKey[0]\n",
        "                SLem = LFieldsKey[2]\n",
        "                if SWord in DWrongCorrectWord.keys():\n",
        "                    SWordCorr = DWrongCorrectWord[SWord]\n",
        "                    countCorrWord +=1\n",
        "\n",
        "                if SLem in DWrongCorrectLemma.keys():\n",
        "                    SLemCorr = DWrongCorrectLemma[SLem]\n",
        "                    countCorrLem +=1\n",
        "        except:\n",
        "            pass\n",
        "        \n",
        "        fOut.write(f'{key}\\t{val}\\t{SWordCorr}\\t{SPoSCorr}\\t{SLemCorr}\\t{frqText}\\t{frqWiki}\\n')\n",
        "    fOut.flush()\n",
        "    print(countEntries, countCorrWord, countCorrLem)\n",
        "    return\n"
      ],
      "metadata": {
        "id": "lhaLbxBgV9pI"
      },
      "execution_count": 63,
      "outputs": []
    },
    {
      "cell_type": "code",
      "source": [
        "printCompareDictWCorrections(DFreqDiffWikiFiktion, DhyFiktion, DWikiX, DWrongCorrectWord, DWrongCorrectLemma, '/content/KorpusARM1/stage05/hyFiktion.tsv.txt')\n",
        "printCompareDictWCorrections(DFreqDiffWikiNatur, DhyNatur, DWikiX, DWrongCorrectWord, DWrongCorrectLemma, '/content/KorpusARM1/stage05/hyNatur.tsv.txt')\n",
        "printCompareDictWCorrections(DFreqDiffWikiRecht, DhyRecht, DWikiX, DWrongCorrectWord, DWrongCorrectLemma, '/content/KorpusARM1/stage05/hyRecht.tsv.txt')\n",
        "printCompareDictWCorrections(DFreqDiffWikiAll, DhyAll, DWikiX, DWrongCorrectWord, DWrongCorrectLemma, '/content/KorpusARM1/stage05all.tsv.txt')"
      ],
      "metadata": {
        "colab": {
          "base_uri": "https://localhost:8080/"
        },
        "id": "90Mvq66qZirp",
        "outputId": "717e89ec-9827-4f68-ce95-1fcb77755d71"
      },
      "execution_count": 64,
      "outputs": [
        {
          "output_type": "stream",
          "name": "stdout",
          "text": [
            "20969 145 440\n",
            "21806 94 292\n",
            "11064 50 117\n",
            "43675 181 550\n"
          ]
        }
      ]
    },
    {
      "cell_type": "markdown",
      "source": [
        "## files to annotate:\n",
        "https://heibox.uni-heidelberg.de/d/8e44baf95ccb4c728a63/\n"
      ],
      "metadata": {
        "id": "DCWFsG4Lf8T2"
      }
    },
    {
      "cell_type": "code",
      "source": [],
      "metadata": {
        "id": "ITX8CWlaf6KS"
      },
      "execution_count": null,
      "outputs": []
    },
    {
      "cell_type": "markdown",
      "source": [
        "### checking if there is a frequency difference for an entry"
      ],
      "metadata": {
        "id": "lNz9tWIKuy0L"
      }
    },
    {
      "cell_type": "code",
      "source": [
        "DFreqDiff = {} # dictionary of frequency differences\n",
        "lenWiki = 2735468\n",
        "lenText = 83829\n",
        "c = 0\n",
        "for key, val in sorted(DText.items(), key=lambda item: item[1], reverse=True):\n",
        "    c+=1\n",
        "    valText = val + 1\n",
        "    relText = valText / lenText\n",
        "    try:\n",
        "        valWiki = DWiki[key] + 1\n",
        "    except:\n",
        "        valWiki = 1\n",
        "    relWiki = valWiki / lenWiki\n",
        "\n",
        "    diffValue = relText / relWiki\n",
        "    DFreqDiff[key] = diffValue\n"
      ],
      "metadata": {
        "id": "ewfn2ngSu6sK"
      },
      "execution_count": null,
      "outputs": []
    },
    {
      "cell_type": "code",
      "source": [
        "fOut = open('Parfum_Armenian-freq-diff.txt', 'w')\n",
        "for key, val in sorted(DFreqDiff.items(), key=lambda item: item[1], reverse=True):\n",
        "    try:\n",
        "        frqText = DText[key] + 1\n",
        "    except:\n",
        "        frqText = 1\n",
        "\n",
        "    try:\n",
        "        frqWiki = DWiki[key] + 1\n",
        "    except:\n",
        "        frqWiki = 1\n",
        "    fOut.write(f'{key}\\t{val}\\t{frqText}\\t{frqWiki}\\n')\n",
        "fOut.flush()"
      ],
      "metadata": {
        "id": "v3TNjk49xxPC"
      },
      "execution_count": null,
      "outputs": []
    },
    {
      "cell_type": "code",
      "source": [
        "cat texts-vert/* >text-vert-all.vert.txt"
      ],
      "metadata": {
        "id": "rBODLGvH0_Xe"
      },
      "execution_count": null,
      "outputs": []
    },
    {
      "cell_type": "code",
      "source": [
        "!wc text-vert-all.vert.txt"
      ],
      "metadata": {
        "id": "vGRyIth63pks",
        "outputId": "9aa3980a-440a-4ca1-b920-9040d7f8a406",
        "colab": {
          "base_uri": "https://localhost:8080/"
        }
      },
      "execution_count": null,
      "outputs": [
        {
          "output_type": "stream",
          "name": "stdout",
          "text": [
            " 112723  338169 3062358 text-vert-all.vert.txt\n"
          ]
        }
      ]
    },
    {
      "cell_type": "code",
      "source": [
        "DText2 = {}\n",
        "with open(\"text-vert-all.vert.txt\", 'r') as f:\n",
        "    for line in f:\n",
        "        line = line.rstrip()\n",
        "        try:\n",
        "            DText2[line] +=1\n",
        "        except:\n",
        "            DText2[line] = 1"
      ],
      "metadata": {
        "id": "mxkmuk223eEr"
      },
      "execution_count": null,
      "outputs": []
    },
    {
      "cell_type": "code",
      "source": [
        "DFreqDiff2 = {} # dictionary of frequency differences\n",
        "lenWiki = 2735468\n",
        "lenText = 112723\n",
        "c = 0\n",
        "for key, val in sorted(DText2.items(), key=lambda item: item[1], reverse=True):\n",
        "    c+=1\n",
        "    valText = val + 1\n",
        "    relText = valText / lenText\n",
        "    try:\n",
        "        valWiki = DWiki[key] + 1\n",
        "    except:\n",
        "        valWiki = 1\n",
        "    relWiki = valWiki / lenWiki\n",
        "\n",
        "    diffValue = relText / relWiki\n",
        "    DFreqDiff2[key] = diffValue\n"
      ],
      "metadata": {
        "id": "4XnwSDmF3j-D"
      },
      "execution_count": null,
      "outputs": []
    },
    {
      "cell_type": "code",
      "source": [
        "fOut = open('text-vert-all-freq-diff.txt', 'w')\n",
        "for key, val in sorted(DFreqDiff2.items(), key=lambda item: item[1], reverse=True):\n",
        "    try:\n",
        "        frqText = DText2[key] + 1\n",
        "    except:\n",
        "        frqText = 1\n",
        "\n",
        "    try:\n",
        "        frqWiki = DWiki[key] + 1\n",
        "    except:\n",
        "        frqWiki = 1\n",
        "    fOut.write(f'{key}\\t{val}\\t{frqText}\\t{frqWiki}\\n')\n",
        "fOut.flush()"
      ],
      "metadata": {
        "id": "6gKv0TaC39NL"
      },
      "execution_count": null,
      "outputs": []
    },
    {
      "cell_type": "markdown",
      "source": [
        "## Reading corrected file and discovering rewrite rules\n",
        "- common prefix; common suffix\n",
        "- remaining string to rewrite\n"
      ],
      "metadata": {
        "id": "Qak75Zf9hl0t"
      }
    },
    {
      "cell_type": "code",
      "source": [
        "# Dowloading the file with corrections\n",
        "!wget https://heibox.uni-heidelberg.de/f/82b78c77a7bd4eff955d/?dl=1\n",
        "!mv index.html?dl=1 Parfum_Armenian-freq-diff-all.tsv"
      ],
      "metadata": {
        "id": "LkJFnc3yh3PD"
      },
      "execution_count": null,
      "outputs": []
    },
    {
      "cell_type": "code",
      "source": [
        "!head -n 40 Parfum_Armenian-freq-diff-all.tsv"
      ],
      "metadata": {
        "id": "foqpXiQ-4VRQ"
      },
      "execution_count": null,
      "outputs": []
    },
    {
      "cell_type": "code",
      "source": [
        "!wc Parfum_Armenian-freq-diff-all.tsv"
      ],
      "metadata": {
        "id": "za80HLZ0LzxP"
      },
      "execution_count": null,
      "outputs": []
    },
    {
      "cell_type": "code",
      "source": [
        "!mv Parfum_Armenian-freq-diff-all.tsv Parfum_Armenian-freq-diff-all-v01.tsv"
      ],
      "metadata": {
        "id": "O9zVIsQOL4HU"
      },
      "execution_count": 68,
      "outputs": []
    },
    {
      "cell_type": "code",
      "source": [
        "# Dowloading the file with corrections\n",
        "!wget https://heibox.uni-heidelberg.de/f/14706c04a4024b2f937d/?dl=1\n",
        "!mv index.html?dl=1 Parfum_Armenian-freq-diff-all.tsv"
      ],
      "metadata": {
        "id": "D291v87sL_yK"
      },
      "execution_count": null,
      "outputs": []
    },
    {
      "cell_type": "code",
      "source": [
        "!wc Parfum_Armenian-freq-diff-all.tsv"
      ],
      "metadata": {
        "id": "vWwzIBruMGBJ",
        "colab": {
          "base_uri": "https://localhost:8080/"
        },
        "outputId": "f2527650-6790-481c-b5fb-ca2b11402475"
      },
      "execution_count": 70,
      "outputs": [
        {
          "output_type": "stream",
          "name": "stdout",
          "text": [
            "  325  2864 26793 Parfum_Armenian-freq-diff-all.tsv\n"
          ]
        }
      ]
    },
    {
      "cell_type": "code",
      "source": [
        "!head -n 40 Parfum_Armenian-freq-diff-all.tsv"
      ],
      "metadata": {
        "id": "zA4RQMrVMEzo"
      },
      "execution_count": null,
      "outputs": []
    },
    {
      "cell_type": "code",
      "source": [
        "!tail -n 40 Parfum_Armenian-freq-diff-all.tsv"
      ],
      "metadata": {
        "id": "cL-jkZdJMlqz"
      },
      "execution_count": null,
      "outputs": []
    },
    {
      "cell_type": "code",
      "source": [
        "LTWrongCorrectW, DWrongCorrectW = readCorrections(1, 4, '/content/Parfum_Armenian-freq-diff-all.tsv', SFOut = 'Parfum_Armenian-freq-diff-WrCoWForm.tsv')\n",
        "LTWrongCorrectL, DWrongCorrectL = readCorrections(3, 6, '/content/Parfum_Armenian-freq-diff-all.tsv', SFOut = 'Parfum_Armenian-freq-diff-WrCoLems.tsv')\n",
        "LTWrongCorrectWf, DWrongCorrectWf = readCorrectionsFrq(1, 4, 9, '/content/Parfum_Armenian-freq-diff-all.tsv', SFOut = 'Parfum_Armenian-freq-diff-WrCoWFormF.tsv')\n",
        "LTWrongCorrectLf, DWrongCorrectLf = readCorrectionsFrq(3, 6, 9, '/content/Parfum_Armenian-freq-diff-all.tsv', SFOut = 'Parfum_Armenian-freq-diff-WrCoLemsF.tsv')"
      ],
      "metadata": {
        "id": "WWBdvnSIueGP",
        "colab": {
          "base_uri": "https://localhost:8080/"
        },
        "outputId": "12bfc1fe-8041-402e-87f8-44f01bf31f86"
      },
      "execution_count": 74,
      "outputs": [
        {
          "output_type": "stream",
          "name": "stdout",
          "text": [
            "ինճ\tինձ\tինչ\n",
            "առջնից\tառջև\tառջևից\n",
            "ինճ\tինչ\tինձ\n",
            "172\n",
            "ինճ\tինչ\tես\n",
            "գիտել\tգիտենալ\tիմանալ\n",
            "206\n",
            "ինճ\tինձ\tինչ\n",
            "առջնից\tառջև\tառջևից\n",
            "ինճ\tինչ\tինձ\n",
            "172\n",
            "ինճ\tինչ\tես\n",
            "գիտել\tգիտենալ\tիմանալ\n",
            "206\n"
          ]
        }
      ]
    },
    {
      "cell_type": "code",
      "source": [
        "print(LTWrongCorrectW)\n",
        "print(LTWrongCorrectL)\n",
        "print(LTWrongCorrectWf)\n",
        "print(LTWrongCorrectLf)"
      ],
      "metadata": {
        "colab": {
          "base_uri": "https://localhost:8080/"
        },
        "id": "SbV1WbRkQ4FB",
        "outputId": "e3170176-a87a-497c-cf1c-5f6cdc5d77b1"
      },
      "execution_count": 75,
      "outputs": [
        {
          "output_type": "stream",
          "name": "stdout",
          "text": [
            "[('[մերճակա]', '[մերձակա]'), ('[առջն]', '[առջև]'), ('[թեթնություն]', '[թեթևություն]'), ('[Եթենա]', '[եթե նա]'), ('[ննա]', '[նա]'), ('[ճեռքերն]', '[ձեռքից]'), ('[ճայն]', '[ձայն]'), ('[ճեռքով]', '[ձեռքով]'), ('[այլնս]', '[այլևս]'), ('[ետնի]', '[ետևի]'), ('[կեղնները]', '[կեղևները]'), ('[ճկան]', '[ձկան]'), ('[ննա]', '[նա]'), ('[բանաձնի]', '[բանաձևի]'), ('[ճեր]', '[ձեր]'), ('[առնտրական]', '[առևտրական]'), ('[արնելյան]', '[արևելյան]'), ('[կուղնորվի]', '[կուղևորվի]'), ('[նս]', '[ևս]'), ('[հետնեց]', '[հետևել]'), ('[նուխիսկ]', '[նույնիսկ]'), ('[երնույթ]', '[երևույթ]'), ('[քրտնքով]', '[քրտինքով]'), ('[արվարճանում]', '[արվարձանում]'), ('[անճամբ]', '[անձամբ]'), ('[ճայնը]', '[ձայնը]'), ('[ճգվում]', '[ձգվում]'), ('[ճիու]', '[ձիու]'), ('[դարճնում]', '[դարձնում]'), ('[ուղնորվում]', '[ուղևորվում ]'), ('[իջնանատան]', '[իջևանատան]'), ('[ճգտում]', '[ձգտում]'), ('[դրսնորում]', '[դրսևորում]'), ('[արվարճանի]', '[արվարձանի]'), ('[ետնում]', '[ետևում]'), ('[ճնավորված]', '[ձևավորված]'), ('[Հետնաբար]', '[հետևաբար]'), ('[այլնս]', '[այլևս]'), ('[Շավանաբար]', '[հավանաբար]'), ('[սկզբիցնեթ]', '[սկզբիցևեթ]'), ('[միջն]', '[միջև]'), ('[համաճայնության]', '[համաձայնություն]'), ('[Թերնս]', '[թերևս]'), ('[տերնի]', '[տերև]'), ('[թնատակերի]', '[թևատակ]'), ('[դոււս]', '[դուրս]'), ('[բարճրացավ]', '[բարձրանալ]'), ('[երկարատն]', '[երկարատև]'), ('[նախնառաջ]', '[նախևառաջ]'), ('[ներքնից]', '[ներքև]'), ('[առջնից]', '[առջև]'), ('[ճեռնոցագործական]', '[ձեռնոցագործական]'), ('[հարնան]', '[գարնան]'), ('[ճգտումը]', '[ձգտումը]'), ('[առջնում]', '[առջևում]'), ('[ճմռանը]', '[ձմռանը]'), ('[սնահեր]', '[սևահեր]'), ('[ծանրութեթն]', '[ծանրութեթև]'), ('[ճագի]', '[ձագի]'), ('[Այլնս]', '[այլևս]'), ('[ինճ]', '[ինձ]'), ('[ճեռքն]', '[ձեռքն]'), ('[արճագանք]', '[արձագանք]'), ('[ճմեռ]', '[ձմեռ]'), ('[պառկածէրգերեզմանատանվրա]', '[պառկած էր գերեզմանատան վրա]'), ('[ճմերուկների]', '[ձմերուկների]'), ('[ունողկալի]', '[ու նողկալի]'), ('[գլխապտույտնե]', '[գլխապտույտներ]'), ('[ճայնի]', '[ձայնի]'), ('[ճկների]', '[ձկների]'), ('[այլնայլ]', '[այլևայլ]'), ('[ճնականություններից]', '[ձևականություններից]'), ('[չուննորներին]', '[չունևորներին]'), ('[արճակվող]', '[արձակվել]'), ('[խամարդ]', '[տղամարդ]'), ('[Միգուցենա]', '[միգուցե նա]'), ('[ջղաճգութու]', '[Ջղաձգություն]'), ('[Դետեսնում]', '[դե տեսնում ]'), ('[բարճրաց]', '[բարձրացնել]'), ('[ինճ]', '[ինձ]'), ('[Որովհետն]', '[որովհետև]'), ('[ննույնիսկ]', '[նույնիսկ]'), ('[հուսահատեգնում]', '[հեւսահատեցնել]'), ('[որնրան]', '[որ նրան]'), ('[Ջգազմունքներից]', '[Զգացմունք]'), ('[մնահավատությոն]', '[սնահավատություն]'), ('[հեթանոսա]', '[հեթանոսացում]'), ('[խարույկՄ]', '[խարույկ]'), ('[տուցում]', '[մատուցում]'), ('[նականռթյան]', '[բանականություն]'), ('[անձր]', '[անձ, անձրև]'), ('[տարօրի]', '[տարօրինակ]'), ('[թնիկները]', '[թևիկ]'), ('[աստվածավախու]', '[աստվածավախություն]'), ('[բարճր]', '[բարձր]'), ('[լավէ]', '[լավ է]'), ('[Թռենել]', '[թռնել]'), ('[հանճնեց]', '[հանձնել]'), ('[Դհյոյում]', '[Դյո]'), ('[տակիզ]', '[տակից]'), ('[առջն]', '[առջև]'), ('[ետնից]', '[ետևից]'), ('[միջն]', '[միջև]'), ('[այնուհետն]', '[այնուհետև]'), ('[բացարճակապես]', '[բացարձակապես]'), ('[որնէ]', '[որևէ]'), ('[այլնս]', '[այլևս]'), ('[թեթն]', '[թեթև]'), ('[թեթնակի]', '[թեթևակի]'), ('[որնէ]', '[որևէ]'), ('[ետնում]', '[ետևում]'), ('[արնի]', '[արևի]'), ('[միննույն]', '[միևնույն]'), ('[վերնում]', '[վերևում]'), ('[ինճ]', '[ինչ]'), ('[արճակում]', '[արձակում]'), ('[թերնս]', '[թերևս]'), ('[երբնիցե]', '[երբևիցե]'), ('[ճեռքը]', '[ձեռքը]'), ('[երնակայության]', '[երևակայության]'), ('[արնմուտք]', '[արևմուտք]'), ('[ճեռք]', '[ձեռք]'), ('[ճեռքի]', '[ձեռքի]'), ('[ճայնով]', '[ձայնով]'), ('[նան]', '[նաև]'), ('[դեռնս]', '[դեռևս]'), ('[ճեռքերը]', '[ձեռքերը]'), ('[հետնում]', '[հետևում]'), ('[արճակող]', '[արձակող]'), ('[որնիցե]', '[որևիցե]'), ('[դեռնս]', '[դեռևս]'), ('[այլնս]', '[այլևս]'), ('[ճեռքին]', '[ձեռքին]'), ('[արնմտյան]', '[արևմտյան]'), ('[այլես]', '[այլևս]'), ('[Նախնառաջ]', '[նախևառաջ]'), ('[հոգնոր]', '[հոգևոր]'), ('[ճեռքերով]', '[ձեռքերով]'), ('[ներքնում]', '[ներքևում]'), ('[համարճակվում]', '[համարձակվում]'), ('[արնելք]', '[արևելք]'), ('[առանճին]', '[առանձին]'), ('[արնմուտքից]', '[արևմուտքից]'), ('[երնակայական]', '[երևակայական]'), ('[թնածում]', '[թևածում]'), ('[բանաճնի]', '[բանաձևի]'), ('[դարճավ]', '[դարձավ]'), ('[բանաճնը]', '[բանաձևը]'), ('[թեթնացած]', '[թեթևացած]'), ('[հետնելով]', '[հետևելով]'), ('[հետնել]', '[հետևել]'), ('[կարնոր]', '[կարևոր]'), ('[ճիու]', '[ձիու]'), ('[հեղճուցիչ]', '[հեղձուցիչ]'), ('[անճնական]', '[անձնական]'), ('[առջնից]', '[առջևից]'), ('[երնում]', '[երևում]'), ('[ինճ]', '[ինձ]'), ('[փորճ]', '[փորձ]'), ('[բանաձնը]', '[բանաձևը]'), ('[եթենա]', '[եթե]'), ('[ինճ]', '[ինձ]'), ('[փորճն]', '[փորձն]'), ('[բանաձն]', '[բանաձևն]'), ('[բանաճն]', '[բանաձևն]'), ('[բարճրացնել]', '[բարձրացնել]'), ('[Այլնս]', '[այլևս]'), ('[սնահեր]', '[սևահեր]'), ('[բացարճակ]', '[բացարձակ]'), ('[ճգտելով]', '[ձգտելով]'), ('[բանաճներ]', '[բանաձևեր]'), ('[թեն]', '[թեև]'), ('[տերնները]', '[տերևերը]'), ('[բարճունքներում]', '[բարձունքներում]'), ('[առնտուրը]', '[առևտուրը]'), ('[անճամբ]', '[անձամբ]'), ('[օթնան]', '[օթևան]'), ('[բանաճներով]', '[բանաձներով]'), ('[արճակել]', '[արձակել]'), ('[բնեռը]', '[բևեռը]'), ('[օճեր]', '[օձեր]'), ('[ոջ]', '[ոչ]'), ('[անձրնը]', '[անձրևը]'), ('[թեթն]', '[թեթև]'), ('[ճգում]', '[ձգում]'), ('[տաքագնում]', '[տաքացնում]'), ('[Հնայած]', '[Չնայած]'), ('[ճեռքերի]', '[Ձեռքերի]'), ('[այխքան]', '[այդքան]'), ('[ճնացրեց]', '[ձևացրեց]'), ('[երնակայությունների]', '[երևակայությունների]'), ('[առջն]', '[առջև]'), ('[բարճր]', '[բարձր]')]\n",
            "[('[գաղտագող]', '[գաղտագողի]'), ('[լաուրա]', '[Լաուրա]'), ('[տաններոն]', '[Տաններոն]'), ('[մերճակա]', '[մերձակա]'), ('[ռանալել]', '[կռանալ]'), ('[Տերն]', '[Տեր]'), ('[ճեռք]', '[ձեռք]'), ('[կարագից]', '[կարագ]'), ('[ճայն]', '[ձայն]'), ('[ճեռք]', '[ձեռք]'), ('[այլնս]', '[այլևս]'), ('[ետուն]', '[ետև]'), ('[կեղն]', '[կեղև]'), ('[լուսաբացի]', '[լուսաբաց]'), ('[շուրջբոլոր]', '[շուրջբոլորը]'), ('[ճիկ]', '[ձուկ]'), ('[դիմափոշու]', '[դիմափոշի]'), ('[ննա]', '[նա]'), ('[բանաձին]', '[բանաձև]'), ('[ճեր]', '[դուք]'), ('[առնտրական]', '[առևտրական]'), ('[արնելյան]', '[արևելյան]'), ('[կուղնոր]', '[ուղևորվել]'), ('[փափկենալ]', '[փափկել]'), ('[իս]', '[ևս]'), ('[հետնել]', '[հետևել]'), ('[փնթփնթել]', '[փնթփնթալ]'), ('[մեսինա]', '[Մեսինա]'), ('[նուխիսկ]', '[նույնիսկ]'), ('[քացնել]', '[չքանալ]'), ('[երնույթ]', '[երևույթ]'), ('[քրտնք]', '[քրտինք]'), ('[արվարճան]', '[արվարձան]'), ('[անճամբ]', '[անձամբ]'), ('[ճայն]', '[ձայն]'), ('[ճգվել]', '[ձգվել]'), ('[թունելի]', '[թունել]'), ('[բատիստ]', '[Բատիստ]'), ('[ճիու]', '[ձի]'), ('[դարճնել]', '[դարձնել]'), ('[ուղնորվել]', '[ուղևորվել]'), ('[ռահել]', '[կռահել]'), ('[Ռիշին]', '[Ռիշի]'), ('[լաուրային]', '[Լաուրա]'), ('[իջնանատան]', '[իջևանատուն]'), ('[Գրասյան]', '[գրասյուն]'), ('[ճգտել]', '[ձգտել]'), ('[դրսնոր]', '[դրսևորել]'), ('[արվարճան]', '[արվարձան]'), ('[նվիրակար]', '[ամենագարշահոտ]'), ('[ետնել]', '[ետև]'), ('[ծծմոր]', '[ծծմայր]'), ('[ծծմոր]', '[ծծմայր]'), ('[ճնավորվել]', '[ձևավորվել]'), ('[հետնաբար]', '[հետևաբար]'), ('[ծծմոր]', '[ծծմայր]'), ('[կարամելի]', '[կարամել]'), ('[ակար]', '[ամենատանջալի]'), ('[ռալ]', '[չռել]'), ('[կոցել]', '[կկոցել]'), ('[ոռնել]', '[ոռնալ]'), ('[ոռնանալ]', '[ոռնացող]'), ('[որպիսիք]', '[որպիսին]'), ('[միակին]', '[միակ]'), ('[վերապրի]', '[վերապրել]'), ('[գոլորշին]', '[գոլորշի]'), ('[կարճ]', '[ամենաբարակ]'), ('[սանդալի]', '[սանդալ]'), ('[վերոն]', '[վերև]'), ('[ազդիր]', '[ազդր]'), ('[մաշկան]', '[մաշկ]'), ('[գիտել]', '[գիտենալ]'), ('[ավականանալ]', '[բավականացնել]'), ('[ծաղկեփին]', '[ծազկեփունջ]'), ('[հագել]', '[հագնել]'), ('[հարնան]', '[գարուն]'), ('[ճգտում]', '[ձգտում]'), ('[առջին]', '[առջև]'), ('[ճմիռ]', '[ձմեռ]'), ('[սնահ]', '[սևահեր]'), ('[սեփականանալ]', '[սեփականացնել]'), ('[նկուղի]', '[նկուղ]'), ('[ծանրութեթ]', '[ծանրութեթև]'), ('[արկիղ]', '[արկղ]'), ('[շրթ]', '[շրթներկ]'), ('[ճագ]', '[ձագ]'), ('[դողանալ]', '[դողալ]'), ('[պատկերանալ]', '[պատկերացնել]'), ('[այլնս]', '[այլևս]'), ('[վախել]', '[վախեցնել]'), ('[լինել]', '[ես]'), ('[կառափնատեղ]', '[կառափնատեղի]'), ('[կառափնատեղիղ]', '[կառափնատեղի]'), ('[ճեռք]', '[ձեռք]'), ('[արճագանք]', '[արձագանք]'), ('[ըյուսքին]', '[Ջյուսքինդ]'), ('[նվիրական]', '[ամենահանճարեղ]'), ('[ակտիր]', '[ամենագարշելի]'), ('[չօդափոխել]', '[օդափոխել]'), ('[չլվացնել]', '[լվանա]'), ('[ճմեռ]', '[ձմեռ]'), ('[ճմերուկ]', '[ձմերուկ]'), ('[ուշաթափեցնել]', '[ուշաթափել]'), ('[լվացնել]', '[լվանալ]'), ('[ճայն]', '[ձայն]'), ('[ճիկ]', '[ձուկ]'), ('[ծծումոր]', '[ծծմայր]'), ('[քրծեն]', '[քրծենի]'), ('[արկիղ]', '[արկղ]'), ('[այլնայլ]', '[այլևայլ]'), ('[ճնականություն]', '[ձևականություն]'), ('[չուննոր]', '[չունևոր]'), ('[կխնդրել]', '[խնդրել]'), ('[երակրել]', '[կերակրել]'), ('[պիս]', '[պես]'), ('[փինջ]', '[փունջ]'), ('[խկացնել]', '[չխկացնել]'), ('[խեցամաննե]', '[խեցաման]'), ('[գանգրան]', '[գանգրանալ]'), ('[օտարին]', '[օտար]'), ('[կարամելից]', '[կարամել]'), ('[նվիրար]', '[ամենապարզունակ]'), ('[ունեմ]', '[ունենալ]'), ('[քիթր]', '[քիթ]'), ('[աշխարհր]', '[աշխարհ]'), ('[ոստրամոխրագույնի]', '[ոստրամոխրագույն]'), ('[անկշտել]', '[անկշտում]'), ('[ոռինոց]', '[ոռնոց]'), ('[ճղճիղան]', '[ճղճղան]'), ('[դյո]', '[Դյո]'), ('[ժանտախտիգ]', '[ժանտախտից]'), ('[առուն]', '[առջև]'), ('[ետ]', '[ետև]'), ('[միջն]', '[միջև]'), ('[այնուհետ]', '[այնուհետև]'), ('[բացարճակապես]', '[բացարձակապես]'), ('[որ]', '[որևէ]'), ('[այլնս]', '[այլևս]'), ('[թեթ]', '[թեթև]'), ('[թեթնակ]', '[թեթևակի]'), ('[որ]', '[որևէ]'), ('[ետին]', '[ետև]'), ('[արն]', '[արև]'), ('[միննույն]', '[միևնույն]'), ('[վերն]', '[վերև]'), ('[ինճ]', '[ինչ]'), ('[արճակ]', '[արձակել]'), ('[թերուն]', '[թերևս]'), ('[մուշկի]', '[մուշկ]'), ('[երբնիցե]', '[երբևիցե]'), ('[ճեռք]', '[ձեռք]'), ('[տեզ]', '[տիզ]'), ('[երնակայություն]', '[երևակայություն]'), ('[արնմուտք]', '[արևմուտք]'), ('[ճեռք]', '[ձեռք]'), ('[ճեռք]', '[ձեռք]'), ('[ճայն]', '[ձայն]'), ('[նան]', '[նաև]'), ('[դեռին]', '[դեռևս]'), ('[ճեռք]', '[ձեռք]'), ('[հետնել]', '[հետևել]'), ('[արճակել]', '[արձակել]'), ('[որնիցե]', '[որևիցե]'), ('[դեռնս]', '[դեռևս]'), ('[այլնս]', '[այլևս]'), ('[շրթ]', '[շրթներկ]'), ('[ճեռք]', '[ձեռք]'), ('[արնմտյան]', '[արևմտյան]'), ('[այլես]', '[այլևս]'), ('[Նախնառաջ]', '[նախևառաջ]'), ('[հոգնոր]', '[հոգևոր]'), ('[խունկի]', '[խունկ]'), ('[ճեռք]', '[ձեռք]'), ('[ներք]', '[ներքև]'), ('[կաշին]', '[կաշի]'), ('[ազդիր]', '[ազդր]'), ('[դահճ]', '[դահիճ]'), ('[համարճակվել]', '[համարձակվել]'), ('[արնելք]', '[արևելք]'), ('[լցրել]', '[լցնել]'), ('[առանճ]', '[առանձին]'), ('[արնմուտք]', '[արևմուտք]'), ('[երնակայական]', '[երևակայական]'), ('[թնածել]', '[թևածել]'), ('[բանաճին]', '[բանաձև]'), ('[բանաճին]', '[բանաձև]'), ('[թեթնանալ]', '[թեթևանալ]'), ('[հետնել]', '[հետևել]'), ('[հետնել]', '[հետևել]'), ('[կարնոր]', '[կարևոր]'), ('[ճի]', '[ձի]'), ('[հեղճուցիչ]', '[հեղձուցիչ]'), ('[անճնական]', '[անձնական]'), ('[անորսալ]', '[անորսալի]'), ('[գաղտագող]', '[գաղտագողի]'), ('[առուջ]', '[առջև]'), ('[երնել]', '[երևալ]'), ('[ինճ]', '[ես]'), ('[փնթփնթաց]', '[փնթփնթալ]'), ('[փորճ]', '[փորձ]'), ('[բանաձին]', '[բանաձև]'), ('[եթենա]', '[եթե]'), ('[ինճ]', '[ես]'), ('[փորճ]', '[փորձ]'), ('[ալուֆ]', '[ալֆա]'), ('[բանաձ]', '[բանաձև]'), ('[բանաճ]', '[բանաձև]'), ('[թքած]', '[թքել]'), ('[բարճրանալ]', '[բարձրացնել]'), ('[Այլիս]', '[այլևս]'), ('[կավինավեհ]', '[ամենավեհ]'), ('[սնահեր]', '[սևահեր]'), ('[պոռթում]', '[պոռթկում]'), ('[բացարճակ]', '[բացարձակ]'), ('[բանաճ]', '[բանաձև]'), ('[թեն]', '[թեև]'), ('[տերն]', '[տերև]'), ('[շրթ]', '[շրթներկ]'), ('[բարճունք]', '[բարձունք]'), ('[ջրալ]', '[ջրալի]'), ('[թորվել]', '[թորել]'), ('[խլթխլթել]', '[խլթխլթալ]'), ('[առնտուր]', '[առևտուր]'), ('[անճամ]', '[անձամբ]'), ('[օթին]', '[օթևան]'), ('[բանաճ]', '[բանաձև]'), ('[արճակել]', '[արձակել]'), ('[բնեռ]', '[բևեռ]'), ('[օճ]', '[օձ]'), ('[ոջ]', '[ոչ]'), ('[անձր]', '[անձրև]'), ('[թեթն]', '[թեթև]'), ('[ճգալ]', '[ձգել]'), ('[լերել]', '[ուտել]'), ('[տաքագնել]', '[տաքացնել]'), ('[Հնայած]', '[Չնայած]'), ('[ճեռք]', '[ձեռք]'), ('[շրթ]', '[շրթներկ]'), ('[այխքան]', '[այդքան]'), ('[նարնջենու]', '[նարնջենի]'), ('[թաքչել]', '[թաքցնել]'), ('[ճնալ]', '[ձևացնել]'), ('[զնգզնգել]', '[զնգզնգալ]'), ('[գիտել]', '[իմանալ]'), ('[բարճր]', '[բարձր]')]\n",
            "[('[մերճակա]', '[մերձակա]', '4'), ('[առջն]', '[առջև]', '4'), ('[թեթնություն]', '[թեթևություն]', '4'), ('[Եթենա]', '[եթե նա]', '4'), ('[ննա]', '[նա]', '4'), ('[ճեռքերն]', '[ձեռքից]', '4'), ('[ճայն]', '[ձայն]', '4'), ('[ճեռքով]', '[ձեռքով]', '4'), ('[այլնս]', '[այլևս]', '4'), ('[ետնի]', '[ետևի]', '4'), ('[կեղնները]', '[կեղևները]', '4'), ('[ճկան]', '[ձկան]', '4'), ('[ննա]', '[նա]', '4'), ('[բանաձնի]', '[բանաձևի]', '4'), ('[ճեր]', '[ձեր]', '4'), ('[առնտրական]', '[առևտրական]', '4'), ('[արնելյան]', '[արևելյան]', '4'), ('[կուղնորվի]', '[կուղևորվի]', '4'), ('[նս]', '[ևս]', '4'), ('[հետնեց]', '[հետևել]', '4'), ('[նուխիսկ]', '[նույնիսկ]', '4'), ('[երնույթ]', '[երևույթ]', '4'), ('[քրտնքով]', '[քրտինքով]', '4'), ('[արվարճանում]', '[արվարձանում]', '4'), ('[անճամբ]', '[անձամբ]', '4'), ('[ճայնը]', '[ձայնը]', '4'), ('[ճգվում]', '[ձգվում]', '4'), ('[ճիու]', '[ձիու]', '4'), ('[դարճնում]', '[դարձնում]', '4'), ('[ուղնորվում]', '[ուղևորվում ]', '4'), ('[իջնանատան]', '[իջևանատան]', '4'), ('[ճգտում]', '[ձգտում]', '4'), ('[դրսնորում]', '[դրսևորում]', '3'), ('[արվարճանի]', '[արվարձանի]', '3'), ('[ետնում]', '[ետևում]', '3'), ('[ճնավորված]', '[ձևավորված]', '3'), ('[Հետնաբար]', '[հետևաբար]', '3'), ('[այլնս]', '[այլևս]', '3'), ('[Շավանաբար]', '[հավանաբար]', '3'), ('[սկզբիցնեթ]', '[սկզբիցևեթ]', '3'), ('[միջն]', '[միջև]', '3'), ('[համաճայնության]', '[համաձայնություն]', '3'), ('[Թերնս]', '[թերևս]', '3'), ('[տերնի]', '[տերև]', '3'), ('[թնատակերի]', '[թևատակ]', '3'), ('[դոււս]', '[դուրս]', '3'), ('[բարճրացավ]', '[բարձրանալ]', '3'), ('[երկարատն]', '[երկարատև]', '3'), ('[նախնառաջ]', '[նախևառաջ]', '3'), ('[ներքնից]', '[ներքև]', '3'), ('[առջնից]', '[առջև]', '3'), ('[ճեռնոցագործական]', '[ձեռնոցագործական]', '3'), ('[հարնան]', '[գարնան]', '3'), ('[ճգտումը]', '[ձգտումը]', '3'), ('[առջնում]', '[առջևում]', '3'), ('[ճմռանը]', '[ձմռանը]', '3'), ('[սնահեր]', '[սևահեր]', '3'), ('[ծանրութեթն]', '[ծանրութեթև]', '3'), ('[ճագի]', '[ձագի]', '3'), ('[Այլնս]', '[այլևս]', '3'), ('[ինճ]', '[ինձ]', '3'), ('[ճեռքն]', '[ձեռքն]', '3'), ('[արճագանք]', '[արձագանք]', '3'), ('[ճմեռ]', '[ձմեռ]', '2'), ('[պառկածէրգերեզմանատանվրա]', '[պառկած էր գերեզմանատան վրա]', '2'), ('[ճմերուկների]', '[ձմերուկների]', '2'), ('[ունողկալի]', '[ու նողկալի]', '2'), ('[գլխապտույտնե]', '[գլխապտույտներ]', '2'), ('[ճայնի]', '[ձայնի]', '2'), ('[ճկների]', '[ձկների]', '2'), ('[այլնայլ]', '[այլևայլ]', '2'), ('[ճնականություններից]', '[ձևականություններից]', '2'), ('[չուննորներին]', '[չունևորներին]', '2'), ('[արճակվող]', '[արձակվել]', '2'), ('[խամարդ]', '[տղամարդ]', '2'), ('[Միգուցենա]', '[միգուցե նա]', '2'), ('[ջղաճգութու]', '[Ջղաձգություն]', '2'), ('[Դետեսնում]', '[դե տեսնում ]', '2'), ('[բարճրաց]', '[բարձրացնել]', '2'), ('[ինճ]', '[ինձ]', '2'), ('[Որովհետն]', '[որովհետև]', '2'), ('[ննույնիսկ]', '[նույնիսկ]', '2'), ('[հուսահատեգնում]', '[հեւսահատեցնել]', '2'), ('[որնրան]', '[որ նրան]', '2'), ('[Ջգազմունքներից]', '[Զգացմունք]', '2'), ('[մնահավատությոն]', '[սնահավատություն]', '2'), ('[հեթանոսա]', '[հեթանոսացում]', '2'), ('[խարույկՄ]', '[խարույկ]', '2'), ('[տուցում]', '[մատուցում]', '2'), ('[նականռթյան]', '[բանականություն]', '2'), ('[անձր]', '[անձ, անձրև]', '2'), ('[տարօրի]', '[տարօրինակ]', '2'), ('[թնիկները]', '[թևիկ]', '2'), ('[աստվածավախու]', '[աստվածավախություն]', '2'), ('[բարճր]', '[բարձր]', '2'), ('[լավէ]', '[լավ է]', '2'), ('[Թռենել]', '[թռնել]', '2'), ('[հանճնեց]', '[հանձնել]', '2'), ('[Դհյոյում]', '[Դյո]', '2'), ('[տակիզ]', '[տակից]', '2'), ('[առջն]', '[առջև]', '36'), ('[ետնից]', '[ետևից]', '30'), ('[միջն]', '[միջև]', '22'), ('[այնուհետն]', '[այնուհետև]', '22'), ('[բացարճակապես]', '[բացարձակապես]', '21'), ('[որնէ]', '[որևէ]', '20'), ('[այլնս]', '[այլևս]', '19'), ('[թեթն]', '[թեթև]', '18'), ('[թեթնակի]', '[թեթևակի]', '17'), ('[որնէ]', '[որևէ]', '16'), ('[ետնում]', '[ետևում]', '16'), ('[արնի]', '[արևի]', '14'), ('[միննույն]', '[միևնույն]', '13'), ('[վերնում]', '[վերևում]', '13'), ('[ինճ]', '[ինչ]', '13'), ('[արճակում]', '[արձակում]', '12'), ('[թերնս]', '[թերևս]', '12'), ('[երբնիցե]', '[երբևիցե]', '11'), ('[ճեռքը]', '[ձեռքը]', '10'), ('[երնակայության]', '[երևակայության]', '10'), ('[արնմուտք]', '[արևմուտք]', '10'), ('[ճեռք]', '[ձեռք]', '10'), ('[ճեռքի]', '[ձեռքի]', '9'), ('[ճայնով]', '[ձայնով]', '9'), ('[նան]', '[նաև]', '8'), ('[դեռնս]', '[դեռևս]', '8'), ('[ճեռքերը]', '[ձեռքերը]', '8'), ('[հետնում]', '[հետևում]', '8'), ('[արճակող]', '[արձակող]', '8'), ('[որնիցե]', '[որևիցե]', '8'), ('[դեռնս]', '[դեռևս]', '8'), ('[այլնս]', '[այլևս]', '8'), ('[ճեռքին]', '[ձեռքին]', '7'), ('[արնմտյան]', '[արևմտյան]', '7'), ('[այլես]', '[այլևս]', '7'), ('[Նախնառաջ]', '[նախևառաջ]', '7'), ('[հոգնոր]', '[հոգևոր]', '6'), ('[ճեռքերով]', '[ձեռքերով]', '6'), ('[ներքնում]', '[ներքևում]', '6'), ('[համարճակվում]', '[համարձակվում]', '5'), ('[արնելք]', '[արևելք]', '5'), ('[առանճին]', '[առանձին]', '5'), ('[արնմուտքից]', '[արևմուտքից]', '5'), ('[երնակայական]', '[երևակայական]', '5'), ('[թնածում]', '[թևածում]', '5'), ('[բանաճնի]', '[բանաձևի]', '5'), ('[դարճավ]', '[դարձավ]', '5'), ('[բանաճնը]', '[բանաձևը]', '5'), ('[թեթնացած]', '[թեթևացած]', '5'), ('[հետնելով]', '[հետևելով]', '5'), ('[հետնել]', '[հետևել]', '5'), ('[կարնոր]', '[կարևոր]', '5'), ('[ճիու]', '[ձիու]', '5'), ('[հեղճուցիչ]', '[հեղձուցիչ]', '5'), ('[անճնական]', '[անձնական]', '5'), ('[առջնից]', '[առջևից]', '3'), ('[երնում]', '[երևում]', '3'), ('[ինճ]', '[ինձ]', '3'), ('[փորճ]', '[փորձ]', '3'), ('[բանաձնը]', '[բանաձևը]', '3'), ('[եթենա]', '[եթե]', '3'), ('[ինճ]', '[ինձ]', '3'), ('[փորճն]', '[փորձն]', '3'), ('[բանաձն]', '[բանաձևն]', '3'), ('[բանաճն]', '[բանաձևն]', '3'), ('[բարճրացնել]', '[բարձրացնել]', '3'), ('[Այլնս]', '[այլևս]', '3'), ('[սնահեր]', '[սևահեր]', '3'), ('[բացարճակ]', '[բացարձակ]', '3'), ('[ճգտելով]', '[ձգտելով]', '3'), ('[բանաճներ]', '[բանաձևեր]', '3'), ('[թեն]', '[թեև]', '3'), ('[տերնները]', '[տերևերը]', '3'), ('[բարճունքներում]', '[բարձունքներում]', '3'), ('[առնտուրը]', '[առևտուրը]', '3'), ('[անճամբ]', '[անձամբ]', '3'), ('[օթնան]', '[օթևան]', '3'), ('[բանաճներով]', '[բանաձներով]', '3'), ('[արճակել]', '[արձակել]', '3'), ('[բնեռը]', '[բևեռը]', '3'), ('[օճեր]', '[օձեր]', '3'), ('[ոջ]', '[ոչ]', '3'), ('[անձրնը]', '[անձրևը]', '3'), ('[թեթն]', '[թեթև]', '3'), ('[ճգում]', '[ձգում]', '3'), ('[տաքագնում]', '[տաքացնում]', '3'), ('[Հնայած]', '[Չնայած]', '3'), ('[ճեռքերի]', '[Ձեռքերի]', '3'), ('[այխքան]', '[այդքան]', '3'), ('[ճնացրեց]', '[ձևացրեց]', '3'), ('[երնակայությունների]', '[երևակայությունների]', '3'), ('[առջն]', '[առջև]', '3'), ('[բարճր]', '[բարձր]', '3')]\n",
            "[('[գաղտագող]', '[գաղտագողի]', '5'), ('[լաուրա]', '[Լաուրա]', '5'), ('[տաններոն]', '[Տաններոն]', '5'), ('[մերճակա]', '[մերձակա]', '4'), ('[ռանալել]', '[կռանալ]', '4'), ('[Տերն]', '[Տեր]', '4'), ('[ճեռք]', '[ձեռք]', '4'), ('[կարագից]', '[կարագ]', '4'), ('[ճայն]', '[ձայն]', '4'), ('[ճեռք]', '[ձեռք]', '4'), ('[այլնս]', '[այլևս]', '4'), ('[ետուն]', '[ետև]', '4'), ('[կեղն]', '[կեղև]', '4'), ('[լուսաբացի]', '[լուսաբաց]', '4'), ('[շուրջբոլոր]', '[շուրջբոլորը]', '4'), ('[ճիկ]', '[ձուկ]', '4'), ('[դիմափոշու]', '[դիմափոշի]', '4'), ('[ննա]', '[նա]', '4'), ('[բանաձին]', '[բանաձև]', '4'), ('[ճեր]', '[դուք]', '4'), ('[առնտրական]', '[առևտրական]', '4'), ('[արնելյան]', '[արևելյան]', '4'), ('[կուղնոր]', '[ուղևորվել]', '4'), ('[փափկենալ]', '[փափկել]', '4'), ('[իս]', '[ևս]', '4'), ('[հետնել]', '[հետևել]', '4'), ('[փնթփնթել]', '[փնթփնթալ]', '4'), ('[մեսինա]', '[Մեսինա]', '4'), ('[նուխիսկ]', '[նույնիսկ]', '4'), ('[քացնել]', '[չքանալ]', '4'), ('[երնույթ]', '[երևույթ]', '4'), ('[քրտնք]', '[քրտինք]', '4'), ('[արվարճան]', '[արվարձան]', '4'), ('[անճամբ]', '[անձամբ]', '4'), ('[ճայն]', '[ձայն]', '4'), ('[ճգվել]', '[ձգվել]', '4'), ('[թունելի]', '[թունել]', '4'), ('[բատիստ]', '[Բատիստ]', '4'), ('[ճիու]', '[ձի]', '4'), ('[դարճնել]', '[դարձնել]', '4'), ('[ուղնորվել]', '[ուղևորվել]', '4'), ('[ռահել]', '[կռահել]', '4'), ('[Ռիշին]', '[Ռիշի]', '4'), ('[լաուրային]', '[Լաուրա]', '4'), ('[իջնանատան]', '[իջևանատուն]', '4'), ('[Գրասյան]', '[գրասյուն]', '4'), ('[ճգտել]', '[ձգտել]', '4'), ('[դրսնոր]', '[դրսևորել]', '3'), ('[արվարճան]', '[արվարձան]', '3'), ('[նվիրակար]', '[ամենագարշահոտ]', '3'), ('[ետնել]', '[ետև]', '3'), ('[ծծմոր]', '[ծծմայր]', '3'), ('[ծծմոր]', '[ծծմայր]', '3'), ('[ճնավորվել]', '[ձևավորվել]', '3'), ('[հետնաբար]', '[հետևաբար]', '3'), ('[ծծմոր]', '[ծծմայր]', '3'), ('[կարամելի]', '[կարամել]', '3'), ('[ակար]', '[ամենատանջալի]', '3'), ('[ռալ]', '[չռել]', '3'), ('[կոցել]', '[կկոցել]', '3'), ('[ոռնել]', '[ոռնալ]', '3'), ('[ոռնանալ]', '[ոռնացող]', '3'), ('[որպիսիք]', '[որպիսին]', '3'), ('[միակին]', '[միակ]', '3'), ('[վերապրի]', '[վերապրել]', '3'), ('[գոլորշին]', '[գոլորշի]', '3'), ('[կարճ]', '[ամենաբարակ]', '3'), ('[սանդալի]', '[սանդալ]', '3'), ('[վերոն]', '[վերև]', '3'), ('[ազդիր]', '[ազդր]', '3'), ('[մաշկան]', '[մաշկ]', '3'), ('[գիտել]', '[գիտենալ]', '3'), ('[ավականանալ]', '[բավականացնել]', '3'), ('[ծաղկեփին]', '[ծազկեփունջ]', '3'), ('[հագել]', '[հագնել]', '3'), ('[հարնան]', '[գարուն]', '3'), ('[ճգտում]', '[ձգտում]', '3'), ('[առջին]', '[առջև]', '3'), ('[ճմիռ]', '[ձմեռ]', '3'), ('[սնահ]', '[սևահեր]', '3'), ('[սեփականանալ]', '[սեփականացնել]', '3'), ('[նկուղի]', '[նկուղ]', '3'), ('[ծանրութեթ]', '[ծանրութեթև]', '3'), ('[արկիղ]', '[արկղ]', '3'), ('[շրթ]', '[շրթներկ]', '3'), ('[ճագ]', '[ձագ]', '3'), ('[դողանալ]', '[դողալ]', '3'), ('[պատկերանալ]', '[պատկերացնել]', '3'), ('[այլնս]', '[այլևս]', '3'), ('[վախել]', '[վախեցնել]', '3'), ('[լինել]', '[ես]', '3'), ('[կառափնատեղ]', '[կառափնատեղի]', '3'), ('[կառափնատեղիղ]', '[կառափնատեղի]', '3'), ('[ճեռք]', '[ձեռք]', '3'), ('[արճագանք]', '[արձագանք]', '3'), ('[ըյուսքին]', '[Ջյուսքինդ]', '2'), ('[նվիրական]', '[ամենահանճարեղ]', '2'), ('[ակտիր]', '[ամենագարշելի]', '2'), ('[չօդափոխել]', '[օդափոխել]', '2'), ('[չլվացնել]', '[լվանա]', '2'), ('[ճմեռ]', '[ձմեռ]', '2'), ('[ճմերուկ]', '[ձմերուկ]', '2'), ('[ուշաթափեցնել]', '[ուշաթափել]', '2'), ('[լվացնել]', '[լվանալ]', '2'), ('[ճայն]', '[ձայն]', '2'), ('[ճիկ]', '[ձուկ]', '2'), ('[ծծումոր]', '[ծծմայր]', '2'), ('[քրծեն]', '[քրծենի]', '2'), ('[արկիղ]', '[արկղ]', '2'), ('[այլնայլ]', '[այլևայլ]', '2'), ('[ճնականություն]', '[ձևականություն]', '2'), ('[չուննոր]', '[չունևոր]', '2'), ('[կխնդրել]', '[խնդրել]', '2'), ('[երակրել]', '[կերակրել]', '2'), ('[պիս]', '[պես]', '2'), ('[փինջ]', '[փունջ]', '2'), ('[խկացնել]', '[չխկացնել]', '2'), ('[խեցամաննե]', '[խեցաման]', '2'), ('[գանգրան]', '[գանգրանալ]', '2'), ('[օտարին]', '[օտար]', '2'), ('[կարամելից]', '[կարամել]', '2'), ('[նվիրար]', '[ամենապարզունակ]', '2'), ('[ունեմ]', '[ունենալ]', '2'), ('[քիթր]', '[քիթ]', '2'), ('[աշխարհր]', '[աշխարհ]', '2'), ('[ոստրամոխրագույնի]', '[ոստրամոխրագույն]', '2'), ('[անկշտել]', '[անկշտում]', '2'), ('[ոռինոց]', '[ոռնոց]', '2'), ('[ճղճիղան]', '[ճղճղան]', '2'), ('[դյո]', '[Դյո]', '2'), ('[ժանտախտիգ]', '[ժանտախտից]', '2'), ('[առուն]', '[առջև]', '36'), ('[ետ]', '[ետև]', '30'), ('[միջն]', '[միջև]', '22'), ('[այնուհետ]', '[այնուհետև]', '22'), ('[բացարճակապես]', '[բացարձակապես]', '21'), ('[որ]', '[որևէ]', '20'), ('[այլնս]', '[այլևս]', '19'), ('[թեթ]', '[թեթև]', '18'), ('[թեթնակ]', '[թեթևակի]', '17'), ('[որ]', '[որևէ]', '16'), ('[ետին]', '[ետև]', '16'), ('[արն]', '[արև]', '14'), ('[միննույն]', '[միևնույն]', '13'), ('[վերն]', '[վերև]', '13'), ('[ինճ]', '[ինչ]', '13'), ('[արճակ]', '[արձակել]', '12'), ('[թերուն]', '[թերևս]', '12'), ('[մուշկի]', '[մուշկ]', '12'), ('[երբնիցե]', '[երբևիցե]', '11'), ('[ճեռք]', '[ձեռք]', '10'), ('[տեզ]', '[տիզ]', '10'), ('[երնակայություն]', '[երևակայություն]', '10'), ('[արնմուտք]', '[արևմուտք]', '10'), ('[ճեռք]', '[ձեռք]', '10'), ('[ճեռք]', '[ձեռք]', '9'), ('[ճայն]', '[ձայն]', '9'), ('[նան]', '[նաև]', '8'), ('[դեռին]', '[դեռևս]', '8'), ('[ճեռք]', '[ձեռք]', '8'), ('[հետնել]', '[հետևել]', '8'), ('[արճակել]', '[արձակել]', '8'), ('[որնիցե]', '[որևիցե]', '8'), ('[դեռնս]', '[դեռևս]', '8'), ('[այլնս]', '[այլևս]', '8'), ('[շրթ]', '[շրթներկ]', '8'), ('[ճեռք]', '[ձեռք]', '7'), ('[արնմտյան]', '[արևմտյան]', '7'), ('[այլես]', '[այլևս]', '7'), ('[Նախնառաջ]', '[նախևառաջ]', '7'), ('[հոգնոր]', '[հոգևոր]', '6'), ('[խունկի]', '[խունկ]', '6'), ('[ճեռք]', '[ձեռք]', '6'), ('[ներք]', '[ներքև]', '6'), ('[կաշին]', '[կաշի]', '6'), ('[ազդիր]', '[ազդր]', '6'), ('[դահճ]', '[դահիճ]', '6'), ('[համարճակվել]', '[համարձակվել]', '5'), ('[արնելք]', '[արևելք]', '5'), ('[լցրել]', '[լցնել]', '5'), ('[առանճ]', '[առանձին]', '5'), ('[արնմուտք]', '[արևմուտք]', '5'), ('[երնակայական]', '[երևակայական]', '5'), ('[թնածել]', '[թևածել]', '5'), ('[բանաճին]', '[բանաձև]', '5'), ('[բանաճին]', '[բանաձև]', '5'), ('[թեթնանալ]', '[թեթևանալ]', '5'), ('[հետնել]', '[հետևել]', '5'), ('[հետնել]', '[հետևել]', '5'), ('[կարնոր]', '[կարևոր]', '5'), ('[ճի]', '[ձի]', '5'), ('[հեղճուցիչ]', '[հեղձուցիչ]', '5'), ('[անճնական]', '[անձնական]', '5'), ('[անորսալ]', '[անորսալի]', '5'), ('[գաղտագող]', '[գաղտագողի]', '5'), ('[առուջ]', '[առջև]', '3'), ('[երնել]', '[երևալ]', '3'), ('[ինճ]', '[ես]', '3'), ('[փնթփնթաց]', '[փնթփնթալ]', '3'), ('[փորճ]', '[փորձ]', '3'), ('[բանաձին]', '[բանաձև]', '3'), ('[եթենա]', '[եթե]', '3'), ('[ինճ]', '[ես]', '3'), ('[փորճ]', '[փորձ]', '3'), ('[ալուֆ]', '[ալֆա]', '3'), ('[բանաձ]', '[բանաձև]', '3'), ('[բանաճ]', '[բանաձև]', '3'), ('[թքած]', '[թքել]', '3'), ('[բարճրանալ]', '[բարձրացնել]', '3'), ('[Այլիս]', '[այլևս]', '3'), ('[կավինավեհ]', '[ամենավեհ]', '3'), ('[սնահեր]', '[սևահեր]', '3'), ('[պոռթում]', '[պոռթկում]', '3'), ('[բացարճակ]', '[բացարձակ]', '3'), ('[բանաճ]', '[բանաձև]', '3'), ('[թեն]', '[թեև]', '3'), ('[տերն]', '[տերև]', '3'), ('[շրթ]', '[շրթներկ]', '3'), ('[բարճունք]', '[բարձունք]', '3'), ('[ջրալ]', '[ջրալի]', '3'), ('[թորվել]', '[թորել]', '3'), ('[խլթխլթել]', '[խլթխլթալ]', '3'), ('[առնտուր]', '[առևտուր]', '3'), ('[անճամ]', '[անձամբ]', '3'), ('[օթին]', '[օթևան]', '3'), ('[բանաճ]', '[բանաձև]', '3'), ('[արճակել]', '[արձակել]', '3'), ('[բնեռ]', '[բևեռ]', '3'), ('[օճ]', '[օձ]', '3'), ('[ոջ]', '[ոչ]', '3'), ('[անձր]', '[անձրև]', '3'), ('[թեթն]', '[թեթև]', '3'), ('[ճգալ]', '[ձգել]', '3'), ('[լերել]', '[ուտել]', '3'), ('[տաքագնել]', '[տաքացնել]', '3'), ('[Հնայած]', '[Չնայած]', '3'), ('[ճեռք]', '[ձեռք]', '3'), ('[շրթ]', '[շրթներկ]', '3'), ('[այխքան]', '[այդքան]', '3'), ('[նարնջենու]', '[նարնջենի]', '3'), ('[թաքչել]', '[թաքցնել]', '3'), ('[ճնալ]', '[ձևացնել]', '3'), ('[զնգզնգել]', '[զնգզնգալ]', '3'), ('[գիտել]', '[իմանալ]', '3'), ('[բարճր]', '[բարձր]', '3')]\n"
          ]
        }
      ]
    },
    {
      "cell_type": "code",
      "source": [
        "# functions to compare two strings\n",
        "import os\n",
        "def getCmnPrefix(S1, S2):\n",
        "    common = os.path.commonprefix([S1, S2])\n",
        "    return common\n",
        "\n",
        "\n",
        "def getCmnSuffix(S1,S2):\n",
        "    S1r = S1[::-1]\n",
        "    S2r = S2[::-1]\n",
        "    commonR = getCmnPrefix(S1r, S2r)\n",
        "    common = commonR[::-1]\n",
        "    return common\n",
        "\n",
        "def getDifInfix(S1, S2, LContext = 0, RContext = 0):\n",
        "    IPLen = len(getCmnPrefix(S1, S2))\n",
        "    # print('IPLen', IPLen)\n",
        "    ISLen = len(getCmnSuffix(S1, S2))\n",
        "    # print('ISLen', ISLen)\n",
        "    diffInfix1 = S1[IPLen-LContext:-1*(ISLen)+RContext]\n",
        "    # print('S1', S1, IPLen-LContext, -1*(ISLen)+RContext)\n",
        "    diffInfix2 = S2[IPLen-LContext:-1*(ISLen)+RContext]\n",
        "    # print('S2', S2, IPLen-LContext, -1*(ISLen)+RContext)\n",
        "    return(diffInfix1, diffInfix2)\n",
        "\n",
        "def getDifSuffix(S1, S2, LContext = 0):\n",
        "    # used if common suffix == ''\n",
        "    IPLen = len(getCmnPrefix(S1, S2))\n",
        "    # print('IPLen', IPLen)\n",
        "    ISLen = len(getCmnSuffix(S1, S2))\n",
        "    # print('ISLen', ISLen)\n",
        "    if ISLen == 0:\n",
        "        diffSuffix1 = S1[IPLen-LContext:]\n",
        "        diffSuffix2 = S2[IPLen-LContext:]\n",
        "    else:\n",
        "        diffSuffix1 = ''\n",
        "        diffSuffix2 = ''\n",
        "    return(diffSuffix1, diffSuffix2)\n",
        "\n",
        "def getDifPrefix(S1, S2, RContext = 0):\n",
        "    # used if common suffix == ''\n",
        "    IPLen = len(getCmnPrefix(S1, S2))\n",
        "    # print('IPLen', IPLen)\n",
        "    ISLen = len(getCmnSuffix(S1, S2))\n",
        "    # print('ISLen', ISLen)\n",
        "    if IPLen == 0:\n",
        "        diffPrefix1 = S1[:-1*(ISLen)+RContext]\n",
        "        diffPrefix2 = S2[:-1*(ISLen)+RContext]\n",
        "    else:\n",
        "        diffPrefix1 = ''\n",
        "        diffPrefix2 = ''\n",
        "       \n",
        "    return(diffPrefix1, diffPrefix2)\n",
        "\n",
        "def getDiff(S1, S2, LContext = 0, RContext = 0):\n",
        "    IPLen = len(getCmnPrefix(S1, S2))\n",
        "    ISLen = len(getCmnSuffix(S1, S2))\n",
        "    if IPLen and ISLen:\n",
        "        diff1 = S1[IPLen-LContext:-1*(ISLen)+RContext]\n",
        "        diff2 = S2[IPLen-LContext:-1*(ISLen)+RContext]\n",
        "    elif IPLen: # there is a common prefix, find different suffixes\n",
        "        diff1 = S1[IPLen-LContext:]\n",
        "        diff2 = S2[IPLen-LContext:]\n",
        "    elif ISLen: # there is a common suffix, find different prefixes\n",
        "        diff1 = S1[:-1*(ISLen)+RContext]\n",
        "        diff2 = S2[:-1*(ISLen)+RContext]\n",
        "    else:\n",
        "        diff1 = S1\n",
        "        diff2 = S2\n",
        "    return (diff1, diff2)\n",
        "\n"
      ],
      "metadata": {
        "id": "w3nwDAXc_wEq"
      },
      "execution_count": 76,
      "outputs": []
    },
    {
      "cell_type": "code",
      "source": [
        "# first attempt, not used...\n",
        "'''\n",
        "def getDifInfix2X(S1, S2, LContext = 0, RContext = 0):\n",
        "    IPLen = len(getCmnPrefix(S1, S2))\n",
        "    ISLen = len(getCmnSuffix(S1, S2))\n",
        "\n",
        "    if LContext and RContext:\n",
        "        diffInfix1 = S1[IPLen-LContext:-1*(ISLen)+RContext]\n",
        "        diffInfix2 = S2[IPLen-LContext:-1*(ISLen)+RContext]\n",
        "        print('both')\n",
        "    elif LContext:\n",
        "        diffInfix1 = S1[IPLen-LContext:-1*(ISLen)]\n",
        "        diffInfix2 = S2[IPLen-LContext:-1*(ISLen)]\n",
        "        print('left')\n",
        "    elif RContext:\n",
        "        diffInfix1 = S1[IPLen:-1*(ISLen+RContext)]\n",
        "        diffInfix2 = S2[IPLen:-1*(ISLen+RContext)]\n",
        "        print('right')\n",
        "    else:\n",
        "        diffInfix1 = S1[IPLen:-1*ISLen]\n",
        "        diffInfix2 = S2[IPLen:-1*ISLen]\n",
        "        print('no-context')\n",
        "\n",
        "    return(diffInfix1, diffInfix2)\n",
        "\n",
        "\n",
        "\n",
        "def getDifPrefix(S1, S2, RContext = 0):\n",
        "    # used if common prefix == ''\n",
        "    IPLen = len(getCmnPrefix(S1, S2))\n",
        "    # print('IPLen', IPLen)\n",
        "    ISLen = len(getCmnSuffix(S1, S2))\n",
        "    # print('ISLen', ISLen)\n",
        "\n",
        "\n",
        "\n",
        "'''"
      ],
      "metadata": {
        "id": "OiP4EPl2Eene"
      },
      "execution_count": null,
      "outputs": []
    },
    {
      "cell_type": "code",
      "source": [
        "# testing\n",
        "P12 = getCmnPrefix('перепливи', 'перелови')\n",
        "S12 = getCmnSuffix('перепливи', 'перелови')\n",
        "# I1, I2 = getDifInfix('перепливи', 'перелови')\n",
        "# print(P12, S12)\n",
        "# print(I1, I2)\n",
        "\n",
        "I1, I2 = getDifInfix('перепливи', 'перелови', LContext = 0, RContext = 0)\n",
        "print(I1, I2)\n",
        "\n",
        "S1, S2 = getDifSuffix('розгубився', 'розгубивсь', LContext = 0)\n",
        "print(S1, S2)\n",
        "S1, S2 = getDifSuffix('розгубився', 'розгубивс', LContext = 0)\n",
        "print(S1, S2)\n",
        "\n",
        "S1, S2 = getDifPrefix('вловив', 'зловив', RContext = 0)\n",
        "print(S1, S2)\n",
        "S1, S2 = getDifPrefix('ловив', 'зловив', RContext = 0)\n",
        "print(S1, S2)\n",
        "\n",
        "print('new version....')\n",
        "I1, I2 = getDiff('перепливи', 'перелови', LContext = 1, RContext = 1)\n",
        "print(I1, I2)\n",
        "\n",
        "S1, S2 = getDiff('розгубився', 'розгубивсь', LContext = 1)\n",
        "print(S1, S2)\n",
        "S1, S2 = getDiff('розгубився', 'розгубивс', LContext = 1)\n",
        "print(S1, S2)\n",
        "\n",
        "S1, S2 = getDiff('вловив', 'зловив', RContext = 1)\n",
        "print(S1, S2)\n",
        "S1, S2 = getDiff('ловив', 'зловив', RContext = 1)\n",
        "print(S1, S2)\n",
        "\n"
      ],
      "metadata": {
        "colab": {
          "base_uri": "https://localhost:8080/"
        },
        "id": "XrcT9UPL_1G-",
        "outputId": "43c1e177-f1f8-4bb2-dc9e-97f62c1ee56c"
      },
      "execution_count": 77,
      "outputs": [
        {
          "output_type": "stream",
          "name": "stdout",
          "text": [
            "пли ло\n",
            "я ь\n",
            "я \n",
            "в з\n",
            " з\n",
            "new version....\n",
            "еплив елов\n",
            "ся сь\n",
            "ся с\n",
            "вл зл\n",
            "л зл\n"
          ]
        }
      ]
    },
    {
      "cell_type": "code",
      "source": [
        "FOut = open('Parfum_Armenian-freq-diff-Changes2.txt', 'w')\n",
        "\n",
        "DChanges = {}\n",
        "for SWrong, SRight in LTWrongCorrectW:\n",
        "    P12 = getCmnPrefix(SWrong, SRight)\n",
        "    S12 = getCmnSuffix(SWrong, SRight)\n",
        "    I1, I2 = getDiff(SWrong, SRight, LContext = 2, RContext =2)\n",
        "    try:\n",
        "        DChanges[(I1, I2)] += 1\n",
        "    except:\n",
        "        DChanges[(I1, I2)] = 1\n",
        "\n",
        "    print(SWrong, '(' , P12, '<', I1, '|', I2, '>', S12, ')', SRight)\n",
        "    FOut.write(f'{SWrong} ( {P12} < {I1} | {I2} > {S12} ) {SRight}\\n')\n",
        "\n",
        "for SWrong, SRight in LTWrongCorrectL:\n",
        "    P12 = getCmnPrefix(SWrong, SRight)\n",
        "    S12 = getCmnSuffix(SWrong, SRight)\n",
        "    I1, I2 = getDiff(SWrong, SRight, LContext = 2, RContext = 2)\n",
        "    try:\n",
        "        DChanges[(I1, I2)] += 1\n",
        "    except:\n",
        "        DChanges[(I1, I2)] = 1\n",
        "\n",
        "    print(SWrong, '(' , P12, '<', I1, '|', I2, '>', S12, ')', SRight)\n",
        "    FOut.write(f'{SWrong} ( {P12} < {I1} | {I2} > {S12} ) {SRight}\\n')\n",
        "FOut.flush()\n",
        "\n",
        "\n",
        "FOut = open('Parfum_Armenian-freq-diff-ChangeDict2.txt', 'w')\n",
        "for key, value in sorted(DChanges.items(), key=lambda item: item[1], reverse=True):\n",
        "    L, R = key\n",
        "    FOut.write(f'{L}\\t{R}\\t{value}\\n')\n",
        "\n",
        "FOut.flush()\n"
      ],
      "metadata": {
        "id": "WYvbFevMLh4f"
      },
      "execution_count": null,
      "outputs": []
    },
    {
      "cell_type": "code",
      "source": [
        "## the same with integration of frq information:\n",
        "FOut = open('ChangesF2.txt', 'w')\n",
        "\n",
        "DChanges = {}\n",
        "for SWrong, SRight, SFrq in LTWrongCorrectWf:\n",
        "    try:\n",
        "        IFrq = int(SFrq)\n",
        "    except:\n",
        "        IFrq = 1\n",
        "    P12 = getCmnPrefix(SWrong, SRight)\n",
        "    S12 = getCmnSuffix(SWrong, SRight)\n",
        "    I1, I2 = getDiff(SWrong, SRight, LContext = 2, RContext =2)\n",
        "    try:\n",
        "        DChanges[(I1, I2)] += IFrq\n",
        "    except:\n",
        "        DChanges[(I1, I2)] = IFrq\n",
        "\n",
        "    print(SWrong, '(' , P12, '<', I1, '|', I2, '>', S12, ')', SRight)\n",
        "    FOut.write(f'{SWrong} ( {P12} < {I1} | {I2} > {S12} ) {SRight}\\n')\n",
        "\n",
        "for SWrong, SRight, SFrq in LTWrongCorrectLf:\n",
        "    try:\n",
        "        IFrq = int(SFrq)\n",
        "    except:\n",
        "        IFrq = 1\n",
        "    P12 = getCmnPrefix(SWrong, SRight)\n",
        "    S12 = getCmnSuffix(SWrong, SRight)\n",
        "    I1, I2 = getDiff(SWrong, SRight, LContext = 2, RContext = 2)\n",
        "    try:\n",
        "        DChanges[(I1, I2)] += IFrq\n",
        "    except:\n",
        "        DChanges[(I1, I2)] = IFrq\n",
        "\n",
        "    print(SWrong, '(' , P12, '<', I1, '|', I2, '>', S12, ')', SRight)\n",
        "    FOut.write(f'{SWrong} ( {P12} < {I1} | {I2} > {S12} ) {SRight}\\n')\n",
        "FOut.flush()\n",
        "\n",
        "\n",
        "FOut = open('ChangeDictF2.txt', 'w')\n",
        "for key, value in sorted(DChanges.items(), key=lambda item: item[1], reverse=True):\n",
        "    L, R = key\n",
        "    if L != '' and R != '' and L != R:\n",
        "        FOut.write(f'{L}\\t{R}\\t{value}\\n')\n",
        "\n",
        "FOut.flush()"
      ],
      "metadata": {
        "id": "ysYJ0tNlgQWx"
      },
      "execution_count": null,
      "outputs": []
    },
    {
      "cell_type": "code",
      "source": [
        "# !cat /content/ChangeDictF1.txt | tail -n+2 >/content/ChangeDictF1a.txt\n",
        "# !cat /content/ChangeDictF2.txt | tail -n+2 >/content/ChangeDictF2a.txt\n"
      ],
      "metadata": {
        "id": "NAJj1pFbbYFz"
      },
      "execution_count": 82,
      "outputs": []
    },
    {
      "cell_type": "code",
      "source": [
        "# !mv /content/ChangeDictF1.txt /content/KorpusARM1/\n",
        "# !mv /content/ChangeDictF2.txt /content/KorpusARM1/\n"
      ],
      "metadata": {
        "id": "VWuQmKh0b6Pn"
      },
      "execution_count": 83,
      "outputs": []
    },
    {
      "cell_type": "code",
      "source": [
        "!cat ChangeDict* >ChangesDFAll.txt"
      ],
      "metadata": {
        "id": "2Emh_YkgcEPO"
      },
      "execution_count": 94,
      "outputs": []
    },
    {
      "cell_type": "code",
      "source": [
        "# all substrings of a string\n",
        "# https://www.geeksforgeeks.org/python-get-all-substrings-of-given-string/\n",
        "\n",
        "'''\n",
        "# Python3 code to demonstrate working of\n",
        "# Get all substrings of string\n",
        "# Using list comprehension + string slicing\n",
        " \n",
        "# initializing string\n",
        "test_str = \"Geeks\"\n",
        " \n",
        "# printing original string\n",
        "print(\"The original string is : \" + str(test_str))\n",
        " \n",
        "# Get all substrings of string\n",
        "# Using list comprehension + string slicing\n",
        "res = [test_str[i: j] for i in range(len(test_str))\n",
        "          for j in range(i + 1, len(test_str) + 1)]\n",
        " \n",
        "# printing result\n",
        "print(\"All substrings of string are : \" + str(res))\n",
        "\n",
        "'''"
      ],
      "metadata": {
        "id": "sxsNB2wpfMB8"
      },
      "execution_count": null,
      "outputs": []
    },
    {
      "cell_type": "code",
      "source": [
        "# now we read wikipedia file into a frq dictionary, and generate all substrings for each string, and create a frq dictionary of substrings\n",
        "\n",
        "def corp2tokLim2frqDict(SFIn):\n",
        "    DFrq = {}\n",
        "    with open(SFIn) as FIn:\n",
        "        for SLine in FIn:\n",
        "            SLine = SLine.rstrip()\n",
        "            # LLine = SLine.split('\\t')\n",
        "            LLine = re.split('[ ,:\\.;\\-\\(\\)\\?\\!\\[\\]]+', SLine)\n",
        "            for tok in LLine:\n",
        "                tokLim = f'[{tok}]'\n",
        "                try:\n",
        "                    DFrq[tokLim]+=1\n",
        "                except:\n",
        "                    DFrq[tokLim]=1\n",
        "    return DFrq\n",
        "\n",
        "def printFrqDict(DFrq, SFOut):\n",
        "    FOut = open(SFOut, 'w')\n",
        "    count = 0\n",
        "    for key, val in sorted(DFrq.items(), key=lambda item: item[1], reverse=True):\n",
        "        count+=1\n",
        "        FOut.write(f'{count}\\t{key}\\t{val}\\n')\n",
        "    FOut.flush()"
      ],
      "metadata": {
        "id": "6Da_G5V7fRyu"
      },
      "execution_count": 96,
      "outputs": []
    },
    {
      "cell_type": "code",
      "source": [
        "# runs 1 min\n",
        "DTokLimFrqWikipedia = corp2tokLim2frqDict('/content/hywiki-20221101-pages-articles.txt')\n",
        "printFrqDict(DTokLimFrqWikipedia, 'hywiki-20221101-frq-dict.txt')"
      ],
      "metadata": {
        "id": "KZylzND3hV3d"
      },
      "execution_count": 97,
      "outputs": []
    },
    {
      "cell_type": "code",
      "source": [
        "!wc hywiki-20221101-frq-dict.txt"
      ],
      "metadata": {
        "colab": {
          "base_uri": "https://localhost:8080/"
        },
        "id": "ynPxdqAViRVW",
        "outputId": "dda63d17-a9cc-4aed-df0f-9bf33fd707f3"
      },
      "execution_count": 99,
      "outputs": [
        {
          "output_type": "stream",
          "name": "stdout",
          "text": [
            " 2586453  7759467 78654850 hywiki-20221101-frq-dict.txt\n"
          ]
        }
      ]
    },
    {
      "cell_type": "code",
      "source": [
        "!head -n 40 hywiki-20221101-frq-dict.txt"
      ],
      "metadata": {
        "id": "ptwD72KGhzz1"
      },
      "execution_count": null,
      "outputs": []
    },
    {
      "cell_type": "code",
      "source": [
        "def readChangesLeft2dict(SFIn):\n",
        "    DFrq = {}\n",
        "    with open(SFIn) as FIn:\n",
        "        for SLine in FIn:\n",
        "            SLine = SLine.rstrip()\n",
        "            LLine = SLine.split('\\t')\n",
        "            try:\n",
        "                L = LLine[0]\n",
        "                SFrq = LLine[2]\n",
        "                IFrq = int(SFrq)\n",
        "                DFrq[L]=IFrq\n",
        "\n",
        "            except:\n",
        "                pass\n",
        "\n",
        "    return DFrq\n"
      ],
      "metadata": {
        "id": "e4FRPx7civV2"
      },
      "execution_count": 103,
      "outputs": []
    },
    {
      "cell_type": "code",
      "source": [
        "DFrqChangesL = readChangesLeft2dict('/content/ChangesDFAll.txt')\n",
        "printFrqDict(DFrqChangesL, 'ChangesDFLeftAll.txt')"
      ],
      "metadata": {
        "id": "myYLG3iSjnXb"
      },
      "execution_count": 104,
      "outputs": []
    },
    {
      "cell_type": "code",
      "source": [
        "# initializing string\n",
        "test_str = \"Geeks\"\n",
        " \n",
        "# printing original string\n",
        "print(\"The original string is : \" + str(test_str))\n",
        " \n",
        "# Get all substrings of string\n",
        "# Using list comprehension + string slicing\n",
        "res = [test_str[i: j] for i in range(len(test_str))\n",
        "          for j in range(i + 1, len(test_str) + 1)]\n",
        " \n",
        "# printing result\n",
        "print(\"All substrings of string are : \" + str(res))"
      ],
      "metadata": {
        "id": "GxOfk2V0k7Ug",
        "outputId": "1fe222f7-d1b6-4e02-b124-0f5fb976ae95",
        "colab": {
          "base_uri": "https://localhost:8080/"
        }
      },
      "execution_count": 105,
      "outputs": [
        {
          "output_type": "stream",
          "name": "stdout",
          "text": [
            "The original string is : Geeks\n",
            "All substrings of string are : ['G', 'Ge', 'Gee', 'Geek', 'Geeks', 'e', 'ee', 'eek', 'eeks', 'e', 'ek', 'eks', 'k', 'ks', 's']\n"
          ]
        }
      ]
    },
    {
      "cell_type": "code",
      "source": [
        "def frqDict2substrDict(DFrq,FrqThreshold=0):\n",
        "    DFrqSubStr = {}\n",
        "    for test_str, frq in DFrq.items():\n",
        "        if frq <= FrqThreshold: continue\n",
        "        LSubStr = [test_str[i: j] for i in range(len(test_str)) for j in range(i + 1, len(test_str) + 1)]\n",
        "        for el in LSubStr:\n",
        "            try:\n",
        "                DFrqSubStr[el] += frq\n",
        "            except:\n",
        "                DFrqSubStr[el] = frq\n",
        "    return DFrqSubStr"
      ],
      "metadata": {
        "id": "nigd8Hclkfu3"
      },
      "execution_count": 106,
      "outputs": []
    },
    {
      "cell_type": "code",
      "source": [
        "DFrqSubstringsWiki = frqDict2substrDict(DTokLimFrqWikipedia, FrqThreshold = 1)\n",
        "printFrqDict(DFrqSubstringsWiki, '/content/hywiki-20221101-frq-dict-substrings.txt')"
      ],
      "metadata": {
        "id": "T2DlSaRclum9"
      },
      "execution_count": null,
      "outputs": []
    }
  ]
}