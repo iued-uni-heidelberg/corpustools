{
  "nbformat": 4,
  "nbformat_minor": 0,
  "metadata": {
    "colab": {
      "provenance": [],
      "authorship_tag": "ABX9TyPcqtxjMK4u4Ery4JJrqTam",
      "include_colab_link": true
    },
    "kernelspec": {
      "name": "python3",
      "display_name": "Python 3"
    },
    "language_info": {
      "name": "python"
    }
  },
  "cells": [
    {
      "cell_type": "markdown",
      "metadata": {
        "id": "view-in-github",
        "colab_type": "text"
      },
      "source": [
        "<a href=\"https://colab.research.google.com/github/iued-uni-heidelberg/corpustools/blob/main/r_magic_in_python.ipynb\" target=\"_parent\"><img src=\"https://colab.research.google.com/assets/colab-badge.svg\" alt=\"Open In Colab\"/></a>"
      ]
    },
    {
      "cell_type": "code",
      "execution_count": 1,
      "metadata": {
        "colab": {
          "base_uri": "https://localhost:8080/"
        },
        "id": "AozaWtvWV026",
        "outputId": "eea0c6c7-1ff8-4f6c-a010-feb410094a58"
      },
      "outputs": [
        {
          "output_type": "stream",
          "name": "stdout",
          "text": [
            "sample_data\n"
          ]
        }
      ],
      "source": [
        "# activate R magic\n",
        "%load_ext rpy2.ipython\n",
        "!ls"
      ]
    },
    {
      "cell_type": "code",
      "source": [
        "%%R\n",
        "# 1. Import the CSV file into an R data frame\n",
        "df_raw <- read.csv(\"dataframe01.csv\",\n",
        "                   header = TRUE,\n",
        "                   stringsAsFactors = FALSE)\n",
        "\n",
        "# 2. View the structure of the imported data frame\n",
        "str(df_raw)\n",
        "\n",
        "# 3. View the first 6 rows\n",
        "head(df_raw)"
      ],
      "metadata": {
        "colab": {
          "base_uri": "https://localhost:8080/"
        },
        "id": "Dljm7O8aV8Ig",
        "outputId": "61c96a88-afed-4a30-94f6-1587dcad7cc0"
      },
      "execution_count": 2,
      "outputs": [
        {
          "output_type": "stream",
          "name": "stdout",
          "text": [
            "'data.frame':\t68 obs. of  3 variables:\n",
            " $ ID    : chr  \"NS1\" \"NS2\" \"NS3\" \"NS4\" ...\n",
            " $ NSorFS: chr  \"native\" \"native\" \"native\" \"native\" ...\n",
            " $ Score : int  3 0 0 2 3 3 2 3 2 3 ...\n",
            "   ID NSorFS Score\n",
            "1 NS1 native     3\n",
            "2 NS2 native     0\n",
            "3 NS3 native     0\n",
            "4 NS4 native     2\n",
            "5 NS5 native     3\n",
            "6 NS6 native     3\n"
          ]
        }
      ]
    }
  ]
}