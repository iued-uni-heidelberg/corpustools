{
  "nbformat": 4,
  "nbformat_minor": 0,
  "metadata": {
    "colab": {
      "provenance": [],
      "include_colab_link": true
    },
    "kernelspec": {
      "name": "python3",
      "display_name": "Python 3"
    },
    "language_info": {
      "name": "python"
    }
  },
  "cells": [
    {
      "cell_type": "markdown",
      "metadata": {
        "id": "view-in-github",
        "colab_type": "text"
      },
      "source": [
        "<a href=\"https://colab.research.google.com/github/iued-uni-heidelberg/corpustools/blob/main/S101lemKA_corrections_v01.ipynb\" target=\"_parent\"><img src=\"https://colab.research.google.com/assets/colab-badge.svg\" alt=\"Open In Colab\"/></a>"
      ]
    },
    {
      "cell_type": "markdown",
      "source": [
        "# Processing pipeline for DAAD project\n",
        "## Stage 1: Lemmatization (Georgian) with corrections (manual annotation)\n",
        "\n",
        "# Georgian 'random' corpus \n",
        "- (collected in SketchEngine using non-topical high-frequent keywords from the top 1000 of the wikipedia list)\n",
        "- we try first on the corpus where corrections have been made for 3k Georgian most frequent word froms"
      ],
      "metadata": {
        "id": "lrpJStiMQ578"
      }
    },
    {
      "cell_type": "code",
      "source": [
        "!wget https://heibox.uni-heidelberg.de/f/362c24e311104c9aa35b/?dl=1\n",
        "!mv index.html?dl=1 georgianrandom02.txt"
      ],
      "metadata": {
        "id": "BLNxex2OPqH0",
        "colab": {
          "base_uri": "https://localhost:8080/"
        },
        "outputId": "ea9be428-7416-40d1-9974-4ec1d6e40afc"
      },
      "execution_count": null,
      "outputs": [
        {
          "output_type": "stream",
          "name": "stdout",
          "text": [
            "--2023-01-30 10:25:40--  https://heibox.uni-heidelberg.de/f/362c24e311104c9aa35b/?dl=1\n",
            "Resolving heibox.uni-heidelberg.de (heibox.uni-heidelberg.de)... 129.206.7.113\n",
            "Connecting to heibox.uni-heidelberg.de (heibox.uni-heidelberg.de)|129.206.7.113|:443... connected.\n",
            "HTTP request sent, awaiting response... 302 Found\n",
            "Location: https://heibox.uni-heidelberg.de/seafhttp/files/fedf1d87-1497-42d6-a9bc-9af5325ee65a/georgianrandom02.txt [following]\n",
            "--2023-01-30 10:25:42--  https://heibox.uni-heidelberg.de/seafhttp/files/fedf1d87-1497-42d6-a9bc-9af5325ee65a/georgianrandom02.txt\n",
            "Reusing existing connection to heibox.uni-heidelberg.de:443.\n",
            "HTTP request sent, awaiting response... 200 OK\n",
            "Length: 192425594 (184M) [text/plain]\n",
            "Saving to: ‘index.html?dl=1’\n",
            "\n",
            "index.html?dl=1     100%[===================>] 183.51M  12.4MB/s    in 17s     \n",
            "\n",
            "2023-01-30 10:25:59 (10.6 MB/s) - ‘index.html?dl=1’ saved [192425594/192425594]\n",
            "\n"
          ]
        }
      ]
    },
    {
      "cell_type": "code",
      "source": [
        "%%bash\n",
        "# installing TreeTagger (en, de, ka)\n",
        "mkdir treetagger\n",
        "cd treetagger\n",
        "# Download the tagger package for your system (PC-Linux, Mac OS-X, ARM64, ARMHF, ARM-Android, PPC64le-Linux).\n",
        "wget https://cis.lmu.de/~schmid/tools/TreeTagger/data/tree-tagger-linux-3.2.4.tar.gz\n",
        "tar -xzvf tree-tagger-linux-3.2.4.tar.gz\n",
        "# Download the tagging scripts into the same directory.\n",
        "wget https://cis.lmu.de/~schmid/tools/TreeTagger/data/tagger-scripts.tar.gz\n",
        "gunzip tagger-scripts.tar.gz\n",
        "# Download the installation script install-tagger.sh.\n",
        "wget https://cis.lmu.de/~schmid/tools/TreeTagger/data/install-tagger.sh\n",
        "# Download the parameter files for the languages you want to process.\n",
        "# list of all files (parameter files) https://cis.lmu.de/~schmid/tools/TreeTagger/#parfiles\n",
        "wget https://cis.lmu.de/~schmid/tools/TreeTagger/data/english.par.gz\n",
        "sh install-tagger.sh\n",
        "cd ..\n",
        "sudo pip install treetaggerwrapper\n",
        "# changing options: no-unknown, sgml, lemma\n",
        "mv /content/treetagger/cmd/tree-tagger-english /content/tree-tagger-english0\n",
        "awk '{ if (NR == 9) print \"OPTIONS=\\\"-token -lemma -sgml -no-unknown\\\"\"; else print $0}' /content/tree-tagger-english0 > /content/treetagger/cmd/tree-tagger-english\n",
        "chmod a+x ./treetagger/cmd/tree-tagger-english\n",
        "# downloading German and Georgian \n",
        "wget https://heibox.uni-heidelberg.de/f/ec8226edebb64a359407/?dl=1\n",
        "mv index.html?dl=1 /content/treetagger/lib/german-utf8.par\n",
        "wget https://heibox.uni-heidelberg.de/f/9183090d2bdb41e09055/?dl=1\n",
        "mv index.html?dl=1 /content/treetagger/lib/georgian.par\n",
        "wget https://heibox.uni-heidelberg.de/f/9cafab0509d64ed1ac4b/?dl=1\n",
        "mv index.html?dl=1 /content/treetagger/cmd/tree-tagger-georgian2\n",
        "cp /content/treetagger/cmd/tree-tagger-georgian2 /content/treetagger/cmd/tree-tagger-georgian\n",
        "# German2 = -no-unknown \n",
        "# note: tree-tagger-german will not work, as parameter files have not been downloaded, only use tree-tagger-german2 with utf8 encoding\n",
        "wget https://heibox.uni-heidelberg.de/f/acb9b8a2fa4f40e08f8a/?dl=1\n",
        "mv index.html?dl=1 /content/treetagger/cmd/tree-tagger-german2\n",
        "chmod a+x /content/treetagger/cmd/tree-tagger-georgian2\n",
        "chmod a+x /content/treetagger/cmd/tree-tagger-german2"
      ],
      "metadata": {
        "id": "yb3aAeAWuaBG"
      },
      "execution_count": null,
      "outputs": []
    },
    {
      "cell_type": "code",
      "source": [
        "%%bash\n",
        "wget https://heibox.uni-heidelberg.de/f/a6f7f36f175942ccad0a/?dl=1\n",
        "mv index.html?dl=1 /content/treetagger/cmd/tree-tagger-georgian\n",
        "chmod a+x /content/treetagger/cmd/tree-tagger-georgian\n",
        "\n",
        "# cp /content/treetagger/cmd/tree-tagger-georgian2 /content/treetagger/cmd/tree-tagger-georgian\n",
        "wget https://heibox.uni-heidelberg.de/f/e9010b0f3e7649ef9552/?dl=1\n",
        "mv index.html?dl=1 georgianrandom--unknown-frq-all.tsv"
      ],
      "metadata": {
        "id": "7K6L_kLwUFIn"
      },
      "execution_count": null,
      "outputs": []
    },
    {
      "cell_type": "code",
      "source": [],
      "metadata": {
        "id": "MVfW4qXQyYkb"
      },
      "execution_count": null,
      "outputs": []
    },
    {
      "cell_type": "code",
      "source": [
        "# analysing German file \n",
        "# !./treetagger/cmd/tree-tagger-german2 /content/udhr/udhr_kat_v02.txt >/content/udhrTT/udhr_kat_vert.txt\n",
        "!./treetagger/cmd/tree-tagger-georgian georgianrandom02.txt >georgianrandom02.vert"
      ],
      "metadata": {
        "id": "5vhmEZNmvOZJ",
        "colab": {
          "base_uri": "https://localhost:8080/"
        },
        "outputId": "8ba651b0-1cc2-4992-fb1f-fae3912826ea"
      },
      "execution_count": null,
      "outputs": [
        {
          "output_type": "stream",
          "name": "stdout",
          "text": [
            "\treading parameters ...\n",
            "\ttagging ...\n",
            "11301000\t finished.\n"
          ]
        }
      ]
    },
    {
      "cell_type": "code",
      "source": [
        "!head -n 50 georgianrandom02.vert\n"
      ],
      "metadata": {
        "id": "ZYgAy5yYUuZg"
      },
      "execution_count": null,
      "outputs": []
    },
    {
      "cell_type": "code",
      "source": [
        "!wc georgianrandom02.vert"
      ],
      "metadata": {
        "colab": {
          "base_uri": "https://localhost:8080/"
        },
        "id": "MZGt71hqoAAP",
        "outputId": "c3d146d1-fcf5-448e-e5cd-d4d8d170c7a3"
      },
      "execution_count": null,
      "outputs": [
        {
          "output_type": "stream",
          "name": "stdout",
          "text": [
            " 11301824  33112747 394150707 georgianrandom02.vert\n"
          ]
        }
      ]
    },
    {
      "cell_type": "code",
      "source": [
        "## how to print counter in AWK:\n",
        "## https://stackoverflow.com/questions/67901330/awk-how-to-print-the-last-value-of-a-counter\n",
        "\n",
        "# !awk -F '\\t' '(NF==3){printf \"%s \", $3; if(FNR % 10000 == 0){printf \"\\n\"}}' < /content/udhrTT/udhr_deu_1996_vert.txt >/content/udhrTT/udhr_deu_1996_lem.txt\n",
        "\n",
        "# if we need <p> tags for paragraphs:\n",
        "# !awk -F '\\t' '(NF==3){printf \"%s \", $3}(NF!=3){printf \"\\n%s\\n\", $0}' < /content/udhrTT/udhr_deu_1996_vert.txt >/content/udhrTT/udhr_deu_1996_lem.txt\n",
        "# if we do not need paragraph tags\n",
        "# !awk -F '\\t' '(NF==3){printf \"%s \", $3}(NF!=3){printf \"\\n\"}' < /content/udhrTT/udhr_kat_vert.txt >/content/udhrTT/udhr_kat_lem.txt\n",
        "!awk -F '\\t' '($3==\"<unknown>\"){j++; printf \"%s\\n\", $0} END{print j+0  > \"/dev/stderr\" }' <georgianrandom02.vert >georgianrandom02-unknown.txt"
      ],
      "metadata": {
        "id": "bkTmYh27whZx",
        "colab": {
          "base_uri": "https://localhost:8080/"
        },
        "outputId": "fbfe111f-106f-48a4-ca28-40fb06f7b07d"
      },
      "execution_count": null,
      "outputs": [
        {
          "output_type": "stream",
          "name": "stdout",
          "text": [
            "2123093\n"
          ]
        }
      ]
    },
    {
      "cell_type": "code",
      "source": [
        "cCoverage = 2123093 / 11301824\n",
        "print(cCoverage)"
      ],
      "metadata": {
        "colab": {
          "base_uri": "https://localhost:8080/"
        },
        "id": "ejur1sKl69hC",
        "outputId": "80b87408-09ac-48a2-905d-f292d9414586"
      },
      "execution_count": null,
      "outputs": [
        {
          "output_type": "stream",
          "name": "stdout",
          "text": [
            "0.18785401365301743\n"
          ]
        }
      ]
    },
    {
      "cell_type": "markdown",
      "source": [
        "## Improving coverage with annotated word forms\n",
        "- annotations are taken from `georgianrandom--unknown-frq-all.tsv'\n"
      ],
      "metadata": {
        "id": "RCxoKJmU7Uwn"
      }
    },
    {
      "cell_type": "code",
      "source": [
        "import os, sys, re\n",
        "DCorrectionsPoS = {}\n",
        "DCorrectionsLem = {}\n",
        "with open(\"georgianrandom--unknown-frq-all.tsv\") as f:\n",
        "    counter = 0\n",
        "    for sline in f:\n",
        "        counter += 1\n",
        "        if counter == 1: continue # we skip the first line\n",
        "\n",
        "        sline = sline.strip()\n",
        "        LLine = sline.split('\\t')\n",
        "        try: SWord = LLine[1]\n",
        "        except: SWord = ''\n",
        "\n",
        "        try: SPoS = LLine[2]\n",
        "        except: SPoS = ''\n",
        "\n",
        "        try: SLemma = LLine[3]\n",
        "        except: SLemma = ''\n",
        "\n",
        "        try: SPoSCorrected = LLine[4]\n",
        "        except: SPoSCorrected = ''\n",
        "        if SPoSCorrected != '' and SWord != '':\n",
        "            SPoS = SPoSCorrected\n",
        "            DCorrectionsPoS[SWord] = SPoS\n",
        "\n",
        "        if SWord != '' and SLemma != '': DCorrectionsLem[SWord] = SLemma\n",
        "        # if SWord != '' and SPoS != '': DCorrectionsPoS[SWord] = SPoS\n",
        "\n",
        "print(len(DCorrectionsPoS.items()))\n",
        "print(len(DCorrectionsLem.items()))\n",
        "FDictCorrected = open('dictLemmasCorrected.txt', 'w')\n",
        "for key, value in DCorrectionsLem.items():\n",
        "    FDictCorrected.write(f'{key}\\t{value}\\n')\n",
        "FDictCorrected.flush()\n"
      ],
      "metadata": {
        "colab": {
          "base_uri": "https://localhost:8080/"
        },
        "id": "Nna7j2J181XC",
        "outputId": "7cfd0f52-6f4a-4704-878e-df173d05c6d9"
      },
      "execution_count": null,
      "outputs": [
        {
          "output_type": "stream",
          "name": "stdout",
          "text": [
            "416\n",
            "2382\n"
          ]
        }
      ]
    },
    {
      "cell_type": "code",
      "source": [
        "FOutVertCorrected = open('georgianrandom02corr.vert', 'w')\n",
        "with open('georgianrandom02.vert') as FInVertUnknown:\n",
        "    for SLine in FInVertUnknown:\n",
        "        SLine = SLine.rstrip()\n",
        "        LLine = SLine.split('\\t')\n",
        "        if len(LLine) != 3:\n",
        "            FOutVertCorrected.write(f'{SLine}\\n')\n",
        "        else:\n",
        "            SWord = LLine[0]\n",
        "            SPoS = LLine[1]\n",
        "            SLem = LLine[2]\n",
        "\n",
        "            if SLem == '<unknown>':\n",
        "                try: SLem = DCorrectionsLem[SWord]\n",
        "                except: pass\n",
        "\n",
        "                try: SPoS = DCorrectionsPoS[SWord]\n",
        "                except: pass\n",
        "            FOutVertCorrected.write(f'{SWord}\\t{SPoS}\\t{SLem}\\n')\n",
        "            \n",
        "FOutVertCorrected.flush()\n",
        "\n",
        "\n",
        "            "
      ],
      "metadata": {
        "id": "YKHNtuYNDCOd"
      },
      "execution_count": null,
      "outputs": []
    },
    {
      "cell_type": "code",
      "source": [
        "def applyCorrections(SFInVertUnknown, SFOutVertCorrected, DCorrectionsLem, DCorrectionsPoS):\n",
        "    FOutVertCorrected = open(SFOutVertCorrected, 'w')\n",
        "    with open(SFInVertUnknown) as FInVertUnknown:\n",
        "        for SLine in FInVertUnknown:\n",
        "            SLine = SLine.rstrip()\n",
        "            LLine = SLine.split('\\t')\n",
        "            if len(LLine) != 3:\n",
        "                FOutVertCorrected.write(f'{SLine}\\n')\n",
        "            else:\n",
        "                SWord = LLine[0]\n",
        "                SPoS = LLine[1]\n",
        "                SLem = LLine[2]\n",
        "\n",
        "                if SLem == '<unknown>':\n",
        "                    try: SLem = DCorrectionsLem[SWord]\n",
        "                    except: pass\n",
        "\n",
        "                    try: SPoS = DCorrectionsPoS[SWord]\n",
        "                    except: pass\n",
        "                FOutVertCorrected.write(f'{SWord}\\t{SPoS}\\t{SLem}\\n')\n",
        "                \n",
        "    FOutVertCorrected.flush()    \n",
        "\n",
        "    return"
      ],
      "metadata": {
        "id": "K1m8qInu5N5l"
      },
      "execution_count": null,
      "outputs": []
    },
    {
      "cell_type": "code",
      "source": [
        "!wc georgianrandom02corr.vert"
      ],
      "metadata": {
        "colab": {
          "base_uri": "https://localhost:8080/"
        },
        "id": "h0wOnll0Gqnj",
        "outputId": "c506e209-7d22-48a3-eece-98565789c89f"
      },
      "execution_count": null,
      "outputs": [
        {
          "output_type": "stream",
          "name": "stdout",
          "text": [
            " 11301824  33112747 398210244 georgianrandom02corr.vert\n"
          ]
        }
      ]
    },
    {
      "cell_type": "code",
      "source": [
        "!awk -F '\\t' '($3==\"<unknown>\"){j++; printf \"%s\\n\", $0} END{print j+0  > \"/dev/stderr\" }' <georgianrandom02corr.vert >georgianrandom02corr-unknown.txt"
      ],
      "metadata": {
        "colab": {
          "base_uri": "https://localhost:8080/"
        },
        "id": "sTlsuw7zG5dq",
        "outputId": "b1184db6-d111-49a7-cdb8-a25848041dd9"
      },
      "execution_count": null,
      "outputs": [
        {
          "output_type": "stream",
          "name": "stdout",
          "text": [
            "1826952\n"
          ]
        }
      ]
    },
    {
      "cell_type": "code",
      "source": [
        "cCoverage2 = 1826952 / 11301824\n",
        "print(cCoverage2)"
      ],
      "metadata": {
        "colab": {
          "base_uri": "https://localhost:8080/"
        },
        "id": "WWzJLbSuHLWJ",
        "outputId": "8ca50728-a73f-49f4-ee08-51294b1aafaf"
      },
      "execution_count": null,
      "outputs": [
        {
          "output_type": "stream",
          "name": "stdout",
          "text": [
            "0.16165107508310164\n"
          ]
        }
      ]
    },
    {
      "cell_type": "markdown",
      "source": [
        "## Running tagger / checking improvement on Specialised corpora\n",
        "- downloading the corpora\n",
        "- tagging\n",
        "- checking baseline coverage\n",
        "- checking improved coverage\n",
        "- intersection of unknown words\n",
        "- preparing datasets (1) intersections; (2) specialised for each corpus"
      ],
      "metadata": {
        "id": "hCCLA_h3vruR"
      }
    },
    {
      "cell_type": "code",
      "source": [
        "!wget https://heibox.uni-heidelberg.de/f/dc5bcb4413aa42668130/?dl=1\n",
        "!mv index.html?dl=1 specialisedCorpus.zip"
      ],
      "metadata": {
        "id": "YvOhJyLKwNuQ"
      },
      "execution_count": null,
      "outputs": []
    },
    {
      "cell_type": "code",
      "source": [
        "!unzip specialisedCorpus.zip"
      ],
      "metadata": {
        "id": "eBXDXfuxwcLL",
        "outputId": "0595fc1d-a079-42dc-f952-4108072c98b3",
        "colab": {
          "base_uri": "https://localhost:8080/"
        }
      },
      "execution_count": null,
      "outputs": [
        {
          "output_type": "stream",
          "name": "stdout",
          "text": [
            "Archive:  specialisedCorpus.zip\n",
            "   creating: specialised-corpora/\n",
            "  inflating: specialised-corpora/cFiktion.txt  \n",
            "   creating: __MACOSX/\n",
            "   creating: __MACOSX/specialised-corpora/\n",
            "  inflating: __MACOSX/specialised-corpora/._cFiktion.txt  \n",
            "  inflating: specialised-corpora/cRechtswissenschaft.txt  \n",
            "  inflating: specialised-corpora/cNaturwissenschaft.txt  \n"
          ]
        }
      ]
    },
    {
      "cell_type": "code",
      "source": [
        "!wc specialised-corpora/*"
      ],
      "metadata": {
        "colab": {
          "base_uri": "https://localhost:8080/"
        },
        "id": "UlDWD3XHwy25",
        "outputId": "a1c98bbb-9894-45ca-f068-03a90750614b"
      },
      "execution_count": null,
      "outputs": [
        {
          "output_type": "stream",
          "name": "stdout",
          "text": [
            "   70620   596366 11660439 specialised-corpora/cFiktion.txt\n",
            "   81314   529838 11302534 specialised-corpora/cNaturwissenschaft.txt\n",
            "   63223   973857 21459641 specialised-corpora/cRechtswissenschaft.txt\n",
            "  215157  2100061 44422614 total\n"
          ]
        }
      ]
    },
    {
      "cell_type": "code",
      "source": [
        "# FName = 'ocrOutKA.txt'\n",
        "# FNameOut = 'ocrLinesKA.txt'\n",
        "\n",
        "def removeNewLines(FName, FNameOut):\n",
        "    FIn = open(FName, 'r')\n",
        "    FOut = open(FNameOut, 'w')\n",
        "\n",
        "    for SLine in FIn:\n",
        "        SLine = SLine.strip()\n",
        "        if SLine == '': \n",
        "            FOut.write('\\n\\n')\n",
        "            continue\n",
        "        if SLine[-1] == '-':\n",
        "            SLine2write = SLine[:-1]\n",
        "            FOut.write(SLine2write)\n",
        "            continue\n",
        "\n",
        "        FOut.write(SLine + ' ')\n",
        "    FOut.flush()\n",
        "    return\n"
      ],
      "metadata": {
        "id": "YajGemo2zpZ3"
      },
      "execution_count": null,
      "outputs": []
    },
    {
      "cell_type": "code",
      "source": [
        "!mkdir specialised-corpora-s01-lines/"
      ],
      "metadata": {
        "id": "pkCb-p630uzF"
      },
      "execution_count": null,
      "outputs": []
    },
    {
      "cell_type": "code",
      "source": [
        "removeNewLines('specialised-corpora/cFiktion.txt', 'specialised-corpora-s01-lines/cFiktion.txt')\n",
        "removeNewLines('specialised-corpora/cNaturwissenschaft.txt', 'specialised-corpora-s01-lines/cNaturwissenschaft.txt')\n",
        "removeNewLines('specialised-corpora/cRechtswissenschaft.txt', 'specialised-corpora-s01-lines/cRechtswissenschaft.txt')"
      ],
      "metadata": {
        "id": "-Ql6gYk80_hW"
      },
      "execution_count": null,
      "outputs": []
    },
    {
      "cell_type": "code",
      "source": [
        "!head -n 10 specialised-corpora/cFiktion.txt"
      ],
      "metadata": {
        "id": "644HNNkk2wxk",
        "outputId": "bf17734d-07f5-489f-ce17-147ed2b05665",
        "colab": {
          "base_uri": "https://localhost:8080/"
        }
      },
      "execution_count": null,
      "outputs": [
        {
          "output_type": "stream",
          "name": "stdout",
          "text": [
            "ჰძიოიაჩ\n",
            "\fშსბეფან ცვაიზბი\n",
            "ამოკი0ი\n",
            "\n",
            "1912 წლის მარტში ნეაპოლის ნავსადგურში დიდი საოკეანო გემის გადმოტვირთვისას\n",
            "გავმხდარიყავი, რადგან გემიდან საქონლის გადმოცლა და მისი ნახშირით დატვირთვა\n",
            "ღამით მომხდარა ჩვებ კი, ამ ხმაურისაგან თავის დასაღწევად, ყველანი ნაპირზე გადმოვედით,\n",
            "ჭეშმარიტ ახსნას შეიცავს. ამბის ხანდაზმულობა კი ნებას მაძლევს ვისარგებლო ნდობით, რაც\n",
            "\n",
            "როცა კალკუტის საზღვაო მიმოსვლის სააგენტოში ევროპაში დასაბრუნებლად ერთი\n"
          ]
        }
      ]
    },
    {
      "cell_type": "code",
      "source": [
        "!head -n 10 specialised-corpora-s01-lines/cFiktion.txt"
      ],
      "metadata": {
        "id": "15Fjckn32qUG"
      },
      "execution_count": null,
      "outputs": []
    },
    {
      "cell_type": "code",
      "source": [
        "!head -n 50 specialised-corpora-s01-lines/cRechtswissenschaft.txt"
      ],
      "metadata": {
        "id": "wnO9eCy12veN"
      },
      "execution_count": null,
      "outputs": []
    },
    {
      "cell_type": "code",
      "source": [
        "!cat specialised-corpora-s01-lines/* >specialised-corpora-s01-all.txt"
      ],
      "metadata": {
        "id": "W2cQpdIczPrH"
      },
      "execution_count": null,
      "outputs": []
    },
    {
      "cell_type": "markdown",
      "source": [
        "### preparing texts for tagging: removing new lines, etc."
      ],
      "metadata": {
        "id": "CKl6_Kdxxgrn"
      }
    },
    {
      "cell_type": "code",
      "source": [
        "!mkdir specialised-corpora-s02-vert/"
      ],
      "metadata": {
        "id": "PaLmxuwF0hdn"
      },
      "execution_count": null,
      "outputs": []
    },
    {
      "cell_type": "code",
      "source": [
        "!./treetagger/cmd/tree-tagger-georgian specialised-corpora-s01-lines/cFiktion.txt >specialised-corpora-s02-vert/cFiktion.vert"
      ],
      "metadata": {
        "id": "t7xxrIkWw6vw"
      },
      "execution_count": null,
      "outputs": []
    },
    {
      "cell_type": "code",
      "source": [
        "!./treetagger/cmd/tree-tagger-georgian specialised-corpora-s01-lines/cNaturwissenschaft.txt >specialised-corpora-s02-vert/cNaturwissenschaft.vert"
      ],
      "metadata": {
        "id": "U3QcTc9txFvI"
      },
      "execution_count": null,
      "outputs": []
    },
    {
      "cell_type": "code",
      "source": [
        "!./treetagger/cmd/tree-tagger-georgian specialised-corpora-s01-lines/cRechtswissenschaft.txt >specialised-corpora-s02-vert/cRechtswissenschaft.vert"
      ],
      "metadata": {
        "id": "9zNr3uh9xGhg"
      },
      "execution_count": null,
      "outputs": []
    },
    {
      "cell_type": "code",
      "source": [
        "!./treetagger/cmd/tree-tagger-georgian specialised-corpora-s01-all.txt >specialised-corpora-s01-all.vert"
      ],
      "metadata": {
        "id": "h5_uvDQXzZzn"
      },
      "execution_count": null,
      "outputs": []
    },
    {
      "cell_type": "markdown",
      "source": [
        "### checking coverage on joint specialised corpus\n",
        "- coverage of raw corpus\n",
        "- coverage of corrections"
      ],
      "metadata": {
        "id": "qaH_ZOcF4deI"
      }
    },
    {
      "cell_type": "code",
      "source": [
        "!awk -F '\\t' '($3==\"<unknown>\"){j++; printf \"%s\\n\", $0} END{print j+0  > \"/dev/stderr\" }' <specialised-corpora-s01-all.vert >specialised-corpora-s01-all-unknown.vert"
      ],
      "metadata": {
        "colab": {
          "base_uri": "https://localhost:8080/"
        },
        "id": "Rh6LnB8R4ATE",
        "outputId": "77cfe29e-e501-4195-f445-5d18bc06741f"
      },
      "execution_count": null,
      "outputs": [
        {
          "output_type": "stream",
          "name": "stdout",
          "text": [
            "514895\n"
          ]
        }
      ]
    },
    {
      "cell_type": "code",
      "source": [
        "!wc specialised-corpora-s01-all.vert\n",
        "!wc specialised-corpora-s01-all-unknown.vert"
      ],
      "metadata": {
        "colab": {
          "base_uri": "https://localhost:8080/"
        },
        "id": "6EBfJl8n4QCN",
        "outputId": "ee6a1245-7efc-43d7-c7f5-b2595d1fdaf2"
      },
      "execution_count": null,
      "outputs": [
        {
          "output_type": "stream",
          "name": "stdout",
          "text": [
            " 2567303  7701931 91404493 specialised-corpora-s01-all.vert\n",
            "  514895  1544685 19910737 specialised-corpora-s01-all-unknown.vert\n"
          ]
        }
      ]
    },
    {
      "cell_type": "code",
      "source": [
        "cCoverage3 = 514895 / 2567303\n",
        "print(cCoverage3)"
      ],
      "metadata": {
        "colab": {
          "base_uri": "https://localhost:8080/"
        },
        "id": "gWTlZVj84kaT",
        "outputId": "e499e962-e494-4c0d-aa89-3c053e353e4e"
      },
      "execution_count": null,
      "outputs": [
        {
          "output_type": "stream",
          "name": "stdout",
          "text": [
            "0.20055871862417488\n"
          ]
        }
      ]
    },
    {
      "cell_type": "code",
      "source": [
        "applyCorrections('specialised-corpora-s01-all.vert', 'specialised-corpora-s01-all-corr.vert', DCorrectionsLem, DCorrectionsPoS)"
      ],
      "metadata": {
        "id": "kVtds2m16Gjr"
      },
      "execution_count": null,
      "outputs": []
    },
    {
      "cell_type": "code",
      "source": [
        "!awk -F '\\t' '($3==\"<unknown>\"){j++; printf \"%s\\n\", $0} END{print j+0  > \"/dev/stderr\" }' <specialised-corpora-s01-all-corr.vert >specialised-corpora-s01-all-corr-unknown.vert"
      ],
      "metadata": {
        "colab": {
          "base_uri": "https://localhost:8080/"
        },
        "id": "pvjq7zS36XCi",
        "outputId": "8fc45098-e7a1-4d55-df3c-ac1677231c85"
      },
      "execution_count": null,
      "outputs": [
        {
          "output_type": "stream",
          "name": "stdout",
          "text": [
            "458816\n"
          ]
        }
      ]
    },
    {
      "cell_type": "code",
      "source": [
        "!wc specialised-corpora-s01-all-corr.vert\n",
        "!wc specialised-corpora-s01-all-corr-unknown.vert"
      ],
      "metadata": {
        "colab": {
          "base_uri": "https://localhost:8080/"
        },
        "id": "gve-C0IF6nrz",
        "outputId": "4938245d-f2b9-40ac-ea93-f6402868b3c9"
      },
      "execution_count": null,
      "outputs": [
        {
          "output_type": "stream",
          "name": "stdout",
          "text": [
            " 2567303  7701931 92197268 specialised-corpora-s01-all-corr.vert\n",
            "  458816  1376448 17633815 specialised-corpora-s01-all-corr-unknown.vert\n"
          ]
        }
      ]
    },
    {
      "cell_type": "code",
      "source": [
        "cCoverage4 = 458816 / 2567303\n",
        "print(cCoverage4)"
      ],
      "metadata": {
        "colab": {
          "base_uri": "https://localhost:8080/"
        },
        "id": "7gEOgJ6_6vay",
        "outputId": "d24c886f-431f-4908-c554-e48b9bdc3378"
      },
      "execution_count": null,
      "outputs": [
        {
          "output_type": "stream",
          "name": "stdout",
          "text": [
            "0.17871517308241372\n"
          ]
        }
      ]
    },
    {
      "cell_type": "code",
      "source": [
        "!mkdir specialised-corpora-s03-cVert"
      ],
      "metadata": {
        "id": "XRflAtvl7Un6"
      },
      "execution_count": null,
      "outputs": []
    },
    {
      "cell_type": "code",
      "source": [
        "applyCorrections('/content/specialised-corpora-s02-vert/cFiktion.vert', '/content/specialised-corpora-s03-cVert/cFiktion.vert', DCorrectionsLem, DCorrectionsPoS)\n",
        "applyCorrections('/content/specialised-corpora-s02-vert/cNaturwissenschaft.vert', '/content/specialised-corpora-s03-cVert/cNaturwissenschaft.vert', DCorrectionsLem, DCorrectionsPoS)\n",
        "applyCorrections('/content/specialised-corpora-s02-vert/cRechtswissenschaft.vert', '/content/specialised-corpora-s03-cVert/cRechtswissenschaft.vert', DCorrectionsLem, DCorrectionsPoS)"
      ],
      "metadata": {
        "id": "BsDpKqmk7nmy"
      },
      "execution_count": null,
      "outputs": []
    },
    {
      "cell_type": "code",
      "source": [
        "!mkdir specialised-corpora-s03-cUnKVert"
      ],
      "metadata": {
        "id": "ewThiwiY8Tpp"
      },
      "execution_count": null,
      "outputs": []
    },
    {
      "cell_type": "code",
      "source": [
        "!awk -F '\\t' '($3==\"<unknown>\"){j++; printf \"%s\\n\", $0} END{print j+0  > \"/dev/stderr\" }' </content/specialised-corpora-s03-cVert/cFiktion.vert >/content/specialised-corpora-s03-cUnKVert/cFiktion.vert\n",
        "!awk -F '\\t' '($3==\"<unknown>\"){j++; printf \"%s\\n\", $0} END{print j+0  > \"/dev/stderr\" }' </content/specialised-corpora-s03-cVert/cNaturwissenschaft.vert >/content/specialised-corpora-s03-cUnKVert/cNaturwissenschaft.vert\n",
        "!awk -F '\\t' '($3==\"<unknown>\"){j++; printf \"%s\\n\", $0} END{print j+0  > \"/dev/stderr\" }' </content/specialised-corpora-s03-cVert/cRechtswissenschaft.vert >/content/specialised-corpora-s03-cUnKVert/cRechtswissenschaft.vert"
      ],
      "metadata": {
        "colab": {
          "base_uri": "https://localhost:8080/"
        },
        "id": "ls9HNjFx8cJ5",
        "outputId": "4467c3b1-f0bd-4948-c421-567a058bdf1e"
      },
      "execution_count": null,
      "outputs": [
        {
          "output_type": "stream",
          "name": "stdout",
          "text": [
            "125356\n",
            "114153\n",
            "219306\n"
          ]
        }
      ]
    },
    {
      "cell_type": "code",
      "source": [
        "!head -n 40 /content/specialised-corpora-s03-cUnKVert/cFiktion.vert"
      ],
      "metadata": {
        "id": "hO0nxYPI8yiC"
      },
      "execution_count": null,
      "outputs": []
    },
    {
      "cell_type": "code",
      "source": [
        "def corp2frqDict(SFIn):\n",
        "    DFrq = {}\n",
        "    with open(SFIn) as FIn:\n",
        "        for SLine in FIn:\n",
        "            SLine = SLine.rstrip()\n",
        "            # LLine = SLine.split('\\t')\n",
        "            try:\n",
        "                DFrq[SLine]+=1\n",
        "            except:\n",
        "                DFrq[SLine]=1\n",
        "    return DFrq\n"
      ],
      "metadata": {
        "id": "oPd2hQHv9plp"
      },
      "execution_count": null,
      "outputs": []
    },
    {
      "cell_type": "code",
      "source": [
        "DFrqFiktion = corp2frqDict('/content/specialised-corpora-s03-cUnKVert/cFiktion.vert')\n",
        "DFrqNaturwissenschaft = corp2frqDict('/content/specialised-corpora-s03-cUnKVert/cNaturwissenschaft.vert')\n",
        "DFrqRechtswissenschaft = corp2frqDict('/content/specialised-corpora-s03-cUnKVert/cRechtswissenschaft.vert')\n",
        "print(len(DFrqFiktion))\n",
        "print(len(DFrqNaturwissenschaft))\n",
        "print(len(DFrqRechtswissenschaft))"
      ],
      "metadata": {
        "colab": {
          "base_uri": "https://localhost:8080/"
        },
        "id": "FO-3ELSy-dIo",
        "outputId": "84564b3f-b285-4930-e5a9-96df82851029"
      },
      "execution_count": null,
      "outputs": [
        {
          "output_type": "stream",
          "name": "stdout",
          "text": [
            "57882\n",
            "53659\n",
            "45696\n"
          ]
        }
      ]
    },
    {
      "cell_type": "code",
      "source": [
        "def intersect2dicts(D1, D2, Top1, Top2):\n",
        "    DUnion = {}\n",
        "    Dc1 = {}\n",
        "    Dc2 = {}\n",
        "    c=0\n",
        "    for key, val in sorted(D1.items(), key=lambda item: item[1], reverse=True):\n",
        "        c+=1\n",
        "        if c > Top1: break\n",
        "        Dc1[key]=val\n",
        "\n",
        "    d=0\n",
        "    for key, val in sorted(D2.items(), key=lambda item: item[1], reverse=True):\n",
        "        d+=1\n",
        "        if d > Top2: break\n",
        "        Dc2[key]=val\n",
        "\n",
        "    for key, val in sorted(Dc1.items(), key=lambda item: item[1], reverse=True):\n",
        "        if key in Dc2.keys():\n",
        "            Dc2frq = Dc2[key]\n",
        "            IFrqAve = (val + Dc2frq) / 2\n",
        "            DUnion[key] = IFrqAve\n",
        "    return DUnion\n"
      ],
      "metadata": {
        "id": "v93uOfGY_0AQ"
      },
      "execution_count": null,
      "outputs": []
    },
    {
      "cell_type": "code",
      "source": [
        "def union2dicts(D1, D2, Top1, Top2):\n",
        "    DUnion = {}\n",
        "    Dc1 = {}\n",
        "    Dc2 = {}\n",
        "    c=0\n",
        "    for key, val in sorted(D1.items(), key=lambda item: item[1], reverse=True):\n",
        "        c+=1\n",
        "        if c > Top1: break\n",
        "        Dc1[key]=val\n",
        "\n",
        "    d=0\n",
        "    for key, val in sorted(D2.items(), key=lambda item: item[1], reverse=True):\n",
        "        d+=1\n",
        "        if d > Top2: break\n",
        "        Dc2[key]=val\n",
        "\n",
        "    for key, val in sorted(Dc1.items(), key=lambda item: item[1], reverse=True):\n",
        "        if key in Dc2.keys():\n",
        "            Dc2frq = Dc2[key]\n",
        "            IFrqAve = (val + Dc2frq) / 2\n",
        "            DUnion[key] = IFrqAve\n",
        "        else:\n",
        "            DUnion[key] = val\n",
        "\n",
        "    for key, val in sorted(Dc2.items(), key=lambda item: item[1], reverse=True):\n",
        "        if key in Dc1.keys():\n",
        "            Dc1frq = Dc1[key]\n",
        "            IFrqAve = (val + Dc1frq) / 2\n",
        "            DUnion[key] = IFrqAve\n",
        "        else:\n",
        "            DUnion[key] = val\n",
        "\n",
        "\n",
        "    return DUnion\n"
      ],
      "metadata": {
        "id": "vMTV3PQJFES9"
      },
      "execution_count": null,
      "outputs": []
    },
    {
      "cell_type": "code",
      "source": [
        "DIntersection12 = intersect2dicts(DFrqFiktion, DFrqNaturwissenschaft, 500000, 500000)\n",
        "DIntersection123 = intersect2dicts(DIntersection12, DFrqRechtswissenschaft, 500000, 500000)\n",
        "print('DIntersection12', len(DIntersection12))\n",
        "print('DIntersection123', len(DIntersection123))\n",
        "print('')\n",
        "\n",
        "DIntersection1 = intersect2dicts(DFrqFiktion, DFrqNaturwissenschaft, 500000, 500000)\n",
        "DIntersection2 = intersect2dicts(DFrqNaturwissenschaft, DFrqRechtswissenschaft, 500000, 500000)\n",
        "DIntersection3 = intersect2dicts(DFrqFiktion, DFrqRechtswissenschaft, 500000, 500000)\n",
        "\n",
        "print('DIntersection1', len(DIntersection1))\n",
        "print('DIntersection2', len(DIntersection2))\n",
        "print('DIntersection3', len(DIntersection3))\n",
        "\n",
        "DUnion12 = union2dicts(DIntersection1, DIntersection2, 500000, 500000)\n",
        "DUnion123 = union2dicts(DUnion12, DIntersection3, 500000, 500000)\n",
        "print('DUnion12', len(DUnion12))\n",
        "print('DUnion123', len(DUnion123))\n",
        "\n",
        "\n",
        "\n"
      ],
      "metadata": {
        "colab": {
          "base_uri": "https://localhost:8080/"
        },
        "id": "QdQnJJBhBrLJ",
        "outputId": "d0512ece-9fd3-41fb-e477-d06b2acc4bf1"
      },
      "execution_count": null,
      "outputs": [
        {
          "output_type": "stream",
          "name": "stdout",
          "text": [
            "DIntersection12 7412\n",
            "DIntersection123 1688\n",
            "\n",
            "DIntersection1 7412\n",
            "DIntersection2 5572\n",
            "DIntersection3 3523\n",
            "DUnion12 11296\n",
            "DUnion123 13131\n"
          ]
        }
      ]
    },
    {
      "cell_type": "code",
      "source": [
        "def printFrqDict(DFrq, SFOut):\n",
        "    FOut = open(SFOut, 'w')\n",
        "    for key, val in sorted(DFrq.items(), key=lambda item: item[1], reverse=True):\n",
        "        FOut.write(f'{key}\\t{val}\\n')\n",
        "    "
      ],
      "metadata": {
        "id": "FsHne_TpCrun"
      },
      "execution_count": null,
      "outputs": []
    },
    {
      "cell_type": "code",
      "source": [
        "printFrqDict(DUnion123, '/content/specialised-corpora-s04-unionUnkonw.txt')"
      ],
      "metadata": {
        "id": "oR8-vlz-Daye"
      },
      "execution_count": null,
      "outputs": []
    },
    {
      "cell_type": "markdown",
      "source": [
        "## end: Specialised corpora"
      ],
      "metadata": {
        "id": "TunvYy99wX1b"
      }
    },
    {
      "cell_type": "markdown",
      "source": [
        "## Preparing datasets from further improvement\n",
        "- what is still `unknown'\n"
      ],
      "metadata": {
        "id": "KI8KmYyG7jrl"
      }
    },
    {
      "cell_type": "code",
      "source": [
        "!head -n 50 georgianrandom02-unknown.txt\n"
      ],
      "metadata": {
        "id": "BCI07VWFzfFl"
      },
      "execution_count": null,
      "outputs": []
    },
    {
      "cell_type": "code",
      "source": [
        "!tail -n 20 georgianrandom02-unknown.txt"
      ],
      "metadata": {
        "id": "aMchEKhFpDnp"
      },
      "execution_count": null,
      "outputs": []
    },
    {
      "cell_type": "code",
      "source": [
        "D = {}\n",
        "with open(\"georgianrandom02-unknown.txt\", 'r') as f:\n",
        "    for line in f:\n",
        "        line = line.rstrip()\n",
        "        try:\n",
        "            D[line] +=1\n",
        "        except:\n",
        "            D[line] = 1\n",
        "\n",
        "fo = open(\"georgianrandom02-unknown-frq.txt\", 'w')\n",
        "ICorpusLen = 11301824\n",
        "IUnknown = 2123093\n",
        "FCoverage = IUnknown/ICorpusLen\n",
        "print('percent Unknown TT: ', FCoverage)\n",
        "IRestUnknown = IUnknown\n",
        "c = 0\n",
        "for key, val in sorted(D.items(), key=lambda item: item[1], reverse=True):\n",
        "    c+=1\n",
        "    IRestUnknown = IRestUnknown - val\n",
        "    FRestCoverage = IRestUnknown/ICorpusLen\n",
        "    fo.write(str(c) + '\\t' + key + '\\t' + str(val) + '\\t' + str(FRestCoverage) + '\\n')\n",
        "    "
      ],
      "metadata": {
        "id": "B9wEuRC_VqnA",
        "colab": {
          "base_uri": "https://localhost:8080/"
        },
        "outputId": "15e2f4b1-59b0-4a3a-8740-2d31e537a15d"
      },
      "execution_count": null,
      "outputs": [
        {
          "output_type": "stream",
          "name": "stdout",
          "text": [
            "percent Unknown TT:  0.18785401365301743\n"
          ]
        }
      ]
    },
    {
      "cell_type": "code",
      "source": [
        "!head -n 50 georgianrandom02-unknown-frq.txt"
      ],
      "metadata": {
        "id": "Xg0XvzqhnAk8"
      },
      "execution_count": null,
      "outputs": []
    },
    {
      "cell_type": "markdown",
      "source": [
        "## Selecting 3 sets of 1k words for correction (random corpus)\n",
        "\n"
      ],
      "metadata": {
        "id": "YpkE6ncYxIa-"
      }
    },
    {
      "cell_type": "code",
      "source": [
        "import sys, os, re\n",
        "\n",
        "FOut1 = open('georgianrandom02-unknown-frq-p1of3.txt', 'w')\n",
        "FOut2 = open('georgianrandom02-unknown-frq-p2of3.txt', 'w')\n",
        "FOut3 = open('georgianrandom02-unknown-frq-p3of3.txt', 'w')\n",
        "c = 0\n",
        "ICorpusLen = 11301824\n",
        "IUnknown = 2123093\n",
        "IRestUnknown = IUnknown\n",
        "for key, val in sorted(D.items(), key=lambda item: item[1], reverse=True):\n",
        "    c+=1\n",
        "    IRestUnknown = IRestUnknown - val\n",
        "    FRestCoverage = IRestUnknown/ICorpusLen\n",
        "    if(c + 2) % 3 == 0:\n",
        "        FOut1.write(str(c) + '\\t' + key + '\\t' + str(val) + '\\t' + str(FRestCoverage) + '\\n')\n",
        "    elif(c + 1) % 3 == 0:\n",
        "        FOut2.write(str(c) + '\\t' + key + '\\t' + str(val) + '\\t' + str(FRestCoverage) + '\\n')\n",
        "    elif c % 3 == 0:\n",
        "        FOut3.write(str(c) + '\\t' + key + '\\t' + str(val) + '\\t' + str(FRestCoverage) + '\\n')\n",
        "    else:\n",
        "        sys.stdout.write('error: \\t' + str(c) + '\\t' + key + '\\t' + str(val) + '\\t' + str(FRestCoverage) + '\\n')"
      ],
      "metadata": {
        "id": "yjq68GCBybAN"
      },
      "execution_count": null,
      "outputs": []
    },
    {
      "cell_type": "markdown",
      "source": [
        "## GIP DAAD corpus\n",
        "### checking coverage"
      ],
      "metadata": {
        "id": "KVkaCpu7Q_80"
      }
    },
    {
      "cell_type": "code",
      "source": [
        "!wget https://heibox.uni-heidelberg.de/f/1981a35452db40c583c0/?dl=1\n",
        "!mv index.html?dl=1 select-kat.tgz"
      ],
      "metadata": {
        "id": "gxsa46aHRHKp"
      },
      "execution_count": null,
      "outputs": []
    },
    {
      "cell_type": "code",
      "source": [
        "!tar xvzf select-kat.tgz"
      ],
      "metadata": {
        "id": "dIwHfbwYS2jF"
      },
      "execution_count": null,
      "outputs": []
    },
    {
      "cell_type": "code",
      "source": [
        "import os\n",
        "FOut = open('georgian-corp-gip-v01.txt', 'w')\n",
        "for root, dirs, files in os.walk(\"./select-kat\"):\n",
        "    path = root.split(os.sep)\n",
        "    print((len(path) - 1) * '---', os.path.basename(root))\n",
        "    for file in files:\n",
        "        print(len(path) * '---', file)\n",
        "        FOut.write('<doc filename=\"' + file + '\">\\n')\n",
        "        SFilePath = os.path.join(root,file)\n",
        "        FIn = open(SFilePath, 'r')\n",
        "        SIn = FIn.read()\n",
        "        FOut.write(SIn)\n",
        "        FOut.write('</doc>\\n\\n')\n",
        "\n",
        "FOut.flush()\n",
        "FOut.close()\n",
        "\n"
      ],
      "metadata": {
        "id": "d4FnEqEdTNpA"
      },
      "execution_count": null,
      "outputs": []
    },
    {
      "cell_type": "code",
      "source": [
        "!wc georgian-corp-gip-v01.txt"
      ],
      "metadata": {
        "colab": {
          "base_uri": "https://localhost:8080/"
        },
        "id": "ENo0vAecc5tp",
        "outputId": "5196db4d-8714-4dc1-d6d4-7311bf92ae8a"
      },
      "execution_count": null,
      "outputs": [
        {
          "output_type": "stream",
          "name": "stdout",
          "text": [
            "   44448   892632 19802190 georgian-corp-gip-v01.txt\n"
          ]
        }
      ]
    },
    {
      "cell_type": "code",
      "source": [
        "!./treetagger/cmd/tree-tagger-georgian georgian-corp-gip-v01.txt >georgian-corp-gip-v01.vert"
      ],
      "metadata": {
        "colab": {
          "base_uri": "https://localhost:8080/"
        },
        "id": "rsIotAd-Xcj0",
        "outputId": "f80866d4-607e-4eac-d6ec-02178bfcb7a0"
      },
      "execution_count": null,
      "outputs": [
        {
          "output_type": "stream",
          "name": "stdout",
          "text": [
            "\treading parameters ...\n",
            "\ttagging ...\n",
            "1086000\t finished.\n"
          ]
        }
      ]
    },
    {
      "cell_type": "code",
      "source": [
        "!wc georgian-corp-gip-v01.vert"
      ],
      "metadata": {
        "colab": {
          "base_uri": "https://localhost:8080/"
        },
        "id": "-eQMPjpfcRE0",
        "outputId": "d02c02a7-22e0-4656-c9a9-5be596d9e25d"
      },
      "execution_count": null,
      "outputs": [
        {
          "output_type": "stream",
          "name": "stdout",
          "text": [
            " 1086727  3260172 40704147 georgian-corp-gip-v01.vert\n"
          ]
        }
      ]
    },
    {
      "cell_type": "code",
      "source": [
        "!awk -F '\\t' '($3==\"<unknown>\"){j++; printf \"%s\\n\", $0} END{print j+0  > \"/dev/stderr\" }' <georgian-corp-gip-v01.vert >georgian-corp-gip-v01-unknown.txt"
      ],
      "metadata": {
        "colab": {
          "base_uri": "https://localhost:8080/"
        },
        "id": "GvZBzFWoYEmB",
        "outputId": "d1d1bf68-5ec8-4670-ad17-d4328778e03c"
      },
      "execution_count": null,
      "outputs": [
        {
          "output_type": "stream",
          "name": "stdout",
          "text": [
            "222297\n"
          ]
        }
      ]
    },
    {
      "cell_type": "code",
      "source": [
        "ICorpusLen = 1086727\n",
        "IUnknown = 222297\n",
        "FCoverage = IUnknown/ICorpusLen\n",
        "print('percent Unknown TT: ', FCoverage)"
      ],
      "metadata": {
        "colab": {
          "base_uri": "https://localhost:8080/"
        },
        "id": "JBCb8V-jcwJn",
        "outputId": "c8f79775-84d4-445f-efe6-1947fab53f82"
      },
      "execution_count": null,
      "outputs": [
        {
          "output_type": "stream",
          "name": "stdout",
          "text": [
            "percent Unknown TT:  0.2045564341366323\n"
          ]
        }
      ]
    },
    {
      "cell_type": "code",
      "source": [
        "E = {}\n",
        "with open(\"georgian-corp-gip-v01-unknown.txt\", 'r') as f:\n",
        "    for line in f:\n",
        "        line = line.rstrip()\n",
        "        try:\n",
        "            E[line] +=1\n",
        "        except:\n",
        "            E[line] = 1"
      ],
      "metadata": {
        "id": "JMxJWk_0bYdR"
      },
      "execution_count": null,
      "outputs": []
    },
    {
      "cell_type": "code",
      "source": [
        "## checking coverage on georgianrandom02 corpus\n",
        "IRestUnknown = IUnknown\n",
        "c = 0\n",
        "CFound = 0\n",
        "fo = open(\"georgian-corp-gip-v01-unknown-from-georgianrandom02-frq.txt\", 'w')\n",
        "for key, val in sorted(D.items(), key=lambda item: item[1], reverse=True):\n",
        "    c+=1\n",
        "    BFound = False\n",
        "    try: \n",
        "        val2 = E[key]\n",
        "        BFound = True\n",
        "        CFound += 1\n",
        "    except:\n",
        "        val2 = 0\n",
        "\n",
        "    IRestUnknown = IRestUnknown - val2\n",
        "    FRestCoverage = IRestUnknown/ICorpusLen\n",
        "    fo.write(str(c) + '\\t' + key + '\\t' + str(val) + '\\t' + str(BFound) + '\\t' + str(CFound) + '\\t' + str(FRestCoverage) + '\\n')\n"
      ],
      "metadata": {
        "id": "bR6f-KCKb2yC"
      },
      "execution_count": null,
      "outputs": []
    },
    {
      "cell_type": "markdown",
      "source": [
        "\n",
        "# Optional dataset (not used)\n",
        "## Example: Universal declaration of human rights ("
      ],
      "metadata": {
        "id": "frfVA5xCqVyL"
      }
    },
    {
      "cell_type": "code",
      "execution_count": null,
      "metadata": {
        "id": "bVq5Aeajp-LR"
      },
      "outputs": [],
      "source": [
        "# Downloading UDHR\n",
        "!wget https://unicode.org/udhr/assemblies/udhr_txt.zip\n"
      ]
    },
    {
      "cell_type": "code",
      "source": [
        "%%bash\n",
        "mkdir udhr\n",
        "mv udhr_txt.zip udhr\n",
        "cd udhr/\n",
        "unzip udhr_txt.zip"
      ],
      "metadata": {
        "id": "CoPrEtv3q56L"
      },
      "execution_count": null,
      "outputs": []
    },
    {
      "cell_type": "code",
      "source": [
        "%%bash\n",
        "# put paragraph tags\n",
        "awk '{print \"<p>\\n\"$0 ; print \"</p>\"}' /content/udhr/udhr_kat.txt >/content/udhr/udhr_kat_v02.txt"
      ],
      "metadata": {
        "id": "bH9cbpC6xUSB"
      },
      "execution_count": null,
      "outputs": []
    }
  ]
}