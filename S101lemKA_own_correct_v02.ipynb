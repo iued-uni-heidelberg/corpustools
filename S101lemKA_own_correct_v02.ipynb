{
  "nbformat": 4,
  "nbformat_minor": 0,
  "metadata": {
    "colab": {
      "provenance": [],
      "authorship_tag": "ABX9TyM3MMK7YGkB4n79SoxFvs0G",
      "include_colab_link": true
    },
    "kernelspec": {
      "name": "python3",
      "display_name": "Python 3"
    },
    "language_info": {
      "name": "python"
    }
  },
  "cells": [
    {
      "cell_type": "markdown",
      "metadata": {
        "id": "view-in-github",
        "colab_type": "text"
      },
      "source": [
        "<a href=\"https://colab.research.google.com/github/iued-uni-heidelberg/corpustools/blob/main/S101lemKA_own_correct_v02.ipynb\" target=\"_parent\"><img src=\"https://colab.research.google.com/assets/colab-badge.svg\" alt=\"Open In Colab\"/></a>"
      ]
    },
    {
      "cell_type": "markdown",
      "source": [
        "# Workflow for making own corrections for your corpus"
      ],
      "metadata": {
        "id": "iRX99n4309Nh"
      }
    },
    {
      "cell_type": "code",
      "execution_count": 32,
      "metadata": {
        "id": "e1vo9E_j0i8K"
      },
      "outputs": [],
      "source": [
        "# Downloading files for each of the specialized corpora\n",
        "import sys, os, re\n"
      ]
    },
    {
      "cell_type": "markdown",
      "source": [
        "## Files to download:\n",
        "link: https://heibox.uni-heidelberg.de/d/d588bccab64348a399d4/\n",
        "\n",
        "## After downloading\n",
        "- You can change <unknown> to correct lemma, or leave it as it is\n",
        "- You can change part-of-speech code, if incorrect\n",
        "- Save changes on your local disk\n",
        "- Upload the file onto this notebook workspace (using Files>Upload to session storage button"
      ],
      "metadata": {
        "id": "m66ZYDX201q0"
      }
    },
    {
      "cell_type": "markdown",
      "source": [
        "## Running tagging+correction workflow"
      ],
      "metadata": {
        "id": "vMtW1mZH53Uy"
      }
    },
    {
      "cell_type": "code",
      "source": [],
      "metadata": {
        "id": "JVScLhL402sz"
      },
      "execution_count": null,
      "outputs": []
    },
    {
      "cell_type": "code",
      "source": [
        "%%bash\n",
        "# installing TreeTagger (en, de, ka)\n",
        "mkdir treetagger\n",
        "cd treetagger\n",
        "# Download the tagger package for your system (PC-Linux, Mac OS-X, ARM64, ARMHF, ARM-Android, PPC64le-Linux).\n",
        "wget https://cis.lmu.de/~schmid/tools/TreeTagger/data/tree-tagger-linux-3.2.4.tar.gz\n",
        "tar -xzvf tree-tagger-linux-3.2.4.tar.gz\n",
        "# Download the tagging scripts into the same directory.\n",
        "wget https://cis.lmu.de/~schmid/tools/TreeTagger/data/tagger-scripts.tar.gz\n",
        "gunzip tagger-scripts.tar.gz\n",
        "# Download the installation script install-tagger.sh.\n",
        "wget https://cis.lmu.de/~schmid/tools/TreeTagger/data/install-tagger.sh\n",
        "# Download the parameter files for the languages you want to process.\n",
        "# list of all files (parameter files) https://cis.lmu.de/~schmid/tools/TreeTagger/#parfiles\n",
        "wget https://cis.lmu.de/~schmid/tools/TreeTagger/data/english.par.gz\n",
        "sh install-tagger.sh\n",
        "cd ..\n",
        "sudo pip install treetaggerwrapper\n",
        "# changing options: no-unknown, sgml, lemma\n",
        "mv /content/treetagger/cmd/tree-tagger-english /content/tree-tagger-english0\n",
        "awk '{ if (NR == 9) print \"OPTIONS=\\\"-token -lemma -sgml -no-unknown\\\"\"; else print $0}' /content/tree-tagger-english0 > /content/treetagger/cmd/tree-tagger-english\n",
        "chmod a+x ./treetagger/cmd/tree-tagger-english\n",
        "# downloading German and Georgian \n",
        "wget https://heibox.uni-heidelberg.de/f/ec8226edebb64a359407/?dl=1\n",
        "mv index.html?dl=1 /content/treetagger/lib/german-utf8.par\n",
        "wget https://heibox.uni-heidelberg.de/f/9183090d2bdb41e09055/?dl=1\n",
        "mv index.html?dl=1 /content/treetagger/lib/georgian.par\n",
        "wget https://heibox.uni-heidelberg.de/f/9cafab0509d64ed1ac4b/?dl=1\n",
        "mv index.html?dl=1 /content/treetagger/cmd/tree-tagger-georgian2\n",
        "cp /content/treetagger/cmd/tree-tagger-georgian2 /content/treetagger/cmd/tree-tagger-georgian\n",
        "# German2 = -no-unknown \n",
        "# note: tree-tagger-german will not work, as parameter files have not been downloaded, only use tree-tagger-german2 with utf8 encoding\n",
        "wget https://heibox.uni-heidelberg.de/f/acb9b8a2fa4f40e08f8a/?dl=1\n",
        "mv index.html?dl=1 /content/treetagger/cmd/tree-tagger-german2\n",
        "chmod a+x /content/treetagger/cmd/tree-tagger-georgian2\n",
        "chmod a+x /content/treetagger/cmd/tree-tagger-german2\n",
        "\n",
        "wget https://heibox.uni-heidelberg.de/f/a6f7f36f175942ccad0a/?dl=1\n",
        "mv index.html?dl=1 /content/treetagger/cmd/tree-tagger-georgian\n",
        "chmod a+x /content/treetagger/cmd/tree-tagger-georgian\n"
      ],
      "metadata": {
        "id": "yb3aAeAWuaBG"
      },
      "execution_count": null,
      "outputs": []
    },
    {
      "cell_type": "code",
      "source": [
        "!wget https://heibox.uni-heidelberg.de/f/dc5bcb4413aa42668130/?dl=1\n",
        "!mv index.html?dl=1 specialisedCorpus.zip"
      ],
      "metadata": {
        "id": "XJWk4J067APR"
      },
      "execution_count": null,
      "outputs": []
    },
    {
      "cell_type": "code",
      "source": [
        "!unzip specialisedCorpus.zip\n",
        "!wc specialised-corpora/*"
      ],
      "metadata": {
        "id": "kpuM-7lB7ksa"
      },
      "execution_count": null,
      "outputs": []
    },
    {
      "cell_type": "code",
      "source": [
        "!mkdir specialised-corpora-s01-lines/"
      ],
      "metadata": {
        "id": "YeCJt4Pd72BK"
      },
      "execution_count": 5,
      "outputs": []
    },
    {
      "cell_type": "code",
      "source": [
        "def removeNewLines(FName, FNameOut):\n",
        "    FIn = open(FName, 'r')\n",
        "    FOut = open(FNameOut, 'w')\n",
        "\n",
        "    for SLine in FIn:\n",
        "        SLine = SLine.strip()\n",
        "        if SLine == '': \n",
        "            FOut.write('\\n\\n')\n",
        "            continue\n",
        "        if SLine[-1] == '-':\n",
        "            SLine2write = SLine[:-1]\n",
        "            FOut.write(SLine2write)\n",
        "            continue\n",
        "\n",
        "        FOut.write(SLine + ' ')\n",
        "    FOut.flush()\n",
        "    return\n"
      ],
      "metadata": {
        "id": "qq7NisSd77t9"
      },
      "execution_count": 6,
      "outputs": []
    },
    {
      "cell_type": "code",
      "source": [
        "removeNewLines('specialised-corpora/cFiktion.txt', 'specialised-corpora-s01-lines/cFiktion.txt')\n",
        "removeNewLines('specialised-corpora/cNaturwissenschaft.txt', 'specialised-corpora-s01-lines/cNaturwissenschaft.txt')\n",
        "removeNewLines('specialised-corpora/cRechtswissenschaft.txt', 'specialised-corpora-s01-lines/cRechtswissenschaft.txt')"
      ],
      "metadata": {
        "id": "KB9Xx50C8m-L"
      },
      "execution_count": 7,
      "outputs": []
    },
    {
      "cell_type": "code",
      "source": [
        "!mkdir specialised-corpora-s02-vert/"
      ],
      "metadata": {
        "id": "iZMjwrf686iz"
      },
      "execution_count": 8,
      "outputs": []
    },
    {
      "cell_type": "code",
      "source": [
        "!./treetagger/cmd/tree-tagger-georgian specialised-corpora-s01-lines/cFiktion.txt >specialised-corpora-s02-vert/cFiktion.vert\n",
        "!./treetagger/cmd/tree-tagger-georgian specialised-corpora-s01-lines/cNaturwissenschaft.txt >specialised-corpora-s02-vert/cNaturwissenschaft.vert\n",
        "!./treetagger/cmd/tree-tagger-georgian specialised-corpora-s01-lines/cRechtswissenschaft.txt >specialised-corpora-s02-vert/cRechtswissenschaft.vert\n"
      ],
      "metadata": {
        "colab": {
          "base_uri": "https://localhost:8080/"
        },
        "id": "6inuLkQU89Yr",
        "outputId": "32d7f0b1-81bc-4956-c80c-deee73028bfd"
      },
      "execution_count": 9,
      "outputs": [
        {
          "output_type": "stream",
          "name": "stdout",
          "text": [
            "\treading parameters ...\n",
            "\ttagging ...\n",
            "747000\t finished.\n",
            "\treading parameters ...\n",
            "\ttagging ...\n",
            "638000\t finished.\n",
            "\treading parameters ...\n",
            "\ttagging ...\n",
            "1181000\t finished.\n"
          ]
        }
      ]
    },
    {
      "cell_type": "code",
      "source": [
        "# how many words in each corpus\n",
        "!wc specialised-corpora-s02-vert/*"
      ],
      "metadata": {
        "colab": {
          "base_uri": "https://localhost:8080/"
        },
        "id": "IX-pxFpO9e6r",
        "outputId": "5239dac3-09ef-4b14-f82a-f072e8bfec01"
      },
      "execution_count": 10,
      "outputs": [
        {
          "output_type": "stream",
          "name": "stdout",
          "text": [
            "  747302  2241906 24414488 specialised-corpora-s02-vert/cFiktion.vert\n",
            "  638588  1915786 23003076 specialised-corpora-s02-vert/cNaturwissenschaft.vert\n",
            " 1181412  3544236 43986910 specialised-corpora-s02-vert/cRechtswissenschaft.vert\n",
            " 2567302  7701928 91404474 total\n"
          ]
        }
      ]
    },
    {
      "cell_type": "markdown",
      "source": [
        "## Downloading corrections"
      ],
      "metadata": {
        "id": "R6PbNHxv-aIN"
      }
    },
    {
      "cell_type": "code",
      "source": [
        "%%bash\n",
        "# Downloading a table with corrected forms from the Georgian Random corpus\n",
        "# cp /content/treetagger/cmd/tree-tagger-georgian2 /content/treetagger/cmd/tree-tagger-georgian\n",
        "wget https://heibox.uni-heidelberg.de/f/e9010b0f3e7649ef9552/?dl=1\n",
        "mv index.html?dl=1 georgianrandom--unknown-frq-all.tsv"
      ],
      "metadata": {
        "id": "7K6L_kLwUFIn"
      },
      "execution_count": null,
      "outputs": []
    },
    {
      "cell_type": "code",
      "source": [
        "# Downloading a table with corrected froms from Specialized corpora\n",
        "!wget https://heibox.uni-heidelberg.de/f/b7c076d7876d4860a554/?dl=1\n",
        "!mv index.html?dl=1 specialised-corpora-all-union123Unkonw.tsv"
      ],
      "metadata": {
        "id": "9wbZFEyY7OJV"
      },
      "execution_count": null,
      "outputs": []
    },
    {
      "cell_type": "code",
      "source": [
        "!wc georgianrandom--unknown-frq-all.tsv\n",
        "!wc specialised-corpora-all-union123Unkonw.tsv"
      ],
      "metadata": {
        "colab": {
          "base_uri": "https://localhost:8080/"
        },
        "id": "XZWf7KSo_SzY",
        "outputId": "fbbb4257-483a-4a98-a8b7-add9fe4fd6b7"
      },
      "execution_count": 14,
      "outputs": [
        {
          "output_type": "stream",
          "name": "stdout",
          "text": [
            "  2999  17830 233687 georgianrandom--unknown-frq-all.tsv\n",
            "  2895  26391 227853 specialised-corpora-all-union123Unkonw.tsv\n"
          ]
        }
      ]
    },
    {
      "cell_type": "code",
      "source": [
        "# removing the line with column names before concatenation\n",
        "!cat specialised-corpora-all-union123Unkonw.tsv | tail -n+2 >specialised-corpora-all-union123Unkonw2.tsv"
      ],
      "metadata": {
        "id": "AhSFj6FXA6N7"
      },
      "execution_count": 21,
      "outputs": []
    },
    {
      "cell_type": "code",
      "source": [
        "!cat georgianrandom--unknown-frq-all.tsv specialised-corpora-all-union123Unkonw2.tsv >ready-corrections-all.txt\n",
        "!wc ready-corrections-all.txt"
      ],
      "metadata": {
        "colab": {
          "base_uri": "https://localhost:8080/"
        },
        "id": "16e8c2JF_Bvq",
        "outputId": "04658588-e0ac-4daf-c8fa-98537a3297ad"
      },
      "execution_count": 22,
      "outputs": [
        {
          "output_type": "stream",
          "name": "stdout",
          "text": [
            "  5893  44210 461479 ready-corrections-all.txt\n"
          ]
        }
      ]
    },
    {
      "cell_type": "code",
      "source": [
        "# reading a dictionary with corrections (function)\n",
        "\n",
        "def readCorrectionFile(SFInput):\n",
        "    '''\n",
        "    input string: file name with the corrections;\n",
        "    output: tuple of two dictionaries: corrections lemmas, corrections part-of-speech\n",
        "    '''\n",
        "    DCorrectionsPoS = {}\n",
        "    DCorrectionsLem = {}\n",
        "    with open(SFInput) as f:\n",
        "        counter = 0\n",
        "        for sline in f:\n",
        "            counter += 1\n",
        "            if counter == 1: continue # we skip the first line\n",
        "\n",
        "            sline = sline.strip()\n",
        "            LLine = sline.split('\\t')\n",
        "            try: SWord = LLine[1]\n",
        "            except: SWord = ''\n",
        "\n",
        "            try: SPoS = LLine[2]\n",
        "            except: SPoS = ''\n",
        "\n",
        "            try: SLemma = LLine[3]\n",
        "            except: SLemma = ''\n",
        "\n",
        "            try: SPoSCorrected = LLine[4]\n",
        "            except: SPoSCorrected = ''\n",
        "            if SPoSCorrected != '' and SWord != '':\n",
        "                SPoS = SPoSCorrected\n",
        "                DCorrectionsPoS[SWord] = SPoS\n",
        "\n",
        "            if SWord != '' and SLemma != '': DCorrectionsLem[SWord] = SLemma\n",
        "            # if SWord != '' and SPoS != '': DCorrectionsPoS[SWord] = SPoS\n",
        "\n",
        "    print(len(DCorrectionsPoS.items()))\n",
        "    print(len(DCorrectionsLem.items()))\n",
        "\n",
        "    return DCorrectionsLem, DCorrectionsPoS\n",
        "\n",
        "\n",
        "def readCorrectionFileTestDict(DCorrectionsLem, DCorrectionsPoS, SFOutDictLemmasCorrected, SFOutDdictPoSCorrected):\n",
        "    FDictCorrected = open(SFOutDictLemmasCorrected, 'w')\n",
        "    for key, value in sorted(DCorrectionsLem.items()):\n",
        "        FDictCorrected.write(f'{key}\\t{value}\\n')\n",
        "    FDictCorrected.flush()\n",
        "\n",
        "    FDictCorrectedPoS = open(SFOutDdictPoSCorrected, 'w')\n",
        "    for key, value in sorted(DCorrectionsPoS.items()):\n",
        "        FDictCorrectedPoS.write(f'{key}\\t{value}\\n')\n",
        "    FDictCorrectedPoS.flush()\n",
        "\n",
        "    return\n",
        "\n"
      ],
      "metadata": {
        "id": "tArdzmwuByJV"
      },
      "execution_count": 24,
      "outputs": []
    },
    {
      "cell_type": "code",
      "source": [
        "DCorrectionsLem2, DCorrectionsPoS2 = readCorrectionFile('ready-corrections-all.txt')\n",
        "readCorrectionFileTestDict(DCorrectionsLem2, DCorrectionsPoS2, 'ready-corrections-all-cor-lem.txt', 'ready-corrections-all-cor-pos.txt')"
      ],
      "metadata": {
        "id": "Ow3x1mrPB8lG"
      },
      "execution_count": null,
      "outputs": []
    },
    {
      "cell_type": "code",
      "source": [
        "!mkdir specialised-corpora-s05-cVertSC"
      ],
      "metadata": {
        "id": "dmbYkR4FDU-i"
      },
      "execution_count": 27,
      "outputs": []
    },
    {
      "cell_type": "code",
      "source": [
        "def applyCorrections(SFInVertUnknown, SFOutVertCorrected, DCorrectionsLem, DCorrectionsPoS):\n",
        "    FOutVertCorrected = open(SFOutVertCorrected, 'w')\n",
        "    DReplacements = {}\n",
        "    with open(SFInVertUnknown) as FInVertUnknown:\n",
        "        counter = 0\n",
        "        unknownFound = 0\n",
        "        unknownCorrected = 0\n",
        "        unknownCorrectedPoS = 0\n",
        "        for SLine in FInVertUnknown:\n",
        "            counter +=1\n",
        "            if counter % 1000000 == 0: sys.stdout.write(f'{counter}, unknownFound={unknownFound}, unknownCorrected={unknownCorrected}({unknownCorrected/unknownFound*100}%), unknownTypesCorrected={len(DReplacements)}, unknownCorrectedPoS={unknownCorrectedPoS}\\n')\n",
        "            SLine = SLine.rstrip()\n",
        "            LLine = SLine.split('\\t')\n",
        "            if len(LLine) != 3:\n",
        "                FOutVertCorrected.write(f'{SLine}\\n')\n",
        "            else:\n",
        "                SWord = LLine[0]\n",
        "                SPoS = LLine[1]\n",
        "                SLem = LLine[2]\n",
        "\n",
        "                if SLem == '<unknown>':\n",
        "                    unknownFound +=1\n",
        "                    if SWord in DCorrectionsLem: \n",
        "                        SLem = DCorrectionsLem[SWord]\n",
        "                        unknownCorrected +=1\n",
        "                        try:\n",
        "                            DReplacements[f'{SWord}\\t{SLem}'] += 1\n",
        "                        except:\n",
        "                            DReplacements[f'{SWord}\\t{SLem}'] = 1\n",
        "\n",
        "                    # except: pass\n",
        "\n",
        "                    if SWord in DCorrectionsPoS: \n",
        "                        SPoS = DCorrectionsPoS[SWord]\n",
        "                        unknownCorrectedPoS += 1\n",
        "                    # except: pass\n",
        "                FOutVertCorrected.write(f'{SWord}\\t{SPoS}\\t{SLem}\\n')\n",
        "    FOutVertCorrected.flush()\n",
        "\n",
        "    return (counter, unknownFound, unknownCorrected, len(DReplacements), unknownCorrectedPoS), DReplacements\n",
        "\n",
        "\n",
        "def reportStatistics(TupleIn1):\n",
        "    counter, unknownFound, unknownCorrected, ITypesCorrected, unknownCorrectedPoS = TupleIn1\n",
        "    # ITypesCorrected = len(DReplacements)\n",
        "    UnknownBeforeUpdate = unknownFound / counter\n",
        "    UnknowAfterUpdate = (unknownFound - unknownCorrected) / counter\n",
        "    UnknownChange = UnknownBeforeUpdate - UnknowAfterUpdate\n",
        "\n",
        "    sys.stdout.write(f'\\nAll words:{counter}, Unknown:{unknownFound}, UnknownCorrected:{unknownCorrected}({unknownCorrected/unknownFound*100}%), UnknownTypesCorrected:{ITypesCorrected}, UnknownPoSCorrected:{unknownCorrectedPoS}\\n')\n",
        "    sys.stdout.write(f'\\nUnknown before update:{unknownFound}({UnknownBeforeUpdate * 100})%; Unknown after update:{unknownFound - unknownCorrected}({UnknowAfterUpdate * 100})%; Change:{unknownCorrected}({UnknownChange * 100})%\\n', )\n",
        "\n",
        "\n",
        "def printFrqDict(DFrq, SFOut):\n",
        "    FOut = open(SFOut, 'w')\n",
        "    count = 0\n",
        "    for key, val in sorted(DFrq.items(), key=lambda item: item[1], reverse=True):\n",
        "        count+=1\n",
        "        FOut.write(f'{count}\\t{key}\\t{val}\\n')\n",
        "    FOut.flush()\n",
        "    \n"
      ],
      "metadata": {
        "id": "dr_aiP_sEQTx"
      },
      "execution_count": 33,
      "outputs": []
    },
    {
      "cell_type": "code",
      "source": [
        "TupleStatF2, DReplacementsF2 = applyCorrections('/content/specialised-corpora-s02-vert/cFiktion.vert', '/content/specialised-corpora-s05-cVertSC/cFiktion.vert', DCorrectionsLem2, DCorrectionsPoS2)\n",
        "reportStatistics(TupleStatF2)\n",
        "printFrqDict(DReplacementsF2, '/content/specialised-corpora-s05-cVertSC/cFiktion-replacements.txt')\n",
        "\n"
      ],
      "metadata": {
        "colab": {
          "base_uri": "https://localhost:8080/"
        },
        "id": "jPkfVf0uDsEP",
        "outputId": "d3c5c3fb-7a5c-4c3d-dcd2-f4f78a075bf8"
      },
      "execution_count": 34,
      "outputs": [
        {
          "output_type": "stream",
          "name": "stdout",
          "text": [
            "\n",
            "All words:747302, Unknown:134416, UnknownCorrected:21150(15.734733960242828%), UnknownTypesCorrected:2934, UnknownPoSCorrected:6559\n",
            "\n",
            "Unknown before update:134416(17.98683798517868)%; Unknown after update:113266(15.156656880350916)%; Change:21150(2.830181104827767)%\n"
          ]
        }
      ]
    },
    {
      "cell_type": "code",
      "source": [
        "TupleStatN2, DReplacementsN2 = applyCorrections('/content/specialised-corpora-s02-vert/cNaturwissenschaft.vert', '/content/specialised-corpora-s05-cVertSC/cNaturwissenschaft.vert', DCorrectionsLem2, DCorrectionsPoS2)\n",
        "reportStatistics(TupleStatN2)\n",
        "printFrqDict(DReplacementsN2, '/content/specialised-corpora-s05-cVertSC/cNaturwissenschaft-replacements.txt')\n"
      ],
      "metadata": {
        "colab": {
          "base_uri": "https://localhost:8080/"
        },
        "id": "kB0n5jrNEAlQ",
        "outputId": "1d06cb74-80d4-45df-b8ba-853d2412f9c1"
      },
      "execution_count": 35,
      "outputs": [
        {
          "output_type": "stream",
          "name": "stdout",
          "text": [
            "\n",
            "All words:638588, Unknown:128802, UnknownCorrected:30036(23.31951367214795%), UnknownTypesCorrected:3858, UnknownPoSCorrected:6678\n",
            "\n",
            "Unknown before update:128802(20.169812148051637)%; Unknown after update:98766(15.46631004654018)%; Change:30036(4.703502101511459)%\n"
          ]
        }
      ]
    },
    {
      "cell_type": "code",
      "source": [
        "TupleStatR2, DReplacementsR2 = applyCorrections('/content/specialised-corpora-s02-vert/cRechtswissenschaft.vert', '/content/specialised-corpora-s05-cVertSC/cRechtswissenschaft.vert', DCorrectionsLem2, DCorrectionsPoS2)\n",
        "reportStatistics(TupleStatR2)\n",
        "printFrqDict(DReplacementsR2, '/content/specialised-corpora-s05-cVertSC/cRechtswissenschaft-replacements.txt')\n"
      ],
      "metadata": {
        "colab": {
          "base_uri": "https://localhost:8080/"
        },
        "id": "VdgUZo0FEJxw",
        "outputId": "722bff54-5d19-449b-c684-5cebbda8da97"
      },
      "execution_count": 36,
      "outputs": [
        {
          "output_type": "stream",
          "name": "stdout",
          "text": [
            "1000000, unknownFound=210522, unknownCorrected=47345(22.489336031388643%), unknownTypesCorrected=2785, unknownCorrectedPoS=13066\n",
            "\n",
            "All words:1181412, Unknown:251676, UnknownCorrected:55859(22.194806020438975%), UnknownTypesCorrected:3092, UnknownPoSCorrected:14902\n",
            "\n",
            "Unknown before update:251676(21.302983209921685)%; Unknown after update:195817(16.574827409912885)%; Change:55859(4.7281558000088015)%\n"
          ]
        }
      ]
    }
  ]
}