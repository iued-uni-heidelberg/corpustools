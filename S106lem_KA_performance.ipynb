{
  "nbformat": 4,
  "nbformat_minor": 0,
  "metadata": {
    "colab": {
      "provenance": [],
      "authorship_tag": "ABX9TyPnh0uSmF7rpvox27sgO6ri",
      "include_colab_link": true
    },
    "kernelspec": {
      "name": "python3",
      "display_name": "Python 3"
    },
    "language_info": {
      "name": "python"
    }
  },
  "cells": [
    {
      "cell_type": "markdown",
      "metadata": {
        "id": "view-in-github",
        "colab_type": "text"
      },
      "source": [
        "<a href=\"https://colab.research.google.com/github/iued-uni-heidelberg/corpustools/blob/main/S106lem_KA_performance.ipynb\" target=\"_parent\"><img src=\"https://colab.research.google.com/assets/colab-badge.svg\" alt=\"Open In Colab\"/></a>"
      ]
    },
    {
      "cell_type": "code",
      "execution_count": null,
      "metadata": {
        "id": "MpH5r4vxDGQJ"
      },
      "outputs": [],
      "source": [
        "!wget https://heibox.uni-heidelberg.de/f/0b25b8ae9581461dbb75/?dl=1"
      ]
    },
    {
      "cell_type": "code",
      "source": [
        "!mv index.html?dl=1 corrected2023-07.zip"
      ],
      "metadata": {
        "id": "zqXqac4oDgBO"
      },
      "execution_count": 2,
      "outputs": []
    },
    {
      "cell_type": "code",
      "source": [
        "!unzip corrected2023-07.zip"
      ],
      "metadata": {
        "id": "dO0JYnnVDnh0"
      },
      "execution_count": null,
      "outputs": []
    },
    {
      "cell_type": "markdown",
      "source": [
        "Fiktion"
      ],
      "metadata": {
        "id": "FCF6BJxBrwJ_"
      }
    },
    {
      "cell_type": "code",
      "source": [
        "!head -n 15 /content/corrected2023-07/auto/fiktion/cF-04corr.vert.txt"
      ],
      "metadata": {
        "id": "wOD3wN3Kls16"
      },
      "execution_count": null,
      "outputs": []
    },
    {
      "cell_type": "code",
      "source": [
        "!head -n 15 /content/corrected2023-07/auto/fiktion/cF-frqUnk03corr.txt"
      ],
      "metadata": {
        "id": "36AjASD5l2zG"
      },
      "execution_count": null,
      "outputs": []
    },
    {
      "cell_type": "code",
      "source": [
        "!head -n 15 /content/corrected2023-07/manual/fiktion/cF-04corr.vert.txt"
      ],
      "metadata": {
        "id": "xHWeEjECl9wC"
      },
      "execution_count": null,
      "outputs": []
    },
    {
      "cell_type": "code",
      "source": [
        "!head -n 15 /content/corrected2023-07/manual/fiktion/cF-frqUnk03corr.txt"
      ],
      "metadata": {
        "id": "ytbiXKcJmAbV"
      },
      "execution_count": null,
      "outputs": []
    },
    {
      "cell_type": "markdown",
      "source": [
        "Natur"
      ],
      "metadata": {
        "id": "7FTwGX14ruMY"
      }
    },
    {
      "cell_type": "code",
      "source": [
        "!head -n 15 /content/corrected2023-07/auto/natur/cN-04corr.vert.txt"
      ],
      "metadata": {
        "id": "Tsn3xzjwmOV4"
      },
      "execution_count": null,
      "outputs": []
    },
    {
      "cell_type": "code",
      "source": [
        "!head -n 15 /content/corrected2023-07/auto/natur/cN-frqUnk03corr.txt"
      ],
      "metadata": {
        "id": "Q2AwfS0srA2e"
      },
      "execution_count": null,
      "outputs": []
    },
    {
      "cell_type": "code",
      "source": [
        "!head -n 15 /content/corrected2023-07/manual/natur/cN-04corr.vert.txt"
      ],
      "metadata": {
        "id": "Hd_C1yVyrhch"
      },
      "execution_count": null,
      "outputs": []
    },
    {
      "cell_type": "code",
      "source": [
        "!head -n 15 /content/corrected2023-07/manual/natur/cN-frqUnk03corr.txt"
      ],
      "metadata": {
        "id": "60PTEddDrjjk"
      },
      "execution_count": null,
      "outputs": []
    },
    {
      "cell_type": "markdown",
      "source": [
        "Recht"
      ],
      "metadata": {
        "id": "Fv07004lrzph"
      }
    },
    {
      "cell_type": "code",
      "source": [
        "!head -n 15 /content/corrected2023-07/auto/recht/cR-04corr.vert.txt"
      ],
      "metadata": {
        "id": "GweC2Ll5r3UV"
      },
      "execution_count": null,
      "outputs": []
    },
    {
      "cell_type": "code",
      "source": [
        "!head -n 15 /content/corrected2023-07/auto/recht/cR-frqUnk03corr.txt"
      ],
      "metadata": {
        "id": "VHDxyvoPr4Px"
      },
      "execution_count": null,
      "outputs": []
    },
    {
      "cell_type": "code",
      "source": [
        "!head -n 15 /content/corrected2023-07/manual/recht/cR-04corr.vert.txt"
      ],
      "metadata": {
        "id": "2yHFInx0r4Dg"
      },
      "execution_count": null,
      "outputs": []
    },
    {
      "cell_type": "code",
      "source": [
        "!head -n 15 /content/corrected2023-07/manual/recht/cR-frqUnk03corr.txt"
      ],
      "metadata": {
        "id": "HZaAqBaFr3xN"
      },
      "execution_count": null,
      "outputs": []
    }
  ]
}