{
  "nbformat": 4,
  "nbformat_minor": 0,
  "metadata": {
    "colab": {
      "provenance": [],
      "authorship_tag": "ABX9TyN4k5G0/1fOUs90y117uUwM",
      "include_colab_link": true
    },
    "kernelspec": {
      "name": "python3",
      "display_name": "Python 3"
    },
    "language_info": {
      "name": "python"
    }
  },
  "cells": [
    {
      "cell_type": "markdown",
      "metadata": {
        "id": "view-in-github",
        "colab_type": "text"
      },
      "source": [
        "<a href=\"https://colab.research.google.com/github/iued-uni-heidelberg/corpustools/blob/main/S106lem_KA_performance.ipynb\" target=\"_parent\"><img src=\"https://colab.research.google.com/assets/colab-badge.svg\" alt=\"Open In Colab\"/></a>"
      ]
    },
    {
      "cell_type": "code",
      "execution_count": null,
      "metadata": {
        "id": "MpH5r4vxDGQJ"
      },
      "outputs": [],
      "source": [
        "!wget https://heibox.uni-heidelberg.de/f/0b25b8ae9581461dbb75/?dl=1"
      ]
    },
    {
      "cell_type": "code",
      "source": [
        "!mv index.html?dl=1 corrected2023-07.zip"
      ],
      "metadata": {
        "id": "zqXqac4oDgBO"
      },
      "execution_count": 2,
      "outputs": []
    },
    {
      "cell_type": "code",
      "source": [
        "!unzip corrected2023-07.zip"
      ],
      "metadata": {
        "id": "dO0JYnnVDnh0"
      },
      "execution_count": null,
      "outputs": []
    },
    {
      "cell_type": "code",
      "source": [
        "!head -n 15 /content/corrected2023-07/auto/fiktion/cF-04corr.vert.txt"
      ],
      "metadata": {
        "id": "wOD3wN3Kls16",
        "outputId": "2ebc990b-a6e4-425e-ddff-6bfd313f3fbc",
        "colab": {
          "base_uri": "https://localhost:8080/"
        }
      },
      "execution_count": 5,
      "outputs": [
        {
          "output_type": "stream",
          "name": "stdout",
          "text": [
            "ჰძიოიაჩ\tIJ\tჰძიოიაჩებს\t**?**\t\n",
            "შსბეფან\tNSD:II\tშსბეფინი\t**?**\t\n",
            "ცვაიზბი\tJSN\tცვაიზი\t**?**\t\n",
            "ამოკი0ი\tNSN\t<unknown>\t\n",
            "1912\tMCSN\t@card@\t\n",
            "წლის\tNSG\tწელი\t\n",
            "მარტში\tNSD:II\tმარტი\t\n",
            "ნეაპოლის\tNSG\tნეაპოლი\t\n",
            "ნავსადგურში\tNSD:II\tნავსადგური\t\n",
            "დიდი\tJSN\tდიდი\t\n",
            "საოკეანო\tJSN\tსაოკეანო\t\n",
            "გემის\tNSG\tგემი\t\n",
            "გადმოტვირთვისას\tNSD\tგადმოტვირთვე\t**?**\t\n",
            "გავმხდარიყავი\tJSN\tგავმხდარიყავი\t\n",
            ",\tYM\t,\t\n"
          ]
        }
      ]
    },
    {
      "cell_type": "code",
      "source": [
        "!head -n 15 /content/corrected2023-07/auto/fiktion/cF-frqUnk03corr.txt"
      ],
      "metadata": {
        "id": "36AjASD5l2zG",
        "outputId": "8ca74632-a188-496e-e68e-f052918edca6",
        "colab": {
          "base_uri": "https://localhost:8080/"
        }
      },
      "execution_count": 6,
      "outputs": [
        {
          "output_type": "stream",
          "name": "stdout",
          "text": [
            "ბუდენბროკები\tბუდენბროკი\t\t684\n",
            "კ\tკი\t\t610\n",
            "ცვაიგი\tცვაიგი\t\t376\n",
            "ვან\tვანი\t\t271\n",
            "ფროილაინ\tფროილა\t\t260\n",
            "კაფკა\tკაფი\t\t247\n",
            "ტონიმ\tტონი\t\t211\n",
            "კონსულმა\tკონსული\t\t205\n",
            "ჰანოს\tჰანო\t\t196\n",
            "მოორ\tმოორი\t\t153\n",
            "ჰანო\tჰანს\t\t152\n",
            "ბუდენბროკს\tბუდენბროკი\t\t144\n",
            "გერდა\tგერდება\t\t139\n",
            "ფრიდა\tფრიდა\t\t137\n",
            "თომასი\tთომასი\t\t135\n"
          ]
        }
      ]
    },
    {
      "cell_type": "code",
      "source": [
        "!head -n 15 /content/corrected2023-07/manual/fiktion/cF-04corr.vert.txt"
      ],
      "metadata": {
        "id": "xHWeEjECl9wC",
        "outputId": "4779e4f0-8a5d-44c4-c19c-74bae8977b0e",
        "colab": {
          "base_uri": "https://localhost:8080/"
        }
      },
      "execution_count": 7,
      "outputs": [
        {
          "output_type": "stream",
          "name": "stdout",
          "text": [
            "ჰძიოიაჩ\tIJ\tჰძიოიაჩებს\t**?**\t?\n",
            "შსბეფან\tNSD:II\tშსბეფინი\t**?**   ?\t\n",
            "ცვაიზბი\tJSN\tცვაიზი\t**?**\t?\n",
            "ამოკი0ი\tNSN\t<unknown>\t\n",
            "1912\tMCSN\t@card@\t\n",
            "წლის\tNSG\tწელი\t\n",
            "მარტში\tNSD:II\tმარტი\t\n",
            "ნეაპოლის\tNSG\tნეაპოლი\t\n",
            "ნავსადგურში\tNSD:II\tნავსადგური\t\n",
            "დიდი\tJSN\tდიდი\t\n",
            "საოკეანო\tJSN\tსაოკეანო\t\n",
            "გემის\tNSG\tგემი\t\n",
            "გადმოტვირთვისას\tNSD\tგადმოტვირთვე\t**?**\t?\n",
            "გავმხდარიყავი\tJSN\tგავმხდარიყავი\t?\n",
            ",\tYM\t,\t\n"
          ]
        }
      ]
    },
    {
      "cell_type": "code",
      "source": [
        "!head -n 15 /content/corrected2023-07/manual/fiktion/cF-frqUnk03corr.txt"
      ],
      "metadata": {
        "id": "ytbiXKcJmAbV",
        "outputId": "92966330-9888-4bea-8aab-cbd42cff35ab",
        "colab": {
          "base_uri": "https://localhost:8080/"
        }
      },
      "execution_count": 10,
      "outputs": [
        {
          "output_type": "stream",
          "name": "stdout",
          "text": [
            "ბუდენბროკები\tბუდენბროკი\t\t684\n",
            "კ\tკი\t\t610\n",
            "ცვაიგი\tცვაიგი\t\t376\n",
            "ვან\tვანი\t\t271\n",
            "ფროილაინ\tფროილა  ?\t\t260\n",
            "კაფკა\tკაფი   კაფკა\t\t247\n",
            "ტონიმ\tტონი\t\t211\n",
            "კონსულმა\tკონსული\t\t205\n",
            "ჰანოს\tჰანო\t\t196\n",
            "მოორ\tმოორი\t?\t153\n",
            "ჰანო\tჰანს\t\t152\n",
            "ბუდენბროკს\tბუდენბროკი\t\t144\n",
            "გერდა\tგერდება   გერდა\t\t139\n",
            "ფრიდა\tფრიდა\t\t137\n",
            "თომასი\tთომასი\t\t135\n"
          ]
        }
      ]
    },
    {
      "cell_type": "code",
      "source": [],
      "metadata": {
        "id": "Tsn3xzjwmOV4"
      },
      "execution_count": null,
      "outputs": []
    }
  ]
}