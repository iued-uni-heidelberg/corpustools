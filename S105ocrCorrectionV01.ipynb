{
  "nbformat": 4,
  "nbformat_minor": 0,
  "metadata": {
    "colab": {
      "provenance": [],
      "authorship_tag": "ABX9TyNxw5NSLCp46RNDUd/z0f23",
      "include_colab_link": true
    },
    "kernelspec": {
      "name": "python3",
      "display_name": "Python 3"
    },
    "language_info": {
      "name": "python"
    }
  },
  "cells": [
    {
      "cell_type": "markdown",
      "metadata": {
        "id": "view-in-github",
        "colab_type": "text"
      },
      "source": [
        "<a href=\"https://colab.research.google.com/github/iued-uni-heidelberg/corpustools/blob/main/S105ocrCorrectionV01.ipynb\" target=\"_parent\"><img src=\"https://colab.research.google.com/assets/colab-badge.svg\" alt=\"Open In Colab\"/></a>"
      ]
    },
    {
      "cell_type": "markdown",
      "source": [
        "# correction of ocr-generated text \n",
        "- using correction dictionaries \n",
        "- using rules\n"
      ],
      "metadata": {
        "id": "pS0vQT9LRLss"
      }
    },
    {
      "cell_type": "code",
      "execution_count": 1,
      "metadata": {
        "colab": {
          "base_uri": "https://localhost:8080/"
        },
        "id": "Hi1gKbdQQyIF",
        "outputId": "691965ca-3f55-4ebc-9f2b-8b3a9df5581e"
      },
      "outputs": [
        {
          "output_type": "stream",
          "name": "stdout",
          "text": [
            "--2023-03-20 09:09:59--  https://heibox.uni-heidelberg.de/f/d601ceb0af5a4671a8e7/?dl=1\n",
            "Resolving heibox.uni-heidelberg.de (heibox.uni-heidelberg.de)... 129.206.7.113\n",
            "Connecting to heibox.uni-heidelberg.de (heibox.uni-heidelberg.de)|129.206.7.113|:443... connected.\n",
            "HTTP request sent, awaiting response... 302 Found\n",
            "Location: https://heibox.uni-heidelberg.de/seafhttp/files/03abb60f-3420-412b-8896-ec2337f57ba3/Parfum_Arm_ABBY.txt [following]\n",
            "--2023-03-20 09:10:02--  https://heibox.uni-heidelberg.de/seafhttp/files/03abb60f-3420-412b-8896-ec2337f57ba3/Parfum_Arm_ABBY.txt\n",
            "Reusing existing connection to heibox.uni-heidelberg.de:443.\n",
            "HTTP request sent, awaiting response... 200 OK\n",
            "Length: 867013 (847K) [text/plain]\n",
            "Saving to: ‘index.html?dl=1’\n",
            "\n",
            "index.html?dl=1     100%[===================>] 846.69K  1.09MB/s    in 0.8s    \n",
            "\n",
            "2023-03-20 09:10:03 (1.09 MB/s) - ‘index.html?dl=1’ saved [867013/867013]\n",
            "\n",
            "--2023-03-20 09:10:03--  https://heibox.uni-heidelberg.de/f/743a1a57a37c42d8b585/?dl=1\n",
            "Resolving heibox.uni-heidelberg.de (heibox.uni-heidelberg.de)... 129.206.7.113\n",
            "Connecting to heibox.uni-heidelberg.de (heibox.uni-heidelberg.de)|129.206.7.113|:443... connected.\n",
            "HTTP request sent, awaiting response... 302 Found\n",
            "Location: https://heibox.uni-heidelberg.de/seafhttp/files/3cc593ed-d810-49ba-8dd1-1fe7e2fd09b4/Parfum_Armenian_uncorrected.txt [following]\n",
            "--2023-03-20 09:10:04--  https://heibox.uni-heidelberg.de/seafhttp/files/3cc593ed-d810-49ba-8dd1-1fe7e2fd09b4/Parfum_Armenian_uncorrected.txt\n",
            "Reusing existing connection to heibox.uni-heidelberg.de:443.\n",
            "HTTP request sent, awaiting response... 200 OK\n",
            "Length: 854251 (834K) [text/plain]\n",
            "Saving to: ‘index.html?dl=1’\n",
            "\n",
            "index.html?dl=1     100%[===================>] 834.23K  1.27MB/s    in 0.6s    \n",
            "\n",
            "2023-03-20 09:10:05 (1.27 MB/s) - ‘index.html?dl=1’ saved [854251/854251]\n",
            "\n"
          ]
        }
      ],
      "source": [
        "!wget https://heibox.uni-heidelberg.de/f/d601ceb0af5a4671a8e7/?dl=1\n",
        "!mv index.html?dl=1 Parfum_Arm_ABBY.txt\n",
        "\n",
        "!wget https://heibox.uni-heidelberg.de/f/743a1a57a37c42d8b585/?dl=1\n",
        "!mv index.html?dl=1 Parfum_Armenian_uncorrected.txt\n",
        "\n"
      ]
    },
    {
      "cell_type": "code",
      "source": [
        "# dealing with Armenian OCR output with line breaks (is it correct?)\n",
        "\n",
        "FName = 'Parfum_Armenian_uncorrected.txt'\n",
        "FNameOut = 'Parfum_Armenian.txt'\n",
        "\n",
        "FIn = open(FName, 'r')\n",
        "FOut = open(FNameOut, 'w')\n",
        "\n",
        "for SLine in FIn:\n",
        "    SLine = SLine.strip()\n",
        "    if SLine == '': \n",
        "        FOut.write('\\n\\n')\n",
        "        continue\n",
        "    if SLine[-1] == '-':\n",
        "        SLine2write = SLine[:-1]\n",
        "        FOut.write(SLine2write)\n",
        "        continue\n",
        "\n",
        "    FOut.write(SLine + ' ')\n",
        "FOut.flush()\n",
        "\n"
      ],
      "metadata": {
        "id": "LvHpRxM-ncIX"
      },
      "execution_count": 25,
      "outputs": []
    },
    {
      "cell_type": "code",
      "source": [
        "!wc Parfum_Arm_ABBY.txt\n",
        "!wc Parfum_Armenian_uncorrected.txt\n",
        "!wc Parfum_Armenian.txt"
      ],
      "metadata": {
        "colab": {
          "base_uri": "https://localhost:8080/"
        },
        "id": "bKaXMp2uSDZk",
        "outputId": "299acd18-b7d4-4055-f90f-c7bbe0711cac"
      },
      "execution_count": 26,
      "outputs": [
        {
          "output_type": "stream",
          "name": "stdout",
          "text": [
            "  1489  68852 867013 Parfum_Arm_ABBY.txt\n",
            " 13592  72207 854251 Parfum_Armenian_uncorrected.txt\n",
            "  6126  69006 849250 Parfum_Armenian.txt\n"
          ]
        }
      ]
    },
    {
      "cell_type": "code",
      "source": [
        "!wget https://heibox.uni-heidelberg.de/f/c977e87cf2b244e6801b/?dl=1\n",
        "!mv index.html?dl=1 KorpusARM.tgz\n"
      ],
      "metadata": {
        "id": "z-5mB-CUSTTU"
      },
      "execution_count": null,
      "outputs": []
    },
    {
      "cell_type": "code",
      "source": [
        "!tar xvzf KorpusARM.tgz\n",
        "!mkdir KorpusARM1\n",
        "!mkdir KorpusARM1/stage01\n",
        "# concatenating files\n",
        "!cat korpusARM/hyFiktion/* >KorpusARM1/stage01/hyFiktion.txt\n",
        "!cat korpusARM/hyNatur/* >KorpusARM1/stage01/hyNatur.txt\n",
        "!cat korpusARM/hyRecht/* >KorpusARM1/stage01/hyRecht.txt\n",
        "!mkdir KorpusARM1/stage02\n",
        "\n",
        "# function for Armenian line breaks:\n",
        "\n",
        "def correctLineBreaksHY(FName, FNameOut):\n",
        "    FIn = open(FName, 'r')\n",
        "    FOut = open(FNameOut, 'w')\n",
        "    countHyphens = 0\n",
        "    for SLine in FIn:\n",
        "        SLine = SLine.strip()\n",
        "        if SLine == '': \n",
        "            FOut.write('\\n\\n')\n",
        "            continue\n",
        "        if SLine[-1] == '-':\n",
        "            SLine2write = SLine[:-1]\n",
        "            FOut.write(SLine2write)\n",
        "            countHyphens +=1\n",
        "            continue\n",
        "        FOut.write(SLine + ' ')\n",
        "    FOut.flush()\n",
        "    print(str(countHyphens) + ' hyphens corrected')\n",
        "    return\n",
        "\n",
        "correctLineBreaksHY('KorpusARM1/stage01/hyFiktion.txt', 'KorpusARM1/stage02/hyFiktion.txt')\n",
        "correctLineBreaksHY('KorpusARM1/stage01/hyNatur.txt', 'KorpusARM1/stage02/hyNatur.txt')\n",
        "correctLineBreaksHY('KorpusARM1/stage01/hyRecht.txt', 'KorpusARM1/stage02/hyRecht.txt')\n"
      ],
      "metadata": {
        "id": "pywrhPCXSVjz"
      },
      "execution_count": null,
      "outputs": []
    },
    {
      "cell_type": "code",
      "source": [
        "\n",
        "!wc KorpusARM1/stage02/hyFiktion.txt\n",
        "!wc KorpusARM1/stage02/hyNatur.txt\n",
        "!wc KorpusARM1/stage02/hyRecht.txt"
      ],
      "metadata": {
        "colab": {
          "base_uri": "https://localhost:8080/"
        },
        "id": "kUqWQMklS2oD",
        "outputId": "85b5fc3c-d6cf-40ed-e761-285385c3da08"
      },
      "execution_count": 5,
      "outputs": [
        {
          "output_type": "stream",
          "name": "stdout",
          "text": [
            "   6208   92131 1081755 KorpusARM1/stage02/hyFiktion.txt\n",
            "  3642  67142 870081 KorpusARM1/stage02/hyNatur.txt\n",
            "   8940   86621 1288655 KorpusARM1/stage02/hyRecht.txt\n"
          ]
        }
      ]
    },
    {
      "cell_type": "code",
      "source": [
        "# Dowloading the file with corrections\n",
        "!wget https://heibox.uni-heidelberg.de/f/14706c04a4024b2f937d/?dl=1\n",
        "!mv index.html?dl=1 Pilot-Corrections-all.tsv\n",
        "!wc Pilot-Corrections-all.tsv"
      ],
      "metadata": {
        "id": "n2qCSxAKT8qT"
      },
      "execution_count": null,
      "outputs": []
    },
    {
      "cell_type": "code",
      "source": [
        "def readCorrections(colNumberOri, colNumberCorrect, SFIn, SFOut = None):\n",
        "    LTWrongCorrect = []\n",
        "    DWrongCorrect = {}\n",
        "    FOut = open(SFOut, 'w')\n",
        "    with open(SFIn, 'r') as FIn:\n",
        "        count = 0\n",
        "        for SLine in FIn:\n",
        "            count += 1\n",
        "            if count == 1: continue\n",
        "            SLine = SLine.strip()\n",
        "            LLine = SLine.split('\\t')\n",
        "            SWrong = LLine[colNumberOri]\n",
        "            SCorrect = LLine[colNumberCorrect]\n",
        "            if SWrong != '' and SCorrect != '' and SWrong != SCorrect:\n",
        "                TWrongCorrect = (f'[{SWrong}]', f'[{SCorrect}]')\n",
        "                LTWrongCorrect.append(TWrongCorrect)\n",
        "                if SWrong in DWrongCorrect.keys():\n",
        "                    SCorrect1 = DWrongCorrect[SWrong]\n",
        "                    if SCorrect1 != SCorrect:\n",
        "                        print(SWrong + '\\t' + SCorrect1 + '\\t' + SCorrect)\n",
        "                DWrongCorrect[SWrong] = SCorrect\n",
        "    if SFOut:\n",
        "        for SWrong, SCorrect in LTWrongCorrect:\n",
        "            FOut.write(f'{SWrong}\\t{SCorrect}\\n')    \n",
        "        FOut.flush()\n",
        "    print(len(DWrongCorrect))\n",
        "\n",
        "    return LTWrongCorrect, DWrongCorrect\n",
        "\n",
        "def readCorrectionsFrq(colNumberOri, colNumberCorrect, colNumberFrq, SFIn, SFOut = None):\n",
        "    LTWrongCorrect = []\n",
        "    DWrongCorrect = {}\n",
        "    FOut = open(SFOut, 'w')\n",
        "    with open(SFIn, 'r') as FIn:\n",
        "        count = 0\n",
        "        for SLine in FIn:\n",
        "            count += 1\n",
        "            if count == 1: continue\n",
        "            SLine = SLine.strip()\n",
        "            LLine = SLine.split('\\t')\n",
        "            SWrong = LLine[colNumberOri]\n",
        "            SCorrect = LLine[colNumberCorrect]\n",
        "            SFrq = LLine[colNumberFrq]\n",
        "            if SWrong != '' and SCorrect != '' and SWrong != SCorrect:\n",
        "                TWrongCorrect = (f'[{SWrong}]', f'[{SCorrect}]', f'{SFrq}')\n",
        "                LTWrongCorrect.append(TWrongCorrect)\n",
        "                if SWrong in DWrongCorrect.keys():\n",
        "                    SCorrect1 = DWrongCorrect[SWrong]\n",
        "                    if SCorrect1 != SCorrect:\n",
        "                        print(SWrong + '\\t' + SCorrect1 + '\\t' + SCorrect)\n",
        "                DWrongCorrect[SWrong] = SCorrect\n",
        "    if SFOut:\n",
        "        for SWrong, SCorrect, SFrq in LTWrongCorrect:\n",
        "            FOut.write(f'{SWrong}\\t{SCorrect}\\t{SFrq}\\n')    \n",
        "        FOut.flush()\n",
        "    print(len(DWrongCorrect))\n",
        "\n",
        "    return LTWrongCorrect, DWrongCorrect\n"
      ],
      "metadata": {
        "id": "cuDRPHpQUGxD"
      },
      "execution_count": 7,
      "outputs": []
    },
    {
      "cell_type": "code",
      "source": [
        "LTWrongCorrectWordF, DWrongCorrectWordF = readCorrectionsFrq(1, 4, 9, '/content/Pilot-Corrections-all.tsv', SFOut = 'Pilot-Corrections-all-WordForm.tsv')\n",
        "LTWrongCorrectLemmaF, DWrongCorrectLemmaF = readCorrectionsFrq(3, 6, 9, '/content/Pilot-Corrections-all.tsv', SFOut = 'Pilot-Corrections-all-Lemma.tsv')\n",
        "print(LTWrongCorrectWordF)\n",
        "print(LTWrongCorrectLemmaF)\n"
      ],
      "metadata": {
        "colab": {
          "base_uri": "https://localhost:8080/"
        },
        "id": "6q3Qd74vUVET",
        "outputId": "47ffbd91-45c0-46e6-ec5a-11125d4aacbc"
      },
      "execution_count": 8,
      "outputs": [
        {
          "output_type": "stream",
          "name": "stdout",
          "text": [
            "ինճ\tինձ\tինչ\n",
            "առջնից\tառջև\tառջևից\n",
            "ինճ\tինչ\tինձ\n",
            "172\n",
            "ինճ\tինչ\tես\n",
            "գիտել\tգիտենալ\tիմանալ\n",
            "206\n",
            "[('[մերճակա]', '[մերձակա]', '4'), ('[առջն]', '[առջև]', '4'), ('[թեթնություն]', '[թեթևություն]', '4'), ('[Եթենա]', '[եթե նա]', '4'), ('[ննա]', '[նա]', '4'), ('[ճեռքերն]', '[ձեռքից]', '4'), ('[ճայն]', '[ձայն]', '4'), ('[ճեռքով]', '[ձեռքով]', '4'), ('[այլնս]', '[այլևս]', '4'), ('[ետնի]', '[ետևի]', '4'), ('[կեղնները]', '[կեղևները]', '4'), ('[ճկան]', '[ձկան]', '4'), ('[ննա]', '[նա]', '4'), ('[բանաձնի]', '[բանաձևի]', '4'), ('[ճեր]', '[ձեր]', '4'), ('[առնտրական]', '[առևտրական]', '4'), ('[արնելյան]', '[արևելյան]', '4'), ('[կուղնորվի]', '[կուղևորվի]', '4'), ('[նս]', '[ևս]', '4'), ('[հետնեց]', '[հետևել]', '4'), ('[նուխիսկ]', '[նույնիսկ]', '4'), ('[երնույթ]', '[երևույթ]', '4'), ('[քրտնքով]', '[քրտինքով]', '4'), ('[արվարճանում]', '[արվարձանում]', '4'), ('[անճամբ]', '[անձամբ]', '4'), ('[ճայնը]', '[ձայնը]', '4'), ('[ճգվում]', '[ձգվում]', '4'), ('[ճիու]', '[ձիու]', '4'), ('[դարճնում]', '[դարձնում]', '4'), ('[ուղնորվում]', '[ուղևորվում ]', '4'), ('[իջնանատան]', '[իջևանատան]', '4'), ('[ճգտում]', '[ձգտում]', '4'), ('[դրսնորում]', '[դրսևորում]', '3'), ('[արվարճանի]', '[արվարձանի]', '3'), ('[ետնում]', '[ետևում]', '3'), ('[ճնավորված]', '[ձևավորված]', '3'), ('[Հետնաբար]', '[հետևաբար]', '3'), ('[այլնս]', '[այլևս]', '3'), ('[Շավանաբար]', '[հավանաբար]', '3'), ('[սկզբիցնեթ]', '[սկզբիցևեթ]', '3'), ('[միջն]', '[միջև]', '3'), ('[համաճայնության]', '[համաձայնություն]', '3'), ('[Թերնս]', '[թերևս]', '3'), ('[տերնի]', '[տերև]', '3'), ('[թնատակերի]', '[թևատակ]', '3'), ('[դոււս]', '[դուրս]', '3'), ('[բարճրացավ]', '[բարձրանալ]', '3'), ('[երկարատն]', '[երկարատև]', '3'), ('[նախնառաջ]', '[նախևառաջ]', '3'), ('[ներքնից]', '[ներքև]', '3'), ('[առջնից]', '[առջև]', '3'), ('[ճեռնոցագործական]', '[ձեռնոցագործական]', '3'), ('[հարնան]', '[գարնան]', '3'), ('[ճգտումը]', '[ձգտումը]', '3'), ('[առջնում]', '[առջևում]', '3'), ('[ճմռանը]', '[ձմռանը]', '3'), ('[սնահեր]', '[սևահեր]', '3'), ('[ծանրութեթն]', '[ծանրութեթև]', '3'), ('[ճագի]', '[ձագի]', '3'), ('[Այլնս]', '[այլևս]', '3'), ('[ինճ]', '[ինձ]', '3'), ('[ճեռքն]', '[ձեռքն]', '3'), ('[արճագանք]', '[արձագանք]', '3'), ('[ճմեռ]', '[ձմեռ]', '2'), ('[պառկածէրգերեզմանատանվրա]', '[պառկած էր գերեզմանատան վրա]', '2'), ('[ճմերուկների]', '[ձմերուկների]', '2'), ('[ունողկալի]', '[ու նողկալի]', '2'), ('[գլխապտույտնե]', '[գլխապտույտներ]', '2'), ('[ճայնի]', '[ձայնի]', '2'), ('[ճկների]', '[ձկների]', '2'), ('[այլնայլ]', '[այլևայլ]', '2'), ('[ճնականություններից]', '[ձևականություններից]', '2'), ('[չուննորներին]', '[չունևորներին]', '2'), ('[արճակվող]', '[արձակվել]', '2'), ('[խամարդ]', '[տղամարդ]', '2'), ('[Միգուցենա]', '[միգուցե նա]', '2'), ('[ջղաճգութու]', '[Ջղաձգություն]', '2'), ('[Դետեսնում]', '[դե տեսնում ]', '2'), ('[բարճրաց]', '[բարձրացնել]', '2'), ('[ինճ]', '[ինձ]', '2'), ('[Որովհետն]', '[որովհետև]', '2'), ('[ննույնիսկ]', '[նույնիսկ]', '2'), ('[հուսահատեգնում]', '[հեւսահատեցնել]', '2'), ('[որնրան]', '[որ նրան]', '2'), ('[Ջգազմունքներից]', '[Զգացմունք]', '2'), ('[մնահավատությոն]', '[սնահավատություն]', '2'), ('[հեթանոսա]', '[հեթանոսացում]', '2'), ('[խարույկՄ]', '[խարույկ]', '2'), ('[տուցում]', '[մատուցում]', '2'), ('[նականռթյան]', '[բանականություն]', '2'), ('[անձր]', '[անձ, անձրև]', '2'), ('[տարօրի]', '[տարօրինակ]', '2'), ('[թնիկները]', '[թևիկ]', '2'), ('[աստվածավախու]', '[աստվածավախություն]', '2'), ('[բարճր]', '[բարձր]', '2'), ('[լավէ]', '[լավ է]', '2'), ('[Թռենել]', '[թռնել]', '2'), ('[հանճնեց]', '[հանձնել]', '2'), ('[Դհյոյում]', '[Դյո]', '2'), ('[տակիզ]', '[տակից]', '2'), ('[առջն]', '[առջև]', '36'), ('[ետնից]', '[ետևից]', '30'), ('[միջն]', '[միջև]', '22'), ('[այնուհետն]', '[այնուհետև]', '22'), ('[բացարճակապես]', '[բացարձակապես]', '21'), ('[որնէ]', '[որևէ]', '20'), ('[այլնս]', '[այլևս]', '19'), ('[թեթն]', '[թեթև]', '18'), ('[թեթնակի]', '[թեթևակի]', '17'), ('[որնէ]', '[որևէ]', '16'), ('[ետնում]', '[ետևում]', '16'), ('[արնի]', '[արևի]', '14'), ('[միննույն]', '[միևնույն]', '13'), ('[վերնում]', '[վերևում]', '13'), ('[ինճ]', '[ինչ]', '13'), ('[արճակում]', '[արձակում]', '12'), ('[թերնս]', '[թերևս]', '12'), ('[երբնիցե]', '[երբևիցե]', '11'), ('[ճեռքը]', '[ձեռքը]', '10'), ('[երնակայության]', '[երևակայության]', '10'), ('[արնմուտք]', '[արևմուտք]', '10'), ('[ճեռք]', '[ձեռք]', '10'), ('[ճեռքի]', '[ձեռքի]', '9'), ('[ճայնով]', '[ձայնով]', '9'), ('[նան]', '[նաև]', '8'), ('[դեռնս]', '[դեռևս]', '8'), ('[ճեռքերը]', '[ձեռքերը]', '8'), ('[հետնում]', '[հետևում]', '8'), ('[արճակող]', '[արձակող]', '8'), ('[որնիցե]', '[որևիցե]', '8'), ('[դեռնս]', '[դեռևս]', '8'), ('[այլնս]', '[այլևս]', '8'), ('[ճեռքին]', '[ձեռքին]', '7'), ('[արնմտյան]', '[արևմտյան]', '7'), ('[այլես]', '[այլևս]', '7'), ('[Նախնառաջ]', '[նախևառաջ]', '7'), ('[հոգնոր]', '[հոգևոր]', '6'), ('[ճեռքերով]', '[ձեռքերով]', '6'), ('[ներքնում]', '[ներքևում]', '6'), ('[համարճակվում]', '[համարձակվում]', '5'), ('[արնելք]', '[արևելք]', '5'), ('[առանճին]', '[առանձին]', '5'), ('[արնմուտքից]', '[արևմուտքից]', '5'), ('[երնակայական]', '[երևակայական]', '5'), ('[թնածում]', '[թևածում]', '5'), ('[բանաճնի]', '[բանաձևի]', '5'), ('[դարճավ]', '[դարձավ]', '5'), ('[բանաճնը]', '[բանաձևը]', '5'), ('[թեթնացած]', '[թեթևացած]', '5'), ('[հետնելով]', '[հետևելով]', '5'), ('[հետնել]', '[հետևել]', '5'), ('[կարնոր]', '[կարևոր]', '5'), ('[ճիու]', '[ձիու]', '5'), ('[հեղճուցիչ]', '[հեղձուցիչ]', '5'), ('[անճնական]', '[անձնական]', '5'), ('[առջնից]', '[առջևից]', '3'), ('[երնում]', '[երևում]', '3'), ('[ինճ]', '[ինձ]', '3'), ('[փորճ]', '[փորձ]', '3'), ('[բանաձնը]', '[բանաձևը]', '3'), ('[եթենա]', '[եթե]', '3'), ('[ինճ]', '[ինձ]', '3'), ('[փորճն]', '[փորձն]', '3'), ('[բանաձն]', '[բանաձևն]', '3'), ('[բանաճն]', '[բանաձևն]', '3'), ('[բարճրացնել]', '[բարձրացնել]', '3'), ('[Այլնս]', '[այլևս]', '3'), ('[սնահեր]', '[սևահեր]', '3'), ('[բացարճակ]', '[բացարձակ]', '3'), ('[ճգտելով]', '[ձգտելով]', '3'), ('[բանաճներ]', '[բանաձևեր]', '3'), ('[թեն]', '[թեև]', '3'), ('[տերնները]', '[տերևերը]', '3'), ('[բարճունքներում]', '[բարձունքներում]', '3'), ('[առնտուրը]', '[առևտուրը]', '3'), ('[անճամբ]', '[անձամբ]', '3'), ('[օթնան]', '[օթևան]', '3'), ('[բանաճներով]', '[բանաձներով]', '3'), ('[արճակել]', '[արձակել]', '3'), ('[բնեռը]', '[բևեռը]', '3'), ('[օճեր]', '[օձեր]', '3'), ('[ոջ]', '[ոչ]', '3'), ('[անձրնը]', '[անձրևը]', '3'), ('[թեթն]', '[թեթև]', '3'), ('[ճգում]', '[ձգում]', '3'), ('[տաքագնում]', '[տաքացնում]', '3'), ('[Հնայած]', '[Չնայած]', '3'), ('[ճեռքերի]', '[Ձեռքերի]', '3'), ('[այխքան]', '[այդքան]', '3'), ('[ճնացրեց]', '[ձևացրեց]', '3'), ('[երնակայությունների]', '[երևակայությունների]', '3'), ('[առջն]', '[առջև]', '3'), ('[բարճր]', '[բարձր]', '3')]\n",
            "[('[գաղտագող]', '[գաղտագողի]', '5'), ('[լաուրա]', '[Լաուրա]', '5'), ('[տաններոն]', '[Տաններոն]', '5'), ('[մերճակա]', '[մերձակա]', '4'), ('[ռանալել]', '[կռանալ]', '4'), ('[Տերն]', '[Տեր]', '4'), ('[ճեռք]', '[ձեռք]', '4'), ('[կարագից]', '[կարագ]', '4'), ('[ճայն]', '[ձայն]', '4'), ('[ճեռք]', '[ձեռք]', '4'), ('[այլնս]', '[այլևս]', '4'), ('[ետուն]', '[ետև]', '4'), ('[կեղն]', '[կեղև]', '4'), ('[լուսաբացի]', '[լուսաբաց]', '4'), ('[շուրջբոլոր]', '[շուրջբոլորը]', '4'), ('[ճիկ]', '[ձուկ]', '4'), ('[դիմափոշու]', '[դիմափոշի]', '4'), ('[ննա]', '[նա]', '4'), ('[բանաձին]', '[բանաձև]', '4'), ('[ճեր]', '[դուք]', '4'), ('[առնտրական]', '[առևտրական]', '4'), ('[արնելյան]', '[արևելյան]', '4'), ('[կուղնոր]', '[ուղևորվել]', '4'), ('[փափկենալ]', '[փափկել]', '4'), ('[իս]', '[ևս]', '4'), ('[հետնել]', '[հետևել]', '4'), ('[փնթփնթել]', '[փնթփնթալ]', '4'), ('[մեսինա]', '[Մեսինա]', '4'), ('[նուխիսկ]', '[նույնիսկ]', '4'), ('[քացնել]', '[չքանալ]', '4'), ('[երնույթ]', '[երևույթ]', '4'), ('[քրտնք]', '[քրտինք]', '4'), ('[արվարճան]', '[արվարձան]', '4'), ('[անճամբ]', '[անձամբ]', '4'), ('[ճայն]', '[ձայն]', '4'), ('[ճգվել]', '[ձգվել]', '4'), ('[թունելի]', '[թունել]', '4'), ('[բատիստ]', '[Բատիստ]', '4'), ('[ճիու]', '[ձի]', '4'), ('[դարճնել]', '[դարձնել]', '4'), ('[ուղնորվել]', '[ուղևորվել]', '4'), ('[ռահել]', '[կռահել]', '4'), ('[Ռիշին]', '[Ռիշի]', '4'), ('[լաուրային]', '[Լաուրա]', '4'), ('[իջնանատան]', '[իջևանատուն]', '4'), ('[Գրասյան]', '[գրասյուն]', '4'), ('[ճգտել]', '[ձգտել]', '4'), ('[դրսնոր]', '[դրսևորել]', '3'), ('[արվարճան]', '[արվարձան]', '3'), ('[նվիրակար]', '[ամենագարշահոտ]', '3'), ('[ետնել]', '[ետև]', '3'), ('[ծծմոր]', '[ծծմայր]', '3'), ('[ծծմոր]', '[ծծմայր]', '3'), ('[ճնավորվել]', '[ձևավորվել]', '3'), ('[հետնաբար]', '[հետևաբար]', '3'), ('[ծծմոր]', '[ծծմայր]', '3'), ('[կարամելի]', '[կարամել]', '3'), ('[ակար]', '[ամենատանջալի]', '3'), ('[ռալ]', '[չռել]', '3'), ('[կոցել]', '[կկոցել]', '3'), ('[ոռնել]', '[ոռնալ]', '3'), ('[ոռնանալ]', '[ոռնացող]', '3'), ('[որպիսիք]', '[որպիսին]', '3'), ('[միակին]', '[միակ]', '3'), ('[վերապրի]', '[վերապրել]', '3'), ('[գոլորշին]', '[գոլորշի]', '3'), ('[կարճ]', '[ամենաբարակ]', '3'), ('[սանդալի]', '[սանդալ]', '3'), ('[վերոն]', '[վերև]', '3'), ('[ազդիր]', '[ազդր]', '3'), ('[մաշկան]', '[մաշկ]', '3'), ('[գիտել]', '[գիտենալ]', '3'), ('[ավականանալ]', '[բավականացնել]', '3'), ('[ծաղկեփին]', '[ծազկեփունջ]', '3'), ('[հագել]', '[հագնել]', '3'), ('[հարնան]', '[գարուն]', '3'), ('[ճգտում]', '[ձգտում]', '3'), ('[առջին]', '[առջև]', '3'), ('[ճմիռ]', '[ձմեռ]', '3'), ('[սնահ]', '[սևահեր]', '3'), ('[սեփականանալ]', '[սեփականացնել]', '3'), ('[նկուղի]', '[նկուղ]', '3'), ('[ծանրութեթ]', '[ծանրութեթև]', '3'), ('[արկիղ]', '[արկղ]', '3'), ('[շրթ]', '[շրթներկ]', '3'), ('[ճագ]', '[ձագ]', '3'), ('[դողանալ]', '[դողալ]', '3'), ('[պատկերանալ]', '[պատկերացնել]', '3'), ('[այլնս]', '[այլևս]', '3'), ('[վախել]', '[վախեցնել]', '3'), ('[լինել]', '[ես]', '3'), ('[կառափնատեղ]', '[կառափնատեղի]', '3'), ('[կառափնատեղիղ]', '[կառափնատեղի]', '3'), ('[ճեռք]', '[ձեռք]', '3'), ('[արճագանք]', '[արձագանք]', '3'), ('[ըյուսքին]', '[Ջյուսքինդ]', '2'), ('[նվիրական]', '[ամենահանճարեղ]', '2'), ('[ակտիր]', '[ամենագարշելի]', '2'), ('[չօդափոխել]', '[օդափոխել]', '2'), ('[չլվացնել]', '[լվանա]', '2'), ('[ճմեռ]', '[ձմեռ]', '2'), ('[ճմերուկ]', '[ձմերուկ]', '2'), ('[ուշաթափեցնել]', '[ուշաթափել]', '2'), ('[լվացնել]', '[լվանալ]', '2'), ('[ճայն]', '[ձայն]', '2'), ('[ճիկ]', '[ձուկ]', '2'), ('[ծծումոր]', '[ծծմայր]', '2'), ('[քրծեն]', '[քրծենի]', '2'), ('[արկիղ]', '[արկղ]', '2'), ('[այլնայլ]', '[այլևայլ]', '2'), ('[ճնականություն]', '[ձևականություն]', '2'), ('[չուննոր]', '[չունևոր]', '2'), ('[կխնդրել]', '[խնդրել]', '2'), ('[երակրել]', '[կերակրել]', '2'), ('[պիս]', '[պես]', '2'), ('[փինջ]', '[փունջ]', '2'), ('[խկացնել]', '[չխկացնել]', '2'), ('[խեցամաննե]', '[խեցաման]', '2'), ('[գանգրան]', '[գանգրանալ]', '2'), ('[օտարին]', '[օտար]', '2'), ('[կարամելից]', '[կարամել]', '2'), ('[նվիրար]', '[ամենապարզունակ]', '2'), ('[ունեմ]', '[ունենալ]', '2'), ('[քիթր]', '[քիթ]', '2'), ('[աշխարհր]', '[աշխարհ]', '2'), ('[ոստրամոխրագույնի]', '[ոստրամոխրագույն]', '2'), ('[անկշտել]', '[անկշտում]', '2'), ('[ոռինոց]', '[ոռնոց]', '2'), ('[ճղճիղան]', '[ճղճղան]', '2'), ('[դյո]', '[Դյո]', '2'), ('[ժանտախտիգ]', '[ժանտախտից]', '2'), ('[առուն]', '[առջև]', '36'), ('[ետ]', '[ետև]', '30'), ('[միջն]', '[միջև]', '22'), ('[այնուհետ]', '[այնուհետև]', '22'), ('[բացարճակապես]', '[բացարձակապես]', '21'), ('[որ]', '[որևէ]', '20'), ('[այլնս]', '[այլևս]', '19'), ('[թեթ]', '[թեթև]', '18'), ('[թեթնակ]', '[թեթևակի]', '17'), ('[որ]', '[որևէ]', '16'), ('[ետին]', '[ետև]', '16'), ('[արն]', '[արև]', '14'), ('[միննույն]', '[միևնույն]', '13'), ('[վերն]', '[վերև]', '13'), ('[ինճ]', '[ինչ]', '13'), ('[արճակ]', '[արձակել]', '12'), ('[թերուն]', '[թերևս]', '12'), ('[մուշկի]', '[մուշկ]', '12'), ('[երբնիցե]', '[երբևիցե]', '11'), ('[ճեռք]', '[ձեռք]', '10'), ('[տեզ]', '[տիզ]', '10'), ('[երնակայություն]', '[երևակայություն]', '10'), ('[արնմուտք]', '[արևմուտք]', '10'), ('[ճեռք]', '[ձեռք]', '10'), ('[ճեռք]', '[ձեռք]', '9'), ('[ճայն]', '[ձայն]', '9'), ('[նան]', '[նաև]', '8'), ('[դեռին]', '[դեռևս]', '8'), ('[ճեռք]', '[ձեռք]', '8'), ('[հետնել]', '[հետևել]', '8'), ('[արճակել]', '[արձակել]', '8'), ('[որնիցե]', '[որևիցե]', '8'), ('[դեռնս]', '[դեռևս]', '8'), ('[այլնս]', '[այլևս]', '8'), ('[շրթ]', '[շրթներկ]', '8'), ('[ճեռք]', '[ձեռք]', '7'), ('[արնմտյան]', '[արևմտյան]', '7'), ('[այլես]', '[այլևս]', '7'), ('[Նախնառաջ]', '[նախևառաջ]', '7'), ('[հոգնոր]', '[հոգևոր]', '6'), ('[խունկի]', '[խունկ]', '6'), ('[ճեռք]', '[ձեռք]', '6'), ('[ներք]', '[ներքև]', '6'), ('[կաշին]', '[կաշի]', '6'), ('[ազդիր]', '[ազդր]', '6'), ('[դահճ]', '[դահիճ]', '6'), ('[համարճակվել]', '[համարձակվել]', '5'), ('[արնելք]', '[արևելք]', '5'), ('[լցրել]', '[լցնել]', '5'), ('[առանճ]', '[առանձին]', '5'), ('[արնմուտք]', '[արևմուտք]', '5'), ('[երնակայական]', '[երևակայական]', '5'), ('[թնածել]', '[թևածել]', '5'), ('[բանաճին]', '[բանաձև]', '5'), ('[բանաճին]', '[բանաձև]', '5'), ('[թեթնանալ]', '[թեթևանալ]', '5'), ('[հետնել]', '[հետևել]', '5'), ('[հետնել]', '[հետևել]', '5'), ('[կարնոր]', '[կարևոր]', '5'), ('[ճի]', '[ձի]', '5'), ('[հեղճուցիչ]', '[հեղձուցիչ]', '5'), ('[անճնական]', '[անձնական]', '5'), ('[անորսալ]', '[անորսալի]', '5'), ('[գաղտագող]', '[գաղտագողի]', '5'), ('[առուջ]', '[առջև]', '3'), ('[երնել]', '[երևալ]', '3'), ('[ինճ]', '[ես]', '3'), ('[փնթփնթաց]', '[փնթփնթալ]', '3'), ('[փորճ]', '[փորձ]', '3'), ('[բանաձին]', '[բանաձև]', '3'), ('[եթենա]', '[եթե]', '3'), ('[ինճ]', '[ես]', '3'), ('[փորճ]', '[փորձ]', '3'), ('[ալուֆ]', '[ալֆա]', '3'), ('[բանաձ]', '[բանաձև]', '3'), ('[բանաճ]', '[բանաձև]', '3'), ('[թքած]', '[թքել]', '3'), ('[բարճրանալ]', '[բարձրացնել]', '3'), ('[Այլիս]', '[այլևս]', '3'), ('[կավինավեհ]', '[ամենավեհ]', '3'), ('[սնահեր]', '[սևահեր]', '3'), ('[պոռթում]', '[պոռթկում]', '3'), ('[բացարճակ]', '[բացարձակ]', '3'), ('[բանաճ]', '[բանաձև]', '3'), ('[թեն]', '[թեև]', '3'), ('[տերն]', '[տերև]', '3'), ('[շրթ]', '[շրթներկ]', '3'), ('[բարճունք]', '[բարձունք]', '3'), ('[ջրալ]', '[ջրալի]', '3'), ('[թորվել]', '[թորել]', '3'), ('[խլթխլթել]', '[խլթխլթալ]', '3'), ('[առնտուր]', '[առևտուր]', '3'), ('[անճամ]', '[անձամբ]', '3'), ('[օթին]', '[օթևան]', '3'), ('[բանաճ]', '[բանաձև]', '3'), ('[արճակել]', '[արձակել]', '3'), ('[բնեռ]', '[բևեռ]', '3'), ('[օճ]', '[օձ]', '3'), ('[ոջ]', '[ոչ]', '3'), ('[անձր]', '[անձրև]', '3'), ('[թեթն]', '[թեթև]', '3'), ('[ճգալ]', '[ձգել]', '3'), ('[լերել]', '[ուտել]', '3'), ('[տաքագնել]', '[տաքացնել]', '3'), ('[Հնայած]', '[Չնայած]', '3'), ('[ճեռք]', '[ձեռք]', '3'), ('[շրթ]', '[շրթներկ]', '3'), ('[այխքան]', '[այդքան]', '3'), ('[նարնջենու]', '[նարնջենի]', '3'), ('[թաքչել]', '[թաքցնել]', '3'), ('[ճնալ]', '[ձևացնել]', '3'), ('[զնգզնգել]', '[զնգզնգալ]', '3'), ('[գիտել]', '[իմանալ]', '3'), ('[բարճր]', '[բարձր]', '3')]\n"
          ]
        }
      ]
    },
    {
      "cell_type": "code",
      "source": [
        "print(len(DWrongCorrectWordF))\n",
        "print(len(DWrongCorrectLemmaF))\n"
      ],
      "metadata": {
        "colab": {
          "base_uri": "https://localhost:8080/"
        },
        "id": "-_FYBzw7U42k",
        "outputId": "1cf95c69-952a-4344-9b76-3cd0df413a34"
      },
      "execution_count": 9,
      "outputs": [
        {
          "output_type": "stream",
          "name": "stdout",
          "text": [
            "172\n",
            "206\n"
          ]
        }
      ]
    },
    {
      "cell_type": "code",
      "source": [
        "'''\n",
        "for i in range(5):\n",
        "    LKeys = list(DWrongCorrectLemmaF.keys())\n",
        "    SKey = LKeys[i]\n",
        "    SVal = DWrongCorrectWordF[SKey]\n",
        "    print(f'{SKey} {SVal}\\n')\n",
        "'''\n",
        " "
      ],
      "metadata": {
        "id": "T7X7uZJsWajb"
      },
      "execution_count": null,
      "outputs": []
    },
    {
      "cell_type": "code",
      "source": [
        "import re, os, sys\n",
        "\n",
        "def tokenizeTextHY(SFIn):\n",
        "    LLParagraphs = []\n",
        "    with open(SFIn, 'r') as FIn:\n",
        "        for SLine in FIn:\n",
        "            SLine = SLine.strip()\n",
        "            LLine = re.split('([ ,\\.\\:։;\\'\\\"\\(\\)\\-\\–\\!\\?\\{\\}\\t\\«\\»]+)', SLine)\n",
        "            if LLine: LLParagraphs.append(LLine)\n",
        "    return LLParagraphs\n",
        "\n",
        "def printLLParagraphs(SFIn, SFOut, DCorrections1 = None, DCorrections2 = None):\n",
        "    LLParagraphs = tokenizeTextHY(SFIn)\n",
        "    LCorrected = []\n",
        "    FOut = open(SFOut, 'w')\n",
        "    for LPara in LLParagraphs:\n",
        "        LParaNew = []\n",
        "        FOut.write('<p>\\n')\n",
        "        \n",
        "        for el in LPara:\n",
        "            # if el == ' ': continue\n",
        "            if DCorrections1:\n",
        "                if el in DCorrections1:\n",
        "                    elCorrect = DCorrections1[el]\n",
        "                    LCorrected.append((el, elCorrect, LPara))\n",
        "                else:\n",
        "                    elCorrect = el\n",
        "            if DCorrections2:\n",
        "                if el in DCorrections2:\n",
        "                    elCorrect = DCorrections2[el]\n",
        "                    LCorrected.append((el, elCorrect, LPara))\n",
        "                else:\n",
        "                    elCorrect = el                    \n",
        "            LParaNew.append(elCorrect)\n",
        "\n",
        "        SParaNew = ''.join(LParaNew)\n",
        "        FOut.write(f'{SParaNew}\\n')\n",
        "\n",
        "        FOut.write('</p>\\n')\n",
        "    FOut.flush()\n",
        "    return LCorrected"
      ],
      "metadata": {
        "id": "93xc2P0iX1rS"
      },
      "execution_count": 37,
      "outputs": []
    },
    {
      "cell_type": "code",
      "source": [
        "LCorrected1 = printLLParagraphs('/content/Parfum_Arm_ABBY.txt', '/content/Parfum_Arm_ABBY-corrected.txt', DWrongCorrectWordF, DWrongCorrectLemmaF)\n",
        "print(len(LCorrected1))\n",
        "if LCorrected1:\n",
        "    FOut1 = open('/content/Parfum_Arm_ABBY-changes.txt', 'w')\n",
        "    for (el, elCorr, LPara) in LCorrected1:\n",
        "        SPara = ''.join(LPara)\n",
        "        FOut1.write( f'{el}  {elCorr}\\t\\t{SPara}\\n\\n' )\n",
        "\n",
        "LCorrected2 = printLLParagraphs('/content/Parfum_Armenian.txt', '/content/Parfum_Armenian-corrected.txt', DWrongCorrectWordF, DWrongCorrectLemmaF)\n",
        "print(len(LCorrected2))\n",
        "if LCorrected2:\n",
        "    FOut2 = open('/content/Parfum_Armenian-changes.txt', 'w')\n",
        "    for (el, elCorr, LPara) in LCorrected1:\n",
        "        SPara = ''.join(LPara)\n",
        "        FOut2.write( f'{el}  {elCorr}\\t\\t{SPara}\\n\\n' )\n"
      ],
      "metadata": {
        "colab": {
          "base_uri": "https://localhost:8080/"
        },
        "id": "18ZpAZaidUad",
        "outputId": "b8c92b4e-7ed7-4cf9-ba83-e920fbcd8fcd"
      },
      "execution_count": 38,
      "outputs": [
        {
          "output_type": "stream",
          "name": "stdout",
          "text": [
            "1162\n",
            "2472\n"
          ]
        }
      ]
    },
    {
      "cell_type": "code",
      "source": [
        "LCorrected1 = printLLParagraphs('/content/KorpusARM1/stage02/hyFiktion.txt', '/content/KorpusARM1/stage02/hyFiktion-corrected.txt', DWrongCorrectWordF, DWrongCorrectLemmaF)\n",
        "print(len(LCorrected1))\n",
        "if LCorrected1:\n",
        "    FOut1 = open('/content/KorpusARM1/stage02/hyFiktion-changes.txt', 'w')\n",
        "    for (el, elCorr, LPara) in LCorrected1:\n",
        "        SPara = ''.join(LPara)\n",
        "        FOut1.write( f'{el}  {elCorr}\\t\\t{SPara}\\n\\n' )"
      ],
      "metadata": {
        "colab": {
          "base_uri": "https://localhost:8080/"
        },
        "id": "NluaBoyPwwbd",
        "outputId": "00524aa9-106f-47a7-afd0-87b00bf30a84"
      },
      "execution_count": 39,
      "outputs": [
        {
          "output_type": "stream",
          "name": "stdout",
          "text": [
            "3660\n"
          ]
        }
      ]
    },
    {
      "cell_type": "code",
      "source": [
        "LCorrected1 = printLLParagraphs('/content/KorpusARM1/stage02/hyNatur.txt', '/content/KorpusARM1/stage02/hyNatur-corrected.txt', DWrongCorrectWordF, DWrongCorrectLemmaF)\n",
        "print(len(LCorrected1))\n",
        "if LCorrected1:\n",
        "    FOut1 = open('/content/KorpusARM1/stage02/hyNatur-changes.txt', 'w')\n",
        "    for (el, elCorr, LPara) in LCorrected1:\n",
        "        SPara = ''.join(LPara)\n",
        "        FOut1.write( f'{el}  {elCorr}\\t\\t{SPara}\\n\\n' )"
      ],
      "metadata": {
        "colab": {
          "base_uri": "https://localhost:8080/"
        },
        "id": "206ue_Vvw8Rt",
        "outputId": "7092f59b-d628-49e8-8f2b-9f90897fb88b"
      },
      "execution_count": 40,
      "outputs": [
        {
          "output_type": "stream",
          "name": "stdout",
          "text": [
            "2134\n"
          ]
        }
      ]
    },
    {
      "cell_type": "code",
      "source": [
        "LCorrected1 = printLLParagraphs('/content/KorpusARM1/stage02/hyRecht.txt', '/content/KorpusARM1/stage02/hyRecht-corrected.txt', DWrongCorrectWordF, DWrongCorrectLemmaF)\n",
        "print(len(LCorrected1))\n",
        "if LCorrected1:\n",
        "    FOut1 = open('/content/KorpusARM1/stage02/hyRecht-changes.txt', 'w')\n",
        "    for (el, elCorr, LPara) in LCorrected1:\n",
        "        SPara = ''.join(LPara)\n",
        "        FOut1.write( f'{el}  {elCorr}\\t\\t{SPara}\\n\\n' )"
      ],
      "metadata": {
        "colab": {
          "base_uri": "https://localhost:8080/"
        },
        "id": "dL4DLKC4w85F",
        "outputId": "e84cbab1-b34e-4d4b-a8be-6ff104354838"
      },
      "execution_count": 41,
      "outputs": [
        {
          "output_type": "stream",
          "name": "stdout",
          "text": [
            "1534\n"
          ]
        }
      ]
    }
  ]
}