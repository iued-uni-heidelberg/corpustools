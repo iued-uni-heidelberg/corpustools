{
  "nbformat": 4,
  "nbformat_minor": 0,
  "metadata": {
    "colab": {
      "provenance": [],
      "authorship_tag": "ABX9TyPrqLIAu5dKqQn6o5FQ8Ck7",
      "include_colab_link": true
    },
    "kernelspec": {
      "name": "python3",
      "display_name": "Python 3"
    },
    "language_info": {
      "name": "python"
    }
  },
  "cells": [
    {
      "cell_type": "markdown",
      "metadata": {
        "id": "view-in-github",
        "colab_type": "text"
      },
      "source": [
        "<a href=\"https://colab.research.google.com/github/iued-uni-heidelberg/corpustools/blob/main/S101lemHYstanzaOCRv01.ipynb\" target=\"_parent\"><img src=\"https://colab.research.google.com/assets/colab-badge.svg\" alt=\"Open In Colab\"/></a>"
      ]
    },
    {
      "cell_type": "markdown",
      "source": [
        "## Armenian lemmatization with Stanza"
      ],
      "metadata": {
        "id": "skix7t6sFaZB"
      }
    },
    {
      "cell_type": "markdown",
      "source": [
        "## downloading evaluation sets\n",
        "- 420 words: test with about 420 words of Armenian text\n",
        "- Armenian \"Brown-type\" corpus b"
      ],
      "metadata": {
        "id": "fFBRX6lTFfcA"
      }
    },
    {
      "cell_type": "code",
      "source": [
        "### optional\n",
        "!wget https://heibox.uni-heidelberg.de/f/ce6096da570f47b99500/?dl=1\n",
        "### optional\n",
        "!mv index.html?dl=1 evaluation-set-v01.txt"
      ],
      "metadata": {
        "id": "m549clSLFHs_"
      },
      "execution_count": null,
      "outputs": []
    },
    {
      "cell_type": "code",
      "source": [
        "!wget https://heibox.uni-heidelberg.de/f/a847a12bffd4491f9070/?dl=1\n",
        "!mv index.html?dl=1 TED2020-dehy-hy-aa"
      ],
      "metadata": {
        "id": "IWwqNLkxPMfB"
      },
      "execution_count": null,
      "outputs": []
    },
    {
      "cell_type": "code",
      "source": [
        "### downloading Armenian Wikipedia\n",
        "!wget https://heibox.uni-heidelberg.de/f/d1f866a61bd545318213/?dl=1\n",
        "!mv index.html?dl=1 hywiki-20221101-pages-articles.txt.gz\n",
        "!gunzip hywiki-20221101-pages-articles.txt.gz"
      ],
      "metadata": {
        "id": "j_-b-YYGq8bw"
      },
      "execution_count": null,
      "outputs": []
    },
    {
      "cell_type": "code",
      "source": [
        "!wc hywiki-20221101-pages-articles.txt"
      ],
      "metadata": {
        "colab": {
          "base_uri": "https://localhost:8080/"
        },
        "id": "SQMJimofsTMd",
        "outputId": "76e7609b-f3c7-4b02-f780-cfa1703616a7"
      },
      "execution_count": 5,
      "outputs": [
        {
          "output_type": "stream",
          "name": "stdout",
          "text": [
            "  2446411  56341171 803098410 hywiki-20221101-pages-articles.txt\n"
          ]
        }
      ]
    },
    {
      "cell_type": "markdown",
      "source": [
        "## Installing stanza"
      ],
      "metadata": {
        "id": "i__aUXulFkw2"
      }
    },
    {
      "cell_type": "code",
      "execution_count": null,
      "metadata": {
        "id": "GdzVArLUF3cb"
      },
      "outputs": [],
      "source": [
        "!pip install spacy-stanza"
      ]
    },
    {
      "cell_type": "code",
      "source": [
        "import stanza\n",
        "import spacy_stanza\n"
      ],
      "metadata": {
        "id": "-VN9g4N4GAR2",
        "colab": {
          "base_uri": "https://localhost:8080/"
        },
        "outputId": "60e39ea0-f3ec-4a3e-e5d8-4fbf96f8ff1c"
      },
      "execution_count": 7,
      "outputs": [
        {
          "output_type": "stream",
          "name": "stderr",
          "text": [
            "/usr/local/lib/python3.8/dist-packages/torch/cuda/__init__.py:497: UserWarning: Can't initialize NVML\n",
            "  warnings.warn(\"Can't initialize NVML\")\n"
          ]
        }
      ]
    },
    {
      "cell_type": "markdown",
      "source": [
        "### testing English stanza (optional)"
      ],
      "metadata": {
        "id": "w6Kfwj63FzYM"
      }
    },
    {
      "cell_type": "code",
      "source": [
        "# optional\n",
        "# Download the stanza model if necessary\n",
        "stanza.download(\"en\")\n",
        "\n",
        "# Initialize the pipeline\n",
        "nlp = spacy_stanza.load_pipeline(\"en\")\n",
        "\n",
        "doc = nlp(\"Barack Obama was born in Hawaii. He was elected president in 2008.\")\n",
        "for token in doc:\n",
        "    print(token.text, token.lemma_, token.pos_, token.dep_, token.ent_type_)\n",
        "print(doc.ents)"
      ],
      "metadata": {
        "id": "dEA7KJdZPrWV"
      },
      "execution_count": null,
      "outputs": []
    },
    {
      "cell_type": "markdown",
      "source": [
        "### downloading and testing Armenian stanza"
      ],
      "metadata": {
        "id": "HGyKxEJNGG8q"
      }
    },
    {
      "cell_type": "code",
      "source": [
        "stanza.download(\"hy\")\n"
      ],
      "metadata": {
        "id": "xq53mDsUGumV"
      },
      "execution_count": null,
      "outputs": []
    },
    {
      "cell_type": "code",
      "source": [
        "nlp_hy = spacy_stanza.load_pipeline(\"hy\")"
      ],
      "metadata": {
        "id": "KZKOs0aVG8Kl"
      },
      "execution_count": null,
      "outputs": []
    },
    {
      "cell_type": "code",
      "source": [
        "### optional\n",
        "doc = nlp_hy(\"ՄԱՐԴՈՒ ԻՐԱՎՈՒՆՔՆԵՐԻ ՀԱՄԸՆԴՀԱՆՈՒՐ ՀՌՉԱԿԱԳԻՐ. ՆԵՐԱԾԱԿԱՆ. Քանզի մարդկային ընտանիքի բոլոր անդամներին ներհատուկ արժանապատվությունըև հավասար ու անօտարելի իրավունքները աշխարհի ազատության, արդարության ու խաղաղության հիմքն են.\")"
      ],
      "metadata": {
        "id": "m022wp2JHvOO"
      },
      "execution_count": 11,
      "outputs": []
    },
    {
      "cell_type": "code",
      "source": [
        "### optional\n",
        "for token in doc:\n",
        "    print(token.text, token.lemma_, token.pos_, token.dep_, token.ent_type_)\n"
      ],
      "metadata": {
        "id": "LPhSOX15ICmG"
      },
      "execution_count": null,
      "outputs": []
    },
    {
      "cell_type": "markdown",
      "source": [
        "### full analysis of the file (optional)\n",
        "- includes dependency parsing"
      ],
      "metadata": {
        "id": "NVyvpuMDQXYA"
      }
    },
    {
      "cell_type": "code",
      "source": [
        "### optional\n",
        "with open('/content/TED2020-dehy-hy-aa', 'r', encoding='utf-8') as infile, open('/content/TED2020-dehy-hy-aa-ANALYSIS-full-v01.txt', 'w') as outfile:\n",
        "    # read sample.txt an and write its content into sample2.txt\n",
        "    outfile.write(\"{token.text}\\t{token.lemma_}\\t{token.pos_}\\t{token.dep_}\\t{parentLem}\\t{LAncestors}\\n\")\n",
        "    for line in infile:\n",
        "        line = line.strip()\n",
        "        doc = nlp_hy(line)\n",
        "        # outfile.write(line + '\\n')\n",
        "        for token in doc:\n",
        "            LAncestors = list(token.ancestors)\n",
        "            print(str(LAncestors))\n",
        "            try:\n",
        "                SLAncestors = str(list(token.ancestors))\n",
        "                parent = LAncestors[0]\n",
        "                parentLem = parent.lemma_\n",
        "            except:\n",
        "                parentLem = \"NONE\"\n",
        "            outfile.write(f\"{token.text}\\t{token.lemma_}\\t{token.pos_}\\t{token.dep_}\\t{parentLem}\\t{SLAncestors}\\n\")\n",
        " \n",
        "\n",
        " "
      ],
      "metadata": {
        "id": "HJdW66EmJI2d"
      },
      "execution_count": null,
      "outputs": []
    },
    {
      "cell_type": "code",
      "source": [
        "### optional : check output \n",
        "!head -n 50 TED2020-dehy-hy-aa-ANALYSIS-full-v01.txt"
      ],
      "metadata": {
        "colab": {
          "base_uri": "https://localhost:8080/"
        },
        "id": "DqQteJEKwmd9",
        "outputId": "e2eabd99-66ca-4b00-e0e2-f034ba839974"
      },
      "execution_count": 16,
      "outputs": [
        {
          "output_type": "stream",
          "name": "stdout",
          "text": [
            "{token.text}\t{token.lemma_}\t{token.pos_}\t{token.dep_}\t{parentLem}\t{LAncestors}\n",
            "ՁԻԱՀի\tՁԻԱՀ\tPROPN\tobl\tկապվել\t[կապված, մտահոգությունների, կլսենք]\n",
            "և\tև\tCCONJ\tcc\tթռչնագրիպ\t[թռչնագրիպի, ՁԻԱՀի, կապված, մտահոգությունների, կլսենք]\n",
            "թռչնագրիպի\tթռչնագրիպ\tNOUN\tconj\tՁԻԱՀ\t[ՁԻԱՀի, կապված, մտահոգությունների, կլսենք]\n",
            "հետ\tհետ\tADP\tcase\tՁԻԱՀ\t[ՁԻԱՀի, կապված, մտահոգությունների, կլսենք]\n",
            "կապված\tկապվել\tVERB\tacl\tմտահոգություն\t[մտահոգությունների, կլսենք]\n",
            "բոլոր\tբոլոր\tDET\tdet\tմտահոգություն\t[մտահոգությունների, կլսենք]\n",
            "տրամաբանական\tտրամաբանական\tADJ\tamod\tմտահոգություն\t[մտահոգությունների, կլսենք]\n",
            "մտահոգությունների\tմտահոգություն\tNOUN\tobl\tլսել\t[կլսենք]\n",
            "մասին\tմասին\tADP\tcase\tմտահոգություն\t[մտահոգությունների, կլսենք]\n",
            "մենք\tմենք\tPRON\tnsubj\tլսել\t[կլսենք]\n",
            "դեռ\tդեռ\tADV\tadvmod\tլսել\t[կլսենք]\n",
            "կլսենք\tլսել\tVERB\troot\tNONE\t[]\n",
            "հիանալի\tհիանալի\tADJ\tamod\tբժիշկ\t[բժիշկ, Հիանալիից, կլսենք]\n",
            "բժիշկ\tբժիշկ\tNOUN\tnmod\tհիանալի\t[Հիանալիից, կլսենք]\n",
            "Հիանալիից\tհիանալի\tNOUN\tobl\tլսել\t[կլսենք]\n",
            ":\t:\tPUNCT\tpunct\tլսել\t[կլսենք]\n",
            "Ես\tես\tPRON\tnsubj\tուզել\t[ուզում]\n",
            "ուզում\tուզել\tVERB\troot\tNONE\t[]\n",
            "եմ\tեմ\tAUX\taux\tուզել\t[ուզում]\n",
            "այլ\tայլ\tDET\tdet\tհիվանդություն\t[հիվանդությույունների, խոսել, ուզում]\n",
            "հիվանդությույունների\tհիվանդություն\tNOUN\tobl\tխոսել\t[խոսել, ուզում]\n",
            "մասին\tմասին\tADP\tcase\tհիվանդություն\t[հիվանդությույունների, խոսել, ուզում]\n",
            "խոսել\tխոսել\tVERB\txcomp\tուզել\t[ուզում]\n",
            ".\t.\tPUNCT\tpunct\tօրինակ\t[օրինակ, խոսել, ուզում]\n",
            "օրինակ\tօրինակ\tNOUN\tappos\tխոսել\t[խոսել, ուզում]\n",
            "`\t`\tPUNCT\tpunct\tհիվանդություն\t[հիվանդության, օրինակ, խոսել, ուզում]\n",
            "սրտանոթային\tսրտանոթային\tADJ\tamod\tհիվանդություն\t[հիվանդության, օրինակ, խոսել, ուզում]\n",
            "հիվանդության\tհիվանդություն\tNOUN\tappos\tօրինակ\t[օրինակ, խոսել, ուզում]\n",
            ",\t,\tPUNCT\tpunct\tշաքարախտ\t[շաքարախտի, հիվանդության, օրինակ, խոսել, ուզում]\n",
            "շաքարախտի\tշաքարախտ\tNOUN\tconj\tհիվանդություն\t[հիվանդության, օրինակ, խոսել, ուզում]\n",
            ",\t,\tPUNCT\tpunct\tհիպերտոնիա\t[հիպերտոնիայի, հիվանդության, օրինակ, խոսել, ուզում]\n",
            "հիպերտոնիայի\tհիպերտոնիա\tNOUN\tconj\tհիվանդություն\t[հիվանդության, օրինակ, խոսել, ուզում]\n",
            ":\t:\tPUNCT\tpunct\tուզել\t[ուզում]\n",
            "Այս\tայս\tDET\tdet\tբորոլր\t[բորոլրը, կանխարգելելի]\n",
            "բորոլրը\tբորոլր\tNOUN\tnsubj\tանխարգել\t[կանխարգելելի]\n",
            "կանխարգելելի\tանխարգել\tVERB\troot\tNONE\t[]\n",
            "են\tեմ\tAUX\taux\tանխարգել\t[կանխարգելելի]\n",
            ",\t,\tPUNCT\tpunct\tկարող\t[կարող, կանխարգելելի]\n",
            "մարդկանց\tմարդ\tNOUN\tnmod:poss\tտոկոս\t[տոկոսը, բուժվել, կարող, կանխարգելելի]\n",
            "առնվազն\tառնվազն\tADV\tadvmod\t95\t[95, տոկոսը, բուժվել, կարող, կանխարգելելի]\n",
            "95\t95\tNUM\tnummod\tտոկոս\t[տոկոսը, բուժվել, կարող, կանխարգելելի]\n",
            "տոկոսը\tտոկոս\tNOUN\tobj\tբուժվել\t[բուժվել, կարող, կանխարգելելի]\n",
            "կարող\tկարող\tADJ\tconj\tանխարգել\t[կանխարգելելի]\n",
            "է\tեմ\tAUX\tcop\tկարող\t[կարող, կանխարգելելի]\n",
            "բուժվել\tբուժվել\tVERB\txcomp\tկարող\t[կարող, կանխարգելելի]\n",
            ",\t,\tPUNCT\tpunct\tփոխել\t[փոխի, կարող, կանխարգելելի]\n",
            "եթե\tեթե\tSCONJ\tmark\tփոխել\t[փոխի, կարող, կանխարգելելի]\n",
            "փոխի\tփոխել\tVERB\tadvcl\tկարող\t[կարող, կանխարգելելի]\n",
            "իր\tինքը\tDET\tdet:poss\tսննդակարգ\t[սննդակարգը, փոխի, կարող, կանխարգելելի]\n"
          ]
        }
      ]
    },
    {
      "cell_type": "markdown",
      "source": [
        "### function for lemmatization"
      ],
      "metadata": {
        "id": "_w7MrFvNQqxq"
      }
    },
    {
      "cell_type": "code",
      "source": [
        "def parseFile(iFileName, oFileName, nlp_model = nlp_hy):\n",
        "    with open(iFileName, 'r', encoding='utf-8') as infile, open(oFileName, 'w') as outfile:\n",
        "        # read sample.txt an and write its content into sample2.txt\n",
        "        outfile.write(\"{token.text}\\t{token.pos_}\\t{token.lemma_}\\n\")\n",
        "        c = 0\n",
        "        for line in infile:\n",
        "            c+=1\n",
        "            if c%10 == 0: print(str(c))\n",
        "            line = line.strip()\n",
        "            doc = nlp_model(line)\n",
        "            # outfile.write(line + '\\n')\n",
        "            for token in doc:\n",
        "                LAncestors = list(token.ancestors)\n",
        "                # print(str(LAncestors))\n",
        "                try:\n",
        "                    SLAncestors = str(list(token.ancestors))\n",
        "                    parent = LAncestors[0]\n",
        "                    parentLem = parent.lemma_\n",
        "                except:\n",
        "                    parentLem = \"NONE\"\n",
        "                outfile.write(f\"{token.text}\\t{token.pos_}\\t{token.lemma_}\\n\")\n",
        "        outfile.flush()\n",
        "    return\n"
      ],
      "metadata": {
        "id": "QT0tpHwjY4O5"
      },
      "execution_count": 17,
      "outputs": []
    },
    {
      "cell_type": "markdown",
      "source": [
        "### command to lemmatize the file"
      ],
      "metadata": {
        "id": "FJoxNaZ7vfVe"
      }
    },
    {
      "cell_type": "code",
      "source": [
        "# 1000 lines, runs in 2 minutes...\n",
        "parseFile('/content/TED2020-dehy-hy-aa', '/content/TED2020-dehy-hy-aa--lemmatization-v01.txt', nlp_hy)"
      ],
      "metadata": {
        "id": "rgdb1fl3a6F4"
      },
      "execution_count": null,
      "outputs": []
    },
    {
      "cell_type": "code",
      "source": [
        "# takes a lot of time, do not run it, just use as a template, split the file first and run several processes...\n",
        "parseFile('hywiki-20221101-pages-articles.txt', 'hywiki-20221101-pages-articles.vert', nlp_hy)"
      ],
      "metadata": {
        "id": "lrSvU_NbsZ9z"
      },
      "execution_count": null,
      "outputs": []
    },
    {
      "cell_type": "markdown",
      "source": [
        "## Checking OCR errors\n",
        "### wikipedia lemmatized --> frequency dictionary "
      ],
      "metadata": {
        "id": "Disi8bxMhOD1"
      }
    },
    {
      "cell_type": "code",
      "source": [
        "!wget https://heibox.uni-heidelberg.de/f/5b3213f991f84ca496ba/?dl=1\n",
        "!mv index.html?dl=1 hywiki-20221101-pages-articles-v03.vert"
      ],
      "metadata": {
        "id": "lhs5GwRihMxr"
      },
      "execution_count": null,
      "outputs": []
    },
    {
      "cell_type": "code",
      "source": [
        "!wc hywiki-20221101-pages-articles-v03.vert"
      ],
      "metadata": {
        "id": "xJlX-J5ij72h",
        "colab": {
          "base_uri": "https://localhost:8080/"
        },
        "outputId": "fa6a7a13-2bab-46d5-b9ba-24e03688ad97"
      },
      "execution_count": 20,
      "outputs": [
        {
          "output_type": "stream",
          "name": "stdout",
          "text": [
            " 2735467  8206467 75483279 hywiki-20221101-pages-articles-v03.vert\n"
          ]
        }
      ]
    },
    {
      "cell_type": "code",
      "source": [
        "!wget https://heibox.uni-heidelberg.de/f/350790e66ca24efdab1a/?dl=1\n",
        "!mv index.html?dl=1 hy-texts-vert.tgz \n",
        "!tar xvzf hy-texts-vert.tgz"
      ],
      "metadata": {
        "id": "dtxtpTo_mTSw"
      },
      "execution_count": null,
      "outputs": []
    },
    {
      "cell_type": "code",
      "source": [
        "!wget https://heibox.uni-heidelberg.de/f/d601ceb0af5a4671a8e7/?dl=1\n",
        "!mv index.html?dl=1 Parfum_Arm_ABBY.txt"
      ],
      "metadata": {
        "id": "2LPlwmpYsSt-"
      },
      "execution_count": null,
      "outputs": []
    },
    {
      "cell_type": "code",
      "source": [
        "!wc Parfum_Arm_ABBY.txt"
      ],
      "metadata": {
        "colab": {
          "base_uri": "https://localhost:8080/"
        },
        "id": "i4AFw5r9zD4-",
        "outputId": "c095689f-b92b-48bc-a365-d2f2ac5e4f72"
      },
      "execution_count": 25,
      "outputs": [
        {
          "output_type": "stream",
          "name": "stdout",
          "text": [
            "  1489  68852 867013 Parfum_Arm_ABBY.txt\n"
          ]
        }
      ]
    },
    {
      "cell_type": "code",
      "source": [
        "parseFile('Parfum_Arm_ABBY.txt', 'Parfum_Arm_ABBY.vert.txt', nlp_hy)"
      ],
      "metadata": {
        "id": "ZnrYlLB_uRsH"
      },
      "execution_count": null,
      "outputs": []
    },
    {
      "cell_type": "code",
      "source": [
        "!wc Parfum_Arm_ABBY.vert.txt"
      ],
      "metadata": {
        "id": "kyjvWWMuy-e3"
      },
      "execution_count": null,
      "outputs": []
    },
    {
      "cell_type": "code",
      "source": [
        "!wget https://heibox.uni-heidelberg.de/f/743a1a57a37c42d8b585/?dl=1\n",
        "!mv index.html?dl=1 Parfum_Armenian_uncorrected.txt\n"
      ],
      "metadata": {
        "id": "D-Qu1FP8mbO6"
      },
      "execution_count": null,
      "outputs": []
    },
    {
      "cell_type": "code",
      "source": [
        "!wc Parfum_Armenian_uncorrected.txt"
      ],
      "metadata": {
        "colab": {
          "base_uri": "https://localhost:8080/"
        },
        "id": "8xUHdJzezYry",
        "outputId": "1d38f972-5b01-47c7-db24-2fedd6ed69d3"
      },
      "execution_count": 26,
      "outputs": [
        {
          "output_type": "stream",
          "name": "stdout",
          "text": [
            " 13592  72207 854251 Parfum_Armenian_uncorrected.txt\n"
          ]
        }
      ]
    },
    {
      "cell_type": "code",
      "source": [
        "# dealing with Armenian OCR output with line breaks (is it correct?)\n",
        "\n",
        "FName = 'Parfum_Armenian_uncorrected.txt'\n",
        "FNameOut = 'Parfum_Armenian.txt'\n",
        "\n",
        "FIn = open(FName, 'r')\n",
        "FOut = open(FNameOut, 'w')\n",
        "\n",
        "for SLine in FIn:\n",
        "    SLine = SLine.strip()\n",
        "    if SLine == '': \n",
        "        FOut.write('\\n\\n')\n",
        "        continue\n",
        "    if SLine[-1] == '-':\n",
        "        SLine2write = SLine[:-1]\n",
        "        FOut.write(SLine2write)\n",
        "        continue\n",
        "\n",
        "    FOut.write(SLine + ' ')\n",
        "FOut.flush()\n",
        "\n"
      ],
      "metadata": {
        "id": "tstyqM_cph11"
      },
      "execution_count": 24,
      "outputs": []
    },
    {
      "cell_type": "code",
      "source": [
        "!wc Parfum_Armenian.txt"
      ],
      "metadata": {
        "colab": {
          "base_uri": "https://localhost:8080/"
        },
        "id": "WRgXoAx_zOka",
        "outputId": "cfffed34-6068-4684-a088-add506604c29"
      },
      "execution_count": 27,
      "outputs": [
        {
          "output_type": "stream",
          "name": "stdout",
          "text": [
            "  6126  69006 849250 Parfum_Armenian.txt\n"
          ]
        }
      ]
    },
    {
      "cell_type": "code",
      "source": [
        "parseFile('Parfum_Armenian.txt', 'Parfum_Armenian.vert.txt', nlp_hy)"
      ],
      "metadata": {
        "id": "Gf-OW1n_rbue"
      },
      "execution_count": null,
      "outputs": []
    },
    {
      "cell_type": "code",
      "source": [
        "!wc Parfum_Armenian.vert.txt"
      ],
      "metadata": {
        "colab": {
          "base_uri": "https://localhost:8080/"
        },
        "id": "Mpr4kEppuIj_",
        "outputId": "90150ad3-e40b-4498-8154-8333844b494d"
      },
      "execution_count": 29,
      "outputs": [
        {
          "output_type": "stream",
          "name": "stdout",
          "text": [
            "  83828  251460 2055080 Parfum_Armenian.vert.txt\n"
          ]
        }
      ]
    },
    {
      "cell_type": "code",
      "source": [
        "DWiki = {}\n",
        "with open(\"hywiki-20221101-pages-articles-v03.vert\", 'r') as f:\n",
        "    for line in f:\n",
        "        line = line.rstrip()\n",
        "        try:\n",
        "            DWiki[line] +=1\n",
        "        except:\n",
        "            DWiki[line] = 1\n"
      ],
      "metadata": {
        "id": "5TJS8qstj_5I"
      },
      "execution_count": 30,
      "outputs": []
    },
    {
      "cell_type": "code",
      "source": [
        "DText = {}\n",
        "with open(\"Parfum_Armenian.vert.txt\", 'r') as f:\n",
        "    for line in f:\n",
        "        line = line.rstrip()\n",
        "        try:\n",
        "            DText[line] +=1\n",
        "        except:\n",
        "            DText[line] = 1\n"
      ],
      "metadata": {
        "id": "exBjjf9rkMxJ"
      },
      "execution_count": 31,
      "outputs": []
    },
    {
      "cell_type": "markdown",
      "source": [
        "### checking if there is a frequency difference for an entry"
      ],
      "metadata": {
        "id": "lNz9tWIKuy0L"
      }
    },
    {
      "cell_type": "code",
      "source": [
        "DFreqDiff = {} # dictionary of frequency differences\n",
        "lenWiki = 2735468\n",
        "lenText = 83829\n",
        "c = 0\n",
        "for key, val in sorted(DText.items(), key=lambda item: item[1], reverse=True):\n",
        "    c+=1\n",
        "    valText = val + 1\n",
        "    relText = valText / lenText\n",
        "    try:\n",
        "        valWiki = DWiki[key] + 1\n",
        "    except:\n",
        "        valWiki = 1\n",
        "    relWiki = valWiki / lenWiki\n",
        "\n",
        "    diffValue = relText / relWiki\n",
        "    DFreqDiff[key] = diffValue\n"
      ],
      "metadata": {
        "id": "ewfn2ngSu6sK"
      },
      "execution_count": 32,
      "outputs": []
    },
    {
      "cell_type": "code",
      "source": [
        "fOut = open('Parfum_Armenian-freq-diff.txt', 'w')\n",
        "for key, val in sorted(DFreqDiff.items(), key=lambda item: item[1], reverse=True):\n",
        "    try:\n",
        "        frqText = DText[key] + 1\n",
        "    except:\n",
        "        frqText = 1\n",
        "\n",
        "    try:\n",
        "        frqWiki = DWiki[key] + 1\n",
        "    except:\n",
        "        frqWiki = 1\n",
        "    fOut.write(f'{key}\\t{val}\\t{frqText}\\t{frqWiki}\\n')\n",
        "fOut.flush()"
      ],
      "metadata": {
        "id": "v3TNjk49xxPC"
      },
      "execution_count": 33,
      "outputs": []
    },
    {
      "cell_type": "code",
      "source": [
        "cat texts-vert/* >text-vert-all.vert.txt"
      ],
      "metadata": {
        "id": "rBODLGvH0_Xe"
      },
      "execution_count": 34,
      "outputs": []
    },
    {
      "cell_type": "code",
      "source": [
        "!wc text-vert-all.vert.txt"
      ],
      "metadata": {
        "id": "vGRyIth63pks",
        "outputId": "9aa3980a-440a-4ca1-b920-9040d7f8a406",
        "colab": {
          "base_uri": "https://localhost:8080/"
        }
      },
      "execution_count": 35,
      "outputs": [
        {
          "output_type": "stream",
          "name": "stdout",
          "text": [
            " 112723  338169 3062358 text-vert-all.vert.txt\n"
          ]
        }
      ]
    },
    {
      "cell_type": "code",
      "source": [
        "DText2 = {}\n",
        "with open(\"text-vert-all.vert.txt\", 'r') as f:\n",
        "    for line in f:\n",
        "        line = line.rstrip()\n",
        "        try:\n",
        "            DText2[line] +=1\n",
        "        except:\n",
        "            DText2[line] = 1"
      ],
      "metadata": {
        "id": "mxkmuk223eEr"
      },
      "execution_count": 36,
      "outputs": []
    },
    {
      "cell_type": "code",
      "source": [
        "DFreqDiff2 = {} # dictionary of frequency differences\n",
        "lenWiki = 2735468\n",
        "lenText = 112723\n",
        "c = 0\n",
        "for key, val in sorted(DText2.items(), key=lambda item: item[1], reverse=True):\n",
        "    c+=1\n",
        "    valText = val + 1\n",
        "    relText = valText / lenText\n",
        "    try:\n",
        "        valWiki = DWiki[key] + 1\n",
        "    except:\n",
        "        valWiki = 1\n",
        "    relWiki = valWiki / lenWiki\n",
        "\n",
        "    diffValue = relText / relWiki\n",
        "    DFreqDiff2[key] = diffValue\n"
      ],
      "metadata": {
        "id": "4XnwSDmF3j-D"
      },
      "execution_count": 37,
      "outputs": []
    },
    {
      "cell_type": "code",
      "source": [
        "fOut = open('text-vert-all-freq-diff.txt', 'w')\n",
        "for key, val in sorted(DFreqDiff2.items(), key=lambda item: item[1], reverse=True):\n",
        "    try:\n",
        "        frqText = DText2[key] + 1\n",
        "    except:\n",
        "        frqText = 1\n",
        "\n",
        "    try:\n",
        "        frqWiki = DWiki[key] + 1\n",
        "    except:\n",
        "        frqWiki = 1\n",
        "    fOut.write(f'{key}\\t{val}\\t{frqText}\\t{frqWiki}\\n')\n",
        "fOut.flush()"
      ],
      "metadata": {
        "id": "6gKv0TaC39NL"
      },
      "execution_count": 38,
      "outputs": []
    },
    {
      "cell_type": "markdown",
      "source": [
        "## Reading corrected file and discovering rewrite rules\n",
        "- common prefix; common suffix\n",
        "- remaining string to rewrite\n"
      ],
      "metadata": {
        "id": "Qak75Zf9hl0t"
      }
    },
    {
      "cell_type": "code",
      "source": [
        "# Dowloading the file with corrections\n",
        "!wget https://heibox.uni-heidelberg.de/f/82b78c77a7bd4eff955d/?dl=1\n",
        "!mv index.html?dl=1 Parfum_Armenian-freq-diff-all.tsv"
      ],
      "metadata": {
        "id": "LkJFnc3yh3PD"
      },
      "execution_count": null,
      "outputs": []
    },
    {
      "cell_type": "code",
      "source": [
        "!head -n 40 Parfum_Armenian-freq-diff-all.tsv"
      ],
      "metadata": {
        "id": "foqpXiQ-4VRQ"
      },
      "execution_count": null,
      "outputs": []
    },
    {
      "cell_type": "code",
      "source": [
        "!wc Parfum_Armenian-freq-diff-all.tsv"
      ],
      "metadata": {
        "id": "za80HLZ0LzxP"
      },
      "execution_count": null,
      "outputs": []
    },
    {
      "cell_type": "code",
      "source": [
        "!mv Parfum_Armenian-freq-diff-all.tsv Parfum_Armenian-freq-diff-all-v01.tsv"
      ],
      "metadata": {
        "id": "O9zVIsQOL4HU"
      },
      "execution_count": 42,
      "outputs": []
    },
    {
      "cell_type": "code",
      "source": [
        "# Dowloading the file with corrections\n",
        "!wget https://heibox.uni-heidelberg.de/f/14706c04a4024b2f937d/?dl=1\n",
        "!mv index.html?dl=1 Parfum_Armenian-freq-diff-all.tsv"
      ],
      "metadata": {
        "id": "D291v87sL_yK"
      },
      "execution_count": null,
      "outputs": []
    },
    {
      "cell_type": "code",
      "source": [
        "!wc Parfum_Armenian-freq-diff-all.tsv"
      ],
      "metadata": {
        "id": "vWwzIBruMGBJ"
      },
      "execution_count": null,
      "outputs": []
    },
    {
      "cell_type": "code",
      "source": [
        "!head -n 40 Parfum_Armenian-freq-diff-all.tsv"
      ],
      "metadata": {
        "id": "zA4RQMrVMEzo"
      },
      "execution_count": null,
      "outputs": []
    },
    {
      "cell_type": "code",
      "source": [
        "!tail -n 40 Parfum_Armenian-freq-diff-all.tsv"
      ],
      "metadata": {
        "id": "cL-jkZdJMlqz"
      },
      "execution_count": null,
      "outputs": []
    },
    {
      "cell_type": "code",
      "source": [
        "def readCorrections(colNumberOri, colNumberCorrect, SFIn, SFOut = None):\n",
        "    LTWrongCorrect = []\n",
        "    FOut = open(SFOut, 'w')\n",
        "    with open(SFIn, 'r') as FIn:\n",
        "        count = 0\n",
        "        for SLine in FIn:\n",
        "            count += 1\n",
        "            if count == 1: continue\n",
        "            SLine = SLine.strip()\n",
        "            LLine = SLine.split('\\t')\n",
        "            SWrong = LLine[colNumberOri]\n",
        "            SCorrect = LLine[colNumberCorrect]\n",
        "            if SWrong != '' and SCorrect != '' and SWrong != SCorrect:\n",
        "                TWrongCorrect = (f'[{SWrong}]', f'[{SCorrect}]')\n",
        "                LTWrongCorrect.append(TWrongCorrect)\n",
        "    if SFOut:\n",
        "        for SWrong, SCorrect in LTWrongCorrect:\n",
        "            FOut.write(f'{SWrong}\\t{SCorrect}\\n')    \n",
        "        FOut.flush()\n",
        "\n",
        "    return LTWrongCorrect"
      ],
      "metadata": {
        "id": "VlBmzm25qlbC"
      },
      "execution_count": 63,
      "outputs": []
    },
    {
      "cell_type": "code",
      "source": [
        "LTWrongCorrectW = readCorrections(1, 4, '/content/Parfum_Armenian-freq-diff-all.tsv', SFOut = 'Parfum_Armenian-freq-diff-WrCoWForm.tsv')"
      ],
      "metadata": {
        "id": "WWBdvnSIueGP"
      },
      "execution_count": 64,
      "outputs": []
    },
    {
      "cell_type": "code",
      "source": [
        "print(LTWrongCorrectW)"
      ],
      "metadata": {
        "colab": {
          "base_uri": "https://localhost:8080/"
        },
        "id": "SbV1WbRkQ4FB",
        "outputId": "b8d7b419-fb5b-45f8-b9b3-b187c37567d7"
      },
      "execution_count": 65,
      "outputs": [
        {
          "output_type": "stream",
          "name": "stdout",
          "text": [
            "[('[մերճակա]', '[մերձակա]'), ('[առջն]', '[առջև]'), ('[թեթնություն]', '[թեթևություն]'), ('[Եթենա]', '[եթե նա]'), ('[ննա]', '[նա]'), ('[ճեռքերն]', '[ձեռքից]'), ('[ճայն]', '[ձայն]'), ('[ճեռքով]', '[ձեռքով]'), ('[այլնս]', '[այլևս]'), ('[ետնի]', '[ետևի]'), ('[կեղնները]', '[կեղևները]'), ('[ճկան]', '[ձկան]'), ('[ննա]', '[նա]'), ('[բանաձնի]', '[բանաձևի]'), ('[ճեր]', '[ձեր]'), ('[առնտրական]', '[առևտրական]'), ('[արնելյան]', '[արևելյան]'), ('[կուղնորվի]', '[կուղևորվի]'), ('[նս]', '[ևս]'), ('[հետնեց]', '[հետևել]'), ('[նուխիսկ]', '[նույնիսկ]'), ('[երնույթ]', '[երևույթ]'), ('[քրտնքով]', '[քրտինքով]'), ('[արվարճանում]', '[արվարձանում]'), ('[անճամբ]', '[անձամբ]'), ('[ճայնը]', '[ձայնը]'), ('[ճգվում]', '[ձգվում]'), ('[ճիու]', '[ձիու]'), ('[դարճնում]', '[դարձնում]'), ('[ուղնորվում]', '[ուղևորվում ]'), ('[իջնանատան]', '[իջևանատան]'), ('[ճգտում]', '[ձգտում]'), ('[դրսնորում]', '[դրսևորում]'), ('[արվարճանի]', '[արվարձանի]'), ('[ետնում]', '[ետևում]'), ('[ճնավորված]', '[ձևավորված]'), ('[Հետնաբար]', '[հետևաբար]'), ('[այլնս]', '[այլևս]'), ('[Շավանաբար]', '[հավանաբար]'), ('[սկզբիցնեթ]', '[սկզբիցևեթ]'), ('[միջն]', '[միջև]'), ('[համաճայնության]', '[համաձայնություն]'), ('[Թերնս]', '[թերևս]'), ('[տերնի]', '[տերև]'), ('[թնատակերի]', '[թևատակ]'), ('[դոււս]', '[դուրս]'), ('[բարճրացավ]', '[բարձրանալ]'), ('[երկարատն]', '[երկարատև]'), ('[նախնառաջ]', '[նախևառաջ]'), ('[ներքնից]', '[ներքև]'), ('[առջնից]', '[առջև]'), ('[ճեռնոցագործական]', '[ձեռնոցագործական]'), ('[հարնան]', '[գարնան]'), ('[ճգտումը]', '[ձգտումը]'), ('[առջնում]', '[առջևում]'), ('[ճմռանը]', '[ձմռանը]'), ('[սնահեր]', '[սևահեր]'), ('[ծանրութեթն]', '[ծանրութեթև]'), ('[ճագի]', '[ձագի]'), ('[Այլնս]', '[այլևս]'), ('[ինճ]', '[ինձ]'), ('[ճեռքն]', '[ձեռքն]'), ('[արճագանք]', '[արձագանք]'), ('[ճմեռ]', '[ձմեռ]'), ('[պառկածէրգերեզմանատանվրա]', '[պառկած էր գերեզմանատան վրա]'), ('[ճմերուկների]', '[ձմերուկների]'), ('[ունողկալի]', '[ու նողկալի]'), ('[գլխապտույտնե]', '[գլխապտույտներ]'), ('[ճայնի]', '[ձայնի]'), ('[ճկների]', '[ձկների]'), ('[այլնայլ]', '[այլևայլ]'), ('[ճնականություններից]', '[ձևականություններից]'), ('[չուննորներին]', '[չունևորներին]'), ('[արճակվող]', '[արձակվել]'), ('[խամարդ]', '[տղամարդ]'), ('[Միգուցենա]', '[միգուցե նա]'), ('[ջղաճգութու]', '[Ջղաձգություն]'), ('[Դետեսնում]', '[դե տեսնում ]'), ('[բարճրաց]', '[բարձրացնել]'), ('[ինճ]', '[ինձ]'), ('[Որովհետն]', '[որովհետև]'), ('[ննույնիսկ]', '[նույնիսկ]'), ('[հուսահատեգնում]', '[հեւսահատեցնել]'), ('[որնրան]', '[որ նրան]'), ('[Ջգազմունքներից]', '[Զգացմունք]'), ('[մնահավատությոն]', '[սնահավատություն]'), ('[հեթանոսա]', '[հեթանոսացում]'), ('[խարույկՄ]', '[խարույկ]'), ('[տուցում]', '[մատուցում]'), ('[նականռթյան]', '[բանականություն]'), ('[անձր]', '[անձ, անձրև]'), ('[տարօրի]', '[տարօրինակ]'), ('[թնիկները]', '[թևիկ]'), ('[աստվածավախու]', '[աստվածավախություն]'), ('[բարճր]', '[բարձր]'), ('[լավէ]', '[լավ է]'), ('[Թռենել]', '[թռնել]'), ('[հանճնեց]', '[հանձնել]'), ('[Դհյոյում]', '[Դյո]'), ('[տակիզ]', '[տակից]'), ('[առջն]', '[առջև]'), ('[ետնից]', '[ետևից]'), ('[միջն]', '[միջև]'), ('[այնուհետն]', '[այնուհետև]'), ('[բացարճակապես]', '[բացարձակապես]'), ('[որնէ]', '[որևէ]'), ('[այլնս]', '[այլևս]'), ('[թեթն]', '[թեթև]'), ('[թեթնակի]', '[թեթևակի]'), ('[որնէ]', '[որևէ]'), ('[ետնում]', '[ետևում]'), ('[արնի]', '[արևի]'), ('[միննույն]', '[միևնույն]'), ('[վերնում]', '[վերևում]'), ('[ինճ]', '[ինչ]'), ('[արճակում]', '[արձակում]'), ('[թերնս]', '[թերևս]'), ('[երբնիցե]', '[երբևիցե]'), ('[ճեռքը]', '[ձեռքը]'), ('[երնակայության]', '[երևակայության]'), ('[արնմուտք]', '[արևմուտք]'), ('[ճեռք]', '[ձեռք]'), ('[ճեռքի]', '[ձեռքի]'), ('[ճայնով]', '[ձայնով]'), ('[նան]', '[նաև]'), ('[դեռնս]', '[դեռևս]'), ('[ճեռքերը]', '[ձեռքերը]'), ('[հետնում]', '[հետևում]'), ('[արճակող]', '[արձակող]'), ('[որնիցե]', '[որևիցե]'), ('[դեռնս]', '[դեռևս]'), ('[այլնս]', '[այլևս]'), ('[ճեռքին]', '[ձեռքին]'), ('[արնմտյան]', '[արևմտյան]'), ('[այլես]', '[այլևս]'), ('[Նախնառաջ]', '[նախևառաջ]'), ('[հոգնոր]', '[հոգևոր]'), ('[ճեռքերով]', '[ձեռքերով]'), ('[ներքնում]', '[ներքևում]'), ('[համարճակվում]', '[համարձակվում]'), ('[արնելք]', '[արևելք]'), ('[առանճին]', '[առանձին]'), ('[արնմուտքից]', '[արևմուտքից]'), ('[երնակայական]', '[երևակայական]'), ('[թնածում]', '[թևածում]'), ('[բանաճնի]', '[բանաձևի]'), ('[դարճավ]', '[դարձավ]'), ('[բանաճնը]', '[բանաձևը]'), ('[թեթնացած]', '[թեթևացած]'), ('[հետնելով]', '[հետևելով]'), ('[հետնել]', '[հետևել]'), ('[կարնոր]', '[կարևոր]'), ('[ճիու]', '[ձիու]'), ('[հեղճուցիչ]', '[հեղձուցիչ]'), ('[անճնական]', '[անձնական]'), ('[առջնից]', '[առջևից]'), ('[երնում]', '[երևում]'), ('[ինճ]', '[ինձ]'), ('[փորճ]', '[փորձ]'), ('[բանաձնը]', '[բանաձևը]'), ('[եթենա]', '[եթե]'), ('[ինճ]', '[ինձ]'), ('[փորճն]', '[փորձն]'), ('[բանաձն]', '[բանաձևն]'), ('[բանաճն]', '[բանաձևն]'), ('[բարճրացնել]', '[բարձրացնել]'), ('[Այլնս]', '[այլևս]'), ('[սնահեր]', '[սևահեր]'), ('[բացարճակ]', '[բացարձակ]'), ('[ճգտելով]', '[ձգտելով]'), ('[բանաճներ]', '[բանաձևեր]'), ('[թեն]', '[թեև]'), ('[տերնները]', '[տերևերը]'), ('[բարճունքներում]', '[բարձունքներում]'), ('[առնտուրը]', '[առևտուրը]'), ('[անճամբ]', '[անձամբ]'), ('[օթնան]', '[օթևան]'), ('[բանաճներով]', '[բանաձներով]'), ('[արճակել]', '[արձակել]'), ('[բնեռը]', '[բևեռը]'), ('[օճեր]', '[օձեր]'), ('[ոջ]', '[ոչ]'), ('[անձրնը]', '[անձրևը]'), ('[թեթն]', '[թեթև]'), ('[ճգում]', '[ձգում]'), ('[տաքագնում]', '[տաքացնում]'), ('[Հնայած]', '[Չնայած]'), ('[ճեռքերի]', '[Ձեռքերի]'), ('[այխքան]', '[այդքան]'), ('[ճնացրեց]', '[ձևացրեց]'), ('[երնակայությունների]', '[երևակայությունների]'), ('[առջն]', '[առջև]'), ('[բարճր]', '[բարձր]')]\n"
          ]
        }
      ]
    },
    {
      "cell_type": "code",
      "source": [
        "LTWrongCorrectL = readCorrections(3, 6, '/content/Parfum_Armenian-freq-diff-all.tsv', SFOut = 'Parfum_Armenian-freq-diff-WrCoLems.tsv')"
      ],
      "metadata": {
        "id": "7zVWK5qEvxwa"
      },
      "execution_count": 66,
      "outputs": []
    },
    {
      "cell_type": "code",
      "source": [
        "print(LTWrongCorrectL)"
      ],
      "metadata": {
        "colab": {
          "base_uri": "https://localhost:8080/"
        },
        "id": "DHuAYo6LRjdA",
        "outputId": "0ca91564-f4a1-409a-bc68-8b6758269886"
      },
      "execution_count": 67,
      "outputs": [
        {
          "output_type": "stream",
          "name": "stdout",
          "text": [
            "[('[գաղտագող]', '[գաղտագողի]'), ('[լաուրա]', '[Լաուրա]'), ('[տաններոն]', '[Տաններոն]'), ('[մերճակա]', '[մերձակա]'), ('[ռանալել]', '[կռանալ]'), ('[Տերն]', '[Տեր]'), ('[ճեռք]', '[ձեռք]'), ('[կարագից]', '[կարագ]'), ('[ճայն]', '[ձայն]'), ('[ճեռք]', '[ձեռք]'), ('[այլնս]', '[այլևս]'), ('[ետուն]', '[ետև]'), ('[կեղն]', '[կեղև]'), ('[լուսաբացի]', '[լուսաբաց]'), ('[շուրջբոլոր]', '[շուրջբոլորը]'), ('[ճիկ]', '[ձուկ]'), ('[դիմափոշու]', '[դիմափոշի]'), ('[ննա]', '[նա]'), ('[բանաձին]', '[բանաձև]'), ('[ճեր]', '[դուք]'), ('[առնտրական]', '[առևտրական]'), ('[արնելյան]', '[արևելյան]'), ('[կուղնոր]', '[ուղևորվել]'), ('[փափկենալ]', '[փափկել]'), ('[իս]', '[ևս]'), ('[հետնել]', '[հետևել]'), ('[փնթփնթել]', '[փնթփնթալ]'), ('[մեսինա]', '[Մեսինա]'), ('[նուխիսկ]', '[նույնիսկ]'), ('[քացնել]', '[չքանալ]'), ('[երնույթ]', '[երևույթ]'), ('[քրտնք]', '[քրտինք]'), ('[արվարճան]', '[արվարձան]'), ('[անճամբ]', '[անձամբ]'), ('[ճայն]', '[ձայն]'), ('[ճգվել]', '[ձգվել]'), ('[թունելի]', '[թունել]'), ('[բատիստ]', '[Բատիստ]'), ('[ճիու]', '[ձի]'), ('[դարճնել]', '[դարձնել]'), ('[ուղնորվել]', '[ուղևորվել]'), ('[ռահել]', '[կռահել]'), ('[Ռիշին]', '[Ռիշի]'), ('[լաուրային]', '[Լաուրա]'), ('[իջնանատան]', '[իջևանատուն]'), ('[Գրասյան]', '[գրասյուն]'), ('[ճգտել]', '[ձգտել]'), ('[դրսնոր]', '[դրսևորել]'), ('[արվարճան]', '[արվարձան]'), ('[նվիրակար]', '[ամենագարշահոտ]'), ('[ետնել]', '[ետև]'), ('[ծծմոր]', '[ծծմայր]'), ('[ծծմոր]', '[ծծմայր]'), ('[ճնավորվել]', '[ձևավորվել]'), ('[հետնաբար]', '[հետևաբար]'), ('[ծծմոր]', '[ծծմայր]'), ('[կարամելի]', '[կարամել]'), ('[ակար]', '[ամենատանջալի]'), ('[ռալ]', '[չռել]'), ('[կոցել]', '[կկոցել]'), ('[ոռնել]', '[ոռնալ]'), ('[ոռնանալ]', '[ոռնացող]'), ('[որպիսիք]', '[որպիսին]'), ('[միակին]', '[միակ]'), ('[վերապրի]', '[վերապրել]'), ('[գոլորշին]', '[գոլորշի]'), ('[կարճ]', '[ամենաբարակ]'), ('[սանդալի]', '[սանդալ]'), ('[վերոն]', '[վերև]'), ('[ազդիր]', '[ազդր]'), ('[մաշկան]', '[մաշկ]'), ('[գիտել]', '[գիտենալ]'), ('[ավականանալ]', '[բավականացնել]'), ('[ծաղկեփին]', '[ծազկեփունջ]'), ('[հագել]', '[հագնել]'), ('[հարնան]', '[գարուն]'), ('[ճգտում]', '[ձգտում]'), ('[առջին]', '[առջև]'), ('[ճմիռ]', '[ձմեռ]'), ('[սնահ]', '[սևահեր]'), ('[սեփականանալ]', '[սեփականացնել]'), ('[նկուղի]', '[նկուղ]'), ('[ծանրութեթ]', '[ծանրութեթև]'), ('[արկիղ]', '[արկղ]'), ('[շրթ]', '[շրթներկ]'), ('[ճագ]', '[ձագ]'), ('[դողանալ]', '[դողալ]'), ('[պատկերանալ]', '[պատկերացնել]'), ('[այլնս]', '[այլևս]'), ('[վախել]', '[վախեցնել]'), ('[լինել]', '[ես]'), ('[կառափնատեղ]', '[կառափնատեղի]'), ('[կառափնատեղիղ]', '[կառափնատեղի]'), ('[ճեռք]', '[ձեռք]'), ('[արճագանք]', '[արձագանք]'), ('[ըյուսքին]', '[Ջյուսքինդ]'), ('[նվիրական]', '[ամենահանճարեղ]'), ('[ակտիր]', '[ամենագարշելի]'), ('[չօդափոխել]', '[օդափոխել]'), ('[չլվացնել]', '[լվանա]'), ('[ճմեռ]', '[ձմեռ]'), ('[ճմերուկ]', '[ձմերուկ]'), ('[ուշաթափեցնել]', '[ուշաթափել]'), ('[լվացնել]', '[լվանալ]'), ('[ճայն]', '[ձայն]'), ('[ճիկ]', '[ձուկ]'), ('[ծծումոր]', '[ծծմայր]'), ('[քրծեն]', '[քրծենի]'), ('[արկիղ]', '[արկղ]'), ('[այլնայլ]', '[այլևայլ]'), ('[ճնականություն]', '[ձևականություն]'), ('[չուննոր]', '[չունևոր]'), ('[կխնդրել]', '[խնդրել]'), ('[երակրել]', '[կերակրել]'), ('[պիս]', '[պես]'), ('[փինջ]', '[փունջ]'), ('[խկացնել]', '[չխկացնել]'), ('[խեցամաննե]', '[խեցաման]'), ('[գանգրան]', '[գանգրանալ]'), ('[օտարին]', '[օտար]'), ('[կարամելից]', '[կարամել]'), ('[նվիրար]', '[ամենապարզունակ]'), ('[ունեմ]', '[ունենալ]'), ('[քիթր]', '[քիթ]'), ('[աշխարհր]', '[աշխարհ]'), ('[ոստրամոխրագույնի]', '[ոստրամոխրագույն]'), ('[անկշտել]', '[անկշտում]'), ('[ոռինոց]', '[ոռնոց]'), ('[ճղճիղան]', '[ճղճղան]'), ('[դյո]', '[Դյո]'), ('[ժանտախտիգ]', '[ժանտախտից]'), ('[առուն]', '[առջև]'), ('[ետ]', '[ետև]'), ('[միջն]', '[միջև]'), ('[այնուհետ]', '[այնուհետև]'), ('[բացարճակապես]', '[բացարձակապես]'), ('[որ]', '[որևէ]'), ('[այլնս]', '[այլևս]'), ('[թեթ]', '[թեթև]'), ('[թեթնակ]', '[թեթևակի]'), ('[որ]', '[որևէ]'), ('[ետին]', '[ետև]'), ('[արն]', '[արև]'), ('[միննույն]', '[միևնույն]'), ('[վերն]', '[վերև]'), ('[ինճ]', '[ինչ]'), ('[արճակ]', '[արձակել]'), ('[թերուն]', '[թերևս]'), ('[մուշկի]', '[մուշկ]'), ('[երբնիցե]', '[երբևիցե]'), ('[ճեռք]', '[ձեռք]'), ('[տեզ]', '[տիզ]'), ('[երնակայություն]', '[երևակայություն]'), ('[արնմուտք]', '[արևմուտք]'), ('[ճեռք]', '[ձեռք]'), ('[ճեռք]', '[ձեռք]'), ('[ճայն]', '[ձայն]'), ('[նան]', '[նաև]'), ('[դեռին]', '[դեռևս]'), ('[ճեռք]', '[ձեռք]'), ('[հետնել]', '[հետևել]'), ('[արճակել]', '[արձակել]'), ('[որնիցե]', '[որևիցե]'), ('[դեռնս]', '[դեռևս]'), ('[այլնս]', '[այլևս]'), ('[շրթ]', '[շրթներկ]'), ('[ճեռք]', '[ձեռք]'), ('[արնմտյան]', '[արևմտյան]'), ('[այլես]', '[այլևս]'), ('[Նախնառաջ]', '[նախևառաջ]'), ('[հոգնոր]', '[հոգևոր]'), ('[խունկի]', '[խունկ]'), ('[ճեռք]', '[ձեռք]'), ('[ներք]', '[ներքև]'), ('[կաշին]', '[կաշի]'), ('[ազդիր]', '[ազդր]'), ('[դահճ]', '[դահիճ]'), ('[համարճակվել]', '[համարձակվել]'), ('[արնելք]', '[արևելք]'), ('[լցրել]', '[լցնել]'), ('[առանճ]', '[առանձին]'), ('[արնմուտք]', '[արևմուտք]'), ('[երնակայական]', '[երևակայական]'), ('[թնածել]', '[թևածել]'), ('[բանաճին]', '[բանաձև]'), ('[բանաճին]', '[բանաձև]'), ('[թեթնանալ]', '[թեթևանալ]'), ('[հետնել]', '[հետևել]'), ('[հետնել]', '[հետևել]'), ('[կարնոր]', '[կարևոր]'), ('[ճի]', '[ձի]'), ('[հեղճուցիչ]', '[հեղձուցիչ]'), ('[անճնական]', '[անձնական]'), ('[անորսալ]', '[անորսալի]'), ('[գաղտագող]', '[գաղտագողի]'), ('[առուջ]', '[առջև]'), ('[երնել]', '[երևալ]'), ('[ինճ]', '[ես]'), ('[փնթփնթաց]', '[փնթփնթալ]'), ('[փորճ]', '[փորձ]'), ('[բանաձին]', '[բանաձև]'), ('[եթենա]', '[եթե]'), ('[ինճ]', '[ես]'), ('[փորճ]', '[փորձ]'), ('[ալուֆ]', '[ալֆա]'), ('[բանաձ]', '[բանաձև]'), ('[բանաճ]', '[բանաձև]'), ('[թքած]', '[թքել]'), ('[բարճրանալ]', '[բարձրացնել]'), ('[Այլիս]', '[այլևս]'), ('[կավինավեհ]', '[ամենավեհ]'), ('[սնահեր]', '[սևահեր]'), ('[պոռթում]', '[պոռթկում]'), ('[բացարճակ]', '[բացարձակ]'), ('[բանաճ]', '[բանաձև]'), ('[թեն]', '[թեև]'), ('[տերն]', '[տերև]'), ('[շրթ]', '[շրթներկ]'), ('[բարճունք]', '[բարձունք]'), ('[ջրալ]', '[ջրալի]'), ('[թորվել]', '[թորել]'), ('[խլթխլթել]', '[խլթխլթալ]'), ('[առնտուր]', '[առևտուր]'), ('[անճամ]', '[անձամբ]'), ('[օթին]', '[օթևան]'), ('[բանաճ]', '[բանաձև]'), ('[արճակել]', '[արձակել]'), ('[բնեռ]', '[բևեռ]'), ('[օճ]', '[օձ]'), ('[ոջ]', '[ոչ]'), ('[անձր]', '[անձրև]'), ('[թեթն]', '[թեթև]'), ('[ճգալ]', '[ձգել]'), ('[լերել]', '[ուտել]'), ('[տաքագնել]', '[տաքացնել]'), ('[Հնայած]', '[Չնայած]'), ('[ճեռք]', '[ձեռք]'), ('[շրթ]', '[շրթներկ]'), ('[այխքան]', '[այդքան]'), ('[նարնջենու]', '[նարնջենի]'), ('[թաքչել]', '[թաքցնել]'), ('[ճնալ]', '[ձևացնել]'), ('[զնգզնգել]', '[զնգզնգալ]'), ('[գիտել]', '[իմանալ]'), ('[բարճր]', '[բարձր]')]\n"
          ]
        }
      ]
    },
    {
      "cell_type": "code",
      "source": [
        "# functions to compare two strings\n",
        "import os\n",
        "def getCmnPrefix(S1, S2):\n",
        "    common = os.path.commonprefix([S1, S2])\n",
        "    return common\n",
        "\n",
        "\n",
        "def getCmnSuffix(S1,S2):\n",
        "    S1r = S1[::-1]\n",
        "    S2r = S2[::-1]\n",
        "    commonR = getCmnPrefix(S1r, S2r)\n",
        "    common = commonR[::-1]\n",
        "    return common\n",
        "\n",
        "def getDifInfix(S1, S2, LContext = 0, RContext = 0):\n",
        "    IPLen = len(getCmnPrefix(S1, S2))\n",
        "    # print('IPLen', IPLen)\n",
        "    ISLen = len(getCmnSuffix(S1, S2))\n",
        "    # print('ISLen', ISLen)\n",
        "    diffInfix1 = S1[IPLen-LContext:-1*(ISLen)+RContext]\n",
        "    # print('S1', S1, IPLen-LContext, -1*(ISLen)+RContext)\n",
        "    diffInfix2 = S2[IPLen-LContext:-1*(ISLen)+RContext]\n",
        "    # print('S2', S2, IPLen-LContext, -1*(ISLen)+RContext)\n",
        "    return(diffInfix1, diffInfix2)\n",
        "\n",
        "def getDifSuffix(S1, S2, LContext = 0):\n",
        "    # used if common suffix == ''\n",
        "    IPLen = len(getCmnPrefix(S1, S2))\n",
        "    # print('IPLen', IPLen)\n",
        "    ISLen = len(getCmnSuffix(S1, S2))\n",
        "    # print('ISLen', ISLen)\n",
        "    if ISLen == 0:\n",
        "        diffSuffix1 = S1[IPLen-LContext:]\n",
        "        diffSuffix2 = S2[IPLen-LContext:]\n",
        "    else:\n",
        "        diffSuffix1 = ''\n",
        "        diffSuffix2 = ''\n",
        "    return(diffSuffix1, diffSuffix2)\n",
        "\n",
        "def getDifPrefix(S1, S2, RContext = 0):\n",
        "    # used if common suffix == ''\n",
        "    IPLen = len(getCmnPrefix(S1, S2))\n",
        "    # print('IPLen', IPLen)\n",
        "    ISLen = len(getCmnSuffix(S1, S2))\n",
        "    # print('ISLen', ISLen)\n",
        "    if IPLen == 0:\n",
        "        diffPrefix1 = S1[:-1*(ISLen)+RContext]\n",
        "        diffPrefix2 = S2[:-1*(ISLen)+RContext]\n",
        "    else:\n",
        "        diffPrefix1 = ''\n",
        "        diffPrefix2 = ''\n",
        "       \n",
        "    return(diffPrefix1, diffPrefix2)\n",
        "\n",
        "def getDiff(S1, S2, LContext = 0, RContext = 0):\n",
        "    IPLen = len(getCmnPrefix(S1, S2))\n",
        "    ISLen = len(getCmnSuffix(S1, S2))\n",
        "    if IPLen and ISLen:\n",
        "        diff1 = S1[IPLen-LContext:-1*(ISLen)+RContext]\n",
        "        diff2 = S2[IPLen-LContext:-1*(ISLen)+RContext]\n",
        "    elif IPLen: # there is a common prefix, find different suffixes\n",
        "        diff1 = S1[IPLen-LContext:]\n",
        "        diff2 = S2[IPLen-LContext:]\n",
        "    elif ISLen: # there is a common suffix, find different prefixes\n",
        "        diff1 = S1[:-1*(ISLen)+RContext]\n",
        "        diff2 = S2[:-1*(ISLen)+RContext]\n",
        "    else:\n",
        "        diff1 = S1\n",
        "        diff2 = S2\n",
        "    return (diff1, diff2)\n",
        "\n"
      ],
      "metadata": {
        "id": "w3nwDAXc_wEq"
      },
      "execution_count": 68,
      "outputs": []
    },
    {
      "cell_type": "code",
      "source": [
        "# first attempt, not used...\n",
        "'''\n",
        "def getDifInfix2X(S1, S2, LContext = 0, RContext = 0):\n",
        "    IPLen = len(getCmnPrefix(S1, S2))\n",
        "    ISLen = len(getCmnSuffix(S1, S2))\n",
        "\n",
        "    if LContext and RContext:\n",
        "        diffInfix1 = S1[IPLen-LContext:-1*(ISLen)+RContext]\n",
        "        diffInfix2 = S2[IPLen-LContext:-1*(ISLen)+RContext]\n",
        "        print('both')\n",
        "    elif LContext:\n",
        "        diffInfix1 = S1[IPLen-LContext:-1*(ISLen)]\n",
        "        diffInfix2 = S2[IPLen-LContext:-1*(ISLen)]\n",
        "        print('left')\n",
        "    elif RContext:\n",
        "        diffInfix1 = S1[IPLen:-1*(ISLen+RContext)]\n",
        "        diffInfix2 = S2[IPLen:-1*(ISLen+RContext)]\n",
        "        print('right')\n",
        "    else:\n",
        "        diffInfix1 = S1[IPLen:-1*ISLen]\n",
        "        diffInfix2 = S2[IPLen:-1*ISLen]\n",
        "        print('no-context')\n",
        "\n",
        "    return(diffInfix1, diffInfix2)\n",
        "\n",
        "\n",
        "\n",
        "def getDifPrefix(S1, S2, RContext = 0):\n",
        "    # used if common prefix == ''\n",
        "    IPLen = len(getCmnPrefix(S1, S2))\n",
        "    # print('IPLen', IPLen)\n",
        "    ISLen = len(getCmnSuffix(S1, S2))\n",
        "    # print('ISLen', ISLen)\n",
        "\n",
        "\n",
        "\n",
        "'''"
      ],
      "metadata": {
        "id": "OiP4EPl2Eene"
      },
      "execution_count": null,
      "outputs": []
    },
    {
      "cell_type": "code",
      "source": [
        "# testing\n",
        "P12 = getCmnPrefix('перепливи', 'перелови')\n",
        "S12 = getCmnSuffix('перепливи', 'перелови')\n",
        "# I1, I2 = getDifInfix('перепливи', 'перелови')\n",
        "# print(P12, S12)\n",
        "# print(I1, I2)\n",
        "\n",
        "I1, I2 = getDifInfix('перепливи', 'перелови', LContext = 0, RContext = 0)\n",
        "print(I1, I2)\n",
        "\n",
        "S1, S2 = getDifSuffix('розгубився', 'розгубивсь', LContext = 0)\n",
        "print(S1, S2)\n",
        "S1, S2 = getDifSuffix('розгубився', 'розгубивс', LContext = 0)\n",
        "print(S1, S2)\n",
        "\n",
        "S1, S2 = getDifPrefix('вловив', 'зловив', RContext = 0)\n",
        "print(S1, S2)\n",
        "S1, S2 = getDifPrefix('ловив', 'зловив', RContext = 0)\n",
        "print(S1, S2)\n",
        "\n",
        "print('new version....')\n",
        "I1, I2 = getDiff('перепливи', 'перелови', LContext = 1, RContext = 1)\n",
        "print(I1, I2)\n",
        "\n",
        "S1, S2 = getDiff('розгубився', 'розгубивсь', LContext = 1)\n",
        "print(S1, S2)\n",
        "S1, S2 = getDiff('розгубився', 'розгубивс', LContext = 1)\n",
        "print(S1, S2)\n",
        "\n",
        "S1, S2 = getDiff('вловив', 'зловив', RContext = 1)\n",
        "print(S1, S2)\n",
        "S1, S2 = getDiff('ловив', 'зловив', RContext = 1)\n",
        "print(S1, S2)\n",
        "\n"
      ],
      "metadata": {
        "colab": {
          "base_uri": "https://localhost:8080/"
        },
        "id": "XrcT9UPL_1G-",
        "outputId": "0ed5291b-0f86-4e02-83c4-ab404480420a"
      },
      "execution_count": 70,
      "outputs": [
        {
          "output_type": "stream",
          "name": "stdout",
          "text": [
            "пли ло\n",
            "я ь\n",
            "я \n",
            "в з\n",
            " з\n",
            "new version....\n",
            "еплив елов\n",
            "ся сь\n",
            "ся с\n",
            "вл зл\n",
            "л зл\n"
          ]
        }
      ]
    },
    {
      "cell_type": "code",
      "source": [
        "FOut = open('Parfum_Armenian-freq-diff-Changes2.txt', 'w')\n",
        "\n",
        "DChanges = {}\n",
        "for SWrong, SRight in LTWrongCorrectW:\n",
        "    P12 = getCmnPrefix(SWrong, SRight)\n",
        "    S12 = getCmnSuffix(SWrong, SRight)\n",
        "    I1, I2 = getDiff(SWrong, SRight, LContext = 2, RContext =2)\n",
        "    try:\n",
        "        DChanges[(I1, I2)] += 1\n",
        "    except:\n",
        "        DChanges[(I1, I2)] = 1\n",
        "\n",
        "    print(SWrong, '(' , P12, '<', I1, '|', I2, '>', S12, ')', SRight)\n",
        "    FOut.write(f'{SWrong} ( {P12} < {I1} | {I2} > {S12} ) {SRight}\\n')\n",
        "\n",
        "for SWrong, SRight in LTWrongCorrectL:\n",
        "    P12 = getCmnPrefix(SWrong, SRight)\n",
        "    S12 = getCmnSuffix(SWrong, SRight)\n",
        "    I1, I2 = getDiff(SWrong, SRight, LContext = 2, RContext = 2)\n",
        "    try:\n",
        "        DChanges[(I1, I2)] += 1\n",
        "    except:\n",
        "        DChanges[(I1, I2)] = 1\n",
        "\n",
        "    print(SWrong, '(' , P12, '<', I1, '|', I2, '>', S12, ')', SRight)\n",
        "    FOut.write(f'{SWrong} ( {P12} < {I1} | {I2} > {S12} ) {SRight}\\n')\n",
        "FOut.flush()\n",
        "\n",
        "\n",
        "FOut = open('Parfum_Armenian-freq-diff-ChangeDict2.txt', 'w')\n",
        "for key, value in sorted(DChanges.items(), key=lambda item: item[1], reverse=True):\n",
        "    L, R = key\n",
        "    FOut.write(f'{L}\\t{R}\\t{value}\\n')\n",
        "\n",
        "FOut.flush()\n"
      ],
      "metadata": {
        "colab": {
          "base_uri": "https://localhost:8080/"
        },
        "id": "WYvbFevMLh4f",
        "outputId": "8bb258a9-81e0-4c0f-f0de-863aabf8b2e5"
      },
      "execution_count": 81,
      "outputs": [
        {
          "output_type": "stream",
          "name": "stdout",
          "text": [
            "[մերճակա] ( [մեր < երճակ | երձակ > ակա] ) [մերձակա]\n",
            "[առջն] ( [առջ <  |  > ] ) [առջև]\n",
            "[թեթնություն] ( [թեթ < եթնու | եթևու > ություն] ) [թեթևություն]\n",
            "[Եթենա] ( [ <  |  > նա] ) [եթե նա]\n",
            "[ննա] ( [ն < [ննա | [նա > նա] ) [նա]\n",
            "[ճեռքերն] ( [ <  |  > ] ) [ձեռքից]\n",
            "[ճայն] ( [ <  |  > այն] ) [ձայն]\n",
            "[ճեռքով] ( [ <  |  > եռքով] ) [ձեռքով]\n",
            "[այլնս] ( [այլ <  |  > ս] ) [այլևս]\n",
            "[ետնի] ( [ետ <  |  > ի] ) [ետևի]\n",
            "[կեղնները] ( [կեղ < եղննե | եղևնե > ները] ) [կեղևները]\n",
            "[ճկան] ( [ <  |  > կան] ) [ձկան]\n",
            "[ննա] ( [ն < [ննա | [նա > նա] ) [նա]\n",
            "[բանաձնի] ( [բանաձ <  |  > ի] ) [բանաձևի]\n",
            "[ճեր] ( [ <  |  > եր] ) [ձեր]\n",
            "[առնտրական] ( [առ < առնտր | առևտր > տրական] ) [առևտրական]\n",
            "[արնելյան] ( [ար < արնել | արևել > ելյան] ) [արևելյան]\n",
            "[կուղնորվի] ( [կուղ < ւղնոր | ւղևոր > որվի] ) [կուղևորվի]\n",
            "[նս] ( [ <  |  > ս] ) [ևս]\n",
            "[հետնեց] ( [հետ <  |  > ] ) [հետևել]\n",
            "[նուխիսկ] ( [նու < ուխիս | ույնիս > իսկ] ) [նույնիսկ]\n",
            "[երնույթ] ( [եր < երնու | երևու > ույթ] ) [երևույթ]\n",
            "[քրտնքով] ( [քրտ < րտնք | րտինք > նքով] ) [քրտինքով]\n",
            "[արվարճանում] ( [արվար < արճան | արձան > անում] ) [արվարձանում]\n",
            "[անճամբ] ( [ան < անճամ | անձամ > ամբ] ) [անձամբ]\n",
            "[ճայնը] ( [ <  |  > այնը] ) [ձայնը]\n",
            "[ճգվում] ( [ <  |  > գվում] ) [ձգվում]\n",
            "[ճիու] ( [ <  |  > իու] ) [ձիու]\n",
            "[դարճնում] ( [դար < արճնո | արձնո > նում] ) [դարձնում]\n",
            "[ուղնորվում] ( [ուղ <  |  > ] ) [ուղևորվում ]\n",
            "[իջնանատան] ( [իջ < իջնան | իջևան > անատան] ) [իջևանատան]\n",
            "[ճգտում] ( [ <  |  > գտում] ) [ձգտում]\n",
            "[դրսնորում] ( [դրս < րսնոր | րսևոր > որում] ) [դրսևորում]\n",
            "[արվարճանի] ( [արվար < արճան | արձան > անի] ) [արվարձանի]\n",
            "[ետնում] ( [ետ < ետնու | ետևու > ում] ) [ետևում]\n",
            "[ճնավորված] ( [ <  |  > ավորված] ) [ձևավորված]\n",
            "[Հետնաբար] ( [ <  |  > աբար] ) [հետևաբար]\n",
            "[այլնս] ( [այլ <  |  > ս] ) [այլևս]\n",
            "[Շավանաբար] ( [ <  |  > ավանաբար] ) [հավանաբար]\n",
            "[սկզբիցնեթ] ( [սկզբից < իցնեթ | իցևեթ > եթ] ) [սկզբիցևեթ]\n",
            "[միջն] ( [միջ <  |  > ] ) [միջև]\n",
            "[համաճայնության] ( [համա <  |  > ն] ) [համաձայնություն]\n",
            "[Թերնս] ( [ <  |  > ս] ) [թերևս]\n",
            "[տերնի] ( [տեր <  |  > ] ) [տերև]\n",
            "[թնատակերի] ( [թ < [ | [ > ] ) [թևատակ]\n",
            "[դոււս] ( [դու <  |  > ս] ) [դուրս]\n",
            "[բարճրացավ] ( [բար <  |  > ] ) [բարձրանալ]\n",
            "[երկարատն] ( [երկարատ <  |  > ] ) [երկարատև]\n",
            "[նախնառաջ] ( [նախ < ախնառ | ախևառ > առաջ] ) [նախևառաջ]\n",
            "[ներքնից] ( [ներք <  |  > ] ) [ներքև]\n",
            "[առջնից] ( [առջ <  |  > ] ) [առջև]\n",
            "[ճեռնոցագործական] ( [ <  |  > եռնոցագործական] ) [ձեռնոցագործական]\n",
            "[հարնան] ( [ <  |  > արնան] ) [գարնան]\n",
            "[ճգտումը] ( [ <  |  > գտումը] ) [ձգտումը]\n",
            "[առջնում] ( [առջ < ռջնու | ռջևու > ում] ) [առջևում]\n",
            "[ճմռանը] ( [ <  |  > մռանը] ) [ձմռանը]\n",
            "[սնահեր] ( [ս < [սնահ | [սևահ > ահեր] ) [սևահեր]\n",
            "[ծանրութեթն] ( [ծանրութեթ <  |  > ] ) [ծանրութեթև]\n",
            "[ճագի] ( [ <  |  > ագի] ) [ձագի]\n",
            "[Այլնս] ( [ <  |  > ս] ) [այլևս]\n",
            "[ինճ] ( [ին <  |  > ] ) [ինձ]\n",
            "[ճեռքն] ( [ <  |  > եռքն] ) [ձեռքն]\n",
            "[արճագանք] ( [ար < արճագ | արձագ > ագանք] ) [արձագանք]\n",
            "[ճմեռ] ( [ <  |  > մեռ] ) [ձմեռ]\n",
            "[պառկածէրգերեզմանատանվրա] ( [պառկած < ածէրգերեզմանատանվր | ած էր գերեզմանատան վր > վրա] ) [պառկած էր գերեզմանատան վրա]\n",
            "[ճմերուկների] ( [ <  |  > մերուկների] ) [ձմերուկների]\n",
            "[ունողկալի] ( [ու < ունո | ու նո > նողկալի] ) [ու նողկալի]\n",
            "[գլխապտույտնե] ( [գլխապտույտնե <  |  > ] ) [գլխապտույտներ]\n",
            "[ճայնի] ( [ <  |  > այնի] ) [ձայնի]\n",
            "[ճկների] ( [ <  |  > կների] ) [ձկների]\n",
            "[այլնայլ] ( [այլ < յլնայ | յլևայ > այլ] ) [այլևայլ]\n",
            "[ճնականություններից] ( [ <  |  > ականություններից] ) [ձևականություններից]\n",
            "[չուննորներին] ( [չուն < ւննոր | ւնևոր > որներին] ) [չունևորներին]\n",
            "[արճակվող] ( [ար <  |  > ] ) [արձակվել]\n",
            "[խամարդ] ( [ <  |  > ամարդ] ) [տղամարդ]\n",
            "[Միգուցենա] ( [ <  |  > նա] ) [միգուցե նա]\n",
            "[ջղաճգութու] ( [ <  |  > ] ) [Ջղաձգություն]\n",
            "[Դետեսնում] ( [ <  |  > ] ) [դե տեսնում ]\n",
            "[բարճրաց] ( [բար <  |  > ] ) [բարձրացնել]\n",
            "[ինճ] ( [ին <  |  > ] ) [ինձ]\n",
            "[Որովհետն] ( [ <  |  > ] ) [որովհետև]\n",
            "[ննույնիսկ] ( [ն < [ննո | [նո > նույնիսկ] ) [նույնիսկ]\n",
            "[հուսահատեգնում] ( [հ < [ | [ > ] ) [հեւսահատեցնել]\n",
            "[որնրան] ( [որ < որնր | որ նր > նրան] ) [որ նրան]\n",
            "[Ջգազմունքներից] ( [ <  |  > ] ) [Զգացմունք]\n",
            "[մնահավատությոն] ( [ <  |  > ն] ) [սնահավատություն]\n",
            "[հեթանոսա] ( [հեթանոսա <  |  > ] ) [հեթանոսացում]\n",
            "[խարույկՄ] ( [խարույկ <  |  > ] ) [խարույկ]\n",
            "[տուցում] ( [ <  |  > տուցում] ) [մատուցում]\n",
            "[նականռթյան] ( [ <  |  > ն] ) [բանականություն]\n",
            "[անձր] ( [անձ <  |  > ] ) [անձ, անձրև]\n",
            "[տարօրի] ( [տարօրի <  |  > ] ) [տարօրինակ]\n",
            "[թնիկները] ( [թ < [ | [ > ] ) [թևիկ]\n",
            "[աստվածավախու] ( [աստվածավախու <  |  > ] ) [աստվածավախություն]\n",
            "[բարճր] ( [բար <  |  > ր] ) [բարձր]\n",
            "[լավէ] ( [լավ <  |  > է] ) [լավ է]\n",
            "[Թռենել] ( [ <  |  > նել] ) [թռնել]\n",
            "[հանճնեց] ( [հան <  |  > ] ) [հանձնել]\n",
            "[Դհյոյում] ( [Դ < [ | [ > ] ) [Դյո]\n",
            "[տակիզ] ( [տակի <  |  > ] ) [տակից]\n",
            "[առջն] ( [առջ <  |  > ] ) [առջև]\n",
            "[ետնից] ( [ետ < ետնից | ետևից > ից] ) [ետևից]\n",
            "[միջն] ( [միջ <  |  > ] ) [միջև]\n",
            "[այնուհետն] ( [այնուհետ <  |  > ] ) [այնուհետև]\n",
            "[բացարճակապես] ( [բացար < արճակ | արձակ > ակապես] ) [բացարձակապես]\n",
            "[որնէ] ( [որ <  |  > է] ) [որևէ]\n",
            "[այլնս] ( [այլ <  |  > ս] ) [այլևս]\n",
            "[թեթն] ( [թեթ <  |  > ] ) [թեթև]\n",
            "[թեթնակի] ( [թեթ < եթնակ | եթևակ > ակի] ) [թեթևակի]\n",
            "[որնէ] ( [որ <  |  > է] ) [որևէ]\n",
            "[ետնում] ( [ետ < ետնու | ետևու > ում] ) [ետևում]\n",
            "[արնի] ( [ար <  |  > ի] ) [արևի]\n",
            "[միննույն] ( [մի < միննո | միևնո > նույն] ) [միևնույն]\n",
            "[վերնում] ( [վեր < երնու | երևու > ում] ) [վերևում]\n",
            "[ինճ] ( [ին <  |  > ] ) [ինչ]\n",
            "[արճակում] ( [ար < արճակ | արձակ > ակում] ) [արձակում]\n",
            "[թերնս] ( [թեր <  |  > ս] ) [թերևս]\n",
            "[երբնիցե] ( [երբ < րբնից | րբևից > իցե] ) [երբևիցե]\n",
            "[ճեռքը] ( [ <  |  > եռքը] ) [ձեռքը]\n",
            "[երնակայության] ( [եր < երնակ | երևակ > ակայության] ) [երևակայության]\n",
            "[արնմուտք] ( [ար < արնմո | արևմո > մուտք] ) [արևմուտք]\n",
            "[ճեռք] ( [ <  |  > եռք] ) [ձեռք]\n",
            "[ճեռքի] ( [ <  |  > եռքի] ) [ձեռքի]\n",
            "[ճայնով] ( [ <  |  > այնով] ) [ձայնով]\n",
            "[նան] ( [նա <  |  > ] ) [նաև]\n",
            "[դեռնս] ( [դեռ <  |  > ս] ) [դեռևս]\n",
            "[ճեռքերը] ( [ <  |  > եռքերը] ) [ձեռքերը]\n",
            "[հետնում] ( [հետ < ետնու | ետևու > ում] ) [հետևում]\n",
            "[արճակող] ( [ար < արճակ | արձակ > ակող] ) [արձակող]\n",
            "[որնիցե] ( [որ < որնից | որևից > իցե] ) [որևիցե]\n",
            "[դեռնս] ( [դեռ <  |  > ս] ) [դեռևս]\n",
            "[այլնս] ( [այլ <  |  > ս] ) [այլևս]\n",
            "[ճեռքին] ( [ <  |  > եռքին] ) [ձեռքին]\n",
            "[արնմտյան] ( [ար < արնմտ | արևմտ > մտյան] ) [արևմտյան]\n",
            "[այլես] ( [այլ <  |  > ս] ) [այլևս]\n",
            "[Նախնառաջ] ( [ <  |  > առաջ] ) [նախևառաջ]\n",
            "[հոգնոր] ( [հոգ < ոգնոր | ոգևոր > որ] ) [հոգևոր]\n",
            "[ճեռքերով] ( [ <  |  > եռքերով] ) [ձեռքերով]\n",
            "[ներքնում] ( [ներք < րքնու | րքևու > ում] ) [ներքևում]\n",
            "[համարճակվում] ( [համար < արճակ | արձակ > ակվում] ) [համարձակվում]\n",
            "[արնելք] ( [ար < արնել | արևել > ելք] ) [արևելք]\n",
            "[առանճին] ( [առան < անճին | անձին > ին] ) [առանձին]\n",
            "[արնմուտքից] ( [ար < արնմո | արևմո > մուտքից] ) [արևմուտքից]\n",
            "[երնակայական] ( [եր < երնակ | երևակ > ակայական] ) [երևակայական]\n",
            "[թնածում] ( [թ < [թնած | [թևած > ածում] ) [թևածում]\n",
            "[բանաճնի] ( [բանա <  |  > ի] ) [բանաձևի]\n",
            "[դարճավ] ( [դար < արճավ | արձավ > ավ] ) [դարձավ]\n",
            "[բանաճնը] ( [բանա <  |  > ը] ) [բանաձևը]\n",
            "[թեթնացած] ( [թեթ < եթնաց | եթևաց > ացած] ) [թեթևացած]\n",
            "[հետնելով] ( [հետ < ետնել | ետևել > ելով] ) [հետևելով]\n",
            "[հետնել] ( [հետ < ետնել | ետևել > ել] ) [հետևել]\n",
            "[կարնոր] ( [կար < արնոր | արևոր > որ] ) [կարևոր]\n",
            "[ճիու] ( [ <  |  > իու] ) [ձիու]\n",
            "[հեղճուցիչ] ( [հեղ < եղճու | եղձու > ուցիչ] ) [հեղձուցիչ]\n",
            "[անճնական] ( [ան < անճնա | անձնա > նական] ) [անձնական]\n",
            "[առջնից] ( [առջ < ռջնից | ռջևից > ից] ) [առջևից]\n",
            "[երնում] ( [եր < երնու | երևու > ում] ) [երևում]\n",
            "[ինճ] ( [ին <  |  > ] ) [ինձ]\n",
            "[փորճ] ( [փոր <  |  > ] ) [փորձ]\n",
            "[բանաձնը] ( [բանաձ <  |  > ը] ) [բանաձևը]\n",
            "[եթենա] ( [եթե <  |  > ] ) [եթե]\n",
            "[ինճ] ( [ին <  |  > ] ) [ինձ]\n",
            "[փորճն] ( [փոր <  |  > ն] ) [փորձն]\n",
            "[բանաձն] ( [բանաձ <  |  > ն] ) [բանաձևն]\n",
            "[բանաճն] ( [բանա <  |  > ն] ) [բանաձևն]\n",
            "[բարճրացնել] ( [բար < արճրա | արձրա > րացնել] ) [բարձրացնել]\n",
            "[Այլնս] ( [ <  |  > ս] ) [այլևս]\n",
            "[սնահեր] ( [ս < [սնահ | [սևահ > ահեր] ) [սևահեր]\n",
            "[բացարճակ] ( [բացար < արճակ | արձակ > ակ] ) [բացարձակ]\n",
            "[ճգտելով] ( [ <  |  > գտելով] ) [ձգտելով]\n",
            "[բանաճներ] ( [բանա < նաճներ | նաձևեր > եր] ) [բանաձևեր]\n",
            "[թեն] ( [թե <  |  > ] ) [թեև]\n",
            "[տերնները] ( [տեր < երններ | երևեր > երը] ) [տերևերը]\n",
            "[բարճունքներում] ( [բար < արճու | արձու > ունքներում] ) [բարձունքներում]\n",
            "[առնտուրը] ( [առ < առնտո | առևտո > տուրը] ) [առևտուրը]\n",
            "[անճամբ] ( [ան < անճամ | անձամ > ամբ] ) [անձամբ]\n",
            "[օթնան] ( [օթ < օթնան | օթևան > ան] ) [օթևան]\n",
            "[բանաճներով] ( [բանա < նաճնե | նաձնե > ներով] ) [բանաձներով]\n",
            "[արճակել] ( [ար < արճակ | արձակ > ակել] ) [արձակել]\n",
            "[բնեռը] ( [բ < [բնեռ | [բևեռ > եռը] ) [բևեռը]\n",
            "[օճեր] ( [օ < [օճեր | [օձեր > եր] ) [օձեր]\n",
            "[ոջ] ( [ո < [ | [ > ] ) [ոչ]\n",
            "[անձրնը] ( [անձր <  |  > ը] ) [անձրևը]\n",
            "[թեթն] ( [թեթ <  |  > ] ) [թեթև]\n",
            "[ճգում] ( [ <  |  > գում] ) [ձգում]\n",
            "[տաքագնում] ( [տաքա < քագնո | քացնո > նում] ) [տաքացնում]\n",
            "[Հնայած] ( [ <  |  > նայած] ) [Չնայած]\n",
            "[ճեռքերի] ( [ <  |  > եռքերի] ) [Ձեռքերի]\n",
            "[այխքան] ( [այ < այխքա | այդքա > քան] ) [այդքան]\n",
            "[ճնացրեց] ( [ <  |  > ացրեց] ) [ձևացրեց]\n",
            "[երնակայությունների] ( [եր < երնակ | երևակ > ակայությունների] ) [երևակայությունների]\n",
            "[առջն] ( [առջ <  |  > ] ) [առջև]\n",
            "[բարճր] ( [բար <  |  > ր] ) [բարձր]\n",
            "[գաղտագող] ( [գաղտագող <  |  > ] ) [գաղտագողի]\n",
            "[լաուրա] ( [ <  |  > աուրա] ) [Լաուրա]\n",
            "[տաններոն] ( [ <  |  > աններոն] ) [Տաններոն]\n",
            "[մերճակա] ( [մեր < երճակ | երձակ > ակա] ) [մերձակա]\n",
            "[ռանալել] ( [ <  |  > լ] ) [կռանալ]\n",
            "[Տերն] ( [Տեր <  |  > ] ) [Տեր]\n",
            "[ճեռք] ( [ <  |  > եռք] ) [ձեռք]\n",
            "[կարագից] ( [կարագ <  |  > ] ) [կարագ]\n",
            "[ճայն] ( [ <  |  > այն] ) [ձայն]\n",
            "[ճեռք] ( [ <  |  > եռք] ) [ձեռք]\n",
            "[այլնս] ( [այլ <  |  > ս] ) [այլևս]\n",
            "[ետուն] ( [ետ <  |  > ] ) [ետև]\n",
            "[կեղն] ( [կեղ <  |  > ] ) [կեղև]\n",
            "[լուսաբացի] ( [լուսաբաց <  |  > ] ) [լուսաբաց]\n",
            "[շուրջբոլոր] ( [շուրջբոլոր <  |  > ] ) [շուրջբոլորը]\n",
            "[ճիկ] ( [ <  |  > կ] ) [ձուկ]\n",
            "[դիմափոշու] ( [դիմափոշ <  |  > ] ) [դիմափոշի]\n",
            "[ննա] ( [ն < [ննա | [նա > նա] ) [նա]\n",
            "[բանաձին] ( [բանաձ <  |  > ] ) [բանաձև]\n",
            "[ճեր] ( [ <  |  > ] ) [դուք]\n",
            "[առնտրական] ( [առ < առնտր | առևտր > տրական] ) [առևտրական]\n",
            "[արնելյան] ( [ար < արնել | արևել > ելյան] ) [արևելյան]\n",
            "[կուղնոր] ( [ <  |  > ] ) [ուղևորվել]\n",
            "[փափկենալ] ( [փափկե <  |  > լ] ) [փափկել]\n",
            "[իս] ( [ <  |  > ս] ) [ևս]\n",
            "[հետնել] ( [հետ < ետնել | ետևել > ել] ) [հետևել]\n",
            "[փնթփնթել] ( [փնթփնթ <  |  > լ] ) [փնթփնթալ]\n",
            "[մեսինա] ( [ <  |  > եսինա] ) [Մեսինա]\n",
            "[նուխիսկ] ( [նու < ուխիս | ույնիս > իսկ] ) [նույնիսկ]\n",
            "[քացնել] ( [ <  |  > լ] ) [չքանալ]\n",
            "[երնույթ] ( [եր < երնու | երևու > ույթ] ) [երևույթ]\n",
            "[քրտնք] ( [քրտ < րտնք | րտինք > նք] ) [քրտինք]\n",
            "[արվարճան] ( [արվար < արճան | արձան > ան] ) [արվարձան]\n",
            "[անճամբ] ( [ան < անճամ | անձամ > ամբ] ) [անձամբ]\n",
            "[ճայն] ( [ <  |  > այն] ) [ձայն]\n",
            "[ճգվել] ( [ <  |  > գվել] ) [ձգվել]\n",
            "[թունելի] ( [թունել <  |  > ] ) [թունել]\n",
            "[բատիստ] ( [ <  |  > ատիստ] ) [Բատիստ]\n",
            "[ճիու] ( [ <  |  > ] ) [ձի]\n",
            "[դարճնել] ( [դար < արճնե | արձնե > նել] ) [դարձնել]\n",
            "[ուղնորվել] ( [ուղ < ւղնոր | ւղևոր > որվել] ) [ուղևորվել]\n",
            "[ռահել] ( [ <  |  > ռահել] ) [կռահել]\n",
            "[Ռիշին] ( [Ռիշի <  |  > ] ) [Ռիշի]\n",
            "[լաուրային] ( [ <  |  > ] ) [Լաուրա]\n",
            "[իջնանատան] ( [իջ <  |  > ն] ) [իջևանատուն]\n",
            "[Գրասյան] ( [ <  |  > ն] ) [գրասյուն]\n",
            "[ճգտել] ( [ <  |  > գտել] ) [ձգտել]\n",
            "[դրսնոր] ( [դրս <  |  > ] ) [դրսևորել]\n",
            "[արվարճան] ( [արվար < արճան | արձան > ան] ) [արվարձան]\n",
            "[նվիրակար] ( [ <  |  > ] ) [ամենագարշահոտ]\n",
            "[ետնել] ( [ետ <  |  > ] ) [ետև]\n",
            "[ծծմոր] ( [ծծմ <  |  > ր] ) [ծծմայր]\n",
            "[ծծմոր] ( [ծծմ <  |  > ր] ) [ծծմայր]\n",
            "[ճնավորվել] ( [ <  |  > ավորվել] ) [ձևավորվել]\n",
            "[հետնաբար] ( [հետ < ետնաբ | ետևաբ > աբար] ) [հետևաբար]\n",
            "[ծծմոր] ( [ծծմ <  |  > ր] ) [ծծմայր]\n",
            "[կարամելի] ( [կարամել <  |  > ] ) [կարամել]\n",
            "[ակար] ( [ա < [ | [ > ] ) [ամենատանջալի]\n",
            "[ռալ] ( [ <  |  > լ] ) [չռել]\n",
            "[կոցել] ( [կ < [կո | [կկո > կոցել] ) [կկոցել]\n",
            "[ոռնել] ( [ոռն <  |  > լ] ) [ոռնալ]\n",
            "[ոռնանալ] ( [ոռնա <  |  > ] ) [ոռնացող]\n",
            "[որպիսիք] ( [որպիսի <  |  > ] ) [որպիսին]\n",
            "[միակին] ( [միակ <  |  > ] ) [միակ]\n",
            "[վերապրի] ( [վերապր <  |  > ] ) [վերապրել]\n",
            "[գոլորշին] ( [գոլորշի <  |  > ] ) [գոլորշի]\n",
            "[կարճ] ( [ <  |  > ] ) [ամենաբարակ]\n",
            "[սանդալի] ( [սանդալ <  |  > ] ) [սանդալ]\n",
            "[վերոն] ( [վեր <  |  > ] ) [վերև]\n",
            "[ազդիր] ( [ազդ <  |  > ր] ) [ազդր]\n",
            "[մաշկան] ( [մաշկ <  |  > ] ) [մաշկ]\n",
            "[գիտել] ( [գիտե <  |  > լ] ) [գիտենալ]\n",
            "[ավականանալ] ( [ <  |  > լ] ) [բավականացնել]\n",
            "[ծաղկեփին] ( [ծա <  |  > ] ) [ծազկեփունջ]\n",
            "[հագել] ( [հագ < ագել | ագնել > ել] ) [հագնել]\n",
            "[հարնան] ( [ <  |  > ն] ) [գարուն]\n",
            "[ճգտում] ( [ <  |  > գտում] ) [ձգտում]\n",
            "[առջին] ( [առջ <  |  > ] ) [առջև]\n",
            "[ճմիռ] ( [ <  |  > ռ] ) [ձմեռ]\n",
            "[սնահ] ( [ս < [ | [ > ] ) [սևահեր]\n",
            "[սեփականանալ] ( [սեփականա <  |  > լ] ) [սեփականացնել]\n",
            "[նկուղի] ( [նկուղ <  |  > ] ) [նկուղ]\n",
            "[ծանրութեթ] ( [ծանրութեթ <  |  > ] ) [ծանրութեթև]\n",
            "[արկիղ] ( [արկ <  |  > ղ] ) [արկղ]\n",
            "[շրթ] ( [շրթ <  |  > ] ) [շրթներկ]\n",
            "[ճագ] ( [ <  |  > ագ] ) [ձագ]\n",
            "[դողանալ] ( [դողա < ղանալ | ղալ > ալ] ) [դողալ]\n",
            "[պատկերանալ] ( [պատկերա <  |  > լ] ) [պատկերացնել]\n",
            "[այլնս] ( [այլ <  |  > ս] ) [այլևս]\n",
            "[վախել] ( [վախե < խել | խեցնել > ել] ) [վախեցնել]\n",
            "[լինել] ( [ <  |  > ] ) [ես]\n",
            "[կառափնատեղ] ( [կառափնատեղ <  |  > ] ) [կառափնատեղի]\n",
            "[կառափնատեղիղ] ( [կառափնատեղի <  |  > ] ) [կառափնատեղի]\n",
            "[ճեռք] ( [ <  |  > եռք] ) [ձեռք]\n",
            "[արճագանք] ( [ար < արճագ | արձագ > ագանք] ) [արձագանք]\n",
            "[ըյուսքին] ( [ <  |  > ] ) [Ջյուսքինդ]\n",
            "[նվիրական] ( [ <  |  > ] ) [ամենահանճարեղ]\n",
            "[ակտիր] ( [ա < [ | [ > ] ) [ամենագարշելի]\n",
            "[չօդափոխել] ( [ <  |  > օդափոխել] ) [օդափոխել]\n",
            "[չլվացնել] ( [ <  |  > ] ) [լվանա]\n",
            "[ճմեռ] ( [ <  |  > մեռ] ) [ձմեռ]\n",
            "[ճմերուկ] ( [ <  |  > մերուկ] ) [ձմերուկ]\n",
            "[ուշաթափեցնել] ( [ուշաթափե < փեցնել | փել > ել] ) [ուշաթափել]\n",
            "[լվացնել] ( [լվա <  |  > լ] ) [լվանալ]\n",
            "[ճայն] ( [ <  |  > այն] ) [ձայն]\n",
            "[ճիկ] ( [ <  |  > կ] ) [ձուկ]\n",
            "[ծծումոր] ( [ծծ <  |  > ր] ) [ծծմայր]\n",
            "[քրծեն] ( [քրծեն <  |  > ] ) [քրծենի]\n",
            "[արկիղ] ( [արկ <  |  > ղ] ) [արկղ]\n",
            "[այլնայլ] ( [այլ < յլնայ | յլևայ > այլ] ) [այլևայլ]\n",
            "[ճնականություն] ( [ <  |  > ականություն] ) [ձևականություն]\n",
            "[չուննոր] ( [չուն < ւննոր | ւնևոր > որ] ) [չունևոր]\n",
            "[կխնդրել] ( [ <  |  > խնդրել] ) [խնդրել]\n",
            "[երակրել] ( [ <  |  > երակրել] ) [կերակրել]\n",
            "[պիս] ( [պ <  |  > ս] ) [պես]\n",
            "[փինջ] ( [փ < [փինջ | [փունջ > նջ] ) [փունջ]\n",
            "[խկացնել] ( [ <  |  > խկացնել] ) [չխկացնել]\n",
            "[խեցամաննե] ( [խեցաման <  |  > ] ) [խեցաման]\n",
            "[գանգրան] ( [գանգրան <  |  > ] ) [գանգրանալ]\n",
            "[օտարին] ( [օտար <  |  > ] ) [օտար]\n",
            "[կարամելից] ( [կարամել <  |  > ] ) [կարամել]\n",
            "[նվիրար] ( [ <  |  > ] ) [ամենապարզունակ]\n",
            "[ունեմ] ( [ունե <  |  > ] ) [ունենալ]\n",
            "[քիթր] ( [քիթ <  |  > ] ) [քիթ]\n",
            "[աշխարհր] ( [աշխարհ <  |  > ] ) [աշխարհ]\n",
            "[ոստրամոխրագույնի] ( [ոստրամոխրագույն <  |  > ] ) [ոստրամոխրագույն]\n",
            "[անկշտել] ( [անկշտ <  |  > ] ) [անկշտում]\n",
            "[ոռինոց] ( [ոռ < ոռինո | ոռնո > նոց] ) [ոռնոց]\n",
            "[ճղճիղան] ( [ճղճ < ղճիղա | ղճղա > ղան] ) [ճղճղան]\n",
            "[դյո] ( [ <  |  > յո] ) [Դյո]\n",
            "[ժանտախտիգ] ( [ժանտախտի <  |  > ] ) [ժանտախտից]\n",
            "[առուն] ( [առ <  |  > ] ) [առջև]\n",
            "[ետ] ( [ետ <  |  > ] ) [ետև]\n",
            "[միջն] ( [միջ <  |  > ] ) [միջև]\n",
            "[այնուհետ] ( [այնուհետ <  |  > ] ) [այնուհետև]\n",
            "[բացարճակապես] ( [բացար < արճակ | արձակ > ակապես] ) [բացարձակապես]\n",
            "[որ] ( [որ <  |  > ] ) [որևէ]\n",
            "[այլնս] ( [այլ <  |  > ս] ) [այլևս]\n",
            "[թեթ] ( [թեթ <  |  > ] ) [թեթև]\n",
            "[թեթնակ] ( [թեթ <  |  > ] ) [թեթևակի]\n",
            "[որ] ( [որ <  |  > ] ) [որևէ]\n",
            "[ետին] ( [ետ <  |  > ] ) [ետև]\n",
            "[արն] ( [ար <  |  > ] ) [արև]\n",
            "[միննույն] ( [մի < միննո | միևնո > նույն] ) [միևնույն]\n",
            "[վերն] ( [վեր <  |  > ] ) [վերև]\n",
            "[ինճ] ( [ին <  |  > ] ) [ինչ]\n",
            "[արճակ] ( [ար <  |  > ] ) [արձակել]\n",
            "[թերուն] ( [թեր <  |  > ] ) [թերևս]\n",
            "[մուշկի] ( [մուշկ <  |  > ] ) [մուշկ]\n",
            "[երբնիցե] ( [երբ < րբնից | րբևից > իցե] ) [երբևիցե]\n",
            "[ճեռք] ( [ <  |  > եռք] ) [ձեռք]\n",
            "[տեզ] ( [տ <  |  > զ] ) [տիզ]\n",
            "[երնակայություն] ( [եր < երնակ | երևակ > ակայություն] ) [երևակայություն]\n",
            "[արնմուտք] ( [ար < արնմո | արևմո > մուտք] ) [արևմուտք]\n",
            "[ճեռք] ( [ <  |  > եռք] ) [ձեռք]\n",
            "[ճեռք] ( [ <  |  > եռք] ) [ձեռք]\n",
            "[ճայն] ( [ <  |  > այն] ) [ձայն]\n",
            "[նան] ( [նա <  |  > ] ) [նաև]\n",
            "[դեռին] ( [դեռ <  |  > ] ) [դեռևս]\n",
            "[ճեռք] ( [ <  |  > եռք] ) [ձեռք]\n",
            "[հետնել] ( [հետ < ետնել | ետևել > ել] ) [հետևել]\n",
            "[արճակել] ( [ար < արճակ | արձակ > ակել] ) [արձակել]\n",
            "[որնիցե] ( [որ < որնից | որևից > իցե] ) [որևիցե]\n",
            "[դեռնս] ( [դեռ <  |  > ս] ) [դեռևս]\n",
            "[այլնս] ( [այլ <  |  > ս] ) [այլևս]\n",
            "[շրթ] ( [շրթ <  |  > ] ) [շրթներկ]\n",
            "[ճեռք] ( [ <  |  > եռք] ) [ձեռք]\n",
            "[արնմտյան] ( [ար < արնմտ | արևմտ > մտյան] ) [արևմտյան]\n",
            "[այլես] ( [այլ <  |  > ս] ) [այլևս]\n",
            "[Նախնառաջ] ( [ <  |  > առաջ] ) [նախևառաջ]\n",
            "[հոգնոր] ( [հոգ < ոգնոր | ոգևոր > որ] ) [հոգևոր]\n",
            "[խունկի] ( [խունկ <  |  > ] ) [խունկ]\n",
            "[ճեռք] ( [ <  |  > եռք] ) [ձեռք]\n",
            "[ներք] ( [ներք <  |  > ] ) [ներքև]\n",
            "[կաշին] ( [կաշի <  |  > ] ) [կաշի]\n",
            "[ազդիր] ( [ազդ <  |  > ր] ) [ազդր]\n",
            "[դահճ] ( [դահ <  |  > ճ] ) [դահիճ]\n",
            "[համարճակվել] ( [համար < արճակ | արձակ > ակվել] ) [համարձակվել]\n",
            "[արնելք] ( [ար < արնել | արևել > ելք] ) [արևելք]\n",
            "[լցրել] ( [լց < լցրել | լցնել > ել] ) [լցնել]\n",
            "[առանճ] ( [առան <  |  > ] ) [առանձին]\n",
            "[արնմուտք] ( [ար < արնմո | արևմո > մուտք] ) [արևմուտք]\n",
            "[երնակայական] ( [եր < երնակ | երևակ > ակայական] ) [երևակայական]\n",
            "[թնածել] ( [թ < [թնած | [թևած > ածել] ) [թևածել]\n",
            "[բանաճին] ( [բանա <  |  > ] ) [բանաձև]\n",
            "[բանաճին] ( [բանա <  |  > ] ) [բանաձև]\n",
            "[թեթնանալ] ( [թեթ < եթնան | եթևան > անալ] ) [թեթևանալ]\n",
            "[հետնել] ( [հետ < ետնել | ետևել > ել] ) [հետևել]\n",
            "[հետնել] ( [հետ < ետնել | ետևել > ել] ) [հետևել]\n",
            "[կարնոր] ( [կար < արնոր | արևոր > որ] ) [կարևոր]\n",
            "[ճի] ( [ <  |  > ի] ) [ձի]\n",
            "[հեղճուցիչ] ( [հեղ < եղճու | եղձու > ուցիչ] ) [հեղձուցիչ]\n",
            "[անճնական] ( [ան < անճնա | անձնա > նական] ) [անձնական]\n",
            "[անորսալ] ( [անորսալ <  |  > ] ) [անորսալի]\n",
            "[գաղտագող] ( [գաղտագող <  |  > ] ) [գաղտագողի]\n",
            "[առուջ] ( [առ <  |  > ] ) [առջև]\n",
            "[երնել] ( [եր <  |  > լ] ) [երևալ]\n",
            "[ինճ] ( [ <  |  > ] ) [ես]\n",
            "[փնթփնթաց] ( [փնթփնթա <  |  > ] ) [փնթփնթալ]\n",
            "[փորճ] ( [փոր <  |  > ] ) [փորձ]\n",
            "[բանաձին] ( [բանաձ <  |  > ] ) [բանաձև]\n",
            "[եթենա] ( [եթե <  |  > ] ) [եթե]\n",
            "[ինճ] ( [ <  |  > ] ) [ես]\n",
            "[փորճ] ( [փոր <  |  > ] ) [փորձ]\n",
            "[ալուֆ] ( [ալ <  |  > ] ) [ալֆա]\n",
            "[բանաձ] ( [բանաձ <  |  > ] ) [բանաձև]\n",
            "[բանաճ] ( [բանա <  |  > ] ) [բանաձև]\n",
            "[թքած] ( [թք <  |  > ] ) [թքել]\n",
            "[բարճրանալ] ( [բար <  |  > լ] ) [բարձրացնել]\n",
            "[Այլիս] ( [ <  |  > ս] ) [այլևս]\n",
            "[կավինավեհ] ( [ <  |  > նավեհ] ) [ամենավեհ]\n",
            "[սնահեր] ( [ս < [սնահ | [սևահ > ահեր] ) [սևահեր]\n",
            "[պոռթում] ( [պոռթ < ռթու | ռթկու > ում] ) [պոռթկում]\n",
            "[բացարճակ] ( [բացար < արճակ | արձակ > ակ] ) [բացարձակ]\n",
            "[բանաճ] ( [բանա <  |  > ] ) [բանաձև]\n",
            "[թեն] ( [թե <  |  > ] ) [թեև]\n",
            "[տերն] ( [տեր <  |  > ] ) [տերև]\n",
            "[շրթ] ( [շրթ <  |  > ] ) [շրթներկ]\n",
            "[բարճունք] ( [բար < արճու | արձու > ունք] ) [բարձունք]\n",
            "[ջրալ] ( [ջրալ <  |  > ] ) [ջրալի]\n",
            "[թորվել] ( [թոր < որվել | որել > ել] ) [թորել]\n",
            "[խլթխլթել] ( [խլթխլթ <  |  > լ] ) [խլթխլթալ]\n",
            "[առնտուր] ( [առ < առնտո | առևտո > տուր] ) [առևտուր]\n",
            "[անճամ] ( [ան <  |  > ] ) [անձամբ]\n",
            "[օթին] ( [օթ <  |  > ն] ) [օթևան]\n",
            "[բանաճ] ( [բանա <  |  > ] ) [բանաձև]\n",
            "[արճակել] ( [ար < արճակ | արձակ > ակել] ) [արձակել]\n",
            "[բնեռ] ( [բ < [բնեռ | [բևեռ > եռ] ) [բևեռ]\n",
            "[օճ] ( [օ < [ | [ > ] ) [օձ]\n",
            "[ոջ] ( [ո < [ | [ > ] ) [ոչ]\n",
            "[անձր] ( [անձր <  |  > ] ) [անձրև]\n",
            "[թեթն] ( [թեթ <  |  > ] ) [թեթև]\n",
            "[ճգալ] ( [ <  |  > լ] ) [ձգել]\n",
            "[լերել] ( [ <  |  > ել] ) [ուտել]\n",
            "[տաքագնել] ( [տաքա < քագնե | քացնե > նել] ) [տաքացնել]\n",
            "[Հնայած] ( [ <  |  > նայած] ) [Չնայած]\n",
            "[ճեռք] ( [ <  |  > եռք] ) [ձեռք]\n",
            "[շրթ] ( [շրթ <  |  > ] ) [շրթներկ]\n",
            "[այխքան] ( [այ < այխքա | այդքա > քան] ) [այդքան]\n",
            "[նարնջենու] ( [նարնջեն <  |  > ] ) [նարնջենի]\n",
            "[թաքչել] ( [թաք < աքչել | աքցնել > ել] ) [թաքցնել]\n",
            "[ճնալ] ( [ <  |  > լ] ) [ձևացնել]\n",
            "[զնգզնգել] ( [զնգզնգ <  |  > լ] ) [զնգզնգալ]\n",
            "[գիտել] ( [ <  |  > լ] ) [իմանալ]\n",
            "[բարճր] ( [բար <  |  > ր] ) [բարձր]\n"
          ]
        }
      ]
    },
    {
      "cell_type": "code",
      "source": [],
      "metadata": {
        "id": "ysYJ0tNlgQWx"
      },
      "execution_count": null,
      "outputs": []
    }
  ]
}