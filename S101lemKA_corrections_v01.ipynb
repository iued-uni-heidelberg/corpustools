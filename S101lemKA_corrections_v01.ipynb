{
  "nbformat": 4,
  "nbformat_minor": 0,
  "metadata": {
    "colab": {
      "provenance": [],
      "authorship_tag": "ABX9TyNBj76RjkQ3q4kZj0ZHQXKW",
      "include_colab_link": true
    },
    "kernelspec": {
      "name": "python3",
      "display_name": "Python 3"
    },
    "language_info": {
      "name": "python"
    }
  },
  "cells": [
    {
      "cell_type": "markdown",
      "metadata": {
        "id": "view-in-github",
        "colab_type": "text"
      },
      "source": [
        "<a href=\"https://colab.research.google.com/github/iued-uni-heidelberg/corpustools/blob/main/S101lemKA_corrections_v01.ipynb\" target=\"_parent\"><img src=\"https://colab.research.google.com/assets/colab-badge.svg\" alt=\"Open In Colab\"/></a>"
      ]
    },
    {
      "cell_type": "markdown",
      "source": [
        "# Processing pipeline for DAAD project\n",
        "## Stage 1: Lemmatization (Georgian) with corrections (manual annotation)\n",
        "\n",
        "# Georgian 'random' corpus \n",
        "- (collected in SketchEngine using non-topical high-frequent keywords from the top 1000 of the wikipedia list)\n",
        "- we try first on the corpus where corrections have been made for 3k Georgian most frequent word froms"
      ],
      "metadata": {
        "id": "lrpJStiMQ578"
      }
    },
    {
      "cell_type": "code",
      "source": [
        "!wget https://heibox.uni-heidelberg.de/f/362c24e311104c9aa35b/?dl=1\n",
        "!mv index.html?dl=1 georgianrandom02.txt"
      ],
      "metadata": {
        "id": "BLNxex2OPqH0",
        "colab": {
          "base_uri": "https://localhost:8080/"
        },
        "outputId": "bdc4df0f-1861-4eab-d3ce-b88615dff01b"
      },
      "execution_count": 1,
      "outputs": [
        {
          "output_type": "stream",
          "name": "stdout",
          "text": [
            "--2023-01-30 07:37:17--  https://heibox.uni-heidelberg.de/f/362c24e311104c9aa35b/?dl=1\n",
            "Resolving heibox.uni-heidelberg.de (heibox.uni-heidelberg.de)... 129.206.7.113\n",
            "Connecting to heibox.uni-heidelberg.de (heibox.uni-heidelberg.de)|129.206.7.113|:443... connected.\n",
            "HTTP request sent, awaiting response... 302 Found\n",
            "Location: https://heibox.uni-heidelberg.de/seafhttp/files/fd2065f1-80e6-4207-b603-1a622783ef54/georgianrandom02.txt [following]\n",
            "--2023-01-30 07:37:18--  https://heibox.uni-heidelberg.de/seafhttp/files/fd2065f1-80e6-4207-b603-1a622783ef54/georgianrandom02.txt\n",
            "Reusing existing connection to heibox.uni-heidelberg.de:443.\n",
            "HTTP request sent, awaiting response... 200 OK\n",
            "Length: 192425594 (184M) [text/plain]\n",
            "Saving to: ‘index.html?dl=1’\n",
            "\n",
            "index.html?dl=1     100%[===================>] 183.51M  14.9MB/s    in 12s     \n",
            "\n",
            "2023-01-30 07:37:30 (15.6 MB/s) - ‘index.html?dl=1’ saved [192425594/192425594]\n",
            "\n"
          ]
        }
      ]
    },
    {
      "cell_type": "code",
      "source": [
        "%%bash\n",
        "# installing TreeTagger (en, de, ka)\n",
        "mkdir treetagger\n",
        "cd treetagger\n",
        "# Download the tagger package for your system (PC-Linux, Mac OS-X, ARM64, ARMHF, ARM-Android, PPC64le-Linux).\n",
        "wget https://cis.lmu.de/~schmid/tools/TreeTagger/data/tree-tagger-linux-3.2.4.tar.gz\n",
        "tar -xzvf tree-tagger-linux-3.2.4.tar.gz\n",
        "# Download the tagging scripts into the same directory.\n",
        "wget https://cis.lmu.de/~schmid/tools/TreeTagger/data/tagger-scripts.tar.gz\n",
        "gunzip tagger-scripts.tar.gz\n",
        "# Download the installation script install-tagger.sh.\n",
        "wget https://cis.lmu.de/~schmid/tools/TreeTagger/data/install-tagger.sh\n",
        "# Download the parameter files for the languages you want to process.\n",
        "# list of all files (parameter files) https://cis.lmu.de/~schmid/tools/TreeTagger/#parfiles\n",
        "wget https://cis.lmu.de/~schmid/tools/TreeTagger/data/english.par.gz\n",
        "sh install-tagger.sh\n",
        "cd ..\n",
        "sudo pip install treetaggerwrapper\n",
        "# changing options: no-unknown, sgml, lemma\n",
        "mv /content/treetagger/cmd/tree-tagger-english /content/tree-tagger-english0\n",
        "awk '{ if (NR == 9) print \"OPTIONS=\\\"-token -lemma -sgml -no-unknown\\\"\"; else print $0}' /content/tree-tagger-english0 > /content/treetagger/cmd/tree-tagger-english\n",
        "chmod a+x ./treetagger/cmd/tree-tagger-english\n",
        "# downloading German and Georgian \n",
        "wget https://heibox.uni-heidelberg.de/f/ec8226edebb64a359407/?dl=1\n",
        "mv index.html?dl=1 /content/treetagger/lib/german-utf8.par\n",
        "wget https://heibox.uni-heidelberg.de/f/9183090d2bdb41e09055/?dl=1\n",
        "mv index.html?dl=1 /content/treetagger/lib/georgian.par\n",
        "wget https://heibox.uni-heidelberg.de/f/9cafab0509d64ed1ac4b/?dl=1\n",
        "mv index.html?dl=1 /content/treetagger/cmd/tree-tagger-georgian2\n",
        "cp /content/treetagger/cmd/tree-tagger-georgian2 /content/treetagger/cmd/tree-tagger-georgian\n",
        "# German2 = -no-unknown \n",
        "# note: tree-tagger-german will not work, as parameter files have not been downloaded, only use tree-tagger-german2 with utf8 encoding\n",
        "wget https://heibox.uni-heidelberg.de/f/acb9b8a2fa4f40e08f8a/?dl=1\n",
        "mv index.html?dl=1 /content/treetagger/cmd/tree-tagger-german2\n",
        "chmod a+x /content/treetagger/cmd/tree-tagger-georgian2\n",
        "chmod a+x /content/treetagger/cmd/tree-tagger-german2"
      ],
      "metadata": {
        "id": "yb3aAeAWuaBG"
      },
      "execution_count": null,
      "outputs": []
    },
    {
      "cell_type": "code",
      "source": [
        "%%bash\n",
        "wget https://heibox.uni-heidelberg.de/f/a6f7f36f175942ccad0a/?dl=1\n",
        "mv index.html?dl=1 /content/treetagger/cmd/tree-tagger-georgian\n",
        "chmod a+x /content/treetagger/cmd/tree-tagger-georgian\n",
        "\n",
        "# cp /content/treetagger/cmd/tree-tagger-georgian2 /content/treetagger/cmd/tree-tagger-georgian\n",
        "wget https://heibox.uni-heidelberg.de/f/e9010b0f3e7649ef9552/?dl=1\n",
        "mv index.html?dl=1 georgianrandom--unknown-frq-all.tsv"
      ],
      "metadata": {
        "id": "7K6L_kLwUFIn"
      },
      "execution_count": null,
      "outputs": []
    },
    {
      "cell_type": "code",
      "source": [],
      "metadata": {
        "id": "MVfW4qXQyYkb"
      },
      "execution_count": null,
      "outputs": []
    },
    {
      "cell_type": "code",
      "source": [
        "# analysing German file \n",
        "# !./treetagger/cmd/tree-tagger-german2 /content/udhr/udhr_kat_v02.txt >/content/udhrTT/udhr_kat_vert.txt\n",
        "!./treetagger/cmd/tree-tagger-georgian georgianrandom02.txt >georgianrandom02.vert"
      ],
      "metadata": {
        "id": "5vhmEZNmvOZJ",
        "colab": {
          "base_uri": "https://localhost:8080/"
        },
        "outputId": "3973acc4-1cd8-4db9-b6fb-850798737a33"
      },
      "execution_count": 4,
      "outputs": [
        {
          "output_type": "stream",
          "name": "stdout",
          "text": [
            "\treading parameters ...\n",
            "\ttagging ...\n",
            "11301000\t finished.\n"
          ]
        }
      ]
    },
    {
      "cell_type": "code",
      "source": [
        "!head -n 50 georgianrandom02.vert\n"
      ],
      "metadata": {
        "id": "ZYgAy5yYUuZg"
      },
      "execution_count": null,
      "outputs": []
    },
    {
      "cell_type": "code",
      "source": [
        "!wc georgianrandom02.vert"
      ],
      "metadata": {
        "colab": {
          "base_uri": "https://localhost:8080/"
        },
        "id": "MZGt71hqoAAP",
        "outputId": "74a1be98-e673-49b1-c807-6d2d3999cd1a"
      },
      "execution_count": 6,
      "outputs": [
        {
          "output_type": "stream",
          "name": "stdout",
          "text": [
            " 11301824  33112747 394150707 georgianrandom02.vert\n"
          ]
        }
      ]
    },
    {
      "cell_type": "code",
      "source": [
        "## how to print counter in AWK:\n",
        "## https://stackoverflow.com/questions/67901330/awk-how-to-print-the-last-value-of-a-counter\n",
        "\n",
        "# !awk -F '\\t' '(NF==3){printf \"%s \", $3; if(FNR % 10000 == 0){printf \"\\n\"}}' < /content/udhrTT/udhr_deu_1996_vert.txt >/content/udhrTT/udhr_deu_1996_lem.txt\n",
        "\n",
        "# if we need <p> tags for paragraphs:\n",
        "# !awk -F '\\t' '(NF==3){printf \"%s \", $3}(NF!=3){printf \"\\n%s\\n\", $0}' < /content/udhrTT/udhr_deu_1996_vert.txt >/content/udhrTT/udhr_deu_1996_lem.txt\n",
        "# if we do not need paragraph tags\n",
        "# !awk -F '\\t' '(NF==3){printf \"%s \", $3}(NF!=3){printf \"\\n\"}' < /content/udhrTT/udhr_kat_vert.txt >/content/udhrTT/udhr_kat_lem.txt\n",
        "!awk -F '\\t' '($3==\"<unknown>\"){j++; printf \"%s\\n\", $0} END{print j+0  > \"/dev/stderr\" }' <georgianrandom02.vert >georgianrandom02-unknown.txt"
      ],
      "metadata": {
        "id": "bkTmYh27whZx",
        "colab": {
          "base_uri": "https://localhost:8080/"
        },
        "outputId": "793b3891-7218-496c-8d13-8880045a00b1"
      },
      "execution_count": 7,
      "outputs": [
        {
          "output_type": "stream",
          "name": "stdout",
          "text": [
            "2123093\n"
          ]
        }
      ]
    },
    {
      "cell_type": "code",
      "source": [
        "cCoverage = 2123093 / 11301824\n",
        "print(cCoverage)"
      ],
      "metadata": {
        "colab": {
          "base_uri": "https://localhost:8080/"
        },
        "id": "ejur1sKl69hC",
        "outputId": "f39a3e68-e1d3-460a-d11b-4d8bbce82b1a"
      },
      "execution_count": 8,
      "outputs": [
        {
          "output_type": "stream",
          "name": "stdout",
          "text": [
            "0.18785401365301743\n"
          ]
        }
      ]
    },
    {
      "cell_type": "markdown",
      "source": [
        "## Improving coverage with annotated word forms\n",
        "- annotations are taken from `georgianrandom--unknown-frq-all.tsv'\n"
      ],
      "metadata": {
        "id": "RCxoKJmU7Uwn"
      }
    },
    {
      "cell_type": "code",
      "source": [
        "import os, sys, re\n",
        "DCorrectionsPoS = {}\n",
        "DCorrectionsLem = {}\n",
        "with open(\"georgianrandom--unknown-frq-all.tsv\") as f:\n",
        "    counter = 0\n",
        "    for sline in f:\n",
        "        counter += 1\n",
        "        if counter == 1: continue # we skip the first line\n",
        "\n",
        "        sline = sline.strip()\n",
        "        LLine = sline.split('\\t')\n",
        "        try: SWord = LLine[1]\n",
        "        except: SWord = ''\n",
        "\n",
        "        try: SPoS = LLine[2]\n",
        "        except: SPoS = ''\n",
        "\n",
        "        try: SLemma = LLine[3]\n",
        "        except: SLemma = ''\n",
        "\n",
        "        try: SPoSCorrected = LLine[4]\n",
        "        except: SPoSCorrected = ''\n",
        "        if SPoSCorrected != '' and SWord != '':\n",
        "            SPoS = SPoSCorrected\n",
        "            DCorrectionsPoS[SWord] = SPoS\n",
        "\n",
        "        if SWord != '' and SLemma != '': DCorrectionsLem[SWord] = SLemma\n",
        "        # if SWord != '' and SPoS != '': DCorrectionsPoS[SWord] = SPoS\n",
        "\n",
        "print(len(DCorrectionsPoS.items()))\n",
        "print(len(DCorrectionsLem.items()))\n",
        "FDictCorrected = open('dictLemmasCorrected.txt', 'w')\n",
        "for key, value in DCorrectionsLem.items():\n",
        "    FDictCorrected.write(f'{key}\\t{value}\\n')\n",
        "FDictCorrected.flush()\n"
      ],
      "metadata": {
        "colab": {
          "base_uri": "https://localhost:8080/"
        },
        "id": "Nna7j2J181XC",
        "outputId": "c10fe165-bba7-44c7-ea96-85206e6c4c14"
      },
      "execution_count": 9,
      "outputs": [
        {
          "output_type": "stream",
          "name": "stdout",
          "text": [
            "416\n",
            "2382\n"
          ]
        }
      ]
    },
    {
      "cell_type": "code",
      "source": [
        "FOutVertCorrected = open('georgianrandom02corr.vert', 'w')\n",
        "with open('georgianrandom02.vert') as FInVertUnknown:\n",
        "    for SLine in FInVertUnknown:\n",
        "        SLine = SLine.rstrip()\n",
        "        LLine = SLine.split('\\t')\n",
        "        if len(LLine) != 3:\n",
        "            FOutVertCorrected.write(f'{SLine}\\n')\n",
        "        else:\n",
        "            SWord = LLine[0]\n",
        "            SPoS = LLine[1]\n",
        "            SLem = LLine[2]\n",
        "\n",
        "            if SLem == '<unknown>':\n",
        "                try: SLem = DCorrectionsLem[SWord]\n",
        "                except: pass\n",
        "\n",
        "                try: SPoS = DCorrectionsPoS[SWord]\n",
        "                except: pass\n",
        "            FOutVertCorrected.write(f'{SWord}\\t{SPoS}\\t{SLem}\\n')\n",
        "            \n",
        "FOutVertCorrected.flush()\n",
        "\n",
        "\n",
        "            "
      ],
      "metadata": {
        "id": "YKHNtuYNDCOd"
      },
      "execution_count": 10,
      "outputs": []
    },
    {
      "cell_type": "code",
      "source": [
        "!wc georgianrandom02corr.vert"
      ],
      "metadata": {
        "colab": {
          "base_uri": "https://localhost:8080/"
        },
        "id": "h0wOnll0Gqnj",
        "outputId": "126bb188-5b61-41e2-9d0a-ecf5f30928e1"
      },
      "execution_count": 11,
      "outputs": [
        {
          "output_type": "stream",
          "name": "stdout",
          "text": [
            " 11301824  33112747 398210244 georgianrandom02corr.vert\n"
          ]
        }
      ]
    },
    {
      "cell_type": "code",
      "source": [
        "!awk -F '\\t' '($3==\"<unknown>\"){j++; printf \"%s\\n\", $0} END{print j+0  > \"/dev/stderr\" }' <georgianrandom02corr.vert >georgianrandom02corr-unknown.txt"
      ],
      "metadata": {
        "colab": {
          "base_uri": "https://localhost:8080/"
        },
        "id": "sTlsuw7zG5dq",
        "outputId": "b6c481e7-8487-4db6-f3b0-ad8237ec1dac"
      },
      "execution_count": 12,
      "outputs": [
        {
          "output_type": "stream",
          "name": "stdout",
          "text": [
            "1826952\n"
          ]
        }
      ]
    },
    {
      "cell_type": "code",
      "source": [
        "cCoverage2 = 1826952 / 11301824\n",
        "print(cCoverage2)"
      ],
      "metadata": {
        "colab": {
          "base_uri": "https://localhost:8080/"
        },
        "id": "WWzJLbSuHLWJ",
        "outputId": "5a42db2d-3b5d-4999-9564-be84819378da"
      },
      "execution_count": 13,
      "outputs": [
        {
          "output_type": "stream",
          "name": "stdout",
          "text": [
            "0.16165107508310164\n"
          ]
        }
      ]
    },
    {
      "cell_type": "markdown",
      "source": [
        "## Running tagger / checking improvement on Specialised corpora\n",
        "- downloading the corpora\n",
        "- tagging\n",
        "- checking baseline coverage\n",
        "- checking improved coverage\n",
        "- intersection of unknown words\n",
        "- preparing datasets (1) intersections; (2) specialised for each corpus"
      ],
      "metadata": {
        "id": "hCCLA_h3vruR"
      }
    },
    {
      "cell_type": "code",
      "source": [
        "!wget https://heibox.uni-heidelberg.de/f/dc5bcb4413aa42668130/?dl=1\n",
        "!mv index.html?dl=1 specialisedCorpus.zip"
      ],
      "metadata": {
        "id": "YvOhJyLKwNuQ"
      },
      "execution_count": null,
      "outputs": []
    },
    {
      "cell_type": "code",
      "source": [
        "!unzip specialisedCorpus.zip"
      ],
      "metadata": {
        "id": "eBXDXfuxwcLL"
      },
      "execution_count": null,
      "outputs": []
    },
    {
      "cell_type": "code",
      "source": [
        "!wc specialised-corpora/*"
      ],
      "metadata": {
        "colab": {
          "base_uri": "https://localhost:8080/"
        },
        "id": "UlDWD3XHwy25",
        "outputId": "0c1050ea-7723-4a16-c9a2-94875f25216d"
      },
      "execution_count": 17,
      "outputs": [
        {
          "output_type": "stream",
          "name": "stdout",
          "text": [
            "   70620   596366 11660439 specialised-corpora/cFiktion.txt\n",
            "   81314   529838 11302534 specialised-corpora/cNaturwissenschaft.txt\n",
            "   63223   973857 21459641 specialised-corpora/cRechtswissenschaft.txt\n",
            "  215157  2100061 44422614 total\n"
          ]
        }
      ]
    },
    {
      "cell_type": "code",
      "source": [
        "# FName = 'ocrOutKA.txt'\n",
        "# FNameOut = 'ocrLinesKA.txt'\n",
        "\n",
        "def removeNewLines(FName, FNameOut):\n",
        "    FIn = open(FName, 'r')\n",
        "    FOut = open(FNameOut, 'w')\n",
        "\n",
        "    for SLine in FIn:\n",
        "        SLine = SLine.strip()\n",
        "        if SLine == '': \n",
        "            FOut.write('\\n\\n')\n",
        "            continue\n",
        "        if SLine[-1] == '-':\n",
        "            SLine2write = SLine[:-1]\n",
        "            FOut.write(SLine2write)\n",
        "            continue\n",
        "\n",
        "        FOut.write(SLine + ' ')\n",
        "    FOut.flush()\n",
        "    return\n"
      ],
      "metadata": {
        "id": "YajGemo2zpZ3"
      },
      "execution_count": 32,
      "outputs": []
    },
    {
      "cell_type": "code",
      "source": [
        "!mkdir specialised-corpora-s01-lines/"
      ],
      "metadata": {
        "id": "pkCb-p630uzF"
      },
      "execution_count": 25,
      "outputs": []
    },
    {
      "cell_type": "code",
      "source": [
        "removeNewLines('specialised-corpora/cFiktion.txt', 'specialised-corpora-s01-lines/cFiktion.txt')\n",
        "removeNewLines('specialised-corpora/cNaturwissenschaft.txt', 'specialised-corpora-s01-lines/cNaturwissenschaft.txt')\n",
        "removeNewLines('specialised-corpora/cRechtswissenschaft.txt', 'specialised-corpora-s01-lines/cRechtswissenschaft.txt')"
      ],
      "metadata": {
        "id": "-Ql6gYk80_hW"
      },
      "execution_count": 34,
      "outputs": []
    },
    {
      "cell_type": "code",
      "source": [
        "!head -n 10 specialised-corpora/cFiktion.txt"
      ],
      "metadata": {
        "id": "644HNNkk2wxk"
      },
      "execution_count": null,
      "outputs": []
    },
    {
      "cell_type": "code",
      "source": [
        "!head -n 10 specialised-corpora-s01-lines/cFiktion.txt"
      ],
      "metadata": {
        "id": "15Fjckn32qUG"
      },
      "execution_count": null,
      "outputs": []
    },
    {
      "cell_type": "code",
      "source": [
        "!head -n 50 specialised-corpora-s01-lines/cRechtswissenschaft.txt"
      ],
      "metadata": {
        "id": "wnO9eCy12veN"
      },
      "execution_count": null,
      "outputs": []
    },
    {
      "cell_type": "code",
      "source": [
        "!cat specialised-corpora-s01-lines/* >specialised-corpora-s01-all.txt"
      ],
      "metadata": {
        "id": "W2cQpdIczPrH"
      },
      "execution_count": 39,
      "outputs": []
    },
    {
      "cell_type": "markdown",
      "source": [
        "### preparing texts for tagging: removing new lines, etc."
      ],
      "metadata": {
        "id": "CKl6_Kdxxgrn"
      }
    },
    {
      "cell_type": "code",
      "source": [
        "!mkdir specialised-corpora-s02-vert/"
      ],
      "metadata": {
        "id": "PaLmxuwF0hdn"
      },
      "execution_count": 40,
      "outputs": []
    },
    {
      "cell_type": "code",
      "source": [
        "!./treetagger/cmd/tree-tagger-georgian specialised-corpora-s01-lines/cFiktion.txt >specialised-corpora-s02-vert/cFiktion.vert"
      ],
      "metadata": {
        "id": "t7xxrIkWw6vw"
      },
      "execution_count": null,
      "outputs": []
    },
    {
      "cell_type": "code",
      "source": [
        "!./treetagger/cmd/tree-tagger-georgian specialised-corpora-s01-lines/cNaturwissenschaft.txt >specialised-corpora-s02-vert/cNaturwissenschaft.vert"
      ],
      "metadata": {
        "id": "U3QcTc9txFvI"
      },
      "execution_count": null,
      "outputs": []
    },
    {
      "cell_type": "code",
      "source": [
        "!./treetagger/cmd/tree-tagger-georgian specialised-corpora-s01-lines/cRechtswissenschaft.txt >specialised-corpora-s02-vert/cRechtswissenschaft.vert"
      ],
      "metadata": {
        "id": "9zNr3uh9xGhg"
      },
      "execution_count": null,
      "outputs": []
    },
    {
      "cell_type": "code",
      "source": [
        "!./treetagger/cmd/tree-tagger-georgian specialised-corpora-s01-all.txt >specialised-corpora-s01-all.vert"
      ],
      "metadata": {
        "id": "h5_uvDQXzZzn"
      },
      "execution_count": null,
      "outputs": []
    },
    {
      "cell_type": "markdown",
      "source": [
        "### checking coverage on joint specialised corpus\n",
        "- coverage of raw corpus\n",
        "- coverage of corrections"
      ],
      "metadata": {
        "id": "qaH_ZOcF4deI"
      }
    },
    {
      "cell_type": "code",
      "source": [
        "!awk -F '\\t' '($3==\"<unknown>\"){j++; printf \"%s\\n\", $0} END{print j+0  > \"/dev/stderr\" }' <specialised-corpora-s01-all.vert >specialised-corpora-s01-all-unknown.vert"
      ],
      "metadata": {
        "id": "Rh6LnB8R4ATE",
        "outputId": "87e133a3-4926-4496-82b0-4fb027d329d8",
        "colab": {
          "base_uri": "https://localhost:8080/"
        }
      },
      "execution_count": 45,
      "outputs": [
        {
          "output_type": "stream",
          "name": "stdout",
          "text": [
            "514895\n"
          ]
        }
      ]
    },
    {
      "cell_type": "code",
      "source": [
        "!wc specialised-corpora-s01-all.vert\n",
        "!wc specialised-corpora-s01-all-unknown.vert"
      ],
      "metadata": {
        "id": "6EBfJl8n4QCN",
        "outputId": "62525b78-c343-4d9a-bce5-dec878df21a6",
        "colab": {
          "base_uri": "https://localhost:8080/"
        }
      },
      "execution_count": 46,
      "outputs": [
        {
          "output_type": "stream",
          "name": "stdout",
          "text": [
            " 2567303  7701931 91404493 specialised-corpora-s01-all.vert\n",
            "  514895  1544685 19910737 specialised-corpora-s01-all-unknown.vert\n"
          ]
        }
      ]
    },
    {
      "cell_type": "code",
      "source": [
        "cCoverage3 = 514895 / 2567303\n",
        "print(cCoverage3)"
      ],
      "metadata": {
        "id": "gWTlZVj84kaT",
        "outputId": "e6586dce-d34b-4eb0-d63f-e7563d64d53b",
        "colab": {
          "base_uri": "https://localhost:8080/"
        }
      },
      "execution_count": 47,
      "outputs": [
        {
          "output_type": "stream",
          "name": "stdout",
          "text": [
            "0.20055871862417488\n"
          ]
        }
      ]
    },
    {
      "cell_type": "markdown",
      "source": [
        "## end: Specialised corpora"
      ],
      "metadata": {
        "id": "TunvYy99wX1b"
      }
    },
    {
      "cell_type": "markdown",
      "source": [
        "## Preparing datasets from further improvement\n",
        "- what is still `unknown'\n"
      ],
      "metadata": {
        "id": "KI8KmYyG7jrl"
      }
    },
    {
      "cell_type": "code",
      "source": [
        "!head -n 50 georgianrandom02-unknown.txt\n"
      ],
      "metadata": {
        "id": "BCI07VWFzfFl"
      },
      "execution_count": null,
      "outputs": []
    },
    {
      "cell_type": "code",
      "source": [
        "!tail -n 20 georgianrandom02-unknown.txt"
      ],
      "metadata": {
        "id": "aMchEKhFpDnp"
      },
      "execution_count": null,
      "outputs": []
    },
    {
      "cell_type": "code",
      "source": [
        "D = {}\n",
        "with open(\"georgianrandom02-unknown.txt\", 'r') as f:\n",
        "    for line in f:\n",
        "        line = line.rstrip()\n",
        "        try:\n",
        "            D[line] +=1\n",
        "        except:\n",
        "            D[line] = 1\n",
        "\n",
        "fo = open(\"georgianrandom02-unknown-frq.txt\", 'w')\n",
        "ICorpusLen = 11301824\n",
        "IUnknown = 2123093\n",
        "FCoverage = IUnknown/ICorpusLen\n",
        "print('percent Unknown TT: ', FCoverage)\n",
        "IRestUnknown = IUnknown\n",
        "c = 0\n",
        "for key, val in sorted(D.items(), key=lambda item: item[1], reverse=True):\n",
        "    c+=1\n",
        "    IRestUnknown = IRestUnknown - val\n",
        "    FRestCoverage = IRestUnknown/ICorpusLen\n",
        "    fo.write(str(c) + '\\t' + key + '\\t' + str(val) + '\\t' + str(FRestCoverage) + '\\n')\n",
        "    "
      ],
      "metadata": {
        "id": "B9wEuRC_VqnA",
        "colab": {
          "base_uri": "https://localhost:8080/"
        },
        "outputId": "15e2f4b1-59b0-4a3a-8740-2d31e537a15d"
      },
      "execution_count": null,
      "outputs": [
        {
          "output_type": "stream",
          "name": "stdout",
          "text": [
            "percent Unknown TT:  0.18785401365301743\n"
          ]
        }
      ]
    },
    {
      "cell_type": "code",
      "source": [
        "!head -n 50 georgianrandom02-unknown-frq.txt"
      ],
      "metadata": {
        "id": "Xg0XvzqhnAk8"
      },
      "execution_count": null,
      "outputs": []
    },
    {
      "cell_type": "markdown",
      "source": [
        "## Selecting 3 sets of 1k words for correction (random corpus)\n",
        "\n"
      ],
      "metadata": {
        "id": "YpkE6ncYxIa-"
      }
    },
    {
      "cell_type": "code",
      "source": [
        "import sys, os, re\n",
        "\n",
        "FOut1 = open('georgianrandom02-unknown-frq-p1of3.txt', 'w')\n",
        "FOut2 = open('georgianrandom02-unknown-frq-p2of3.txt', 'w')\n",
        "FOut3 = open('georgianrandom02-unknown-frq-p3of3.txt', 'w')\n",
        "c = 0\n",
        "ICorpusLen = 11301824\n",
        "IUnknown = 2123093\n",
        "IRestUnknown = IUnknown\n",
        "for key, val in sorted(D.items(), key=lambda item: item[1], reverse=True):\n",
        "    c+=1\n",
        "    IRestUnknown = IRestUnknown - val\n",
        "    FRestCoverage = IRestUnknown/ICorpusLen\n",
        "    if(c + 2) % 3 == 0:\n",
        "        FOut1.write(str(c) + '\\t' + key + '\\t' + str(val) + '\\t' + str(FRestCoverage) + '\\n')\n",
        "    elif(c + 1) % 3 == 0:\n",
        "        FOut2.write(str(c) + '\\t' + key + '\\t' + str(val) + '\\t' + str(FRestCoverage) + '\\n')\n",
        "    elif c % 3 == 0:\n",
        "        FOut3.write(str(c) + '\\t' + key + '\\t' + str(val) + '\\t' + str(FRestCoverage) + '\\n')\n",
        "    else:\n",
        "        sys.stdout.write('error: \\t' + str(c) + '\\t' + key + '\\t' + str(val) + '\\t' + str(FRestCoverage) + '\\n')"
      ],
      "metadata": {
        "id": "yjq68GCBybAN"
      },
      "execution_count": null,
      "outputs": []
    },
    {
      "cell_type": "markdown",
      "source": [
        "## GIP DAAD corpus\n",
        "### checking coverage"
      ],
      "metadata": {
        "id": "KVkaCpu7Q_80"
      }
    },
    {
      "cell_type": "code",
      "source": [
        "!wget https://heibox.uni-heidelberg.de/f/1981a35452db40c583c0/?dl=1\n",
        "!mv index.html?dl=1 select-kat.tgz"
      ],
      "metadata": {
        "id": "gxsa46aHRHKp"
      },
      "execution_count": null,
      "outputs": []
    },
    {
      "cell_type": "code",
      "source": [
        "!tar xvzf select-kat.tgz"
      ],
      "metadata": {
        "id": "dIwHfbwYS2jF"
      },
      "execution_count": null,
      "outputs": []
    },
    {
      "cell_type": "code",
      "source": [
        "import os\n",
        "FOut = open('georgian-corp-gip-v01.txt', 'w')\n",
        "for root, dirs, files in os.walk(\"./select-kat\"):\n",
        "    path = root.split(os.sep)\n",
        "    print((len(path) - 1) * '---', os.path.basename(root))\n",
        "    for file in files:\n",
        "        print(len(path) * '---', file)\n",
        "        FOut.write('<doc filename=\"' + file + '\">\\n')\n",
        "        SFilePath = os.path.join(root,file)\n",
        "        FIn = open(SFilePath, 'r')\n",
        "        SIn = FIn.read()\n",
        "        FOut.write(SIn)\n",
        "        FOut.write('</doc>\\n\\n')\n",
        "\n",
        "FOut.flush()\n",
        "FOut.close()\n",
        "\n"
      ],
      "metadata": {
        "id": "d4FnEqEdTNpA"
      },
      "execution_count": null,
      "outputs": []
    },
    {
      "cell_type": "code",
      "source": [
        "!wc georgian-corp-gip-v01.txt"
      ],
      "metadata": {
        "colab": {
          "base_uri": "https://localhost:8080/"
        },
        "id": "ENo0vAecc5tp",
        "outputId": "5196db4d-8714-4dc1-d6d4-7311bf92ae8a"
      },
      "execution_count": null,
      "outputs": [
        {
          "output_type": "stream",
          "name": "stdout",
          "text": [
            "   44448   892632 19802190 georgian-corp-gip-v01.txt\n"
          ]
        }
      ]
    },
    {
      "cell_type": "code",
      "source": [
        "!./treetagger/cmd/tree-tagger-georgian georgian-corp-gip-v01.txt >georgian-corp-gip-v01.vert"
      ],
      "metadata": {
        "colab": {
          "base_uri": "https://localhost:8080/"
        },
        "id": "rsIotAd-Xcj0",
        "outputId": "f80866d4-607e-4eac-d6ec-02178bfcb7a0"
      },
      "execution_count": null,
      "outputs": [
        {
          "output_type": "stream",
          "name": "stdout",
          "text": [
            "\treading parameters ...\n",
            "\ttagging ...\n",
            "1086000\t finished.\n"
          ]
        }
      ]
    },
    {
      "cell_type": "code",
      "source": [
        "!wc georgian-corp-gip-v01.vert"
      ],
      "metadata": {
        "colab": {
          "base_uri": "https://localhost:8080/"
        },
        "id": "-eQMPjpfcRE0",
        "outputId": "d02c02a7-22e0-4656-c9a9-5be596d9e25d"
      },
      "execution_count": null,
      "outputs": [
        {
          "output_type": "stream",
          "name": "stdout",
          "text": [
            " 1086727  3260172 40704147 georgian-corp-gip-v01.vert\n"
          ]
        }
      ]
    },
    {
      "cell_type": "code",
      "source": [
        "!awk -F '\\t' '($3==\"<unknown>\"){j++; printf \"%s\\n\", $0} END{print j+0  > \"/dev/stderr\" }' <georgian-corp-gip-v01.vert >georgian-corp-gip-v01-unknown.txt"
      ],
      "metadata": {
        "colab": {
          "base_uri": "https://localhost:8080/"
        },
        "id": "GvZBzFWoYEmB",
        "outputId": "d1d1bf68-5ec8-4670-ad17-d4328778e03c"
      },
      "execution_count": null,
      "outputs": [
        {
          "output_type": "stream",
          "name": "stdout",
          "text": [
            "222297\n"
          ]
        }
      ]
    },
    {
      "cell_type": "code",
      "source": [
        "ICorpusLen = 1086727\n",
        "IUnknown = 222297\n",
        "FCoverage = IUnknown/ICorpusLen\n",
        "print('percent Unknown TT: ', FCoverage)"
      ],
      "metadata": {
        "colab": {
          "base_uri": "https://localhost:8080/"
        },
        "id": "JBCb8V-jcwJn",
        "outputId": "c8f79775-84d4-445f-efe6-1947fab53f82"
      },
      "execution_count": null,
      "outputs": [
        {
          "output_type": "stream",
          "name": "stdout",
          "text": [
            "percent Unknown TT:  0.2045564341366323\n"
          ]
        }
      ]
    },
    {
      "cell_type": "code",
      "source": [
        "E = {}\n",
        "with open(\"georgian-corp-gip-v01-unknown.txt\", 'r') as f:\n",
        "    for line in f:\n",
        "        line = line.rstrip()\n",
        "        try:\n",
        "            E[line] +=1\n",
        "        except:\n",
        "            E[line] = 1"
      ],
      "metadata": {
        "id": "JMxJWk_0bYdR"
      },
      "execution_count": null,
      "outputs": []
    },
    {
      "cell_type": "code",
      "source": [
        "## checking coverage on georgianrandom02 corpus\n",
        "IRestUnknown = IUnknown\n",
        "c = 0\n",
        "CFound = 0\n",
        "fo = open(\"georgian-corp-gip-v01-unknown-from-georgianrandom02-frq.txt\", 'w')\n",
        "for key, val in sorted(D.items(), key=lambda item: item[1], reverse=True):\n",
        "    c+=1\n",
        "    BFound = False\n",
        "    try: \n",
        "        val2 = E[key]\n",
        "        BFound = True\n",
        "        CFound += 1\n",
        "    except:\n",
        "        val2 = 0\n",
        "\n",
        "    IRestUnknown = IRestUnknown - val2\n",
        "    FRestCoverage = IRestUnknown/ICorpusLen\n",
        "    fo.write(str(c) + '\\t' + key + '\\t' + str(val) + '\\t' + str(BFound) + '\\t' + str(CFound) + '\\t' + str(FRestCoverage) + '\\n')\n"
      ],
      "metadata": {
        "id": "bR6f-KCKb2yC"
      },
      "execution_count": null,
      "outputs": []
    },
    {
      "cell_type": "markdown",
      "source": [
        "\n",
        "# Optional dataset (not used)\n",
        "## Example: Universal declaration of human rights ("
      ],
      "metadata": {
        "id": "frfVA5xCqVyL"
      }
    },
    {
      "cell_type": "code",
      "execution_count": null,
      "metadata": {
        "id": "bVq5Aeajp-LR"
      },
      "outputs": [],
      "source": [
        "# Downloading UDHR\n",
        "!wget https://unicode.org/udhr/assemblies/udhr_txt.zip\n"
      ]
    },
    {
      "cell_type": "code",
      "source": [
        "%%bash\n",
        "mkdir udhr\n",
        "mv udhr_txt.zip udhr\n",
        "cd udhr/\n",
        "unzip udhr_txt.zip"
      ],
      "metadata": {
        "id": "CoPrEtv3q56L"
      },
      "execution_count": null,
      "outputs": []
    },
    {
      "cell_type": "code",
      "source": [
        "%%bash\n",
        "# put paragraph tags\n",
        "awk '{print \"<p>\\n\"$0 ; print \"</p>\"}' /content/udhr/udhr_kat.txt >/content/udhr/udhr_kat_v02.txt"
      ],
      "metadata": {
        "id": "bH9cbpC6xUSB"
      },
      "execution_count": null,
      "outputs": []
    }
  ]
}