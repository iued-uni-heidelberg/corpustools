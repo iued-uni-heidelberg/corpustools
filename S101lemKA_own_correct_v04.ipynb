{
  "nbformat": 4,
  "nbformat_minor": 0,
  "metadata": {
    "colab": {
      "provenance": [],
      "authorship_tag": "ABX9TyNaFbvTi3IWrG8bNrK02cm6",
      "include_colab_link": true
    },
    "kernelspec": {
      "name": "python3",
      "display_name": "Python 3"
    },
    "language_info": {
      "name": "python"
    }
  },
  "cells": [
    {
      "cell_type": "markdown",
      "metadata": {
        "id": "view-in-github",
        "colab_type": "text"
      },
      "source": [
        "<a href=\"https://colab.research.google.com/github/iued-uni-heidelberg/corpustools/blob/main/S101lemKA_own_correct_v04.ipynb\" target=\"_parent\"><img src=\"https://colab.research.google.com/assets/colab-badge.svg\" alt=\"Open In Colab\"/></a>"
      ]
    },
    {
      "cell_type": "markdown",
      "source": [
        "# Workflow for making own corrections for your corpus"
      ],
      "metadata": {
        "id": "iRX99n4309Nh"
      }
    },
    {
      "cell_type": "code",
      "execution_count": 1,
      "metadata": {
        "id": "e1vo9E_j0i8K"
      },
      "outputs": [],
      "source": [
        "# Downloading files for each of the specialized corpora\n",
        "import sys, os, re\n"
      ]
    },
    {
      "cell_type": "markdown",
      "source": [
        "## Files to download:\n",
        "link: https://heibox.uni-heidelberg.de/d/d588bccab64348a399d4/\n",
        "\n",
        "## After downloading\n",
        "- You can change <unknown> to correct lemma, or leave it as it is\n",
        "- You can change part-of-speech code, if incorrect\n",
        "- Save changes on your local disk\n",
        "- Upload the file onto this notebook workspace (using Files>Upload to session storage button"
      ],
      "metadata": {
        "id": "m66ZYDX201q0"
      }
    },
    {
      "cell_type": "markdown",
      "source": [
        "## Running tagging+correction workflow"
      ],
      "metadata": {
        "id": "vMtW1mZH53Uy"
      }
    },
    {
      "cell_type": "code",
      "source": [
        "# Examples of files to upload: https://heibox.uni-heidelberg.de/d/4fb05f7949e941be9747/"
      ],
      "metadata": {
        "id": "JVScLhL402sz"
      },
      "execution_count": null,
      "outputs": []
    },
    {
      "cell_type": "markdown",
      "source": [
        "(Examples of files to upload: https://heibox.uni-heidelberg.de/d/4fb05f7949e941be9747/ )"
      ],
      "metadata": {
        "id": "SAWP4VQ6PEA1"
      }
    },
    {
      "cell_type": "code",
      "source": [
        "%%bash\n",
        "# installing TreeTagger (en, de, ka)\n",
        "mkdir treetagger\n",
        "cd treetagger\n",
        "# Download the tagger package for your system (PC-Linux, Mac OS-X, ARM64, ARMHF, ARM-Android, PPC64le-Linux).\n",
        "wget https://cis.lmu.de/~schmid/tools/TreeTagger/data/tree-tagger-linux-3.2.4.tar.gz\n",
        "tar -xzvf tree-tagger-linux-3.2.4.tar.gz\n",
        "# Download the tagging scripts into the same directory.\n",
        "wget https://cis.lmu.de/~schmid/tools/TreeTagger/data/tagger-scripts.tar.gz\n",
        "gunzip tagger-scripts.tar.gz\n",
        "# Download the installation script install-tagger.sh.\n",
        "wget https://cis.lmu.de/~schmid/tools/TreeTagger/data/install-tagger.sh\n",
        "# Download the parameter files for the languages you want to process.\n",
        "# list of all files (parameter files) https://cis.lmu.de/~schmid/tools/TreeTagger/#parfiles\n",
        "wget https://cis.lmu.de/~schmid/tools/TreeTagger/data/english.par.gz\n",
        "sh install-tagger.sh\n",
        "cd ..\n",
        "sudo pip install treetaggerwrapper\n",
        "# changing options: no-unknown, sgml, lemma\n",
        "mv /content/treetagger/cmd/tree-tagger-english /content/tree-tagger-english0\n",
        "awk '{ if (NR == 9) print \"OPTIONS=\\\"-token -lemma -sgml -no-unknown\\\"\"; else print $0}' /content/tree-tagger-english0 > /content/treetagger/cmd/tree-tagger-english\n",
        "chmod a+x ./treetagger/cmd/tree-tagger-english\n",
        "# downloading German and Georgian\n",
        "wget https://heibox.uni-heidelberg.de/f/ec8226edebb64a359407/?dl=1\n",
        "mv index.html?dl=1 /content/treetagger/lib/german-utf8.par\n",
        "wget https://heibox.uni-heidelberg.de/f/9183090d2bdb41e09055/?dl=1\n",
        "mv index.html?dl=1 /content/treetagger/lib/georgian.par\n",
        "wget https://heibox.uni-heidelberg.de/f/9cafab0509d64ed1ac4b/?dl=1\n",
        "mv index.html?dl=1 /content/treetagger/cmd/tree-tagger-georgian2\n",
        "cp /content/treetagger/cmd/tree-tagger-georgian2 /content/treetagger/cmd/tree-tagger-georgian\n",
        "# German2 = -no-unknown\n",
        "# note: tree-tagger-german will not work, as parameter files have not been downloaded, only use tree-tagger-german2 with utf8 encoding\n",
        "wget https://heibox.uni-heidelberg.de/f/acb9b8a2fa4f40e08f8a/?dl=1\n",
        "mv index.html?dl=1 /content/treetagger/cmd/tree-tagger-german2\n",
        "chmod a+x /content/treetagger/cmd/tree-tagger-georgian2\n",
        "chmod a+x /content/treetagger/cmd/tree-tagger-german2\n",
        "\n",
        "wget https://heibox.uni-heidelberg.de/f/a6f7f36f175942ccad0a/?dl=1\n",
        "mv index.html?dl=1 /content/treetagger/cmd/tree-tagger-georgian\n",
        "chmod a+x /content/treetagger/cmd/tree-tagger-georgian\n"
      ],
      "metadata": {
        "id": "yb3aAeAWuaBG"
      },
      "execution_count": null,
      "outputs": []
    },
    {
      "cell_type": "code",
      "source": [
        "!wget https://heibox.uni-heidelberg.de/f/dc5bcb4413aa42668130/?dl=1\n",
        "!mv index.html?dl=1 specialisedCorpus.zip"
      ],
      "metadata": {
        "id": "XJWk4J067APR"
      },
      "execution_count": null,
      "outputs": []
    },
    {
      "cell_type": "code",
      "source": [
        "!unzip specialisedCorpus.zip\n",
        "!wc specialised-corpora/*"
      ],
      "metadata": {
        "id": "kpuM-7lB7ksa"
      },
      "execution_count": null,
      "outputs": []
    },
    {
      "cell_type": "code",
      "source": [
        "!mkdir specialised-corpora-s01-lines/"
      ],
      "metadata": {
        "id": "YeCJt4Pd72BK"
      },
      "execution_count": 5,
      "outputs": []
    },
    {
      "cell_type": "code",
      "source": [
        "def removeNewLines(FName, FNameOut):\n",
        "    FIn = open(FName, 'r')\n",
        "    FOut = open(FNameOut, 'w')\n",
        "\n",
        "    for SLine in FIn:\n",
        "        SLine = SLine.strip()\n",
        "        if SLine == '':\n",
        "            FOut.write('\\n\\n')\n",
        "            continue\n",
        "        if SLine[-1] == '-':\n",
        "            SLine2write = SLine[:-1]\n",
        "            FOut.write(SLine2write)\n",
        "            continue\n",
        "\n",
        "        FOut.write(SLine + ' ')\n",
        "    FOut.flush()\n",
        "    return\n"
      ],
      "metadata": {
        "id": "qq7NisSd77t9"
      },
      "execution_count": 6,
      "outputs": []
    },
    {
      "cell_type": "code",
      "source": [
        "removeNewLines('specialised-corpora/cFiktion.txt', 'specialised-corpora-s01-lines/cFiktion.txt')\n",
        "removeNewLines('specialised-corpora/cNaturwissenschaft.txt', 'specialised-corpora-s01-lines/cNaturwissenschaft.txt')\n",
        "removeNewLines('specialised-corpora/cRechtswissenschaft.txt', 'specialised-corpora-s01-lines/cRechtswissenschaft.txt')"
      ],
      "metadata": {
        "id": "KB9Xx50C8m-L"
      },
      "execution_count": 7,
      "outputs": []
    },
    {
      "cell_type": "code",
      "source": [
        "!mkdir specialised-corpora-s02-vert/"
      ],
      "metadata": {
        "id": "iZMjwrf686iz"
      },
      "execution_count": 8,
      "outputs": []
    },
    {
      "cell_type": "code",
      "source": [
        "!./treetagger/cmd/tree-tagger-georgian specialised-corpora-s01-lines/cFiktion.txt >specialised-corpora-s02-vert/cFiktion.vert\n",
        "!./treetagger/cmd/tree-tagger-georgian specialised-corpora-s01-lines/cNaturwissenschaft.txt >specialised-corpora-s02-vert/cNaturwissenschaft.vert\n",
        "!./treetagger/cmd/tree-tagger-georgian specialised-corpora-s01-lines/cRechtswissenschaft.txt >specialised-corpora-s02-vert/cRechtswissenschaft.vert\n"
      ],
      "metadata": {
        "id": "6inuLkQU89Yr"
      },
      "execution_count": null,
      "outputs": []
    },
    {
      "cell_type": "code",
      "source": [
        "# how many words in each corpus\n",
        "!wc specialised-corpora-s02-vert/*"
      ],
      "metadata": {
        "id": "IX-pxFpO9e6r"
      },
      "execution_count": null,
      "outputs": []
    },
    {
      "cell_type": "markdown",
      "source": [
        "## Downloading corrections"
      ],
      "metadata": {
        "id": "R6PbNHxv-aIN"
      }
    },
    {
      "cell_type": "code",
      "source": [
        "%%bash\n",
        "# Downloading a table with corrected forms from the Georgian Random corpus\n",
        "# cp /content/treetagger/cmd/tree-tagger-georgian2 /content/treetagger/cmd/tree-tagger-georgian\n",
        "wget https://heibox.uni-heidelberg.de/f/e9010b0f3e7649ef9552/?dl=1\n",
        "mv index.html?dl=1 georgianrandom--unknown-frq-all.tsv"
      ],
      "metadata": {
        "id": "7K6L_kLwUFIn"
      },
      "execution_count": null,
      "outputs": []
    },
    {
      "cell_type": "code",
      "source": [
        "# Downloading a table with corrected froms from Specialized corpora\n",
        "!wget https://heibox.uni-heidelberg.de/f/b7c076d7876d4860a554/?dl=1\n",
        "!mv index.html?dl=1 specialised-corpora-all-union123Unkonw.tsv"
      ],
      "metadata": {
        "id": "9wbZFEyY7OJV"
      },
      "execution_count": null,
      "outputs": []
    },
    {
      "cell_type": "code",
      "source": [
        "!wc georgianrandom--unknown-frq-all.tsv\n",
        "!wc specialised-corpora-all-union123Unkonw.tsv"
      ],
      "metadata": {
        "id": "XZWf7KSo_SzY"
      },
      "execution_count": null,
      "outputs": []
    },
    {
      "cell_type": "code",
      "source": [
        "# removing the line with column names before concatenation\n",
        "!cat specialised-corpora-all-union123Unkonw.tsv | tail -n+2 >specialised-corpora-all-union123Unkonw2.tsv"
      ],
      "metadata": {
        "id": "AhSFj6FXA6N7"
      },
      "execution_count": 14,
      "outputs": []
    },
    {
      "cell_type": "code",
      "source": [
        "!cat georgianrandom--unknown-frq-all.tsv specialised-corpora-all-union123Unkonw2.tsv >ready-corrections-all.txt\n",
        "!wc ready-corrections-all.txt"
      ],
      "metadata": {
        "colab": {
          "base_uri": "https://localhost:8080/"
        },
        "id": "16e8c2JF_Bvq",
        "outputId": "e9f5f548-6a7e-4019-fa10-f48d00004475"
      },
      "execution_count": 15,
      "outputs": [
        {
          "output_type": "stream",
          "name": "stdout",
          "text": [
            "  5893  44210 461479 ready-corrections-all.txt\n"
          ]
        }
      ]
    },
    {
      "cell_type": "code",
      "source": [
        "# reading a dictionary with corrections (function)\n",
        "\n",
        "def readCorrectionFile(SFInput):\n",
        "    '''\n",
        "    input string: file name with the corrections;\n",
        "    output: tuple of two dictionaries: corrections lemmas, corrections part-of-speech\n",
        "    '''\n",
        "    DCorrectionsPoS = {}\n",
        "    DCorrectionsLem = {}\n",
        "    with open(SFInput) as f:\n",
        "        counter = 0\n",
        "        for sline in f:\n",
        "            counter += 1\n",
        "            if counter == 1: continue # we skip the first line\n",
        "\n",
        "            sline = sline.strip()\n",
        "            LLine = sline.split('\\t')\n",
        "            try: SWord = LLine[1]\n",
        "            except: SWord = ''\n",
        "\n",
        "            try: SPoS = LLine[2]\n",
        "            except: SPoS = ''\n",
        "\n",
        "            try: SLemma = LLine[3]\n",
        "            except: SLemma = ''\n",
        "\n",
        "            try: SPoSCorrected = LLine[4]\n",
        "            except: SPoSCorrected = ''\n",
        "            if SPoSCorrected != '' and SWord != '':\n",
        "                SPoS = SPoSCorrected\n",
        "                DCorrectionsPoS[SWord] = SPoS\n",
        "\n",
        "            if SWord != '' and SLemma != '': DCorrectionsLem[SWord] = SLemma\n",
        "            # if SWord != '' and SPoS != '': DCorrectionsPoS[SWord] = SPoS\n",
        "\n",
        "    print(len(DCorrectionsPoS.items()))\n",
        "    print(len(DCorrectionsLem.items()))\n",
        "\n",
        "    return DCorrectionsLem, DCorrectionsPoS\n",
        "\n",
        "\n",
        "def readCorrectionFileTestDict(DCorrectionsLem, DCorrectionsPoS, SFOutDictLemmasCorrected, SFOutDdictPoSCorrected):\n",
        "    FDictCorrected = open(SFOutDictLemmasCorrected, 'w')\n",
        "    for key, value in sorted(DCorrectionsLem.items()):\n",
        "        FDictCorrected.write(f'{key}\\t{value}\\n')\n",
        "    FDictCorrected.flush()\n",
        "\n",
        "    FDictCorrectedPoS = open(SFOutDdictPoSCorrected, 'w')\n",
        "    for key, value in sorted(DCorrectionsPoS.items()):\n",
        "        FDictCorrectedPoS.write(f'{key}\\t{value}\\n')\n",
        "    FDictCorrectedPoS.flush()\n",
        "\n",
        "    return\n",
        "\n"
      ],
      "metadata": {
        "id": "tArdzmwuByJV"
      },
      "execution_count": 16,
      "outputs": []
    },
    {
      "cell_type": "code",
      "source": [
        "DCorrectionsLem2, DCorrectionsPoS2 = readCorrectionFile('ready-corrections-all.txt')\n",
        "readCorrectionFileTestDict(DCorrectionsLem2, DCorrectionsPoS2, 'ready-corrections-all-cor-lem.txt', 'ready-corrections-all-cor-pos.txt')"
      ],
      "metadata": {
        "id": "Ow3x1mrPB8lG",
        "colab": {
          "base_uri": "https://localhost:8080/"
        },
        "outputId": "8fdcc0f1-6494-40fe-ba60-bd30d79e3914"
      },
      "execution_count": 17,
      "outputs": [
        {
          "output_type": "stream",
          "name": "stdout",
          "text": [
            "1047\n",
            "4917\n"
          ]
        }
      ]
    },
    {
      "cell_type": "code",
      "source": [
        "!mkdir specialised-corpora-s05-cVertSC"
      ],
      "metadata": {
        "id": "dmbYkR4FDU-i"
      },
      "execution_count": 18,
      "outputs": []
    },
    {
      "cell_type": "code",
      "source": [
        "def applyCorrections(SFInVertUnknown, SFOutVertCorrected, DCorrectionsLem, DCorrectionsPoS):\n",
        "    FOutVertCorrected = open(SFOutVertCorrected, 'w')\n",
        "    DReplacements = {}\n",
        "    with open(SFInVertUnknown) as FInVertUnknown:\n",
        "        counter = 0\n",
        "        unknownFound = 0\n",
        "        unknownCorrected = 0\n",
        "        unknownCorrectedPoS = 0\n",
        "        for SLine in FInVertUnknown:\n",
        "            counter +=1\n",
        "            if counter % 1000000 == 0: sys.stdout.write(f'{counter}, unknownFound={unknownFound}, unknownCorrected={unknownCorrected}({unknownCorrected/unknownFound*100}%), unknownTypesCorrected={len(DReplacements)}, unknownCorrectedPoS={unknownCorrectedPoS}\\n')\n",
        "            SLine = SLine.rstrip()\n",
        "            LLine = SLine.split('\\t')\n",
        "            if len(LLine) != 3:\n",
        "                FOutVertCorrected.write(f'{SLine}\\n')\n",
        "            else:\n",
        "                SWord = LLine[0]\n",
        "                SPoS = LLine[1]\n",
        "                SLem = LLine[2]\n",
        "\n",
        "                if SLem == '<unknown>':\n",
        "                    unknownFound +=1\n",
        "                    if SWord in DCorrectionsLem:\n",
        "                        SLem = DCorrectionsLem[SWord]\n",
        "                        unknownCorrected +=1\n",
        "                        try:\n",
        "                            DReplacements[f'{SWord}\\t{SLem}'] += 1\n",
        "                        except:\n",
        "                            DReplacements[f'{SWord}\\t{SLem}'] = 1\n",
        "\n",
        "                    # except: pass\n",
        "\n",
        "                    if SWord in DCorrectionsPoS:\n",
        "                        SPoS = DCorrectionsPoS[SWord]\n",
        "                        unknownCorrectedPoS += 1\n",
        "                    # except: pass\n",
        "                FOutVertCorrected.write(f'{SWord}\\t{SPoS}\\t{SLem}\\n')\n",
        "    FOutVertCorrected.flush()\n",
        "\n",
        "    return (counter, unknownFound, unknownCorrected, len(DReplacements), unknownCorrectedPoS), DReplacements\n",
        "\n",
        "\n",
        "def reportStatistics(TupleIn1):\n",
        "    counter, unknownFound, unknownCorrected, ITypesCorrected, unknownCorrectedPoS = TupleIn1\n",
        "    # ITypesCorrected = len(DReplacements)\n",
        "    UnknownBeforeUpdate = unknownFound / counter\n",
        "    UnknowAfterUpdate = (unknownFound - unknownCorrected) / counter\n",
        "    UnknownChange = UnknownBeforeUpdate - UnknowAfterUpdate\n",
        "\n",
        "    sys.stdout.write(f'\\nAll words:{counter}, Unknown:{unknownFound}, UnknownCorrected:{unknownCorrected}({unknownCorrected/unknownFound*100}%), UnknownTypesCorrected:{ITypesCorrected}, UnknownPoSCorrected:{unknownCorrectedPoS}\\n')\n",
        "    sys.stdout.write(f'\\nUnknown before update:{unknownFound}({UnknownBeforeUpdate * 100})%; Unknown after update:{unknownFound - unknownCorrected}({UnknowAfterUpdate * 100})%; Change:{unknownCorrected}({UnknownChange * 100})%\\n', )\n",
        "\n",
        "\n",
        "def printFrqDict(DFrq, SFOut):\n",
        "    FOut = open(SFOut, 'w')\n",
        "    count = 0\n",
        "    for key, val in sorted(DFrq.items(), key=lambda item: item[1], reverse=True):\n",
        "        count+=1\n",
        "        FOut.write(f'{count}\\t{key}\\t{val}\\n')\n",
        "    FOut.flush()\n",
        "\n"
      ],
      "metadata": {
        "id": "dr_aiP_sEQTx"
      },
      "execution_count": 19,
      "outputs": []
    },
    {
      "cell_type": "markdown",
      "source": [
        "## Applying changes (corrections)"
      ],
      "metadata": {
        "id": "qu2-TaWDPkoQ"
      }
    },
    {
      "cell_type": "code",
      "source": [
        "TupleStatF2, DReplacementsF2 = applyCorrections('/content/specialised-corpora-s02-vert/cFiktion.vert', '/content/specialised-corpora-s05-cVertSC/cFiktion.vert', DCorrectionsLem2, DCorrectionsPoS2)\n",
        "reportStatistics(TupleStatF2)\n",
        "printFrqDict(DReplacementsF2, '/content/specialised-corpora-s05-cVertSC/cFiktion-replacements.txt')\n",
        "\n"
      ],
      "metadata": {
        "id": "jPkfVf0uDsEP"
      },
      "execution_count": null,
      "outputs": []
    },
    {
      "cell_type": "code",
      "source": [
        "TupleStatN2, DReplacementsN2 = applyCorrections('/content/specialised-corpora-s02-vert/cNaturwissenschaft.vert', '/content/specialised-corpora-s05-cVertSC/cNaturwissenschaft.vert', DCorrectionsLem2, DCorrectionsPoS2)\n",
        "reportStatistics(TupleStatN2)\n",
        "printFrqDict(DReplacementsN2, '/content/specialised-corpora-s05-cVertSC/cNaturwissenschaft-replacements.txt')\n"
      ],
      "metadata": {
        "id": "kB0n5jrNEAlQ"
      },
      "execution_count": null,
      "outputs": []
    },
    {
      "cell_type": "code",
      "source": [
        "TupleStatR2, DReplacementsR2 = applyCorrections('/content/specialised-corpora-s02-vert/cRechtswissenschaft.vert', '/content/specialised-corpora-s05-cVertSC/cRechtswissenschaft.vert', DCorrectionsLem2, DCorrectionsPoS2)\n",
        "reportStatistics(TupleStatR2)\n",
        "printFrqDict(DReplacementsR2, '/content/specialised-corpora-s05-cVertSC/cRechtswissenschaft-replacements.txt')\n"
      ],
      "metadata": {
        "id": "VdgUZo0FEJxw"
      },
      "execution_count": null,
      "outputs": []
    },
    {
      "cell_type": "markdown",
      "source": [
        "# Automated correction from MT model"
      ],
      "metadata": {
        "id": "ZhGyOhv2vYkC"
      }
    },
    {
      "cell_type": "code",
      "source": [
        "# download new model\n",
        "!wget https://heibox.uni-heidelberg.de/f/ecce3b430f1547cd8d7d/?dl=1\n",
        "!mv index.html?dl=1 kaLemDynamic_translator.tgz\n",
        "!tar xvzf kaLemDynamic_translator.tgz\n"
      ],
      "metadata": {
        "id": "atIN8rKrvmQM"
      },
      "execution_count": null,
      "outputs": []
    },
    {
      "cell_type": "code",
      "source": [
        "%%time\n",
        "### if needed -- if runtime restarted\n",
        "!pip install \"tensorflow-text>=2.11\"\n",
        "!pip install einops\n",
        "### if needed -- if runtime restarted\n",
        "import numpy as np\n",
        "\n",
        "import typing\n",
        "from typing import Any, Tuple\n",
        "\n",
        "import einops\n",
        "import matplotlib.pyplot as plt\n",
        "import matplotlib.ticker as ticker\n",
        "\n",
        "import tensorflow as tf\n",
        "import tensorflow_text as tf_text\n",
        "\n",
        "\n",
        "inputs = [\n",
        "    'n e b i s m i e r', # \"n e b i s m i e r i\"\n",
        "    'o r g a n o e b i', # \"o r g a n o\"\n",
        "    'h kx i t kh a' # \"h kx i t kh a v s\"\n",
        "]\n",
        "\n",
        "\n",
        "reloaded = tf.saved_model.load('kaLemDynamic_translator')\n",
        "_ = reloaded.translate(tf.constant(inputs)) #warmup\n",
        "\n",
        "result = reloaded.translate(tf.constant(inputs))\n",
        "\n",
        "print(result[0].numpy().decode())\n",
        "print(result[1].numpy().decode())\n",
        "print(result[2].numpy().decode())\n",
        "print()"
      ],
      "metadata": {
        "id": "KEyU8fr7v3sq"
      },
      "execution_count": null,
      "outputs": []
    },
    {
      "cell_type": "code",
      "source": [
        "!head -n 40 /content/specialised-corpora-s05-cVertSC/cFiktion.vert"
      ],
      "metadata": {
        "id": "R_Pry8p7zGiM"
      },
      "execution_count": null,
      "outputs": []
    },
    {
      "cell_type": "code",
      "source": [
        "!wget https://heibox.uni-heidelberg.de/f/70af69f479044d228e6d/?dl=1\n",
        "!mv index.html?dl=1 ltKA.txt"
      ],
      "metadata": {
        "id": "3FEa5G7xwscb"
      },
      "execution_count": null,
      "outputs": []
    },
    {
      "cell_type": "code",
      "source": [
        "def readTableWS(SFIn):\n",
        "    DMap = {}\n",
        "    with open(SFIn) as FIn:\n",
        "        for SLine in FIn:\n",
        "            SLine = SLine.rstrip('\\n')\n",
        "            try:\n",
        "                KA, LA = SLine.split('\\t')\n",
        "                DMap[KA] = LA\n",
        "            except:\n",
        "                continue\n",
        "    print(len(DMap))\n",
        "    return DMap\n",
        "\n",
        "DTransliterationKA = readTableWS('/content/ltKA.txt')"
      ],
      "metadata": {
        "id": "bFDxrkJ1yK7K"
      },
      "execution_count": null,
      "outputs": []
    },
    {
      "cell_type": "code",
      "source": [
        "def splitCharsUnknown(SFIn, SFOut, BSplitChars = True, RandomEvery = 10, DTranslit = None):\n",
        "    FOut = open(SFOut, 'w')\n",
        "    FOutTest = open(SFOut + '_test.txt', 'w')\n",
        "\n",
        "    with open(SFIn) as FIn:\n",
        "        countW = 0\n",
        "        for SLine in FIn:\n",
        "            countW += 1\n",
        "            SLine = SLine.rstrip()\n",
        "            LLine = SLine.split('\\t')\n",
        "            try:\n",
        "                LHS = LLine[0]\n",
        "                RHS = LLine[1]\n",
        "            except:\n",
        "                LHS = ''\n",
        "                RHS = ''\n",
        "                sys.stderr.write('.')\n",
        "                continue\n",
        "            try:\n",
        "                LWordPoS = LHS.split('_')\n",
        "                SWord = LWordPoS[0]\n",
        "                SPoS = LWordPoS[1]\n",
        "\n",
        "            except:\n",
        "                SWord = LHS\n",
        "                SPoS = None\n",
        "\n",
        "            if BSplitChars:\n",
        "                SWord = ' '.join(list(SWord))\n",
        "                RHS = ' '.join(list(RHS))\n",
        "\n",
        "\n",
        "            if DTranslit:\n",
        "                SWord = ''.join([DTransliterationKA[x] for x in SWord if x in DTranslit])\n",
        "                RHS = ''.join([DTransliterationKA[x] for x in RHS if x in DTranslit])\n",
        "\n",
        "\n",
        "            if RandomEvery and countW % RandomEvery == 0:\n",
        "                if SPoS:\n",
        "                    FOutTest.write(f'{SWord} {SPoS}\\t{RHS}\\n')\n",
        "                else:\n",
        "                    FOutTest.write(f'{SWord}\\t{RHS}\\n')\n",
        "                continue\n",
        "\n",
        "\n",
        "            if SPoS:\n",
        "                FOut.write(f'{SWord} {SPoS}\\t{RHS}\\n')\n",
        "            else:\n",
        "                FOut.write(f'{SWord}\\t{RHS}\\n')\n",
        "\n",
        "    return\n",
        "\n"
      ],
      "metadata": {
        "id": "5cLzKpSWyT16"
      },
      "execution_count": null,
      "outputs": []
    },
    {
      "cell_type": "markdown",
      "source": [
        "# Applying own corrections"
      ],
      "metadata": {
        "id": "D7y4dok4vVSy"
      }
    },
    {
      "cell_type": "code",
      "source": [
        "!mkdir specialised-corpora-s06-cVertOwn"
      ],
      "metadata": {
        "id": "5o3B1RskGZm_"
      },
      "execution_count": null,
      "outputs": []
    },
    {
      "cell_type": "code",
      "source": [
        "# reading own corrections from files (ignoring < and > at the edges)\n",
        "\n",
        "def readOwnCorrections(SFInputCorrections):\n",
        "\n",
        "    DCorrectionsPoS = {}\n",
        "    DCorrectionsLem = {}\n",
        "    with open(SFInputCorrections) as f:\n",
        "        counter = 0\n",
        "        for sline in f:\n",
        "            counter += 1\n",
        "            # if counter == 1: continue # we skip the first line\n",
        "\n",
        "            sline = sline.strip()\n",
        "            LLine = sline.split('\\t')\n",
        "            try: SWord = LLine[1]\n",
        "            except: SWord = ''\n",
        "\n",
        "            try: SPoS = LLine[2]\n",
        "            except: SPoS = ''\n",
        "\n",
        "            try: SLemma = LLine[3]\n",
        "            except: SLemma = ''\n",
        "            if SLemma != '<unknown>' and SPoS != '' and SWord != '':\n",
        "                DCorrectionsPoS[SWord] = SPoS\n",
        "            if SLemma != '<unknown>' and SWord != '' and SLemma != '':\n",
        "                SLemma = SLemma.lstrip('<')\n",
        "                SLemma = SLemma.rstrip('>')\n",
        "                DCorrectionsLem[SWord] = SLemma\n",
        "            try: SFrq = LLine[4]\n",
        "            except: SFrq = ''\n",
        "\n",
        "\n",
        "    print(len(DCorrectionsPoS.items()))\n",
        "    print(len(DCorrectionsLem.items()))\n",
        "\n",
        "    return DCorrectionsLem, DCorrectionsPoS"
      ],
      "metadata": {
        "id": "0LRXac4hIG8C"
      },
      "execution_count": null,
      "outputs": []
    },
    {
      "cell_type": "code",
      "source": [
        "def readOwnFiles():\n",
        "    DOwnFiktionLem = {}\n",
        "    DOwnNaturLem = {}\n",
        "    DOwnRechtLem = {}\n",
        "    DOwnFiktionPoS = {}\n",
        "    DOwnNaturPoS = {}\n",
        "    DOwnRechtPoS = {}\n",
        "    try:\n",
        "        DOwnFiktionLem, DOwnFiktionPoS = readOwnCorrections('/content/cFiktion-freq.txt')\n",
        "    except:\n",
        "        pass\n",
        "    try:\n",
        "        DOwnNaturLem, DOwnNaturPoS = readOwnCorrections('/content/cNaturwissenschaft-freq.txt')\n",
        "    except:\n",
        "        pass\n",
        "    try:\n",
        "        DOwnRechtLem, DOwnRechtPoS = readOwnCorrections('/content/cRechtswissenschaft-freq.txt')\n",
        "    except:\n",
        "        pass\n",
        "\n",
        "    return DOwnFiktionLem, DOwnFiktionPoS, DOwnNaturLem, DOwnNaturPoS, DOwnRechtLem, DOwnRechtPoS"
      ],
      "metadata": {
        "id": "j_2LE33WK_r_"
      },
      "execution_count": null,
      "outputs": []
    },
    {
      "cell_type": "code",
      "source": [
        "DOwnFiktionLem, DOwnFiktionPoS, DOwnNaturLem, DOwnNaturPoS, DOwnRechtLem, DOwnRechtPoS = readOwnFiles()\n",
        "readCorrectionFileTestDict(DOwnFiktionLem, DOwnFiktionPoS, 'own-corrections-fiktion-lem.txt', 'own-corrections-fiktion-pos.txt')\n",
        "readCorrectionFileTestDict(DOwnNaturLem, DOwnNaturPoS, 'own-corrections-natur-lem.txt', 'own-corrections-natur-pos.txt')\n",
        "readCorrectionFileTestDict(DOwnRechtLem, DOwnRechtPoS, 'own-corrections-recht-lem.txt', 'own-corrections-recht-pos.txt')"
      ],
      "metadata": {
        "colab": {
          "base_uri": "https://localhost:8080/"
        },
        "id": "70KsXLvuK-sq",
        "outputId": "08ed3d10-43f9-4b3b-88d1-62ec67350d78"
      },
      "execution_count": null,
      "outputs": [
        {
          "output_type": "stream",
          "name": "stdout",
          "text": [
            "3\n",
            "3\n",
            "4\n",
            "4\n",
            "4\n",
            "4\n"
          ]
        }
      ]
    },
    {
      "cell_type": "markdown",
      "source": [
        "## Applying own corrections"
      ],
      "metadata": {
        "id": "NnhYLHqqPsHq"
      }
    },
    {
      "cell_type": "code",
      "source": [
        "TupleStatF6, DReplacementsF6 = applyCorrections('/content/specialised-corpora-s05-cVertSC/cFiktion.vert', '/content/specialised-corpora-s06-cVertOwn/cFiktion.vert', DOwnFiktionLem, DOwnFiktionPoS)\n",
        "reportStatistics(TupleStatF6)\n",
        "printFrqDict(DReplacementsF6, '/content/specialised-corpora-s06-cVertOwn/cFiktion-replacements.txt')\n"
      ],
      "metadata": {
        "colab": {
          "base_uri": "https://localhost:8080/"
        },
        "id": "j_sGn_vEPewx",
        "outputId": "4cf94f7b-3812-4fe0-b7a6-bc18a99df302"
      },
      "execution_count": null,
      "outputs": [
        {
          "output_type": "stream",
          "name": "stdout",
          "text": [
            "\n",
            "All words:747302, Unknown:113266, UnknownCorrected:1320(1.1653982660286406%), UnknownTypesCorrected:3, UnknownPoSCorrected:1320\n",
            "\n",
            "Unknown before update:113266(15.156656880350916)%; Unknown after update:111946(14.980021463879394)%; Change:1320(0.17663541647152114)%\n"
          ]
        }
      ]
    },
    {
      "cell_type": "code",
      "source": [
        "TupleStatN6, DReplacementsN6 = applyCorrections('/content/specialised-corpora-s05-cVertSC/cNaturwissenschaft.vert', '/content/specialised-corpora-s06-cVertOwn/cNaturwissenschaft.vert', DOwnNaturLem, DOwnNaturPoS)\n",
        "reportStatistics(TupleStatN6)\n",
        "printFrqDict(DReplacementsN6, '/content/specialised-corpora-s06-cVertOwn/cNaturwissenschaft-replacements.txt')\n"
      ],
      "metadata": {
        "colab": {
          "base_uri": "https://localhost:8080/"
        },
        "id": "NgBTr1gwQfvh",
        "outputId": "461e938e-0b9e-4bb4-f799-9c5d6466e919"
      },
      "execution_count": null,
      "outputs": [
        {
          "output_type": "stream",
          "name": "stdout",
          "text": [
            "\n",
            "All words:638588, Unknown:98766, UnknownCorrected:532(0.538646902780309%), UnknownTypesCorrected:4, UnknownPoSCorrected:532\n",
            "\n",
            "Unknown before update:98766(15.46631004654018)%; Unknown after update:98234(15.383001246500092)%; Change:532(0.08330880004008834)%\n"
          ]
        }
      ]
    },
    {
      "cell_type": "code",
      "source": [
        "TupleStatR6, DReplacementsR6 = applyCorrections('/content/specialised-corpora-s05-cVertSC/cRechtswissenschaft.vert', '/content/specialised-corpora-s06-cVertOwn/cRechtswissenschaft.vert', DOwnRechtLem, DOwnRechtPoS)\n",
        "reportStatistics(TupleStatR6)\n",
        "printFrqDict(DReplacementsR6, '/content/specialised-corpora-s06-cVertOwn/cRechtswissenschaft-replacements.txt')\n"
      ],
      "metadata": {
        "colab": {
          "base_uri": "https://localhost:8080/"
        },
        "id": "x0qc0i7XQqfQ",
        "outputId": "ecbb6f42-aafe-41ac-b7cf-a820f4485304"
      },
      "execution_count": null,
      "outputs": [
        {
          "output_type": "stream",
          "name": "stdout",
          "text": [
            "1000000, unknownFound=163177, unknownCorrected=1750(1.072455064132813%), unknownTypesCorrected=4, unknownCorrectedPoS=1750\n",
            "\n",
            "All words:1181412, Unknown:195817, UnknownCorrected:1780(0.9090119856805079%), UnknownTypesCorrected:4, UnknownPoSCorrected:1780\n",
            "\n",
            "Unknown before update:195817(16.574827409912885)%; Unknown after update:194037(16.42416024215092)%; Change:1780(0.15066716776196698)%\n"
          ]
        }
      ]
    },
    {
      "cell_type": "markdown",
      "source": [
        "Corrected corpus is in directory\n",
        "/content/specialised-corpora-s06-cVertOwn\n"
      ],
      "metadata": {
        "id": "rcyw8gSt0ro8"
      }
    }
  ]
}