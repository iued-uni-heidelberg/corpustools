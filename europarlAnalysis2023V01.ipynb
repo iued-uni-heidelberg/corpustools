{
  "nbformat": 4,
  "nbformat_minor": 0,
  "metadata": {
    "colab": {
      "provenance": [],
      "authorship_tag": "ABX9TyO8tTrc6/41B59x6xB7tu7S",
      "include_colab_link": true
    },
    "kernelspec": {
      "name": "python3",
      "display_name": "Python 3"
    },
    "language_info": {
      "name": "python"
    }
  },
  "cells": [
    {
      "cell_type": "markdown",
      "metadata": {
        "id": "view-in-github",
        "colab_type": "text"
      },
      "source": [
        "<a href=\"https://colab.research.google.com/github/iued-uni-heidelberg/corpustools/blob/main/europarlAnalysis2023V01.ipynb\" target=\"_parent\"><img src=\"https://colab.research.google.com/assets/colab-badge.svg\" alt=\"Open In Colab\"/></a>"
      ]
    },
    {
      "cell_type": "markdown",
      "source": [
        "# Analysing Europarl corpora: directionality in translation\n",
        "## Discovering translation parameter in original vs. translated corpora"
      ],
      "metadata": {
        "id": "_fAptxiKWpvH"
      }
    },
    {
      "cell_type": "code",
      "execution_count": null,
      "metadata": {
        "id": "PkEzhCUxWdA0"
      },
      "outputs": [],
      "source": [
        "%%bash\n",
        "# dowloading datasets\n",
        "wget https://heibox.uni-heidelberg.de/f/a1cb95b59a404c1998ab/?dl=1\n",
        "mv index.html?dl=1 ep_org_de.tgz\n",
        "wget https://heibox.uni-heidelberg.de/f/ad00fed92da841198943/?dl=1\n",
        "mv index.html?dl=1 ep_org_en.tgz\n",
        "wget https://heibox.uni-heidelberg.de/f/b4913557be5b44dba797/?dl=1\n",
        "mv index.html?dl=1 ep_trans_de_en.tgz\n",
        "wget https://heibox.uni-heidelberg.de/f/7d1f642beb434d4a8878/?dl=1\n",
        "mv index.html?dl=1 ep_trans_en_de.tgz"
      ]
    },
    {
      "cell_type": "markdown",
      "source": [
        "## Original and translation corpora"
      ],
      "metadata": {
        "id": "yL48o6qzWoYH"
      }
    },
    {
      "cell_type": "code",
      "source": [
        "%%bash\n",
        "ls ./"
      ],
      "metadata": {
        "colab": {
          "base_uri": "https://localhost:8080/"
        },
        "id": "tCUDcKFuYTno",
        "outputId": "5ebd62a2-bb32-4f7f-e7a4-613156d477fc"
      },
      "execution_count": 4,
      "outputs": [
        {
          "output_type": "stream",
          "name": "stdout",
          "text": [
            "ep_org_de.tgz\n",
            "ep_org_en.tgz\n",
            "ep_trans_de_en.tgz\n",
            "ep_trans_en_de.tgz\n",
            "sample_data\n"
          ]
        }
      ]
    },
    {
      "cell_type": "code",
      "source": [
        "%%bash\n",
        "tar xvzf ep_org_de.tgz\n",
        "tar xvzf ep_org_en.tgz\n",
        "tar xvzf ep_trans_de_en.tgz\n",
        "tar xvzf ep_trans_en_de.tgz"
      ],
      "metadata": {
        "id": "68rHSjARYb0m"
      },
      "execution_count": null,
      "outputs": []
    },
    {
      "cell_type": "code",
      "source": [
        "%%bash\n",
        "cat ep_org_de/* >ep_org_de.vert\n",
        "cat ep_org_en/* >ep_org_en.vert\n",
        "cat ep_trans_de_en/* >ep_trans_de_en.vert\n",
        "cat ep_trans_en_de/* >ep_trans_en_de.vert\n"
      ],
      "metadata": {
        "id": "Xfv2dI98chao"
      },
      "execution_count": 6,
      "outputs": []
    },
    {
      "cell_type": "code",
      "source": [
        "%%bash\n",
        "wc ep_org_de.vert\n",
        "wc ep_org_en.vert\n",
        "wc ep_trans_de_en.vert\n",
        "wc ep_trans_en_de.vert\n"
      ],
      "metadata": {
        "colab": {
          "base_uri": "https://localhost:8080/"
        },
        "id": "5pcdihnWdACx",
        "outputId": "fa5aa919-5115-48bb-e6ec-2098ea4a8396"
      },
      "execution_count": 7,
      "outputs": [
        {
          "output_type": "stream",
          "name": "stdout",
          "text": [
            " 4616795 13890492 83988042 ep_org_de.vert\n",
            " 4657686 14017453 71587447 ep_org_en.vert\n",
            " 5161989 15526775 78117513 ep_trans_de_en.vert\n",
            " 4568156 13747601 84879715 ep_trans_en_de.vert\n"
          ]
        }
      ]
    },
    {
      "cell_type": "code",
      "source": [
        "%%bash\n",
        "wc *.vert\n"
      ],
      "metadata": {
        "colab": {
          "base_uri": "https://localhost:8080/"
        },
        "id": "HJX4scWMdliN",
        "outputId": "8340e815-a899-4496-bdba-bc48c5b85de2"
      },
      "execution_count": 8,
      "outputs": [
        {
          "output_type": "stream",
          "name": "stdout",
          "text": [
            "  4616795  13890492  83988042 ep_org_de.vert\n",
            "  4657686  14017453  71587447 ep_org_en.vert\n",
            "  5161989  15526775  78117513 ep_trans_de_en.vert\n",
            "  4568156  13747601  84879715 ep_trans_en_de.vert\n",
            " 19004626  57182321 318572717 total\n"
          ]
        }
      ]
    },
    {
      "cell_type": "code",
      "source": [
        "!head -n 40 ep_org_de.vert"
      ],
      "metadata": {
        "colab": {
          "base_uri": "https://localhost:8080/"
        },
        "id": "HsPcfGZkgXuw",
        "outputId": "4ce05c89-efaa-43d8-f2b3-332abdfa9ffd"
      },
      "execution_count": 9,
      "outputs": [
        {
          "output_type": "stream",
          "name": "stdout",
          "text": [
            "<session date=\"1996_04_15\" year=\"1996\" year_month=\"1996_04\">\n",
            "<chapter headline=\"Arbeitsplan&#10;      \" id=\"1996_04_15_4\" language=\"de\">\n",
            "<turn id=\"1996_04_15_4_5\">\n",
            "<speaker country=\"DE\" forename=\"Claudia\" group=\"V\" id=\"2046\" language=\"de\" name=\"Roth\" president=\"no\" surname=\"Roth\">\n",
            "<text bare_language=\"de\" id=\"1996_04_15_4_5_1\" language=\"org_de\" type=\"speech\">\n",
            "Herr\tNN\tHerr\n",
            "Präsident\tNN\tPräsident\n",
            ",\t$,\t,\n",
            "liebe\tVVFIN\tlieb\n",
            "Kolleginnen\tNN\tKollegin\n",
            "und\tKON\tund\n",
            "Kollegen\tNN\tKollege\n",
            "!\t$.\t!\n",
            "Ich\tPPER\tich\n",
            "halte\tVVFIN\thalte\n",
            "es\tPPER\tich\n",
            "für\tAPPR\tfür\n",
            "wichtig\tADJD\twichtig\n",
            ",\t$,\t,\n",
            "daß\tKOUS\tdaß\n",
            "wir\tPPER\tich\n",
            "diese\tPDAT\tdies\n",
            "Woche\tNN\tWoche\n",
            "über\tAPPR\tüber\n",
            "die\tART\tder\n",
            "Situation\tNN\tSituation\n",
            "im\tAPPRART\tim\n",
            "Nahen\tADJA\tNahe\n",
            "Osten\tNN\tOsten\n",
            "reden\tVVINF\treden\n",
            ".\t$.\t.\n",
            "Darin\tPROAV\tDarin\n",
            "sind\tVAFIN\tsein\n",
            "wir\tPPER\tich\n",
            "uns\tPPER\tsich\n",
            "alle\tPIS\tall\n",
            "einig\tADJD\teinigen\n",
            ".\t$.\t.\n",
            "Ich\tPPER\tich\n",
            "halte\tVVFIN\thalte\n"
          ]
        }
      ]
    },
    {
      "cell_type": "code",
      "source": [
        "!awk -F '\\t' '{if($0 ~ /^</){printf \"%s\\n\", $0}else if(NF==3){j++; printf \"%s \", $3}} END{print j+0  > \"/dev/stderr\" }' <ep_org_de.vert >ep_org_de_lem.txt"
      ],
      "metadata": {
        "colab": {
          "base_uri": "https://localhost:8080/"
        },
        "id": "k1-oIEZTeO6S",
        "outputId": "8ec528d7-dafe-43e0-9126-78e5b8b6c38c"
      },
      "execution_count": 11,
      "outputs": [
        {
          "output_type": "stream",
          "name": "stdout",
          "text": [
            "4450075\n"
          ]
        }
      ]
    },
    {
      "cell_type": "code",
      "source": [
        "!head -n 40 /content/ep_org_de_lem.txt\n",
        "!wc /content/ep_org_de_lem.txt"
      ],
      "metadata": {
        "colab": {
          "base_uri": "https://localhost:8080/"
        },
        "id": "N3iEXABBip1w",
        "outputId": "a3a5fc31-fab0-453e-86a5-6a7cd80d6ba3"
      },
      "execution_count": 13,
      "outputs": [
        {
          "output_type": "stream",
          "name": "stdout",
          "text": [
            "<session date=\"1996_04_15\" year=\"1996\" year_month=\"1996_04\">\n",
            "<chapter headline=\"Arbeitsplan&#10;      \" id=\"1996_04_15_4\" language=\"de\">\n",
            "<turn id=\"1996_04_15_4_5\">\n",
            "<speaker country=\"DE\" forename=\"Claudia\" group=\"V\" id=\"2046\" language=\"de\" name=\"Roth\" president=\"no\" surname=\"Roth\">\n",
            "<text bare_language=\"de\" id=\"1996_04_15_4_5_1\" language=\"org_de\" type=\"speech\">\n",
            "Herr Präsident , lieb Kollegin und Kollege ! ich halte ich für wichtig , daß ich dies Woche über der Situation im Nahe Osten reden . Darin sein ich sich all einigen . ich halte ich aber für genauso wichtig und notwendig , daß ich dies Woche über Tschernobyl reden . ich können dies Vorschlag nicht nachvollziehen . der ganze Welt reden über der zehnten Jahrestag . In Wien geben ich einen groß Konferenz . ich geben einen Tribunal . ich aber sagen , ich verschieben der auf irgendwann einmal . ich halte ich wirklich für einen Armutszeugnis der Parlament , wenn ich am Mittwoch nicht darüber reden . </text>\n",
            "<text bare_language=\"de\" id=\"1996_04_15_4_5_2\" language=\"org_de\" type=\"speech\">\n",
            "ich dürfen nicht der Vorschlag , der raten in dies Woche zu bitten , über der Situation im Nahe Osten zu berichten und mit sich darüber zu debattieren , in Konkurrenz zu Tschernobyl stellen und dabei Tschernobyl hintansetzen ! </text>\n",
            "<text bare_language=\"de\" id=\"1996_04_15_4_5_3\" language=\"org_de\" type=\"speech\">\n",
            "ich geben verschieden ander Möglichkeit . ich können am Mittwoch vormittag der raten dazu hören , aber bitte doch nicht erst in einer Woche . Jetzt , da der ganze Welt über Tschernobyl und der Auswirkung dies Katastrophe reden , können ich als Parlament nicht sagen , ich halten sich zurück und sagen nichts dazu ! </text>\n",
            "</speaker>\n",
            "</turn>\n",
            "</chapter>\n",
            "<chapter headline=\"SYNERGY-Programm&#10;      \" id=\"1996_04_15_6\" language=\"de\">\n",
            "<turn id=\"1996_04_15_6_5\">\n",
            "<speaker country=\"DE\" forename=\"Bernd\" group=\"SD\" id=\"1352\" language=\"de\" name=\"Lange\" president=\"no\" surname=\"Lange\">\n",
            "<text bare_language=\"de\" id=\"1996_04_15_6_5_1\" language=\"org_de\" type=\"speech\">\n",
            "Herr Präsident , lieb Kollegin und Kollege , Herr Kommissar ! In der Tat sein der erste schreiten immer der schwierigste , aber ich müssen ich jetzt tun , weil ich mit der bisherig Energiepolitik weltweit nicht so weitergehen können . ich brauchen einen Energiewende . </text>\n",
            "<text bare_language=\"de\" id=\"1996_04_15_6_5_2\" language=\"org_de\" type=\"speech\">\n",
            "Drei Aspekt sein hier kurz nennen . Erstens : der 25 Milliarde Tonne CO2 Emission , der ich jährlich in der Luft pusten , belasten sich Klima und vernichten mein natürlich Lebensgrundlagen . Zweitens : Auch der Weg der Kernenergie sein begrenzen . Schon jetzt geben ich 120.000 Tonne radioaktiv Müll , und kein weiß , was damit passieren sollen . Drittens : Natürlich geben ich ein wachsend Energiebedarf , weil all Mensch auf dies erden ein Anspruch auf Lebensqualität haben . </text>\n",
            "<text bare_language=\"de\" id=\"1996_04_15_6_5_3\" language=\"org_de\" type=\"speech\">\n",
            "ich brauchen daher einen Energiewende , und dies sein global Problem , der ich nur global bewältigen können , indem ich zusammenarbeiten . daher sein der Ansatz der Kommission , einen Strategie der grenzüberschreitend Energiezusammenarbeit zu entwickeln , wirklich zu begrüßen . Allerdings muß einen solch Programm mit immerhin 50 Million ECU auch bestimmen Anforderung genügen . ich muß deutlich werden , was für einen Strategie dahinter stecken . </text>\n",
            "<text bare_language=\"de\" id=\"1996_04_15_6_5_4\" language=\"org_de\" type=\"speech\">\n",
            "Dabei sein sich drei punkten besonders wichtig . Zum ein sein sich wichtig , daß in einer Anhang deutlich werden , in welch Richtung der Projekt laufen sollen . Ein abstrakt Programm ins Leben zu rufen und sich dann wie ich einen deutsch Fußballtrainer einmal formulieren haben , nach der Motto zu verhalten , „ schaun mer mal “ , können ich nicht akzeptieren . ich müssen genau wissen , welch Maßnahme wie umsetzen werden . Genauso wichtig wie der Anhang sein daher , daß ich dies Programm kontinuierlich aufarbeiten und kontinuierlich darüber Bericht erstatten werden , welch Aktivität entfalten werden sein . </text>\n",
            "<text bare_language=\"de\" id=\"1996_04_15_6_5_5\" language=\"org_de\" type=\"speech\">\n",
            "Zweiter Punkt : ich denken , daß dies 50 Million ECU angesichts der global Problem natürlich hinten und vorne nicht ausreichen . Deswegen können ich damit nicht alle machen und müssen sich auf bestimmen Bereich konzentrieren . ich denken hier an zwei wichtig Aspekt : der Entfaltung regenerativ Energie und der Entfaltung der rationell Energienutzung . ander Zielsetzung müssen zurückstehen . Auch der Verbilligung der Energie oder der Stärkung der global Position der Energiewirtschaft sein kein vordringlich zielen von SYNERGY . </text>\n",
            "<text bare_language=\"de\" id=\"1996_04_15_6_5_6\" language=\"org_de\" type=\"speech\">\n",
            "ich müssen der mitteln auf der Entwicklung lokal Ressource , auf regionale Konzept , auf der Ausbildung und Befähigung zur Energieeinsparung und auf Modell zur Energieeffizienzsteigerung konzentrieren . Natürlich geben ich Bereich mit wachsend Energiebedarf , in der gerade regenerative Energiequellen der entscheidend Lösung darstellen können . </text>\n",
            "<text bare_language=\"de\" id=\"1996_04_15_6_5_7\" language=\"org_de\" type=\"speech\">\n",
            "der zweite Punkt , auf der ich sich konzentrieren sollen , sein der Koordinierung der national Energiepolitiken . Nur wenn ich mein Zielvorstellungen koordinieren , können ich ein echt Beitrag zur Bewältigung global Risiko leisten . Dann können ich Hand in Hand arbeiten und der Energieverbrauch durch abgestimmt Aktion reduzieren . </text>\n",
            "<text bare_language=\"de\" id=\"1996_04_15_6_5_8\" language=\"org_de\" type=\"speech\">\n",
            "der nuklear Sicherheitspolitik können nicht zu der Schwerpunkt zählen . Zum ein geben ich in ander Programm - PHARE , TACIS und so weiter bereits einen ganze mengen Geld dafür aus . Zum zweit werden angesichts der 50 Million ECU , der sich zur Verfügung stehen , der mitteln für dies Bereich wirklich nur ein ganz , ganz klein Tropfen auf der heiß Stein bedeuten und verpuffen . Also sollen ich dies Bereich ausnehmen . </text>\n",
            "<text bare_language=\"de\" id=\"1996_04_15_6_5_9\" language=\"org_de\" type=\"speech\">\n",
            "Dritter wichtig Punkt : ich sein völlig klaren , daß ich bei dies Programm kein Überschneidung mit ander Programm der EU geben dürfen . ich wollen ja gerade SYNERGY und damit Effizienzverluste durch Überschneidung , durch unklar Struktur , durch Doppelarbeit vermeiden . SYNERGY können also ein Beitrag dazu leisten , daß der Politik der EU insgesamt abstimmen werden . </text>\n",
            "<text bare_language=\"de\" id=\"1996_04_15_6_5_10\" language=\"org_de\" type=\"speech\">\n",
            "einigen Bemerkung noch zum Schluß : der Ausschuß für Forschung , technologische Entwicklung und Energie haben auch groß Wert auf einen vernünftig Behandlung der Komitologiefrage legen . Im ursprünglich Vorschlag haben der Risiko bestehen , daß sich der Durchführung verselbständigen haben ; daher wollen ich hier einen stark Einbindung . ich geben , wie schon sagen werden , Vorläuferprogramme dies SYNERGY-Projektes . Sinnvoll sein ich natürlich sein , vor der Ausformulierung dies mehrjährig Programm einen konsistente Evaluierung der vorherig Projekt und berichten vornehmen . der haben leider fehlen . Angesichts der Wichtigkeit der Anstrengung halte ich ich jedoch für rechtfertigen , daß der Parlament jetzt trotzdem grün Licht geben . Allerdings sein für sich Grundvoraussetzung für einen Zustimmung , daß der Anhang und der Tabelle in dies Programm aufnehmen werden . daher mögen ich der Kommission fragen , ob ich bereiten sein , dies Vorschlag , der im Ausschuß einstimmig verabschieden werden sein , zu unterstützen . </text>\n",
            "<text bare_language=\"de\" id=\"1996_04_15_6_5_11\" language=\"org_de\" type=\"speech\">\n",
            "Im Ministerrat , lieb Kollegin und Kollege , bewegen sich in dies existentiell Frage einer Energiewende zur Zeit leider gar nichts . THERMIE II liegen auf eisen , gegen SAVE geben ich Widerstand , gegen SYNERGY geben ich Widerstand , der Frage einer ökologisch und arbeitsplatzschaffenden Steuerreform werden scheibchenweise zurückdrängen . Dabei brauchen ich - und dies sein noch einmal an der Ministerrat richten - gerade Bewegung und nicht Stillstand . In der Tat , der erste schreiten sein der schwierigste . Lassen ich sich aber gemeinsam dies schreiten wagen ! </text>\n",
            "</speaker>\n",
            "</turn>\n",
            "  166720  4990342 35935708 /content/ep_org_de_lem.txt\n"
          ]
        }
      ]
    }
  ]
}