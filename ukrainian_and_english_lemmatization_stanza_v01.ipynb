{
  "nbformat": 4,
  "nbformat_minor": 0,
  "metadata": {
    "colab": {
      "provenance": [],
      "authorship_tag": "ABX9TyP2t1kyVwDXj6BUV+H7oV9t",
      "include_colab_link": true
    },
    "kernelspec": {
      "name": "python3",
      "display_name": "Python 3"
    },
    "language_info": {
      "name": "python"
    }
  },
  "cells": [
    {
      "cell_type": "markdown",
      "metadata": {
        "id": "view-in-github",
        "colab_type": "text"
      },
      "source": [
        "<a href=\"https://colab.research.google.com/github/iued-uni-heidelberg/corpustools/blob/main/ukrainian_and_english_lemmatization_stanza_v01.ipynb\" target=\"_parent\"><img src=\"https://colab.research.google.com/assets/colab-badge.svg\" alt=\"Open In Colab\"/></a>"
      ]
    },
    {
      "cell_type": "code",
      "execution_count": null,
      "metadata": {
        "id": "GdzVArLUF3cb"
      },
      "outputs": [],
      "source": [
        "!pip install spacy-stanza"
      ]
    },
    {
      "cell_type": "code",
      "source": [
        "import stanza\n",
        "import spacy_stanza\n"
      ],
      "metadata": {
        "id": "-VN9g4N4GAR2"
      },
      "execution_count": 2,
      "outputs": []
    },
    {
      "cell_type": "code",
      "source": [
        "stanza.download(\"en\")\n",
        "# stanza.download(\"hy\")\n",
        "stanza.download(\"uk\")\n",
        "# stanza.download(\"ka\")"
      ],
      "metadata": {
        "id": "ZqTuOnDOe7wH"
      },
      "execution_count": null,
      "outputs": []
    },
    {
      "cell_type": "code",
      "source": [
        "nlp = spacy_stanza.load_pipeline('en')\n",
        "# nlp_hy = spacy_stanza.load_pipeline('hy')\n",
        "nlp_uk = spacy_stanza.load_pipeline('uk')\n",
        "# nlp_ka = spacy_stanza.load_pipeline('ka')"
      ],
      "metadata": {
        "id": "xs4PQ6RyeVVg"
      },
      "execution_count": null,
      "outputs": []
    },
    {
      "cell_type": "code",
      "source": [
        "def parseFile(iFileName, oFileName, nlp_model = nlp, information = 'short'):\n",
        "    FOutNER = open(oFileName + '-ner.txt', 'w')\n",
        "    with open(iFileName, 'r', encoding='utf-8') as infile, open(oFileName, 'w') as outfile:\n",
        "        # read sample.txt an and write its content into sample2.txt\n",
        "        if information == 'full':\n",
        "            outfile.write(\"{token.idx}\\t{token.text}\\t{token.pos_}\\t{token.lemma_}\\t{token.dep_}\\t{parentLem}\\t{LAncestors}\\n\")\n",
        "        else:\n",
        "            outfile.write(\"{token.idx}\\t{token.text}\\t{token.lemma_}\\t{token.pos_}\\t{token.tag_}\\t{token.morph}\\t{parent.idx}\\t{parent.lemma_}\\n\")\n",
        "\n",
        "        c = 0\n",
        "        ExampleToken = None\n",
        "        for line in infile:\n",
        "            c+=1\n",
        "            if c%10 == 0: print(str(c))\n",
        "            # if c==10: break\n",
        "\n",
        "            line = line.strip()\n",
        "            doc = nlp_model(line)\n",
        "            # outfile.write(line + '\\n')\n",
        "            k = 0\n",
        "            LNER = doc.ents\n",
        "            FOutNER.write(f\"{type(LNER)}\\n\")\n",
        "            FOutNER.write(f\"{LNER}\\n\")\n",
        "            for ent in LNER:\n",
        "                FOutNER.write(f\"\\t{ent.text}\\t{ent.label_}\\n\")\n",
        "\n",
        "            FOutNER.write(f\"\\n\")\n",
        "            for token in doc:\n",
        "                k+=1\n",
        "                if k==10: ExampleToken = token\n",
        "\n",
        "                LAncestors = list(token.ancestors)\n",
        "                # print(str(LAncestors))\n",
        "                try:\n",
        "                    SLAncestors = str(list(token.ancestors))\n",
        "                    parent = LAncestors[0]\n",
        "                    parentLem = parent.lemma_\n",
        "                    parentIdx = parent.idx\n",
        "                except:\n",
        "                    parent = None\n",
        "                    parentLem = \"NONE\"\n",
        "                    parentIdx = \"NONE\"\n",
        "\n",
        "                if information == 'full':\n",
        "                    outfile.write(f\"{token.idx}\\t{token.text}\\t{token.lemma_}\\t{token.pos_}\\t{token.dep_}\\t{parentLem}\\t{SLAncestors}\\n\")\n",
        "                else:\n",
        "                    outfile.write(f\"{token.idx}\\t{token.text}\\t{token.lemma_}\\t{token.pos_}\\t{token.tag_}\\t{token.morph}\\t{parentIdx}\\t{parentLem}\\t{token.ent_type_}\\t{token.ent_type}\\n\")\n",
        "\n",
        "    FOutNER.flush()\n",
        "    FOutNER.close()\n",
        "\n",
        "    return ExampleToken\n"
      ],
      "metadata": {
        "id": "QT0tpHwjY4O5"
      },
      "execution_count": 15,
      "outputs": []
    },
    {
      "cell_type": "code",
      "source": [
        "!wget https://heibox.uni-heidelberg.de/f/7a091a3c0372428a9aa2/?dl=1"
      ],
      "metadata": {
        "id": "NlHpAFfyJTu2"
      },
      "execution_count": null,
      "outputs": []
    },
    {
      "cell_type": "code",
      "source": [
        "!mv /content/index.html?dl=1 udhr-all-languages.zip\n",
        "!unzip udhr-all-languages.zip"
      ],
      "metadata": {
        "id": "5XhAw9OYJZdQ"
      },
      "execution_count": null,
      "outputs": []
    },
    {
      "cell_type": "code",
      "source": [
        "ExampleToken = parseFile('/content/udhr-all-languages/udhr_eng.txt', '/content/udhr-en-analysis2.txt', nlp, information = 'short')"
      ],
      "metadata": {
        "id": "rgdb1fl3a6F4"
      },
      "execution_count": null,
      "outputs": []
    },
    {
      "cell_type": "code",
      "source": [
        "ExampleTokenUK = parseFile('/content/udhr-all-languages/udhr_ukr.txt', '/content/udhr-uk-analysis2.txt', nlp_uk, information = 'short')"
      ],
      "metadata": {
        "id": "3rF9XvaDfidH"
      },
      "execution_count": null,
      "outputs": []
    },
    {
      "cell_type": "code",
      "source": [
        "# optional\n",
        "ExampleToken"
      ],
      "metadata": {
        "colab": {
          "base_uri": "https://localhost:8080/"
        },
        "id": "ppiwlaQG37-M",
        "outputId": "dc80ccb9-9436-457b-cb2c-84e83f0a5824"
      },
      "execution_count": null,
      "outputs": [
        {
          "output_type": "execute_result",
          "data": {
            "text/plain": [
              "for"
            ]
          },
          "metadata": {},
          "execution_count": 89
        }
      ]
    },
    {
      "cell_type": "code",
      "source": [
        "# optional - to see all the functions of the object\n",
        "ExampleToken.__dir__()"
      ],
      "metadata": {
        "colab": {
          "base_uri": "https://localhost:8080/"
        },
        "id": "Lco2fl9U4uQ_",
        "outputId": "3fa76b67-e059-4850-977e-712ea72f3037"
      },
      "execution_count": null,
      "outputs": [
        {
          "output_type": "execute_result",
          "data": {
            "text/plain": [
              "['__new__',\n",
              " '__repr__',\n",
              " '__hash__',\n",
              " '__str__',\n",
              " '__lt__',\n",
              " '__le__',\n",
              " '__eq__',\n",
              " '__ne__',\n",
              " '__gt__',\n",
              " '__ge__',\n",
              " '__len__',\n",
              " 'set_extension',\n",
              " 'get_extension',\n",
              " 'has_extension',\n",
              " 'remove_extension',\n",
              " '__unicode__',\n",
              " '__bytes__',\n",
              " '__reduce__',\n",
              " 'check_flag',\n",
              " 'nbor',\n",
              " 'similarity',\n",
              " 'has_morph',\n",
              " 'set_morph',\n",
              " 'is_ancestor',\n",
              " 'has_head',\n",
              " 'iob_strings',\n",
              " 'has_dep',\n",
              " '_',\n",
              " 'morph',\n",
              " 'lex',\n",
              " 'lex_id',\n",
              " 'rank',\n",
              " 'text',\n",
              " 'text_with_ws',\n",
              " 'prob',\n",
              " 'sentiment',\n",
              " 'lang',\n",
              " 'idx',\n",
              " 'cluster',\n",
              " 'orth',\n",
              " 'lower',\n",
              " 'norm',\n",
              " 'shape',\n",
              " 'prefix',\n",
              " 'suffix',\n",
              " 'lemma',\n",
              " 'pos',\n",
              " 'tag',\n",
              " 'dep',\n",
              " 'has_vector',\n",
              " 'vector',\n",
              " 'vector_norm',\n",
              " 'tensor',\n",
              " 'n_lefts',\n",
              " 'n_rights',\n",
              " 'sent',\n",
              " 'sent_start',\n",
              " 'is_sent_start',\n",
              " 'is_sent_end',\n",
              " 'lefts',\n",
              " 'rights',\n",
              " 'children',\n",
              " 'subtree',\n",
              " 'left_edge',\n",
              " 'right_edge',\n",
              " 'ancestors',\n",
              " 'head',\n",
              " 'conjuncts',\n",
              " 'ent_type',\n",
              " 'ent_type_',\n",
              " 'ent_iob',\n",
              " 'ent_iob_',\n",
              " 'ent_id',\n",
              " 'ent_id_',\n",
              " 'ent_kb_id',\n",
              " 'ent_kb_id_',\n",
              " 'whitespace_',\n",
              " 'orth_',\n",
              " 'lower_',\n",
              " 'norm_',\n",
              " 'shape_',\n",
              " 'prefix_',\n",
              " 'suffix_',\n",
              " 'lang_',\n",
              " 'lemma_',\n",
              " 'pos_',\n",
              " 'tag_',\n",
              " 'dep_',\n",
              " 'is_oov',\n",
              " 'is_stop',\n",
              " 'is_alpha',\n",
              " 'is_ascii',\n",
              " 'is_digit',\n",
              " 'is_lower',\n",
              " 'is_upper',\n",
              " 'is_title',\n",
              " 'is_punct',\n",
              " 'is_space',\n",
              " 'is_bracket',\n",
              " 'is_quote',\n",
              " 'is_left_punct',\n",
              " 'is_right_punct',\n",
              " 'is_currency',\n",
              " 'like_url',\n",
              " 'like_num',\n",
              " 'like_email',\n",
              " 'vocab',\n",
              " 'i',\n",
              " 'doc',\n",
              " '__doc__',\n",
              " '__pyx_vtable__',\n",
              " '__getattribute__',\n",
              " '__setattr__',\n",
              " '__delattr__',\n",
              " '__init__',\n",
              " '__reduce_ex__',\n",
              " '__subclasshook__',\n",
              " '__init_subclass__',\n",
              " '__format__',\n",
              " '__sizeof__',\n",
              " '__dir__',\n",
              " '__class__']"
            ]
          },
          "metadata": {},
          "execution_count": 101
        }
      ]
    },
    {
      "cell_type": "code",
      "source": [
        "# optional\n",
        "ExampleToken.morph"
      ],
      "metadata": {
        "colab": {
          "base_uri": "https://localhost:8080/"
        },
        "id": "2fbaWAqM7kl6",
        "outputId": "59730b60-c72d-458d-b51e-e2cde3f34c8b"
      },
      "execution_count": null,
      "outputs": [
        {
          "output_type": "execute_result",
          "data": {
            "text/plain": []
          },
          "metadata": {},
          "execution_count": 97
        }
      ]
    },
    {
      "cell_type": "code",
      "source": [
        "# optional\n",
        "ExampleToken.sentiment"
      ],
      "metadata": {
        "colab": {
          "base_uri": "https://localhost:8080/"
        },
        "id": "5gMXRD-674MO",
        "outputId": "8971c770-b1b6-443c-b71e-da9649b762a6"
      },
      "execution_count": null,
      "outputs": [
        {
          "output_type": "execute_result",
          "data": {
            "text/plain": [
              "0.0"
            ]
          },
          "metadata": {},
          "execution_count": 98
        }
      ]
    },
    {
      "cell_type": "code",
      "source": [
        "# optional\n",
        "ExampleTokenUK"
      ],
      "metadata": {
        "colab": {
          "base_uri": "https://localhost:8080/"
        },
        "id": "SIz-y2uqA-4x",
        "outputId": "9c418a90-c533-40aa-c8dd-1a28f6ed0511"
      },
      "execution_count": null,
      "outputs": [
        {
          "output_type": "execute_result",
          "data": {
            "text/plain": [
              "надання"
            ]
          },
          "metadata": {},
          "execution_count": 99
        }
      ]
    },
    {
      "cell_type": "code",
      "source": [
        "# optional\n",
        "ExampleTokenUK.morph"
      ],
      "metadata": {
        "colab": {
          "base_uri": "https://localhost:8080/"
        },
        "id": "KKromkJeBAnC",
        "outputId": "ca41fdef-9d65-4d6a-d57b-d122ccea5e22"
      },
      "execution_count": null,
      "outputs": [
        {
          "output_type": "execute_result",
          "data": {
            "text/plain": [
              "Animacy=Inan|Case=Nom|Gender=Neut|Number=Sing"
            ]
          },
          "metadata": {},
          "execution_count": 100
        }
      ]
    },
    {
      "cell_type": "code",
      "source": [
        "# optional\n",
        "ExampleTokenUK.pos"
      ],
      "metadata": {
        "colab": {
          "base_uri": "https://localhost:8080/"
        },
        "id": "g4aod-AKBIEX",
        "outputId": "caa14e83-9ba2-48da-a0f0-bbf81cb608ea"
      },
      "execution_count": null,
      "outputs": [
        {
          "output_type": "execute_result",
          "data": {
            "text/plain": [
              "92"
            ]
          },
          "metadata": {},
          "execution_count": 82
        }
      ]
    },
    {
      "cell_type": "code",
      "source": [
        "# parseFile('/content/udhr-hy.txt', '/content/udhr-hy-analysis2.txt', nlp_hy)"
      ],
      "metadata": {
        "id": "GTZ_F9Mlf5E_"
      },
      "execution_count": null,
      "outputs": []
    }
  ]
}