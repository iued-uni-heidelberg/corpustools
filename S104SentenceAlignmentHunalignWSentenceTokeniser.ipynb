{
  "nbformat": 4,
  "nbformat_minor": 0,
  "metadata": {
    "colab": {
      "provenance": [],
      "include_colab_link": true
    },
    "kernelspec": {
      "name": "python3",
      "display_name": "Python 3"
    },
    "language_info": {
      "name": "python"
    }
  },
  "cells": [
    {
      "cell_type": "markdown",
      "metadata": {
        "id": "view-in-github",
        "colab_type": "text"
      },
      "source": [
        "<a href=\"https://colab.research.google.com/github/iued-uni-heidelberg/corpustools/blob/main/S104SentenceAlignmentHunalignWSentenceTokeniser.ipynb\" target=\"_parent\"><img src=\"https://colab.research.google.com/assets/colab-badge.svg\" alt=\"Open In Colab\"/></a>"
      ]
    },
    {
      "cell_type": "markdown",
      "source": [
        "# Experiments with alignment tools"
      ],
      "metadata": {
        "id": "hhDdKnVbT6Aa"
      }
    },
    {
      "cell_type": "markdown",
      "source": [
        "resources / corpora:\n",
        "https://heibox.uni-heidelberg.de/d/d65daff8341e467c82b1/\n",
        "\n",
        "\n",
        "Instructions are here:\n",
        "https://github.com/danielvarga/hunalign\n"
      ],
      "metadata": {
        "id": "iM-SQNgcjh6t"
      }
    },
    {
      "cell_type": "code",
      "execution_count": null,
      "metadata": {
        "id": "5wTTt2yCTo7U"
      },
      "outputs": [],
      "source": [
        "!git clone https://github.com/danielvarga/hunalign.git"
      ]
    },
    {
      "cell_type": "code",
      "source": [
        "%cd hunalign/src/hunalign\n",
        "!pwd"
      ],
      "metadata": {
        "id": "ZddMwgW9T5Rj",
        "outputId": "870644bf-7a10-4367-e75c-3e1d75df47ca",
        "colab": {
          "base_uri": "https://localhost:8080/"
        }
      },
      "execution_count": null,
      "outputs": [
        {
          "output_type": "stream",
          "name": "stdout",
          "text": [
            "/content/hunalign/src/hunalign\n",
            "/content/hunalign/src/hunalign\n"
          ]
        }
      ]
    },
    {
      "cell_type": "code",
      "source": [
        "!make"
      ],
      "metadata": {
        "id": "hJbwoRqGVK_O"
      },
      "execution_count": null,
      "outputs": []
    },
    {
      "cell_type": "code",
      "source": [
        "%cd /content/hunalign/\n",
        "!pwd\n",
        "!src/hunalign/hunalign data/hu-en.stem.dic examples/demo.hu.stem examples/demo.en.stem -hand=examples/demo.manual.ladder -text > /tmp/align.txt\n",
        "# !less /tmp/align.txt"
      ],
      "metadata": {
        "id": "fVz4B9KoVW7T"
      },
      "execution_count": null,
      "outputs": []
    },
    {
      "cell_type": "code",
      "source": [
        "!head --lines=20 /tmp/align.txt"
      ],
      "metadata": {
        "id": "aSfCT3TzeYfl"
      },
      "execution_count": null,
      "outputs": []
    },
    {
      "cell_type": "code",
      "source": [
        "%cd /content/\n",
        "!pwd"
      ],
      "metadata": {
        "colab": {
          "base_uri": "https://localhost:8080/"
        },
        "id": "OtZIH64gfTO6",
        "outputId": "29c36549-341c-40ea-fc3a-dcd72f212159"
      },
      "execution_count": null,
      "outputs": [
        {
          "output_type": "stream",
          "name": "stdout",
          "text": [
            "/content\n",
            "/content\n"
          ]
        }
      ]
    },
    {
      "cell_type": "code",
      "source": [
        "# downloading files - en es\n",
        "!wget https://heibox.uni-heidelberg.de/f/dc01904f8f9040a69610/?dl=1\n",
        "!mv index.html?dl=1 solar-t01-en-RE01.txt\n",
        "!wget https://heibox.uni-heidelberg.de/f/646957ccb3d24f359ed7/?dl=1\n",
        "!mv index.html?dl=1 solar-t01-es-RE01.txt"
      ],
      "metadata": {
        "id": "4C3Lu_yijc-2"
      },
      "execution_count": null,
      "outputs": []
    },
    {
      "cell_type": "code",
      "source": [
        "# downloading files - en de\n",
        "!wget https://heibox.uni-heidelberg.de/f/dc489828a2d642bfba82/?dl=1\n",
        "!mv index.html?dl=1 ab-t01-en.txt\n",
        "# English file\n",
        "!wget https://heibox.uni-heidelberg.de/f/e7e542d75d7644d1857d/?dl=1\n",
        "!mv index.html?dl=1 ab-t01-de.txt\n",
        "# Other language files"
      ],
      "metadata": {
        "id": "-irmCMkDjfjK"
      },
      "execution_count": null,
      "outputs": []
    },
    {
      "cell_type": "code",
      "source": [
        "!head --lines=20 ab-t01-en.txt"
      ],
      "metadata": {
        "id": "S7VB7wPmes6C",
        "outputId": "7f9c91de-d128-49a6-e4c4-75b9b366c43e",
        "colab": {
          "base_uri": "https://localhost:8080/"
        }
      },
      "execution_count": null,
      "outputs": [
        {
          "output_type": "stream",
          "name": "stdout",
          "text": [
            "Review article\n",
            "Blood Sugar Targets in Surgical Intensive Care\n",
            "Management and Special Considerations in Patients With Diabetes\n",
            "Dtsch Arztebl Int 2021; 118: 629-36. DOI: 10.3238/arztebl.m2021.0221\n",
            "Roth, J; Sommerfeld, O; Birkenfeld, A L; Sponholz, C; Müller, U A; von Loeffelholz, C\n",
            "ArticleAuthorsFigures & TablesReferencesMetrics\n",
            "Background: 30–80% of patients being treated in intensive care units in the perioperative period develop hyperglycemia. This stress hyperglycemia is induced and maintained by inflammatory-endocrine and iatrogenic stimuli and generally requires treatment. There is uncertainty regarding the optimal blood glucose targets for patients with diabetes mellitus.\n",
            "\n",
            "Methods: This review is based on pertinent publications retrieved by a selective search in PubMed and Google Scholar.\n",
            "\n",
            "Results: Patients in intensive care with pre-existing diabetes do not benefit from blood sugar reduction to the same extent as metabolically healthy individuals, but they, too, are exposed to a clinically relevant risk of hypoglycemia. A therapeutic range from 4.4 to 6.1 mmol/L (79–110  mg/dL) cannot be justified for patients with diabetes mellitus. The primary therapeutic strategy in the perioperative setting should be to strictly avoid hypoglycemia. Neurotoxic effects and the promotion of wound-healing disturbances are among the adverse consequences of hyperglycemia. Meta-analyses have shown that an upper blood sugar limit of 10  mmol/L (180  mg/dL) is associated with better outcomes for diabetic patients than an upper limit of less than this value. The target range of 7.8–10  mmol/L (140–180  mg/dL) proposed by specialty societies for hospitalized patients with diabetes seems to be the best compromise at present for optimizing clinical outcomes while avoiding hypoglycemia. The method of choice for achieving this goal in intensive care medicine is the continuous intravenous administration of insulin, requirng standardized, high-quality monitoring conditions.\n",
            "\n",
            "Conclusion: Optimal blood sugar control for diabetic patients in intensive care meets the dual objectives of avoiding hypoglycemia while keeping the blood glucose concentration under 10  mmol/L (180  mg/dL). Nutrition therapy in accordance with the relevant guidelines is an indispensable prerequisite.\n",
            "\n",
            "LNSLNS\n",
            "Intensive care patients frequently develop a metabolic condition known as stress-induced hyperglycemia, regardless of any pre-existing diabetes. A US American study involving 12 559 305 point-of-care measurements reported a prevalence of hyperglycemia (>10 mmol/L [>180 mg/dL]) in 46% of the intensive care patients (1). This proportion is even higher among surgically treated patients: in cardiac surgery up to 80% (2), in liver and pancreas surgery 30 and 60%, respectively (3). In the non-critical care setting, around 25% of patients are affected (4). A trauma registry-based study involving hospitalized patients with diabetes revealed uncontrolled blood sugar levels (>13.9 mmol/L [>250 mg/dL]) in >30% of cases (5). A Swedish observational study (6) identified chronic dysglycemia (HbA1c ≥ 6% or diabetes) at the time of admission in 33% of 943 intensive care unit (ICU) patients. Of these 312 patients, 27% had prediabetes (HbA1c 6.0–6.4%), 14% had undiagnosed diabetes mellitus with an HbA1c of at least 6.5%, and 59% had a history of diabetes. So, there was a combination of chronic dysglycemia and acute stress-induced hyperglycemia in one third of the intensive care unit patients. It has been shown that patients with diabetes have increased hospital morbidity and length of stay as well as increased perioperative mortality (7, 8, 9). Furthermore, diabetes is a known predictor of reduced long-term survival after sepsis (10). With intensive glucose control (i.v. insulin therapy at 6.1 mmol/L [110 mg/dL], target range 4.4–6.1 mmol/L [80–110 mg/dL], Table 1), the Belgian Leuven-I landmark study (11) reduced ICU mortality from 8 to 4.6% (number needed to treat [NNT] 30) (control group: insulin therapy at blood glucose levels >11.9 mmol/L [>215 mg/dL], target range 10–11.1 mmol/L [180–200 mg/dL]). In addition, further studies (12, 13, 14) showed a U-shaped or J-shaped curve for the association between mortality risk and blood glucose levels in critically ill patients (Figure 1). There was a similar, but flatter, curve for patients with diabetes (15, 16, 17, Figure 1). The treatment approach of intensive insulin therapy (IIT) was strictly adopted in the management of patients in need of intensive care (18, 19). The multicenter NICE-SUGAR study (20), Leuven-II (21) and other single-center randomized controlled studies (RCT) were unable to reproduce the mortality-lowering effect of IIT from the Leuven-I study (Table 1).\n",
            "\n",
            "\n",
            "Figure 1\n",
            "Association between mortality and blood glucose levels for critically ill patients. With no pre-existing diabetes mellitus, the curve shows lowest mortality in the range of normal blood glucose levels. This point is displaced towards higher blood sugar levels in diabetic patients.\n"
          ]
        }
      ]
    },
    {
      "cell_type": "code",
      "source": [
        "!head --lines=20 ab-t01-de.txt"
      ],
      "metadata": {
        "id": "84YR_aNtfmz6"
      },
      "execution_count": null,
      "outputs": []
    },
    {
      "cell_type": "code",
      "source": [
        "# detecting sentence boundaries\n",
        "import nltk\n",
        "nltk.download('punkt')\n",
        "from nltk.tokenize import sent_tokenize"
      ],
      "metadata": {
        "id": "00Y7g2qXXhSz"
      },
      "execution_count": null,
      "outputs": []
    },
    {
      "cell_type": "code",
      "source": [
        "# example for Armenian / Georgian sentence splitting if errors\n",
        "# LSent = re.split('([:;]+)')\n",
        "# ."
      ],
      "metadata": {
        "id": "h6m9gShu8OCR"
      },
      "execution_count": null,
      "outputs": []
    },
    {
      "cell_type": "code",
      "source": [
        "import re, os, sys\n",
        "def sentTokenizer(FIn, FOut):\n",
        "    for SPara in FIn:\n",
        "        SPara = SPara.strip()\n",
        "        if SPara == '': FOut.write('\\n')\n",
        "        all_sent = sent_tokenize(SPara)\n",
        "        for SSent in all_sent:\n",
        "            FOut.write(SSent + '\\n')\n",
        "    FOut.flush()"
      ],
      "metadata": {
        "id": "OHH5cAjcYG_F"
      },
      "execution_count": null,
      "outputs": []
    },
    {
      "cell_type": "code",
      "source": [
        "FIn = open('ab-t01-en.txt', 'r')\n",
        "FOut = open('ab-t01s-en.txt', 'w')\n",
        "\n",
        "# FIn = open('ab-t01-de.txt', 'r')\n",
        "# FOut = open('ab-t01s-de.txt', 'w')"
      ],
      "metadata": {
        "id": "OYDn_STYYa1w"
      },
      "execution_count": null,
      "outputs": []
    },
    {
      "cell_type": "code",
      "source": [
        "sentTokenizer(FIn, FOut)"
      ],
      "metadata": {
        "id": "goOnKdidZzHr"
      },
      "execution_count": null,
      "outputs": []
    },
    {
      "cell_type": "code",
      "source": [
        "FIn = open('ab-t01-de.txt', 'r')\n",
        "FOut = open('ab-t01s-de.txt', 'w')"
      ],
      "metadata": {
        "id": "zKlJVfDpZcMR"
      },
      "execution_count": null,
      "outputs": []
    },
    {
      "cell_type": "code",
      "source": [
        "sentTokenizer(FIn, FOut)"
      ],
      "metadata": {
        "id": "I0VdL17UZ6tm"
      },
      "execution_count": null,
      "outputs": []
    },
    {
      "cell_type": "code",
      "source": [],
      "metadata": {
        "id": "i35YQ9WTZilz"
      },
      "execution_count": null,
      "outputs": []
    },
    {
      "cell_type": "code",
      "source": [
        "!./hunalign/src/hunalign/hunalign -text -realign -autodict=es2enAutodict.txt ./hunalign/data/null.dic solar-t01-en-RE01.txt solar-t01-es-RE01.txt > solar-t01-en2esAlignment.tsv"
      ],
      "metadata": {
        "id": "YbI3WH-WccuO"
      },
      "execution_count": null,
      "outputs": []
    },
    {
      "cell_type": "code",
      "source": [
        "# !./hunalign/src/hunalign/hunalign -text -realign -autodict=de2enAutodict.txt ./hunalign/data/null.dic ab-t01-en.txt ab-t01-de.txt > ab-t01-en2de.tsv\n",
        "!./hunalign/src/hunalign/hunalign -text -realign -autodict=de2enAutodict.txt ./hunalign/data/null.dic ab-t01s-en.txt ab-t01s-de.txt > ab-t01s-en2de.tsv\n"
      ],
      "metadata": {
        "id": "JBo3h8SMdZfv"
      },
      "execution_count": null,
      "outputs": []
    },
    {
      "cell_type": "code",
      "source": [
        "# copy dictionaries for editing\n",
        "!cp es2enAutodict.txt es2enAutodict.dic\n",
        "!cp de2enAutodict.txt de2enAutodict.dic"
      ],
      "metadata": {
        "id": "V_gxwlekhkZW"
      },
      "execution_count": null,
      "outputs": []
    },
    {
      "cell_type": "code",
      "source": [
        "# you can edit dictionaries and try realigning tests if results are not good, like in this example:\n",
        "!./hunalign/src/hunalign/hunalign -text -realign -autodict=es2enAutodict2.txt es2enAutodict.txt solar-t01-en-RE01.txt solar-t01-es-RE01.txt > solar-t01-en2esAlignment2.txt"
      ],
      "metadata": {
        "id": "yh_I8HhHivWJ"
      },
      "execution_count": null,
      "outputs": []
    },
    {
      "cell_type": "code",
      "source": [
        "%cd /content/"
      ],
      "metadata": {
        "id": "4uqIFYZHlaTo",
        "colab": {
          "base_uri": "https://localhost:8080/"
        },
        "outputId": "66d58bc2-cce4-4e57-b1d2-7f62bfe44a49"
      },
      "execution_count": null,
      "outputs": [
        {
          "output_type": "stream",
          "name": "stdout",
          "text": [
            "/content\n"
          ]
        }
      ]
    },
    {
      "cell_type": "markdown",
      "source": [
        "# Converting tsv to tmx"
      ],
      "metadata": {
        "id": "vYPVNJE9naFM"
      }
    },
    {
      "cell_type": "code",
      "source": [
        "# change names of files accordingly (input and output)\n",
        "import re, os, sys\n",
        "# FIn = open('ab-t01-en2de.tsv', 'r')\n",
        "# FOut = open('ab-t01-en2de.tmx', 'w')\n",
        "\n",
        "FIn = open('ab-t01s-en2de.tsv', 'r')\n",
        "FOut = open('ab-t01s-en2de.tmx', 'w')\n",
        "\n",
        "SrcLang = 'en'\n",
        "TgtLang = 'de'\n",
        "\n",
        "SLineHead = '''<?xml version=\"1.0\" encoding=\"UTF-8\"?>\n",
        "<!DOCTYPE tmx SYSTEM \"tmx14.dtd\">\n",
        "<tmx version=\"1.4\">\n",
        "  <header creationtool=\"OmegaT\" o-tmf=\"OmegaT TMX\" adminlang=\"EN-US\" datatype=\"plaintext\" creationtoolversion=\"5.7.0_0_8ae1ecfb\" segtype=\"sentence\" srclang=\"en\"/>\n",
        "  <body>\n",
        "'''\n",
        "SLineEnd = '''\n",
        "  </body>\n",
        "</tmx>\n",
        "'''\n",
        "\n",
        "FOut.write(SLineHead)\n",
        "for SLine in FIn:\n",
        "    SLine = SLine.strip()\n",
        "    LLine = re.split('\\t', SLine)\n",
        "    try:\n",
        "        SSrcLang = LLine[0]\n",
        "        STgtLang = LLine[1]\n",
        "\n",
        "        STuvSLTag = f'      <tuv xml:lang=\"{SrcLang}\">'\n",
        "        STuvTLTag = f'      <tuv xml:lang=\"{TgtLang}\">'\n",
        "\n",
        "        STuvSL = STuvSLTag + '''\\n        <seg>''' + SSrcLang + '''</seg>\\n''' + '''      </tuv>\\n'''\n",
        "        STuvTL = STuvTLTag + '''\\n        <seg>''' + STgtLang + '''</seg>\\n''' + '''      </tuv>\\n'''\n",
        "\n",
        "        STuv = '''    <tu>\\n''' + STuvSL + STuvTL + '''    </tu>\\n'''\n",
        "        FOut.write(STuv)\n",
        "    except:\n",
        "        continue\n",
        "FOut.write(SLineEnd)\n",
        "FOut.flush()"
      ],
      "metadata": {
        "id": "ZzYUz9XineGH"
      },
      "execution_count": null,
      "outputs": []
    }
  ]
}