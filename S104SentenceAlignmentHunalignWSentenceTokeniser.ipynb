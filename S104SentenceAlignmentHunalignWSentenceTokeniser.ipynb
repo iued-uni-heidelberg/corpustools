{
  "nbformat": 4,
  "nbformat_minor": 0,
  "metadata": {
    "colab": {
      "provenance": [],
      "include_colab_link": true
    },
    "kernelspec": {
      "name": "python3",
      "display_name": "Python 3"
    },
    "language_info": {
      "name": "python"
    }
  },
  "cells": [
    {
      "cell_type": "markdown",
      "metadata": {
        "id": "view-in-github",
        "colab_type": "text"
      },
      "source": [
        "<a href=\"https://colab.research.google.com/github/iued-uni-heidelberg/corpustools/blob/main/S104SentenceAlignmentHunalignWSentenceTokeniser.ipynb\" target=\"_parent\"><img src=\"https://colab.research.google.com/assets/colab-badge.svg\" alt=\"Open In Colab\"/></a>"
      ]
    },
    {
      "cell_type": "markdown",
      "source": [
        "# Experiments with alignment tools"
      ],
      "metadata": {
        "id": "hhDdKnVbT6Aa"
      }
    },
    {
      "cell_type": "markdown",
      "source": [
        "resources / corpora:\n",
        "https://heibox.uni-heidelberg.de/d/d65daff8341e467c82b1/\n",
        "\n",
        "\n",
        "Instructions are here:\n",
        "https://github.com/danielvarga/hunalign\n"
      ],
      "metadata": {
        "id": "iM-SQNgcjh6t"
      }
    },
    {
      "cell_type": "code",
      "execution_count": 1,
      "metadata": {
        "id": "5wTTt2yCTo7U",
        "colab": {
          "base_uri": "https://localhost:8080/"
        },
        "outputId": "e77b77c4-0986-4d5b-f4a1-459c43770332"
      },
      "outputs": [
        {
          "output_type": "stream",
          "name": "stdout",
          "text": [
            "Cloning into 'hunalign'...\n",
            "remote: Enumerating objects: 397, done.\u001b[K\n",
            "remote: Counting objects: 100% (84/84), done.\u001b[K\n",
            "remote: Compressing objects: 100% (7/7), done.\u001b[K\n",
            "remote: Total 397 (delta 79), reused 77 (delta 77), pack-reused 313\u001b[K\n",
            "Receiving objects: 100% (397/397), 7.60 MiB | 14.68 MiB/s, done.\n",
            "Resolving deltas: 100% (192/192), done.\n"
          ]
        }
      ],
      "source": [
        "!git clone https://github.com/danielvarga/hunalign.git"
      ]
    },
    {
      "cell_type": "code",
      "source": [
        "%cd hunalign/src/hunalign\n",
        "!pwd"
      ],
      "metadata": {
        "id": "ZddMwgW9T5Rj",
        "outputId": "05357081-3135-4024-a070-74bd617b76c1",
        "colab": {
          "base_uri": "https://localhost:8080/"
        }
      },
      "execution_count": 2,
      "outputs": [
        {
          "output_type": "stream",
          "name": "stdout",
          "text": [
            "/content/hunalign/src/hunalign\n",
            "/content/hunalign/src/hunalign\n"
          ]
        }
      ]
    },
    {
      "cell_type": "code",
      "source": [
        "!make"
      ],
      "metadata": {
        "id": "hJbwoRqGVK_O",
        "colab": {
          "base_uri": "https://localhost:8080/"
        },
        "outputId": "3a6a7de2-725b-4ee4-e6be-dcd4acaa7fe8"
      },
      "execution_count": 3,
      "outputs": [
        {
          "output_type": "stream",
          "name": "stdout",
          "text": [
            "g++  -O9 -ffast-math -funroll-loops -I ../include  -c -o alignerTool.o alignerTool.cpp\n",
            "g++  -O9 -ffast-math -funroll-loops -I ../include  -c -o alignment.o alignment.cpp\n",
            "g++  -O9 -ffast-math -funroll-loops -I ../include  -c -o bloom.o bloom.cpp\n",
            "g++  -O9 -ffast-math -funroll-loops -I ../include  -c -o bookToMatrix.o bookToMatrix.cpp\n",
            "g++  -O9 -ffast-math -funroll-loops -I ../include  -c -o cooccurrence.o cooccurrence.cpp\n",
            "In file included from \u001b[01m\u001b[K/usr/include/c++/9/ext/hash_map:60\u001b[m\u001b[K,\n",
            "                 from \u001b[01m\u001b[K../include/portableHash.h:23\u001b[m\u001b[K,\n",
            "                 from \u001b[01m\u001b[Kcooccurrence.cpp:36\u001b[m\u001b[K:\n",
            "\u001b[01m\u001b[K/usr/include/c++/9/backward/backward_warning.h:32:2:\u001b[m\u001b[K \u001b[01;35m\u001b[Kwarning: \u001b[m\u001b[K#warning This file includes at least one deprecated or antiquated header which may be removed without further notice at a future date. Please use a non-deprecated interface with equivalent functionality instead. For a listing of replacement headers and interfaces, consult the file backward_warning.h. To disable this warning use -Wno-deprecated. [\u001b[01;35m\u001b[K-Wcpp\u001b[m\u001b[K]\n",
            "   32 | #\u001b[01;35m\u001b[Kwarning\u001b[m\u001b[K \\\n",
            "      |  \u001b[01;35m\u001b[K^~~~~~~\u001b[m\u001b[K\n",
            "g++  -O9 -ffast-math -funroll-loops -I ../include  -c -o cooccurrenceTool.o cooccurrenceTool.cpp\n",
            "g++  -O9 -ffast-math -funroll-loops -I ../include  -c -o dictionary.o dictionary.cpp\n",
            "g++  -O9 -ffast-math -funroll-loops -I ../include  -c -o main.o main.cpp\n",
            "g++  -O9 -ffast-math -funroll-loops -I ../include  -c -o networkFlow.o networkFlow.cpp\n",
            "In file included from \u001b[01m\u001b[K/usr/include/c++/9/ext/hash_map:60\u001b[m\u001b[K,\n",
            "                 from \u001b[01m\u001b[K../include/portableHash.h:23\u001b[m\u001b[K,\n",
            "                 from \u001b[01m\u001b[KnetworkFlow.cpp:15\u001b[m\u001b[K:\n",
            "\u001b[01m\u001b[K/usr/include/c++/9/backward/backward_warning.h:32:2:\u001b[m\u001b[K \u001b[01;35m\u001b[Kwarning: \u001b[m\u001b[K#warning This file includes at least one deprecated or antiquated header which may be removed without further notice at a future date. Please use a non-deprecated interface with equivalent functionality instead. For a listing of replacement headers and interfaces, consult the file backward_warning.h. To disable this warning use -Wno-deprecated. [\u001b[01;35m\u001b[K-Wcpp\u001b[m\u001b[K]\n",
            "   32 | #\u001b[01;35m\u001b[Kwarning\u001b[m\u001b[K \\\n",
            "      |  \u001b[01;35m\u001b[K^~~~~~~\u001b[m\u001b[K\n",
            "g++  -O9 -ffast-math -funroll-loops -I ../include  -c -o oldAlignTest.o oldAlignTest.cpp\n",
            "g++  -O9 -ffast-math -funroll-loops -I ../include  -c -o trailPostprocessors.o trailPostprocessors.cpp\n",
            "g++  -O9 -ffast-math -funroll-loops -I ../include  -c -o translate.o translate.cpp\n",
            "g++  -O9 -ffast-math -funroll-loops -I ../include  -c -o wordAlignment.o wordAlignment.cpp\n",
            "g++  -O9 -ffast-math -funroll-loops -I ../include  -c -o ../utils/stringsAndStreams.o ../utils/stringsAndStreams.cpp\n",
            "g++  -O9 -ffast-math -funroll-loops -I ../include  -c -o ../utils/argumentsParser.o ../utils/argumentsParser.cpp\n",
            "g++  -O9 -ffast-math -funroll-loops -I ../include  -c -o ../utils/timer.o ../utils/timer.cpp\n",
            "g++ -O9 -ffast-math -funroll-loops -I ../include -lstdc++ -o hunalign alignerTool.o alignment.o bloom.o bookToMatrix.o cooccurrence.o cooccurrenceTool.o dictionary.o main.o networkFlow.o oldAlignTest.o trailPostprocessors.o translate.o wordAlignment.o ../utils/stringsAndStreams.o ../utils/argumentsParser.o ../utils/timer.o\n"
          ]
        }
      ]
    },
    {
      "cell_type": "code",
      "source": [
        "%cd /content/hunalign/\n",
        "!pwd\n",
        "!src/hunalign/hunalign data/hu-en.stem.dic examples/demo.hu.stem examples/demo.en.stem -hand=examples/demo.manual.ladder -text > /tmp/align.txt\n",
        "# !less /tmp/align.txt"
      ],
      "metadata": {
        "id": "fVz4B9KoVW7T"
      },
      "execution_count": null,
      "outputs": []
    },
    {
      "cell_type": "code",
      "source": [
        "!head --lines=20 /tmp/align.txt"
      ],
      "metadata": {
        "id": "aSfCT3TzeYfl"
      },
      "execution_count": null,
      "outputs": []
    },
    {
      "cell_type": "code",
      "source": [
        "%cd /content/\n",
        "!pwd"
      ],
      "metadata": {
        "id": "OtZIH64gfTO6"
      },
      "execution_count": null,
      "outputs": []
    },
    {
      "cell_type": "code",
      "source": [
        "# downloading files - en es\n",
        "!wget https://heibox.uni-heidelberg.de/f/dc01904f8f9040a69610/?dl=1\n",
        "!mv index.html?dl=1 solar-t01-en-RE01.txt\n",
        "!wget https://heibox.uni-heidelberg.de/f/646957ccb3d24f359ed7/?dl=1\n",
        "!mv index.html?dl=1 solar-t01-es-RE01.txt"
      ],
      "metadata": {
        "id": "4C3Lu_yijc-2"
      },
      "execution_count": null,
      "outputs": []
    },
    {
      "cell_type": "code",
      "source": [
        "# downloading files - en de\n",
        "!wget https://heibox.uni-heidelberg.de/f/dc489828a2d642bfba82/?dl=1\n",
        "!mv index.html?dl=1 ab-t01-en.txt\n",
        "# English file\n",
        "!wget https://heibox.uni-heidelberg.de/f/e7e542d75d7644d1857d/?dl=1\n",
        "!mv index.html?dl=1 ab-t01-de.txt\n",
        "# Other language files"
      ],
      "metadata": {
        "id": "-irmCMkDjfjK"
      },
      "execution_count": null,
      "outputs": []
    },
    {
      "cell_type": "code",
      "source": [
        "!head --lines=20 ab-t01-en.txt"
      ],
      "metadata": {
        "id": "S7VB7wPmes6C"
      },
      "execution_count": null,
      "outputs": []
    },
    {
      "cell_type": "code",
      "source": [
        "!head --lines=20 ab-t01-de.txt"
      ],
      "metadata": {
        "id": "84YR_aNtfmz6"
      },
      "execution_count": null,
      "outputs": []
    },
    {
      "cell_type": "code",
      "source": [
        "# optional \n",
        "!head --lines=20 vaccination-safety-t101-de.txt"
      ],
      "metadata": {
        "id": "HWcpViE4ecG3"
      },
      "execution_count": null,
      "outputs": []
    },
    {
      "cell_type": "code",
      "source": [
        "# optional \n",
        "!head --lines=20 vaccination-safety-t101-hy.txt"
      ],
      "metadata": {
        "id": "65s_UZhweilW"
      },
      "execution_count": null,
      "outputs": []
    },
    {
      "cell_type": "code",
      "source": [
        "# detecting sentence boundaries\n",
        "import nltk\n",
        "nltk.download('punkt')\n",
        "from nltk.tokenize import sent_tokenize"
      ],
      "metadata": {
        "id": "00Y7g2qXXhSz",
        "colab": {
          "base_uri": "https://localhost:8080/"
        },
        "outputId": "f9896dd7-5a98-4a12-b6a1-8db322038ee9"
      },
      "execution_count": 11,
      "outputs": [
        {
          "output_type": "stream",
          "name": "stderr",
          "text": [
            "[nltk_data] Downloading package punkt to /root/nltk_data...\n",
            "[nltk_data]   Unzipping tokenizers/punkt.zip.\n"
          ]
        }
      ]
    },
    {
      "cell_type": "code",
      "source": [
        "# example for Armenian / Georgian sentence splitting if errors\n",
        "# LSent = re.split('([:;]+)')\n",
        "# ."
      ],
      "metadata": {
        "id": "h6m9gShu8OCR"
      },
      "execution_count": null,
      "outputs": []
    },
    {
      "cell_type": "code",
      "source": [
        "import re, os, sys\n",
        "def sentTokenizer(FIn, FOut):\n",
        "    for SPara in FIn:\n",
        "        SPara = SPara.strip()\n",
        "        if SPara == '': FOut.write('\\n')\n",
        "        all_sent = sent_tokenize(SPara)\n",
        "        for SSent in all_sent:\n",
        "            FOut.write(SSent + '\\n')\n",
        "    FOut.flush()\n",
        "\n",
        "def sentTokenizer_hy(FIn, FOut):\n",
        "    for SPara in FIn:\n",
        "        SPara = SPara.strip()\n",
        "        if SPara == '': FOut.write('\\n')\n",
        "        all_sent = sent_tokenize_hy(SPara)\n",
        "        for SSent in all_sent:\n",
        "            FOut.write(SSent + '\\n')\n",
        "    FOut.flush()\n",
        "\n",
        "\n",
        "def sent_tokenize_hy(SPara):\n",
        "    all_sent_hy = re.split('[:;\\.]', SPara)\n"
      ],
      "metadata": {
        "id": "OHH5cAjcYG_F"
      },
      "execution_count": 12,
      "outputs": []
    },
    {
      "cell_type": "code",
      "source": [
        "# choose your text"
      ],
      "metadata": {
        "id": "gQ6PbrcbBx1m"
      },
      "execution_count": null,
      "outputs": []
    },
    {
      "cell_type": "code",
      "source": [
        "FIn = open('ab-t01-en.txt', 'r')\n",
        "FOut = open('ab-t01s-en.txt', 'w')\n",
        "\n",
        "# FIn = open('ab-t01-de.txt', 'r')\n",
        "# FOut = open('ab-t01s-de.txt', 'w')"
      ],
      "metadata": {
        "id": "OYDn_STYYa1w"
      },
      "execution_count": null,
      "outputs": []
    },
    {
      "cell_type": "code",
      "source": [
        "sentTokenizer(FIn, FOut)"
      ],
      "metadata": {
        "id": "goOnKdidZzHr"
      },
      "execution_count": null,
      "outputs": []
    },
    {
      "cell_type": "code",
      "source": [
        "FIn = open('ab-t01-de.txt', 'r')\n",
        "FOut = open('ab-t01s-de.txt', 'w')"
      ],
      "metadata": {
        "id": "zKlJVfDpZcMR"
      },
      "execution_count": null,
      "outputs": []
    },
    {
      "cell_type": "code",
      "source": [
        "sentTokenizer(FIn, FOut)"
      ],
      "metadata": {
        "id": "I0VdL17UZ6tm"
      },
      "execution_count": null,
      "outputs": []
    },
    {
      "cell_type": "code",
      "source": [
        "# optional\n",
        "FIn1 = open('vaccination-safety-t101-hy.txt')\n",
        "FIn2 = open('vaccination-safety-t101-de.txt')\n",
        "FOUt1 = open('vaccination-safety-t101sent-hy.txt', 'w')\n",
        "FOut2 = open('vaccination-safety-t101sent-de.txt', 'w')\n"
      ],
      "metadata": {
        "id": "i35YQ9WTZilz"
      },
      "execution_count": 14,
      "outputs": []
    },
    {
      "cell_type": "code",
      "source": [
        "sentTokenizer_hy(FIn1, FOUt1)\n",
        "sentTokenizer(FIn2, FOut2)"
      ],
      "metadata": {
        "id": "RSViYo7_ey--"
      },
      "execution_count": 16,
      "outputs": []
    },
    {
      "cell_type": "code",
      "source": [
        "!./hunalign/src/hunalign/hunalign -text -realign -autodict=es2enAutodict.txt ./hunalign/data/null.dic solar-t01-en-RE01.txt solar-t01-es-RE01.txt > solar-t01-en2esAlignment.tsv"
      ],
      "metadata": {
        "id": "YbI3WH-WccuO"
      },
      "execution_count": null,
      "outputs": []
    },
    {
      "cell_type": "code",
      "source": [
        "# !./hunalign/src/hunalign/hunalign -text -realign -autodict=de2enAutodict.txt ./hunalign/data/null.dic ab-t01-en.txt ab-t01-de.txt > ab-t01-en2de.tsv\n",
        "!./hunalign/src/hunalign/hunalign -text -realign -autodict=de2enAutodict.txt ./hunalign/data/null.dic ab-t01s-en.txt ab-t01s-de.txt > ab-t01s-en2de.tsv\n"
      ],
      "metadata": {
        "id": "JBo3h8SMdZfv"
      },
      "execution_count": null,
      "outputs": []
    },
    {
      "cell_type": "code",
      "source": [
        "# optional\n",
        "!./hunalign/src/hunalign/hunalign -text -realign -autodict=es2enAutodict.txt ./hunalign/data/null.dic solar-t01-en-RE01.txt solar-t01-es-RE01.txt > solar-t01-en2esAlignment.tsv"
      ],
      "metadata": {
        "id": "blAyBMg7fuqV"
      },
      "execution_count": null,
      "outputs": []
    },
    {
      "cell_type": "code",
      "source": [
        "# copy dictionaries for editing\n",
        "!cp es2enAutodict.txt es2enAutodict.dic\n",
        "!cp de2enAutodict.txt de2enAutodict.dic"
      ],
      "metadata": {
        "id": "V_gxwlekhkZW"
      },
      "execution_count": null,
      "outputs": []
    },
    {
      "cell_type": "code",
      "source": [
        "# you can edit dictionaries and try realigning tests if results are not good, like in this example:\n",
        "!./hunalign/src/hunalign/hunalign -text -realign -autodict=es2enAutodict2.txt ./hunalign/data/null.dic /content/vaccination-safety-t101sent-hy.txt /content/vaccination-safety-t101sent-de.txt > vaccination-safety-t101-hy-de.txt"
      ],
      "metadata": {
        "id": "yh_I8HhHivWJ"
      },
      "execution_count": null,
      "outputs": []
    },
    {
      "cell_type": "code",
      "source": [
        "!cp es2enAutodict2.txt hy2deAutodict2.txt"
      ],
      "metadata": {
        "id": "wG3TBu-ggY8N"
      },
      "execution_count": 19,
      "outputs": []
    },
    {
      "cell_type": "code",
      "source": [
        "%cd /content/"
      ],
      "metadata": {
        "id": "4uqIFYZHlaTo",
        "colab": {
          "base_uri": "https://localhost:8080/"
        },
        "outputId": "66d58bc2-cce4-4e57-b1d2-7f62bfe44a49"
      },
      "execution_count": null,
      "outputs": [
        {
          "output_type": "stream",
          "name": "stdout",
          "text": [
            "/content\n"
          ]
        }
      ]
    },
    {
      "cell_type": "markdown",
      "source": [
        "# Converting tsv to tmx"
      ],
      "metadata": {
        "id": "vYPVNJE9naFM"
      }
    },
    {
      "cell_type": "code",
      "source": [
        "# change names of files accordingly (input and output)\n",
        "import re, os, sys\n",
        "# FIn = open('ab-t01-en2de.tsv', 'r')\n",
        "# FOut = open('ab-t01-en2de.tmx', 'w')\n",
        "\n",
        "FIn = open('ab-t01s-en2de.tsv', 'r')\n",
        "FOut = open('ab-t01s-en2de.tmx', 'w')\n",
        "\n",
        "SrcLang = 'en'\n",
        "TgtLang = 'de'\n",
        "\n",
        "SLineHead = '''<?xml version=\"1.0\" encoding=\"UTF-8\"?>\n",
        "<!DOCTYPE tmx SYSTEM \"tmx14.dtd\">\n",
        "<tmx version=\"1.4\">\n",
        "  <header creationtool=\"OmegaT\" o-tmf=\"OmegaT TMX\" adminlang=\"EN-US\" datatype=\"plaintext\" creationtoolversion=\"5.7.0_0_8ae1ecfb\" segtype=\"sentence\" srclang=\"en\"/>\n",
        "  <body>\n",
        "'''\n",
        "SLineEnd = '''\n",
        "  </body>\n",
        "</tmx>\n",
        "'''\n",
        "\n",
        "FOut.write(SLineHead)\n",
        "for SLine in FIn:\n",
        "    SLine = SLine.strip()\n",
        "    LLine = re.split('\\t', SLine)\n",
        "    try:\n",
        "        SSrcLang = LLine[0]\n",
        "        STgtLang = LLine[1]\n",
        "\n",
        "        STuvSLTag = f'      <tuv xml:lang=\"{SrcLang}\">'\n",
        "        STuvTLTag = f'      <tuv xml:lang=\"{TgtLang}\">'\n",
        "\n",
        "        STuvSL = STuvSLTag + '''\\n        <seg>''' + SSrcLang + '''</seg>\\n''' + '''      </tuv>\\n'''\n",
        "        STuvTL = STuvTLTag + '''\\n        <seg>''' + STgtLang + '''</seg>\\n''' + '''      </tuv>\\n'''\n",
        "\n",
        "        STuv = '''    <tu>\\n''' + STuvSL + STuvTL + '''    </tu>\\n'''\n",
        "        FOut.write(STuv)\n",
        "    except:\n",
        "        continue\n",
        "FOut.write(SLineEnd)\n",
        "FOut.flush()"
      ],
      "metadata": {
        "id": "ZzYUz9XineGH"
      },
      "execution_count": null,
      "outputs": []
    }
  ]
}