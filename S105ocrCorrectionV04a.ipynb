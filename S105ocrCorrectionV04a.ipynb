{
  "nbformat": 4,
  "nbformat_minor": 0,
  "metadata": {
    "colab": {
      "provenance": [],
      "authorship_tag": "ABX9TyPH/Pm3P7MIWBoAoJd1csgl",
      "include_colab_link": true
    },
    "kernelspec": {
      "name": "python3",
      "display_name": "Python 3"
    },
    "language_info": {
      "name": "python"
    }
  },
  "cells": [
    {
      "cell_type": "markdown",
      "metadata": {
        "id": "view-in-github",
        "colab_type": "text"
      },
      "source": [
        "<a href=\"https://colab.research.google.com/github/iued-uni-heidelberg/corpustools/blob/main/S105ocrCorrectionV04a.ipynb\" target=\"_parent\"><img src=\"https://colab.research.google.com/assets/colab-badge.svg\" alt=\"Open In Colab\"/></a>"
      ]
    },
    {
      "cell_type": "markdown",
      "source": [
        "# correction of ocr-generated text\n",
        "- using correction dictionaries\n",
        "- using rules\n"
      ],
      "metadata": {
        "id": "pS0vQT9LRLss"
      }
    },
    {
      "cell_type": "code",
      "source": [
        "import re, os, sys\n"
      ],
      "metadata": {
        "id": "2yzWvD6lW-78"
      },
      "execution_count": 1,
      "outputs": []
    },
    {
      "cell_type": "code",
      "execution_count": null,
      "metadata": {
        "id": "Hi1gKbdQQyIF"
      },
      "outputs": [],
      "source": [
        "!wget https://heibox.uni-heidelberg.de/f/d601ceb0af5a4671a8e7/?dl=1\n",
        "!mv index.html?dl=1 Parfum_Arm_ABBY.txt\n",
        "\n",
        "!wget https://heibox.uni-heidelberg.de/f/743a1a57a37c42d8b585/?dl=1\n",
        "!mv index.html?dl=1 Parfum_Armenian_uncorrected.txt\n",
        "\n"
      ]
    },
    {
      "cell_type": "code",
      "source": [
        "# dealing with Armenian OCR output with line breaks (is it correct?)\n",
        "\n",
        "FName = 'Parfum_Armenian_uncorrected.txt'\n",
        "FNameOut = 'Parfum_Armenian.txt'\n",
        "\n",
        "FIn = open(FName, 'r')\n",
        "FOut = open(FNameOut, 'w')\n",
        "\n",
        "for SLine in FIn:\n",
        "    SLine = SLine.strip()\n",
        "    if SLine == '':\n",
        "        FOut.write('\\n\\n')\n",
        "        continue\n",
        "    if SLine[-1] == '-':\n",
        "        SLine2write = SLine[:-1]\n",
        "        FOut.write(SLine2write)\n",
        "        continue\n",
        "\n",
        "    FOut.write(SLine + ' ')\n",
        "FOut.flush()\n",
        "\n"
      ],
      "metadata": {
        "id": "LvHpRxM-ncIX"
      },
      "execution_count": 3,
      "outputs": []
    },
    {
      "cell_type": "code",
      "source": [
        "!wc Parfum_Arm_ABBY.txt\n",
        "!wc Parfum_Armenian_uncorrected.txt\n",
        "!wc Parfum_Armenian.txt"
      ],
      "metadata": {
        "id": "bKaXMp2uSDZk"
      },
      "execution_count": null,
      "outputs": []
    },
    {
      "cell_type": "code",
      "source": [
        "!wget https://heibox.uni-heidelberg.de/f/c977e87cf2b244e6801b/?dl=1\n",
        "!mv index.html?dl=1 KorpusARM.tgz\n"
      ],
      "metadata": {
        "id": "z-5mB-CUSTTU"
      },
      "execution_count": null,
      "outputs": []
    },
    {
      "cell_type": "code",
      "source": [
        "!tar xvzf KorpusARM.tgz\n",
        "!mkdir KorpusARM1\n",
        "!mkdir KorpusARM1/stage01\n",
        "# concatenating files\n",
        "!cat korpusARM/hyFiktion/* >KorpusARM1/stage01/hyFiktion.txt\n",
        "!cat korpusARM/hyNatur/* >KorpusARM1/stage01/hyNatur.txt\n",
        "!cat korpusARM/hyRecht/* >KorpusARM1/stage01/hyRecht.txt\n",
        "!mkdir KorpusARM1/stage02\n",
        "\n",
        "# function for Armenian line breaks:\n",
        "\n",
        "def correctLineBreaksHY(FName, FNameOut):\n",
        "    FIn = open(FName, 'r')\n",
        "    FOut = open(FNameOut, 'w')\n",
        "    countHyphens = 0\n",
        "    for SLine in FIn:\n",
        "        SLine = SLine.strip()\n",
        "        if SLine == '':\n",
        "            FOut.write('\\n\\n')\n",
        "            continue\n",
        "        if SLine[-1] == '-':\n",
        "            SLine2write = SLine[:-1]\n",
        "            FOut.write(SLine2write)\n",
        "            countHyphens +=1\n",
        "            continue\n",
        "        FOut.write(SLine + ' ')\n",
        "    FOut.flush()\n",
        "    print(str(countHyphens) + ' hyphens corrected')\n",
        "    return\n",
        "\n",
        "correctLineBreaksHY('KorpusARM1/stage01/hyFiktion.txt', 'KorpusARM1/stage02/hyFiktion.txt')\n",
        "correctLineBreaksHY('KorpusARM1/stage01/hyNatur.txt', 'KorpusARM1/stage02/hyNatur.txt')\n",
        "correctLineBreaksHY('KorpusARM1/stage01/hyRecht.txt', 'KorpusARM1/stage02/hyRecht.txt')\n"
      ],
      "metadata": {
        "id": "pywrhPCXSVjz"
      },
      "execution_count": null,
      "outputs": []
    },
    {
      "cell_type": "code",
      "source": [
        "\n",
        "!wc KorpusARM1/stage02/hyFiktion.txt\n",
        "!wc KorpusARM1/stage02/hyNatur.txt\n",
        "!wc KorpusARM1/stage02/hyRecht.txt"
      ],
      "metadata": {
        "id": "kUqWQMklS2oD"
      },
      "execution_count": null,
      "outputs": []
    },
    {
      "cell_type": "code",
      "source": [
        "# Dowloading the file with corrections\n",
        "# !wget https://heibox.uni-heidelberg.de/f/14706c04a4024b2f937d/?dl=1\n",
        "# without ճեր\n",
        "!wget https://heibox.uni-heidelberg.de/f/4a24540473564788853d/?dl=1\n",
        "\n",
        "!mv index.html?dl=1 Pilot-Corrections-all.tsv\n",
        "!wc Pilot-Corrections-all.tsv\n",
        "\n"
      ],
      "metadata": {
        "id": "n2qCSxAKT8qT"
      },
      "execution_count": null,
      "outputs": []
    },
    {
      "cell_type": "code",
      "source": [
        "# downloading wikipedia\n",
        "### downloading Armenian Wikipedia\n",
        "!wget https://heibox.uni-heidelberg.de/f/d1f866a61bd545318213/?dl=1\n",
        "!mv index.html?dl=1 hywiki-20221101-pages-articles.txt.gz\n",
        "!gunzip hywiki-20221101-pages-articles.txt.gz\n"
      ],
      "metadata": {
        "id": "e-6E67OXMyaf"
      },
      "execution_count": null,
      "outputs": []
    },
    {
      "cell_type": "code",
      "source": [
        "# the length of wikipedia\n",
        "!wc hywiki-20221101-pages-articles.txt"
      ],
      "metadata": {
        "id": "EiQRfY_eM892"
      },
      "execution_count": null,
      "outputs": []
    },
    {
      "cell_type": "code",
      "source": [
        "def readCorrections(colNumberOri, colNumberCorrect, SFIn, SFOut = None):\n",
        "    LTWrongCorrect = []\n",
        "    DWrongCorrect = {}\n",
        "    FOut = open(SFOut, 'w')\n",
        "    with open(SFIn, 'r') as FIn:\n",
        "        count = 0\n",
        "        for SLine in FIn:\n",
        "            count += 1\n",
        "            if count == 1: continue\n",
        "            SLine = SLine.strip()\n",
        "            LLine = SLine.split('\\t')\n",
        "            SWrong = LLine[colNumberOri]\n",
        "            SCorrect = LLine[colNumberCorrect]\n",
        "            if SWrong != '' and SCorrect != '' and SWrong != SCorrect:\n",
        "                TWrongCorrect = (f'[{SWrong}]', f'[{SCorrect}]')\n",
        "                LTWrongCorrect.append(TWrongCorrect)\n",
        "                if SWrong in DWrongCorrect.keys():\n",
        "                    SCorrect1 = DWrongCorrect[SWrong]\n",
        "                    if SCorrect1 != SCorrect:\n",
        "                        print(SWrong + '\\t' + SCorrect1 + '\\t' + SCorrect)\n",
        "                DWrongCorrect[SWrong] = SCorrect\n",
        "    if SFOut:\n",
        "        for SWrong, SCorrect in LTWrongCorrect:\n",
        "            FOut.write(f'{SWrong}\\t{SCorrect}\\n')\n",
        "        FOut.flush()\n",
        "    print(len(DWrongCorrect))\n",
        "\n",
        "    return LTWrongCorrect, DWrongCorrect\n",
        "\n",
        "def readCorrectionsFrq(colNumberOri, colNumberCorrect, colNumberFrq, SFIn, SFOut = None):\n",
        "    LTWrongCorrect = []\n",
        "    '''\n",
        "    if type(LTWrongCorrect) == list:\n",
        "        pass\n",
        "    '''\n",
        "\n",
        "    DWrongCorrect = {}\n",
        "    FOut = open(SFOut, 'w')\n",
        "    with open(SFIn, 'r') as FIn:\n",
        "        count = 0\n",
        "        for SLine in FIn:\n",
        "            count += 1\n",
        "            if count == 1: continue\n",
        "            SLine = SLine.rstrip('\\n')\n",
        "            LLine = SLine.split('\\t')\n",
        "            SWrong = LLine[colNumberOri]\n",
        "            SCorrect = LLine[colNumberCorrect]\n",
        "            SFrq = LLine[colNumberFrq]\n",
        "            if SWrong != '' and SCorrect != '' and SWrong != SCorrect:\n",
        "                TWrongCorrect = (f'[{SWrong}]', f'[{SCorrect}]', f'{SFrq}')\n",
        "                LTWrongCorrect.append(TWrongCorrect)\n",
        "                if SWrong in DWrongCorrect.keys():\n",
        "                    SCorrect1 = DWrongCorrect[SWrong]\n",
        "                    if SCorrect1 != SCorrect:\n",
        "                        print(SWrong + '\\t' + SCorrect1 + '\\t' + SCorrect)\n",
        "                DWrongCorrect[SWrong] = SCorrect\n",
        "    if SFOut:\n",
        "        for SWrong, SCorrect, SFrq in LTWrongCorrect:\n",
        "            FOut.write(f'{SWrong}\\t{SCorrect}\\t{SFrq}\\n')\n",
        "        FOut.flush()\n",
        "    print(len(DWrongCorrect))\n",
        "\n",
        "    return LTWrongCorrect, DWrongCorrect\n"
      ],
      "metadata": {
        "id": "cuDRPHpQUGxD"
      },
      "execution_count": 11,
      "outputs": []
    },
    {
      "cell_type": "code",
      "source": [
        "# reading corrections for word forms, with the purpose of generalizing them\n",
        "# goal: to display candidates for correction -- based on existing corrections (?)\n",
        "LTWrongCorrectWordF, DWrongCorrectWordF = readCorrectionsFrq(1, 4, 9, '/content/Pilot-Corrections-all.tsv', SFOut = 'Pilot-Corrections-all-WordForm.tsv')\n",
        "# LTWrongCorrectLemmaF, DWrongCorrectLemmaF = readCorrectionsFrq(3, 6, 9, '/content/Pilot-Corrections-all.tsv', SFOut = 'Pilot-Corrections-all-Lemma.tsv')\n",
        "print(LTWrongCorrectWordF)\n",
        "# print(LTWrongCorrectLemmaF)\n",
        "# ինձ|ինչ\n",
        "# առջև|առջևից\n",
        "# ինչ|ինձ\n",
        "# ինչ|ես\n",
        "# գիտենալ|իմանալ\n"
      ],
      "metadata": {
        "id": "6q3Qd74vUVET",
        "colab": {
          "base_uri": "https://localhost:8080/"
        },
        "outputId": "05b6480f-bed3-4bd0-8712-792308575055"
      },
      "execution_count": 12,
      "outputs": [
        {
          "output_type": "stream",
          "name": "stdout",
          "text": [
            "ինճ\tինձ\tինչ\n",
            "առջնից\tառջև\tառջևից\n",
            "ինճ\tինչ\tինձ\n",
            "171\n",
            "[('[մերճակա]', '[մերձակա]', '4'), ('[առջն]', '[առջև]', '4'), ('[թեթնություն]', '[թեթևություն]', '4'), ('[Եթենա]', '[եթե նա]', '4'), ('[ննա]', '[նա]', '4'), ('[ճեռքերն]', '[ձեռքից]', '4'), ('[ճայն]', '[ձայն]', '4'), ('[ճեռքով]', '[ձեռքով]', '4'), ('[այլնս]', '[այլևս]', '4'), ('[ետնի]', '[ետևի]', '4'), ('[կեղնները]', '[կեղևները]', '4'), ('[ճկան]', '[ձկան]', '4'), ('[ննա]', '[նա]', '4'), ('[բանաձնի]', '[բանաձևի]', '4'), ('[առնտրական]', '[առևտրական]', '4'), ('[արնելյան]', '[արևելյան]', '4'), ('[կուղնորվի]', '[կուղևորվի]', '4'), ('[նս]', '[ևս]', '4'), ('[հետնեց]', '[հետևել]', '4'), ('[նուխիսկ]', '[նույնիսկ]', '4'), ('[երնույթ]', '[երևույթ]', '4'), ('[քրտնքով]', '[քրտինքով]', '4'), ('[արվարճանում]', '[արվարձանում]', '4'), ('[անճամբ]', '[անձամբ]', '4'), ('[ճայնը]', '[ձայնը]', '4'), ('[ճգվում]', '[ձգվում]', '4'), ('[ճիու]', '[ձիու]', '4'), ('[դարճնում]', '[դարձնում]', '4'), ('[ուղնորվում]', '[ուղևորվում ]', '4'), ('[իջնանատան]', '[իջևանատան]', '4'), ('[ճգտում]', '[ձգտում]', '4'), ('[դրսնորում]', '[դրսևորում]', '3'), ('[արվարճանի]', '[արվարձանի]', '3'), ('[ետնում]', '[ետևում]', '3'), ('[ճնավորված]', '[ձևավորված]', '3'), ('[Հետնաբար]', '[հետևաբար]', '3'), ('[այլնս]', '[այլևս]', '3'), ('[Շավանաբար]', '[հավանաբար]', '3'), ('[սկզբիցնեթ]', '[սկզբիցևեթ]', '3'), ('[միջն]', '[միջև]', '3'), ('[համաճայնության]', '[համաձայնություն]', '3'), ('[Թերնս]', '[թերևս]', '3'), ('[տերնի]', '[տերև]', '3'), ('[թնատակերի]', '[թևատակ]', '3'), ('[դոււս]', '[դուրս]', '3'), ('[բարճրացավ]', '[բարձրանալ]', '3'), ('[երկարատն]', '[երկարատև]', '3'), ('[նախնառաջ]', '[նախևառաջ]', '3'), ('[ներքնից]', '[ներքև]', '3'), ('[առջնից]', '[առջև]', '3'), ('[ճեռնոցագործական]', '[ձեռնոցագործական]', '3'), ('[հարնան]', '[գարնան]', '3'), ('[ճգտումը]', '[ձգտումը]', '3'), ('[առջնում]', '[առջևում]', '3'), ('[ճմռանը]', '[ձմռանը]', '3'), ('[սնահեր]', '[սևահեր]', '3'), ('[ծանրութեթն]', '[ծանրութեթև]', '3'), ('[ճագի]', '[ձագի]', '3'), ('[Այլնս]', '[այլևս]', '3'), ('[ինճ]', '[ինձ]', '3'), ('[ճեռքն]', '[ձեռքն]', '3'), ('[արճագանք]', '[արձագանք]', '3'), ('[ճմեռ]', '[ձմեռ]', '2'), ('[պառկածէրգերեզմանատանվրա]', '[պառկած էր գերեզմանատան վրա]', '2'), ('[ճմերուկների]', '[ձմերուկների]', '2'), ('[ունողկալի]', '[ու նողկալի]', '2'), ('[գլխապտույտնե]', '[գլխապտույտներ]', '2'), ('[ճայնի]', '[ձայնի]', '2'), ('[ճկների]', '[ձկների]', '2'), ('[այլնայլ]', '[այլևայլ]', '2'), ('[ճնականություններից]', '[ձևականություններից]', '2'), ('[չուննորներին]', '[չունևորներին]', '2'), ('[արճակվող]', '[արձակվել]', '2'), ('[խամարդ]', '[տղամարդ]', '2'), ('[Միգուցենա]', '[միգուցե նա]', '2'), ('[ջղաճգութու]', '[Ջղաձգություն]', '2'), ('[Դետեսնում]', '[դե տեսնում ]', '2'), ('[բարճրաց]', '[բարձրացնել]', '2'), ('[ինճ]', '[ինձ]', '2'), ('[Որովհետն]', '[որովհետև]', '2'), ('[ննույնիսկ]', '[նույնիսկ]', '2'), ('[հուսահատեգնում]', '[հեւսահատեցնել]', '2'), ('[որնրան]', '[որ նրան]', '2'), ('[Ջգազմունքներից]', '[Զգացմունք]', '2'), ('[մնահավատությոն]', '[սնահավատություն]', '2'), ('[հեթանոսա]', '[հեթանոսացում]', '2'), ('[խարույկՄ]', '[խարույկ]', '2'), ('[տուցում]', '[մատուցում]', '2'), ('[նականռթյան]', '[բանականություն]', '2'), ('[անձր]', '[անձ, անձրև]', '2'), ('[տարօրի]', '[տարօրինակ]', '2'), ('[թնիկները]', '[թևիկ]', '2'), ('[աստվածավախու]', '[աստվածավախություն]', '2'), ('[բարճր]', '[բարձր]', '2'), ('[լավէ]', '[լավ է]', '2'), ('[Թռենել]', '[թռնել]', '2'), ('[հանճնեց]', '[հանձնել]', '2'), ('[Դհյոյում]', '[Դյո]', '2'), ('[տակիզ]', '[տակից]', '2'), ('[առջն]', '[առջև]', '36'), ('[ետնից]', '[ետևից]', '30'), ('[միջն]', '[միջև]', '22'), ('[այնուհետն]', '[այնուհետև]', '22'), ('[բացարճակապես]', '[բացարձակապես]', '21'), ('[որնէ]', '[որևէ]', '20'), ('[այլնս]', '[այլևս]', '19'), ('[թեթն]', '[թեթև]', '18'), ('[թեթնակի]', '[թեթևակի]', '17'), ('[որնէ]', '[որևէ]', '16'), ('[ետնում]', '[ետևում]', '16'), ('[արնի]', '[արևի]', '14'), ('[միննույն]', '[միևնույն]', '13'), ('[վերնում]', '[վերևում]', '13'), ('[ինճ]', '[ինչ]', '13'), ('[արճակում]', '[արձակում]', '12'), ('[թերնս]', '[թերևս]', '12'), ('[երբնիցե]', '[երբևիցե]', '11'), ('[ճեռքը]', '[ձեռքը]', '10'), ('[երնակայության]', '[երևակայության]', '10'), ('[արնմուտք]', '[արևմուտք]', '10'), ('[ճեռք]', '[ձեռք]', '10'), ('[ճեռքի]', '[ձեռքի]', '9'), ('[ճայնով]', '[ձայնով]', '9'), ('[նան]', '[նաև]', '8'), ('[դեռնս]', '[դեռևս]', '8'), ('[ճեռքերը]', '[ձեռքերը]', '8'), ('[հետնում]', '[հետևում]', '8'), ('[արճակող]', '[արձակող]', '8'), ('[որնիցե]', '[որևիցե]', '8'), ('[դեռնս]', '[դեռևս]', '8'), ('[այլնս]', '[այլևս]', '8'), ('[ճեռքին]', '[ձեռքին]', '7'), ('[արնմտյան]', '[արևմտյան]', '7'), ('[այլես]', '[այլևս]', '7'), ('[Նախնառաջ]', '[նախևառաջ]', '7'), ('[հոգնոր]', '[հոգևոր]', '6'), ('[ճեռքերով]', '[ձեռքերով]', '6'), ('[ներքնում]', '[ներքևում]', '6'), ('[համարճակվում]', '[համարձակվում]', '5'), ('[արնելք]', '[արևելք]', '5'), ('[առանճին]', '[առանձին]', '5'), ('[արնմուտքից]', '[արևմուտքից]', '5'), ('[երնակայական]', '[երևակայական]', '5'), ('[թնածում]', '[թևածում]', '5'), ('[բանաճնի]', '[բանաձևի]', '5'), ('[դարճավ]', '[դարձավ]', '5'), ('[բանաճնը]', '[բանաձևը]', '5'), ('[թեթնացած]', '[թեթևացած]', '5'), ('[հետնելով]', '[հետևելով]', '5'), ('[հետնել]', '[հետևել]', '5'), ('[կարնոր]', '[կարևոր]', '5'), ('[ճիու]', '[ձիու]', '5'), ('[հեղճուցիչ]', '[հեղձուցիչ]', '5'), ('[անճնական]', '[անձնական]', '5'), ('[առջնից]', '[առջևից]', '3'), ('[երնում]', '[երևում]', '3'), ('[ինճ]', '[ինձ]', '3'), ('[փորճ]', '[փորձ]', '3'), ('[բանաձնը]', '[բանաձևը]', '3'), ('[եթենա]', '[եթե]', '3'), ('[ինճ]', '[ինձ]', '3'), ('[փորճն]', '[փորձն]', '3'), ('[բանաձն]', '[բանաձևն]', '3'), ('[բանաճն]', '[բանաձևն]', '3'), ('[բարճրացնել]', '[բարձրացնել]', '3'), ('[Այլնս]', '[այլևս]', '3'), ('[սնահեր]', '[սևահեր]', '3'), ('[բացարճակ]', '[բացարձակ]', '3'), ('[ճգտելով]', '[ձգտելով]', '3'), ('[բանաճներ]', '[բանաձևեր]', '3'), ('[թեն]', '[թեև]', '3'), ('[տերնները]', '[տերևերը]', '3'), ('[բարճունքներում]', '[բարձունքներում]', '3'), ('[առնտուրը]', '[առևտուրը]', '3'), ('[անճամբ]', '[անձամբ]', '3'), ('[օթնան]', '[օթևան]', '3'), ('[բանաճներով]', '[բանաձներով]', '3'), ('[արճակել]', '[արձակել]', '3'), ('[բնեռը]', '[բևեռը]', '3'), ('[օճեր]', '[օձեր]', '3'), ('[ոջ]', '[ոչ]', '3'), ('[անձրնը]', '[անձրևը]', '3'), ('[թեթն]', '[թեթև]', '3'), ('[ճգում]', '[ձգում]', '3'), ('[տաքագնում]', '[տաքացնում]', '3'), ('[Հնայած]', '[Չնայած]', '3'), ('[ճեռքերի]', '[Ձեռքերի]', '3'), ('[այխքան]', '[այդքան]', '3'), ('[ճնացրեց]', '[ձևացրեց]', '3'), ('[երնակայությունների]', '[երևակայությունների]', '3'), ('[առջն]', '[առջև]', '3'), ('[բարճր]', '[բարձր]', '3')]\n"
          ]
        }
      ]
    },
    {
      "cell_type": "code",
      "source": [
        "print(len(DWrongCorrectWordF))\n",
        "# print(len(DWrongCorrectLemmaF))\n"
      ],
      "metadata": {
        "id": "-_FYBzw7U42k",
        "outputId": "26ca9ec7-f2d4-4e2d-a205-8f820f6a2e46",
        "colab": {
          "base_uri": "https://localhost:8080/"
        }
      },
      "execution_count": 13,
      "outputs": [
        {
          "output_type": "stream",
          "name": "stdout",
          "text": [
            "171\n"
          ]
        }
      ]
    },
    {
      "cell_type": "code",
      "source": [
        "for key, value in sorted(DWrongCorrectWordF.items()):\n",
        "    print(f'{key}\\t{value}')"
      ],
      "metadata": {
        "id": "pT2fX38FAVve",
        "colab": {
          "base_uri": "https://localhost:8080/"
        },
        "outputId": "3c9baa3f-fd91-453a-9759-53968346fd94"
      },
      "execution_count": 14,
      "outputs": [
        {
          "output_type": "stream",
          "name": "stdout",
          "text": [
            "Այլնս\tայլևս\n",
            "Դետեսնում\tդե տեսնում \n",
            "Դհյոյում\tԴյո\n",
            "Եթենա\tեթե նա\n",
            "Թերնս\tթերևս\n",
            "Թռենել\tթռնել\n",
            "Հետնաբար\tհետևաբար\n",
            "Հնայած\tՉնայած\n",
            "Միգուցենա\tմիգուցե նա\n",
            "Նախնառաջ\tնախևառաջ\n",
            "Շավանաբար\tհավանաբար\n",
            "Որովհետն\tորովհետև\n",
            "Ջգազմունքներից\tԶգացմունք\n",
            "այլես\tայլևս\n",
            "այլնայլ\tայլևայլ\n",
            "այլնս\tայլևս\n",
            "այխքան\tայդքան\n",
            "այնուհետն\tայնուհետև\n",
            "անձր\tանձ, անձրև\n",
            "անձրնը\tանձրևը\n",
            "անճամբ\tանձամբ\n",
            "անճնական\tանձնական\n",
            "առանճին\tառանձին\n",
            "առնտուրը\tառևտուրը\n",
            "առնտրական\tառևտրական\n",
            "առջն\tառջև\n",
            "առջնից\tառջևից\n",
            "առջնում\tառջևում\n",
            "աստվածավախու\tաստվածավախություն\n",
            "արճագանք\tարձագանք\n",
            "արճակել\tարձակել\n",
            "արճակող\tարձակող\n",
            "արճակում\tարձակում\n",
            "արճակվող\tարձակվել\n",
            "արնելյան\tարևելյան\n",
            "արնելք\tարևելք\n",
            "արնի\tարևի\n",
            "արնմուտք\tարևմուտք\n",
            "արնմուտքից\tարևմուտքից\n",
            "արնմտյան\tարևմտյան\n",
            "արվարճանի\tարվարձանի\n",
            "արվարճանում\tարվարձանում\n",
            "բանաձն\tբանաձևն\n",
            "բանաձնը\tբանաձևը\n",
            "բանաձնի\tբանաձևի\n",
            "բանաճն\tբանաձևն\n",
            "բանաճներ\tբանաձևեր\n",
            "բանաճներով\tբանաձներով\n",
            "բանաճնը\tբանաձևը\n",
            "բանաճնի\tբանաձևի\n",
            "բարճունքներում\tբարձունքներում\n",
            "բարճր\tբարձր\n",
            "բարճրաց\tբարձրացնել\n",
            "բարճրացավ\tբարձրանալ\n",
            "բարճրացնել\tբարձրացնել\n",
            "բացարճակ\tբացարձակ\n",
            "բացարճակապես\tբացարձակապես\n",
            "բնեռը\tբևեռը\n",
            "գլխապտույտնե\tգլխապտույտներ\n",
            "դարճավ\tդարձավ\n",
            "դարճնում\tդարձնում\n",
            "դեռնս\tդեռևս\n",
            "դոււս\tդուրս\n",
            "դրսնորում\tդրսևորում\n",
            "եթենա\tեթե\n",
            "ետնի\tետևի\n",
            "ետնից\tետևից\n",
            "ետնում\tետևում\n",
            "երբնիցե\tերբևիցե\n",
            "երկարատն\tերկարատև\n",
            "երնակայական\tերևակայական\n",
            "երնակայության\tերևակայության\n",
            "երնակայությունների\tերևակայությունների\n",
            "երնում\tերևում\n",
            "երնույթ\tերևույթ\n",
            "թեթն\tթեթև\n",
            "թեթնակի\tթեթևակի\n",
            "թեթնացած\tթեթևացած\n",
            "թեթնություն\tթեթևություն\n",
            "թեն\tթեև\n",
            "թերնս\tթերևս\n",
            "թնածում\tթևածում\n",
            "թնատակերի\tթևատակ\n",
            "թնիկները\tթևիկ\n",
            "ինճ\tինձ\n",
            "իջնանատան\tիջևանատան\n",
            "լավէ\tլավ է\n",
            "խամարդ\tտղամարդ\n",
            "խարույկՄ\tխարույկ\n",
            "ծանրութեթն\tծանրութեթև\n",
            "կարնոր\tկարևոր\n",
            "կեղնները\tկեղևները\n",
            "կուղնորվի\tկուղևորվի\n",
            "համաճայնության\tհամաձայնություն\n",
            "համարճակվում\tհամարձակվում\n",
            "հանճնեց\tհանձնել\n",
            "հարնան\tգարնան\n",
            "հեթանոսա\tհեթանոսացում\n",
            "հեղճուցիչ\tհեղձուցիչ\n",
            "հետնել\tհետևել\n",
            "հետնելով\tհետևելով\n",
            "հետնեց\tհետևել\n",
            "հետնում\tհետևում\n",
            "հոգնոր\tհոգևոր\n",
            "հուսահատեգնում\tհեւսահատեցնել\n",
            "ճագի\tձագի\n",
            "ճայն\tձայն\n",
            "ճայնը\tձայնը\n",
            "ճայնի\tձայնի\n",
            "ճայնով\tձայնով\n",
            "ճգում\tձգում\n",
            "ճգվում\tձգվում\n",
            "ճգտելով\tձգտելով\n",
            "ճգտում\tձգտում\n",
            "ճգտումը\tձգտումը\n",
            "ճեռնոցագործական\tձեռնոցագործական\n",
            "ճեռք\tձեռք\n",
            "ճեռքերը\tձեռքերը\n",
            "ճեռքերի\tՁեռքերի\n",
            "ճեռքերն\tձեռքից\n",
            "ճեռքերով\tձեռքերով\n",
            "ճեռքը\tձեռքը\n",
            "ճեռքի\tձեռքի\n",
            "ճեռքին\tձեռքին\n",
            "ճեռքն\tձեռքն\n",
            "ճեռքով\tձեռքով\n",
            "ճիու\tձիու\n",
            "ճկան\tձկան\n",
            "ճկների\tձկների\n",
            "ճմեռ\tձմեռ\n",
            "ճմերուկների\tձմերուկների\n",
            "ճմռանը\tձմռանը\n",
            "ճնականություններից\tձևականություններից\n",
            "ճնավորված\tձևավորված\n",
            "ճնացրեց\tձևացրեց\n",
            "մերճակա\tմերձակա\n",
            "միննույն\tմիևնույն\n",
            "միջն\tմիջև\n",
            "մնահավատությոն\tսնահավատություն\n",
            "նախնառաջ\tնախևառաջ\n",
            "նականռթյան\tբանականություն\n",
            "նան\tնաև\n",
            "ներքնից\tներքև\n",
            "ներքնում\tներքևում\n",
            "ննա\tնա\n",
            "ննույնիսկ\tնույնիսկ\n",
            "նուխիսկ\tնույնիսկ\n",
            "նս\tևս\n",
            "ոջ\tոչ\n",
            "որնէ\tորևէ\n",
            "որնիցե\tորևիցե\n",
            "որնրան\tոր նրան\n",
            "ուղնորվում\tուղևորվում \n",
            "ունողկալի\tու նողկալի\n",
            "չուննորներին\tչունևորներին\n",
            "պառկածէրգերեզմանատանվրա\tպառկած էր գերեզմանատան վրա\n",
            "ջղաճգութու\tՋղաձգություն\n",
            "սկզբիցնեթ\tսկզբիցևեթ\n",
            "սնահեր\tսևահեր\n",
            "վերնում\tվերևում\n",
            "տակիզ\tտակից\n",
            "տարօրի\tտարօրինակ\n",
            "տաքագնում\tտաքացնում\n",
            "տերնի\tտերև\n",
            "տերնները\tտերևերը\n",
            "տուցում\tմատուցում\n",
            "փորճ\tփորձ\n",
            "փորճն\tփորձն\n",
            "քրտնքով\tքրտինքով\n",
            "օթնան\tօթևան\n",
            "օճեր\tօձեր\n"
          ]
        }
      ]
    },
    {
      "cell_type": "code",
      "source": [
        "'''\n",
        "for i in range(5):\n",
        "    LKeys = list(DWrongCorrectLemmaF.keys())\n",
        "    SKey = LKeys[i]\n",
        "    SVal = DWrongCorrectWordF[SKey]\n",
        "    print(f'{SKey} {SVal}\\n')\n",
        "'''\n",
        ""
      ],
      "metadata": {
        "id": "T7X7uZJsWajb"
      },
      "execution_count": null,
      "outputs": []
    },
    {
      "cell_type": "markdown",
      "source": [
        "This section applies corrections to an Armenian texts and records which words have been corrected"
      ],
      "metadata": {
        "id": "tV6irX9rkiE1"
      }
    },
    {
      "cell_type": "code",
      "source": [
        "# function for Armenian tokenization\n",
        "def tokenizeTextHY(SFIn):\n",
        "    LLParagraphs = []\n",
        "    with open(SFIn, 'r') as FIn:\n",
        "        countpara = 0\n",
        "        for SLine in FIn:\n",
        "            countpara += 1\n",
        "            if countpara % 100000 == 0: print(countpara)\n",
        "            SLine = SLine.strip()\n",
        "            if SLine == '': continue\n",
        "            LLine = re.split('([ ,\\.\\:։;\\'\\\"\\(\\)\\-\\–\\!\\?\\{\\}\\t\\«\\»]+)', SLine)\n",
        "            # if LLine == '': continue\n",
        "            if LLine: LLParagraphs.append(LLine)\n",
        "    return LLParagraphs\n",
        "\n",
        "\n",
        "# def printLLParagraphs(SFIn, SFOut, DCorrections1 = None, DCorrections2 = None):\n",
        "def printLLParagraphs(SFIn, SFOut, DCorrections1 = None):\n",
        "    DErrors = {}\n",
        "    LLParagraphs = tokenizeTextHY(SFIn)\n",
        "    LCorrected = []\n",
        "    FOut = open(SFOut, 'w')\n",
        "    for LPara in LLParagraphs:\n",
        "        # if LPara == [] or LPara == ['']: continue\n",
        "        if LPara == []: continue\n",
        "        # FOut.write(str(LPara) + '\\n')\n",
        "        LParaNew = []\n",
        "        # FOut.write('<p>\\n')\n",
        "\n",
        "        # for each word\n",
        "        i = 0 # counting words\n",
        "        for el in LPara:\n",
        "            i+=1 # index of next word\n",
        "            # print(el, i)\n",
        "            # if el == ' ': continue\n",
        "            # if there is no correction dictionary, then just copy the string -- if dictionary is not provided\n",
        "            if not DCorrections1:\n",
        "                elCorrect = el\n",
        "                continue\n",
        "\n",
        "            if el in DCorrections1:\n",
        "                iStart = i-5\n",
        "                if iStart <0: iStart = 0\n",
        "                iFinish = i+5\n",
        "                # if iFinish >len(LPara): iFinish = len(LPara)\n",
        "                LContext = LPara[iStart : iFinish]\n",
        "                elCorrect = DCorrections1[el]\n",
        "                LCorrected.append((el, elCorrect, LContext, LPara)) # word context for the corrected word\n",
        "\n",
        "            else:\n",
        "                elCorrect = el\n",
        "\n",
        "            LParaNew.append(elCorrect)\n",
        "\n",
        "\n",
        "\n",
        "\n",
        "        SParaNew = ' '.join(LParaNew)\n",
        "        FOut.write(f'{SParaNew}\\n')\n",
        "\n",
        "        # FOut.write('</p>\\n')\n",
        "    FOut.flush()\n",
        "    return LCorrected, DErrors"
      ],
      "metadata": {
        "id": "93xc2P0iX1rS"
      },
      "execution_count": 15,
      "outputs": []
    },
    {
      "cell_type": "code",
      "source": [
        "def printCorrections(LCorrected, SFOut):\n",
        "    FOut1 = open(SFOut, 'w')\n",
        "    for (el, elCorr, LContext, LPara) in sorted(LCorrected):\n",
        "        SPara = ''.join(LPara)\n",
        "        SContext = ''.join(LContext)\n",
        "        FOut1.write( f'{el} \\t {elCorr} \\n\\tcontext: {SContext} \\n\\tparagraph: {SPara}\\n\\n' )\n",
        "    return"
      ],
      "metadata": {
        "id": "biy2TG4EX19T"
      },
      "execution_count": 16,
      "outputs": []
    },
    {
      "cell_type": "code",
      "source": [
        "!head --lines=40 /content/Parfum_Armenian.txt"
      ],
      "metadata": {
        "id": "D-rqBQ6nmn_3"
      },
      "execution_count": null,
      "outputs": []
    },
    {
      "cell_type": "code",
      "source": [
        "LCorrected1, DErrors1 = printLLParagraphs('/content/Parfum_Arm_ABBY.txt', '/content/Parfum_Arm_ABBY-corrected.txt', DWrongCorrectWordF)\n",
        "printCorrections(LCorrected1, '/content/Parfum_Arm_ABBY-changes.txt')\n",
        "print(len(LCorrected1))\n",
        "LCorrected2, DErrors2 = printLLParagraphs('/content/Parfum_Armenian.txt', '/content/Parfum_Armenian-corrected.txt', DWrongCorrectWordF)\n",
        "printCorrections(LCorrected2, '/content/Parfum_Armenian-changes.txt')\n",
        "print(len(LCorrected2))\n"
      ],
      "metadata": {
        "id": "18ZpAZaidUad"
      },
      "execution_count": null,
      "outputs": []
    },
    {
      "cell_type": "code",
      "source": [
        "\n",
        "'''\n",
        "print(len(LCorrected1))\n",
        "if LCorrected1:\n",
        "    FOut1 = open('/content/Parfum_Arm_ABBY-changes.txt', 'w')\n",
        "    for (el, elCorr, LContext, LPara) in LCorrected1:\n",
        "        SPara = ''.join(LPara)\n",
        "        SContext = ''.join(LContext)\n",
        "        FOut1.write( f'{el}\\t{elCorr}\\t{SContext}\\t{SPara}\\n\\n' )\n",
        "\n",
        "print(len(LCorrected2))\n",
        "if LCorrected2:\n",
        "    FOut2 = open('/content/Parfum_Armenian-changes.txt', 'w')\n",
        "    for (el, elCorr, LContext, LPara) in LCorrected2:\n",
        "        SPara = ''.join(LPara)\n",
        "        SContext = ''.join(LContext)\n",
        "        FOut2.write( f'{el}\\t{elCorr}\\t{SContext}\\t{SPara}\\n\\n' )\n",
        "'''\n",
        "\n",
        "'''\n",
        "if LCorrected1:\n",
        "    FOut1 = open('/content/KorpusARM1/stage02/hyFiktion-changes.txt', 'w')\n",
        "    for (el, elCorr, LPara) in LCorrected1:\n",
        "        SPara = ''.join(LPara)\n",
        "        FOut1.write( f'{el}  {elCorr}\\t\\t{SPara}\\n\\n' )\n",
        "'''\n",
        "\n",
        "'''\n",
        "if LCorrected1:\n",
        "    FOut1 = open('/content/KorpusARM1/stage02/hyNatur-changes.txt', 'w')\n",
        "    for (el, elCorr, LPara) in LCorrected1:\n",
        "        SPara = ''.join(LPara)\n",
        "        FOut1.write( f'{el}  {elCorr}\\t\\t{SPara}\\n\\n' )\n",
        "'''\n",
        "\n",
        "\n",
        "'''\n",
        "if LCorrected1:\n",
        "    FOut1 = open('/content/KorpusARM1/stage02/hyRecht-changes.txt', 'w')\n",
        "    for (el, elCorr, LPara) in LCorrected1:\n",
        "        SPara = ''.join(LPara)\n",
        "        FOut1.write( f'{el}  {elCorr}\\t\\t{SPara}\\n\\n' )\n",
        "'''\n"
      ],
      "metadata": {
        "id": "W9wMq0uvYkzj"
      },
      "execution_count": null,
      "outputs": []
    },
    {
      "cell_type": "code",
      "source": [
        "# LCorrected1 = printLLParagraphs('/content/KorpusARM1/stage02/hyFiktion.txt', '/content/KorpusARM1/stage02/hyFiktion-corrected.txt', DWrongCorrectWordF, DWrongCorrectLemmaF)\n",
        "LCorrected1, DErrors1 = printLLParagraphs('/content/KorpusARM1/stage02/hyFiktion.txt', '/content/KorpusARM1/stage02/hyFiktion-corrected.txt', DWrongCorrectWordF)\n",
        "print(len(LCorrected1))\n",
        "printCorrections(LCorrected1, '/content/KorpusARM1/stage02/hyFiktion-changes.txt')\n",
        "\n"
      ],
      "metadata": {
        "colab": {
          "base_uri": "https://localhost:8080/"
        },
        "id": "NluaBoyPwwbd",
        "outputId": "048e12f5-5fa5-4d39-de99-16bfe7af0c9f"
      },
      "execution_count": 19,
      "outputs": [
        {
          "output_type": "stream",
          "name": "stdout",
          "text": [
            "1118\n"
          ]
        }
      ]
    },
    {
      "cell_type": "code",
      "source": [
        "# LCorrected1 = printLLParagraphs('/content/KorpusARM1/stage02/hyNatur.txt', '/content/KorpusARM1/stage02/hyNatur-corrected.txt', DWrongCorrectWordF, DWrongCorrectLemmaF)\n",
        "LCorrected1, DErrors1 = printLLParagraphs('/content/KorpusARM1/stage02/hyNatur.txt', '/content/KorpusARM1/stage02/hyNatur-corrected.txt', DWrongCorrectWordF)\n",
        "print(len(LCorrected1))\n",
        "printCorrections(LCorrected1, '/content/KorpusARM1/stage02/hyNatur-changes.txt')\n",
        "\n"
      ],
      "metadata": {
        "colab": {
          "base_uri": "https://localhost:8080/"
        },
        "id": "206ue_Vvw8Rt",
        "outputId": "7ebcfdd7-6464-4fbf-f57a-560267c403b6"
      },
      "execution_count": 20,
      "outputs": [
        {
          "output_type": "stream",
          "name": "stdout",
          "text": [
            "586\n"
          ]
        }
      ]
    },
    {
      "cell_type": "code",
      "source": [
        "# LCorrected1 = printLLParagraphs('/content/KorpusARM1/stage02/hyRecht.txt', '/content/KorpusARM1/stage02/hyRecht-corrected.txt', DWrongCorrectWordF, DWrongCorrectLemmaF)\n",
        "LCorrected1, DErrors1 = printLLParagraphs('/content/KorpusARM1/stage02/hyRecht.txt', '/content/KorpusARM1/stage02/hyRecht-corrected.txt', DWrongCorrectWordF)\n",
        "print(len(LCorrected1))\n",
        "printCorrections(LCorrected1, '/content/KorpusARM1/stage02/hyRecht-changes.txt')\n",
        "\n"
      ],
      "metadata": {
        "colab": {
          "base_uri": "https://localhost:8080/"
        },
        "id": "dL4DLKC4w85F",
        "outputId": "a5c1b7b7-e88d-479d-fa42-0f1d9e32cf1b"
      },
      "execution_count": 21,
      "outputs": [
        {
          "output_type": "stream",
          "name": "stdout",
          "text": [
            "733\n"
          ]
        }
      ]
    },
    {
      "cell_type": "markdown",
      "source": [
        "## Wikipedia"
      ],
      "metadata": {
        "id": "lm9VfuuHQcy1"
      }
    },
    {
      "cell_type": "code",
      "source": [
        "try:\n",
        "    del LLParaWiki\n",
        "except:\n",
        "    pass"
      ],
      "metadata": {
        "id": "iUBiwliBxnhw"
      },
      "execution_count": 22,
      "outputs": []
    },
    {
      "cell_type": "code",
      "source": [
        "LLParaWiki = tokenizeTextHY('/content/hywiki-20221101-pages-articles.txt')"
      ],
      "metadata": {
        "id": "UxNe9VvuQfet",
        "colab": {
          "base_uri": "https://localhost:8080/"
        },
        "outputId": "d0f95b82-905d-4c40-8c10-a7432c5b1c25"
      },
      "execution_count": 23,
      "outputs": [
        {
          "output_type": "stream",
          "name": "stdout",
          "text": [
            "100000\n",
            "200000\n",
            "300000\n",
            "400000\n",
            "500000\n",
            "600000\n",
            "700000\n",
            "800000\n",
            "900000\n",
            "1000000\n",
            "1100000\n",
            "1200000\n",
            "1300000\n",
            "1400000\n",
            "1500000\n",
            "1600000\n",
            "1700000\n",
            "1800000\n",
            "1900000\n",
            "2000000\n",
            "2100000\n",
            "2200000\n",
            "2300000\n",
            "2400000\n"
          ]
        }
      ]
    },
    {
      "cell_type": "code",
      "source": [
        "len(LLParaWiki)"
      ],
      "metadata": {
        "colab": {
          "base_uri": "https://localhost:8080/"
        },
        "id": "u1nH00HmQ1Ld",
        "outputId": "7b8289be-21df-405d-c277-ba0c2e271601"
      },
      "execution_count": 24,
      "outputs": [
        {
          "output_type": "execute_result",
          "data": {
            "text/plain": [
              "2153019"
            ]
          },
          "metadata": {},
          "execution_count": 24
        }
      ]
    },
    {
      "cell_type": "code",
      "source": [
        "def llPara2dict(LLParagraphs):\n",
        "    DFreq = {}\n",
        "    p=0\n",
        "    for LPara in LLParagraphs:\n",
        "        p+=1\n",
        "        if p%200000 == 0:\n",
        "            print(p)\n",
        "        # if LPara == [] or LPara == ['']: continue\n",
        "        if LPara == []: continue\n",
        "        # FOut.write(str(LPara) + '\\n')\n",
        "        i = 0 # counting words\n",
        "        for el in LPara:\n",
        "            i+=1 # index of next word\n",
        "            try:\n",
        "                DFreq[el] += 1\n",
        "            except:\n",
        "                DFreq[el] = 1\n",
        "    return DFreq\n"
      ],
      "metadata": {
        "id": "xGYc-CldQ5_X"
      },
      "execution_count": 25,
      "outputs": []
    },
    {
      "cell_type": "code",
      "source": [
        "DWiki = llPara2dict(LLParaWiki)\n",
        "print(len(DWiki))"
      ],
      "metadata": {
        "colab": {
          "base_uri": "https://localhost:8080/"
        },
        "id": "MoTwYK30SDw-",
        "outputId": "aa5e4497-53a6-4053-abc8-0240cdca6cb4"
      },
      "execution_count": 26,
      "outputs": [
        {
          "output_type": "stream",
          "name": "stdout",
          "text": [
            "200000\n",
            "400000\n",
            "600000\n",
            "800000\n",
            "1000000\n",
            "1200000\n",
            "1400000\n",
            "1600000\n",
            "1800000\n",
            "2000000\n",
            "2071984\n"
          ]
        }
      ]
    },
    {
      "cell_type": "code",
      "source": [
        "FOut = open('hywiki-frqDict.txt', 'w')\n",
        "for key, val in sorted(DWiki.items(), key=lambda item: item[1], reverse=True):\n",
        "    FOut.write(f'{key}\\t{val}\\n')"
      ],
      "metadata": {
        "id": "fZpCsWIZShqu"
      },
      "execution_count": 27,
      "outputs": []
    },
    {
      "cell_type": "code",
      "source": [
        "!wc hywiki-frqDict.txt"
      ],
      "metadata": {
        "colab": {
          "base_uri": "https://localhost:8080/"
        },
        "id": "YvTzG-NfTNO9",
        "outputId": "6138ac36-a359-4075-f363-ca82cd546c9f"
      },
      "execution_count": 59,
      "outputs": [
        {
          "output_type": "stream",
          "name": "stdout",
          "text": [
            " 2071974  4150227 42482907 hywiki-frqDict.txt\n"
          ]
        }
      ]
    },
    {
      "cell_type": "code",
      "source": [
        "!head --lines=40 hywiki-frqDict.txt"
      ],
      "metadata": {
        "id": "ZXcZTSY4TRtE",
        "colab": {
          "base_uri": "https://localhost:8080/"
        },
        "outputId": "23f9c839-7e16-46d7-b88a-3567de7b51ba"
      },
      "execution_count": 34,
      "outputs": [
        {
          "output_type": "stream",
          "name": "stdout",
          "text": [
            " \t45115749\n",
            ", \t3587482\n",
            "է\t2867517\n",
            "։ \t2141449\n",
            "\t2133472\n",
            "և\t1431281\n",
            "։\t1178686\n",
            "-\t1158398\n",
            "են\t793983\n",
            ".\t579444\n",
            " (\t572112\n",
            " «\t481193\n",
            "էր\t450335\n",
            "թվականին\t368012\n",
            "» \t350735\n",
            "թվականի\t336776\n",
            "որ\t278851\n",
            ":\t237507\n",
            "հետ\t232666\n",
            "իր\t231051\n",
            "համար\t226997\n",
            ") \t222637\n",
            ". \t211023\n",
            "ին\t203305\n",
            "որը\t199580\n",
            "ի\t198086\n",
            ",\t180852\n",
            "նաև\t180028\n",
            "կազմում\t166400\n",
            "ու\t163805\n",
            "նա\t160536\n",
            "էին\t158305\n",
            "վրա\t151816\n",
            "այն\t140245\n",
            "իսկ\t136267\n",
            "), \t135676\n",
            "մի\t135370\n",
            "մեջ\t134756\n",
            "հետո\t131070\n",
            "կամ\t122179\n"
          ]
        }
      ]
    },
    {
      "cell_type": "markdown",
      "source": [
        "## Discover candidate rewriting rules systematically"
      ],
      "metadata": {
        "id": "6p6DaZz45mBQ"
      }
    },
    {
      "cell_type": "code",
      "source": [
        "print(len(LTWrongCorrectWordF))"
      ],
      "metadata": {
        "colab": {
          "base_uri": "https://localhost:8080/"
        },
        "id": "NQ8K3rTm5GEb",
        "outputId": "3820bf91-efee-4fe0-9bb3-7da9ed1782ae"
      },
      "execution_count": 28,
      "outputs": [
        {
          "output_type": "stream",
          "name": "stdout",
          "text": [
            "192\n"
          ]
        }
      ]
    },
    {
      "cell_type": "code",
      "source": [
        "for SWrong, SCorrect, Frq in LTWrongCorrectWordF:\n",
        "    print(SWrong, SCorrect)"
      ],
      "metadata": {
        "colab": {
          "base_uri": "https://localhost:8080/"
        },
        "id": "RBhvZXOI5OlY",
        "outputId": "359068b6-4a57-44f9-f8d8-e2d7bdc36d79"
      },
      "execution_count": 29,
      "outputs": [
        {
          "output_type": "stream",
          "name": "stdout",
          "text": [
            "[մերճակա] [մերձակա]\n",
            "[առջն] [առջև]\n",
            "[թեթնություն] [թեթևություն]\n",
            "[Եթենա] [եթե նա]\n",
            "[ննա] [նա]\n",
            "[ճեռքերն] [ձեռքից]\n",
            "[ճայն] [ձայն]\n",
            "[ճեռքով] [ձեռքով]\n",
            "[այլնս] [այլևս]\n",
            "[ետնի] [ետևի]\n",
            "[կեղնները] [կեղևները]\n",
            "[ճկան] [ձկան]\n",
            "[ննա] [նա]\n",
            "[բանաձնի] [բանաձևի]\n",
            "[առնտրական] [առևտրական]\n",
            "[արնելյան] [արևելյան]\n",
            "[կուղնորվի] [կուղևորվի]\n",
            "[նս] [ևս]\n",
            "[հետնեց] [հետևել]\n",
            "[նուխիսկ] [նույնիսկ]\n",
            "[երնույթ] [երևույթ]\n",
            "[քրտնքով] [քրտինքով]\n",
            "[արվարճանում] [արվարձանում]\n",
            "[անճամբ] [անձամբ]\n",
            "[ճայնը] [ձայնը]\n",
            "[ճգվում] [ձգվում]\n",
            "[ճիու] [ձիու]\n",
            "[դարճնում] [դարձնում]\n",
            "[ուղնորվում] [ուղևորվում ]\n",
            "[իջնանատան] [իջևանատան]\n",
            "[ճգտում] [ձգտում]\n",
            "[դրսնորում] [դրսևորում]\n",
            "[արվարճանի] [արվարձանի]\n",
            "[ետնում] [ետևում]\n",
            "[ճնավորված] [ձևավորված]\n",
            "[Հետնաբար] [հետևաբար]\n",
            "[այլնս] [այլևս]\n",
            "[Շավանաբար] [հավանաբար]\n",
            "[սկզբիցնեթ] [սկզբիցևեթ]\n",
            "[միջն] [միջև]\n",
            "[համաճայնության] [համաձայնություն]\n",
            "[Թերնս] [թերևս]\n",
            "[տերնի] [տերև]\n",
            "[թնատակերի] [թևատակ]\n",
            "[դոււս] [դուրս]\n",
            "[բարճրացավ] [բարձրանալ]\n",
            "[երկարատն] [երկարատև]\n",
            "[նախնառաջ] [նախևառաջ]\n",
            "[ներքնից] [ներքև]\n",
            "[առջնից] [առջև]\n",
            "[ճեռնոցագործական] [ձեռնոցագործական]\n",
            "[հարնան] [գարնան]\n",
            "[ճգտումը] [ձգտումը]\n",
            "[առջնում] [առջևում]\n",
            "[ճմռանը] [ձմռանը]\n",
            "[սնահեր] [սևահեր]\n",
            "[ծանրութեթն] [ծանրութեթև]\n",
            "[ճագի] [ձագի]\n",
            "[Այլնս] [այլևս]\n",
            "[ինճ] [ինձ]\n",
            "[ճեռքն] [ձեռքն]\n",
            "[արճագանք] [արձագանք]\n",
            "[ճմեռ] [ձմեռ]\n",
            "[պառկածէրգերեզմանատանվրա] [պառկած էր գերեզմանատան վրա]\n",
            "[ճմերուկների] [ձմերուկների]\n",
            "[ունողկալի] [ու նողկալի]\n",
            "[գլխապտույտնե] [գլխապտույտներ]\n",
            "[ճայնի] [ձայնի]\n",
            "[ճկների] [ձկների]\n",
            "[այլնայլ] [այլևայլ]\n",
            "[ճնականություններից] [ձևականություններից]\n",
            "[չուննորներին] [չունևորներին]\n",
            "[արճակվող] [արձակվել]\n",
            "[խամարդ] [տղամարդ]\n",
            "[Միգուցենա] [միգուցե նա]\n",
            "[ջղաճգութու] [Ջղաձգություն]\n",
            "[Դետեսնում] [դե տեսնում ]\n",
            "[բարճրաց] [բարձրացնել]\n",
            "[ինճ] [ինձ]\n",
            "[Որովհետն] [որովհետև]\n",
            "[ննույնիսկ] [նույնիսկ]\n",
            "[հուսահատեգնում] [հեւսահատեցնել]\n",
            "[որնրան] [որ նրան]\n",
            "[Ջգազմունքներից] [Զգացմունք]\n",
            "[մնահավատությոն] [սնահավատություն]\n",
            "[հեթանոսա] [հեթանոսացում]\n",
            "[խարույկՄ] [խարույկ]\n",
            "[տուցում] [մատուցում]\n",
            "[նականռթյան] [բանականություն]\n",
            "[անձր] [անձ, անձրև]\n",
            "[տարօրի] [տարօրինակ]\n",
            "[թնիկները] [թևիկ]\n",
            "[աստվածավախու] [աստվածավախություն]\n",
            "[բարճր] [բարձր]\n",
            "[լավէ] [լավ է]\n",
            "[Թռենել] [թռնել]\n",
            "[հանճնեց] [հանձնել]\n",
            "[Դհյոյում] [Դյո]\n",
            "[տակիզ] [տակից]\n",
            "[առջն] [առջև]\n",
            "[ետնից] [ետևից]\n",
            "[միջն] [միջև]\n",
            "[այնուհետն] [այնուհետև]\n",
            "[բացարճակապես] [բացարձակապես]\n",
            "[որնէ] [որևէ]\n",
            "[այլնս] [այլևս]\n",
            "[թեթն] [թեթև]\n",
            "[թեթնակի] [թեթևակի]\n",
            "[որնէ] [որևէ]\n",
            "[ետնում] [ետևում]\n",
            "[արնի] [արևի]\n",
            "[միննույն] [միևնույն]\n",
            "[վերնում] [վերևում]\n",
            "[ինճ] [ինչ]\n",
            "[արճակում] [արձակում]\n",
            "[թերնս] [թերևս]\n",
            "[երբնիցե] [երբևիցե]\n",
            "[ճեռքը] [ձեռքը]\n",
            "[երնակայության] [երևակայության]\n",
            "[արնմուտք] [արևմուտք]\n",
            "[ճեռք] [ձեռք]\n",
            "[ճեռքի] [ձեռքի]\n",
            "[ճայնով] [ձայնով]\n",
            "[նան] [նաև]\n",
            "[դեռնս] [դեռևս]\n",
            "[ճեռքերը] [ձեռքերը]\n",
            "[հետնում] [հետևում]\n",
            "[արճակող] [արձակող]\n",
            "[որնիցե] [որևիցե]\n",
            "[դեռնս] [դեռևս]\n",
            "[այլնս] [այլևս]\n",
            "[ճեռքին] [ձեռքին]\n",
            "[արնմտյան] [արևմտյան]\n",
            "[այլես] [այլևս]\n",
            "[Նախնառաջ] [նախևառաջ]\n",
            "[հոգնոր] [հոգևոր]\n",
            "[ճեռքերով] [ձեռքերով]\n",
            "[ներքնում] [ներքևում]\n",
            "[համարճակվում] [համարձակվում]\n",
            "[արնելք] [արևելք]\n",
            "[առանճին] [առանձին]\n",
            "[արնմուտքից] [արևմուտքից]\n",
            "[երնակայական] [երևակայական]\n",
            "[թնածում] [թևածում]\n",
            "[բանաճնի] [բանաձևի]\n",
            "[դարճավ] [դարձավ]\n",
            "[բանաճնը] [բանաձևը]\n",
            "[թեթնացած] [թեթևացած]\n",
            "[հետնելով] [հետևելով]\n",
            "[հետնել] [հետևել]\n",
            "[կարնոր] [կարևոր]\n",
            "[ճիու] [ձիու]\n",
            "[հեղճուցիչ] [հեղձուցիչ]\n",
            "[անճնական] [անձնական]\n",
            "[առջնից] [առջևից]\n",
            "[երնում] [երևում]\n",
            "[ինճ] [ինձ]\n",
            "[փորճ] [փորձ]\n",
            "[բանաձնը] [բանաձևը]\n",
            "[եթենա] [եթե]\n",
            "[ինճ] [ինձ]\n",
            "[փորճն] [փորձն]\n",
            "[բանաձն] [բանաձևն]\n",
            "[բանաճն] [բանաձևն]\n",
            "[բարճրացնել] [բարձրացնել]\n",
            "[Այլնս] [այլևս]\n",
            "[սնահեր] [սևահեր]\n",
            "[բացարճակ] [բացարձակ]\n",
            "[ճգտելով] [ձգտելով]\n",
            "[բանաճներ] [բանաձևեր]\n",
            "[թեն] [թեև]\n",
            "[տերնները] [տերևերը]\n",
            "[բարճունքներում] [բարձունքներում]\n",
            "[առնտուրը] [առևտուրը]\n",
            "[անճամբ] [անձամբ]\n",
            "[օթնան] [օթևան]\n",
            "[բանաճներով] [բանաձներով]\n",
            "[արճակել] [արձակել]\n",
            "[բնեռը] [բևեռը]\n",
            "[օճեր] [օձեր]\n",
            "[ոջ] [ոչ]\n",
            "[անձրնը] [անձրևը]\n",
            "[թեթն] [թեթև]\n",
            "[ճգում] [ձգում]\n",
            "[տաքագնում] [տաքացնում]\n",
            "[Հնայած] [Չնայած]\n",
            "[ճեռքերի] [Ձեռքերի]\n",
            "[այխքան] [այդքան]\n",
            "[ճնացրեց] [ձևացրեց]\n",
            "[երնակայությունների] [երևակայությունների]\n",
            "[առջն] [առջև]\n",
            "[բարճր] [բարձր]\n"
          ]
        }
      ]
    },
    {
      "cell_type": "code",
      "source": [
        "# functions to compare two strings\n",
        "import os\n",
        "def getCmnPrefix(S1, S2):\n",
        "    common = os.path.commonprefix([S1, S2])\n",
        "    return common\n",
        "\n",
        "\n",
        "def getCmnSuffix(S1,S2):\n",
        "    S1r = S1[::-1]\n",
        "    S2r = S2[::-1]\n",
        "    commonR = getCmnPrefix(S1r, S2r)\n",
        "    common = commonR[::-1]\n",
        "    return common\n",
        "\n",
        "def getDifInfix(S1, S2, LContext = 0, RContext = 0):\n",
        "    IPLen = len(getCmnPrefix(S1, S2))\n",
        "    # print('IPLen', IPLen)\n",
        "    ISLen = len(getCmnSuffix(S1, S2))\n",
        "    # print('ISLen', ISLen)\n",
        "    diffInfix1 = S1[IPLen-LContext:-1*(ISLen)+RContext]\n",
        "    # print('S1', S1, IPLen-LContext, -1*(ISLen)+RContext)\n",
        "    diffInfix2 = S2[IPLen-LContext:-1*(ISLen)+RContext]\n",
        "    # print('S2', S2, IPLen-LContext, -1*(ISLen)+RContext)\n",
        "    return(diffInfix1, diffInfix2)\n",
        "\n",
        "def getDifSuffix(S1, S2, LContext = 0):\n",
        "    # used if common suffix == ''\n",
        "    IPLen = len(getCmnPrefix(S1, S2))\n",
        "    # print('IPLen', IPLen)\n",
        "    ISLen = len(getCmnSuffix(S1, S2))\n",
        "    # print('ISLen', ISLen)\n",
        "    if ISLen == 0:\n",
        "        diffSuffix1 = S1[IPLen-LContext:]\n",
        "        diffSuffix2 = S2[IPLen-LContext:]\n",
        "    else:\n",
        "        diffSuffix1 = ''\n",
        "        diffSuffix2 = ''\n",
        "    return(diffSuffix1, diffSuffix2)\n",
        "\n",
        "def getDifPrefix(S1, S2, RContext = 0):\n",
        "    # used if common suffix == ''\n",
        "    IPLen = len(getCmnPrefix(S1, S2))\n",
        "    # print('IPLen', IPLen)\n",
        "    ISLen = len(getCmnSuffix(S1, S2))\n",
        "    # print('ISLen', ISLen)\n",
        "    if IPLen == 0:\n",
        "        diffPrefix1 = S1[:-1*(ISLen)+RContext]\n",
        "        diffPrefix2 = S2[:-1*(ISLen)+RContext]\n",
        "    else:\n",
        "        diffPrefix1 = ''\n",
        "        diffPrefix2 = ''\n",
        "\n",
        "    return(diffPrefix1, diffPrefix2)\n",
        "\n",
        "def getDiff(S1, S2, LContext = 0, RContext = 0):\n",
        "    IPLen = len(getCmnPrefix(S1, S2))\n",
        "    ISLen = len(getCmnSuffix(S1, S2))\n",
        "    if IPLen and ISLen:\n",
        "        diff1 = S1[IPLen-LContext:-1*(ISLen)+RContext]\n",
        "        diff2 = S2[IPLen-LContext:-1*(ISLen)+RContext]\n",
        "    elif IPLen: # there is a common prefix, find different suffixes\n",
        "        diff1 = S1[IPLen-LContext:]\n",
        "        diff2 = S2[IPLen-LContext:]\n",
        "    elif ISLen: # there is a common suffix, find different prefixes\n",
        "        diff1 = S1[:-1*(ISLen)+RContext]\n",
        "        diff2 = S2[:-1*(ISLen)+RContext]\n",
        "    else:\n",
        "        diff1 = S1\n",
        "        diff2 = S2\n",
        "    return (diff1, diff2)\n",
        "\n",
        "\n",
        "def getPrefInfSuf(S1, S2):\n",
        "    P12 = ''\n",
        "    I1 = ''\n",
        "    I2 = ''\n",
        "    S12 = ''\n",
        "    try:\n",
        "        I1, I2 = getDifInfix(S1, S2, LContext = 0, RContext = 0)\n",
        "    except:\n",
        "        I1 = None\n",
        "        I2 = None\n",
        "    try:\n",
        "        P12 = getCmnPrefix(S1, S2)\n",
        "    except:\n",
        "        P12 = None\n",
        "    try:\n",
        "        S12 = getCmnSuffix(S1, S2)\n",
        "    except:\n",
        "        S12 = None\n",
        "\n",
        "    return P12, I1, I2, S12\n",
        "\n",
        "# testing\n",
        "P12, I1, I2, S12 = getPrefInfSuf('[перепливи]', '[перелови]')\n",
        "print(P12, ' | ', I1, ' > ', I2, ' | ', S12)\n",
        "\n",
        "P12, I1, I2, S12 = getPrefInfSuf('[розгубився]', '[розгубивсь]')\n",
        "print(P12, ' | ', I1, ' > ', I2, ' | ', S12)\n",
        "\n",
        "P12, I1, I2, S12 = getPrefInfSuf('[вловив]', '[зловив]')\n",
        "print(P12, ' | ', I1, ' > ', I2, ' | ', S12)\n",
        "\n",
        "P12, I1, I2, S12 = getPrefInfSuf('[переходити]', '[перешкодити]')\n",
        "print(P12, ' | ', I1, ' > ', I2, ' | ', S12)\n",
        "\n",
        "P12, I1, I2, S12 = getPrefInfSuf('[переходити]', '[перешкоджати]')\n",
        "print(P12, ' | ', I1, ' > ', I2, ' | ', S12)\n",
        "\n",
        "P12, I1, I2, S12 = getPrefInfSuf('[ходити]', '[перешкоджати]')\n",
        "print(P12, ' | ', I1, ' > ', I2, ' | ', S12)\n",
        "\n",
        "\n",
        "\n",
        "\n",
        "\n",
        "'''\n",
        "[մերճակա] [մերձակա]\n",
        "[առջն] [առջև]\n",
        "[թեթնություն] [թեթևություն]\n",
        "[Եթենա] [եթե նա]\n",
        "[ննա] [նա]\n",
        "[ճեռքերն] [ձեռքից]\n",
        "[ճայն] [ձայն]\n",
        "[ճեռքով] [ձեռքով]\n",
        "[այլնս] [այլևս]\n",
        "[ետնի] [ետևի]\n",
        "[կեղնները] [կեղևները]\n",
        "\n",
        "'''\n",
        "\n"
      ],
      "metadata": {
        "colab": {
          "base_uri": "https://localhost:8080/"
        },
        "id": "usmxjH-f6Pad",
        "outputId": "43143e2b-975d-47da-d8ef-5748816eba44"
      },
      "execution_count": 30,
      "outputs": [
        {
          "output_type": "stream",
          "name": "stdout",
          "text": [
            "[пере  |  пли  >  ло  |  ви]\n",
            "[розгубивс  |  я  >  ь  |  ]\n",
            "[  |  в  >  з  |  ловив]\n",
            "[пере  |  х  >  шк  |  одити]\n",
            "[пере  |  ходи  >  шкоджа  |  ти]\n",
            "[  |  ходи  >  перешкоджа  |  ти]\n"
          ]
        }
      ]
    },
    {
      "cell_type": "code",
      "source": [
        "'''\n",
        "# testing\n",
        "P12 = getCmnPrefix('[перепливи]', '[перелови]')\n",
        "S12 = getCmnSuffix('[перепливи]', '[перелови]')\n",
        "# I1, I2 = getDifInfix('перепливи', 'перелови')\n",
        "# print(P12, S12)\n",
        "# print(I1, I2)\n",
        "\n",
        "I1, I2 = getDifInfix('[перепливи]', '[перелови]', LContext = 0, RContext = 0)\n",
        "print('rule:', I1, I2)\n",
        "print('prefix-suffix:', P12, S12)\n",
        "\n",
        "S1, S2 = getDifSuffix('розгубився', 'розгубивсь', LContext = 0)\n",
        "print(S1, S2)\n",
        "S1, S2 = getDifSuffix('розгубився', 'розгубивс', LContext = 0)\n",
        "print(S1, S2)\n",
        "\n",
        "S1, S2 = getDifPrefix('вловив', 'зловив', RContext = 0)\n",
        "print(S1, S2)\n",
        "S1, S2 = getDifPrefix('ловив', 'зловив', RContext = 0)\n",
        "print(S1, S2)\n",
        "\n",
        "print('new version....')\n",
        "I1, I2 = getDiff('перепливи', 'перелови', LContext = 1, RContext = 1)\n",
        "print(I1, I2)\n",
        "\n",
        "S1, S2 = getDiff('розгубився', 'розгубивсь', LContext = 1)\n",
        "print(S1, S2)\n",
        "S1, S2 = getDiff('розгубився', 'розгубивс', LContext = 1)\n",
        "print(S1, S2)\n",
        "\n",
        "S1, S2 = getDiff('вловив', 'зловив', RContext = 1)\n",
        "print(S1, S2)\n",
        "S1, S2 = getDiff('ловив', 'зловив', RContext = 1)\n",
        "print(S1, S2)\n",
        "\n",
        "'''\n"
      ],
      "metadata": {
        "id": "VljM6wAy-L_O"
      },
      "execution_count": null,
      "outputs": []
    },
    {
      "cell_type": "code",
      "source": [
        "def createSufList(a):\n",
        "    ''' odyty] --> odyty], odyty, odyt, ody, od, o, \"\" '''\n",
        "    LSuf = []\n",
        "    for j in range(1,len(a)+1):\n",
        "        prefix = a[:j]\n",
        "        LSuf.append(prefix)\n",
        "        # print(j, len(prefix), LSuf)\n",
        "    LSuf.insert(0, '')\n",
        "    return LSuf\n",
        "\n",
        "createSufList('odyty]')"
      ],
      "metadata": {
        "colab": {
          "base_uri": "https://localhost:8080/"
        },
        "id": "gwkewYUg_UVx",
        "outputId": "499f2ced-1682-4c7a-dc13-1bb98d158898"
      },
      "execution_count": 31,
      "outputs": [
        {
          "output_type": "execute_result",
          "data": {
            "text/plain": [
              "['', 'o', 'od', 'ody', 'odyt', 'odyty', 'odyty]']"
            ]
          },
          "metadata": {},
          "execution_count": 31
        }
      ]
    },
    {
      "cell_type": "code",
      "source": [
        "def createPrefList(s):\n",
        "    LPref = [s[-i:] for i in range(1, len(s) + 1)]\n",
        "    LPref.insert(0, '')\n",
        "    # print(LPref)\n",
        "    return LPref\n",
        "\n",
        "createPrefList('[pere')"
      ],
      "metadata": {
        "colab": {
          "base_uri": "https://localhost:8080/"
        },
        "id": "M5b8Q6y1Ccwa",
        "outputId": "95d170c7-10d9-4888-a65d-b467910d40cc"
      },
      "execution_count": 32,
      "outputs": [
        {
          "output_type": "execute_result",
          "data": {
            "text/plain": [
              "['', 'e', 're', 'ere', 'pere', '[pere']"
            ]
          },
          "metadata": {},
          "execution_count": 32
        }
      ]
    },
    {
      "cell_type": "markdown",
      "source": [
        "### we create the list of potential rewrite rules"
      ],
      "metadata": {
        "id": "72QxAaxMEEpZ"
      }
    },
    {
      "cell_type": "code",
      "source": [
        "# this function updates the given (global) dictionary with the set of rewrite rules derived from a rewriting\n",
        "'''\n",
        "def twoWords2listOfRules(W1, W2, DTRulesLen = None, DTRules = None, LTRules = None):\n",
        "    if not DTRules: DTRules = {}\n",
        "    if not DTRulesLen: DTRulesLen = {}\n",
        "    if not LTRules: LTRules = []\n",
        "\n",
        "    P12, I1, I2, S12 = getPrefInfSuf(W1, W2)\n",
        "    print(P12, I1, I2, S12)\n",
        "    LPref12 = createPrefList(P12)\n",
        "    LSuf12 = createSufList(S12)\n",
        "\n",
        "    for pref in LPref12:\n",
        "        for suf in LSuf12:\n",
        "            SlhsRule = pref + I1 + suf\n",
        "            SrhsRule = pref + I2 + suf\n",
        "            TRules = (SlhsRule, SrhsRule)\n",
        "            LTRules.append(TRules)\n",
        "            try:\n",
        "                DTRules[TRules] += 1\n",
        "            except:\n",
        "                DTRules[TRules] = 1\n",
        "\n",
        "            try:\n",
        "                DTRulesLen[TRules] = len(SlhsRule)\n",
        "            except:\n",
        "                continue\n",
        "    return LTRules, DTRules, DTRulesLen\n",
        "'''\n",
        "\n",
        "\n",
        "def twoWords2listOfRules(W1, W2):\n",
        "    DTRules = {}\n",
        "    DTRulesLen = {}\n",
        "    LTRules = []\n",
        "    P12, I1, I2, S12 = getPrefInfSuf(W1, W2)\n",
        "    print(P12, I1, I2, S12)\n",
        "    LPref12 = createPrefList(P12)\n",
        "    LSuf12 = createSufList(S12)\n",
        "\n",
        "    for pref in LPref12:\n",
        "        for suf in LSuf12:\n",
        "            SlhsRule = pref + I1 + suf\n",
        "            SrhsRule = pref + I2 + suf\n",
        "            TRules = (SlhsRule, SrhsRule)\n",
        "            LTRules.append(TRules)\n",
        "            try:\n",
        "                DTRules[TRules] += 1\n",
        "            except:\n",
        "                DTRules[TRules] = 1\n",
        "\n",
        "            try:\n",
        "                DTRulesLen[TRules] = len(SlhsRule)\n",
        "            except:\n",
        "                continue\n",
        "    return LTRules, DTRules, DTRulesLen\n",
        "\n",
        "\n",
        "def printFrqTDict(DTFrq, FOut = None):\n",
        "    for key, val in sorted(DTFrq.items(), key=lambda x:x[1], reverse=True):\n",
        "        LHS, RHS = key\n",
        "        if FOut:\n",
        "            FOut.write(f'{LHS}, {RHS}, {str(val)}\\n')\n",
        "        else:\n",
        "            print(LHS, RHS, str(val))\n",
        "    if FOut:\n",
        "        FOut.flush()\n",
        "\n",
        "def printTList(LTuples, FOut = None):\n",
        "    for el in LTuples:\n",
        "        LHS, RHS = el\n",
        "        if FOut:\n",
        "            FOut.write(f'{LHS}, {RHS}\\n')\n",
        "        else:\n",
        "            print(LHS, RHS)\n",
        "    if FOut:\n",
        "        FOut.flush()\n",
        "\n",
        "LTRules, DTRules, DTRulesLen = twoWords2listOfRules('[перепливи]', '[перелови]')\n",
        "FOut = open('printFrqTDict-test.txt', 'w')\n",
        "printFrqTDict(DTRules, FOut)\n",
        "FOut0 = open('printFrqTDictLen-test.txt', 'w')\n",
        "printFrqTDict(DTRulesLen, FOut0)\n",
        "FOut1 = open('printTList-test.txt', 'w')\n",
        "printTList(LTRules, FOut1)"
      ],
      "metadata": {
        "colab": {
          "base_uri": "https://localhost:8080/"
        },
        "id": "yr6ic-xSEO_2",
        "outputId": "abf207a0-e316-4996-a5c8-8ccbf1e36999"
      },
      "execution_count": 33,
      "outputs": [
        {
          "output_type": "stream",
          "name": "stdout",
          "text": [
            "[пере пли ло ви]\n"
          ]
        }
      ]
    },
    {
      "cell_type": "code",
      "source": [
        "def findLongestMatch(SInput, DTRulesLength):\n",
        "    SOutput = None\n",
        "    for key, val in sorted(DTRulesLength.items(), key=lambda x:x[1], reverse=True):\n",
        "        LHS, RHS = key\n",
        "        if LHS in SInput:\n",
        "            SOutput = SInput.replace(LHS, RHS, 1)\n",
        "            break\n",
        "    return SOutput, SInput, key, val\n",
        "\n",
        "SOutput1, SInput, rule, len = findLongestMatch('[перепливи]', DTRulesLen)\n",
        "if SOutput1: print(SOutput1, SInput, rule, len )\n",
        "\n",
        "SOutput1, SInput, rule, len = findLongestMatch('[перепливав]', DTRulesLen)\n",
        "if SOutput1: print(SOutput1, SInput, rule, len )\n",
        "\n",
        "SOutput1, SInput, rule, len = findLongestMatch('[запливала]', DTRulesLen)\n",
        "if SOutput1: print(SOutput1, SInput, rule, len )\n",
        "\n",
        "\n",
        "\n",
        "'''\n",
        "[մերճակա] [մերձակա]\n",
        "[առջն] [առջև]\n",
        "[թեթնություն] [թեթևություն]\n",
        "[Եթենա] [եթե նա]\n",
        "[ննա] [նա]\n",
        "[ճեռքերն] [ձեռքից]\n",
        "[ճայն] [ձայն]\n",
        "[ճեռքով] [ձեռքով]\n",
        "[այլնս] [այլևս]\n",
        "[ետնի] [ետևի]\n",
        "[կեղնները] [կեղևները]\n",
        "\n",
        "'''\n",
        "\n"
      ],
      "metadata": {
        "colab": {
          "base_uri": "https://localhost:8080/"
        },
        "id": "M9o5f8XpJ6Fo",
        "outputId": "7e2cd9be-9168-4ac7-cf99-4d0e6d1bb870"
      },
      "execution_count": 114,
      "outputs": [
        {
          "output_type": "stream",
          "name": "stdout",
          "text": [
            "[перелови] [перепливи] ('[перепливи]', '[перелови]') 11\n",
            "[переловав] [перепливав] ('[переплив', '[перелов') 9\n",
            "[заловала] [запливала] ('плив', 'лов') 4\n"
          ]
        }
      ]
    }
  ]
}