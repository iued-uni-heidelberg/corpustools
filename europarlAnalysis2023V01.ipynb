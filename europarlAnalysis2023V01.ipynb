{
  "nbformat": 4,
  "nbformat_minor": 0,
  "metadata": {
    "colab": {
      "provenance": [],
      "authorship_tag": "ABX9TyOeHnR74AOyV5IWtubuOghg",
      "include_colab_link": true
    },
    "kernelspec": {
      "name": "python3",
      "display_name": "Python 3"
    },
    "language_info": {
      "name": "python"
    }
  },
  "cells": [
    {
      "cell_type": "markdown",
      "metadata": {
        "id": "view-in-github",
        "colab_type": "text"
      },
      "source": [
        "<a href=\"https://colab.research.google.com/github/iued-uni-heidelberg/corpustools/blob/main/europarlAnalysis2023V01.ipynb\" target=\"_parent\"><img src=\"https://colab.research.google.com/assets/colab-badge.svg\" alt=\"Open In Colab\"/></a>"
      ]
    },
    {
      "cell_type": "markdown",
      "source": [
        "# Analysing Europarl corpora: directionality in translation\n",
        "## Discovering translation parameter in original vs. translated corpora"
      ],
      "metadata": {
        "id": "_fAptxiKWpvH"
      }
    },
    {
      "cell_type": "code",
      "execution_count": null,
      "metadata": {
        "id": "PkEzhCUxWdA0"
      },
      "outputs": [],
      "source": [
        "%%bash\n",
        "# dowloading datasets\n",
        "wget https://heibox.uni-heidelberg.de/f/a1cb95b59a404c1998ab/?dl=1\n",
        "mv index.html?dl=1 ep_org_de.tgz\n",
        "wget https://heibox.uni-heidelberg.de/f/ad00fed92da841198943/?dl=1\n",
        "mv index.html?dl=1 ep_org_en.tgz\n",
        "wget https://heibox.uni-heidelberg.de/f/b4913557be5b44dba797/?dl=1\n",
        "mv index.html?dl=1 ep_trans_de_en.tgz\n",
        "wget https://heibox.uni-heidelberg.de/f/7d1f642beb434d4a8878/?dl=1\n",
        "mv index.html?dl=1 ep_trans_en_de.tgz"
      ]
    },
    {
      "cell_type": "markdown",
      "source": [
        "## Original and translation corpora"
      ],
      "metadata": {
        "id": "yL48o6qzWoYH"
      }
    },
    {
      "cell_type": "code",
      "source": [
        "%%bash\n",
        "ls ./"
      ],
      "metadata": {
        "colab": {
          "base_uri": "https://localhost:8080/"
        },
        "id": "tCUDcKFuYTno",
        "outputId": "5ebd62a2-bb32-4f7f-e7a4-613156d477fc"
      },
      "execution_count": 4,
      "outputs": [
        {
          "output_type": "stream",
          "name": "stdout",
          "text": [
            "ep_org_de.tgz\n",
            "ep_org_en.tgz\n",
            "ep_trans_de_en.tgz\n",
            "ep_trans_en_de.tgz\n",
            "sample_data\n"
          ]
        }
      ]
    },
    {
      "cell_type": "code",
      "source": [
        "%%bash\n",
        "tar xvzf ep_org_de.tgz\n",
        "tar xvzf ep_org_en.tgz\n",
        "tar xvzf ep_trans_de_en.tgz\n",
        "tar xvzf ep_trans_en_de.tgz"
      ],
      "metadata": {
        "id": "68rHSjARYb0m"
      },
      "execution_count": null,
      "outputs": []
    }
  ]
}