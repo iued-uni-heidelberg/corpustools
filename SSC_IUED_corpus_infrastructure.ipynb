{
  "nbformat": 4,
  "nbformat_minor": 0,
  "metadata": {
    "colab": {
      "name": "SSC-IUED-corpus-infrastructure.ipynb",
      "provenance": [],
      "authorship_tag": "ABX9TyO5hau18reB3s+j5QLkcCoF",
      "include_colab_link": true
    },
    "kernelspec": {
      "name": "python3",
      "display_name": "Python 3"
    },
    "language_info": {
      "name": "python"
    }
  },
  "cells": [
    {
      "cell_type": "markdown",
      "metadata": {
        "id": "view-in-github",
        "colab_type": "text"
      },
      "source": [
        "<a href=\"https://colab.research.google.com/github/iued-uni-heidelberg/corpustools/blob/main/SSC_IUED_corpus_infrastructure.ipynb\" target=\"_parent\"><img src=\"https://colab.research.google.com/assets/colab-badge.svg\" alt=\"Open In Colab\"/></a>"
      ]
    },
    {
      "cell_type": "code",
      "source": [
        ""
      ],
      "metadata": {
        "id": "VSrJLZ8FYuQC"
      },
      "execution_count": null,
      "outputs": []
    },
    {
      "cell_type": "markdown",
      "source": [
        "# SSC - IÜD collaboration\n",
        "## Corpus infrastructure\n",
        "### Accessing the development environment\n",
        "\n",
        "> follow the link https://ssc-jupyter.iwr.uni-heidelberg.de/, then log in with your uniID / password\n",
        "\n",
        "> in \"Server options\" choose \"Corpus development environment\"\n"
      ],
      "metadata": {
        "id": "uea1gb_JV91J"
      }
    },
    {
      "cell_type": "code",
      "source": [
        ""
      ],
      "metadata": {
        "id": "NK3TPmeVYvk1"
      },
      "execution_count": null,
      "outputs": []
    }
  ]
}