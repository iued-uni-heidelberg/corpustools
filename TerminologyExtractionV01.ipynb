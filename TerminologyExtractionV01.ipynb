{
  "nbformat": 4,
  "nbformat_minor": 0,
  "metadata": {
    "colab": {
      "provenance": [],
      "authorship_tag": "ABX9TyPnVm+0UU9ib7SDRCZYDKmk",
      "include_colab_link": true
    },
    "kernelspec": {
      "name": "python3",
      "display_name": "Python 3"
    },
    "language_info": {
      "name": "python"
    }
  },
  "cells": [
    {
      "cell_type": "markdown",
      "metadata": {
        "id": "view-in-github",
        "colab_type": "text"
      },
      "source": [
        "<a href=\"https://colab.research.google.com/github/iued-uni-heidelberg/corpustools/blob/main/TerminologyExtractionV01.ipynb\" target=\"_parent\"><img src=\"https://colab.research.google.com/assets/colab-badge.svg\" alt=\"Open In Colab\"/></a>"
      ]
    },
    {
      "cell_type": "markdown",
      "source": [
        "## Install morphological analysis tools\n"
      ],
      "metadata": {
        "id": "Ojp0QhEHhCyQ"
      }
    },
    {
      "cell_type": "code",
      "execution_count": null,
      "metadata": {
        "id": "tgCBgAOdg2o1"
      },
      "outputs": [],
      "source": [
        "%%bash\n",
        "mkdir treetagger\n",
        "cd treetagger\n",
        "# Download the tagger package for your system (PC-Linux, Mac OS-X, ARM64, ARMHF, ARM-Android, PPC64le-Linux).\n",
        "wget https://cis.lmu.de/~schmid/tools/TreeTagger/data/tree-tagger-linux-3.2.4.tar.gz\n",
        "tar -xzvf tree-tagger-linux-3.2.4.tar.gz\n",
        "# Download the tagging scripts into the same directory.\n",
        "wget https://cis.lmu.de/~schmid/tools/TreeTagger/data/tagger-scripts.tar.gz\n",
        "gunzip tagger-scripts.tar.gz\n",
        "# Download the installation script install-tagger.sh.\n",
        "wget https://cis.lmu.de/~schmid/tools/TreeTagger/data/install-tagger.sh\n",
        "# Download the parameter files for the languages you want to process.\n",
        "# list of all files (parameter files) https://cis.lmu.de/~schmid/tools/TreeTagger/#parfiles\n",
        "wget https://cis.lmu.de/~schmid/tools/TreeTagger/data/english.par.gz\n",
        "sh install-tagger.sh\n",
        "cd ..\n",
        "sudo pip install treetaggerwrapper\n"
      ]
    },
    {
      "cell_type": "code",
      "source": [
        "%%bash\n",
        "wget https://heibox.uni-heidelberg.de/f/95a3875771c040db959a/?dl=1\n",
        "mv index.html?dl=1 humanrights02.txt\n",
        "\n",
        "wget https://heibox.uni-heidelberg.de/f/a79b829e15c24dbd9e77/?dl=1\n",
        "mv index.html?dl=1 covid3m-en.txt\n",
        "\n",
        "wget https://heibox.uni-heidelberg.de/f/e3c1edbcec9649f5b4c4/?dl=1\n",
        "mv index.html?dl=1 TED2020-enka-en.txt\n",
        "\n",
        "!wget https://heibox.uni-heidelberg.de/f/cdf240db84ca4718b718/?dl=1\n",
        "!mv index.html?dl=1 go1984.txt\n"
      ],
      "metadata": {
        "id": "xDIWClMViG6J"
      },
      "execution_count": null,
      "outputs": []
    },
    {
      "cell_type": "code",
      "source": [
        "\n",
        "!./treetagger/cmd/tree-tagger-english humanrights02.txt >humanrights02_vert.txt\n",
        "\n",
        "!./treetagger/cmd/tree-tagger-english covid3m-en.txt >covid3m-en_vert.txt\n",
        "\n",
        "!./treetagger/cmd/tree-tagger-english TED2020-enka-en.txt >TED2020-enka-en_vert.txt\n",
        "\n",
        "!./treetagger/cmd/tree-tagger-english go1984.txt >go1984_vert.txt"
      ],
      "metadata": {
        "id": "V6aS-zsfiUJB"
      },
      "execution_count": null,
      "outputs": []
    },
    {
      "cell_type": "code",
      "source": [
        "!head --lines=20 humanrights02_vert.txt"
      ],
      "metadata": {
        "id": "6H-vbWJmho36"
      },
      "execution_count": null,
      "outputs": []
    },
    {
      "cell_type": "code",
      "source": [
        "!head --lines=20 TED2020-enka-en_vert.txt"
      ],
      "metadata": {
        "id": "xctPRHHPhqTK"
      },
      "execution_count": null,
      "outputs": []
    },
    {
      "cell_type": "code",
      "source": [
        "!head --lines=20 covid3m-en_vert.txt"
      ],
      "metadata": {
        "id": "ENxIWodWhteB"
      },
      "execution_count": null,
      "outputs": []
    },
    {
      "cell_type": "markdown",
      "source": [
        "## Terminology extraction scripts\n"
      ],
      "metadata": {
        "id": "jEZNlzgbic-d"
      }
    },
    {
      "cell_type": "code",
      "source": [
        "import os, re, sys, time\n",
        "def printDict(DictionaryFrq, FileOut, FileOut1):\n",
        "    for Word, Frq in sorted( DictionaryFrq.items() , key=lambda x: x[1], reverse=True):\n",
        "        if re.search(' ', Word):\n",
        "            FileOut.write(Word + '\\t' + str(Frq) + '\\n')\n",
        "        else:\n",
        "            FileOut1.write(Word + '\\t' + str(Frq) + '\\n')\n",
        "\n",
        "    FileOut.flush()\n",
        "    FileOut1.flush()\n",
        "        \n",
        "\n",
        "\n",
        "def openFiles(SFIn, SFOut, SFOut1):\n",
        "    FInStream = open(SFIn, 'r')\n",
        "    FOutStream = open(SFOut, 'w')\n",
        "    FOutStream1 = open(SFOut1, 'w')\n",
        "    return FInStream, FOutStream, FOutStream1\n",
        "\n",
        "\n",
        "class clProcCorpus(object):\n",
        "    ''' we will read a text file and return a dictionary\n",
        "    this will be done on the line by line basis\n",
        "    The dictionary can be sorted later...\n",
        "    '''\n",
        "    # this is a class for processing a corpus\n",
        "\n",
        "    def __init__(self, FileIN):\n",
        "        self.DictFrq = {}\n",
        "        self.processCorpus(FileIN)\n",
        "\n",
        "    def processCorpus(self, FileIN):\n",
        "        LTerm = []\n",
        "        k = 0\n",
        "        for Line in FileIN:\n",
        "            k+=1\n",
        "            if k%500000 == 0: print(str(k))\n",
        "            Line = Line.strip()\n",
        "            LLine = re.split('\\t', Line)\n",
        "            try:\n",
        "                Word = LLine[0]\n",
        "                PoS = LLine[1]\n",
        "                Lemma = LLine[2]\n",
        "            except:\n",
        "                Word = \"\"\n",
        "                PoS = \"\"\n",
        "                Lemma = \"\"\n",
        "            \n",
        "      #Select the Tags for your langauge\n",
        "            #if re.match('N.*', PoS) or re.match('A.*', PoS): #Arm\n",
        "            #if re.match('N.*', PoS) or re.match('ADJ.*', PoS): #DE\n",
        "            if re.match('N.*', PoS) or re.match('J.*', PoS): #EN\n",
        "\n",
        "      #Terms as Words or Lemmas\n",
        "                LTerm.append(Word)\n",
        "                # LTerm.append(Lemma)\n",
        "            else:\n",
        "                STerm = ' '.join(LTerm)\n",
        "                LTerm = []\n",
        "\n",
        "                try:\n",
        "                    self.DictFrq[STerm] += 1\n",
        "                except:\n",
        "                    self.DictFrq[STerm] = 1        \n",
        "\n",
        "        return"
      ],
      "metadata": {
        "id": "mCe4cUdlifox"
      },
      "execution_count": 7,
      "outputs": []
    },
    {
      "cell_type": "code",
      "source": [
        "\n",
        "FIn, FOut, FOut1 = openFiles('humanrights02_vert.txt', 'humanrights02_terms.txt', 'humanrights02_terms1.txt')\n"
      ],
      "metadata": {
        "id": "q779D48Fi_s4"
      },
      "execution_count": 8,
      "outputs": []
    },
    {
      "cell_type": "code",
      "source": [
        "\n",
        "FIn, FOut, FOut1 = openFiles('covid3m-en_vert.txt', 'covid3m-en_terms.txt', 'covid3m-en_terms1.txt')"
      ],
      "metadata": {
        "id": "HQ75nTIOjG5Y"
      },
      "execution_count": 9,
      "outputs": []
    },
    {
      "cell_type": "code",
      "source": [
        "\n",
        "FIn, FOut, FOut1 = openFiles('TED2020-enka-en_vert.txt', 'TED2020-enka-en_terms.txt', 'TED2020-enka-en_terms1.txt')"
      ],
      "metadata": {
        "id": "54dAZD1fjKcR"
      },
      "execution_count": null,
      "outputs": []
    },
    {
      "cell_type": "code",
      "source": [
        "OCorpus = clProcCorpus(FIn)\n",
        "printDict(OCorpus.DictFrq, FOut, FOut1)\n"
      ],
      "metadata": {
        "id": "0ngy3j_sjLIB"
      },
      "execution_count": null,
      "outputs": []
    }
  ]
}