{
  "nbformat": 4,
  "nbformat_minor": 0,
  "metadata": {
    "colab": {
      "provenance": [],
      "include_colab_link": true
    },
    "kernelspec": {
      "name": "python3",
      "display_name": "Python 3"
    },
    "language_info": {
      "name": "python"
    }
  },
  "cells": [
    {
      "cell_type": "markdown",
      "metadata": {
        "id": "view-in-github",
        "colab_type": "text"
      },
      "source": [
        "<a href=\"https://colab.research.google.com/github/iued-uni-heidelberg/corpustools/blob/main/comet_installation.ipynb\" target=\"_parent\"><img src=\"https://colab.research.google.com/assets/colab-badge.svg\" alt=\"Open In Colab\"/></a>"
      ]
    },
    {
      "cell_type": "code",
      "execution_count": null,
      "metadata": {
        "id": "snDEkpImrK0C"
      },
      "outputs": [],
      "source": [
        "pip install --upgrade pip"
      ]
    },
    {
      "cell_type": "code",
      "source": [
        "pip install unbabel-comet"
      ],
      "metadata": {
        "id": "kLwwHrB5rQu3"
      },
      "execution_count": null,
      "outputs": []
    },
    {
      "cell_type": "code",
      "source": [
        "!git clone https://github.com/Unbabel/COMET"
      ],
      "metadata": {
        "id": "cMqOrTXorXEa"
      },
      "execution_count": null,
      "outputs": []
    },
    {
      "cell_type": "code",
      "source": [
        "pip install poetry"
      ],
      "metadata": {
        "id": "sXisbFDArm6O"
      },
      "execution_count": null,
      "outputs": []
    },
    {
      "cell_type": "code",
      "source": [
        "%cd ./COMET/\n",
        "!pwd\n",
        "!poetry install"
      ],
      "metadata": {
        "colab": {
          "base_uri": "https://localhost:8080/"
        },
        "id": "9HxCAg72r_-X",
        "outputId": "9ecebca1-4bc8-4562-bdd6-cbe034c86789"
      },
      "execution_count": 11,
      "outputs": [
        {
          "output_type": "stream",
          "name": "stdout",
          "text": [
            "/content/COMET\n",
            "/content/COMET\n",
            "Creating virtualenv \u001b[36munbabel-comet-uyJf9FjH-py3.8\u001b[39m in /root/.cache/pypoetry/virtualenvs\n",
            "\u001b[34mInstalling dependencies from lock file\u001b[39m\n",
            "\n",
            "\u001b[39;1mPackage operations\u001b[39;22m: \u001b[34m58\u001b[39m installs, \u001b[34m0\u001b[39m updates, \u001b[34m0\u001b[39m removals\n",
            "\n"
          ]
        }
      ]
    },
    {
      "cell_type": "code",
      "source": [
        "!pwd"
      ],
      "metadata": {
        "colab": {
          "base_uri": "https://localhost:8080/"
        },
        "id": "S7MyerCOrw6n",
        "outputId": "51c13c1f-18b8-4670-d1a1-750ff832265a"
      },
      "execution_count": 12,
      "outputs": [
        {
          "output_type": "stream",
          "name": "stdout",
          "text": [
            "/content/COMET\n"
          ]
        }
      ]
    },
    {
      "cell_type": "code",
      "source": [
        "!chmod a+rwx /content/COMET/comet/cli/score.py"
      ],
      "metadata": {
        "id": "VVa96dPks6tX"
      },
      "execution_count": 13,
      "outputs": []
    },
    {
      "cell_type": "code",
      "source": [
        "!echo $PYTHONPATH"
      ],
      "metadata": {
        "colab": {
          "base_uri": "https://localhost:8080/"
        },
        "id": "yFhISPuwtkLa",
        "outputId": "543ea61a-f5e4-49db-c4d3-6d36ec3da96c"
      },
      "execution_count": 14,
      "outputs": [
        {
          "output_type": "stream",
          "name": "stdout",
          "text": [
            "/env/python\n"
          ]
        }
      ]
    },
    {
      "cell_type": "code",
      "source": [
        "%env PYTHONPATH=\"$/env/python:./comet/cli/score.py\"\n",
        "# !PYTHONPATH=. ./comet/cli/score.py"
      ],
      "metadata": {
        "colab": {
          "base_uri": "https://localhost:8080/"
        },
        "id": "zBSTZLrnsp9B",
        "outputId": "443fff1f-64b4-495d-fba2-b56045cd6ce0"
      },
      "execution_count": 15,
      "outputs": [
        {
          "output_type": "stream",
          "name": "stdout",
          "text": [
            "env: PYTHONPATH=\"$/env/python:./comet/cli/score.py\"\n"
          ]
        }
      ]
    },
    {
      "cell_type": "code",
      "source": [
        "!echo $PYTHONPATH"
      ],
      "metadata": {
        "colab": {
          "base_uri": "https://localhost:8080/"
        },
        "id": "js1u83GWt2_3",
        "outputId": "853da147-74bf-4b4c-b7e8-f2952eb8a805"
      },
      "execution_count": 16,
      "outputs": [
        {
          "output_type": "stream",
          "name": "stdout",
          "text": [
            "\"$/env/python:./comet/cli/score.py\"\n"
          ]
        }
      ]
    },
    {
      "cell_type": "code",
      "source": [
        "!echo -e \"Dem Feuer konnte Einhalt geboten werden\\nSchulen und Kindergärten wurden eröffnet.\" >> src.de\n",
        "!echo -e \"The fire could be stopped\\nSchools and kindergartens were open\" >> hyp1.en\n",
        "!echo -e \"The fire could have been stopped\\nSchools and pre-school were open\" >> hyp2.en\n",
        "!echo -e \"They were able to control the fire.\\nSchools and kindergartens opened\" >> ref.en"
      ],
      "metadata": {
        "id": "m8-mpjhjtMQr"
      },
      "execution_count": 17,
      "outputs": []
    },
    {
      "cell_type": "code",
      "source": [
        "!comet-score -s src.de -t hyp1.en -r ref.en --gpus 0"
      ],
      "metadata": {
        "colab": {
          "base_uri": "https://localhost:8080/"
        },
        "id": "JT3FjFRSuP22",
        "outputId": "fa0e349d-9888-41dd-d367-c51a88fb82d3"
      },
      "execution_count": 18,
      "outputs": [
        {
          "output_type": "stream",
          "name": "stdout",
          "text": [
            "Global seed set to 12\n",
            "wmt20-comet-da.tar.gz: 1.79GB [00:42, 42.5MB/s]                \n",
            "Downloading (…)tencepiece.bpe.model: 100% 5.07M/5.07M [00:00<00:00, 121MB/s]\n",
            "Downloading (…)lve/main/config.json: 100% 616/616 [00:00<00:00, 362kB/s]\n",
            "Downloading (…)\"pytorch_model.bin\";: 100% 2.24G/2.24G [00:48<00:00, 46.4MB/s]\n",
            "Some weights of the model checkpoint at xlm-roberta-large were not used when initializing XLMRobertaModel: ['lm_head.layer_norm.bias', 'lm_head.dense.weight', 'lm_head.dense.bias', 'lm_head.decoder.weight', 'lm_head.bias', 'roberta.pooler.dense.weight', 'lm_head.layer_norm.weight', 'roberta.pooler.dense.bias']\n",
            "- This IS expected if you are initializing XLMRobertaModel from the checkpoint of a model trained on another task or with another architecture (e.g. initializing a BertForSequenceClassification model from a BertForPreTraining model).\n",
            "- This IS NOT expected if you are initializing XLMRobertaModel from the checkpoint of a model that you expect to be exactly identical (initializing a BertForSequenceClassification model from a BertForSequenceClassification model).\n",
            "GPU available: False, used: False\n",
            "TPU available: False, using: 0 TPU cores\n",
            "IPU available: False, using: 0 IPUs\n",
            "HPU available: False, using: 0 HPUs\n",
            "Predicting DataLoader 0: 100% 1/1 [00:02<00:00,  2.37s/it]\n",
            "hyp1.en\tSegment 0\tscore: 0.1902\n",
            "hyp1.en\tSegment 1\tscore: 0.9157\n",
            "hyp1.en\tscore: 0.5529\n"
          ]
        }
      ]
    },
    {
      "cell_type": "code",
      "source": [
        "!comet-score -s src.de -t hyp2.en -r ref.en --gpus 0"
      ],
      "metadata": {
        "colab": {
          "base_uri": "https://localhost:8080/"
        },
        "id": "i0np0nGXuo8H",
        "outputId": "36f80c05-0204-45df-a95a-3a8fc978e995"
      },
      "execution_count": 19,
      "outputs": [
        {
          "output_type": "stream",
          "name": "stdout",
          "text": [
            "Global seed set to 12\n",
            "Some weights of the model checkpoint at xlm-roberta-large were not used when initializing XLMRobertaModel: ['lm_head.dense.bias', 'lm_head.bias', 'roberta.pooler.dense.bias', 'lm_head.dense.weight', 'lm_head.layer_norm.weight', 'lm_head.decoder.weight', 'roberta.pooler.dense.weight', 'lm_head.layer_norm.bias']\n",
            "- This IS expected if you are initializing XLMRobertaModel from the checkpoint of a model trained on another task or with another architecture (e.g. initializing a BertForSequenceClassification model from a BertForPreTraining model).\n",
            "- This IS NOT expected if you are initializing XLMRobertaModel from the checkpoint of a model that you expect to be exactly identical (initializing a BertForSequenceClassification model from a BertForSequenceClassification model).\n",
            "GPU available: False, used: False\n",
            "TPU available: False, using: 0 TPU cores\n",
            "IPU available: False, using: 0 IPUs\n",
            "HPU available: False, using: 0 HPUs\n",
            "Predicting DataLoader 0: 100% 1/1 [00:02<00:00,  2.40s/it]\n",
            "hyp2.en\tSegment 0\tscore: 0.0877\n",
            "hyp2.en\tSegment 1\tscore: 0.5022\n",
            "hyp2.en\tscore: 0.2950\n"
          ]
        }
      ]
    },
    {
      "cell_type": "code",
      "source": [
        "!wget https://heibox.uni-heidelberg.de/f/84df50ae57cf4851b4ba/?dl=1"
      ],
      "metadata": {
        "id": "TRCKtpXr-TLR"
      },
      "execution_count": null,
      "outputs": []
    },
    {
      "cell_type": "code",
      "source": [
        "!mv index.html?dl=1 exArticles.zip"
      ],
      "metadata": {
        "id": "J-VzSNox-Z94"
      },
      "execution_count": 21,
      "outputs": []
    },
    {
      "cell_type": "markdown",
      "source": [
        "## Uploading articles..."
      ],
      "metadata": {
        "id": "X2t6JXQW_ey5"
      }
    },
    {
      "cell_type": "code",
      "source": [
        "!comet-score -s /content/article-aerzteblatt-2023-01-101-de.txt -t /content/article-aerzteblatt-2023-01-101-en-googlemt.txt -r /content/article-aerzteblatt-2023-01-101-en.txt --gpus 0"
      ],
      "metadata": {
        "colab": {
          "base_uri": "https://localhost:8080/"
        },
        "id": "s27T5PQfFCj2",
        "outputId": "ac314615-ccc4-4356-b883-c9e3caf313f1"
      },
      "execution_count": 24,
      "outputs": [
        {
          "output_type": "stream",
          "name": "stdout",
          "text": [
            "Global seed set to 12\n",
            "Some weights of the model checkpoint at xlm-roberta-large were not used when initializing XLMRobertaModel: ['roberta.pooler.dense.bias', 'lm_head.dense.weight', 'lm_head.dense.bias', 'lm_head.layer_norm.bias', 'lm_head.bias', 'lm_head.layer_norm.weight', 'lm_head.decoder.weight', 'roberta.pooler.dense.weight']\n",
            "- This IS expected if you are initializing XLMRobertaModel from the checkpoint of a model trained on another task or with another architecture (e.g. initializing a BertForSequenceClassification model from a BertForPreTraining model).\n",
            "- This IS NOT expected if you are initializing XLMRobertaModel from the checkpoint of a model that you expect to be exactly identical (initializing a BertForSequenceClassification model from a BertForSequenceClassification model).\n",
            "GPU available: False, used: False\n",
            "TPU available: False, using: 0 TPU cores\n",
            "IPU available: False, using: 0 IPUs\n",
            "HPU available: False, using: 0 HPUs\n",
            "Predicting DataLoader 0: 100% 13/13 [03:54<00:00, 18.05s/it]\n",
            "/content/article-aerzteblatt-2023-01-101-en-googlemt.txt\tSegment 0\tscore: 0.9322\n",
            "/content/article-aerzteblatt-2023-01-101-en-googlemt.txt\tSegment 1\tscore: 1.2573\n",
            "/content/article-aerzteblatt-2023-01-101-en-googlemt.txt\tSegment 2\tscore: 1.0165\n",
            "/content/article-aerzteblatt-2023-01-101-en-googlemt.txt\tSegment 3\tscore: 1.2289\n",
            "/content/article-aerzteblatt-2023-01-101-en-googlemt.txt\tSegment 4\tscore: 0.8681\n",
            "/content/article-aerzteblatt-2023-01-101-en-googlemt.txt\tSegment 5\tscore: 0.8196\n",
            "/content/article-aerzteblatt-2023-01-101-en-googlemt.txt\tSegment 6\tscore: 0.7771\n",
            "/content/article-aerzteblatt-2023-01-101-en-googlemt.txt\tSegment 7\tscore: 0.8607\n",
            "/content/article-aerzteblatt-2023-01-101-en-googlemt.txt\tSegment 8\tscore: 0.8081\n",
            "/content/article-aerzteblatt-2023-01-101-en-googlemt.txt\tSegment 9\tscore: 0.7471\n",
            "/content/article-aerzteblatt-2023-01-101-en-googlemt.txt\tSegment 10\tscore: 1.0698\n",
            "/content/article-aerzteblatt-2023-01-101-en-googlemt.txt\tSegment 11\tscore: 0.8883\n",
            "/content/article-aerzteblatt-2023-01-101-en-googlemt.txt\tSegment 12\tscore: 0.7352\n",
            "/content/article-aerzteblatt-2023-01-101-en-googlemt.txt\tSegment 13\tscore: 0.7475\n",
            "/content/article-aerzteblatt-2023-01-101-en-googlemt.txt\tSegment 14\tscore: 0.6995\n",
            "/content/article-aerzteblatt-2023-01-101-en-googlemt.txt\tSegment 15\tscore: 0.6820\n",
            "/content/article-aerzteblatt-2023-01-101-en-googlemt.txt\tSegment 16\tscore: -1.4880\n",
            "/content/article-aerzteblatt-2023-01-101-en-googlemt.txt\tSegment 17\tscore: 1.0022\n",
            "/content/article-aerzteblatt-2023-01-101-en-googlemt.txt\tSegment 18\tscore: 1.0297\n",
            "/content/article-aerzteblatt-2023-01-101-en-googlemt.txt\tSegment 19\tscore: 0.6292\n",
            "/content/article-aerzteblatt-2023-01-101-en-googlemt.txt\tSegment 20\tscore: 0.8250\n",
            "/content/article-aerzteblatt-2023-01-101-en-googlemt.txt\tSegment 21\tscore: 0.7698\n",
            "/content/article-aerzteblatt-2023-01-101-en-googlemt.txt\tSegment 22\tscore: 0.7865\n",
            "/content/article-aerzteblatt-2023-01-101-en-googlemt.txt\tSegment 23\tscore: 0.8402\n",
            "/content/article-aerzteblatt-2023-01-101-en-googlemt.txt\tSegment 24\tscore: 0.7486\n",
            "/content/article-aerzteblatt-2023-01-101-en-googlemt.txt\tSegment 25\tscore: 0.7385\n",
            "/content/article-aerzteblatt-2023-01-101-en-googlemt.txt\tSegment 26\tscore: 0.7667\n",
            "/content/article-aerzteblatt-2023-01-101-en-googlemt.txt\tSegment 27\tscore: 0.8776\n",
            "/content/article-aerzteblatt-2023-01-101-en-googlemt.txt\tSegment 28\tscore: 0.6404\n",
            "/content/article-aerzteblatt-2023-01-101-en-googlemt.txt\tSegment 29\tscore: 0.8687\n",
            "/content/article-aerzteblatt-2023-01-101-en-googlemt.txt\tSegment 30\tscore: 0.8172\n",
            "/content/article-aerzteblatt-2023-01-101-en-googlemt.txt\tSegment 31\tscore: 0.7360\n",
            "/content/article-aerzteblatt-2023-01-101-en-googlemt.txt\tSegment 32\tscore: 0.9500\n",
            "/content/article-aerzteblatt-2023-01-101-en-googlemt.txt\tSegment 33\tscore: 0.7448\n",
            "/content/article-aerzteblatt-2023-01-101-en-googlemt.txt\tSegment 34\tscore: 0.8470\n",
            "/content/article-aerzteblatt-2023-01-101-en-googlemt.txt\tSegment 35\tscore: 0.7146\n",
            "/content/article-aerzteblatt-2023-01-101-en-googlemt.txt\tSegment 36\tscore: 0.6224\n",
            "/content/article-aerzteblatt-2023-01-101-en-googlemt.txt\tSegment 37\tscore: 1.1433\n",
            "/content/article-aerzteblatt-2023-01-101-en-googlemt.txt\tSegment 38\tscore: 0.6712\n",
            "/content/article-aerzteblatt-2023-01-101-en-googlemt.txt\tSegment 39\tscore: 0.6121\n",
            "/content/article-aerzteblatt-2023-01-101-en-googlemt.txt\tSegment 40\tscore: 1.1897\n",
            "/content/article-aerzteblatt-2023-01-101-en-googlemt.txt\tSegment 41\tscore: 0.8559\n",
            "/content/article-aerzteblatt-2023-01-101-en-googlemt.txt\tSegment 42\tscore: 0.6867\n",
            "/content/article-aerzteblatt-2023-01-101-en-googlemt.txt\tSegment 43\tscore: 0.8005\n",
            "/content/article-aerzteblatt-2023-01-101-en-googlemt.txt\tSegment 44\tscore: 0.9155\n",
            "/content/article-aerzteblatt-2023-01-101-en-googlemt.txt\tSegment 45\tscore: 1.1930\n",
            "/content/article-aerzteblatt-2023-01-101-en-googlemt.txt\tSegment 46\tscore: 0.9305\n",
            "/content/article-aerzteblatt-2023-01-101-en-googlemt.txt\tSegment 47\tscore: 0.5777\n",
            "/content/article-aerzteblatt-2023-01-101-en-googlemt.txt\tSegment 48\tscore: 0.5696\n",
            "/content/article-aerzteblatt-2023-01-101-en-googlemt.txt\tSegment 49\tscore: 1.1761\n",
            "/content/article-aerzteblatt-2023-01-101-en-googlemt.txt\tSegment 50\tscore: 0.9546\n",
            "/content/article-aerzteblatt-2023-01-101-en-googlemt.txt\tSegment 51\tscore: 0.9007\n",
            "/content/article-aerzteblatt-2023-01-101-en-googlemt.txt\tSegment 52\tscore: 0.6706\n",
            "/content/article-aerzteblatt-2023-01-101-en-googlemt.txt\tSegment 53\tscore: 0.7183\n",
            "/content/article-aerzteblatt-2023-01-101-en-googlemt.txt\tSegment 54\tscore: 0.7818\n",
            "/content/article-aerzteblatt-2023-01-101-en-googlemt.txt\tSegment 55\tscore: 0.8139\n",
            "/content/article-aerzteblatt-2023-01-101-en-googlemt.txt\tSegment 56\tscore: 0.7646\n",
            "/content/article-aerzteblatt-2023-01-101-en-googlemt.txt\tSegment 57\tscore: 0.6049\n",
            "/content/article-aerzteblatt-2023-01-101-en-googlemt.txt\tSegment 58\tscore: 0.6013\n",
            "/content/article-aerzteblatt-2023-01-101-en-googlemt.txt\tSegment 59\tscore: 0.7898\n",
            "/content/article-aerzteblatt-2023-01-101-en-googlemt.txt\tSegment 60\tscore: 1.1300\n",
            "/content/article-aerzteblatt-2023-01-101-en-googlemt.txt\tSegment 61\tscore: 0.9826\n",
            "/content/article-aerzteblatt-2023-01-101-en-googlemt.txt\tSegment 62\tscore: 0.7463\n",
            "/content/article-aerzteblatt-2023-01-101-en-googlemt.txt\tSegment 63\tscore: 0.9437\n",
            "/content/article-aerzteblatt-2023-01-101-en-googlemt.txt\tSegment 64\tscore: 0.9430\n",
            "/content/article-aerzteblatt-2023-01-101-en-googlemt.txt\tSegment 65\tscore: 0.8566\n",
            "/content/article-aerzteblatt-2023-01-101-en-googlemt.txt\tSegment 66\tscore: 0.7768\n",
            "/content/article-aerzteblatt-2023-01-101-en-googlemt.txt\tSegment 67\tscore: 0.7023\n",
            "/content/article-aerzteblatt-2023-01-101-en-googlemt.txt\tSegment 68\tscore: 0.1172\n",
            "/content/article-aerzteblatt-2023-01-101-en-googlemt.txt\tSegment 69\tscore: 0.8683\n",
            "/content/article-aerzteblatt-2023-01-101-en-googlemt.txt\tSegment 70\tscore: 0.7961\n",
            "/content/article-aerzteblatt-2023-01-101-en-googlemt.txt\tSegment 71\tscore: 0.9161\n",
            "/content/article-aerzteblatt-2023-01-101-en-googlemt.txt\tSegment 72\tscore: 0.7214\n",
            "/content/article-aerzteblatt-2023-01-101-en-googlemt.txt\tSegment 73\tscore: 0.6003\n",
            "/content/article-aerzteblatt-2023-01-101-en-googlemt.txt\tSegment 74\tscore: 0.5245\n",
            "/content/article-aerzteblatt-2023-01-101-en-googlemt.txt\tSegment 75\tscore: 0.2880\n",
            "/content/article-aerzteblatt-2023-01-101-en-googlemt.txt\tSegment 76\tscore: 0.7751\n",
            "/content/article-aerzteblatt-2023-01-101-en-googlemt.txt\tSegment 77\tscore: 0.9994\n",
            "/content/article-aerzteblatt-2023-01-101-en-googlemt.txt\tSegment 78\tscore: 0.0698\n",
            "/content/article-aerzteblatt-2023-01-101-en-googlemt.txt\tSegment 79\tscore: 0.9960\n",
            "/content/article-aerzteblatt-2023-01-101-en-googlemt.txt\tSegment 80\tscore: 0.7678\n",
            "/content/article-aerzteblatt-2023-01-101-en-googlemt.txt\tSegment 81\tscore: 0.7045\n",
            "/content/article-aerzteblatt-2023-01-101-en-googlemt.txt\tSegment 82\tscore: 0.7667\n",
            "/content/article-aerzteblatt-2023-01-101-en-googlemt.txt\tSegment 83\tscore: 0.8428\n",
            "/content/article-aerzteblatt-2023-01-101-en-googlemt.txt\tSegment 84\tscore: 0.2939\n",
            "/content/article-aerzteblatt-2023-01-101-en-googlemt.txt\tSegment 85\tscore: 0.8708\n",
            "/content/article-aerzteblatt-2023-01-101-en-googlemt.txt\tSegment 86\tscore: 0.7033\n",
            "/content/article-aerzteblatt-2023-01-101-en-googlemt.txt\tSegment 87\tscore: 0.7348\n",
            "/content/article-aerzteblatt-2023-01-101-en-googlemt.txt\tSegment 88\tscore: 0.8369\n",
            "/content/article-aerzteblatt-2023-01-101-en-googlemt.txt\tSegment 89\tscore: 0.7332\n",
            "/content/article-aerzteblatt-2023-01-101-en-googlemt.txt\tSegment 90\tscore: 0.5016\n",
            "/content/article-aerzteblatt-2023-01-101-en-googlemt.txt\tSegment 91\tscore: 0.7461\n",
            "/content/article-aerzteblatt-2023-01-101-en-googlemt.txt\tSegment 92\tscore: 0.7666\n",
            "/content/article-aerzteblatt-2023-01-101-en-googlemt.txt\tSegment 93\tscore: 0.9476\n",
            "/content/article-aerzteblatt-2023-01-101-en-googlemt.txt\tSegment 94\tscore: 1.1934\n",
            "/content/article-aerzteblatt-2023-01-101-en-googlemt.txt\tSegment 95\tscore: 1.1440\n",
            "/content/article-aerzteblatt-2023-01-101-en-googlemt.txt\tSegment 96\tscore: 0.7418\n",
            "/content/article-aerzteblatt-2023-01-101-en-googlemt.txt\tSegment 97\tscore: 0.8040\n",
            "/content/article-aerzteblatt-2023-01-101-en-googlemt.txt\tSegment 98\tscore: 1.0264\n",
            "/content/article-aerzteblatt-2023-01-101-en-googlemt.txt\tSegment 99\tscore: 1.0007\n",
            "/content/article-aerzteblatt-2023-01-101-en-googlemt.txt\tscore: 0.7841\n"
          ]
        }
      ]
    },
    {
      "cell_type": "code",
      "source": [
        "!comet-score -s /content/article-aerzteblatt-2023-01-101-de.txt -t /content/article-aerzteblatt-2023-01-101-en-deeplmt.txt -r /content/article-aerzteblatt-2023-01-101-en.txt --gpus 0"
      ],
      "metadata": {
        "colab": {
          "base_uri": "https://localhost:8080/"
        },
        "id": "cklNdfudGaDF",
        "outputId": "288c6543-e043-4583-dd68-b1d843a4d81e"
      },
      "execution_count": 25,
      "outputs": [
        {
          "output_type": "stream",
          "name": "stdout",
          "text": [
            "Global seed set to 12\n",
            "Some weights of the model checkpoint at xlm-roberta-large were not used when initializing XLMRobertaModel: ['lm_head.layer_norm.bias', 'roberta.pooler.dense.bias', 'lm_head.dense.bias', 'roberta.pooler.dense.weight', 'lm_head.bias', 'lm_head.dense.weight', 'lm_head.layer_norm.weight', 'lm_head.decoder.weight']\n",
            "- This IS expected if you are initializing XLMRobertaModel from the checkpoint of a model trained on another task or with another architecture (e.g. initializing a BertForSequenceClassification model from a BertForPreTraining model).\n",
            "- This IS NOT expected if you are initializing XLMRobertaModel from the checkpoint of a model that you expect to be exactly identical (initializing a BertForSequenceClassification model from a BertForSequenceClassification model).\n",
            "GPU available: False, used: False\n",
            "TPU available: False, using: 0 TPU cores\n",
            "IPU available: False, using: 0 IPUs\n",
            "HPU available: False, using: 0 HPUs\n",
            "Predicting DataLoader 0: 100% 13/13 [03:55<00:00, 18.12s/it]\n",
            "/content/article-aerzteblatt-2023-01-101-en-deeplmt.txt\tSegment 0\tscore: 0.9319\n",
            "/content/article-aerzteblatt-2023-01-101-en-deeplmt.txt\tSegment 1\tscore: 1.2572\n",
            "/content/article-aerzteblatt-2023-01-101-en-deeplmt.txt\tSegment 2\tscore: 1.0165\n",
            "/content/article-aerzteblatt-2023-01-101-en-deeplmt.txt\tSegment 3\tscore: 1.2291\n",
            "/content/article-aerzteblatt-2023-01-101-en-deeplmt.txt\tSegment 4\tscore: 0.8682\n",
            "/content/article-aerzteblatt-2023-01-101-en-deeplmt.txt\tSegment 5\tscore: 0.8194\n",
            "/content/article-aerzteblatt-2023-01-101-en-deeplmt.txt\tSegment 6\tscore: 0.7773\n",
            "/content/article-aerzteblatt-2023-01-101-en-deeplmt.txt\tSegment 7\tscore: 0.8391\n",
            "/content/article-aerzteblatt-2023-01-101-en-deeplmt.txt\tSegment 8\tscore: 0.7663\n",
            "/content/article-aerzteblatt-2023-01-101-en-deeplmt.txt\tSegment 9\tscore: 0.7753\n",
            "/content/article-aerzteblatt-2023-01-101-en-deeplmt.txt\tSegment 10\tscore: 1.0698\n",
            "/content/article-aerzteblatt-2023-01-101-en-deeplmt.txt\tSegment 11\tscore: 0.8883\n",
            "/content/article-aerzteblatt-2023-01-101-en-deeplmt.txt\tSegment 12\tscore: 0.7350\n",
            "/content/article-aerzteblatt-2023-01-101-en-deeplmt.txt\tSegment 13\tscore: 0.7869\n",
            "/content/article-aerzteblatt-2023-01-101-en-deeplmt.txt\tSegment 14\tscore: 0.6897\n",
            "/content/article-aerzteblatt-2023-01-101-en-deeplmt.txt\tSegment 15\tscore: 0.6763\n",
            "/content/article-aerzteblatt-2023-01-101-en-deeplmt.txt\tSegment 16\tscore: -1.4872\n",
            "/content/article-aerzteblatt-2023-01-101-en-deeplmt.txt\tSegment 17\tscore: 0.8253\n",
            "/content/article-aerzteblatt-2023-01-101-en-deeplmt.txt\tSegment 18\tscore: 1.0796\n",
            "/content/article-aerzteblatt-2023-01-101-en-deeplmt.txt\tSegment 19\tscore: 0.6293\n",
            "/content/article-aerzteblatt-2023-01-101-en-deeplmt.txt\tSegment 20\tscore: 0.8052\n",
            "/content/article-aerzteblatt-2023-01-101-en-deeplmt.txt\tSegment 21\tscore: 0.7520\n",
            "/content/article-aerzteblatt-2023-01-101-en-deeplmt.txt\tSegment 22\tscore: 0.4448\n",
            "/content/article-aerzteblatt-2023-01-101-en-deeplmt.txt\tSegment 23\tscore: 0.8329\n",
            "/content/article-aerzteblatt-2023-01-101-en-deeplmt.txt\tSegment 24\tscore: 0.7631\n",
            "/content/article-aerzteblatt-2023-01-101-en-deeplmt.txt\tSegment 25\tscore: 0.7683\n",
            "/content/article-aerzteblatt-2023-01-101-en-deeplmt.txt\tSegment 26\tscore: 0.8554\n",
            "/content/article-aerzteblatt-2023-01-101-en-deeplmt.txt\tSegment 27\tscore: 0.9042\n",
            "/content/article-aerzteblatt-2023-01-101-en-deeplmt.txt\tSegment 28\tscore: 0.5186\n",
            "/content/article-aerzteblatt-2023-01-101-en-deeplmt.txt\tSegment 29\tscore: 1.0502\n",
            "/content/article-aerzteblatt-2023-01-101-en-deeplmt.txt\tSegment 30\tscore: 0.8171\n",
            "/content/article-aerzteblatt-2023-01-101-en-deeplmt.txt\tSegment 31\tscore: 0.7359\n",
            "/content/article-aerzteblatt-2023-01-101-en-deeplmt.txt\tSegment 32\tscore: 0.9501\n",
            "/content/article-aerzteblatt-2023-01-101-en-deeplmt.txt\tSegment 33\tscore: 0.8218\n",
            "/content/article-aerzteblatt-2023-01-101-en-deeplmt.txt\tSegment 34\tscore: 0.8508\n",
            "/content/article-aerzteblatt-2023-01-101-en-deeplmt.txt\tSegment 35\tscore: 0.7174\n",
            "/content/article-aerzteblatt-2023-01-101-en-deeplmt.txt\tSegment 36\tscore: 0.6144\n",
            "/content/article-aerzteblatt-2023-01-101-en-deeplmt.txt\tSegment 37\tscore: 1.1430\n",
            "/content/article-aerzteblatt-2023-01-101-en-deeplmt.txt\tSegment 38\tscore: 0.6424\n",
            "/content/article-aerzteblatt-2023-01-101-en-deeplmt.txt\tSegment 39\tscore: 0.6121\n",
            "/content/article-aerzteblatt-2023-01-101-en-deeplmt.txt\tSegment 40\tscore: 1.1898\n",
            "/content/article-aerzteblatt-2023-01-101-en-deeplmt.txt\tSegment 41\tscore: 0.8364\n",
            "/content/article-aerzteblatt-2023-01-101-en-deeplmt.txt\tSegment 42\tscore: 0.6697\n",
            "/content/article-aerzteblatt-2023-01-101-en-deeplmt.txt\tSegment 43\tscore: 0.8003\n",
            "/content/article-aerzteblatt-2023-01-101-en-deeplmt.txt\tSegment 44\tscore: 0.9643\n",
            "/content/article-aerzteblatt-2023-01-101-en-deeplmt.txt\tSegment 45\tscore: 1.1012\n",
            "/content/article-aerzteblatt-2023-01-101-en-deeplmt.txt\tSegment 46\tscore: 0.9928\n",
            "/content/article-aerzteblatt-2023-01-101-en-deeplmt.txt\tSegment 47\tscore: 0.5759\n",
            "/content/article-aerzteblatt-2023-01-101-en-deeplmt.txt\tSegment 48\tscore: 0.8772\n",
            "/content/article-aerzteblatt-2023-01-101-en-deeplmt.txt\tSegment 49\tscore: 1.1760\n",
            "/content/article-aerzteblatt-2023-01-101-en-deeplmt.txt\tSegment 50\tscore: 0.9546\n",
            "/content/article-aerzteblatt-2023-01-101-en-deeplmt.txt\tSegment 51\tscore: 0.9169\n",
            "/content/article-aerzteblatt-2023-01-101-en-deeplmt.txt\tSegment 52\tscore: 0.6707\n",
            "/content/article-aerzteblatt-2023-01-101-en-deeplmt.txt\tSegment 53\tscore: 0.7364\n",
            "/content/article-aerzteblatt-2023-01-101-en-deeplmt.txt\tSegment 54\tscore: 0.7226\n",
            "/content/article-aerzteblatt-2023-01-101-en-deeplmt.txt\tSegment 55\tscore: 0.7735\n",
            "/content/article-aerzteblatt-2023-01-101-en-deeplmt.txt\tSegment 56\tscore: 0.8038\n",
            "/content/article-aerzteblatt-2023-01-101-en-deeplmt.txt\tSegment 57\tscore: 0.6411\n",
            "/content/article-aerzteblatt-2023-01-101-en-deeplmt.txt\tSegment 58\tscore: 0.6521\n",
            "/content/article-aerzteblatt-2023-01-101-en-deeplmt.txt\tSegment 59\tscore: 0.5495\n",
            "/content/article-aerzteblatt-2023-01-101-en-deeplmt.txt\tSegment 60\tscore: 1.0684\n",
            "/content/article-aerzteblatt-2023-01-101-en-deeplmt.txt\tSegment 61\tscore: 0.9608\n",
            "/content/article-aerzteblatt-2023-01-101-en-deeplmt.txt\tSegment 62\tscore: 0.7675\n",
            "/content/article-aerzteblatt-2023-01-101-en-deeplmt.txt\tSegment 63\tscore: 1.0443\n",
            "/content/article-aerzteblatt-2023-01-101-en-deeplmt.txt\tSegment 64\tscore: 1.0187\n",
            "/content/article-aerzteblatt-2023-01-101-en-deeplmt.txt\tSegment 65\tscore: 0.8599\n",
            "/content/article-aerzteblatt-2023-01-101-en-deeplmt.txt\tSegment 66\tscore: 0.7844\n",
            "/content/article-aerzteblatt-2023-01-101-en-deeplmt.txt\tSegment 67\tscore: 0.7827\n",
            "/content/article-aerzteblatt-2023-01-101-en-deeplmt.txt\tSegment 68\tscore: 0.2323\n",
            "/content/article-aerzteblatt-2023-01-101-en-deeplmt.txt\tSegment 69\tscore: 0.8375\n",
            "/content/article-aerzteblatt-2023-01-101-en-deeplmt.txt\tSegment 70\tscore: 0.5897\n",
            "/content/article-aerzteblatt-2023-01-101-en-deeplmt.txt\tSegment 71\tscore: 0.9162\n",
            "/content/article-aerzteblatt-2023-01-101-en-deeplmt.txt\tSegment 72\tscore: 0.7214\n",
            "/content/article-aerzteblatt-2023-01-101-en-deeplmt.txt\tSegment 73\tscore: 0.7097\n",
            "/content/article-aerzteblatt-2023-01-101-en-deeplmt.txt\tSegment 74\tscore: 0.4906\n",
            "/content/article-aerzteblatt-2023-01-101-en-deeplmt.txt\tSegment 75\tscore: 0.2882\n",
            "/content/article-aerzteblatt-2023-01-101-en-deeplmt.txt\tSegment 76\tscore: 0.8961\n",
            "/content/article-aerzteblatt-2023-01-101-en-deeplmt.txt\tSegment 77\tscore: 1.0122\n",
            "/content/article-aerzteblatt-2023-01-101-en-deeplmt.txt\tSegment 78\tscore: 0.6721\n",
            "/content/article-aerzteblatt-2023-01-101-en-deeplmt.txt\tSegment 79\tscore: 0.9937\n",
            "/content/article-aerzteblatt-2023-01-101-en-deeplmt.txt\tSegment 80\tscore: 0.6639\n",
            "/content/article-aerzteblatt-2023-01-101-en-deeplmt.txt\tSegment 81\tscore: 0.7232\n",
            "/content/article-aerzteblatt-2023-01-101-en-deeplmt.txt\tSegment 82\tscore: 0.7623\n",
            "/content/article-aerzteblatt-2023-01-101-en-deeplmt.txt\tSegment 83\tscore: 0.8395\n",
            "/content/article-aerzteblatt-2023-01-101-en-deeplmt.txt\tSegment 84\tscore: 1.1533\n",
            "/content/article-aerzteblatt-2023-01-101-en-deeplmt.txt\tSegment 85\tscore: 0.8262\n",
            "/content/article-aerzteblatt-2023-01-101-en-deeplmt.txt\tSegment 86\tscore: 0.5199\n",
            "/content/article-aerzteblatt-2023-01-101-en-deeplmt.txt\tSegment 87\tscore: 0.7688\n",
            "/content/article-aerzteblatt-2023-01-101-en-deeplmt.txt\tSegment 88\tscore: 0.7902\n",
            "/content/article-aerzteblatt-2023-01-101-en-deeplmt.txt\tSegment 89\tscore: 0.7551\n",
            "/content/article-aerzteblatt-2023-01-101-en-deeplmt.txt\tSegment 90\tscore: 0.1537\n",
            "/content/article-aerzteblatt-2023-01-101-en-deeplmt.txt\tSegment 91\tscore: 0.3475\n",
            "/content/article-aerzteblatt-2023-01-101-en-deeplmt.txt\tSegment 92\tscore: 0.6925\n",
            "/content/article-aerzteblatt-2023-01-101-en-deeplmt.txt\tSegment 93\tscore: 0.9455\n",
            "/content/article-aerzteblatt-2023-01-101-en-deeplmt.txt\tSegment 94\tscore: 1.1933\n",
            "/content/article-aerzteblatt-2023-01-101-en-deeplmt.txt\tSegment 95\tscore: 1.1442\n",
            "/content/article-aerzteblatt-2023-01-101-en-deeplmt.txt\tSegment 96\tscore: 0.7967\n",
            "/content/article-aerzteblatt-2023-01-101-en-deeplmt.txt\tSegment 97\tscore: 0.8546\n",
            "/content/article-aerzteblatt-2023-01-101-en-deeplmt.txt\tSegment 98\tscore: 1.0052\n",
            "/content/article-aerzteblatt-2023-01-101-en-deeplmt.txt\tSegment 99\tscore: 1.0007\n",
            "/content/article-aerzteblatt-2023-01-101-en-deeplmt.txt\tscore: 0.7896\n"
          ]
        }
      ]
    }
  ]
}