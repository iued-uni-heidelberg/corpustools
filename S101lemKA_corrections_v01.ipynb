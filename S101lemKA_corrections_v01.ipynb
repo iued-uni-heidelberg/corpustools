{
  "nbformat": 4,
  "nbformat_minor": 0,
  "metadata": {
    "colab": {
      "provenance": [],
      "include_colab_link": true
    },
    "kernelspec": {
      "name": "python3",
      "display_name": "Python 3"
    },
    "language_info": {
      "name": "python"
    }
  },
  "cells": [
    {
      "cell_type": "markdown",
      "metadata": {
        "id": "view-in-github",
        "colab_type": "text"
      },
      "source": [
        "<a href=\"https://colab.research.google.com/github/iued-uni-heidelberg/corpustools/blob/main/S101lemKA_corrections_v01.ipynb\" target=\"_parent\"><img src=\"https://colab.research.google.com/assets/colab-badge.svg\" alt=\"Open In Colab\"/></a>"
      ]
    },
    {
      "cell_type": "markdown",
      "source": [
        "# Processing pipeline for DAAD project\n",
        "## Stage 1: Lemmatization (Georgian) with corrections (manual annotation)\n",
        "\n",
        "# Georgian 'random' corpus \n",
        "- (collected in SketchEngine using non-topical high-frequent keywords from the top 1000 of the wikipedia list)\n",
        "- we try first on the corpus where corrections have been made for 3k Georgian most frequent word froms"
      ],
      "metadata": {
        "id": "lrpJStiMQ578"
      }
    },
    {
      "cell_type": "code",
      "source": [
        "!wget https://heibox.uni-heidelberg.de/f/362c24e311104c9aa35b/?dl=1\n",
        "!mv index.html?dl=1 georgianrandom02.txt"
      ],
      "metadata": {
        "id": "BLNxex2OPqH0",
        "colab": {
          "base_uri": "https://localhost:8080/"
        },
        "outputId": "f72707b1-3d44-4dd1-d505-848a7d533ace"
      },
      "execution_count": 1,
      "outputs": [
        {
          "output_type": "stream",
          "name": "stdout",
          "text": [
            "--2023-03-06 19:51:10--  https://heibox.uni-heidelberg.de/f/362c24e311104c9aa35b/?dl=1\n",
            "Resolving heibox.uni-heidelberg.de (heibox.uni-heidelberg.de)... 129.206.7.113\n",
            "Connecting to heibox.uni-heidelberg.de (heibox.uni-heidelberg.de)|129.206.7.113|:443... connected.\n",
            "HTTP request sent, awaiting response... 302 Found\n",
            "Location: https://heibox.uni-heidelberg.de/seafhttp/files/a996f217-faa7-457f-875b-d5a9ff1da8d4/georgianrandom02.txt [following]\n",
            "--2023-03-06 19:51:11--  https://heibox.uni-heidelberg.de/seafhttp/files/a996f217-faa7-457f-875b-d5a9ff1da8d4/georgianrandom02.txt\n",
            "Reusing existing connection to heibox.uni-heidelberg.de:443.\n",
            "HTTP request sent, awaiting response... 200 OK\n",
            "Length: 192425594 (184M) [text/plain]\n",
            "Saving to: ‘index.html?dl=1’\n",
            "\n",
            "index.html?dl=1     100%[===================>] 183.51M  14.9MB/s    in 12s     \n",
            "\n",
            "2023-03-06 19:51:23 (14.9 MB/s) - ‘index.html?dl=1’ saved [192425594/192425594]\n",
            "\n"
          ]
        }
      ]
    },
    {
      "cell_type": "code",
      "source": [
        "%%bash\n",
        "# installing TreeTagger (en, de, ka)\n",
        "mkdir treetagger\n",
        "cd treetagger\n",
        "# Download the tagger package for your system (PC-Linux, Mac OS-X, ARM64, ARMHF, ARM-Android, PPC64le-Linux).\n",
        "wget https://cis.lmu.de/~schmid/tools/TreeTagger/data/tree-tagger-linux-3.2.4.tar.gz\n",
        "tar -xzvf tree-tagger-linux-3.2.4.tar.gz\n",
        "# Download the tagging scripts into the same directory.\n",
        "wget https://cis.lmu.de/~schmid/tools/TreeTagger/data/tagger-scripts.tar.gz\n",
        "gunzip tagger-scripts.tar.gz\n",
        "# Download the installation script install-tagger.sh.\n",
        "wget https://cis.lmu.de/~schmid/tools/TreeTagger/data/install-tagger.sh\n",
        "# Download the parameter files for the languages you want to process.\n",
        "# list of all files (parameter files) https://cis.lmu.de/~schmid/tools/TreeTagger/#parfiles\n",
        "wget https://cis.lmu.de/~schmid/tools/TreeTagger/data/english.par.gz\n",
        "sh install-tagger.sh\n",
        "cd ..\n",
        "sudo pip install treetaggerwrapper\n",
        "# changing options: no-unknown, sgml, lemma\n",
        "mv /content/treetagger/cmd/tree-tagger-english /content/tree-tagger-english0\n",
        "awk '{ if (NR == 9) print \"OPTIONS=\\\"-token -lemma -sgml -no-unknown\\\"\"; else print $0}' /content/tree-tagger-english0 > /content/treetagger/cmd/tree-tagger-english\n",
        "chmod a+x ./treetagger/cmd/tree-tagger-english\n",
        "# downloading German and Georgian \n",
        "wget https://heibox.uni-heidelberg.de/f/ec8226edebb64a359407/?dl=1\n",
        "mv index.html?dl=1 /content/treetagger/lib/german-utf8.par\n",
        "wget https://heibox.uni-heidelberg.de/f/9183090d2bdb41e09055/?dl=1\n",
        "mv index.html?dl=1 /content/treetagger/lib/georgian.par\n",
        "wget https://heibox.uni-heidelberg.de/f/9cafab0509d64ed1ac4b/?dl=1\n",
        "mv index.html?dl=1 /content/treetagger/cmd/tree-tagger-georgian2\n",
        "cp /content/treetagger/cmd/tree-tagger-georgian2 /content/treetagger/cmd/tree-tagger-georgian\n",
        "# German2 = -no-unknown \n",
        "# note: tree-tagger-german will not work, as parameter files have not been downloaded, only use tree-tagger-german2 with utf8 encoding\n",
        "wget https://heibox.uni-heidelberg.de/f/acb9b8a2fa4f40e08f8a/?dl=1\n",
        "mv index.html?dl=1 /content/treetagger/cmd/tree-tagger-german2\n",
        "chmod a+x /content/treetagger/cmd/tree-tagger-georgian2\n",
        "chmod a+x /content/treetagger/cmd/tree-tagger-german2\n",
        "\n",
        "wget https://heibox.uni-heidelberg.de/f/a6f7f36f175942ccad0a/?dl=1\n",
        "mv index.html?dl=1 /content/treetagger/cmd/tree-tagger-georgian\n",
        "chmod a+x /content/treetagger/cmd/tree-tagger-georgian\n"
      ],
      "metadata": {
        "id": "yb3aAeAWuaBG"
      },
      "execution_count": null,
      "outputs": []
    },
    {
      "cell_type": "code",
      "source": [
        "%%bash\n",
        "# Downloading a table with corrected forms\n",
        "# cp /content/treetagger/cmd/tree-tagger-georgian2 /content/treetagger/cmd/tree-tagger-georgian\n",
        "wget https://heibox.uni-heidelberg.de/f/e9010b0f3e7649ef9552/?dl=1\n",
        "mv index.html?dl=1 georgianrandom--unknown-frq-all.tsv"
      ],
      "metadata": {
        "id": "7K6L_kLwUFIn"
      },
      "execution_count": null,
      "outputs": []
    },
    {
      "cell_type": "code",
      "source": [
        "# analysing German file \n",
        "# !./treetagger/cmd/tree-tagger-german2 /content/udhr/udhr_kat_v02.txt >/content/udhrTT/udhr_kat_vert.txt\n",
        "!./treetagger/cmd/tree-tagger-georgian georgianrandom02.txt >georgianrandom02.vert"
      ],
      "metadata": {
        "id": "5vhmEZNmvOZJ",
        "colab": {
          "base_uri": "https://localhost:8080/"
        },
        "outputId": "f3e94da8-b0ea-4084-a022-4f22f089bbca"
      },
      "execution_count": 4,
      "outputs": [
        {
          "output_type": "stream",
          "name": "stdout",
          "text": [
            "\treading parameters ...\n",
            "\ttagging ...\n",
            "11301000\t finished.\n"
          ]
        }
      ]
    },
    {
      "cell_type": "code",
      "source": [
        "!head -n 50 georgianrandom02.vert\n"
      ],
      "metadata": {
        "id": "ZYgAy5yYUuZg"
      },
      "execution_count": null,
      "outputs": []
    },
    {
      "cell_type": "code",
      "source": [
        "!wc georgianrandom02.vert"
      ],
      "metadata": {
        "colab": {
          "base_uri": "https://localhost:8080/"
        },
        "id": "MZGt71hqoAAP",
        "outputId": "deab4056-60ba-4dfb-9019-b39d26fcdfcc"
      },
      "execution_count": 6,
      "outputs": [
        {
          "output_type": "stream",
          "name": "stdout",
          "text": [
            " 11301824  33112747 394150707 georgianrandom02.vert\n"
          ]
        }
      ]
    },
    {
      "cell_type": "code",
      "source": [
        "## how to print counter in AWK:\n",
        "## https://stackoverflow.com/questions/67901330/awk-how-to-print-the-last-value-of-a-counter\n",
        "\n",
        "# !awk -F '\\t' '(NF==3){printf \"%s \", $3; if(FNR % 10000 == 0){printf \"\\n\"}}' < /content/udhrTT/udhr_deu_1996_vert.txt >/content/udhrTT/udhr_deu_1996_lem.txt\n",
        "\n",
        "# if we need <p> tags for paragraphs:\n",
        "# !awk -F '\\t' '(NF==3){printf \"%s \", $3}(NF!=3){printf \"\\n%s\\n\", $0}' < /content/udhrTT/udhr_deu_1996_vert.txt >/content/udhrTT/udhr_deu_1996_lem.txt\n",
        "# if we do not need paragraph tags\n",
        "# !awk -F '\\t' '(NF==3){printf \"%s \", $3}(NF!=3){printf \"\\n\"}' < /content/udhrTT/udhr_kat_vert.txt >/content/udhrTT/udhr_kat_lem.txt\n",
        "!awk -F '\\t' '($3==\"<unknown>\"){j++; printf \"%s\\n\", $0} END{print j+0  > \"/dev/stderr\" }' <georgianrandom02.vert >georgianrandom02-unknown.txt"
      ],
      "metadata": {
        "id": "bkTmYh27whZx",
        "colab": {
          "base_uri": "https://localhost:8080/"
        },
        "outputId": "e644dea0-1e72-4776-e758-39147cce3d40"
      },
      "execution_count": 7,
      "outputs": [
        {
          "output_type": "stream",
          "name": "stdout",
          "text": [
            "2123093\n"
          ]
        }
      ]
    },
    {
      "cell_type": "code",
      "source": [
        "cCoverage = 2123093 / 11301824\n",
        "print(cCoverage)"
      ],
      "metadata": {
        "colab": {
          "base_uri": "https://localhost:8080/"
        },
        "id": "ejur1sKl69hC",
        "outputId": "2e5b97df-b80f-4387-bd51-a11d68b5dd20"
      },
      "execution_count": 8,
      "outputs": [
        {
          "output_type": "stream",
          "name": "stdout",
          "text": [
            "0.18785401365301743\n"
          ]
        }
      ]
    },
    {
      "cell_type": "markdown",
      "source": [
        "## Improving coverage with annotated word forms\n",
        "- annotations are taken from `georgianrandom--unknown-frq-all.tsv'\n"
      ],
      "metadata": {
        "id": "RCxoKJmU7Uwn"
      }
    },
    {
      "cell_type": "code",
      "source": [
        "# reading a corrected file into a dictionary\n",
        "# printing dictionaries both for lemmas and PoS to verify\n",
        "\n",
        "import os, sys, re\n",
        "DCorrectionsPoS = {}\n",
        "DCorrectionsLem = {}\n",
        "with open(\"georgianrandom--unknown-frq-all.tsv\") as f:\n",
        "    counter = 0\n",
        "    for sline in f:\n",
        "        counter += 1\n",
        "        if counter == 1: continue # we skip the first line\n",
        "\n",
        "        sline = sline.strip()\n",
        "        LLine = sline.split('\\t')\n",
        "        try: SWord = LLine[1]\n",
        "        except: SWord = ''\n",
        "\n",
        "        try: SPoS = LLine[2]\n",
        "        except: SPoS = ''\n",
        "\n",
        "        try: SLemma = LLine[3]\n",
        "        except: SLemma = ''\n",
        "\n",
        "        try: SPoSCorrected = LLine[4]\n",
        "        except: SPoSCorrected = ''\n",
        "        if SPoSCorrected != '' and SWord != '':\n",
        "            SPoS = SPoSCorrected\n",
        "            DCorrectionsPoS[SWord] = SPoS\n",
        "\n",
        "        if SWord != '' and SLemma != '': DCorrectionsLem[SWord] = SLemma\n",
        "        # if SWord != '' and SPoS != '': DCorrectionsPoS[SWord] = SPoS\n",
        "\n",
        "print(len(DCorrectionsPoS.items()))\n",
        "print(len(DCorrectionsLem.items()))\n",
        "FDictCorrected = open('dictLemmasCorrected.txt', 'w')\n",
        "for key, value in sorted(DCorrectionsLem.items()):\n",
        "    FDictCorrected.write(f'{key}\\t{value}\\n')\n",
        "FDictCorrected.flush()\n",
        "\n",
        "FDictCorrectedPoS = open('dictPoSCorrected.txt', 'w')\n",
        "for key, value in sorted(DCorrectionsPoS.items()):\n",
        "    FDictCorrectedPoS.write(f'{key}\\t{value}\\n')\n",
        "FDictCorrectedPoS.flush()\n"
      ],
      "metadata": {
        "id": "Nna7j2J181XC",
        "colab": {
          "base_uri": "https://localhost:8080/"
        },
        "outputId": "32712aee-0c0b-4649-981b-1520b21349c1"
      },
      "execution_count": 9,
      "outputs": [
        {
          "output_type": "stream",
          "name": "stdout",
          "text": [
            "416\n",
            "2382\n"
          ]
        }
      ]
    },
    {
      "cell_type": "code",
      "source": [
        "# applying corrections to vert file with unknown\n",
        "\n",
        "'''\n",
        "FOutVertCorrected = open('georgianrandom02corr.vert', 'w')\n",
        "with open('georgianrandom02.vert') as FInVertUnknown:\n",
        "    for SLine in FInVertUnknown:\n",
        "        SLine = SLine.rstrip()\n",
        "        LLine = SLine.split('\\t')\n",
        "        if len(LLine) != 3:\n",
        "            FOutVertCorrected.write(f'{SLine}\\n')\n",
        "        else:\n",
        "            SWord = LLine[0]\n",
        "            SPoS = LLine[1]\n",
        "            SLem = LLine[2]\n",
        "\n",
        "            if SLem == '<unknown>':\n",
        "                try: SLem = DCorrectionsLem[SWord]\n",
        "                except: pass\n",
        "\n",
        "                try: SPoS = DCorrectionsPoS[SWord]\n",
        "                except: pass\n",
        "            FOutVertCorrected.write(f'{SWord}\\t{SPoS}\\t{SLem}\\n')           \n",
        "FOutVertCorrected.flush()\n",
        "'''\n",
        "def applyCorrections(SFInVertUnknown, SFOutVertCorrected, DCorrectionsLem, DCorrectionsPoS):\n",
        "    FOutVertCorrected = open(SFOutVertCorrected, 'w')\n",
        "    DReplacements = {}\n",
        "    with open(SFInVertUnknown) as FInVertUnknown:\n",
        "        counter = 0\n",
        "        unknownFound = 0\n",
        "        unknownCorrected = 0\n",
        "        unknownCorrectedPoS = 0\n",
        "        for SLine in FInVertUnknown:\n",
        "            counter +=1\n",
        "            if counter % 1000000 == 0: sys.stdout.write(f'{counter}, unknownFound={unknownFound}, unknownCorrected={unknownCorrected}({unknownCorrected/unknownFound*100}%), unknownTypesCorrected={len(DReplacements)}, unknownCorrectedPoS={unknownCorrectedPoS}\\n')\n",
        "            SLine = SLine.rstrip()\n",
        "            LLine = SLine.split('\\t')\n",
        "            if len(LLine) != 3:\n",
        "                FOutVertCorrected.write(f'{SLine}\\n')\n",
        "            else:\n",
        "                SWord = LLine[0]\n",
        "                SPoS = LLine[1]\n",
        "                SLem = LLine[2]\n",
        "\n",
        "                if SLem == '<unknown>':\n",
        "                    unknownFound +=1\n",
        "                    if SWord in DCorrectionsLem: \n",
        "                        SLem = DCorrectionsLem[SWord]\n",
        "                        unknownCorrected +=1\n",
        "                        try:\n",
        "                            DReplacements[f'{SWord}\\t{SLem}'] += 1\n",
        "                        except:\n",
        "                            DReplacements[f'{SWord}\\t{SLem}'] = 1\n",
        "\n",
        "                    # except: pass\n",
        "\n",
        "                    if SWord in DCorrectionsPoS: \n",
        "                        SPoS = DCorrectionsPoS[SWord]\n",
        "                        unknownCorrectedPoS += 1\n",
        "                    # except: pass\n",
        "                FOutVertCorrected.write(f'{SWord}\\t{SPoS}\\t{SLem}\\n')\n",
        "    FOutVertCorrected.flush()\n",
        "\n",
        "    return (counter, unknownFound, unknownCorrected, len(DReplacements), unknownCorrectedPoS), DReplacements\n",
        "\n",
        "\n",
        "\n",
        "def reportStatistics(TupleIn1):\n",
        "    counter, unknownFound, unknownCorrected, ITypesCorrected, unknownCorrectedPoS = TupleIn1\n",
        "    # ITypesCorrected = len(DReplacements)\n",
        "    UnknownBeforeUpdate = unknownFound / counter\n",
        "    UnknowAfterUpdate = (unknownFound - unknownCorrected) / counter\n",
        "    UnknownChange = UnknownBeforeUpdate - UnknowAfterUpdate\n",
        "\n",
        "    sys.stdout.write(f'\\nAll words:{counter}, Unknown:{unknownFound}, UnknownCorrected:{unknownCorrected}({unknownCorrected/unknownFound*100}%), UnknownTypesCorrected:{ITypesCorrected}, UnknownPoSCorrected:{unknownCorrectedPoS}\\n')\n",
        "    sys.stdout.write(f'\\nUnknown before update:{unknownFound}({UnknownBeforeUpdate * 100})%; Unknown after update:{unknownFound - unknownCorrected}({UnknowAfterUpdate * 100})%; Change:{unknownCorrected}({UnknownChange * 100})%\\n', )\n"
      ],
      "metadata": {
        "id": "YKHNtuYNDCOd"
      },
      "execution_count": 10,
      "outputs": []
    },
    {
      "cell_type": "code",
      "source": [
        "def printFrqDict(DFrq, SFOut):\n",
        "    FOut = open(SFOut, 'w')\n",
        "    count = 0\n",
        "    for key, val in sorted(DFrq.items(), key=lambda item: item[1], reverse=True):\n",
        "        count+=1\n",
        "        FOut.write(f'{count}\\t{key}\\t{val}\\n')\n",
        "    FOut.flush()\n",
        "    "
      ],
      "metadata": {
        "id": "FsHne_TpCrun"
      },
      "execution_count": 69,
      "outputs": []
    },
    {
      "cell_type": "code",
      "source": [
        "TupleIn, DReplacements = applyCorrections('georgianrandom02.vert', 'georgianrandom02corr.vert', DCorrectionsLem, DCorrectionsPoS)\n",
        "# counter, unknownFound, unknownCorrected, unknownCorrectedPoS = TupleIn\n",
        "reportStatistics(TupleIn)\n",
        "# print(len(DReplacements))\n",
        "printFrqDict(DReplacements, 'georgianrandom02replacements.txt')"
      ],
      "metadata": {
        "id": "K1m8qInu5N5l",
        "colab": {
          "base_uri": "https://localhost:8080/"
        },
        "outputId": "2d1fa662-8847-4795-fd28-fabde591685c"
      },
      "execution_count": 12,
      "outputs": [
        {
          "output_type": "stream",
          "name": "stdout",
          "text": [
            "1000000, unknownFound=157803, unknownCorrected=23055(14.609988403262294%), unknownTypesCorrected=2175, unknownCorrectedPoS=4590\n",
            "2000000, unknownFound=327636, unknownCorrected=46754(14.270104628307024%), unknownTypesCorrected=2303, unknownCorrectedPoS=9058\n",
            "3000000, unknownFound=529485, unknownCorrected=74758(14.119002426886503%), unknownTypesCorrected=2335, unknownCorrectedPoS=13488\n",
            "4000000, unknownFound=712430, unknownCorrected=104038(14.603259267577165%), unknownTypesCorrected=2352, unknownCorrectedPoS=20214\n",
            "5000000, unknownFound=904472, unknownCorrected=129723(14.342400870342034%), unknownTypesCorrected=2362, unknownCorrectedPoS=24568\n",
            "6000000, unknownFound=1119863, unknownCorrected=157396(14.054933505259125%), unknownTypesCorrected=2370, unknownCorrectedPoS=30731\n",
            "7000000, unknownFound=1289215, unknownCorrected=183651(14.245180206559807%), unknownTypesCorrected=2372, unknownCorrectedPoS=35679\n",
            "8000000, unknownFound=1447605, unknownCorrected=206991(14.298859150113463%), unknownTypesCorrected=2372, unknownCorrectedPoS=40037\n",
            "9000000, unknownFound=1653932, unknownCorrected=232403(14.05154504538276%), unknownTypesCorrected=2377, unknownCorrectedPoS=45459\n",
            "10000000, unknownFound=1847381, unknownCorrected=255717(13.84213651650634%), unknownTypesCorrected=2380, unknownCorrectedPoS=49950\n",
            "11000000, unknownFound=2068289, unknownCorrected=285452(13.801359481194359%), unknownTypesCorrected=2382, unknownCorrectedPoS=57201\n",
            "\n",
            "All words:11301824, Unknown:2123093, UnknownCorrected:296141(13.948564664854532%), UnknownTypesCorrected:2382, UnknownPoSCorrected:58942\n",
            "\n",
            "Unknown before update:2123093(18.785401365301745)%; Unknown after update:1826952(16.165107508310165)%; Change:296141(2.6202938569915792)%\n"
          ]
        }
      ]
    },
    {
      "cell_type": "code",
      "source": [
        "!wc georgianrandom02corr.vert"
      ],
      "metadata": {
        "colab": {
          "base_uri": "https://localhost:8080/"
        },
        "id": "h0wOnll0Gqnj",
        "outputId": "a09ca808-fedd-4431-adb1-a56ef75e2ea2"
      },
      "execution_count": 13,
      "outputs": [
        {
          "output_type": "stream",
          "name": "stdout",
          "text": [
            " 11301824  33112747 398210244 georgianrandom02corr.vert\n"
          ]
        }
      ]
    },
    {
      "cell_type": "code",
      "source": [
        "!awk -F '\\t' '($3==\"<unknown>\"){j++; printf \"%s\\n\", $0} END{print j+0  > \"/dev/stderr\" }' <georgianrandom02corr.vert >georgianrandom02corr-unknown.txt"
      ],
      "metadata": {
        "colab": {
          "base_uri": "https://localhost:8080/"
        },
        "id": "sTlsuw7zG5dq",
        "outputId": "3f206e84-273f-4690-ebb1-d6b247c0f3e7"
      },
      "execution_count": 14,
      "outputs": [
        {
          "output_type": "stream",
          "name": "stdout",
          "text": [
            "1826952\n"
          ]
        }
      ]
    },
    {
      "cell_type": "code",
      "source": [
        "cCoverage2 = 1826952 / 11301824\n",
        "print(cCoverage2)"
      ],
      "metadata": {
        "colab": {
          "base_uri": "https://localhost:8080/"
        },
        "id": "WWzJLbSuHLWJ",
        "outputId": "9920a60f-a204-4df1-c4bf-960b46c252ec"
      },
      "execution_count": 15,
      "outputs": [
        {
          "output_type": "stream",
          "name": "stdout",
          "text": [
            "0.16165107508310164\n"
          ]
        }
      ]
    },
    {
      "cell_type": "markdown",
      "source": [
        "## Running tagger / checking improvement on Specialised corpora\n",
        "- downloading the corpora\n",
        "- tagging\n",
        "- checking baseline coverage\n",
        "- checking improved coverage\n",
        "- intersection of unknown words\n",
        "- preparing datasets (1) intersections; (2) specialised for each corpus"
      ],
      "metadata": {
        "id": "hCCLA_h3vruR"
      }
    },
    {
      "cell_type": "code",
      "source": [
        "!wget https://heibox.uni-heidelberg.de/f/dc5bcb4413aa42668130/?dl=1\n",
        "!mv index.html?dl=1 specialisedCorpus.zip"
      ],
      "metadata": {
        "id": "YvOhJyLKwNuQ"
      },
      "execution_count": null,
      "outputs": []
    },
    {
      "cell_type": "code",
      "source": [
        "!unzip specialisedCorpus.zip"
      ],
      "metadata": {
        "id": "eBXDXfuxwcLL"
      },
      "execution_count": null,
      "outputs": []
    },
    {
      "cell_type": "code",
      "source": [
        "!wc specialised-corpora/*"
      ],
      "metadata": {
        "id": "UlDWD3XHwy25",
        "colab": {
          "base_uri": "https://localhost:8080/"
        },
        "outputId": "d8acb59f-2108-41e2-a48d-9c149ddcbf59"
      },
      "execution_count": 18,
      "outputs": [
        {
          "output_type": "stream",
          "name": "stdout",
          "text": [
            "   70620   596366 11660439 specialised-corpora/cFiktion.txt\n",
            "   81314   529838 11302534 specialised-corpora/cNaturwissenschaft.txt\n",
            "   63223   973857 21459641 specialised-corpora/cRechtswissenschaft.txt\n",
            "  215157  2100061 44422614 total\n"
          ]
        }
      ]
    },
    {
      "cell_type": "code",
      "source": [
        "# FName = 'ocrOutKA.txt'\n",
        "# FNameOut = 'ocrLinesKA.txt'\n",
        "\n",
        "def removeNewLines(FName, FNameOut):\n",
        "    FIn = open(FName, 'r')\n",
        "    FOut = open(FNameOut, 'w')\n",
        "\n",
        "    for SLine in FIn:\n",
        "        SLine = SLine.strip()\n",
        "        if SLine == '': \n",
        "            FOut.write('\\n\\n')\n",
        "            continue\n",
        "        if SLine[-1] == '-':\n",
        "            SLine2write = SLine[:-1]\n",
        "            FOut.write(SLine2write)\n",
        "            continue\n",
        "\n",
        "        FOut.write(SLine + ' ')\n",
        "    FOut.flush()\n",
        "    return\n"
      ],
      "metadata": {
        "id": "YajGemo2zpZ3"
      },
      "execution_count": 19,
      "outputs": []
    },
    {
      "cell_type": "code",
      "source": [
        "!mkdir specialised-corpora-s01-lines/"
      ],
      "metadata": {
        "id": "pkCb-p630uzF"
      },
      "execution_count": 20,
      "outputs": []
    },
    {
      "cell_type": "code",
      "source": [
        "removeNewLines('specialised-corpora/cFiktion.txt', 'specialised-corpora-s01-lines/cFiktion.txt')\n",
        "removeNewLines('specialised-corpora/cNaturwissenschaft.txt', 'specialised-corpora-s01-lines/cNaturwissenschaft.txt')\n",
        "removeNewLines('specialised-corpora/cRechtswissenschaft.txt', 'specialised-corpora-s01-lines/cRechtswissenschaft.txt')"
      ],
      "metadata": {
        "id": "-Ql6gYk80_hW"
      },
      "execution_count": 21,
      "outputs": []
    },
    {
      "cell_type": "code",
      "source": [
        "!head -n 10 specialised-corpora/cFiktion.txt"
      ],
      "metadata": {
        "id": "644HNNkk2wxk"
      },
      "execution_count": null,
      "outputs": []
    },
    {
      "cell_type": "code",
      "source": [
        "!head -n 10 specialised-corpora-s01-lines/cFiktion.txt"
      ],
      "metadata": {
        "id": "15Fjckn32qUG"
      },
      "execution_count": null,
      "outputs": []
    },
    {
      "cell_type": "code",
      "source": [
        "!head -n 50 specialised-corpora-s01-lines/cRechtswissenschaft.txt"
      ],
      "metadata": {
        "id": "wnO9eCy12veN"
      },
      "execution_count": null,
      "outputs": []
    },
    {
      "cell_type": "code",
      "source": [
        "!cat specialised-corpora-s01-lines/* >specialised-corpora-s01-all.txt"
      ],
      "metadata": {
        "id": "W2cQpdIczPrH"
      },
      "execution_count": 22,
      "outputs": []
    },
    {
      "cell_type": "markdown",
      "source": [
        "### preparing texts for tagging: removing new lines, etc."
      ],
      "metadata": {
        "id": "CKl6_Kdxxgrn"
      }
    },
    {
      "cell_type": "code",
      "source": [
        "!mkdir specialised-corpora-s02-vert/"
      ],
      "metadata": {
        "id": "PaLmxuwF0hdn"
      },
      "execution_count": 23,
      "outputs": []
    },
    {
      "cell_type": "code",
      "source": [
        "!./treetagger/cmd/tree-tagger-georgian specialised-corpora-s01-lines/cFiktion.txt >specialised-corpora-s02-vert/cFiktion.vert"
      ],
      "metadata": {
        "id": "t7xxrIkWw6vw",
        "colab": {
          "base_uri": "https://localhost:8080/"
        },
        "outputId": "243db8b4-de17-40c3-db88-a58413e704c2"
      },
      "execution_count": 24,
      "outputs": [
        {
          "output_type": "stream",
          "name": "stdout",
          "text": [
            "\treading parameters ...\n",
            "\ttagging ...\n",
            "747000\t finished.\n"
          ]
        }
      ]
    },
    {
      "cell_type": "code",
      "source": [
        "!./treetagger/cmd/tree-tagger-georgian specialised-corpora-s01-lines/cNaturwissenschaft.txt >specialised-corpora-s02-vert/cNaturwissenschaft.vert"
      ],
      "metadata": {
        "id": "U3QcTc9txFvI",
        "colab": {
          "base_uri": "https://localhost:8080/"
        },
        "outputId": "8103bcc9-e394-48cf-dab2-9fd0f7fd527a"
      },
      "execution_count": 25,
      "outputs": [
        {
          "output_type": "stream",
          "name": "stdout",
          "text": [
            "\treading parameters ...\n",
            "\ttagging ...\n",
            "638000\t finished.\n"
          ]
        }
      ]
    },
    {
      "cell_type": "code",
      "source": [
        "!./treetagger/cmd/tree-tagger-georgian specialised-corpora-s01-lines/cRechtswissenschaft.txt >specialised-corpora-s02-vert/cRechtswissenschaft.vert"
      ],
      "metadata": {
        "id": "9zNr3uh9xGhg",
        "colab": {
          "base_uri": "https://localhost:8080/"
        },
        "outputId": "124c1860-2258-4671-bdde-b94b95f59643"
      },
      "execution_count": 26,
      "outputs": [
        {
          "output_type": "stream",
          "name": "stdout",
          "text": [
            "\treading parameters ...\n",
            "\ttagging ...\n",
            "1181000\t finished.\n"
          ]
        }
      ]
    },
    {
      "cell_type": "code",
      "source": [
        "!./treetagger/cmd/tree-tagger-georgian specialised-corpora-s01-all.txt >specialised-corpora-s01-all.vert"
      ],
      "metadata": {
        "id": "h5_uvDQXzZzn",
        "colab": {
          "base_uri": "https://localhost:8080/"
        },
        "outputId": "1701fc8f-9f95-4e42-9420-859fa72da9e9"
      },
      "execution_count": 27,
      "outputs": [
        {
          "output_type": "stream",
          "name": "stdout",
          "text": [
            "\treading parameters ...\n",
            "\ttagging ...\n",
            "2567000\t finished.\n"
          ]
        }
      ]
    },
    {
      "cell_type": "markdown",
      "source": [
        "### checking coverage on joint specialised corpus\n",
        "- coverage of raw corpus\n",
        "- coverage of corrections"
      ],
      "metadata": {
        "id": "qaH_ZOcF4deI"
      }
    },
    {
      "cell_type": "code",
      "source": [
        "!awk -F '\\t' '($3==\"<unknown>\"){j++; printf \"%s\\n\", $0} END{print j+0  > \"/dev/stderr\" }' <specialised-corpora-s01-all.vert >specialised-corpora-s01-all-unknown.vert"
      ],
      "metadata": {
        "colab": {
          "base_uri": "https://localhost:8080/"
        },
        "id": "Rh6LnB8R4ATE",
        "outputId": "3be45dec-ab39-4489-8231-46e7710e4e36"
      },
      "execution_count": 28,
      "outputs": [
        {
          "output_type": "stream",
          "name": "stdout",
          "text": [
            "514895\n"
          ]
        }
      ]
    },
    {
      "cell_type": "code",
      "source": [
        "!wc specialised-corpora-s01-all.vert\n",
        "!wc specialised-corpora-s01-all-unknown.vert"
      ],
      "metadata": {
        "colab": {
          "base_uri": "https://localhost:8080/"
        },
        "id": "6EBfJl8n4QCN",
        "outputId": "992962f2-f6b5-4819-8028-069e0a71f642"
      },
      "execution_count": 29,
      "outputs": [
        {
          "output_type": "stream",
          "name": "stdout",
          "text": [
            " 2567303  7701931 91404493 specialised-corpora-s01-all.vert\n",
            "  514895  1544685 19910737 specialised-corpora-s01-all-unknown.vert\n"
          ]
        }
      ]
    },
    {
      "cell_type": "code",
      "source": [
        "cCoverage3 = 514895 / 2567303\n",
        "print(cCoverage3)"
      ],
      "metadata": {
        "colab": {
          "base_uri": "https://localhost:8080/"
        },
        "id": "gWTlZVj84kaT",
        "outputId": "857a3049-fd1e-4e10-bee8-d2d5bac2af59"
      },
      "execution_count": 30,
      "outputs": [
        {
          "output_type": "stream",
          "name": "stdout",
          "text": [
            "0.20055871862417488\n"
          ]
        }
      ]
    },
    {
      "cell_type": "code",
      "source": [
        "TupleStat, DReplacements = applyCorrections('specialised-corpora-s01-all.vert', 'specialised-corpora-s01-all-corr.vert', DCorrectionsLem, DCorrectionsPoS)\n",
        "reportStatistics(TupleStat)\n",
        "\n"
      ],
      "metadata": {
        "id": "kVtds2m16Gjr",
        "colab": {
          "base_uri": "https://localhost:8080/"
        },
        "outputId": "ab535b06-85a0-48a1-9382-ba12b6d45cbd"
      },
      "execution_count": 31,
      "outputs": [
        {
          "output_type": "stream",
          "name": "stdout",
          "text": [
            "1000000, unknownFound=181642, unknownCorrected=15100(8.313055350634766%), unknownTypesCorrected=1606, unknownCorrectedPoS=3608\n",
            "2000000, unknownFound=397008, unknownCorrected=40194(10.124229234675372%), unknownTypesCorrected=1993, unknownCorrectedPoS=8837\n",
            "\n",
            "All words:2567303, Unknown:514895, UnknownCorrected:56079(10.891346779440468%), UnknownTypesCorrected:2014, UnknownPoSCorrected:11936\n",
            "\n",
            "Unknown before update:514895(20.055871862417487)%; Unknown after update:458816(17.871517308241373)%; Change:56079(2.1843545541761156)%\n"
          ]
        }
      ]
    },
    {
      "cell_type": "code",
      "source": [
        "printFrqDict(DReplacements, 'specialised-corpora-s01-all-replacements.txt')"
      ],
      "metadata": {
        "id": "L58VDhp0Pmgl"
      },
      "execution_count": 32,
      "outputs": []
    },
    {
      "cell_type": "code",
      "source": [
        "!awk -F '\\t' '($3==\"<unknown>\"){j++; printf \"%s\\n\", $0} END{print j+0  > \"/dev/stderr\" }' <specialised-corpora-s01-all-corr.vert >specialised-corpora-s01-all-corr-unknown.vert"
      ],
      "metadata": {
        "colab": {
          "base_uri": "https://localhost:8080/"
        },
        "id": "pvjq7zS36XCi",
        "outputId": "c7481a50-e370-4958-f263-e472505d1ba1"
      },
      "execution_count": 33,
      "outputs": [
        {
          "output_type": "stream",
          "name": "stdout",
          "text": [
            "458816\n"
          ]
        }
      ]
    },
    {
      "cell_type": "code",
      "source": [
        "!wc specialised-corpora-s01-all-corr.vert\n",
        "!wc specialised-corpora-s01-all-corr-unknown.vert"
      ],
      "metadata": {
        "colab": {
          "base_uri": "https://localhost:8080/"
        },
        "id": "gve-C0IF6nrz",
        "outputId": "198c88fe-4cdd-4a79-ff8d-7a30763c4768"
      },
      "execution_count": 34,
      "outputs": [
        {
          "output_type": "stream",
          "name": "stdout",
          "text": [
            " 2567303  7701931 92197268 specialised-corpora-s01-all-corr.vert\n",
            "  458816  1376448 17633815 specialised-corpora-s01-all-corr-unknown.vert\n"
          ]
        }
      ]
    },
    {
      "cell_type": "code",
      "source": [
        "cCoverage4 = 458816 / 2567303\n",
        "print(cCoverage4)"
      ],
      "metadata": {
        "colab": {
          "base_uri": "https://localhost:8080/"
        },
        "id": "7gEOgJ6_6vay",
        "outputId": "2f298245-0965-4055-b6d8-f895afb5b938"
      },
      "execution_count": 35,
      "outputs": [
        {
          "output_type": "stream",
          "name": "stdout",
          "text": [
            "0.17871517308241372\n"
          ]
        }
      ]
    },
    {
      "cell_type": "code",
      "source": [
        "# corrections to individual corpora\n",
        "!mkdir specialised-corpora-s03-cVert"
      ],
      "metadata": {
        "id": "XRflAtvl7Un6"
      },
      "execution_count": 36,
      "outputs": []
    },
    {
      "cell_type": "code",
      "source": [
        "# applying corrections and reporting statistics for each individual corpora\n",
        "# Fiktion\n",
        "TupleStatF, DReplacements = applyCorrections('/content/specialised-corpora-s02-vert/cFiktion.vert', '/content/specialised-corpora-s03-cVert/cFiktion.vert', DCorrectionsLem, DCorrectionsPoS)\n",
        "reportStatistics(TupleStatF)\n",
        "printFrqDict(DReplacements, '/content/specialised-corpora-s03-cVert/cFiktion-replacements.txt')\n"
      ],
      "metadata": {
        "id": "BsDpKqmk7nmy",
        "colab": {
          "base_uri": "https://localhost:8080/"
        },
        "outputId": "6bdc0c4f-d17a-4ca2-ef00-af746678108d"
      },
      "execution_count": 37,
      "outputs": [
        {
          "output_type": "stream",
          "name": "stdout",
          "text": [
            "\n",
            "All words:747302, Unknown:134416, UnknownCorrected:9060(6.740269015593382%), UnknownTypesCorrected:1107, UnknownPoSCorrected:2739\n",
            "\n",
            "Unknown before update:134416(17.98683798517868)%; Unknown after update:125356(16.774476717578704)%; Change:9060(1.212361267599979)%\n"
          ]
        }
      ]
    },
    {
      "cell_type": "code",
      "source": [
        "# Natur...\n",
        "TupleStatN, DReplacements = applyCorrections('/content/specialised-corpora-s02-vert/cNaturwissenschaft.vert', '/content/specialised-corpora-s03-cVert/cNaturwissenschaft.vert', DCorrectionsLem, DCorrectionsPoS)\n",
        "reportStatistics(TupleStatN)\n",
        "printFrqDict(DReplacements, '/content/specialised-corpora-s03-cVert/cNaturwissenschaft-replacements.txt')"
      ],
      "metadata": {
        "colab": {
          "base_uri": "https://localhost:8080/"
        },
        "id": "r1noV26sZIJY",
        "outputId": "31fb21d6-7379-4324-bd2c-fa0942e1cd87"
      },
      "execution_count": 38,
      "outputs": [
        {
          "output_type": "stream",
          "name": "stdout",
          "text": [
            "\n",
            "All words:638588, Unknown:128802, UnknownCorrected:14649(11.373270601388178%), UnknownTypesCorrected:1575, UnknownPoSCorrected:2586\n",
            "\n",
            "Unknown before update:128802(20.169812148051637)%; Unknown after update:114153(17.87584483266206)%; Change:14649(2.293967315389578)%\n"
          ]
        }
      ]
    },
    {
      "cell_type": "code",
      "source": [
        "# Recht\n",
        "TupleStatR, DReplacements = applyCorrections('/content/specialised-corpora-s02-vert/cRechtswissenschaft.vert', '/content/specialised-corpora-s03-cVert/cRechtswissenschaft.vert', DCorrectionsLem, DCorrectionsPoS)\n",
        "reportStatistics(TupleStatR)\n",
        "printFrqDict(DReplacements, '/content/specialised-corpora-s03-cVert/cRechtswissenschaft-replacements.txt')"
      ],
      "metadata": {
        "colab": {
          "base_uri": "https://localhost:8080/"
        },
        "id": "1yLg176AZI4T",
        "outputId": "d8096033-a876-498a-a590-f1486c5a97c2"
      },
      "execution_count": 39,
      "outputs": [
        {
          "output_type": "stream",
          "name": "stdout",
          "text": [
            "1000000, unknownFound=210522, unknownCorrected=27088(12.867063774807383%), unknownTypesCorrected=1141, unknownCorrectedPoS=5747\n",
            "\n",
            "All words:1181412, Unknown:251676, UnknownCorrected:32370(12.861774662661517%), UnknownTypesCorrected:1290, UnknownPoSCorrected:6611\n",
            "\n",
            "Unknown before update:251676(21.302983209921685)%; Unknown after update:219306(18.563041513036943)%; Change:32370(2.7399416968847428)%\n"
          ]
        }
      ]
    },
    {
      "cell_type": "code",
      "source": [
        "!mkdir specialised-corpora-s04-cUnKVert"
      ],
      "metadata": {
        "id": "ewThiwiY8Tpp"
      },
      "execution_count": 40,
      "outputs": []
    },
    {
      "cell_type": "code",
      "source": [
        "!awk -F '\\t' '($3==\"<unknown>\"){j++; printf \"%s\\n\", $0} END{print j+0  > \"/dev/stderr\" }' </content/specialised-corpora-s03-cVert/cFiktion.vert >/content/specialised-corpora-s04-cUnKVert/cFiktion.vert\n",
        "!awk -F '\\t' '($3==\"<unknown>\"){j++; printf \"%s\\n\", $0} END{print j+0  > \"/dev/stderr\" }' </content/specialised-corpora-s03-cVert/cNaturwissenschaft.vert >/content/specialised-corpora-s04-cUnKVert/cNaturwissenschaft.vert\n",
        "!awk -F '\\t' '($3==\"<unknown>\"){j++; printf \"%s\\n\", $0} END{print j+0  > \"/dev/stderr\" }' </content/specialised-corpora-s03-cVert/cRechtswissenschaft.vert >/content/specialised-corpora-s04-cUnKVert/cRechtswissenschaft.vert"
      ],
      "metadata": {
        "colab": {
          "base_uri": "https://localhost:8080/"
        },
        "id": "ls9HNjFx8cJ5",
        "outputId": "705a60b2-393e-4ad4-a52d-6f060154751d"
      },
      "execution_count": 41,
      "outputs": [
        {
          "output_type": "stream",
          "name": "stdout",
          "text": [
            "125356\n",
            "114153\n",
            "219306\n"
          ]
        }
      ]
    },
    {
      "cell_type": "code",
      "source": [
        "!head -n 40 /content/specialised-corpora-s04-cUnKVert/cFiktion.vert"
      ],
      "metadata": {
        "id": "hO0nxYPI8yiC"
      },
      "execution_count": null,
      "outputs": []
    },
    {
      "cell_type": "code",
      "source": [
        "def corp2frqDict(SFIn):\n",
        "    DFrq = {}\n",
        "    with open(SFIn) as FIn:\n",
        "        for SLine in FIn:\n",
        "            SLine = SLine.rstrip()\n",
        "            # LLine = SLine.split('\\t')\n",
        "            try:\n",
        "                DFrq[SLine]+=1\n",
        "            except:\n",
        "                DFrq[SLine]=1\n",
        "    return DFrq\n"
      ],
      "metadata": {
        "id": "oPd2hQHv9plp"
      },
      "execution_count": 43,
      "outputs": []
    },
    {
      "cell_type": "code",
      "source": [
        "DFrqAllCorpora = corp2frqDict('specialised-corpora-s01-all-corr-unknown.vert')\n",
        "DFrqFiktion = corp2frqDict('/content/specialised-corpora-s04-cUnKVert/cFiktion.vert')\n",
        "DFrqNaturwissenschaft = corp2frqDict('/content/specialised-corpora-s04-cUnKVert/cNaturwissenschaft.vert')\n",
        "DFrqRechtswissenschaft = corp2frqDict('/content/specialised-corpora-s04-cUnKVert/cRechtswissenschaft.vert')\n",
        "print(len(DFrqAllCorpora))\n",
        "print(len(DFrqFiktion))\n",
        "print(len(DFrqNaturwissenschaft))\n",
        "print(len(DFrqRechtswissenschaft))"
      ],
      "metadata": {
        "colab": {
          "base_uri": "https://localhost:8080/"
        },
        "id": "FO-3ELSy-dIo",
        "outputId": "9ebe0d6e-d02d-484d-a4f8-97afa0fb176b"
      },
      "execution_count": 44,
      "outputs": [
        {
          "output_type": "stream",
          "name": "stdout",
          "text": [
            "142418\n",
            "57882\n",
            "53659\n",
            "45696\n"
          ]
        }
      ]
    },
    {
      "cell_type": "code",
      "source": [
        "def selectDTop(DInput, ITop):\n",
        "    DTop = {}\n",
        "    c=0\n",
        "    for key, val in sorted(DInput.items(), key=lambda item: item[1], reverse=True):\n",
        "        c+=1\n",
        "        if c > ITop: break\n",
        "        DTop[key]=val\n",
        "    return DTop\n",
        "\n",
        "\n",
        "def intersect2dicts(D1, D2, Top1, Top2):\n",
        "    DIners = {}\n",
        "    Dc1 = selectDTop(D1, Top1)\n",
        "    Dc2 = selectDTop(D2, Top2)\n",
        "\n",
        "    for key, val in sorted(Dc1.items(), key=lambda item: item[1], reverse=True):\n",
        "        if key in Dc2.keys():\n",
        "            Dc2frq = Dc2[key]\n",
        "            IFrqAve = (val + Dc2frq) / 2\n",
        "            DIners[key] = IFrqAve\n",
        "    return DIners\n",
        "\n",
        "def union2dicts(D1, D2, Top1, Top2):\n",
        "    DUnion = {}\n",
        "    Dc1 = selectDTop(D1, Top1)\n",
        "    Dc2 = selectDTop(D2, Top2)\n",
        "\n",
        "    for key, val in sorted(Dc1.items(), key=lambda item: item[1], reverse=True):\n",
        "        if key in Dc2.keys():\n",
        "            Dc2frq = Dc2[key]\n",
        "            IFrqAve = (val + Dc2frq) / 2\n",
        "            DUnion[key] = IFrqAve\n",
        "        else:\n",
        "            DUnion[key] = val\n",
        "\n",
        "    for key, val in sorted(Dc2.items(), key=lambda item: item[1], reverse=True):\n",
        "        if key in Dc1.keys():\n",
        "            Dc1frq = Dc1[key]\n",
        "            IFrqAve = (val + Dc1frq) / 2\n",
        "            DUnion[key] = IFrqAve\n",
        "        else:\n",
        "            DUnion[key] = val\n",
        "    return DUnion"
      ],
      "metadata": {
        "id": "v93uOfGY_0AQ"
      },
      "execution_count": 45,
      "outputs": []
    },
    {
      "cell_type": "code",
      "source": [
        "DIntersection12 = intersect2dicts(DFrqFiktion, DFrqNaturwissenschaft, 500000, 500000)\n",
        "DIntersection123 = intersect2dicts(DIntersection12, DFrqRechtswissenschaft, 500000, 500000)\n",
        "print('DIntersection12', len(DIntersection12))\n",
        "print('DIntersection123', len(DIntersection123))\n",
        "print('')\n",
        "\n",
        "DIntersection1 = intersect2dicts(DFrqFiktion, DFrqNaturwissenschaft, 500000, 500000)\n",
        "DIntersection2 = intersect2dicts(DFrqNaturwissenschaft, DFrqRechtswissenschaft, 500000, 500000)\n",
        "DIntersection3 = intersect2dicts(DFrqFiktion, DFrqRechtswissenschaft, 500000, 500000)\n",
        "\n",
        "print('DIntersection1', len(DIntersection1))\n",
        "print('DIntersection2', len(DIntersection2))\n",
        "print('DIntersection3', len(DIntersection3))\n",
        "\n",
        "DUnion12 = union2dicts(DIntersection1, DIntersection2, 500000, 500000)\n",
        "DUnion123 = union2dicts(DUnion12, DIntersection3, 500000, 500000)\n",
        "print('DUnion12', len(DUnion12))\n",
        "print('DUnion123', len(DUnion123))\n",
        "\n",
        "\n",
        "\n"
      ],
      "metadata": {
        "colab": {
          "base_uri": "https://localhost:8080/"
        },
        "id": "QdQnJJBhBrLJ",
        "outputId": "6df4f4d6-1d4e-465d-d4b8-280a917be26b"
      },
      "execution_count": 46,
      "outputs": [
        {
          "output_type": "stream",
          "name": "stdout",
          "text": [
            "DIntersection12 7412\n",
            "DIntersection123 1688\n",
            "\n",
            "DIntersection1 7412\n",
            "DIntersection2 5572\n",
            "DIntersection3 3523\n",
            "DUnion12 11296\n",
            "DUnion123 13131\n"
          ]
        }
      ]
    },
    {
      "cell_type": "code",
      "source": [
        "def printDictWExternalFrq(DFrq, DExternalFrq, DFrqF, DFrqN, DFrqR, SFOut):\n",
        "    FOut = open(SFOut, 'w')\n",
        "    D4Sorting = {}\n",
        "    count = 0\n",
        "    SumF = 0\n",
        "    SumN = 0\n",
        "    SumR = 0\n",
        "    SumAll = 0\n",
        "    for key, val in sorted(DFrq.items(), key=lambda item: item[1], reverse=True):\n",
        "        count+=1\n",
        "        if key in DExternalFrq.keys():\n",
        "            valAll = DExternalFrq[key]\n",
        "        else:\n",
        "            valAll = 0\n",
        "        if key in DFrqF.keys():\n",
        "            valF = DFrqF[key]\n",
        "        else:\n",
        "            valF = 0\n",
        "        if key in DFrqN.keys():\n",
        "            valN = DFrqN[key]\n",
        "        else:\n",
        "            valN = 0\n",
        "        if key in DFrqR.keys():\n",
        "            valR = DFrqR[key]\n",
        "        else:\n",
        "            valR = 0\n",
        "        # if valF > 1 and valN > 1 and valR > 1:\n",
        "        LPartFrequencies = sorted([valF, valN, valR])\n",
        "        FrqLow1 = LPartFrequencies[0]\n",
        "        FrqLow2 = LPartFrequencies[1]\n",
        "        # if FrqLow1 > 1 and FrqLow2 > 1:\n",
        "        if FrqLow2 > 1:\n",
        "            D4Sorting[f'{key}\\t{valF}\\t{valN}\\t{valR}'] = valAll\n",
        "            SumF += valF\n",
        "            SumN += valN\n",
        "            SumR += valR\n",
        "            SumAll += valAll\n",
        "\n",
        "        FOut.write(f'{count}\\t{key}\\t{valF}\\t{valN}\\t{valR}\\t{val}\\t{valAll}\\n')\n",
        "    FOut.flush()\n",
        "    print(f'Fiktion:{SumF}\\tNatur:{SumN}\\tRecht{SumR}\\tAll{SumAll}\\n')\n",
        "    return D4Sorting"
      ],
      "metadata": {
        "id": "gcd0DoZrlKm1"
      },
      "execution_count": 47,
      "outputs": []
    },
    {
      "cell_type": "code",
      "source": [
        "D4Sorting = printDictWExternalFrq(DUnion123, DFrqAllCorpora, DFrqFiktion, DFrqNaturwissenschaft, DFrqRechtswissenschaft, '/content/specialised-corpora-s05-union123UnkonwAllFrq.txt')\n",
        "print(len(D4Sorting))\n",
        "printFrqDict(D4Sorting, '/content/specialised-corpora-s06-union123Unkonw1.txt')"
      ],
      "metadata": {
        "colab": {
          "base_uri": "https://localhost:8080/"
        },
        "id": "34KA7AwwlZZo",
        "outputId": "eb9546c4-4f3c-4014-cac5-5a0fb4d4699f"
      },
      "execution_count": 48,
      "outputs": [
        {
          "output_type": "stream",
          "name": "stdout",
          "text": [
            "Fiktion:21081\tNatur:22473\tRecht47302\tAll90856\n",
            "\n",
            "4151\n"
          ]
        }
      ]
    },
    {
      "cell_type": "code",
      "source": [
        "!head -n 40 specialised-corpora-s06-union123Unkonw1.txt"
      ],
      "metadata": {
        "id": "pMdIByVyfUrq"
      },
      "execution_count": null,
      "outputs": []
    },
    {
      "cell_type": "code",
      "source": [
        "# printDictWExternalFrq(DUnion123, DFrqAllCorpora, '/content/specialised-corpora-s05-union123UnkonwAllFrq.txt')\n",
        "printFrqDict(DUnion123, '/content/specialised-corpora-s04-union123Unkonw.txt')"
      ],
      "metadata": {
        "id": "oR8-vlz-Daye"
      },
      "execution_count": 50,
      "outputs": []
    },
    {
      "cell_type": "code",
      "source": [
        "!wc specialised-corpora-s04-union123Unkonw.txt"
      ],
      "metadata": {
        "colab": {
          "base_uri": "https://localhost:8080/"
        },
        "id": "jMzFsvHOfklr",
        "outputId": "9e7f7ccf-ada8-4d41-df2e-63a90961d4f2"
      },
      "execution_count": 51,
      "outputs": [
        {
          "output_type": "stream",
          "name": "stdout",
          "text": [
            " 13131  65655 679910 specialised-corpora-s04-union123Unkonw.txt\n"
          ]
        }
      ]
    },
    {
      "cell_type": "code",
      "source": [
        "!head -n 40 specialised-corpora-s04-union123Unkonw.txt"
      ],
      "metadata": {
        "id": "I8Cd9ecQfpqD"
      },
      "execution_count": null,
      "outputs": []
    },
    {
      "cell_type": "code",
      "source": [
        "# !mkdir specialised-corpora-s05splitUnion123"
      ],
      "metadata": {
        "id": "aE9E2_60iLK0"
      },
      "execution_count": null,
      "outputs": []
    },
    {
      "cell_type": "code",
      "source": [
        "def splitFileNParts(FN2Split, N):\n",
        "    for el in range(N):\n",
        "        Elem = el+1\n",
        "        SEl = str(Elem)\n",
        "        SFNOut = FN2Split + '_' + SEl + '.tsv'\n",
        "        FNOut = open(SFNOut, 'w')\n",
        "        with open(FN2Split, 'r') as FIn:\n",
        "            count = 0\n",
        "            for SLine in FIn:\n",
        "                count +=1\n",
        "                if (count + el) % N == 0:\n",
        "                    FNOut.write(SLine)\n",
        "        FNOut.flush()\n",
        "        FIn.close()        \n",
        "\n",
        "\n",
        "\n",
        "\n",
        "\n",
        "\n"
      ],
      "metadata": {
        "id": "UmGw6-D2hPgX"
      },
      "execution_count": 53,
      "outputs": []
    },
    {
      "cell_type": "code",
      "source": [
        "splitFileNParts('/content/specialised-corpora-s06-union123Unkonw1.txt', 3)"
      ],
      "metadata": {
        "id": "tMNk9MNd0pPO"
      },
      "execution_count": 54,
      "outputs": []
    },
    {
      "cell_type": "markdown",
      "source": [
        "### Applying and checking corrections from specialized corpus\n",
        "\n",
        "file 'specialised-corpora-all-union123Unkonw.tsv'"
      ],
      "metadata": {
        "id": "2CX9hEm1vA6A"
      }
    },
    {
      "cell_type": "code",
      "source": [
        "!wget https://heibox.uni-heidelberg.de/f/b7c076d7876d4860a554/?dl=1\n",
        "!mv index.html?dl=1 specialised-corpora-all-union123Unkonw.tsv"
      ],
      "metadata": {
        "id": "jpqe2BNFu-8x"
      },
      "execution_count": null,
      "outputs": []
    },
    {
      "cell_type": "code",
      "source": [
        "# reading a dictionary with corrections (function)\n",
        "\n",
        "\n",
        "def readCorrectionFile(SFInput):\n",
        "    '''\n",
        "    input string: file name with the corrections;\n",
        "    output: tuple of two dictionaries: corrections lemmas, corrections part-of-speech\n",
        "    '''\n",
        "    DCorrectionsPoS = {}\n",
        "    DCorrectionsLem = {}\n",
        "    with open(SFInput) as f:\n",
        "        counter = 0\n",
        "        for sline in f:\n",
        "            counter += 1\n",
        "            if counter == 1: continue # we skip the first line\n",
        "\n",
        "            sline = sline.strip()\n",
        "            LLine = sline.split('\\t')\n",
        "            try: SWord = LLine[1]\n",
        "            except: SWord = ''\n",
        "\n",
        "            try: SPoS = LLine[2]\n",
        "            except: SPoS = ''\n",
        "\n",
        "            try: SLemma = LLine[3]\n",
        "            except: SLemma = ''\n",
        "\n",
        "            try: SPoSCorrected = LLine[4]\n",
        "            except: SPoSCorrected = ''\n",
        "            if SPoSCorrected != '' and SWord != '':\n",
        "                SPoS = SPoSCorrected\n",
        "                DCorrectionsPoS[SWord] = SPoS\n",
        "\n",
        "            if SWord != '' and SLemma != '': DCorrectionsLem[SWord] = SLemma\n",
        "            # if SWord != '' and SPoS != '': DCorrectionsPoS[SWord] = SPoS\n",
        "\n",
        "    print(len(DCorrectionsPoS.items()))\n",
        "    print(len(DCorrectionsLem.items()))\n",
        "\n",
        "    return DCorrectionsLem, DCorrectionsPoS\n",
        "\n",
        "\n",
        "def readCorrectionFileTestDict(DCorrectionsLem, DCorrectionsPoS, SFOutDictLemmasCorrected, SFOutDdictPoSCorrected):\n",
        "    FDictCorrected = open(SFOutDictLemmasCorrected, 'w')\n",
        "    for key, value in sorted(DCorrectionsLem.items()):\n",
        "        FDictCorrected.write(f'{key}\\t{value}\\n')\n",
        "    FDictCorrected.flush()\n",
        "\n",
        "    FDictCorrectedPoS = open(SFOutDdictPoSCorrected, 'w')\n",
        "    for key, value in sorted(DCorrectionsPoS.items()):\n",
        "        FDictCorrectedPoS.write(f'{key}\\t{value}\\n')\n",
        "    FDictCorrectedPoS.flush()\n",
        "\n",
        "    return"
      ],
      "metadata": {
        "id": "M_aofbnVvtF3"
      },
      "execution_count": 59,
      "outputs": []
    },
    {
      "cell_type": "code",
      "source": [
        "DCorrectionsLem2, DCorrectionsPoS2 = readCorrectionFile('specialised-corpora-all-union123Unkonw.tsv')\n",
        "readCorrectionFileTestDict(DCorrectionsLem2, DCorrectionsPoS2, 'specialised-corpora-all-union123-cor-lem.txt', 'specialised-corpora-all-union123-cor-pos.txt')"
      ],
      "metadata": {
        "colab": {
          "base_uri": "https://localhost:8080/"
        },
        "id": "4N08PFRn1yJb",
        "outputId": "a52be80f-4c91-43e6-f199-05b1931f958f"
      },
      "execution_count": 60,
      "outputs": [
        {
          "output_type": "stream",
          "name": "stdout",
          "text": [
            "631\n",
            "2535\n"
          ]
        }
      ]
    },
    {
      "cell_type": "code",
      "source": [
        "!mkdir specialised-corpora-s05-cVertSC"
      ],
      "metadata": {
        "id": "lgwzfCtE4_ks"
      },
      "execution_count": 61,
      "outputs": []
    },
    {
      "cell_type": "code",
      "source": [
        "TupleStatF2, DReplacementsF2 = applyCorrections('/content/specialised-corpora-s03-cVert/cFiktion.vert', '/content/specialised-corpora-s05-cVertSC/cFiktion.vert', DCorrectionsLem2, DCorrectionsPoS2)\n",
        "reportStatistics(TupleStatF2)\n",
        "printFrqDict(DReplacementsF2, '/content/specialised-corpora-s05-cVertSC/cFiktion-replacements.txt')\n"
      ],
      "metadata": {
        "colab": {
          "base_uri": "https://localhost:8080/"
        },
        "id": "N31zApkN4mWT",
        "outputId": "2c020842-ea51-4c6b-e515-814b10ae781f"
      },
      "execution_count": 62,
      "outputs": [
        {
          "output_type": "stream",
          "name": "stdout",
          "text": [
            "\n",
            "All words:747302, Unknown:125356, UnknownCorrected:12090(9.644532371805099%), UnknownTypesCorrected:1827, UnknownPoSCorrected:3820\n",
            "\n",
            "Unknown before update:125356(16.774476717578704)%; Unknown after update:113266(15.156656880350916)%; Change:12090(1.6178198372277879)%\n"
          ]
        }
      ]
    },
    {
      "cell_type": "code",
      "source": [
        "TupleStatN2, DReplacementsN2 = applyCorrections('/content/specialised-corpora-s03-cVert/cNaturwissenschaft.vert', '/content/specialised-corpora-s05-cVertSC/cNaturwissenschaft.vert', DCorrectionsLem2, DCorrectionsPoS2)\n",
        "reportStatistics(TupleStatN2)\n",
        "printFrqDict(DReplacementsN2, '/content/specialised-corpora-s05-cVertSC/cNaturwissenschaft-replacements.txt')"
      ],
      "metadata": {
        "colab": {
          "base_uri": "https://localhost:8080/"
        },
        "id": "qVKWmGgz6ZPj",
        "outputId": "48b702b1-df35-46c1-a6de-e598b8261d47"
      },
      "execution_count": 63,
      "outputs": [
        {
          "output_type": "stream",
          "name": "stdout",
          "text": [
            "\n",
            "All words:638588, Unknown:114153, UnknownCorrected:15387(13.47927781135844%), UnknownTypesCorrected:2283, UnknownPoSCorrected:4092\n",
            "\n",
            "Unknown before update:114153(17.87584483266206)%; Unknown after update:98766(15.46631004654018)%; Change:15387(2.4095347861218808)%\n"
          ]
        }
      ]
    },
    {
      "cell_type": "code",
      "source": [
        "TupleStatR2, DReplacementsR2 = applyCorrections('/content/specialised-corpora-s03-cVert/cRechtswissenschaft.vert', '/content/specialised-corpora-s05-cVertSC/cRechtswissenschaft.vert', DCorrectionsLem2, DCorrectionsPoS2)\n",
        "reportStatistics(TupleStatR2)\n",
        "printFrqDict(DReplacementsR2, '/content/specialised-corpora-s05-cVertSC/cRechtswissenschaft-replacements.txt')"
      ],
      "metadata": {
        "colab": {
          "base_uri": "https://localhost:8080/"
        },
        "id": "LAHTEszN6L1R",
        "outputId": "aa9675ea-d673-4fe7-c0cb-37a8b9940b6a"
      },
      "execution_count": 64,
      "outputs": [
        {
          "output_type": "stream",
          "name": "stdout",
          "text": [
            "1000000, unknownFound=183434, unknownCorrected=20257(11.043209001602756%), unknownTypesCorrected=1644, unknownCorrectedPoS=7319\n",
            "\n",
            "All words:1181412, Unknown:219306, UnknownCorrected:23489(10.710605272997546%), UnknownTypesCorrected:1802, UnknownPoSCorrected:8291\n",
            "\n",
            "Unknown before update:219306(18.563041513036943)%; Unknown after update:195817(16.574827409912885)%; Change:23489(1.9882141031240586)%\n"
          ]
        }
      ]
    },
    {
      "cell_type": "markdown",
      "source": [
        "### Generating subsets for each specialized corpus for applying corrections\n"
      ],
      "metadata": {
        "id": "_OReEQIgB7oa"
      }
    },
    {
      "cell_type": "code",
      "source": [
        "!mkdir specialised-corpora-s06-cVertSC-unknown"
      ],
      "metadata": {
        "id": "bQBTz3oaCD4v"
      },
      "execution_count": 65,
      "outputs": []
    },
    {
      "cell_type": "code",
      "source": [
        "!awk -F '\\t' '($3==\"<unknown>\"){j++; printf \"%s\\n\", $0} END{print j+0  > \"/dev/stderr\" }' </content/specialised-corpora-s05-cVertSC/cFiktion.vert >/content/specialised-corpora-s06-cVertSC-unknown/cFiktion.vert\n",
        "!awk -F '\\t' '($3==\"<unknown>\"){j++; printf \"%s\\n\", $0} END{print j+0  > \"/dev/stderr\" }' </content/specialised-corpora-s05-cVertSC/cNaturwissenschaft.vert >/content/specialised-corpora-s06-cVertSC-unknown/cNaturwissenschaft.vert\n",
        "!awk -F '\\t' '($3==\"<unknown>\"){j++; printf \"%s\\n\", $0} END{print j+0  > \"/dev/stderr\" }' </content/specialised-corpora-s05-cVertSC/cRechtswissenschaft.vert >/content/specialised-corpora-s06-cVertSC-unknown/cRechtswissenschaft.vert"
      ],
      "metadata": {
        "colab": {
          "base_uri": "https://localhost:8080/"
        },
        "id": "IIRjE09_IC4-",
        "outputId": "d10d7603-81c3-4d39-8ade-cc41dbc14cd2"
      },
      "execution_count": 66,
      "outputs": [
        {
          "output_type": "stream",
          "name": "stdout",
          "text": [
            "113266\n",
            "98766\n",
            "195817\n"
          ]
        }
      ]
    },
    {
      "cell_type": "code",
      "source": [
        "DFrqFiktion3 = corp2frqDict('/content/specialised-corpora-s06-cVertSC-unknown/cFiktion.vert')\n",
        "DFrqNaturwissenschaft3 = corp2frqDict('/content/specialised-corpora-s06-cVertSC-unknown/cNaturwissenschaft.vert')\n",
        "DFrqRechtswissenschaft3 = corp2frqDict('/content/specialised-corpora-s06-cVertSC-unknown/cRechtswissenschaft.vert')\n"
      ],
      "metadata": {
        "id": "cIs67a-LI9xa"
      },
      "execution_count": 67,
      "outputs": []
    },
    {
      "cell_type": "code",
      "source": [
        "printFrqDict(DFrqFiktion3, '/content/specialised-corpora-s06-cVertSC-unknown/cFiktion-freq.txt')\n",
        "printFrqDict(DFrqNaturwissenschaft3, '/content/specialised-corpora-s06-cVertSC-unknown/cNaturwissenschaft-freq.txt')\n",
        "printFrqDict(DFrqRechtswissenschaft3, '/content/specialised-corpora-s06-cVertSC-unknown/cRechtswissenschaft-freq.txt')\n"
      ],
      "metadata": {
        "id": "3WqpbQO8Jm14"
      },
      "execution_count": 68,
      "outputs": []
    },
    {
      "cell_type": "markdown",
      "source": [
        "### Files to download:\n",
        "link: https://heibox.uni-heidelberg.de/d/d588bccab64348a399d4/\n",
        "\n",
        "#### then open the notebook S101lemKA_own_correct_v02.ipynb on:\n",
        "https://github.com/iued-uni-heidelberg/corpustools/blob/main/S101lemKA_own_correct_v02.ipynb\n"
      ],
      "metadata": {
        "id": "E4xEl6Wy0Phn"
      }
    },
    {
      "cell_type": "code",
      "source": [
        "# S101lemKA_own_correct_v02.ipynb"
      ],
      "metadata": {
        "id": "6cOMLsKO0Ojd"
      },
      "execution_count": null,
      "outputs": []
    },
    {
      "cell_type": "markdown",
      "source": [
        "## end: Specialised corpora"
      ],
      "metadata": {
        "id": "TunvYy99wX1b"
      }
    },
    {
      "cell_type": "markdown",
      "source": [
        "## Preparing datasets from further improvement\n",
        "- what is still `unknown'\n"
      ],
      "metadata": {
        "id": "KI8KmYyG7jrl"
      }
    },
    {
      "cell_type": "code",
      "source": [
        "!head -n 50 georgianrandom02-unknown.txt\n"
      ],
      "metadata": {
        "id": "BCI07VWFzfFl"
      },
      "execution_count": null,
      "outputs": []
    },
    {
      "cell_type": "code",
      "source": [
        "!tail -n 20 georgianrandom02-unknown.txt"
      ],
      "metadata": {
        "id": "aMchEKhFpDnp"
      },
      "execution_count": null,
      "outputs": []
    },
    {
      "cell_type": "code",
      "source": [
        "D = {}\n",
        "with open(\"georgianrandom02-unknown.txt\", 'r') as f:\n",
        "    for line in f:\n",
        "        line = line.rstrip()\n",
        "        try:\n",
        "            D[line] +=1\n",
        "        except:\n",
        "            D[line] = 1\n",
        "\n",
        "fo = open(\"georgianrandom02-unknown-frq.txt\", 'w')\n",
        "ICorpusLen = 11301824\n",
        "IUnknown = 2123093\n",
        "FCoverage = IUnknown/ICorpusLen\n",
        "print('percent Unknown TT: ', FCoverage)\n",
        "IRestUnknown = IUnknown\n",
        "c = 0\n",
        "for key, val in sorted(D.items(), key=lambda item: item[1], reverse=True):\n",
        "    c+=1\n",
        "    IRestUnknown = IRestUnknown - val\n",
        "    FRestCoverage = IRestUnknown/ICorpusLen\n",
        "    fo.write(str(c) + '\\t' + key + '\\t' + str(val) + '\\t' + str(FRestCoverage) + '\\n')\n",
        "    "
      ],
      "metadata": {
        "id": "B9wEuRC_VqnA",
        "colab": {
          "base_uri": "https://localhost:8080/"
        },
        "outputId": "15e2f4b1-59b0-4a3a-8740-2d31e537a15d"
      },
      "execution_count": null,
      "outputs": [
        {
          "output_type": "stream",
          "name": "stdout",
          "text": [
            "percent Unknown TT:  0.18785401365301743\n"
          ]
        }
      ]
    },
    {
      "cell_type": "code",
      "source": [
        "!head -n 50 georgianrandom02-unknown-frq.txt"
      ],
      "metadata": {
        "id": "Xg0XvzqhnAk8"
      },
      "execution_count": null,
      "outputs": []
    },
    {
      "cell_type": "markdown",
      "source": [
        "## Selecting 3 sets of 1k words for correction (random corpus)\n",
        "\n"
      ],
      "metadata": {
        "id": "YpkE6ncYxIa-"
      }
    },
    {
      "cell_type": "code",
      "source": [
        "import sys, os, re\n",
        "\n",
        "FOut1 = open('georgianrandom02-unknown-frq-p1of3.txt', 'w')\n",
        "FOut2 = open('georgianrandom02-unknown-frq-p2of3.txt', 'w')\n",
        "FOut3 = open('georgianrandom02-unknown-frq-p3of3.txt', 'w')\n",
        "c = 0\n",
        "ICorpusLen = 11301824\n",
        "IUnknown = 2123093\n",
        "IRestUnknown = IUnknown\n",
        "for key, val in sorted(D.items(), key=lambda item: item[1], reverse=True):\n",
        "    c+=1\n",
        "    IRestUnknown = IRestUnknown - val\n",
        "    FRestCoverage = IRestUnknown/ICorpusLen\n",
        "    if(c + 2) % 3 == 0:\n",
        "        FOut1.write(str(c) + '\\t' + key + '\\t' + str(val) + '\\t' + str(FRestCoverage) + '\\n')\n",
        "    elif(c + 1) % 3 == 0:\n",
        "        FOut2.write(str(c) + '\\t' + key + '\\t' + str(val) + '\\t' + str(FRestCoverage) + '\\n')\n",
        "    elif c % 3 == 0:\n",
        "        FOut3.write(str(c) + '\\t' + key + '\\t' + str(val) + '\\t' + str(FRestCoverage) + '\\n')\n",
        "    else:\n",
        "        sys.stdout.write('error: \\t' + str(c) + '\\t' + key + '\\t' + str(val) + '\\t' + str(FRestCoverage) + '\\n')"
      ],
      "metadata": {
        "id": "yjq68GCBybAN"
      },
      "execution_count": null,
      "outputs": []
    },
    {
      "cell_type": "markdown",
      "source": [
        "## GIP DAAD corpus\n",
        "### checking coverage"
      ],
      "metadata": {
        "id": "KVkaCpu7Q_80"
      }
    },
    {
      "cell_type": "code",
      "source": [
        "!wget https://heibox.uni-heidelberg.de/f/1981a35452db40c583c0/?dl=1\n",
        "!mv index.html?dl=1 select-kat.tgz"
      ],
      "metadata": {
        "id": "gxsa46aHRHKp"
      },
      "execution_count": null,
      "outputs": []
    },
    {
      "cell_type": "code",
      "source": [
        "!tar xvzf select-kat.tgz"
      ],
      "metadata": {
        "id": "dIwHfbwYS2jF"
      },
      "execution_count": null,
      "outputs": []
    },
    {
      "cell_type": "code",
      "source": [
        "import os\n",
        "FOut = open('georgian-corp-gip-v01.txt', 'w')\n",
        "for root, dirs, files in os.walk(\"./select-kat\"):\n",
        "    path = root.split(os.sep)\n",
        "    print((len(path) - 1) * '---', os.path.basename(root))\n",
        "    for file in files:\n",
        "        print(len(path) * '---', file)\n",
        "        FOut.write('<doc filename=\"' + file + '\">\\n')\n",
        "        SFilePath = os.path.join(root,file)\n",
        "        FIn = open(SFilePath, 'r')\n",
        "        SIn = FIn.read()\n",
        "        FOut.write(SIn)\n",
        "        FOut.write('</doc>\\n\\n')\n",
        "\n",
        "FOut.flush()\n",
        "FOut.close()\n",
        "\n"
      ],
      "metadata": {
        "id": "d4FnEqEdTNpA"
      },
      "execution_count": null,
      "outputs": []
    },
    {
      "cell_type": "code",
      "source": [
        "!wc georgian-corp-gip-v01.txt"
      ],
      "metadata": {
        "colab": {
          "base_uri": "https://localhost:8080/"
        },
        "id": "ENo0vAecc5tp",
        "outputId": "5196db4d-8714-4dc1-d6d4-7311bf92ae8a"
      },
      "execution_count": null,
      "outputs": [
        {
          "output_type": "stream",
          "name": "stdout",
          "text": [
            "   44448   892632 19802190 georgian-corp-gip-v01.txt\n"
          ]
        }
      ]
    },
    {
      "cell_type": "code",
      "source": [
        "!./treetagger/cmd/tree-tagger-georgian georgian-corp-gip-v01.txt >georgian-corp-gip-v01.vert"
      ],
      "metadata": {
        "colab": {
          "base_uri": "https://localhost:8080/"
        },
        "id": "rsIotAd-Xcj0",
        "outputId": "f80866d4-607e-4eac-d6ec-02178bfcb7a0"
      },
      "execution_count": null,
      "outputs": [
        {
          "output_type": "stream",
          "name": "stdout",
          "text": [
            "\treading parameters ...\n",
            "\ttagging ...\n",
            "1086000\t finished.\n"
          ]
        }
      ]
    },
    {
      "cell_type": "code",
      "source": [
        "!wc georgian-corp-gip-v01.vert"
      ],
      "metadata": {
        "colab": {
          "base_uri": "https://localhost:8080/"
        },
        "id": "-eQMPjpfcRE0",
        "outputId": "d02c02a7-22e0-4656-c9a9-5be596d9e25d"
      },
      "execution_count": null,
      "outputs": [
        {
          "output_type": "stream",
          "name": "stdout",
          "text": [
            " 1086727  3260172 40704147 georgian-corp-gip-v01.vert\n"
          ]
        }
      ]
    },
    {
      "cell_type": "code",
      "source": [
        "!awk -F '\\t' '($3==\"<unknown>\"){j++; printf \"%s\\n\", $0} END{print j+0  > \"/dev/stderr\" }' <georgian-corp-gip-v01.vert >georgian-corp-gip-v01-unknown.txt"
      ],
      "metadata": {
        "colab": {
          "base_uri": "https://localhost:8080/"
        },
        "id": "GvZBzFWoYEmB",
        "outputId": "d1d1bf68-5ec8-4670-ad17-d4328778e03c"
      },
      "execution_count": null,
      "outputs": [
        {
          "output_type": "stream",
          "name": "stdout",
          "text": [
            "222297\n"
          ]
        }
      ]
    },
    {
      "cell_type": "code",
      "source": [
        "ICorpusLen = 1086727\n",
        "IUnknown = 222297\n",
        "FCoverage = IUnknown/ICorpusLen\n",
        "print('percent Unknown TT: ', FCoverage)"
      ],
      "metadata": {
        "colab": {
          "base_uri": "https://localhost:8080/"
        },
        "id": "JBCb8V-jcwJn",
        "outputId": "c8f79775-84d4-445f-efe6-1947fab53f82"
      },
      "execution_count": null,
      "outputs": [
        {
          "output_type": "stream",
          "name": "stdout",
          "text": [
            "percent Unknown TT:  0.2045564341366323\n"
          ]
        }
      ]
    },
    {
      "cell_type": "code",
      "source": [
        "E = {}\n",
        "with open(\"georgian-corp-gip-v01-unknown.txt\", 'r') as f:\n",
        "    for line in f:\n",
        "        line = line.rstrip()\n",
        "        try:\n",
        "            E[line] +=1\n",
        "        except:\n",
        "            E[line] = 1"
      ],
      "metadata": {
        "id": "JMxJWk_0bYdR"
      },
      "execution_count": null,
      "outputs": []
    },
    {
      "cell_type": "code",
      "source": [
        "## checking coverage on georgianrandom02 corpus\n",
        "IRestUnknown = IUnknown\n",
        "c = 0\n",
        "CFound = 0\n",
        "fo = open(\"georgian-corp-gip-v01-unknown-from-georgianrandom02-frq.txt\", 'w')\n",
        "for key, val in sorted(D.items(), key=lambda item: item[1], reverse=True):\n",
        "    c+=1\n",
        "    BFound = False\n",
        "    try: \n",
        "        val2 = E[key]\n",
        "        BFound = True\n",
        "        CFound += 1\n",
        "    except:\n",
        "        val2 = 0\n",
        "\n",
        "    IRestUnknown = IRestUnknown - val2\n",
        "    FRestCoverage = IRestUnknown/ICorpusLen\n",
        "    fo.write(str(c) + '\\t' + key + '\\t' + str(val) + '\\t' + str(BFound) + '\\t' + str(CFound) + '\\t' + str(FRestCoverage) + '\\n')\n"
      ],
      "metadata": {
        "id": "bR6f-KCKb2yC"
      },
      "execution_count": null,
      "outputs": []
    },
    {
      "cell_type": "markdown",
      "source": [
        "\n",
        "# Optional dataset (not used)\n",
        "## Example: Universal declaration of human rights ("
      ],
      "metadata": {
        "id": "frfVA5xCqVyL"
      }
    },
    {
      "cell_type": "code",
      "execution_count": null,
      "metadata": {
        "id": "bVq5Aeajp-LR"
      },
      "outputs": [],
      "source": [
        "# Downloading UDHR\n",
        "!wget https://unicode.org/udhr/assemblies/udhr_txt.zip\n"
      ]
    },
    {
      "cell_type": "code",
      "source": [
        "%%bash\n",
        "mkdir udhr\n",
        "mv udhr_txt.zip udhr\n",
        "cd udhr/\n",
        "unzip udhr_txt.zip"
      ],
      "metadata": {
        "id": "CoPrEtv3q56L"
      },
      "execution_count": null,
      "outputs": []
    },
    {
      "cell_type": "code",
      "source": [
        "%%bash\n",
        "# put paragraph tags\n",
        "awk '{print \"<p>\\n\"$0 ; print \"</p>\"}' /content/udhr/udhr_kat.txt >/content/udhr/udhr_kat_v02.txt"
      ],
      "metadata": {
        "id": "bH9cbpC6xUSB"
      },
      "execution_count": null,
      "outputs": []
    }
  ]
}